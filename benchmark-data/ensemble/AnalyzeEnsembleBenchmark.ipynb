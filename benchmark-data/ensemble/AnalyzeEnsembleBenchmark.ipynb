{
 "cells": [
  {
   "cell_type": "code",
   "execution_count": 16,
   "id": "6da66f84",
   "metadata": {},
   "outputs": [],
   "source": [
    "import os\n",
    "import pandas as pd\n",
    "from rdkit import Chem\n",
    "from pathlib import Path \n"
   ]
  },
  {
   "cell_type": "markdown",
   "id": "89977df8",
   "metadata": {},
   "source": [
    "## Benchmark meta dataset\n",
    "\n",
    "CDK2 highly flexible kinase and a major cancer target.\n",
    "Related dataset with the ensemble of five representative conformations in the ensemble.\n",
    "\n",
    "\n",
    "Ensemble:\n",
    "- 2R64 CDK2 in complex with an inhibitor (A-loop flexible, no cyclin)\n",
    "- 2R3K CDK2 in complex with an inhibitor (A-loop flexible, no cyclin)\n",
    "- 3BHV CDK2 in complex with an inhibitor (A-loop out, with cyclin)\n",
    "- 3BHU CDK2 in complex with an inhibitor (A-loop out, with cyclin)\n",
    "- 8FP5 CDK2 in complex with ATP (A-loop in, no cyclin)"
   ]
  },
  {
   "cell_type": "code",
   "execution_count": 17,
   "id": "32d24c6f",
   "metadata": {},
   "outputs": [],
   "source": [
    "receptor_categories = {\n",
    "    \"8fp5_receptor_aligned\": 0,\n",
    "    \"2r64_receptor_aligned\": 0,\n",
    "    \"2r3k_receptor_aligned\": 0,\n",
    "    \"3bhu_receptor_aligned\": 1,\n",
    "    \"3bhv_receptor_aligned\": 1,\n",
    "}\n",
    "\n",
    "ligand_categories = {\n",
    "    \"A-loop in, with cyclin\": 0,\n",
    "    \"A-loop in, no cyclin\": 0,\n",
    "    \"A-loop in, no cyclin\": 0,\n",
    "    \"A-loop flex, no cyclin\": 1,\n",
    "    \"A-loop out, with cyclin\": 1\n",
    "}"
   ]
  },
  {
   "cell_type": "code",
   "execution_count": 18,
   "id": "a0ab3736",
   "metadata": {},
   "outputs": [],
   "source": [
    "full_dataset = pd.read_csv(\"./CDK2/CDK2_selected_ligands.csv\")"
   ]
  },
  {
   "cell_type": "code",
   "execution_count": 19,
   "id": "a1731e0f",
   "metadata": {},
   "outputs": [],
   "source": [
    "full_dataset[\"ligand_category\"] = full_dataset[\"comment\"].apply(lambda x: ligand_categories[x])"
   ]
  },
  {
   "cell_type": "code",
   "execution_count": 20,
   "id": "0b2c8a46",
   "metadata": {},
   "outputs": [
    {
     "data": {
      "text/html": [
       "<div>\n",
       "<style scoped>\n",
       "    .dataframe tbody tr th:only-of-type {\n",
       "        vertical-align: middle;\n",
       "    }\n",
       "\n",
       "    .dataframe tbody tr th {\n",
       "        vertical-align: top;\n",
       "    }\n",
       "\n",
       "    .dataframe thead th {\n",
       "        text-align: right;\n",
       "    }\n",
       "</style>\n",
       "<table border=\"1\" class=\"dataframe\">\n",
       "  <thead>\n",
       "    <tr style=\"text-align: right;\">\n",
       "      <th></th>\n",
       "      <th>pdb_id</th>\n",
       "      <th>ligands</th>\n",
       "      <th>rot_bonds</th>\n",
       "      <th>n_atoms</th>\n",
       "      <th>comment</th>\n",
       "      <th>ligand_category</th>\n",
       "    </tr>\n",
       "  </thead>\n",
       "  <tbody>\n",
       "    <tr>\n",
       "      <th>0</th>\n",
       "      <td>2G9X</td>\n",
       "      <td>NU5</td>\n",
       "      <td>12</td>\n",
       "      <td>34</td>\n",
       "      <td>A-loop in, with cyclin</td>\n",
       "      <td>0</td>\n",
       "    </tr>\n",
       "    <tr>\n",
       "      <th>1</th>\n",
       "      <td>3ROY</td>\n",
       "      <td>22Z</td>\n",
       "      <td>11</td>\n",
       "      <td>27</td>\n",
       "      <td>A-loop in, no cyclin</td>\n",
       "      <td>0</td>\n",
       "    </tr>\n",
       "    <tr>\n",
       "      <th>2</th>\n",
       "      <td>3R71</td>\n",
       "      <td>X86</td>\n",
       "      <td>10</td>\n",
       "      <td>26</td>\n",
       "      <td>A-loop in, no cyclin</td>\n",
       "      <td>0</td>\n",
       "    </tr>\n",
       "    <tr>\n",
       "      <th>3</th>\n",
       "      <td>1H07</td>\n",
       "      <td>MFQ</td>\n",
       "      <td>10</td>\n",
       "      <td>33</td>\n",
       "      <td>A-loop in, no cyclin</td>\n",
       "      <td>0</td>\n",
       "    </tr>\n",
       "    <tr>\n",
       "      <th>4</th>\n",
       "      <td>6RIJ</td>\n",
       "      <td>K4W</td>\n",
       "      <td>10</td>\n",
       "      <td>27</td>\n",
       "      <td>A-loop in, with cyclin</td>\n",
       "      <td>0</td>\n",
       "    </tr>\n",
       "    <tr>\n",
       "      <th>5</th>\n",
       "      <td>2IW6</td>\n",
       "      <td>QQ2</td>\n",
       "      <td>10</td>\n",
       "      <td>33</td>\n",
       "      <td>A-loop out, with cyclin</td>\n",
       "      <td>1</td>\n",
       "    </tr>\n",
       "    <tr>\n",
       "      <th>6</th>\n",
       "      <td>6INL</td>\n",
       "      <td>AJR</td>\n",
       "      <td>10</td>\n",
       "      <td>29</td>\n",
       "      <td>A-loop flex, no cyclin</td>\n",
       "      <td>1</td>\n",
       "    </tr>\n",
       "    <tr>\n",
       "      <th>7</th>\n",
       "      <td>3RAI</td>\n",
       "      <td>X85</td>\n",
       "      <td>10</td>\n",
       "      <td>30</td>\n",
       "      <td>A-loop in, no cyclin</td>\n",
       "      <td>0</td>\n",
       "    </tr>\n",
       "    <tr>\n",
       "      <th>8</th>\n",
       "      <td>3RPO</td>\n",
       "      <td>24Z</td>\n",
       "      <td>10</td>\n",
       "      <td>27</td>\n",
       "      <td>A-loop in, no cyclin</td>\n",
       "      <td>0</td>\n",
       "    </tr>\n",
       "    <tr>\n",
       "      <th>9</th>\n",
       "      <td>1H07</td>\n",
       "      <td>MFP</td>\n",
       "      <td>10</td>\n",
       "      <td>33</td>\n",
       "      <td>A-loop in, no cyclin</td>\n",
       "      <td>0</td>\n",
       "    </tr>\n",
       "    <tr>\n",
       "      <th>10</th>\n",
       "      <td>3EID</td>\n",
       "      <td>PO5</td>\n",
       "      <td>9</td>\n",
       "      <td>36</td>\n",
       "      <td>A-loop out, with cyclin</td>\n",
       "      <td>1</td>\n",
       "    </tr>\n",
       "    <tr>\n",
       "      <th>11</th>\n",
       "      <td>3DDP</td>\n",
       "      <td>RC8</td>\n",
       "      <td>9</td>\n",
       "      <td>32</td>\n",
       "      <td>A-loop out, with cyclin</td>\n",
       "      <td>1</td>\n",
       "    </tr>\n",
       "    <tr>\n",
       "      <th>12</th>\n",
       "      <td>1H08</td>\n",
       "      <td>BYP</td>\n",
       "      <td>9</td>\n",
       "      <td>29</td>\n",
       "      <td>A-loop in, no cyclin</td>\n",
       "      <td>0</td>\n",
       "    </tr>\n",
       "    <tr>\n",
       "      <th>13</th>\n",
       "      <td>1H00</td>\n",
       "      <td>FCP</td>\n",
       "      <td>9</td>\n",
       "      <td>30</td>\n",
       "      <td>A-loop flex, no cyclin</td>\n",
       "      <td>1</td>\n",
       "    </tr>\n",
       "    <tr>\n",
       "      <th>14</th>\n",
       "      <td>1H00</td>\n",
       "      <td>FAP</td>\n",
       "      <td>9</td>\n",
       "      <td>30</td>\n",
       "      <td>A-loop flex, no cyclin</td>\n",
       "      <td>1</td>\n",
       "    </tr>\n",
       "    <tr>\n",
       "      <th>15</th>\n",
       "      <td>3R73</td>\n",
       "      <td>X87</td>\n",
       "      <td>9</td>\n",
       "      <td>25</td>\n",
       "      <td>A-loop in, no cyclin</td>\n",
       "      <td>0</td>\n",
       "    </tr>\n",
       "    <tr>\n",
       "      <th>16</th>\n",
       "      <td>1H01</td>\n",
       "      <td>FAL</td>\n",
       "      <td>9</td>\n",
       "      <td>30</td>\n",
       "      <td>A-loop in, no cyclin</td>\n",
       "      <td>0</td>\n",
       "    </tr>\n",
       "    <tr>\n",
       "      <th>17</th>\n",
       "      <td>1H01</td>\n",
       "      <td>FBL</td>\n",
       "      <td>9</td>\n",
       "      <td>30</td>\n",
       "      <td>A-loop in, no cyclin</td>\n",
       "      <td>0</td>\n",
       "    </tr>\n",
       "    <tr>\n",
       "      <th>18</th>\n",
       "      <td>3ULI</td>\n",
       "      <td>1N3</td>\n",
       "      <td>9</td>\n",
       "      <td>30</td>\n",
       "      <td>A-loop in, no cyclin</td>\n",
       "      <td>0</td>\n",
       "    </tr>\n",
       "    <tr>\n",
       "      <th>19</th>\n",
       "      <td>3NS9</td>\n",
       "      <td>NS9</td>\n",
       "      <td>9</td>\n",
       "      <td>28</td>\n",
       "      <td>A-loop in, no cyclin</td>\n",
       "      <td>0</td>\n",
       "    </tr>\n",
       "    <tr>\n",
       "      <th>20</th>\n",
       "      <td>2W05</td>\n",
       "      <td>FRT</td>\n",
       "      <td>9</td>\n",
       "      <td>30</td>\n",
       "      <td>A-loop flex, no cyclin</td>\n",
       "      <td>1</td>\n",
       "    </tr>\n",
       "    <tr>\n",
       "      <th>21</th>\n",
       "      <td>1V1K</td>\n",
       "      <td>3FP</td>\n",
       "      <td>9</td>\n",
       "      <td>33</td>\n",
       "      <td>A-loop flex, no cyclin</td>\n",
       "      <td>1</td>\n",
       "    </tr>\n",
       "    <tr>\n",
       "      <th>22</th>\n",
       "      <td>1URW</td>\n",
       "      <td>I1P</td>\n",
       "      <td>9</td>\n",
       "      <td>32</td>\n",
       "      <td>A-loop flex, no cyclin</td>\n",
       "      <td>1</td>\n",
       "    </tr>\n",
       "  </tbody>\n",
       "</table>\n",
       "</div>"
      ],
      "text/plain": [
       "   pdb_id ligands  rot_bonds  n_atoms                  comment  \\\n",
       "0    2G9X     NU5         12       34   A-loop in, with cyclin   \n",
       "1    3ROY     22Z         11       27     A-loop in, no cyclin   \n",
       "2    3R71     X86         10       26     A-loop in, no cyclin   \n",
       "3    1H07     MFQ         10       33     A-loop in, no cyclin   \n",
       "4    6RIJ     K4W         10       27   A-loop in, with cyclin   \n",
       "5    2IW6     QQ2         10       33  A-loop out, with cyclin   \n",
       "6    6INL     AJR         10       29   A-loop flex, no cyclin   \n",
       "7    3RAI     X85         10       30     A-loop in, no cyclin   \n",
       "8    3RPO     24Z         10       27     A-loop in, no cyclin   \n",
       "9    1H07     MFP         10       33     A-loop in, no cyclin   \n",
       "10   3EID     PO5          9       36  A-loop out, with cyclin   \n",
       "11   3DDP     RC8          9       32  A-loop out, with cyclin   \n",
       "12   1H08     BYP          9       29     A-loop in, no cyclin   \n",
       "13   1H00     FCP          9       30   A-loop flex, no cyclin   \n",
       "14   1H00     FAP          9       30   A-loop flex, no cyclin   \n",
       "15   3R73     X87          9       25     A-loop in, no cyclin   \n",
       "16   1H01     FAL          9       30     A-loop in, no cyclin   \n",
       "17   1H01     FBL          9       30     A-loop in, no cyclin   \n",
       "18   3ULI     1N3          9       30     A-loop in, no cyclin   \n",
       "19   3NS9     NS9          9       28     A-loop in, no cyclin   \n",
       "20   2W05     FRT          9       30   A-loop flex, no cyclin   \n",
       "21   1V1K     3FP          9       33   A-loop flex, no cyclin   \n",
       "22   1URW     I1P          9       32   A-loop flex, no cyclin   \n",
       "\n",
       "    ligand_category  \n",
       "0                 0  \n",
       "1                 0  \n",
       "2                 0  \n",
       "3                 0  \n",
       "4                 0  \n",
       "5                 1  \n",
       "6                 1  \n",
       "7                 0  \n",
       "8                 0  \n",
       "9                 0  \n",
       "10                1  \n",
       "11                1  \n",
       "12                0  \n",
       "13                1  \n",
       "14                1  \n",
       "15                0  \n",
       "16                0  \n",
       "17                0  \n",
       "18                0  \n",
       "19                0  \n",
       "20                1  \n",
       "21                1  \n",
       "22                1  "
      ]
     },
     "execution_count": 20,
     "metadata": {},
     "output_type": "execute_result"
    }
   ],
   "source": [
    "full_dataset = full_dataset[[\"pdb_id\", \"ligands\", \"rot_bonds\", \"n_atoms\", \"comment\", \"ligand_category\"]]\n",
    "full_dataset"
   ]
  },
  {
   "cell_type": "code",
   "execution_count": 21,
   "id": "f9271ae6",
   "metadata": {},
   "outputs": [
    {
     "name": "stdout",
     "output_type": "stream",
     "text": [
      "21\n"
     ]
    }
   ],
   "source": [
    "import glob \n",
    "# find the ligands for which we have results\n",
    "ens_res_list = []\n",
    "resuls_pd = None\n",
    "for i, row in full_dataset.iterrows():\n",
    "    pdb_id = row[\"pdb_id\"]\n",
    "    pdb_id_l = pdb_id.lower()\n",
    "    data_dir = Path(\"./CDK2/ligands/{}\".format(pdb_id_l))\n",
    "    if data_dir.exists():\n",
    "        ligands_in_dir = glob.glob(str(data_dir / \"{}_ligand*.mol2\".format(pdb_id_l)))\n",
    "        for ligand in ligands_in_dir:\n",
    "            lig_name = Path(ligand).stem\n",
    "            output_dir = \"../../benchmark-ens-results/{}/\".format(lig_name)\n",
    "            results_file = Path(output_dir) / \"analysis/results.csv\"\n",
    "            if results_file.exists():\n",
    "                ens_res_list.append(lig_name) \n",
    "                if resuls_pd is None:\n",
    "                    resuls_pd = pd.read_csv(results_file)\n",
    "                    resuls_pd[\"ligand_name\"] = [lig_name for i in range(resuls_pd.shape[0])]\n",
    "                else:\n",
    "                    tmp = pd.read_csv(results_file)\n",
    "                    tmp[\"ligand_name\"] = [lig_name for i in range(tmp.shape[0])]\n",
    "                    resuls_pd = pd.concat([resuls_pd, tmp])\n",
    "print(len(ens_res_list))\n"
   ]
  },
  {
   "cell_type": "code",
   "execution_count": 22,
   "id": "b3bf2d7f",
   "metadata": {},
   "outputs": [
    {
     "data": {
      "text/html": [
       "<div>\n",
       "<style scoped>\n",
       "    .dataframe tbody tr th:only-of-type {\n",
       "        vertical-align: middle;\n",
       "    }\n",
       "\n",
       "    .dataframe tbody tr th {\n",
       "        vertical-align: top;\n",
       "    }\n",
       "\n",
       "    .dataframe thead th {\n",
       "        text-align: right;\n",
       "    }\n",
       "</style>\n",
       "<table border=\"1\" class=\"dataframe\">\n",
       "  <thead>\n",
       "    <tr style=\"text-align: right;\">\n",
       "      <th></th>\n",
       "      <th>Unnamed: 0.2</th>\n",
       "      <th>Unnamed: 0.1</th>\n",
       "      <th>energies</th>\n",
       "      <th>rmsds</th>\n",
       "      <th>model_id</th>\n",
       "      <th>replica_id</th>\n",
       "      <th>receptor_id</th>\n",
       "      <th>fragment_id</th>\n",
       "      <th>thread_id</th>\n",
       "      <th>Unnamed: 0</th>\n",
       "      <th>job_id</th>\n",
       "      <th>ligand_name</th>\n",
       "    </tr>\n",
       "  </thead>\n",
       "  <tbody>\n",
       "    <tr>\n",
       "      <th>46</th>\n",
       "      <td>46</td>\n",
       "      <td>2</td>\n",
       "      <td>-8.984</td>\n",
       "      <td>1.571993</td>\n",
       "      <td>0.0</td>\n",
       "      <td>3.0</td>\n",
       "      <td>8fp5_receptor_aligned</td>\n",
       "      <td>2.0</td>\n",
       "      <td>3.0</td>\n",
       "      <td>0.0</td>\n",
       "      <td>job_8fp5_receptor_aligned_6inl_ligand</td>\n",
       "      <td>6inl_ligand</td>\n",
       "    </tr>\n",
       "    <tr>\n",
       "      <th>45</th>\n",
       "      <td>45</td>\n",
       "      <td>2</td>\n",
       "      <td>-8.984</td>\n",
       "      <td>1.571993</td>\n",
       "      <td>0.0</td>\n",
       "      <td>3.0</td>\n",
       "      <td>8fp5_receptor_aligned</td>\n",
       "      <td>2.0</td>\n",
       "      <td>3.0</td>\n",
       "      <td>0.0</td>\n",
       "      <td>job_8fp5_receptor_aligned_6inl_ligand</td>\n",
       "      <td>6inl_ligand</td>\n",
       "    </tr>\n",
       "    <tr>\n",
       "      <th>44</th>\n",
       "      <td>44</td>\n",
       "      <td>2</td>\n",
       "      <td>-8.984</td>\n",
       "      <td>1.571993</td>\n",
       "      <td>0.0</td>\n",
       "      <td>3.0</td>\n",
       "      <td>8fp5_receptor_aligned</td>\n",
       "      <td>2.0</td>\n",
       "      <td>3.0</td>\n",
       "      <td>0.0</td>\n",
       "      <td>job_8fp5_receptor_aligned_6inl_ligand</td>\n",
       "      <td>6inl_ligand</td>\n",
       "    </tr>\n",
       "    <tr>\n",
       "      <th>47</th>\n",
       "      <td>47</td>\n",
       "      <td>2</td>\n",
       "      <td>-8.984</td>\n",
       "      <td>1.571993</td>\n",
       "      <td>0.0</td>\n",
       "      <td>3.0</td>\n",
       "      <td>8fp5_receptor_aligned</td>\n",
       "      <td>2.0</td>\n",
       "      <td>3.0</td>\n",
       "      <td>0.0</td>\n",
       "      <td>job_8fp5_receptor_aligned_6inl_ligand</td>\n",
       "      <td>6inl_ligand</td>\n",
       "    </tr>\n",
       "    <tr>\n",
       "      <th>63</th>\n",
       "      <td>63</td>\n",
       "      <td>3</td>\n",
       "      <td>-8.979</td>\n",
       "      <td>1.575625</td>\n",
       "      <td>0.0</td>\n",
       "      <td>2.0</td>\n",
       "      <td>8fp5_receptor_aligned</td>\n",
       "      <td>2.0</td>\n",
       "      <td>2.0</td>\n",
       "      <td>0.0</td>\n",
       "      <td>job_8fp5_receptor_aligned_6inl_ligand</td>\n",
       "      <td>6inl_ligand</td>\n",
       "    </tr>\n",
       "    <tr>\n",
       "      <th>...</th>\n",
       "      <td>...</td>\n",
       "      <td>...</td>\n",
       "      <td>...</td>\n",
       "      <td>...</td>\n",
       "      <td>...</td>\n",
       "      <td>...</td>\n",
       "      <td>...</td>\n",
       "      <td>...</td>\n",
       "      <td>...</td>\n",
       "      <td>...</td>\n",
       "      <td>...</td>\n",
       "      <td>...</td>\n",
       "    </tr>\n",
       "    <tr>\n",
       "      <th>481</th>\n",
       "      <td>481</td>\n",
       "      <td>22</td>\n",
       "      <td>-6.684</td>\n",
       "      <td>10.796423</td>\n",
       "      <td>6.0</td>\n",
       "      <td>2.0</td>\n",
       "      <td>3bhv_receptor_aligned</td>\n",
       "      <td>2.0</td>\n",
       "      <td>2.0</td>\n",
       "      <td>6.0</td>\n",
       "      <td>job_3bhv_receptor_aligned_6inl_ligand</td>\n",
       "      <td>6inl_ligand</td>\n",
       "    </tr>\n",
       "    <tr>\n",
       "      <th>417</th>\n",
       "      <td>417</td>\n",
       "      <td>22</td>\n",
       "      <td>-6.800</td>\n",
       "      <td>10.835908</td>\n",
       "      <td>6.0</td>\n",
       "      <td>3.0</td>\n",
       "      <td>2r3k_receptor_aligned</td>\n",
       "      <td>2.0</td>\n",
       "      <td>3.0</td>\n",
       "      <td>6.0</td>\n",
       "      <td>job_2r3k_receptor_aligned_6inl_ligand</td>\n",
       "      <td>6inl_ligand</td>\n",
       "    </tr>\n",
       "    <tr>\n",
       "      <th>418</th>\n",
       "      <td>418</td>\n",
       "      <td>22</td>\n",
       "      <td>-6.800</td>\n",
       "      <td>10.835908</td>\n",
       "      <td>6.0</td>\n",
       "      <td>3.0</td>\n",
       "      <td>2r3k_receptor_aligned</td>\n",
       "      <td>2.0</td>\n",
       "      <td>3.0</td>\n",
       "      <td>6.0</td>\n",
       "      <td>job_2r3k_receptor_aligned_6inl_ligand</td>\n",
       "      <td>6inl_ligand</td>\n",
       "    </tr>\n",
       "    <tr>\n",
       "      <th>419</th>\n",
       "      <td>419</td>\n",
       "      <td>22</td>\n",
       "      <td>-6.800</td>\n",
       "      <td>10.835908</td>\n",
       "      <td>6.0</td>\n",
       "      <td>3.0</td>\n",
       "      <td>2r3k_receptor_aligned</td>\n",
       "      <td>2.0</td>\n",
       "      <td>3.0</td>\n",
       "      <td>6.0</td>\n",
       "      <td>job_2r3k_receptor_aligned_6inl_ligand</td>\n",
       "      <td>6inl_ligand</td>\n",
       "    </tr>\n",
       "    <tr>\n",
       "      <th>416</th>\n",
       "      <td>416</td>\n",
       "      <td>22</td>\n",
       "      <td>-6.800</td>\n",
       "      <td>10.835908</td>\n",
       "      <td>6.0</td>\n",
       "      <td>3.0</td>\n",
       "      <td>2r3k_receptor_aligned</td>\n",
       "      <td>2.0</td>\n",
       "      <td>3.0</td>\n",
       "      <td>6.0</td>\n",
       "      <td>job_2r3k_receptor_aligned_6inl_ligand</td>\n",
       "      <td>6inl_ligand</td>\n",
       "    </tr>\n",
       "  </tbody>\n",
       "</table>\n",
       "<p>696 rows × 12 columns</p>\n",
       "</div>"
      ],
      "text/plain": [
       "     Unnamed: 0.2  Unnamed: 0.1  energies      rmsds  model_id  replica_id  \\\n",
       "46             46             2    -8.984   1.571993       0.0         3.0   \n",
       "45             45             2    -8.984   1.571993       0.0         3.0   \n",
       "44             44             2    -8.984   1.571993       0.0         3.0   \n",
       "47             47             2    -8.984   1.571993       0.0         3.0   \n",
       "63             63             3    -8.979   1.575625       0.0         2.0   \n",
       "..            ...           ...       ...        ...       ...         ...   \n",
       "481           481            22    -6.684  10.796423       6.0         2.0   \n",
       "417           417            22    -6.800  10.835908       6.0         3.0   \n",
       "418           418            22    -6.800  10.835908       6.0         3.0   \n",
       "419           419            22    -6.800  10.835908       6.0         3.0   \n",
       "416           416            22    -6.800  10.835908       6.0         3.0   \n",
       "\n",
       "               receptor_id  fragment_id  thread_id  Unnamed: 0  \\\n",
       "46   8fp5_receptor_aligned          2.0        3.0         0.0   \n",
       "45   8fp5_receptor_aligned          2.0        3.0         0.0   \n",
       "44   8fp5_receptor_aligned          2.0        3.0         0.0   \n",
       "47   8fp5_receptor_aligned          2.0        3.0         0.0   \n",
       "63   8fp5_receptor_aligned          2.0        2.0         0.0   \n",
       "..                     ...          ...        ...         ...   \n",
       "481  3bhv_receptor_aligned          2.0        2.0         6.0   \n",
       "417  2r3k_receptor_aligned          2.0        3.0         6.0   \n",
       "418  2r3k_receptor_aligned          2.0        3.0         6.0   \n",
       "419  2r3k_receptor_aligned          2.0        3.0         6.0   \n",
       "416  2r3k_receptor_aligned          2.0        3.0         6.0   \n",
       "\n",
       "                                    job_id  ligand_name  \n",
       "46   job_8fp5_receptor_aligned_6inl_ligand  6inl_ligand  \n",
       "45   job_8fp5_receptor_aligned_6inl_ligand  6inl_ligand  \n",
       "44   job_8fp5_receptor_aligned_6inl_ligand  6inl_ligand  \n",
       "47   job_8fp5_receptor_aligned_6inl_ligand  6inl_ligand  \n",
       "63   job_8fp5_receptor_aligned_6inl_ligand  6inl_ligand  \n",
       "..                                     ...          ...  \n",
       "481  job_3bhv_receptor_aligned_6inl_ligand  6inl_ligand  \n",
       "417  job_2r3k_receptor_aligned_6inl_ligand  6inl_ligand  \n",
       "418  job_2r3k_receptor_aligned_6inl_ligand  6inl_ligand  \n",
       "419  job_2r3k_receptor_aligned_6inl_ligand  6inl_ligand  \n",
       "416  job_2r3k_receptor_aligned_6inl_ligand  6inl_ligand  \n",
       "\n",
       "[696 rows x 12 columns]"
      ]
     },
     "execution_count": 22,
     "metadata": {},
     "output_type": "execute_result"
    }
   ],
   "source": [
    "resuls_pd[resuls_pd[\"ligand_name\"]==\"6inl_ligand\"].sort_values(by=\"energies\").sort_values(by=\"rmsds\")"
   ]
  },
  {
   "cell_type": "code",
   "execution_count": 23,
   "id": "e16aa035",
   "metadata": {},
   "outputs": [],
   "source": [
    "resuls_pd[\"ligand_categories\"] = resuls_pd[\"ligand_name\"].apply(lambda x: full_dataset[full_dataset[\"pdb_id\"]==x.split(\"_\")[0].upper()].iloc[0][\"ligand_category\"])"
   ]
  },
  {
   "cell_type": "code",
   "execution_count": 24,
   "id": "0c0e7e96",
   "metadata": {},
   "outputs": [],
   "source": [
    "resuls_pd[\"receptor_categories\"] = resuls_pd[\"receptor_id\"].apply(lambda x: receptor_categories[x])"
   ]
  },
  {
   "cell_type": "code",
   "execution_count": 51,
   "id": "d39d41fa",
   "metadata": {},
   "outputs": [],
   "source": [
    "results_summary = resuls_pd.sort_values(\"energies\", ascending=True).groupby(\"ligand_name\").head(10).groupby(\"ligand_name\")[\"rmsds\"].min().reset_index()\n",
    "results_summary.columns = [\"ligand_name\", \"best_rmsds_top5\"]\n",
    "results_summary [\"best_rmsds\"] = resuls_pd.sort_values(\"energies\", ascending=True).groupby(\"ligand_name\")[\"rmsds\"].min().reset_index()[\"rmsds\"]\n",
    "#results_summary [\"selected_rec\"] = resuls_pd.sort_values(\"energies\", ascending=True).groupby(\"ligand_name\")[\"rmsds\"].min().reset_index()[\"receptor_id\"]\n",
    "results_summary [\"best_rmsds_top1\"] = resuls_pd.sort_values(\"energies\", ascending=True).groupby(\"ligand_name\").head(1).groupby(\"ligand_name\")[\"rmsds\"].min().reset_index()[\"rmsds\"]\n",
    "results_summary[\"mean_rmsds_top5\"] = resuls_pd.sort_values(\"energies\", ascending=True).groupby(\"ligand_name\").head(5).groupby(\"ligand_name\")[\"rmsds\"].mean().reset_index()[\"rmsds\"]\n",
    "results_summary[\"std_rmsds_top5\"] = resuls_pd.sort_values(\"energies\", ascending=True).groupby(\"ligand_name\").head(5).groupby(\"ligand_name\")[\"rmsds\"].std().reset_index()[\"rmsds\"]"
   ]
  },
  {
   "cell_type": "code",
   "execution_count": 52,
   "id": "6286b787",
   "metadata": {},
   "outputs": [
    {
     "data": {
      "text/html": [
       "<div>\n",
       "<style scoped>\n",
       "    .dataframe tbody tr th:only-of-type {\n",
       "        vertical-align: middle;\n",
       "    }\n",
       "\n",
       "    .dataframe tbody tr th {\n",
       "        vertical-align: top;\n",
       "    }\n",
       "\n",
       "    .dataframe thead th {\n",
       "        text-align: right;\n",
       "    }\n",
       "</style>\n",
       "<table border=\"1\" class=\"dataframe\">\n",
       "  <thead>\n",
       "    <tr style=\"text-align: right;\">\n",
       "      <th></th>\n",
       "      <th>ligand_name</th>\n",
       "      <th>best_rmsds_top5</th>\n",
       "      <th>best_rmsds</th>\n",
       "      <th>best_rmsds_top1</th>\n",
       "      <th>mean_rmsds_top5</th>\n",
       "      <th>std_rmsds_top5</th>\n",
       "    </tr>\n",
       "  </thead>\n",
       "  <tbody>\n",
       "    <tr>\n",
       "      <th>0</th>\n",
       "      <td>3ns9_ligand</td>\n",
       "      <td>6.888610</td>\n",
       "      <td>1.349567</td>\n",
       "      <td>6.895128</td>\n",
       "      <td>6.893824</td>\n",
       "      <td>0.002915</td>\n",
       "    </tr>\n",
       "    <tr>\n",
       "      <th>1</th>\n",
       "      <td>3r71_ligand</td>\n",
       "      <td>1.844475</td>\n",
       "      <td>1.467957</td>\n",
       "      <td>5.904052</td>\n",
       "      <td>5.899827</td>\n",
       "      <td>0.009446</td>\n",
       "    </tr>\n",
       "    <tr>\n",
       "      <th>2</th>\n",
       "      <td>6inl_ligand</td>\n",
       "      <td>1.587441</td>\n",
       "      <td>1.571993</td>\n",
       "      <td>1.587556</td>\n",
       "      <td>1.587533</td>\n",
       "      <td>0.000051</td>\n",
       "    </tr>\n",
       "    <tr>\n",
       "      <th>3</th>\n",
       "      <td>3rai_ligand</td>\n",
       "      <td>9.939425</td>\n",
       "      <td>1.606133</td>\n",
       "      <td>9.946488</td>\n",
       "      <td>9.948854</td>\n",
       "      <td>0.005290</td>\n",
       "    </tr>\n",
       "    <tr>\n",
       "      <th>4</th>\n",
       "      <td>3r73_ligand</td>\n",
       "      <td>5.750467</td>\n",
       "      <td>1.711741</td>\n",
       "      <td>5.754142</td>\n",
       "      <td>5.754216</td>\n",
       "      <td>0.000166</td>\n",
       "    </tr>\n",
       "    <tr>\n",
       "      <th>5</th>\n",
       "      <td>3ddp_ligand</td>\n",
       "      <td>4.492268</td>\n",
       "      <td>2.089100</td>\n",
       "      <td>4.502001</td>\n",
       "      <td>4.500054</td>\n",
       "      <td>0.004353</td>\n",
       "    </tr>\n",
       "    <tr>\n",
       "      <th>6</th>\n",
       "      <td>1h00_ligand_fcp</td>\n",
       "      <td>3.524417</td>\n",
       "      <td>3.005377</td>\n",
       "      <td>3.524417</td>\n",
       "      <td>3.524417</td>\n",
       "      <td>0.000000</td>\n",
       "    </tr>\n",
       "    <tr>\n",
       "      <th>7</th>\n",
       "      <td>1h00_ligand_fap</td>\n",
       "      <td>4.667915</td>\n",
       "      <td>3.262525</td>\n",
       "      <td>4.667915</td>\n",
       "      <td>4.667915</td>\n",
       "      <td>0.000000</td>\n",
       "    </tr>\n",
       "    <tr>\n",
       "      <th>8</th>\n",
       "      <td>3eid_ligand</td>\n",
       "      <td>5.173122</td>\n",
       "      <td>3.668447</td>\n",
       "      <td>5.173122</td>\n",
       "      <td>5.176745</td>\n",
       "      <td>0.008102</td>\n",
       "    </tr>\n",
       "    <tr>\n",
       "      <th>9</th>\n",
       "      <td>1h08_ligand</td>\n",
       "      <td>5.590708</td>\n",
       "      <td>3.734912</td>\n",
       "      <td>5.623077</td>\n",
       "      <td>5.618975</td>\n",
       "      <td>0.009173</td>\n",
       "    </tr>\n",
       "    <tr>\n",
       "      <th>10</th>\n",
       "      <td>1h01_ligand_fal</td>\n",
       "      <td>10.192454</td>\n",
       "      <td>3.990045</td>\n",
       "      <td>10.192454</td>\n",
       "      <td>10.192454</td>\n",
       "      <td>0.000000</td>\n",
       "    </tr>\n",
       "    <tr>\n",
       "      <th>11</th>\n",
       "      <td>2w05_ligand</td>\n",
       "      <td>6.340192</td>\n",
       "      <td>4.220749</td>\n",
       "      <td>7.944266</td>\n",
       "      <td>7.623451</td>\n",
       "      <td>0.717364</td>\n",
       "    </tr>\n",
       "    <tr>\n",
       "      <th>12</th>\n",
       "      <td>1h07_ligand_mfp</td>\n",
       "      <td>11.553438</td>\n",
       "      <td>4.284412</td>\n",
       "      <td>11.553438</td>\n",
       "      <td>11.553438</td>\n",
       "      <td>0.000000</td>\n",
       "    </tr>\n",
       "    <tr>\n",
       "      <th>13</th>\n",
       "      <td>1h07_ligand_mfq</td>\n",
       "      <td>10.675497</td>\n",
       "      <td>4.424194</td>\n",
       "      <td>10.675497</td>\n",
       "      <td>10.675497</td>\n",
       "      <td>0.000000</td>\n",
       "    </tr>\n",
       "    <tr>\n",
       "      <th>14</th>\n",
       "      <td>1h01_ligand_fbl</td>\n",
       "      <td>9.894905</td>\n",
       "      <td>4.536806</td>\n",
       "      <td>9.942716</td>\n",
       "      <td>9.942716</td>\n",
       "      <td>0.000000</td>\n",
       "    </tr>\n",
       "  </tbody>\n",
       "</table>\n",
       "</div>"
      ],
      "text/plain": [
       "        ligand_name  best_rmsds_top5  best_rmsds  best_rmsds_top1  \\\n",
       "0       3ns9_ligand         6.888610    1.349567         6.895128   \n",
       "1       3r71_ligand         1.844475    1.467957         5.904052   \n",
       "2       6inl_ligand         1.587441    1.571993         1.587556   \n",
       "3       3rai_ligand         9.939425    1.606133         9.946488   \n",
       "4       3r73_ligand         5.750467    1.711741         5.754142   \n",
       "5       3ddp_ligand         4.492268    2.089100         4.502001   \n",
       "6   1h00_ligand_fcp         3.524417    3.005377         3.524417   \n",
       "7   1h00_ligand_fap         4.667915    3.262525         4.667915   \n",
       "8       3eid_ligand         5.173122    3.668447         5.173122   \n",
       "9       1h08_ligand         5.590708    3.734912         5.623077   \n",
       "10  1h01_ligand_fal        10.192454    3.990045        10.192454   \n",
       "11      2w05_ligand         6.340192    4.220749         7.944266   \n",
       "12  1h07_ligand_mfp        11.553438    4.284412        11.553438   \n",
       "13  1h07_ligand_mfq        10.675497    4.424194        10.675497   \n",
       "14  1h01_ligand_fbl         9.894905    4.536806         9.942716   \n",
       "\n",
       "    mean_rmsds_top5  std_rmsds_top5  \n",
       "0          6.893824        0.002915  \n",
       "1          5.899827        0.009446  \n",
       "2          1.587533        0.000051  \n",
       "3          9.948854        0.005290  \n",
       "4          5.754216        0.000166  \n",
       "5          4.500054        0.004353  \n",
       "6          3.524417        0.000000  \n",
       "7          4.667915        0.000000  \n",
       "8          5.176745        0.008102  \n",
       "9          5.618975        0.009173  \n",
       "10        10.192454        0.000000  \n",
       "11         7.623451        0.717364  \n",
       "12        11.553438        0.000000  \n",
       "13        10.675497        0.000000  \n",
       "14         9.942716        0.000000  "
      ]
     },
     "execution_count": 52,
     "metadata": {},
     "output_type": "execute_result"
    }
   ],
   "source": [
    "results_summary = results_summary.sort_values(\"best_rmsds\").reset_index(drop=True)\n",
    "results_summary"
   ]
  },
  {
   "cell_type": "code",
   "execution_count": 27,
   "id": "2fca14df",
   "metadata": {},
   "outputs": [
    {
     "data": {
      "text/plain": [
       "['3ns9_ligand',\n",
       " '3r71_ligand',\n",
       " '6inl_ligand',\n",
       " '3rai_ligand',\n",
       " '3r73_ligand',\n",
       " '3ddp_ligand']"
      ]
     },
     "execution_count": 27,
     "metadata": {},
     "output_type": "execute_result"
    }
   ],
   "source": [
    "selected_ligands = list(results_summary[:6][\"ligand_name\"])\n",
    "selected_ligands"
   ]
  },
  {
   "cell_type": "code",
   "execution_count": null,
   "id": "491a6cee",
   "metadata": {},
   "outputs": [],
   "source": []
  },
  {
   "cell_type": "code",
   "execution_count": 62,
   "id": "1770553c",
   "metadata": {},
   "outputs": [
    {
     "data": {
      "application/vnd.plotly.v1+json": {
       "config": {
        "plotlyServerURL": "https://plot.ly"
       },
       "data": [
        {
         "alignmentgroup": "True",
         "boxpoints": "all",
         "hovertemplate": "Receptor Conformation Type=A-loop IN<br>Ligand Type=%{x}<br>Best in Top 10 RMSD=%{y}<extra></extra>",
         "legendgroup": "A-loop IN",
         "marker": {
          "color": "#FF6C90",
          "size": 10
         },
         "name": "A-loop IN",
         "notched": false,
         "offsetgroup": "A-loop IN",
         "orientation": "v",
         "showlegend": true,
         "type": "box",
         "x": [
          "A-loop IN",
          "A-loop OUT",
          "A-loop OUT",
          "A-loop IN",
          "A-loop IN",
          "A-loop IN",
          "A-loop IN"
         ],
         "x0": " ",
         "xaxis": "x",
         "y": [
          1.8444754078776728,
          3.524417482243753,
          5.173122122151178,
          5.590707582601473,
          6.888610222135857,
          10.675496967121989,
          11.553437789680256
         ],
         "y0": " ",
         "yaxis": "y"
        },
        {
         "alignmentgroup": "True",
         "boxpoints": "all",
         "hovertemplate": "Receptor Conformation Type=A-loop OUT<br>Ligand Type=%{x}<br>Best in Top 10 RMSD=%{y}<extra></extra>",
         "legendgroup": "A-loop OUT",
         "marker": {
          "color": "#00B0F6",
          "size": 10
         },
         "name": "A-loop OUT",
         "notched": false,
         "offsetgroup": "A-loop OUT",
         "orientation": "v",
         "showlegend": true,
         "type": "box",
         "x": [
          "A-loop OUT",
          "A-loop OUT",
          "A-loop OUT",
          "A-loop IN",
          "A-loop OUT",
          "A-loop IN",
          "A-loop IN",
          "A-loop IN"
         ],
         "x0": " ",
         "xaxis": "x",
         "y": [
          1.587441212254172,
          4.492267980539257,
          4.667914787074487,
          5.750466927164656,
          6.340192152528258,
          9.894904962936076,
          9.93942535081895,
          10.192454421641289
         ],
         "y0": " ",
         "yaxis": "y"
        }
       ],
       "layout": {
        "boxmode": "group",
        "legend": {
         "title": {
          "text": "Receptor Conformation Type"
         },
         "tracegroupgap": 0
        },
        "margin": {
         "t": 60
        },
        "template": {
         "data": {
          "bar": [
           {
            "error_x": {
             "color": "rgb(51,51,51)"
            },
            "error_y": {
             "color": "rgb(51,51,51)"
            },
            "marker": {
             "line": {
              "color": "rgb(237,237,237)",
              "width": 0.5
             },
             "pattern": {
              "fillmode": "overlay",
              "size": 10,
              "solidity": 0.2
             }
            },
            "type": "bar"
           }
          ],
          "barpolar": [
           {
            "marker": {
             "line": {
              "color": "rgb(237,237,237)",
              "width": 0.5
             },
             "pattern": {
              "fillmode": "overlay",
              "size": 10,
              "solidity": 0.2
             }
            },
            "type": "barpolar"
           }
          ],
          "carpet": [
           {
            "aaxis": {
             "endlinecolor": "rgb(51,51,51)",
             "gridcolor": "white",
             "linecolor": "white",
             "minorgridcolor": "white",
             "startlinecolor": "rgb(51,51,51)"
            },
            "baxis": {
             "endlinecolor": "rgb(51,51,51)",
             "gridcolor": "white",
             "linecolor": "white",
             "minorgridcolor": "white",
             "startlinecolor": "rgb(51,51,51)"
            },
            "type": "carpet"
           }
          ],
          "choropleth": [
           {
            "colorbar": {
             "outlinewidth": 0,
             "tickcolor": "rgb(237,237,237)",
             "ticklen": 6,
             "ticks": "inside"
            },
            "type": "choropleth"
           }
          ],
          "contour": [
           {
            "colorbar": {
             "outlinewidth": 0,
             "tickcolor": "rgb(237,237,237)",
             "ticklen": 6,
             "ticks": "inside"
            },
            "colorscale": [
             [
              0,
              "rgb(20,44,66)"
             ],
             [
              1,
              "rgb(90,179,244)"
             ]
            ],
            "type": "contour"
           }
          ],
          "contourcarpet": [
           {
            "colorbar": {
             "outlinewidth": 0,
             "tickcolor": "rgb(237,237,237)",
             "ticklen": 6,
             "ticks": "inside"
            },
            "type": "contourcarpet"
           }
          ],
          "heatmap": [
           {
            "colorbar": {
             "outlinewidth": 0,
             "tickcolor": "rgb(237,237,237)",
             "ticklen": 6,
             "ticks": "inside"
            },
            "colorscale": [
             [
              0,
              "rgb(20,44,66)"
             ],
             [
              1,
              "rgb(90,179,244)"
             ]
            ],
            "type": "heatmap"
           }
          ],
          "heatmapgl": [
           {
            "colorbar": {
             "outlinewidth": 0,
             "tickcolor": "rgb(237,237,237)",
             "ticklen": 6,
             "ticks": "inside"
            },
            "colorscale": [
             [
              0,
              "rgb(20,44,66)"
             ],
             [
              1,
              "rgb(90,179,244)"
             ]
            ],
            "type": "heatmapgl"
           }
          ],
          "histogram": [
           {
            "marker": {
             "pattern": {
              "fillmode": "overlay",
              "size": 10,
              "solidity": 0.2
             }
            },
            "type": "histogram"
           }
          ],
          "histogram2d": [
           {
            "colorbar": {
             "outlinewidth": 0,
             "tickcolor": "rgb(237,237,237)",
             "ticklen": 6,
             "ticks": "inside"
            },
            "colorscale": [
             [
              0,
              "rgb(20,44,66)"
             ],
             [
              1,
              "rgb(90,179,244)"
             ]
            ],
            "type": "histogram2d"
           }
          ],
          "histogram2dcontour": [
           {
            "colorbar": {
             "outlinewidth": 0,
             "tickcolor": "rgb(237,237,237)",
             "ticklen": 6,
             "ticks": "inside"
            },
            "colorscale": [
             [
              0,
              "rgb(20,44,66)"
             ],
             [
              1,
              "rgb(90,179,244)"
             ]
            ],
            "type": "histogram2dcontour"
           }
          ],
          "mesh3d": [
           {
            "colorbar": {
             "outlinewidth": 0,
             "tickcolor": "rgb(237,237,237)",
             "ticklen": 6,
             "ticks": "inside"
            },
            "type": "mesh3d"
           }
          ],
          "parcoords": [
           {
            "line": {
             "colorbar": {
              "outlinewidth": 0,
              "tickcolor": "rgb(237,237,237)",
              "ticklen": 6,
              "ticks": "inside"
             }
            },
            "type": "parcoords"
           }
          ],
          "pie": [
           {
            "automargin": true,
            "type": "pie"
           }
          ],
          "scatter": [
           {
            "fillpattern": {
             "fillmode": "overlay",
             "size": 10,
             "solidity": 0.2
            },
            "type": "scatter"
           }
          ],
          "scatter3d": [
           {
            "line": {
             "colorbar": {
              "outlinewidth": 0,
              "tickcolor": "rgb(237,237,237)",
              "ticklen": 6,
              "ticks": "inside"
             }
            },
            "marker": {
             "colorbar": {
              "outlinewidth": 0,
              "tickcolor": "rgb(237,237,237)",
              "ticklen": 6,
              "ticks": "inside"
             }
            },
            "type": "scatter3d"
           }
          ],
          "scattercarpet": [
           {
            "marker": {
             "colorbar": {
              "outlinewidth": 0,
              "tickcolor": "rgb(237,237,237)",
              "ticklen": 6,
              "ticks": "inside"
             }
            },
            "type": "scattercarpet"
           }
          ],
          "scattergeo": [
           {
            "marker": {
             "colorbar": {
              "outlinewidth": 0,
              "tickcolor": "rgb(237,237,237)",
              "ticklen": 6,
              "ticks": "inside"
             }
            },
            "type": "scattergeo"
           }
          ],
          "scattergl": [
           {
            "marker": {
             "colorbar": {
              "outlinewidth": 0,
              "tickcolor": "rgb(237,237,237)",
              "ticklen": 6,
              "ticks": "inside"
             }
            },
            "type": "scattergl"
           }
          ],
          "scattermapbox": [
           {
            "marker": {
             "colorbar": {
              "outlinewidth": 0,
              "tickcolor": "rgb(237,237,237)",
              "ticklen": 6,
              "ticks": "inside"
             }
            },
            "type": "scattermapbox"
           }
          ],
          "scatterpolar": [
           {
            "marker": {
             "colorbar": {
              "outlinewidth": 0,
              "tickcolor": "rgb(237,237,237)",
              "ticklen": 6,
              "ticks": "inside"
             }
            },
            "type": "scatterpolar"
           }
          ],
          "scatterpolargl": [
           {
            "marker": {
             "colorbar": {
              "outlinewidth": 0,
              "tickcolor": "rgb(237,237,237)",
              "ticklen": 6,
              "ticks": "inside"
             }
            },
            "type": "scatterpolargl"
           }
          ],
          "scatterternary": [
           {
            "marker": {
             "colorbar": {
              "outlinewidth": 0,
              "tickcolor": "rgb(237,237,237)",
              "ticklen": 6,
              "ticks": "inside"
             }
            },
            "type": "scatterternary"
           }
          ],
          "surface": [
           {
            "colorbar": {
             "outlinewidth": 0,
             "tickcolor": "rgb(237,237,237)",
             "ticklen": 6,
             "ticks": "inside"
            },
            "colorscale": [
             [
              0,
              "rgb(20,44,66)"
             ],
             [
              1,
              "rgb(90,179,244)"
             ]
            ],
            "type": "surface"
           }
          ],
          "table": [
           {
            "cells": {
             "fill": {
              "color": "rgb(237,237,237)"
             },
             "line": {
              "color": "white"
             }
            },
            "header": {
             "fill": {
              "color": "rgb(217,217,217)"
             },
             "line": {
              "color": "white"
             }
            },
            "type": "table"
           }
          ]
         },
         "layout": {
          "annotationdefaults": {
           "arrowhead": 0,
           "arrowwidth": 1
          },
          "autotypenumbers": "strict",
          "coloraxis": {
           "colorbar": {
            "outlinewidth": 0,
            "tickcolor": "rgb(237,237,237)",
            "ticklen": 6,
            "ticks": "inside"
           }
          },
          "colorscale": {
           "sequential": [
            [
             0,
             "rgb(20,44,66)"
            ],
            [
             1,
             "rgb(90,179,244)"
            ]
           ],
           "sequentialminus": [
            [
             0,
             "rgb(20,44,66)"
            ],
            [
             1,
             "rgb(90,179,244)"
            ]
           ]
          },
          "colorway": [
           "#F8766D",
           "#A3A500",
           "#00BF7D",
           "#00B0F6",
           "#E76BF3"
          ],
          "font": {
           "color": "rgb(51,51,51)"
          },
          "geo": {
           "bgcolor": "white",
           "lakecolor": "white",
           "landcolor": "rgb(237,237,237)",
           "showlakes": true,
           "showland": true,
           "subunitcolor": "white"
          },
          "hoverlabel": {
           "align": "left"
          },
          "hovermode": "closest",
          "paper_bgcolor": "white",
          "plot_bgcolor": "rgb(237,237,237)",
          "polar": {
           "angularaxis": {
            "gridcolor": "white",
            "linecolor": "white",
            "showgrid": true,
            "tickcolor": "rgb(51,51,51)",
            "ticks": "outside"
           },
           "bgcolor": "rgb(237,237,237)",
           "radialaxis": {
            "gridcolor": "white",
            "linecolor": "white",
            "showgrid": true,
            "tickcolor": "rgb(51,51,51)",
            "ticks": "outside"
           }
          },
          "scene": {
           "xaxis": {
            "backgroundcolor": "rgb(237,237,237)",
            "gridcolor": "white",
            "gridwidth": 2,
            "linecolor": "white",
            "showbackground": true,
            "showgrid": true,
            "tickcolor": "rgb(51,51,51)",
            "ticks": "outside",
            "zerolinecolor": "white"
           },
           "yaxis": {
            "backgroundcolor": "rgb(237,237,237)",
            "gridcolor": "white",
            "gridwidth": 2,
            "linecolor": "white",
            "showbackground": true,
            "showgrid": true,
            "tickcolor": "rgb(51,51,51)",
            "ticks": "outside",
            "zerolinecolor": "white"
           },
           "zaxis": {
            "backgroundcolor": "rgb(237,237,237)",
            "gridcolor": "white",
            "gridwidth": 2,
            "linecolor": "white",
            "showbackground": true,
            "showgrid": true,
            "tickcolor": "rgb(51,51,51)",
            "ticks": "outside",
            "zerolinecolor": "white"
           }
          },
          "shapedefaults": {
           "fillcolor": "black",
           "line": {
            "width": 0
           },
           "opacity": 0.3
          },
          "ternary": {
           "aaxis": {
            "gridcolor": "white",
            "linecolor": "white",
            "showgrid": true,
            "tickcolor": "rgb(51,51,51)",
            "ticks": "outside"
           },
           "baxis": {
            "gridcolor": "white",
            "linecolor": "white",
            "showgrid": true,
            "tickcolor": "rgb(51,51,51)",
            "ticks": "outside"
           },
           "bgcolor": "rgb(237,237,237)",
           "caxis": {
            "gridcolor": "white",
            "linecolor": "white",
            "showgrid": true,
            "tickcolor": "rgb(51,51,51)",
            "ticks": "outside"
           }
          },
          "xaxis": {
           "automargin": true,
           "gridcolor": "white",
           "linecolor": "white",
           "showgrid": true,
           "tickcolor": "rgb(51,51,51)",
           "ticks": "outside",
           "title": {
            "standoff": 15
           },
           "zerolinecolor": "white"
          },
          "yaxis": {
           "automargin": true,
           "gridcolor": "white",
           "linecolor": "white",
           "showgrid": true,
           "tickcolor": "rgb(51,51,51)",
           "ticks": "outside",
           "title": {
            "standoff": 15
           },
           "zerolinecolor": "white"
          }
         }
        },
        "xaxis": {
         "anchor": "y",
         "domain": [
          0,
          1
         ],
         "title": {
          "text": "Ligand Type"
         }
        },
        "yaxis": {
         "anchor": "x",
         "domain": [
          0,
          1
         ],
         "title": {
          "text": "Best in Top 10 RMSD"
         }
        }
       }
      },
      "text/html": [
       "<div>                            <div id=\"eae90b9a-f913-4f13-b527-0db71164364e\" class=\"plotly-graph-div\" style=\"height:525px; width:100%;\"></div>            <script type=\"text/javascript\">                require([\"plotly\"], function(Plotly) {                    window.PLOTLYENV=window.PLOTLYENV || {};                                    if (document.getElementById(\"eae90b9a-f913-4f13-b527-0db71164364e\")) {                    Plotly.newPlot(                        \"eae90b9a-f913-4f13-b527-0db71164364e\",                        [{\"alignmentgroup\":\"True\",\"boxpoints\":\"all\",\"hovertemplate\":\"Receptor Conformation Type=A-loop IN\\u003cbr\\u003eLigand Type=%{x}\\u003cbr\\u003eBest in Top 10 RMSD=%{y}\\u003cextra\\u003e\\u003c\\u002fextra\\u003e\",\"legendgroup\":\"A-loop IN\",\"marker\":{\"color\":\"#FF6C90\",\"size\":10},\"name\":\"A-loop IN\",\"notched\":false,\"offsetgroup\":\"A-loop IN\",\"orientation\":\"v\",\"showlegend\":true,\"x\":[\"A-loop IN\",\"A-loop OUT\",\"A-loop OUT\",\"A-loop IN\",\"A-loop IN\",\"A-loop IN\",\"A-loop IN\"],\"x0\":\" \",\"xaxis\":\"x\",\"y\":[1.8444754078776728,3.524417482243753,5.173122122151178,5.590707582601473,6.888610222135857,10.675496967121989,11.553437789680256],\"y0\":\" \",\"yaxis\":\"y\",\"type\":\"box\"},{\"alignmentgroup\":\"True\",\"boxpoints\":\"all\",\"hovertemplate\":\"Receptor Conformation Type=A-loop OUT\\u003cbr\\u003eLigand Type=%{x}\\u003cbr\\u003eBest in Top 10 RMSD=%{y}\\u003cextra\\u003e\\u003c\\u002fextra\\u003e\",\"legendgroup\":\"A-loop OUT\",\"marker\":{\"color\":\"#00B0F6\",\"size\":10},\"name\":\"A-loop OUT\",\"notched\":false,\"offsetgroup\":\"A-loop OUT\",\"orientation\":\"v\",\"showlegend\":true,\"x\":[\"A-loop OUT\",\"A-loop OUT\",\"A-loop OUT\",\"A-loop IN\",\"A-loop OUT\",\"A-loop IN\",\"A-loop IN\",\"A-loop IN\"],\"x0\":\" \",\"xaxis\":\"x\",\"y\":[1.587441212254172,4.492267980539257,4.667914787074487,5.750466927164656,6.340192152528258,9.894904962936076,9.93942535081895,10.192454421641289],\"y0\":\" \",\"yaxis\":\"y\",\"type\":\"box\"}],                        {\"template\":{\"data\":{\"barpolar\":[{\"marker\":{\"line\":{\"color\":\"rgb(237,237,237)\",\"width\":0.5},\"pattern\":{\"fillmode\":\"overlay\",\"size\":10,\"solidity\":0.2}},\"type\":\"barpolar\"}],\"bar\":[{\"error_x\":{\"color\":\"rgb(51,51,51)\"},\"error_y\":{\"color\":\"rgb(51,51,51)\"},\"marker\":{\"line\":{\"color\":\"rgb(237,237,237)\",\"width\":0.5},\"pattern\":{\"fillmode\":\"overlay\",\"size\":10,\"solidity\":0.2}},\"type\":\"bar\"}],\"carpet\":[{\"aaxis\":{\"endlinecolor\":\"rgb(51,51,51)\",\"gridcolor\":\"white\",\"linecolor\":\"white\",\"minorgridcolor\":\"white\",\"startlinecolor\":\"rgb(51,51,51)\"},\"baxis\":{\"endlinecolor\":\"rgb(51,51,51)\",\"gridcolor\":\"white\",\"linecolor\":\"white\",\"minorgridcolor\":\"white\",\"startlinecolor\":\"rgb(51,51,51)\"},\"type\":\"carpet\"}],\"choropleth\":[{\"colorbar\":{\"outlinewidth\":0,\"tickcolor\":\"rgb(237,237,237)\",\"ticklen\":6,\"ticks\":\"inside\"},\"type\":\"choropleth\"}],\"contourcarpet\":[{\"colorbar\":{\"outlinewidth\":0,\"tickcolor\":\"rgb(237,237,237)\",\"ticklen\":6,\"ticks\":\"inside\"},\"type\":\"contourcarpet\"}],\"contour\":[{\"colorbar\":{\"outlinewidth\":0,\"tickcolor\":\"rgb(237,237,237)\",\"ticklen\":6,\"ticks\":\"inside\"},\"colorscale\":[[0,\"rgb(20,44,66)\"],[1,\"rgb(90,179,244)\"]],\"type\":\"contour\"}],\"heatmapgl\":[{\"colorbar\":{\"outlinewidth\":0,\"tickcolor\":\"rgb(237,237,237)\",\"ticklen\":6,\"ticks\":\"inside\"},\"colorscale\":[[0,\"rgb(20,44,66)\"],[1,\"rgb(90,179,244)\"]],\"type\":\"heatmapgl\"}],\"heatmap\":[{\"colorbar\":{\"outlinewidth\":0,\"tickcolor\":\"rgb(237,237,237)\",\"ticklen\":6,\"ticks\":\"inside\"},\"colorscale\":[[0,\"rgb(20,44,66)\"],[1,\"rgb(90,179,244)\"]],\"type\":\"heatmap\"}],\"histogram2dcontour\":[{\"colorbar\":{\"outlinewidth\":0,\"tickcolor\":\"rgb(237,237,237)\",\"ticklen\":6,\"ticks\":\"inside\"},\"colorscale\":[[0,\"rgb(20,44,66)\"],[1,\"rgb(90,179,244)\"]],\"type\":\"histogram2dcontour\"}],\"histogram2d\":[{\"colorbar\":{\"outlinewidth\":0,\"tickcolor\":\"rgb(237,237,237)\",\"ticklen\":6,\"ticks\":\"inside\"},\"colorscale\":[[0,\"rgb(20,44,66)\"],[1,\"rgb(90,179,244)\"]],\"type\":\"histogram2d\"}],\"histogram\":[{\"marker\":{\"pattern\":{\"fillmode\":\"overlay\",\"size\":10,\"solidity\":0.2}},\"type\":\"histogram\"}],\"mesh3d\":[{\"colorbar\":{\"outlinewidth\":0,\"tickcolor\":\"rgb(237,237,237)\",\"ticklen\":6,\"ticks\":\"inside\"},\"type\":\"mesh3d\"}],\"parcoords\":[{\"line\":{\"colorbar\":{\"outlinewidth\":0,\"tickcolor\":\"rgb(237,237,237)\",\"ticklen\":6,\"ticks\":\"inside\"}},\"type\":\"parcoords\"}],\"pie\":[{\"automargin\":true,\"type\":\"pie\"}],\"scatter3d\":[{\"line\":{\"colorbar\":{\"outlinewidth\":0,\"tickcolor\":\"rgb(237,237,237)\",\"ticklen\":6,\"ticks\":\"inside\"}},\"marker\":{\"colorbar\":{\"outlinewidth\":0,\"tickcolor\":\"rgb(237,237,237)\",\"ticklen\":6,\"ticks\":\"inside\"}},\"type\":\"scatter3d\"}],\"scattercarpet\":[{\"marker\":{\"colorbar\":{\"outlinewidth\":0,\"tickcolor\":\"rgb(237,237,237)\",\"ticklen\":6,\"ticks\":\"inside\"}},\"type\":\"scattercarpet\"}],\"scattergeo\":[{\"marker\":{\"colorbar\":{\"outlinewidth\":0,\"tickcolor\":\"rgb(237,237,237)\",\"ticklen\":6,\"ticks\":\"inside\"}},\"type\":\"scattergeo\"}],\"scattergl\":[{\"marker\":{\"colorbar\":{\"outlinewidth\":0,\"tickcolor\":\"rgb(237,237,237)\",\"ticklen\":6,\"ticks\":\"inside\"}},\"type\":\"scattergl\"}],\"scattermapbox\":[{\"marker\":{\"colorbar\":{\"outlinewidth\":0,\"tickcolor\":\"rgb(237,237,237)\",\"ticklen\":6,\"ticks\":\"inside\"}},\"type\":\"scattermapbox\"}],\"scatterpolargl\":[{\"marker\":{\"colorbar\":{\"outlinewidth\":0,\"tickcolor\":\"rgb(237,237,237)\",\"ticklen\":6,\"ticks\":\"inside\"}},\"type\":\"scatterpolargl\"}],\"scatterpolar\":[{\"marker\":{\"colorbar\":{\"outlinewidth\":0,\"tickcolor\":\"rgb(237,237,237)\",\"ticklen\":6,\"ticks\":\"inside\"}},\"type\":\"scatterpolar\"}],\"scatter\":[{\"fillpattern\":{\"fillmode\":\"overlay\",\"size\":10,\"solidity\":0.2},\"type\":\"scatter\"}],\"scatterternary\":[{\"marker\":{\"colorbar\":{\"outlinewidth\":0,\"tickcolor\":\"rgb(237,237,237)\",\"ticklen\":6,\"ticks\":\"inside\"}},\"type\":\"scatterternary\"}],\"surface\":[{\"colorbar\":{\"outlinewidth\":0,\"tickcolor\":\"rgb(237,237,237)\",\"ticklen\":6,\"ticks\":\"inside\"},\"colorscale\":[[0,\"rgb(20,44,66)\"],[1,\"rgb(90,179,244)\"]],\"type\":\"surface\"}],\"table\":[{\"cells\":{\"fill\":{\"color\":\"rgb(237,237,237)\"},\"line\":{\"color\":\"white\"}},\"header\":{\"fill\":{\"color\":\"rgb(217,217,217)\"},\"line\":{\"color\":\"white\"}},\"type\":\"table\"}]},\"layout\":{\"annotationdefaults\":{\"arrowhead\":0,\"arrowwidth\":1},\"autotypenumbers\":\"strict\",\"coloraxis\":{\"colorbar\":{\"outlinewidth\":0,\"tickcolor\":\"rgb(237,237,237)\",\"ticklen\":6,\"ticks\":\"inside\"}},\"colorscale\":{\"sequential\":[[0,\"rgb(20,44,66)\"],[1,\"rgb(90,179,244)\"]],\"sequentialminus\":[[0,\"rgb(20,44,66)\"],[1,\"rgb(90,179,244)\"]]},\"colorway\":[\"#F8766D\",\"#A3A500\",\"#00BF7D\",\"#00B0F6\",\"#E76BF3\"],\"font\":{\"color\":\"rgb(51,51,51)\"},\"geo\":{\"bgcolor\":\"white\",\"lakecolor\":\"white\",\"landcolor\":\"rgb(237,237,237)\",\"showlakes\":true,\"showland\":true,\"subunitcolor\":\"white\"},\"hoverlabel\":{\"align\":\"left\"},\"hovermode\":\"closest\",\"paper_bgcolor\":\"white\",\"plot_bgcolor\":\"rgb(237,237,237)\",\"polar\":{\"angularaxis\":{\"gridcolor\":\"white\",\"linecolor\":\"white\",\"showgrid\":true,\"tickcolor\":\"rgb(51,51,51)\",\"ticks\":\"outside\"},\"bgcolor\":\"rgb(237,237,237)\",\"radialaxis\":{\"gridcolor\":\"white\",\"linecolor\":\"white\",\"showgrid\":true,\"tickcolor\":\"rgb(51,51,51)\",\"ticks\":\"outside\"}},\"scene\":{\"xaxis\":{\"backgroundcolor\":\"rgb(237,237,237)\",\"gridcolor\":\"white\",\"gridwidth\":2,\"linecolor\":\"white\",\"showbackground\":true,\"showgrid\":true,\"tickcolor\":\"rgb(51,51,51)\",\"ticks\":\"outside\",\"zerolinecolor\":\"white\"},\"yaxis\":{\"backgroundcolor\":\"rgb(237,237,237)\",\"gridcolor\":\"white\",\"gridwidth\":2,\"linecolor\":\"white\",\"showbackground\":true,\"showgrid\":true,\"tickcolor\":\"rgb(51,51,51)\",\"ticks\":\"outside\",\"zerolinecolor\":\"white\"},\"zaxis\":{\"backgroundcolor\":\"rgb(237,237,237)\",\"gridcolor\":\"white\",\"gridwidth\":2,\"linecolor\":\"white\",\"showbackground\":true,\"showgrid\":true,\"tickcolor\":\"rgb(51,51,51)\",\"ticks\":\"outside\",\"zerolinecolor\":\"white\"}},\"shapedefaults\":{\"fillcolor\":\"black\",\"line\":{\"width\":0},\"opacity\":0.3},\"ternary\":{\"aaxis\":{\"gridcolor\":\"white\",\"linecolor\":\"white\",\"showgrid\":true,\"tickcolor\":\"rgb(51,51,51)\",\"ticks\":\"outside\"},\"baxis\":{\"gridcolor\":\"white\",\"linecolor\":\"white\",\"showgrid\":true,\"tickcolor\":\"rgb(51,51,51)\",\"ticks\":\"outside\"},\"bgcolor\":\"rgb(237,237,237)\",\"caxis\":{\"gridcolor\":\"white\",\"linecolor\":\"white\",\"showgrid\":true,\"tickcolor\":\"rgb(51,51,51)\",\"ticks\":\"outside\"}},\"xaxis\":{\"automargin\":true,\"gridcolor\":\"white\",\"linecolor\":\"white\",\"showgrid\":true,\"tickcolor\":\"rgb(51,51,51)\",\"ticks\":\"outside\",\"title\":{\"standoff\":15},\"zerolinecolor\":\"white\"},\"yaxis\":{\"automargin\":true,\"gridcolor\":\"white\",\"linecolor\":\"white\",\"showgrid\":true,\"tickcolor\":\"rgb(51,51,51)\",\"ticks\":\"outside\",\"title\":{\"standoff\":15},\"zerolinecolor\":\"white\"}}},\"xaxis\":{\"anchor\":\"y\",\"domain\":[0.0,1.0],\"title\":{\"text\":\"Ligand Type\"}},\"yaxis\":{\"anchor\":\"x\",\"domain\":[0.0,1.0],\"title\":{\"text\":\"Best in Top 10 RMSD\"}},\"legend\":{\"title\":{\"text\":\"Receptor Conformation Type\"},\"tracegroupgap\":0},\"margin\":{\"t\":60},\"boxmode\":\"group\"},                        {\"responsive\": true}                    ).then(function(){\n",
       "                            \n",
       "var gd = document.getElementById('eae90b9a-f913-4f13-b527-0db71164364e');\n",
       "var x = new MutationObserver(function (mutations, observer) {{\n",
       "        var display = window.getComputedStyle(gd).display;\n",
       "        if (!display || display === 'none') {{\n",
       "            console.log([gd, 'removed!']);\n",
       "            Plotly.purge(gd);\n",
       "            observer.disconnect();\n",
       "        }}\n",
       "}});\n",
       "\n",
       "// Listen for the removal of the full notebook cells\n",
       "var notebookContainer = gd.closest('#notebook-container');\n",
       "if (notebookContainer) {{\n",
       "    x.observe(notebookContainer, {childList: true});\n",
       "}}\n",
       "\n",
       "// Listen for the clearing of the current output cell\n",
       "var outputEl = gd.closest('.output');\n",
       "if (outputEl) {{\n",
       "    x.observe(outputEl, {childList: true});\n",
       "}}\n",
       "\n",
       "                        })                };                });            </script>        </div>"
      ]
     },
     "metadata": {},
     "output_type": "display_data"
    }
   ],
   "source": [
    "import plotly.express as px\n",
    "ligand_titles = {0: \"A-loop IN\", 1: \"A-loop OUT\"}\n",
    "receptor_titles = {0: \"A-loop IN\", 1: \"A-loop OUT\"}\n",
    "tmp_res = resuls_pd.sort_values(\"energies\").groupby(\"ligand_name\").head(10).reset_index()\n",
    "tmp_res = tmp_res.sort_values(\"rmsds\").groupby(\"ligand_name\").head(1).reset_index()\n",
    "tmp_res = tmp_res[[\"energies\", \"rmsds\",\"receptor_categories\", \"ligand_categories\"]]\n",
    "tmp_res[\"receptor_categories\"] = tmp_res[\"receptor_categories\"].apply(lambda x: receptor_titles[x])\n",
    "tmp_res[\"ligand_categories\"] = tmp_res[\"ligand_categories\"].apply(lambda x:ligand_titles[x])\n",
    "tmp_res.columns = [\"Best in Top 10 Energy (kcal/mol)\", \"Best in Top 10 RMSD\", \"Receptor Conformation Type\", \"Ligand Type\"]\n",
    "\n",
    "fig = px.box(tmp_res.sort_values(\"Receptor Conformation Type\"), \n",
    "             x='Ligand Type', y='Best in Top 10 RMSD', \n",
    "             color='Receptor Conformation Type', points=\"all\", \n",
    "             color_discrete_sequence = [\"#FF6C90\", \"#00B0F6\"],\n",
    "             template=\"ggplot2\")\n",
    "'''\n",
    "fig = px.scatter(tmp_res.sort_values(\"Receptor Conformation Type\"), \n",
    "             x='Ligand Type', y='Best in Top 10 RMSD', \n",
    "             color='Receptor Conformation Type',\n",
    "             color_discrete_sequence = [\"#FF6C90\", \"#00B0F6\"],\n",
    "             template=\"ggplot2\")\n",
    "'''\n",
    "fig.update_traces(marker_size=10)\n",
    "fig.show()\n",
    "fig.write_image(\"CDK2_results.svg\")"
   ]
  },
  {
   "cell_type": "code",
   "execution_count": 63,
   "id": "8d1c7dec",
   "metadata": {},
   "outputs": [],
   "source": [
    "fig._data_objs[0].pointpos = 0\n",
    "\n",
    "fig._data_objs[0].jitter = 1\n",
    "fig._data_objs[0].line = dict(color = 'rgba(0,0,0,0)')\n",
    "fig._data_objs[0].fillcolor = 'rgba(0,0,0,0)'\n",
    "fig._data_objs[1].pointpos = 0\n",
    "fig._data_objs[1].line = dict(color = 'rgba(0,0,0,0)')\n",
    "fig._data_objs[1].fillcolor = 'rgba(0,0,0,0)'\n"
   ]
  },
  {
   "cell_type": "code",
   "execution_count": 64,
   "id": "a5cd4261",
   "metadata": {},
   "outputs": [
    {
     "data": {
      "application/vnd.plotly.v1+json": {
       "config": {
        "plotlyServerURL": "https://plot.ly"
       },
       "data": [
        {
         "alignmentgroup": "True",
         "boxpoints": "all",
         "fillcolor": "rgba(0,0,0,0)",
         "hovertemplate": "Receptor Conformation Type=A-loop IN<br>Ligand Type=%{x}<br>Best in Top 10 RMSD=%{y}<extra></extra>",
         "jitter": 1,
         "legendgroup": "A-loop IN",
         "line": {
          "color": "rgba(0,0,0,0)"
         },
         "marker": {
          "color": "#FF6C90",
          "size": 10
         },
         "name": "A-loop IN",
         "notched": false,
         "offsetgroup": "A-loop IN",
         "orientation": "v",
         "pointpos": 0,
         "showlegend": true,
         "type": "box",
         "x": [
          "A-loop IN",
          "A-loop OUT",
          "A-loop OUT",
          "A-loop IN",
          "A-loop IN",
          "A-loop IN",
          "A-loop IN"
         ],
         "x0": " ",
         "xaxis": "x",
         "y": [
          1.8444754078776728,
          3.524417482243753,
          5.173122122151178,
          5.590707582601473,
          6.888610222135857,
          10.675496967121989,
          11.553437789680256
         ],
         "y0": " ",
         "yaxis": "y"
        },
        {
         "alignmentgroup": "True",
         "boxpoints": "all",
         "fillcolor": "rgba(0,0,0,0)",
         "hovertemplate": "Receptor Conformation Type=A-loop OUT<br>Ligand Type=%{x}<br>Best in Top 10 RMSD=%{y}<extra></extra>",
         "legendgroup": "A-loop OUT",
         "line": {
          "color": "rgba(0,0,0,0)"
         },
         "marker": {
          "color": "#00B0F6",
          "size": 10
         },
         "name": "A-loop OUT",
         "notched": false,
         "offsetgroup": "A-loop OUT",
         "orientation": "v",
         "pointpos": 0,
         "showlegend": true,
         "type": "box",
         "x": [
          "A-loop OUT",
          "A-loop OUT",
          "A-loop OUT",
          "A-loop IN",
          "A-loop OUT",
          "A-loop IN",
          "A-loop IN",
          "A-loop IN"
         ],
         "x0": " ",
         "xaxis": "x",
         "y": [
          1.587441212254172,
          4.492267980539257,
          4.667914787074487,
          5.750466927164656,
          6.340192152528258,
          9.894904962936076,
          9.93942535081895,
          10.192454421641289
         ],
         "y0": " ",
         "yaxis": "y"
        }
       ],
       "layout": {
        "boxmode": "group",
        "legend": {
         "title": {
          "text": "Receptor Conformation Type"
         },
         "tracegroupgap": 0
        },
        "margin": {
         "t": 60
        },
        "template": {
         "data": {
          "bar": [
           {
            "error_x": {
             "color": "rgb(51,51,51)"
            },
            "error_y": {
             "color": "rgb(51,51,51)"
            },
            "marker": {
             "line": {
              "color": "rgb(237,237,237)",
              "width": 0.5
             },
             "pattern": {
              "fillmode": "overlay",
              "size": 10,
              "solidity": 0.2
             }
            },
            "type": "bar"
           }
          ],
          "barpolar": [
           {
            "marker": {
             "line": {
              "color": "rgb(237,237,237)",
              "width": 0.5
             },
             "pattern": {
              "fillmode": "overlay",
              "size": 10,
              "solidity": 0.2
             }
            },
            "type": "barpolar"
           }
          ],
          "carpet": [
           {
            "aaxis": {
             "endlinecolor": "rgb(51,51,51)",
             "gridcolor": "white",
             "linecolor": "white",
             "minorgridcolor": "white",
             "startlinecolor": "rgb(51,51,51)"
            },
            "baxis": {
             "endlinecolor": "rgb(51,51,51)",
             "gridcolor": "white",
             "linecolor": "white",
             "minorgridcolor": "white",
             "startlinecolor": "rgb(51,51,51)"
            },
            "type": "carpet"
           }
          ],
          "choropleth": [
           {
            "colorbar": {
             "outlinewidth": 0,
             "tickcolor": "rgb(237,237,237)",
             "ticklen": 6,
             "ticks": "inside"
            },
            "type": "choropleth"
           }
          ],
          "contour": [
           {
            "colorbar": {
             "outlinewidth": 0,
             "tickcolor": "rgb(237,237,237)",
             "ticklen": 6,
             "ticks": "inside"
            },
            "colorscale": [
             [
              0,
              "rgb(20,44,66)"
             ],
             [
              1,
              "rgb(90,179,244)"
             ]
            ],
            "type": "contour"
           }
          ],
          "contourcarpet": [
           {
            "colorbar": {
             "outlinewidth": 0,
             "tickcolor": "rgb(237,237,237)",
             "ticklen": 6,
             "ticks": "inside"
            },
            "type": "contourcarpet"
           }
          ],
          "heatmap": [
           {
            "colorbar": {
             "outlinewidth": 0,
             "tickcolor": "rgb(237,237,237)",
             "ticklen": 6,
             "ticks": "inside"
            },
            "colorscale": [
             [
              0,
              "rgb(20,44,66)"
             ],
             [
              1,
              "rgb(90,179,244)"
             ]
            ],
            "type": "heatmap"
           }
          ],
          "heatmapgl": [
           {
            "colorbar": {
             "outlinewidth": 0,
             "tickcolor": "rgb(237,237,237)",
             "ticklen": 6,
             "ticks": "inside"
            },
            "colorscale": [
             [
              0,
              "rgb(20,44,66)"
             ],
             [
              1,
              "rgb(90,179,244)"
             ]
            ],
            "type": "heatmapgl"
           }
          ],
          "histogram": [
           {
            "marker": {
             "pattern": {
              "fillmode": "overlay",
              "size": 10,
              "solidity": 0.2
             }
            },
            "type": "histogram"
           }
          ],
          "histogram2d": [
           {
            "colorbar": {
             "outlinewidth": 0,
             "tickcolor": "rgb(237,237,237)",
             "ticklen": 6,
             "ticks": "inside"
            },
            "colorscale": [
             [
              0,
              "rgb(20,44,66)"
             ],
             [
              1,
              "rgb(90,179,244)"
             ]
            ],
            "type": "histogram2d"
           }
          ],
          "histogram2dcontour": [
           {
            "colorbar": {
             "outlinewidth": 0,
             "tickcolor": "rgb(237,237,237)",
             "ticklen": 6,
             "ticks": "inside"
            },
            "colorscale": [
             [
              0,
              "rgb(20,44,66)"
             ],
             [
              1,
              "rgb(90,179,244)"
             ]
            ],
            "type": "histogram2dcontour"
           }
          ],
          "mesh3d": [
           {
            "colorbar": {
             "outlinewidth": 0,
             "tickcolor": "rgb(237,237,237)",
             "ticklen": 6,
             "ticks": "inside"
            },
            "type": "mesh3d"
           }
          ],
          "parcoords": [
           {
            "line": {
             "colorbar": {
              "outlinewidth": 0,
              "tickcolor": "rgb(237,237,237)",
              "ticklen": 6,
              "ticks": "inside"
             }
            },
            "type": "parcoords"
           }
          ],
          "pie": [
           {
            "automargin": true,
            "type": "pie"
           }
          ],
          "scatter": [
           {
            "fillpattern": {
             "fillmode": "overlay",
             "size": 10,
             "solidity": 0.2
            },
            "type": "scatter"
           }
          ],
          "scatter3d": [
           {
            "line": {
             "colorbar": {
              "outlinewidth": 0,
              "tickcolor": "rgb(237,237,237)",
              "ticklen": 6,
              "ticks": "inside"
             }
            },
            "marker": {
             "colorbar": {
              "outlinewidth": 0,
              "tickcolor": "rgb(237,237,237)",
              "ticklen": 6,
              "ticks": "inside"
             }
            },
            "type": "scatter3d"
           }
          ],
          "scattercarpet": [
           {
            "marker": {
             "colorbar": {
              "outlinewidth": 0,
              "tickcolor": "rgb(237,237,237)",
              "ticklen": 6,
              "ticks": "inside"
             }
            },
            "type": "scattercarpet"
           }
          ],
          "scattergeo": [
           {
            "marker": {
             "colorbar": {
              "outlinewidth": 0,
              "tickcolor": "rgb(237,237,237)",
              "ticklen": 6,
              "ticks": "inside"
             }
            },
            "type": "scattergeo"
           }
          ],
          "scattergl": [
           {
            "marker": {
             "colorbar": {
              "outlinewidth": 0,
              "tickcolor": "rgb(237,237,237)",
              "ticklen": 6,
              "ticks": "inside"
             }
            },
            "type": "scattergl"
           }
          ],
          "scattermapbox": [
           {
            "marker": {
             "colorbar": {
              "outlinewidth": 0,
              "tickcolor": "rgb(237,237,237)",
              "ticklen": 6,
              "ticks": "inside"
             }
            },
            "type": "scattermapbox"
           }
          ],
          "scatterpolar": [
           {
            "marker": {
             "colorbar": {
              "outlinewidth": 0,
              "tickcolor": "rgb(237,237,237)",
              "ticklen": 6,
              "ticks": "inside"
             }
            },
            "type": "scatterpolar"
           }
          ],
          "scatterpolargl": [
           {
            "marker": {
             "colorbar": {
              "outlinewidth": 0,
              "tickcolor": "rgb(237,237,237)",
              "ticklen": 6,
              "ticks": "inside"
             }
            },
            "type": "scatterpolargl"
           }
          ],
          "scatterternary": [
           {
            "marker": {
             "colorbar": {
              "outlinewidth": 0,
              "tickcolor": "rgb(237,237,237)",
              "ticklen": 6,
              "ticks": "inside"
             }
            },
            "type": "scatterternary"
           }
          ],
          "surface": [
           {
            "colorbar": {
             "outlinewidth": 0,
             "tickcolor": "rgb(237,237,237)",
             "ticklen": 6,
             "ticks": "inside"
            },
            "colorscale": [
             [
              0,
              "rgb(20,44,66)"
             ],
             [
              1,
              "rgb(90,179,244)"
             ]
            ],
            "type": "surface"
           }
          ],
          "table": [
           {
            "cells": {
             "fill": {
              "color": "rgb(237,237,237)"
             },
             "line": {
              "color": "white"
             }
            },
            "header": {
             "fill": {
              "color": "rgb(217,217,217)"
             },
             "line": {
              "color": "white"
             }
            },
            "type": "table"
           }
          ]
         },
         "layout": {
          "annotationdefaults": {
           "arrowhead": 0,
           "arrowwidth": 1
          },
          "autotypenumbers": "strict",
          "coloraxis": {
           "colorbar": {
            "outlinewidth": 0,
            "tickcolor": "rgb(237,237,237)",
            "ticklen": 6,
            "ticks": "inside"
           }
          },
          "colorscale": {
           "sequential": [
            [
             0,
             "rgb(20,44,66)"
            ],
            [
             1,
             "rgb(90,179,244)"
            ]
           ],
           "sequentialminus": [
            [
             0,
             "rgb(20,44,66)"
            ],
            [
             1,
             "rgb(90,179,244)"
            ]
           ]
          },
          "colorway": [
           "#F8766D",
           "#A3A500",
           "#00BF7D",
           "#00B0F6",
           "#E76BF3"
          ],
          "font": {
           "color": "rgb(51,51,51)"
          },
          "geo": {
           "bgcolor": "white",
           "lakecolor": "white",
           "landcolor": "rgb(237,237,237)",
           "showlakes": true,
           "showland": true,
           "subunitcolor": "white"
          },
          "hoverlabel": {
           "align": "left"
          },
          "hovermode": "closest",
          "paper_bgcolor": "white",
          "plot_bgcolor": "rgb(237,237,237)",
          "polar": {
           "angularaxis": {
            "gridcolor": "white",
            "linecolor": "white",
            "showgrid": true,
            "tickcolor": "rgb(51,51,51)",
            "ticks": "outside"
           },
           "bgcolor": "rgb(237,237,237)",
           "radialaxis": {
            "gridcolor": "white",
            "linecolor": "white",
            "showgrid": true,
            "tickcolor": "rgb(51,51,51)",
            "ticks": "outside"
           }
          },
          "scene": {
           "xaxis": {
            "backgroundcolor": "rgb(237,237,237)",
            "gridcolor": "white",
            "gridwidth": 2,
            "linecolor": "white",
            "showbackground": true,
            "showgrid": true,
            "tickcolor": "rgb(51,51,51)",
            "ticks": "outside",
            "zerolinecolor": "white"
           },
           "yaxis": {
            "backgroundcolor": "rgb(237,237,237)",
            "gridcolor": "white",
            "gridwidth": 2,
            "linecolor": "white",
            "showbackground": true,
            "showgrid": true,
            "tickcolor": "rgb(51,51,51)",
            "ticks": "outside",
            "zerolinecolor": "white"
           },
           "zaxis": {
            "backgroundcolor": "rgb(237,237,237)",
            "gridcolor": "white",
            "gridwidth": 2,
            "linecolor": "white",
            "showbackground": true,
            "showgrid": true,
            "tickcolor": "rgb(51,51,51)",
            "ticks": "outside",
            "zerolinecolor": "white"
           }
          },
          "shapedefaults": {
           "fillcolor": "black",
           "line": {
            "width": 0
           },
           "opacity": 0.3
          },
          "ternary": {
           "aaxis": {
            "gridcolor": "white",
            "linecolor": "white",
            "showgrid": true,
            "tickcolor": "rgb(51,51,51)",
            "ticks": "outside"
           },
           "baxis": {
            "gridcolor": "white",
            "linecolor": "white",
            "showgrid": true,
            "tickcolor": "rgb(51,51,51)",
            "ticks": "outside"
           },
           "bgcolor": "rgb(237,237,237)",
           "caxis": {
            "gridcolor": "white",
            "linecolor": "white",
            "showgrid": true,
            "tickcolor": "rgb(51,51,51)",
            "ticks": "outside"
           }
          },
          "xaxis": {
           "automargin": true,
           "gridcolor": "white",
           "linecolor": "white",
           "showgrid": true,
           "tickcolor": "rgb(51,51,51)",
           "ticks": "outside",
           "title": {
            "standoff": 15
           },
           "zerolinecolor": "white"
          },
          "yaxis": {
           "automargin": true,
           "gridcolor": "white",
           "linecolor": "white",
           "showgrid": true,
           "tickcolor": "rgb(51,51,51)",
           "ticks": "outside",
           "title": {
            "standoff": 15
           },
           "zerolinecolor": "white"
          }
         }
        },
        "xaxis": {
         "anchor": "y",
         "domain": [
          0,
          1
         ],
         "title": {
          "text": "Ligand Type"
         }
        },
        "yaxis": {
         "anchor": "x",
         "domain": [
          0,
          1
         ],
         "title": {
          "text": "Best in Top 10 RMSD"
         }
        }
       }
      },
      "text/html": [
       "<div>                            <div id=\"9eb24a19-1460-4054-a0e7-cca69f10b9f6\" class=\"plotly-graph-div\" style=\"height:525px; width:100%;\"></div>            <script type=\"text/javascript\">                require([\"plotly\"], function(Plotly) {                    window.PLOTLYENV=window.PLOTLYENV || {};                                    if (document.getElementById(\"9eb24a19-1460-4054-a0e7-cca69f10b9f6\")) {                    Plotly.newPlot(                        \"9eb24a19-1460-4054-a0e7-cca69f10b9f6\",                        [{\"alignmentgroup\":\"True\",\"boxpoints\":\"all\",\"hovertemplate\":\"Receptor Conformation Type=A-loop IN\\u003cbr\\u003eLigand Type=%{x}\\u003cbr\\u003eBest in Top 10 RMSD=%{y}\\u003cextra\\u003e\\u003c\\u002fextra\\u003e\",\"legendgroup\":\"A-loop IN\",\"marker\":{\"color\":\"#FF6C90\",\"size\":10},\"name\":\"A-loop IN\",\"notched\":false,\"offsetgroup\":\"A-loop IN\",\"orientation\":\"v\",\"showlegend\":true,\"x\":[\"A-loop IN\",\"A-loop OUT\",\"A-loop OUT\",\"A-loop IN\",\"A-loop IN\",\"A-loop IN\",\"A-loop IN\"],\"x0\":\" \",\"xaxis\":\"x\",\"y\":[1.8444754078776728,3.524417482243753,5.173122122151178,5.590707582601473,6.888610222135857,10.675496967121989,11.553437789680256],\"y0\":\" \",\"yaxis\":\"y\",\"type\":\"box\",\"pointpos\":0,\"jitter\":1,\"line\":{\"color\":\"rgba(0,0,0,0)\"},\"fillcolor\":\"rgba(0,0,0,0)\"},{\"alignmentgroup\":\"True\",\"boxpoints\":\"all\",\"hovertemplate\":\"Receptor Conformation Type=A-loop OUT\\u003cbr\\u003eLigand Type=%{x}\\u003cbr\\u003eBest in Top 10 RMSD=%{y}\\u003cextra\\u003e\\u003c\\u002fextra\\u003e\",\"legendgroup\":\"A-loop OUT\",\"marker\":{\"color\":\"#00B0F6\",\"size\":10},\"name\":\"A-loop OUT\",\"notched\":false,\"offsetgroup\":\"A-loop OUT\",\"orientation\":\"v\",\"showlegend\":true,\"x\":[\"A-loop OUT\",\"A-loop OUT\",\"A-loop OUT\",\"A-loop IN\",\"A-loop OUT\",\"A-loop IN\",\"A-loop IN\",\"A-loop IN\"],\"x0\":\" \",\"xaxis\":\"x\",\"y\":[1.587441212254172,4.492267980539257,4.667914787074487,5.750466927164656,6.340192152528258,9.894904962936076,9.93942535081895,10.192454421641289],\"y0\":\" \",\"yaxis\":\"y\",\"type\":\"box\",\"pointpos\":0,\"line\":{\"color\":\"rgba(0,0,0,0)\"},\"fillcolor\":\"rgba(0,0,0,0)\"}],                        {\"template\":{\"data\":{\"barpolar\":[{\"marker\":{\"line\":{\"color\":\"rgb(237,237,237)\",\"width\":0.5},\"pattern\":{\"fillmode\":\"overlay\",\"size\":10,\"solidity\":0.2}},\"type\":\"barpolar\"}],\"bar\":[{\"error_x\":{\"color\":\"rgb(51,51,51)\"},\"error_y\":{\"color\":\"rgb(51,51,51)\"},\"marker\":{\"line\":{\"color\":\"rgb(237,237,237)\",\"width\":0.5},\"pattern\":{\"fillmode\":\"overlay\",\"size\":10,\"solidity\":0.2}},\"type\":\"bar\"}],\"carpet\":[{\"aaxis\":{\"endlinecolor\":\"rgb(51,51,51)\",\"gridcolor\":\"white\",\"linecolor\":\"white\",\"minorgridcolor\":\"white\",\"startlinecolor\":\"rgb(51,51,51)\"},\"baxis\":{\"endlinecolor\":\"rgb(51,51,51)\",\"gridcolor\":\"white\",\"linecolor\":\"white\",\"minorgridcolor\":\"white\",\"startlinecolor\":\"rgb(51,51,51)\"},\"type\":\"carpet\"}],\"choropleth\":[{\"colorbar\":{\"outlinewidth\":0,\"tickcolor\":\"rgb(237,237,237)\",\"ticklen\":6,\"ticks\":\"inside\"},\"type\":\"choropleth\"}],\"contourcarpet\":[{\"colorbar\":{\"outlinewidth\":0,\"tickcolor\":\"rgb(237,237,237)\",\"ticklen\":6,\"ticks\":\"inside\"},\"type\":\"contourcarpet\"}],\"contour\":[{\"colorbar\":{\"outlinewidth\":0,\"tickcolor\":\"rgb(237,237,237)\",\"ticklen\":6,\"ticks\":\"inside\"},\"colorscale\":[[0,\"rgb(20,44,66)\"],[1,\"rgb(90,179,244)\"]],\"type\":\"contour\"}],\"heatmapgl\":[{\"colorbar\":{\"outlinewidth\":0,\"tickcolor\":\"rgb(237,237,237)\",\"ticklen\":6,\"ticks\":\"inside\"},\"colorscale\":[[0,\"rgb(20,44,66)\"],[1,\"rgb(90,179,244)\"]],\"type\":\"heatmapgl\"}],\"heatmap\":[{\"colorbar\":{\"outlinewidth\":0,\"tickcolor\":\"rgb(237,237,237)\",\"ticklen\":6,\"ticks\":\"inside\"},\"colorscale\":[[0,\"rgb(20,44,66)\"],[1,\"rgb(90,179,244)\"]],\"type\":\"heatmap\"}],\"histogram2dcontour\":[{\"colorbar\":{\"outlinewidth\":0,\"tickcolor\":\"rgb(237,237,237)\",\"ticklen\":6,\"ticks\":\"inside\"},\"colorscale\":[[0,\"rgb(20,44,66)\"],[1,\"rgb(90,179,244)\"]],\"type\":\"histogram2dcontour\"}],\"histogram2d\":[{\"colorbar\":{\"outlinewidth\":0,\"tickcolor\":\"rgb(237,237,237)\",\"ticklen\":6,\"ticks\":\"inside\"},\"colorscale\":[[0,\"rgb(20,44,66)\"],[1,\"rgb(90,179,244)\"]],\"type\":\"histogram2d\"}],\"histogram\":[{\"marker\":{\"pattern\":{\"fillmode\":\"overlay\",\"size\":10,\"solidity\":0.2}},\"type\":\"histogram\"}],\"mesh3d\":[{\"colorbar\":{\"outlinewidth\":0,\"tickcolor\":\"rgb(237,237,237)\",\"ticklen\":6,\"ticks\":\"inside\"},\"type\":\"mesh3d\"}],\"parcoords\":[{\"line\":{\"colorbar\":{\"outlinewidth\":0,\"tickcolor\":\"rgb(237,237,237)\",\"ticklen\":6,\"ticks\":\"inside\"}},\"type\":\"parcoords\"}],\"pie\":[{\"automargin\":true,\"type\":\"pie\"}],\"scatter3d\":[{\"line\":{\"colorbar\":{\"outlinewidth\":0,\"tickcolor\":\"rgb(237,237,237)\",\"ticklen\":6,\"ticks\":\"inside\"}},\"marker\":{\"colorbar\":{\"outlinewidth\":0,\"tickcolor\":\"rgb(237,237,237)\",\"ticklen\":6,\"ticks\":\"inside\"}},\"type\":\"scatter3d\"}],\"scattercarpet\":[{\"marker\":{\"colorbar\":{\"outlinewidth\":0,\"tickcolor\":\"rgb(237,237,237)\",\"ticklen\":6,\"ticks\":\"inside\"}},\"type\":\"scattercarpet\"}],\"scattergeo\":[{\"marker\":{\"colorbar\":{\"outlinewidth\":0,\"tickcolor\":\"rgb(237,237,237)\",\"ticklen\":6,\"ticks\":\"inside\"}},\"type\":\"scattergeo\"}],\"scattergl\":[{\"marker\":{\"colorbar\":{\"outlinewidth\":0,\"tickcolor\":\"rgb(237,237,237)\",\"ticklen\":6,\"ticks\":\"inside\"}},\"type\":\"scattergl\"}],\"scattermapbox\":[{\"marker\":{\"colorbar\":{\"outlinewidth\":0,\"tickcolor\":\"rgb(237,237,237)\",\"ticklen\":6,\"ticks\":\"inside\"}},\"type\":\"scattermapbox\"}],\"scatterpolargl\":[{\"marker\":{\"colorbar\":{\"outlinewidth\":0,\"tickcolor\":\"rgb(237,237,237)\",\"ticklen\":6,\"ticks\":\"inside\"}},\"type\":\"scatterpolargl\"}],\"scatterpolar\":[{\"marker\":{\"colorbar\":{\"outlinewidth\":0,\"tickcolor\":\"rgb(237,237,237)\",\"ticklen\":6,\"ticks\":\"inside\"}},\"type\":\"scatterpolar\"}],\"scatter\":[{\"fillpattern\":{\"fillmode\":\"overlay\",\"size\":10,\"solidity\":0.2},\"type\":\"scatter\"}],\"scatterternary\":[{\"marker\":{\"colorbar\":{\"outlinewidth\":0,\"tickcolor\":\"rgb(237,237,237)\",\"ticklen\":6,\"ticks\":\"inside\"}},\"type\":\"scatterternary\"}],\"surface\":[{\"colorbar\":{\"outlinewidth\":0,\"tickcolor\":\"rgb(237,237,237)\",\"ticklen\":6,\"ticks\":\"inside\"},\"colorscale\":[[0,\"rgb(20,44,66)\"],[1,\"rgb(90,179,244)\"]],\"type\":\"surface\"}],\"table\":[{\"cells\":{\"fill\":{\"color\":\"rgb(237,237,237)\"},\"line\":{\"color\":\"white\"}},\"header\":{\"fill\":{\"color\":\"rgb(217,217,217)\"},\"line\":{\"color\":\"white\"}},\"type\":\"table\"}]},\"layout\":{\"annotationdefaults\":{\"arrowhead\":0,\"arrowwidth\":1},\"autotypenumbers\":\"strict\",\"coloraxis\":{\"colorbar\":{\"outlinewidth\":0,\"tickcolor\":\"rgb(237,237,237)\",\"ticklen\":6,\"ticks\":\"inside\"}},\"colorscale\":{\"sequential\":[[0,\"rgb(20,44,66)\"],[1,\"rgb(90,179,244)\"]],\"sequentialminus\":[[0,\"rgb(20,44,66)\"],[1,\"rgb(90,179,244)\"]]},\"colorway\":[\"#F8766D\",\"#A3A500\",\"#00BF7D\",\"#00B0F6\",\"#E76BF3\"],\"font\":{\"color\":\"rgb(51,51,51)\"},\"geo\":{\"bgcolor\":\"white\",\"lakecolor\":\"white\",\"landcolor\":\"rgb(237,237,237)\",\"showlakes\":true,\"showland\":true,\"subunitcolor\":\"white\"},\"hoverlabel\":{\"align\":\"left\"},\"hovermode\":\"closest\",\"paper_bgcolor\":\"white\",\"plot_bgcolor\":\"rgb(237,237,237)\",\"polar\":{\"angularaxis\":{\"gridcolor\":\"white\",\"linecolor\":\"white\",\"showgrid\":true,\"tickcolor\":\"rgb(51,51,51)\",\"ticks\":\"outside\"},\"bgcolor\":\"rgb(237,237,237)\",\"radialaxis\":{\"gridcolor\":\"white\",\"linecolor\":\"white\",\"showgrid\":true,\"tickcolor\":\"rgb(51,51,51)\",\"ticks\":\"outside\"}},\"scene\":{\"xaxis\":{\"backgroundcolor\":\"rgb(237,237,237)\",\"gridcolor\":\"white\",\"gridwidth\":2,\"linecolor\":\"white\",\"showbackground\":true,\"showgrid\":true,\"tickcolor\":\"rgb(51,51,51)\",\"ticks\":\"outside\",\"zerolinecolor\":\"white\"},\"yaxis\":{\"backgroundcolor\":\"rgb(237,237,237)\",\"gridcolor\":\"white\",\"gridwidth\":2,\"linecolor\":\"white\",\"showbackground\":true,\"showgrid\":true,\"tickcolor\":\"rgb(51,51,51)\",\"ticks\":\"outside\",\"zerolinecolor\":\"white\"},\"zaxis\":{\"backgroundcolor\":\"rgb(237,237,237)\",\"gridcolor\":\"white\",\"gridwidth\":2,\"linecolor\":\"white\",\"showbackground\":true,\"showgrid\":true,\"tickcolor\":\"rgb(51,51,51)\",\"ticks\":\"outside\",\"zerolinecolor\":\"white\"}},\"shapedefaults\":{\"fillcolor\":\"black\",\"line\":{\"width\":0},\"opacity\":0.3},\"ternary\":{\"aaxis\":{\"gridcolor\":\"white\",\"linecolor\":\"white\",\"showgrid\":true,\"tickcolor\":\"rgb(51,51,51)\",\"ticks\":\"outside\"},\"baxis\":{\"gridcolor\":\"white\",\"linecolor\":\"white\",\"showgrid\":true,\"tickcolor\":\"rgb(51,51,51)\",\"ticks\":\"outside\"},\"bgcolor\":\"rgb(237,237,237)\",\"caxis\":{\"gridcolor\":\"white\",\"linecolor\":\"white\",\"showgrid\":true,\"tickcolor\":\"rgb(51,51,51)\",\"ticks\":\"outside\"}},\"xaxis\":{\"automargin\":true,\"gridcolor\":\"white\",\"linecolor\":\"white\",\"showgrid\":true,\"tickcolor\":\"rgb(51,51,51)\",\"ticks\":\"outside\",\"title\":{\"standoff\":15},\"zerolinecolor\":\"white\"},\"yaxis\":{\"automargin\":true,\"gridcolor\":\"white\",\"linecolor\":\"white\",\"showgrid\":true,\"tickcolor\":\"rgb(51,51,51)\",\"ticks\":\"outside\",\"title\":{\"standoff\":15},\"zerolinecolor\":\"white\"}}},\"xaxis\":{\"anchor\":\"y\",\"domain\":[0.0,1.0],\"title\":{\"text\":\"Ligand Type\"}},\"yaxis\":{\"anchor\":\"x\",\"domain\":[0.0,1.0],\"title\":{\"text\":\"Best in Top 10 RMSD\"}},\"legend\":{\"title\":{\"text\":\"Receptor Conformation Type\"},\"tracegroupgap\":0},\"margin\":{\"t\":60},\"boxmode\":\"group\"},                        {\"responsive\": true}                    ).then(function(){\n",
       "                            \n",
       "var gd = document.getElementById('9eb24a19-1460-4054-a0e7-cca69f10b9f6');\n",
       "var x = new MutationObserver(function (mutations, observer) {{\n",
       "        var display = window.getComputedStyle(gd).display;\n",
       "        if (!display || display === 'none') {{\n",
       "            console.log([gd, 'removed!']);\n",
       "            Plotly.purge(gd);\n",
       "            observer.disconnect();\n",
       "        }}\n",
       "}});\n",
       "\n",
       "// Listen for the removal of the full notebook cells\n",
       "var notebookContainer = gd.closest('#notebook-container');\n",
       "if (notebookContainer) {{\n",
       "    x.observe(notebookContainer, {childList: true});\n",
       "}}\n",
       "\n",
       "// Listen for the clearing of the current output cell\n",
       "var outputEl = gd.closest('.output');\n",
       "if (outputEl) {{\n",
       "    x.observe(outputEl, {childList: true});\n",
       "}}\n",
       "\n",
       "                        })                };                });            </script>        </div>"
      ]
     },
     "metadata": {},
     "output_type": "display_data"
    }
   ],
   "source": [
    "fig.show()"
   ]
  },
  {
   "cell_type": "code",
   "execution_count": 1,
   "id": "abe357ba",
   "metadata": {},
   "outputs": [],
   "source": [
    "import plotly.io as pio\n",
    "templ = pio.templates[\"ggplot2\"]"
   ]
  },
  {
   "cell_type": "code",
   "execution_count": 13,
   "id": "ec0ce41d",
   "metadata": {},
   "outputs": [
    {
     "data": {
      "text/plain": [
       "[[0, 'rgb(20,44,66)'], [1, 'rgb(90,179,244)']]"
      ]
     },
     "execution_count": 13,
     "metadata": {},
     "output_type": "execute_result"
    }
   ],
   "source": [
    "templ._orphan_props[\"layout\"][\"colorscale\"][\"sequential\"]"
   ]
  }
 ],
 "metadata": {
  "kernelspec": {
   "display_name": "Python 3 (ipykernel)",
   "language": "python",
   "name": "python3"
  },
  "language_info": {
   "codemirror_mode": {
    "name": "ipython",
    "version": 3
   },
   "file_extension": ".py",
   "mimetype": "text/x-python",
   "name": "python",
   "nbconvert_exporter": "python",
   "pygments_lexer": "ipython3",
   "version": "3.11.4"
  }
 },
 "nbformat": 4,
 "nbformat_minor": 5
}
