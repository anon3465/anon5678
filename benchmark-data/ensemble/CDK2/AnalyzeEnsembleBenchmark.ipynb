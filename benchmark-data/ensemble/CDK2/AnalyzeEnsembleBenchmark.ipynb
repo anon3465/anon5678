{
 "cells": [
  {
   "cell_type": "code",
   "execution_count": 1,
   "id": "6da66f84",
   "metadata": {},
   "outputs": [],
   "source": [
    "import os\n",
    "import pandas as pd\n",
    "from rdkit import Chem\n",
    "from pathlib import Path \n"
   ]
  },
  {
   "cell_type": "markdown",
   "id": "89977df8",
   "metadata": {},
   "source": [
    "## Benchmark meta dataset\n",
    "\n",
    "CDK2 highly flexible kinase and a major cancer target.\n",
    "Related dataset with the ensemble of five representative conformations in the ensemble.\n"
   ]
  },
  {
   "cell_type": "code",
   "execution_count": 4,
   "id": "924d473d",
   "metadata": {},
   "outputs": [],
   "source": [
    "full_dataset = pd.read_csv(\"./CDK2_dataset_labels.csv\")"
   ]
  },
  {
   "cell_type": "code",
   "execution_count": 5,
   "id": "32d24c6f",
   "metadata": {},
   "outputs": [
    {
     "data": {
      "text/html": [
       "<div>\n",
       "<style scoped>\n",
       "    .dataframe tbody tr th:only-of-type {\n",
       "        vertical-align: middle;\n",
       "    }\n",
       "\n",
       "    .dataframe tbody tr th {\n",
       "        vertical-align: top;\n",
       "    }\n",
       "\n",
       "    .dataframe thead th {\n",
       "        text-align: right;\n",
       "    }\n",
       "</style>\n",
       "<table border=\"1\" class=\"dataframe\">\n",
       "  <thead>\n",
       "    <tr style=\"text-align: right;\">\n",
       "      <th></th>\n",
       "      <th>pdb_code</th>\n",
       "      <th>ligand_name</th>\n",
       "      <th>dof</th>\n",
       "      <th>cyclin_bound</th>\n",
       "      <th>inhibitor_label</th>\n",
       "      <th>DFG_label</th>\n",
       "      <th>A_loop_label</th>\n",
       "      <th>activity_label</th>\n",
       "      <th>CDK_label</th>\n",
       "    </tr>\n",
       "  </thead>\n",
       "  <tbody>\n",
       "    <tr>\n",
       "      <th>0</th>\n",
       "      <td>5A14</td>\n",
       "      <td>LQ5</td>\n",
       "      <td>10</td>\n",
       "      <td>no</td>\n",
       "      <td>type II</td>\n",
       "      <td>out</td>\n",
       "      <td>out-out</td>\n",
       "      <td>inactive</td>\n",
       "      <td>CDK2_human</td>\n",
       "    </tr>\n",
       "    <tr>\n",
       "      <th>1</th>\n",
       "      <td>4KD1</td>\n",
       "      <td>dinaciclib</td>\n",
       "      <td>9</td>\n",
       "      <td>no</td>\n",
       "      <td>type I</td>\n",
       "      <td>in</td>\n",
       "      <td>out-out</td>\n",
       "      <td>inactive</td>\n",
       "      <td>CDK2_human</td>\n",
       "    </tr>\n",
       "    <tr>\n",
       "      <th>2</th>\n",
       "      <td>5L2W</td>\n",
       "      <td>dinaciclib</td>\n",
       "      <td>9</td>\n",
       "      <td>yes</td>\n",
       "      <td>type I</td>\n",
       "      <td>in</td>\n",
       "      <td>in-in</td>\n",
       "      <td>inactive</td>\n",
       "      <td>CDK2_human</td>\n",
       "    </tr>\n",
       "    <tr>\n",
       "      <th>3</th>\n",
       "      <td>3PJ8</td>\n",
       "      <td>roscovitine</td>\n",
       "      <td>11</td>\n",
       "      <td>no</td>\n",
       "      <td>type I</td>\n",
       "      <td>in</td>\n",
       "      <td>out-out</td>\n",
       "      <td>inactive</td>\n",
       "      <td>CDK2_human</td>\n",
       "    </tr>\n",
       "    <tr>\n",
       "      <th>4</th>\n",
       "      <td>3DDQ</td>\n",
       "      <td>roscovitine</td>\n",
       "      <td>11</td>\n",
       "      <td>yes</td>\n",
       "      <td>type I</td>\n",
       "      <td>in</td>\n",
       "      <td>in-in</td>\n",
       "      <td>inactive</td>\n",
       "      <td>CDK2_human</td>\n",
       "    </tr>\n",
       "    <tr>\n",
       "      <th>5</th>\n",
       "      <td>6GUH</td>\n",
       "      <td>AZ5438</td>\n",
       "      <td>7</td>\n",
       "      <td>no</td>\n",
       "      <td>type I</td>\n",
       "      <td>in</td>\n",
       "      <td>none-out</td>\n",
       "      <td>inactive</td>\n",
       "      <td>CDK2_human</td>\n",
       "    </tr>\n",
       "    <tr>\n",
       "      <th>6</th>\n",
       "      <td>6GUE</td>\n",
       "      <td>AZ5438</td>\n",
       "      <td>7</td>\n",
       "      <td>yes</td>\n",
       "      <td>type I</td>\n",
       "      <td>in</td>\n",
       "      <td>in-in</td>\n",
       "      <td>inactive</td>\n",
       "      <td>CDK2_human</td>\n",
       "    </tr>\n",
       "    <tr>\n",
       "      <th>7</th>\n",
       "      <td>6GUK</td>\n",
       "      <td>CGP74514A</td>\n",
       "      <td>7</td>\n",
       "      <td>no</td>\n",
       "      <td>type I</td>\n",
       "      <td>in</td>\n",
       "      <td>out-out</td>\n",
       "      <td>inactive</td>\n",
       "      <td>CDK2_human</td>\n",
       "    </tr>\n",
       "    <tr>\n",
       "      <th>8</th>\n",
       "      <td>6GUF</td>\n",
       "      <td>CGP74514A</td>\n",
       "      <td>7</td>\n",
       "      <td>yes</td>\n",
       "      <td>type I</td>\n",
       "      <td>in</td>\n",
       "      <td>in-in</td>\n",
       "      <td>inactive</td>\n",
       "      <td>CDK2_human</td>\n",
       "    </tr>\n",
       "    <tr>\n",
       "      <th>9</th>\n",
       "      <td>6GUB</td>\n",
       "      <td>flavopiridol</td>\n",
       "      <td>8</td>\n",
       "      <td>yes</td>\n",
       "      <td>type I</td>\n",
       "      <td>in</td>\n",
       "      <td>out-out</td>\n",
       "      <td>inactive</td>\n",
       "      <td>CDK2_human</td>\n",
       "    </tr>\n",
       "  </tbody>\n",
       "</table>\n",
       "</div>"
      ],
      "text/plain": [
       "  pdb_code   ligand_name  dof cyclin_bound inhibitor_label DFG_label  \\\n",
       "0     5A14           LQ5   10           no         type II       out   \n",
       "1     4KD1    dinaciclib    9           no          type I        in   \n",
       "2     5L2W    dinaciclib    9          yes          type I        in   \n",
       "3     3PJ8   roscovitine   11           no          type I        in   \n",
       "4     3DDQ   roscovitine   11          yes          type I        in   \n",
       "5     6GUH        AZ5438    7           no          type I        in   \n",
       "6     6GUE        AZ5438    7          yes          type I        in   \n",
       "7     6GUK     CGP74514A    7           no          type I        in   \n",
       "8     6GUF     CGP74514A    7          yes          type I        in   \n",
       "9     6GUB  flavopiridol    8          yes          type I        in   \n",
       "\n",
       "  A_loop_label activity_label   CDK_label  \n",
       "0      out-out       inactive  CDK2_human  \n",
       "1      out-out       inactive  CDK2_human  \n",
       "2        in-in       inactive  CDK2_human  \n",
       "3      out-out       inactive  CDK2_human  \n",
       "4        in-in       inactive  CDK2_human  \n",
       "5     none-out       inactive  CDK2_human  \n",
       "6        in-in       inactive  CDK2_human  \n",
       "7      out-out       inactive  CDK2_human  \n",
       "8        in-in       inactive  CDK2_human  \n",
       "9      out-out       inactive  CDK2_human  "
      ]
     },
     "execution_count": 5,
     "metadata": {},
     "output_type": "execute_result"
    }
   ],
   "source": [
    "full_dataset"
   ]
  },
  {
   "cell_type": "code",
   "execution_count": 114,
   "id": "297e29d9",
   "metadata": {},
   "outputs": [
    {
     "data": {
      "text/html": [
       "<div>\n",
       "<style scoped>\n",
       "    .dataframe tbody tr th:only-of-type {\n",
       "        vertical-align: middle;\n",
       "    }\n",
       "\n",
       "    .dataframe tbody tr th {\n",
       "        vertical-align: top;\n",
       "    }\n",
       "\n",
       "    .dataframe thead th {\n",
       "        text-align: right;\n",
       "    }\n",
       "</style>\n",
       "<table border=\"1\" class=\"dataframe\">\n",
       "  <thead>\n",
       "    <tr style=\"text-align: right;\">\n",
       "      <th></th>\n",
       "      <th>pdb_code</th>\n",
       "      <th>dof</th>\n",
       "      <th>cyclin_bound</th>\n",
       "      <th>inhibitor_label</th>\n",
       "    </tr>\n",
       "  </thead>\n",
       "  <tbody>\n",
       "    <tr>\n",
       "      <th>0</th>\n",
       "      <td>5A14</td>\n",
       "      <td>10</td>\n",
       "      <td>no</td>\n",
       "      <td>type II</td>\n",
       "    </tr>\n",
       "    <tr>\n",
       "      <th>1</th>\n",
       "      <td>4KD1</td>\n",
       "      <td>9</td>\n",
       "      <td>no</td>\n",
       "      <td>type I</td>\n",
       "    </tr>\n",
       "    <tr>\n",
       "      <th>2</th>\n",
       "      <td>5L2W</td>\n",
       "      <td>9</td>\n",
       "      <td>yes</td>\n",
       "      <td>type I</td>\n",
       "    </tr>\n",
       "    <tr>\n",
       "      <th>3</th>\n",
       "      <td>3PJ8</td>\n",
       "      <td>11</td>\n",
       "      <td>no</td>\n",
       "      <td>type I</td>\n",
       "    </tr>\n",
       "    <tr>\n",
       "      <th>4</th>\n",
       "      <td>3DDQ</td>\n",
       "      <td>11</td>\n",
       "      <td>yes</td>\n",
       "      <td>type I</td>\n",
       "    </tr>\n",
       "    <tr>\n",
       "      <th>5</th>\n",
       "      <td>6GUH</td>\n",
       "      <td>7</td>\n",
       "      <td>no</td>\n",
       "      <td>type I</td>\n",
       "    </tr>\n",
       "    <tr>\n",
       "      <th>6</th>\n",
       "      <td>6GUE</td>\n",
       "      <td>7</td>\n",
       "      <td>yes</td>\n",
       "      <td>type I</td>\n",
       "    </tr>\n",
       "    <tr>\n",
       "      <th>7</th>\n",
       "      <td>6GUK</td>\n",
       "      <td>7</td>\n",
       "      <td>no</td>\n",
       "      <td>type I</td>\n",
       "    </tr>\n",
       "    <tr>\n",
       "      <th>8</th>\n",
       "      <td>6GUF</td>\n",
       "      <td>7</td>\n",
       "      <td>yes</td>\n",
       "      <td>type I</td>\n",
       "    </tr>\n",
       "    <tr>\n",
       "      <th>9</th>\n",
       "      <td>6GUB</td>\n",
       "      <td>8</td>\n",
       "      <td>yes</td>\n",
       "      <td>type I</td>\n",
       "    </tr>\n",
       "  </tbody>\n",
       "</table>\n",
       "</div>"
      ],
      "text/plain": [
       "  pdb_code  dof cyclin_bound inhibitor_label\n",
       "0     5A14   10           no         type II\n",
       "1     4KD1    9           no          type I\n",
       "2     5L2W    9          yes          type I\n",
       "3     3PJ8   11           no          type I\n",
       "4     3DDQ   11          yes          type I\n",
       "5     6GUH    7           no          type I\n",
       "6     6GUE    7          yes          type I\n",
       "7     6GUK    7           no          type I\n",
       "8     6GUF    7          yes          type I\n",
       "9     6GUB    8          yes          type I"
      ]
     },
     "execution_count": 114,
     "metadata": {},
     "output_type": "execute_result"
    }
   ],
   "source": [
    "full_dataset[[\"pdb_code\", \"dof\", \"cyclin_bound\", \"inhibitor_label\"]]"
   ]
  },
  {
   "cell_type": "code",
   "execution_count": 8,
   "id": "a0ab3736",
   "metadata": {},
   "outputs": [
    {
     "name": "stdout",
     "output_type": "stream",
     "text": [
      "../benchmark-ensemble-redock-results/5A14/analysis/results.csv\n",
      "exists\n",
      "../benchmark-ensemble-redock-results/4KD1/analysis/results.csv\n",
      "exists\n",
      "../benchmark-ensemble-redock-results/5L2W/analysis/results.csv\n",
      "exists\n",
      "../benchmark-ensemble-redock-results/3PJ8/analysis/results.csv\n",
      "exists\n",
      "../benchmark-ensemble-redock-results/3DDQ/analysis/results.csv\n",
      "exists\n",
      "../benchmark-ensemble-redock-results/6GUH/analysis/results.csv\n",
      "exists\n",
      "../benchmark-ensemble-redock-results/6GUE/analysis/results.csv\n",
      "exists\n",
      "../benchmark-ensemble-redock-results/6GUK/analysis/results.csv\n",
      "exists\n",
      "../benchmark-ensemble-redock-results/6GUF/analysis/results.csv\n",
      "exists\n",
      "../benchmark-ensemble-redock-results/6GUB/analysis/results.csv\n",
      "exists\n"
     ]
    }
   ],
   "source": [
    "# load the results\n",
    "import glob \n",
    "# find the ligands for which we have results\n",
    "root_dir = \"../benchmark-ensemble-redock-results\"\n",
    "results_pd = None\n",
    "for i, row in full_dataset.iterrows():\n",
    "    pdb_id = row[\"pdb_code\"]\n",
    "    pdb_id_l = pdb_id.lower()\n",
    "    results_file = Path(root_dir) / \"{}/analysis/results.csv\".format(pdb_id)  \n",
    "    print(results_file)\n",
    "    if results_file.exists():\n",
    "        print(\"exists\")\n",
    "        if results_pd is None:\n",
    "            results_pd = pd.read_csv(results_file)\n",
    "            results_pd[\"pdb_id\"] = [pdb_id for i in range(results_pd.shape[0])]\n",
    "        else:\n",
    "            tmp = pd.read_csv(results_file)\n",
    "            tmp[\"pdb_id\"] = [pdb_id for i in range(tmp.shape[0])]\n",
    "            results_pd = pd.concat([results_pd, tmp])"
   ]
  },
  {
   "cell_type": "code",
   "execution_count": 9,
   "id": "6114b170",
   "metadata": {},
   "outputs": [
    {
     "data": {
      "text/html": [
       "<div>\n",
       "<style scoped>\n",
       "    .dataframe tbody tr th:only-of-type {\n",
       "        vertical-align: middle;\n",
       "    }\n",
       "\n",
       "    .dataframe tbody tr th {\n",
       "        vertical-align: top;\n",
       "    }\n",
       "\n",
       "    .dataframe thead th {\n",
       "        text-align: right;\n",
       "    }\n",
       "</style>\n",
       "<table border=\"1\" class=\"dataframe\">\n",
       "  <thead>\n",
       "    <tr style=\"text-align: right;\">\n",
       "      <th></th>\n",
       "      <th>Unnamed: 0</th>\n",
       "      <th>Energy (kcal/mol)</th>\n",
       "      <th>RMSD</th>\n",
       "      <th>Cluster size rank</th>\n",
       "      <th>Receptor Name</th>\n",
       "      <th>pdb_id</th>\n",
       "    </tr>\n",
       "  </thead>\n",
       "  <tbody>\n",
       "    <tr>\n",
       "      <th>0</th>\n",
       "      <td>0</td>\n",
       "      <td>-14.55</td>\n",
       "      <td>1.38</td>\n",
       "      <td>22</td>\n",
       "      <td>5a14_receptor_aligned</td>\n",
       "      <td>5A14</td>\n",
       "    </tr>\n",
       "    <tr>\n",
       "      <th>1</th>\n",
       "      <td>1</td>\n",
       "      <td>-11.24</td>\n",
       "      <td>12.10</td>\n",
       "      <td>4</td>\n",
       "      <td>5a14_receptor_aligned</td>\n",
       "      <td>5A14</td>\n",
       "    </tr>\n",
       "    <tr>\n",
       "      <th>2</th>\n",
       "      <td>2</td>\n",
       "      <td>-10.82</td>\n",
       "      <td>1.47</td>\n",
       "      <td>23</td>\n",
       "      <td>5a14_receptor_aligned</td>\n",
       "      <td>5A14</td>\n",
       "    </tr>\n",
       "    <tr>\n",
       "      <th>3</th>\n",
       "      <td>3</td>\n",
       "      <td>-9.46</td>\n",
       "      <td>4.67</td>\n",
       "      <td>10</td>\n",
       "      <td>6guh_receptor_aligned</td>\n",
       "      <td>5A14</td>\n",
       "    </tr>\n",
       "    <tr>\n",
       "      <th>4</th>\n",
       "      <td>4</td>\n",
       "      <td>-9.15</td>\n",
       "      <td>4.09</td>\n",
       "      <td>3</td>\n",
       "      <td>6guh_receptor_aligned</td>\n",
       "      <td>5A14</td>\n",
       "    </tr>\n",
       "    <tr>\n",
       "      <th>...</th>\n",
       "      <td>...</td>\n",
       "      <td>...</td>\n",
       "      <td>...</td>\n",
       "      <td>...</td>\n",
       "      <td>...</td>\n",
       "      <td>...</td>\n",
       "    </tr>\n",
       "    <tr>\n",
       "      <th>4</th>\n",
       "      <td>4</td>\n",
       "      <td>-10.05</td>\n",
       "      <td>5.66</td>\n",
       "      <td>6</td>\n",
       "      <td>6gub_receptor_aligned</td>\n",
       "      <td>6GUB</td>\n",
       "    </tr>\n",
       "    <tr>\n",
       "      <th>5</th>\n",
       "      <td>5</td>\n",
       "      <td>-9.43</td>\n",
       "      <td>5.49</td>\n",
       "      <td>3</td>\n",
       "      <td>6gub_receptor_aligned</td>\n",
       "      <td>6GUB</td>\n",
       "    </tr>\n",
       "    <tr>\n",
       "      <th>6</th>\n",
       "      <td>6</td>\n",
       "      <td>-8.44</td>\n",
       "      <td>7.71</td>\n",
       "      <td>8</td>\n",
       "      <td>6guh_receptor_aligned</td>\n",
       "      <td>6GUB</td>\n",
       "    </tr>\n",
       "    <tr>\n",
       "      <th>7</th>\n",
       "      <td>7</td>\n",
       "      <td>-7.48</td>\n",
       "      <td>6.37</td>\n",
       "      <td>7</td>\n",
       "      <td>6guh_receptor_aligned</td>\n",
       "      <td>6GUB</td>\n",
       "    </tr>\n",
       "    <tr>\n",
       "      <th>8</th>\n",
       "      <td>8</td>\n",
       "      <td>3.36</td>\n",
       "      <td>6.22</td>\n",
       "      <td>9</td>\n",
       "      <td>5a14_receptor_aligned</td>\n",
       "      <td>6GUB</td>\n",
       "    </tr>\n",
       "  </tbody>\n",
       "</table>\n",
       "<p>618 rows × 6 columns</p>\n",
       "</div>"
      ],
      "text/plain": [
       "    Unnamed: 0  Energy (kcal/mol)   RMSD  Cluster size rank  \\\n",
       "0            0             -14.55   1.38                 22   \n",
       "1            1             -11.24  12.10                  4   \n",
       "2            2             -10.82   1.47                 23   \n",
       "3            3              -9.46   4.67                 10   \n",
       "4            4              -9.15   4.09                  3   \n",
       "..         ...                ...    ...                ...   \n",
       "4            4             -10.05   5.66                  6   \n",
       "5            5              -9.43   5.49                  3   \n",
       "6            6              -8.44   7.71                  8   \n",
       "7            7              -7.48   6.37                  7   \n",
       "8            8               3.36   6.22                  9   \n",
       "\n",
       "            Receptor Name pdb_id  \n",
       "0   5a14_receptor_aligned   5A14  \n",
       "1   5a14_receptor_aligned   5A14  \n",
       "2   5a14_receptor_aligned   5A14  \n",
       "3   6guh_receptor_aligned   5A14  \n",
       "4   6guh_receptor_aligned   5A14  \n",
       "..                    ...    ...  \n",
       "4   6gub_receptor_aligned   6GUB  \n",
       "5   6gub_receptor_aligned   6GUB  \n",
       "6   6guh_receptor_aligned   6GUB  \n",
       "7   6guh_receptor_aligned   6GUB  \n",
       "8   5a14_receptor_aligned   6GUB  \n",
       "\n",
       "[618 rows x 6 columns]"
      ]
     },
     "execution_count": 9,
     "metadata": {},
     "output_type": "execute_result"
    }
   ],
   "source": [
    "results_pd"
   ]
  },
  {
   "cell_type": "code",
   "execution_count": 32,
   "id": "f8a3a947",
   "metadata": {},
   "outputs": [],
   "source": [
    "receptor_types = {\n",
    "    \"5A14\": \"DFG out\",\n",
    "    \"4KD1\": \"no cyclin\",\n",
    "    \"5L2W\": \"with cyclin\",\n",
    "    \"3PJ8\": \"no cyclin\",\n",
    "    \"3DDQ\": \"with cyclin\",\n",
    "    \"6GUH\": \"no cyclin\",\n",
    "    \"6GUE\": \"with cyclin\",\n",
    "    \"6GUK\": \"no cyclin\",\n",
    "    \"6GUF\": \"with cyclin\",\n",
    "    \"6GUB\": \"with cyclin\"\n",
    "}"
   ]
  },
  {
   "cell_type": "code",
   "execution_count": 105,
   "id": "5fb7dd09",
   "metadata": {},
   "outputs": [
    {
     "data": {
      "application/vnd.plotly.v1+json": {
       "config": {
        "plotlyServerURL": "https://plot.ly"
       },
       "data": [
        {
         "hovertemplate": "Receptor=5a14<br>Receptor Type=DFG out<br>RMSD=%{x}<br>Energy (kcal/mol)=%{y}<extra></extra>",
         "legendgroup": "5a14, DFG out",
         "marker": {
          "color": "#f0f921",
          "line": {
           "color": "DarkSlateGrey",
           "width": 1
          },
          "size": 8,
          "symbol": "circle"
         },
         "mode": "markers",
         "name": "5a14, DFG out",
         "orientation": "v",
         "showlegend": true,
         "type": "scatter",
         "x": [
          1.38,
          12.1,
          1.47
         ],
         "xaxis": "x",
         "y": [
          -14.55,
          -11.24,
          -10.82
         ],
         "yaxis": "y"
        },
        {
         "hovertemplate": "Receptor=3pj8<br>Receptor Type=no cyclin<br>RMSD=%{x}<br>Energy (kcal/mol)=%{y}<extra></extra>",
         "legendgroup": "3pj8, no cyclin",
         "marker": {
          "color": "#fdca26",
          "line": {
           "color": "DarkSlateGrey",
           "width": 1
          },
          "size": 8,
          "symbol": "x"
         },
         "mode": "markers",
         "name": "3pj8, no cyclin",
         "orientation": "v",
         "showlegend": true,
         "type": "scatter",
         "x": [
          6.43,
          6.48,
          12.2,
          13.28,
          4.34
         ],
         "xaxis": "x",
         "y": [
          23.18,
          17.54,
          16.23,
          15.01,
          7.44
         ],
         "yaxis": "y"
        },
        {
         "hovertemplate": "Receptor=6guk<br>Receptor Type=no cyclin<br>RMSD=%{x}<br>Energy (kcal/mol)=%{y}<extra></extra>",
         "legendgroup": "6guk, no cyclin",
         "marker": {
          "color": "#fb9f3a",
          "line": {
           "color": "DarkSlateGrey",
           "width": 1
          },
          "size": 8,
          "symbol": "x"
         },
         "mode": "markers",
         "name": "6guk, no cyclin",
         "orientation": "v",
         "showlegend": true,
         "type": "scatter",
         "x": [
          4.49,
          11.99,
          12.2
         ],
         "xaxis": "x",
         "y": [
          20.98,
          18.19,
          19.68
         ],
         "yaxis": "y"
        },
        {
         "hovertemplate": "Receptor=4kd1<br>Receptor Type=no cyclin<br>RMSD=%{x}<br>Energy (kcal/mol)=%{y}<extra></extra>",
         "legendgroup": "4kd1, no cyclin",
         "marker": {
          "color": "#ed7953",
          "line": {
           "color": "DarkSlateGrey",
           "width": 1
          },
          "size": 8,
          "symbol": "x"
         },
         "mode": "markers",
         "name": "4kd1, no cyclin",
         "orientation": "v",
         "showlegend": true,
         "type": "scatter",
         "x": [
          4.92,
          13.1
         ],
         "xaxis": "x",
         "y": [
          19.85,
          17.05
         ],
         "yaxis": "y"
        },
        {
         "hovertemplate": "Receptor=6guh<br>Receptor Type=no cyclin<br>RMSD=%{x}<br>Energy (kcal/mol)=%{y}<extra></extra>",
         "legendgroup": "6guh, no cyclin",
         "marker": {
          "color": "#d8576b",
          "line": {
           "color": "DarkSlateGrey",
           "width": 1
          },
          "size": 8,
          "symbol": "x"
         },
         "mode": "markers",
         "name": "6guh, no cyclin",
         "orientation": "v",
         "showlegend": true,
         "type": "scatter",
         "x": [
          12.65,
          12.44,
          3.89,
          4.67,
          4.09,
          12.47,
          4.1,
          11.72,
          3.54,
          4.18,
          12.8
         ],
         "xaxis": "x",
         "y": [
          -6.45,
          -7.63,
          -7.18,
          -9.46,
          -9.15,
          -8.26,
          -9.06,
          -8.06,
          -7.89,
          -7.81,
          -8.13
         ],
         "yaxis": "y"
        },
        {
         "hovertemplate": "Receptor=3ddq<br>Receptor Type=with cyclin<br>RMSD=%{x}<br>Energy (kcal/mol)=%{y}<extra></extra>",
         "legendgroup": "3ddq, with cyclin",
         "marker": {
          "color": "#bd3786",
          "line": {
           "color": "DarkSlateGrey",
           "width": 1
          },
          "size": 8,
          "symbol": "triangle-up"
         },
         "mode": "markers",
         "name": "3ddq, with cyclin",
         "orientation": "v",
         "showlegend": true,
         "type": "scatter",
         "x": [
          3.94,
          5.49,
          6.34
         ],
         "xaxis": "x",
         "y": [
          63.08,
          62.65,
          64.38
         ],
         "yaxis": "y"
        },
        {
         "hovertemplate": "Receptor=6gue<br>Receptor Type=with cyclin<br>RMSD=%{x}<br>Energy (kcal/mol)=%{y}<extra></extra>",
         "legendgroup": "6gue, with cyclin",
         "marker": {
          "color": "#9c179e",
          "line": {
           "color": "DarkSlateGrey",
           "width": 1
          },
          "size": 8,
          "symbol": "triangle-up"
         },
         "mode": "markers",
         "name": "6gue, with cyclin",
         "orientation": "v",
         "showlegend": true,
         "type": "scatter",
         "x": [
          12.05,
          7.01,
          6.51,
          12.85
         ],
         "xaxis": "x",
         "y": [
          51.37,
          36.47,
          66.21,
          68.1
         ],
         "yaxis": "y"
        },
        {
         "hovertemplate": "Receptor=5l2w<br>Receptor Type=with cyclin<br>RMSD=%{x}<br>Energy (kcal/mol)=%{y}<extra></extra>",
         "legendgroup": "5l2w, with cyclin",
         "marker": {
          "color": "#7201a8",
          "line": {
           "color": "DarkSlateGrey",
           "width": 1
          },
          "size": 8,
          "symbol": "triangle-up"
         },
         "mode": "markers",
         "name": "5l2w, with cyclin",
         "orientation": "v",
         "showlegend": true,
         "type": "scatter",
         "x": [
          11.97,
          5.55,
          11.94
         ],
         "xaxis": "x",
         "y": [
          54.75,
          51.97,
          45.58
         ],
         "yaxis": "y"
        },
        {
         "hovertemplate": "Receptor=6guf<br>Receptor Type=with cyclin<br>RMSD=%{x}<br>Energy (kcal/mol)=%{y}<extra></extra>",
         "legendgroup": "6guf, with cyclin",
         "marker": {
          "color": "#46039f",
          "line": {
           "color": "DarkSlateGrey",
           "width": 1
          },
          "size": 8,
          "symbol": "triangle-up"
         },
         "mode": "markers",
         "name": "6guf, with cyclin",
         "orientation": "v",
         "showlegend": true,
         "type": "scatter",
         "x": [
          11.93,
          12.78,
          12.43,
          12.08,
          12.83,
          12.43
         ],
         "xaxis": "x",
         "y": [
          51.74,
          50.72,
          46.11,
          48.97,
          46.94,
          45.38
         ],
         "yaxis": "y"
        },
        {
         "hovertemplate": "Receptor=6gub<br>Receptor Type=with cyclin<br>RMSD=%{x}<br>Energy (kcal/mol)=%{y}<extra></extra>",
         "legendgroup": "6gub, with cyclin",
         "marker": {
          "color": "#0d0887",
          "line": {
           "color": "DarkSlateGrey",
           "width": 1
          },
          "size": 8,
          "symbol": "triangle-up"
         },
         "mode": "markers",
         "name": "6gub, with cyclin",
         "orientation": "v",
         "showlegend": true,
         "type": "scatter",
         "x": [
          4.68,
          12.78,
          12.39
         ],
         "xaxis": "x",
         "y": [
          49.58,
          14.81,
          49.83
         ],
         "yaxis": "y"
        }
       ],
       "layout": {
        "legend": {
         "title": {
          "text": "Receptor, Receptor Type"
         },
         "tracegroupgap": 0
        },
        "margin": {
         "t": 60
        },
        "template": {
         "data": {
          "bar": [
           {
            "error_x": {
             "color": "rgb(51,51,51)"
            },
            "error_y": {
             "color": "rgb(51,51,51)"
            },
            "marker": {
             "line": {
              "color": "rgb(237,237,237)",
              "width": 0.5
             },
             "pattern": {
              "fillmode": "overlay",
              "size": 10,
              "solidity": 0.2
             }
            },
            "type": "bar"
           }
          ],
          "barpolar": [
           {
            "marker": {
             "line": {
              "color": "rgb(237,237,237)",
              "width": 0.5
             },
             "pattern": {
              "fillmode": "overlay",
              "size": 10,
              "solidity": 0.2
             }
            },
            "type": "barpolar"
           }
          ],
          "carpet": [
           {
            "aaxis": {
             "endlinecolor": "rgb(51,51,51)",
             "gridcolor": "white",
             "linecolor": "white",
             "minorgridcolor": "white",
             "startlinecolor": "rgb(51,51,51)"
            },
            "baxis": {
             "endlinecolor": "rgb(51,51,51)",
             "gridcolor": "white",
             "linecolor": "white",
             "minorgridcolor": "white",
             "startlinecolor": "rgb(51,51,51)"
            },
            "type": "carpet"
           }
          ],
          "choropleth": [
           {
            "colorbar": {
             "outlinewidth": 0,
             "tickcolor": "rgb(237,237,237)",
             "ticklen": 6,
             "ticks": "inside"
            },
            "type": "choropleth"
           }
          ],
          "contour": [
           {
            "colorbar": {
             "outlinewidth": 0,
             "tickcolor": "rgb(237,237,237)",
             "ticklen": 6,
             "ticks": "inside"
            },
            "colorscale": [
             [
              0,
              "rgb(20,44,66)"
             ],
             [
              1,
              "rgb(90,179,244)"
             ]
            ],
            "type": "contour"
           }
          ],
          "contourcarpet": [
           {
            "colorbar": {
             "outlinewidth": 0,
             "tickcolor": "rgb(237,237,237)",
             "ticklen": 6,
             "ticks": "inside"
            },
            "type": "contourcarpet"
           }
          ],
          "heatmap": [
           {
            "colorbar": {
             "outlinewidth": 0,
             "tickcolor": "rgb(237,237,237)",
             "ticklen": 6,
             "ticks": "inside"
            },
            "colorscale": [
             [
              0,
              "rgb(20,44,66)"
             ],
             [
              1,
              "rgb(90,179,244)"
             ]
            ],
            "type": "heatmap"
           }
          ],
          "heatmapgl": [
           {
            "colorbar": {
             "outlinewidth": 0,
             "tickcolor": "rgb(237,237,237)",
             "ticklen": 6,
             "ticks": "inside"
            },
            "colorscale": [
             [
              0,
              "rgb(20,44,66)"
             ],
             [
              1,
              "rgb(90,179,244)"
             ]
            ],
            "type": "heatmapgl"
           }
          ],
          "histogram": [
           {
            "marker": {
             "pattern": {
              "fillmode": "overlay",
              "size": 10,
              "solidity": 0.2
             }
            },
            "type": "histogram"
           }
          ],
          "histogram2d": [
           {
            "colorbar": {
             "outlinewidth": 0,
             "tickcolor": "rgb(237,237,237)",
             "ticklen": 6,
             "ticks": "inside"
            },
            "colorscale": [
             [
              0,
              "rgb(20,44,66)"
             ],
             [
              1,
              "rgb(90,179,244)"
             ]
            ],
            "type": "histogram2d"
           }
          ],
          "histogram2dcontour": [
           {
            "colorbar": {
             "outlinewidth": 0,
             "tickcolor": "rgb(237,237,237)",
             "ticklen": 6,
             "ticks": "inside"
            },
            "colorscale": [
             [
              0,
              "rgb(20,44,66)"
             ],
             [
              1,
              "rgb(90,179,244)"
             ]
            ],
            "type": "histogram2dcontour"
           }
          ],
          "mesh3d": [
           {
            "colorbar": {
             "outlinewidth": 0,
             "tickcolor": "rgb(237,237,237)",
             "ticklen": 6,
             "ticks": "inside"
            },
            "type": "mesh3d"
           }
          ],
          "parcoords": [
           {
            "line": {
             "colorbar": {
              "outlinewidth": 0,
              "tickcolor": "rgb(237,237,237)",
              "ticklen": 6,
              "ticks": "inside"
             }
            },
            "type": "parcoords"
           }
          ],
          "pie": [
           {
            "automargin": true,
            "type": "pie"
           }
          ],
          "scatter": [
           {
            "fillpattern": {
             "fillmode": "overlay",
             "size": 10,
             "solidity": 0.2
            },
            "type": "scatter"
           }
          ],
          "scatter3d": [
           {
            "line": {
             "colorbar": {
              "outlinewidth": 0,
              "tickcolor": "rgb(237,237,237)",
              "ticklen": 6,
              "ticks": "inside"
             }
            },
            "marker": {
             "colorbar": {
              "outlinewidth": 0,
              "tickcolor": "rgb(237,237,237)",
              "ticklen": 6,
              "ticks": "inside"
             }
            },
            "type": "scatter3d"
           }
          ],
          "scattercarpet": [
           {
            "marker": {
             "colorbar": {
              "outlinewidth": 0,
              "tickcolor": "rgb(237,237,237)",
              "ticklen": 6,
              "ticks": "inside"
             }
            },
            "type": "scattercarpet"
           }
          ],
          "scattergeo": [
           {
            "marker": {
             "colorbar": {
              "outlinewidth": 0,
              "tickcolor": "rgb(237,237,237)",
              "ticklen": 6,
              "ticks": "inside"
             }
            },
            "type": "scattergeo"
           }
          ],
          "scattergl": [
           {
            "marker": {
             "colorbar": {
              "outlinewidth": 0,
              "tickcolor": "rgb(237,237,237)",
              "ticklen": 6,
              "ticks": "inside"
             }
            },
            "type": "scattergl"
           }
          ],
          "scattermapbox": [
           {
            "marker": {
             "colorbar": {
              "outlinewidth": 0,
              "tickcolor": "rgb(237,237,237)",
              "ticklen": 6,
              "ticks": "inside"
             }
            },
            "type": "scattermapbox"
           }
          ],
          "scatterpolar": [
           {
            "marker": {
             "colorbar": {
              "outlinewidth": 0,
              "tickcolor": "rgb(237,237,237)",
              "ticklen": 6,
              "ticks": "inside"
             }
            },
            "type": "scatterpolar"
           }
          ],
          "scatterpolargl": [
           {
            "marker": {
             "colorbar": {
              "outlinewidth": 0,
              "tickcolor": "rgb(237,237,237)",
              "ticklen": 6,
              "ticks": "inside"
             }
            },
            "type": "scatterpolargl"
           }
          ],
          "scatterternary": [
           {
            "marker": {
             "colorbar": {
              "outlinewidth": 0,
              "tickcolor": "rgb(237,237,237)",
              "ticklen": 6,
              "ticks": "inside"
             }
            },
            "type": "scatterternary"
           }
          ],
          "surface": [
           {
            "colorbar": {
             "outlinewidth": 0,
             "tickcolor": "rgb(237,237,237)",
             "ticklen": 6,
             "ticks": "inside"
            },
            "colorscale": [
             [
              0,
              "rgb(20,44,66)"
             ],
             [
              1,
              "rgb(90,179,244)"
             ]
            ],
            "type": "surface"
           }
          ],
          "table": [
           {
            "cells": {
             "fill": {
              "color": "rgb(237,237,237)"
             },
             "line": {
              "color": "white"
             }
            },
            "header": {
             "fill": {
              "color": "rgb(217,217,217)"
             },
             "line": {
              "color": "white"
             }
            },
            "type": "table"
           }
          ]
         },
         "layout": {
          "annotationdefaults": {
           "arrowhead": 0,
           "arrowwidth": 1
          },
          "autotypenumbers": "strict",
          "coloraxis": {
           "colorbar": {
            "outlinewidth": 0,
            "tickcolor": "rgb(237,237,237)",
            "ticklen": 6,
            "ticks": "inside"
           }
          },
          "colorscale": {
           "sequential": [
            [
             0,
             "rgb(20,44,66)"
            ],
            [
             1,
             "rgb(90,179,244)"
            ]
           ],
           "sequentialminus": [
            [
             0,
             "rgb(20,44,66)"
            ],
            [
             1,
             "rgb(90,179,244)"
            ]
           ]
          },
          "colorway": [
           "#F8766D",
           "#A3A500",
           "#00BF7D",
           "#00B0F6",
           "#E76BF3"
          ],
          "font": {
           "color": "rgb(51,51,51)"
          },
          "geo": {
           "bgcolor": "white",
           "lakecolor": "white",
           "landcolor": "rgb(237,237,237)",
           "showlakes": true,
           "showland": true,
           "subunitcolor": "white"
          },
          "hoverlabel": {
           "align": "left"
          },
          "hovermode": "closest",
          "paper_bgcolor": "white",
          "plot_bgcolor": "rgb(237,237,237)",
          "polar": {
           "angularaxis": {
            "gridcolor": "white",
            "linecolor": "white",
            "showgrid": true,
            "tickcolor": "rgb(51,51,51)",
            "ticks": "outside"
           },
           "bgcolor": "rgb(237,237,237)",
           "radialaxis": {
            "gridcolor": "white",
            "linecolor": "white",
            "showgrid": true,
            "tickcolor": "rgb(51,51,51)",
            "ticks": "outside"
           }
          },
          "scene": {
           "xaxis": {
            "backgroundcolor": "rgb(237,237,237)",
            "gridcolor": "white",
            "gridwidth": 2,
            "linecolor": "white",
            "showbackground": true,
            "showgrid": true,
            "tickcolor": "rgb(51,51,51)",
            "ticks": "outside",
            "zerolinecolor": "white"
           },
           "yaxis": {
            "backgroundcolor": "rgb(237,237,237)",
            "gridcolor": "white",
            "gridwidth": 2,
            "linecolor": "white",
            "showbackground": true,
            "showgrid": true,
            "tickcolor": "rgb(51,51,51)",
            "ticks": "outside",
            "zerolinecolor": "white"
           },
           "zaxis": {
            "backgroundcolor": "rgb(237,237,237)",
            "gridcolor": "white",
            "gridwidth": 2,
            "linecolor": "white",
            "showbackground": true,
            "showgrid": true,
            "tickcolor": "rgb(51,51,51)",
            "ticks": "outside",
            "zerolinecolor": "white"
           }
          },
          "shapedefaults": {
           "fillcolor": "black",
           "line": {
            "width": 0
           },
           "opacity": 0.3
          },
          "ternary": {
           "aaxis": {
            "gridcolor": "white",
            "linecolor": "white",
            "showgrid": true,
            "tickcolor": "rgb(51,51,51)",
            "ticks": "outside"
           },
           "baxis": {
            "gridcolor": "white",
            "linecolor": "white",
            "showgrid": true,
            "tickcolor": "rgb(51,51,51)",
            "ticks": "outside"
           },
           "bgcolor": "rgb(237,237,237)",
           "caxis": {
            "gridcolor": "white",
            "linecolor": "white",
            "showgrid": true,
            "tickcolor": "rgb(51,51,51)",
            "ticks": "outside"
           }
          },
          "xaxis": {
           "automargin": true,
           "gridcolor": "white",
           "linecolor": "white",
           "showgrid": true,
           "tickcolor": "rgb(51,51,51)",
           "ticks": "outside",
           "title": {
            "standoff": 15
           },
           "zerolinecolor": "white"
          },
          "yaxis": {
           "automargin": true,
           "gridcolor": "white",
           "linecolor": "white",
           "showgrid": true,
           "tickcolor": "rgb(51,51,51)",
           "ticks": "outside",
           "title": {
            "standoff": 15
           },
           "zerolinecolor": "white"
          }
         }
        },
        "title": {
         "text": "Ensemble docking of 5A14"
        },
        "xaxis": {
         "anchor": "y",
         "domain": [
          0,
          1
         ],
         "title": {
          "text": "RMSD"
         }
        },
        "yaxis": {
         "anchor": "x",
         "domain": [
          0,
          1
         ],
         "title": {
          "text": "Energy (kcal/mol)"
         }
        }
       }
      },
      "text/html": [
       "<div>                            <div id=\"e13b68bc-b2bb-4681-82b2-ecc78f85ab3e\" class=\"plotly-graph-div\" style=\"height:525px; width:100%;\"></div>            <script type=\"text/javascript\">                require([\"plotly\"], function(Plotly) {                    window.PLOTLYENV=window.PLOTLYENV || {};                                    if (document.getElementById(\"e13b68bc-b2bb-4681-82b2-ecc78f85ab3e\")) {                    Plotly.newPlot(                        \"e13b68bc-b2bb-4681-82b2-ecc78f85ab3e\",                        [{\"hovertemplate\":\"Receptor=5a14\\u003cbr\\u003eReceptor Type=DFG out\\u003cbr\\u003eRMSD=%{x}\\u003cbr\\u003eEnergy (kcal\\u002fmol)=%{y}\\u003cextra\\u003e\\u003c\\u002fextra\\u003e\",\"legendgroup\":\"5a14, DFG out\",\"marker\":{\"color\":\"#f0f921\",\"symbol\":\"circle\",\"line\":{\"color\":\"DarkSlateGrey\",\"width\":1},\"size\":8},\"mode\":\"markers\",\"name\":\"5a14, DFG out\",\"orientation\":\"v\",\"showlegend\":true,\"x\":[1.38,12.1,1.47],\"xaxis\":\"x\",\"y\":[-14.55,-11.24,-10.82],\"yaxis\":\"y\",\"type\":\"scatter\"},{\"hovertemplate\":\"Receptor=3pj8\\u003cbr\\u003eReceptor Type=no cyclin\\u003cbr\\u003eRMSD=%{x}\\u003cbr\\u003eEnergy (kcal\\u002fmol)=%{y}\\u003cextra\\u003e\\u003c\\u002fextra\\u003e\",\"legendgroup\":\"3pj8, no cyclin\",\"marker\":{\"color\":\"#fdca26\",\"symbol\":\"x\",\"line\":{\"color\":\"DarkSlateGrey\",\"width\":1},\"size\":8},\"mode\":\"markers\",\"name\":\"3pj8, no cyclin\",\"orientation\":\"v\",\"showlegend\":true,\"x\":[6.43,6.48,12.2,13.28,4.34],\"xaxis\":\"x\",\"y\":[23.18,17.54,16.23,15.01,7.44],\"yaxis\":\"y\",\"type\":\"scatter\"},{\"hovertemplate\":\"Receptor=6guk\\u003cbr\\u003eReceptor Type=no cyclin\\u003cbr\\u003eRMSD=%{x}\\u003cbr\\u003eEnergy (kcal\\u002fmol)=%{y}\\u003cextra\\u003e\\u003c\\u002fextra\\u003e\",\"legendgroup\":\"6guk, no cyclin\",\"marker\":{\"color\":\"#fb9f3a\",\"symbol\":\"x\",\"line\":{\"color\":\"DarkSlateGrey\",\"width\":1},\"size\":8},\"mode\":\"markers\",\"name\":\"6guk, no cyclin\",\"orientation\":\"v\",\"showlegend\":true,\"x\":[4.49,11.99,12.2],\"xaxis\":\"x\",\"y\":[20.98,18.19,19.68],\"yaxis\":\"y\",\"type\":\"scatter\"},{\"hovertemplate\":\"Receptor=4kd1\\u003cbr\\u003eReceptor Type=no cyclin\\u003cbr\\u003eRMSD=%{x}\\u003cbr\\u003eEnergy (kcal\\u002fmol)=%{y}\\u003cextra\\u003e\\u003c\\u002fextra\\u003e\",\"legendgroup\":\"4kd1, no cyclin\",\"marker\":{\"color\":\"#ed7953\",\"symbol\":\"x\",\"line\":{\"color\":\"DarkSlateGrey\",\"width\":1},\"size\":8},\"mode\":\"markers\",\"name\":\"4kd1, no cyclin\",\"orientation\":\"v\",\"showlegend\":true,\"x\":[4.92,13.1],\"xaxis\":\"x\",\"y\":[19.85,17.05],\"yaxis\":\"y\",\"type\":\"scatter\"},{\"hovertemplate\":\"Receptor=6guh\\u003cbr\\u003eReceptor Type=no cyclin\\u003cbr\\u003eRMSD=%{x}\\u003cbr\\u003eEnergy (kcal\\u002fmol)=%{y}\\u003cextra\\u003e\\u003c\\u002fextra\\u003e\",\"legendgroup\":\"6guh, no cyclin\",\"marker\":{\"color\":\"#d8576b\",\"symbol\":\"x\",\"line\":{\"color\":\"DarkSlateGrey\",\"width\":1},\"size\":8},\"mode\":\"markers\",\"name\":\"6guh, no cyclin\",\"orientation\":\"v\",\"showlegend\":true,\"x\":[12.65,12.44,3.89,4.67,4.09,12.47,4.1,11.72,3.54,4.18,12.8],\"xaxis\":\"x\",\"y\":[-6.45,-7.63,-7.18,-9.46,-9.15,-8.26,-9.06,-8.06,-7.89,-7.81,-8.13],\"yaxis\":\"y\",\"type\":\"scatter\"},{\"hovertemplate\":\"Receptor=3ddq\\u003cbr\\u003eReceptor Type=with cyclin\\u003cbr\\u003eRMSD=%{x}\\u003cbr\\u003eEnergy (kcal\\u002fmol)=%{y}\\u003cextra\\u003e\\u003c\\u002fextra\\u003e\",\"legendgroup\":\"3ddq, with cyclin\",\"marker\":{\"color\":\"#bd3786\",\"symbol\":\"triangle-up\",\"line\":{\"color\":\"DarkSlateGrey\",\"width\":1},\"size\":8},\"mode\":\"markers\",\"name\":\"3ddq, with cyclin\",\"orientation\":\"v\",\"showlegend\":true,\"x\":[3.94,5.49,6.34],\"xaxis\":\"x\",\"y\":[63.08,62.65,64.38],\"yaxis\":\"y\",\"type\":\"scatter\"},{\"hovertemplate\":\"Receptor=6gue\\u003cbr\\u003eReceptor Type=with cyclin\\u003cbr\\u003eRMSD=%{x}\\u003cbr\\u003eEnergy (kcal\\u002fmol)=%{y}\\u003cextra\\u003e\\u003c\\u002fextra\\u003e\",\"legendgroup\":\"6gue, with cyclin\",\"marker\":{\"color\":\"#9c179e\",\"symbol\":\"triangle-up\",\"line\":{\"color\":\"DarkSlateGrey\",\"width\":1},\"size\":8},\"mode\":\"markers\",\"name\":\"6gue, with cyclin\",\"orientation\":\"v\",\"showlegend\":true,\"x\":[12.05,7.01,6.51,12.85],\"xaxis\":\"x\",\"y\":[51.37,36.47,66.21,68.1],\"yaxis\":\"y\",\"type\":\"scatter\"},{\"hovertemplate\":\"Receptor=5l2w\\u003cbr\\u003eReceptor Type=with cyclin\\u003cbr\\u003eRMSD=%{x}\\u003cbr\\u003eEnergy (kcal\\u002fmol)=%{y}\\u003cextra\\u003e\\u003c\\u002fextra\\u003e\",\"legendgroup\":\"5l2w, with cyclin\",\"marker\":{\"color\":\"#7201a8\",\"symbol\":\"triangle-up\",\"line\":{\"color\":\"DarkSlateGrey\",\"width\":1},\"size\":8},\"mode\":\"markers\",\"name\":\"5l2w, with cyclin\",\"orientation\":\"v\",\"showlegend\":true,\"x\":[11.97,5.55,11.94],\"xaxis\":\"x\",\"y\":[54.75,51.97,45.58],\"yaxis\":\"y\",\"type\":\"scatter\"},{\"hovertemplate\":\"Receptor=6guf\\u003cbr\\u003eReceptor Type=with cyclin\\u003cbr\\u003eRMSD=%{x}\\u003cbr\\u003eEnergy (kcal\\u002fmol)=%{y}\\u003cextra\\u003e\\u003c\\u002fextra\\u003e\",\"legendgroup\":\"6guf, with cyclin\",\"marker\":{\"color\":\"#46039f\",\"symbol\":\"triangle-up\",\"line\":{\"color\":\"DarkSlateGrey\",\"width\":1},\"size\":8},\"mode\":\"markers\",\"name\":\"6guf, with cyclin\",\"orientation\":\"v\",\"showlegend\":true,\"x\":[11.93,12.78,12.43,12.08,12.83,12.43],\"xaxis\":\"x\",\"y\":[51.74,50.72,46.11,48.97,46.94,45.38],\"yaxis\":\"y\",\"type\":\"scatter\"},{\"hovertemplate\":\"Receptor=6gub\\u003cbr\\u003eReceptor Type=with cyclin\\u003cbr\\u003eRMSD=%{x}\\u003cbr\\u003eEnergy (kcal\\u002fmol)=%{y}\\u003cextra\\u003e\\u003c\\u002fextra\\u003e\",\"legendgroup\":\"6gub, with cyclin\",\"marker\":{\"color\":\"#0d0887\",\"symbol\":\"triangle-up\",\"line\":{\"color\":\"DarkSlateGrey\",\"width\":1},\"size\":8},\"mode\":\"markers\",\"name\":\"6gub, with cyclin\",\"orientation\":\"v\",\"showlegend\":true,\"x\":[4.68,12.78,12.39],\"xaxis\":\"x\",\"y\":[49.58,14.81,49.83],\"yaxis\":\"y\",\"type\":\"scatter\"}],                        {\"template\":{\"data\":{\"barpolar\":[{\"marker\":{\"line\":{\"color\":\"rgb(237,237,237)\",\"width\":0.5},\"pattern\":{\"fillmode\":\"overlay\",\"size\":10,\"solidity\":0.2}},\"type\":\"barpolar\"}],\"bar\":[{\"error_x\":{\"color\":\"rgb(51,51,51)\"},\"error_y\":{\"color\":\"rgb(51,51,51)\"},\"marker\":{\"line\":{\"color\":\"rgb(237,237,237)\",\"width\":0.5},\"pattern\":{\"fillmode\":\"overlay\",\"size\":10,\"solidity\":0.2}},\"type\":\"bar\"}],\"carpet\":[{\"aaxis\":{\"endlinecolor\":\"rgb(51,51,51)\",\"gridcolor\":\"white\",\"linecolor\":\"white\",\"minorgridcolor\":\"white\",\"startlinecolor\":\"rgb(51,51,51)\"},\"baxis\":{\"endlinecolor\":\"rgb(51,51,51)\",\"gridcolor\":\"white\",\"linecolor\":\"white\",\"minorgridcolor\":\"white\",\"startlinecolor\":\"rgb(51,51,51)\"},\"type\":\"carpet\"}],\"choropleth\":[{\"colorbar\":{\"outlinewidth\":0,\"tickcolor\":\"rgb(237,237,237)\",\"ticklen\":6,\"ticks\":\"inside\"},\"type\":\"choropleth\"}],\"contourcarpet\":[{\"colorbar\":{\"outlinewidth\":0,\"tickcolor\":\"rgb(237,237,237)\",\"ticklen\":6,\"ticks\":\"inside\"},\"type\":\"contourcarpet\"}],\"contour\":[{\"colorbar\":{\"outlinewidth\":0,\"tickcolor\":\"rgb(237,237,237)\",\"ticklen\":6,\"ticks\":\"inside\"},\"colorscale\":[[0,\"rgb(20,44,66)\"],[1,\"rgb(90,179,244)\"]],\"type\":\"contour\"}],\"heatmapgl\":[{\"colorbar\":{\"outlinewidth\":0,\"tickcolor\":\"rgb(237,237,237)\",\"ticklen\":6,\"ticks\":\"inside\"},\"colorscale\":[[0,\"rgb(20,44,66)\"],[1,\"rgb(90,179,244)\"]],\"type\":\"heatmapgl\"}],\"heatmap\":[{\"colorbar\":{\"outlinewidth\":0,\"tickcolor\":\"rgb(237,237,237)\",\"ticklen\":6,\"ticks\":\"inside\"},\"colorscale\":[[0,\"rgb(20,44,66)\"],[1,\"rgb(90,179,244)\"]],\"type\":\"heatmap\"}],\"histogram2dcontour\":[{\"colorbar\":{\"outlinewidth\":0,\"tickcolor\":\"rgb(237,237,237)\",\"ticklen\":6,\"ticks\":\"inside\"},\"colorscale\":[[0,\"rgb(20,44,66)\"],[1,\"rgb(90,179,244)\"]],\"type\":\"histogram2dcontour\"}],\"histogram2d\":[{\"colorbar\":{\"outlinewidth\":0,\"tickcolor\":\"rgb(237,237,237)\",\"ticklen\":6,\"ticks\":\"inside\"},\"colorscale\":[[0,\"rgb(20,44,66)\"],[1,\"rgb(90,179,244)\"]],\"type\":\"histogram2d\"}],\"histogram\":[{\"marker\":{\"pattern\":{\"fillmode\":\"overlay\",\"size\":10,\"solidity\":0.2}},\"type\":\"histogram\"}],\"mesh3d\":[{\"colorbar\":{\"outlinewidth\":0,\"tickcolor\":\"rgb(237,237,237)\",\"ticklen\":6,\"ticks\":\"inside\"},\"type\":\"mesh3d\"}],\"parcoords\":[{\"line\":{\"colorbar\":{\"outlinewidth\":0,\"tickcolor\":\"rgb(237,237,237)\",\"ticklen\":6,\"ticks\":\"inside\"}},\"type\":\"parcoords\"}],\"pie\":[{\"automargin\":true,\"type\":\"pie\"}],\"scatter3d\":[{\"line\":{\"colorbar\":{\"outlinewidth\":0,\"tickcolor\":\"rgb(237,237,237)\",\"ticklen\":6,\"ticks\":\"inside\"}},\"marker\":{\"colorbar\":{\"outlinewidth\":0,\"tickcolor\":\"rgb(237,237,237)\",\"ticklen\":6,\"ticks\":\"inside\"}},\"type\":\"scatter3d\"}],\"scattercarpet\":[{\"marker\":{\"colorbar\":{\"outlinewidth\":0,\"tickcolor\":\"rgb(237,237,237)\",\"ticklen\":6,\"ticks\":\"inside\"}},\"type\":\"scattercarpet\"}],\"scattergeo\":[{\"marker\":{\"colorbar\":{\"outlinewidth\":0,\"tickcolor\":\"rgb(237,237,237)\",\"ticklen\":6,\"ticks\":\"inside\"}},\"type\":\"scattergeo\"}],\"scattergl\":[{\"marker\":{\"colorbar\":{\"outlinewidth\":0,\"tickcolor\":\"rgb(237,237,237)\",\"ticklen\":6,\"ticks\":\"inside\"}},\"type\":\"scattergl\"}],\"scattermapbox\":[{\"marker\":{\"colorbar\":{\"outlinewidth\":0,\"tickcolor\":\"rgb(237,237,237)\",\"ticklen\":6,\"ticks\":\"inside\"}},\"type\":\"scattermapbox\"}],\"scatterpolargl\":[{\"marker\":{\"colorbar\":{\"outlinewidth\":0,\"tickcolor\":\"rgb(237,237,237)\",\"ticklen\":6,\"ticks\":\"inside\"}},\"type\":\"scatterpolargl\"}],\"scatterpolar\":[{\"marker\":{\"colorbar\":{\"outlinewidth\":0,\"tickcolor\":\"rgb(237,237,237)\",\"ticklen\":6,\"ticks\":\"inside\"}},\"type\":\"scatterpolar\"}],\"scatter\":[{\"fillpattern\":{\"fillmode\":\"overlay\",\"size\":10,\"solidity\":0.2},\"type\":\"scatter\"}],\"scatterternary\":[{\"marker\":{\"colorbar\":{\"outlinewidth\":0,\"tickcolor\":\"rgb(237,237,237)\",\"ticklen\":6,\"ticks\":\"inside\"}},\"type\":\"scatterternary\"}],\"surface\":[{\"colorbar\":{\"outlinewidth\":0,\"tickcolor\":\"rgb(237,237,237)\",\"ticklen\":6,\"ticks\":\"inside\"},\"colorscale\":[[0,\"rgb(20,44,66)\"],[1,\"rgb(90,179,244)\"]],\"type\":\"surface\"}],\"table\":[{\"cells\":{\"fill\":{\"color\":\"rgb(237,237,237)\"},\"line\":{\"color\":\"white\"}},\"header\":{\"fill\":{\"color\":\"rgb(217,217,217)\"},\"line\":{\"color\":\"white\"}},\"type\":\"table\"}]},\"layout\":{\"annotationdefaults\":{\"arrowhead\":0,\"arrowwidth\":1},\"autotypenumbers\":\"strict\",\"coloraxis\":{\"colorbar\":{\"outlinewidth\":0,\"tickcolor\":\"rgb(237,237,237)\",\"ticklen\":6,\"ticks\":\"inside\"}},\"colorscale\":{\"sequential\":[[0,\"rgb(20,44,66)\"],[1,\"rgb(90,179,244)\"]],\"sequentialminus\":[[0,\"rgb(20,44,66)\"],[1,\"rgb(90,179,244)\"]]},\"colorway\":[\"#F8766D\",\"#A3A500\",\"#00BF7D\",\"#00B0F6\",\"#E76BF3\"],\"font\":{\"color\":\"rgb(51,51,51)\"},\"geo\":{\"bgcolor\":\"white\",\"lakecolor\":\"white\",\"landcolor\":\"rgb(237,237,237)\",\"showlakes\":true,\"showland\":true,\"subunitcolor\":\"white\"},\"hoverlabel\":{\"align\":\"left\"},\"hovermode\":\"closest\",\"paper_bgcolor\":\"white\",\"plot_bgcolor\":\"rgb(237,237,237)\",\"polar\":{\"angularaxis\":{\"gridcolor\":\"white\",\"linecolor\":\"white\",\"showgrid\":true,\"tickcolor\":\"rgb(51,51,51)\",\"ticks\":\"outside\"},\"bgcolor\":\"rgb(237,237,237)\",\"radialaxis\":{\"gridcolor\":\"white\",\"linecolor\":\"white\",\"showgrid\":true,\"tickcolor\":\"rgb(51,51,51)\",\"ticks\":\"outside\"}},\"scene\":{\"xaxis\":{\"backgroundcolor\":\"rgb(237,237,237)\",\"gridcolor\":\"white\",\"gridwidth\":2,\"linecolor\":\"white\",\"showbackground\":true,\"showgrid\":true,\"tickcolor\":\"rgb(51,51,51)\",\"ticks\":\"outside\",\"zerolinecolor\":\"white\"},\"yaxis\":{\"backgroundcolor\":\"rgb(237,237,237)\",\"gridcolor\":\"white\",\"gridwidth\":2,\"linecolor\":\"white\",\"showbackground\":true,\"showgrid\":true,\"tickcolor\":\"rgb(51,51,51)\",\"ticks\":\"outside\",\"zerolinecolor\":\"white\"},\"zaxis\":{\"backgroundcolor\":\"rgb(237,237,237)\",\"gridcolor\":\"white\",\"gridwidth\":2,\"linecolor\":\"white\",\"showbackground\":true,\"showgrid\":true,\"tickcolor\":\"rgb(51,51,51)\",\"ticks\":\"outside\",\"zerolinecolor\":\"white\"}},\"shapedefaults\":{\"fillcolor\":\"black\",\"line\":{\"width\":0},\"opacity\":0.3},\"ternary\":{\"aaxis\":{\"gridcolor\":\"white\",\"linecolor\":\"white\",\"showgrid\":true,\"tickcolor\":\"rgb(51,51,51)\",\"ticks\":\"outside\"},\"baxis\":{\"gridcolor\":\"white\",\"linecolor\":\"white\",\"showgrid\":true,\"tickcolor\":\"rgb(51,51,51)\",\"ticks\":\"outside\"},\"bgcolor\":\"rgb(237,237,237)\",\"caxis\":{\"gridcolor\":\"white\",\"linecolor\":\"white\",\"showgrid\":true,\"tickcolor\":\"rgb(51,51,51)\",\"ticks\":\"outside\"}},\"xaxis\":{\"automargin\":true,\"gridcolor\":\"white\",\"linecolor\":\"white\",\"showgrid\":true,\"tickcolor\":\"rgb(51,51,51)\",\"ticks\":\"outside\",\"title\":{\"standoff\":15},\"zerolinecolor\":\"white\"},\"yaxis\":{\"automargin\":true,\"gridcolor\":\"white\",\"linecolor\":\"white\",\"showgrid\":true,\"tickcolor\":\"rgb(51,51,51)\",\"ticks\":\"outside\",\"title\":{\"standoff\":15},\"zerolinecolor\":\"white\"}}},\"xaxis\":{\"anchor\":\"y\",\"domain\":[0.0,1.0],\"title\":{\"text\":\"RMSD\"}},\"yaxis\":{\"anchor\":\"x\",\"domain\":[0.0,1.0],\"title\":{\"text\":\"Energy (kcal\\u002fmol)\"}},\"legend\":{\"title\":{\"text\":\"Receptor, Receptor Type\"},\"tracegroupgap\":0},\"margin\":{\"t\":60},\"title\":{\"text\":\"Ensemble docking of 5A14\"}},                        {\"responsive\": true}                    ).then(function(){\n",
       "                            \n",
       "var gd = document.getElementById('e13b68bc-b2bb-4681-82b2-ecc78f85ab3e');\n",
       "var x = new MutationObserver(function (mutations, observer) {{\n",
       "        var display = window.getComputedStyle(gd).display;\n",
       "        if (!display || display === 'none') {{\n",
       "            console.log([gd, 'removed!']);\n",
       "            Plotly.purge(gd);\n",
       "            observer.disconnect();\n",
       "        }}\n",
       "}});\n",
       "\n",
       "// Listen for the removal of the full notebook cells\n",
       "var notebookContainer = gd.closest('#notebook-container');\n",
       "if (notebookContainer) {{\n",
       "    x.observe(notebookContainer, {childList: true});\n",
       "}}\n",
       "\n",
       "// Listen for the clearing of the current output cell\n",
       "var outputEl = gd.closest('.output');\n",
       "if (outputEl) {{\n",
       "    x.observe(outputEl, {childList: true});\n",
       "}}\n",
       "\n",
       "                        })                };                });            </script>        </div>"
      ]
     },
     "metadata": {},
     "output_type": "display_data"
    }
   ],
   "source": [
    "tmp_df = results_pd[results_pd[\"pdb_id\"]==\"5A14\"].reset_index()\n",
    "tmp_df[\"Receptor\"] = tmp_df[\"Receptor Name\"].apply(lambda x: x.split(\"_\")[0])\n",
    "tmp_df[\"Receptor Type\"] = tmp_df[\"Receptor\"].apply(lambda x: receptor_types[x.upper()])\n",
    "tmp_df = tmp_df.sort_values(\"Receptor Type\").reset_index()\n",
    "symbols = ['circle', 'x', 'triangle-up']\n",
    "fig = px.scatter(tmp_df, x=\"RMSD\", y=\"Energy (kcal/mol)\", color=\"Receptor\", symbol=\"Receptor Type\",\n",
    "        template=\"ggplot2\", symbol_sequence=symbols, \n",
    "        color_discrete_sequence=px.colors.sequential.Plasma_r)\n",
    "fig.update_traces(\n",
    "    marker=dict(size=8, line=dict(width=1, color=\"DarkSlateGrey\")),\n",
    "    selector=dict(mode=\"markers\"),\n",
    ")\n",
    "fig.update_layout(title=\"Ensemble docking of {}\".format(\"5A14\"))\n",
    "fig.write_image(\"5a14_results.svg\")\n",
    "fig.show()"
   ]
  },
  {
   "cell_type": "code",
   "execution_count": 100,
   "id": "cf8a33c6",
   "metadata": {},
   "outputs": [
    {
     "data": {
      "application/vnd.plotly.v1+json": {
       "config": {
        "plotlyServerURL": "https://plot.ly"
       },
       "data": [
        {
         "hovertemplate": "Receptor=5a14<br>Receptor Type=DFG out<br>RMSD=%{x}<br>Energy (kcal/mol)=%{y}<extra></extra>",
         "legendgroup": "5a14, DFG out",
         "marker": {
          "color": "rgb(141,211,199)",
          "line": {
           "color": "DarkSlateGrey",
           "width": 1
          },
          "size": 8,
          "symbol": "circle"
         },
         "mode": "markers",
         "name": "5a14, DFG out",
         "orientation": "v",
         "showlegend": true,
         "type": "scatter",
         "x": [
          1.38,
          12.1,
          1.47
         ],
         "xaxis": "x",
         "y": [
          -14.55,
          -11.24,
          -10.82
         ],
         "yaxis": "y"
        },
        {
         "hovertemplate": "Receptor=3pj8<br>Receptor Type=no cyclin<br>RMSD=%{x}<br>Energy (kcal/mol)=%{y}<extra></extra>",
         "legendgroup": "3pj8, no cyclin",
         "marker": {
          "color": "rgb(255,255,179)",
          "line": {
           "color": "DarkSlateGrey",
           "width": 1
          },
          "size": 8,
          "symbol": "x"
         },
         "mode": "markers",
         "name": "3pj8, no cyclin",
         "orientation": "v",
         "showlegend": true,
         "type": "scatter",
         "x": [
          6.43,
          6.48,
          12.2,
          13.28,
          4.34
         ],
         "xaxis": "x",
         "y": [
          23.18,
          17.54,
          16.23,
          15.01,
          7.44
         ],
         "yaxis": "y"
        },
        {
         "hovertemplate": "Receptor=6guk<br>Receptor Type=no cyclin<br>RMSD=%{x}<br>Energy (kcal/mol)=%{y}<extra></extra>",
         "legendgroup": "6guk, no cyclin",
         "marker": {
          "color": "rgb(190,186,218)",
          "line": {
           "color": "DarkSlateGrey",
           "width": 1
          },
          "size": 8,
          "symbol": "x"
         },
         "mode": "markers",
         "name": "6guk, no cyclin",
         "orientation": "v",
         "showlegend": true,
         "type": "scatter",
         "x": [
          4.49,
          11.99,
          12.2
         ],
         "xaxis": "x",
         "y": [
          20.98,
          18.19,
          19.68
         ],
         "yaxis": "y"
        },
        {
         "hovertemplate": "Receptor=4kd1<br>Receptor Type=no cyclin<br>RMSD=%{x}<br>Energy (kcal/mol)=%{y}<extra></extra>",
         "legendgroup": "4kd1, no cyclin",
         "marker": {
          "color": "rgb(251,128,114)",
          "line": {
           "color": "DarkSlateGrey",
           "width": 1
          },
          "size": 8,
          "symbol": "x"
         },
         "mode": "markers",
         "name": "4kd1, no cyclin",
         "orientation": "v",
         "showlegend": true,
         "type": "scatter",
         "x": [
          4.92,
          13.1
         ],
         "xaxis": "x",
         "y": [
          19.85,
          17.05
         ],
         "yaxis": "y"
        },
        {
         "hovertemplate": "Receptor=6guh<br>Receptor Type=no cyclin<br>RMSD=%{x}<br>Energy (kcal/mol)=%{y}<extra></extra>",
         "legendgroup": "6guh, no cyclin",
         "marker": {
          "color": "rgb(128,177,211)",
          "line": {
           "color": "DarkSlateGrey",
           "width": 1
          },
          "size": 8,
          "symbol": "x"
         },
         "mode": "markers",
         "name": "6guh, no cyclin",
         "orientation": "v",
         "showlegend": true,
         "type": "scatter",
         "x": [
          12.65,
          12.44,
          3.89,
          4.67,
          4.09,
          12.47,
          4.1,
          11.72,
          3.54,
          4.18,
          12.8
         ],
         "xaxis": "x",
         "y": [
          -6.45,
          -7.63,
          -7.18,
          -9.46,
          -9.15,
          -8.26,
          -9.06,
          -8.06,
          -7.89,
          -7.81,
          -8.13
         ],
         "yaxis": "y"
        },
        {
         "hovertemplate": "Receptor=3ddq<br>Receptor Type=with cyclin<br>RMSD=%{x}<br>Energy (kcal/mol)=%{y}<extra></extra>",
         "legendgroup": "3ddq, with cyclin",
         "marker": {
          "color": "rgb(253,180,98)",
          "line": {
           "color": "DarkSlateGrey",
           "width": 1
          },
          "size": 8,
          "symbol": "triangle-up"
         },
         "mode": "markers",
         "name": "3ddq, with cyclin",
         "orientation": "v",
         "showlegend": true,
         "type": "scatter",
         "x": [
          3.94,
          5.49,
          6.34
         ],
         "xaxis": "x",
         "y": [
          63.08,
          62.65,
          64.38
         ],
         "yaxis": "y"
        },
        {
         "hovertemplate": "Receptor=6gue<br>Receptor Type=with cyclin<br>RMSD=%{x}<br>Energy (kcal/mol)=%{y}<extra></extra>",
         "legendgroup": "6gue, with cyclin",
         "marker": {
          "color": "rgb(179,222,105)",
          "line": {
           "color": "DarkSlateGrey",
           "width": 1
          },
          "size": 8,
          "symbol": "triangle-up"
         },
         "mode": "markers",
         "name": "6gue, with cyclin",
         "orientation": "v",
         "showlegend": true,
         "type": "scatter",
         "x": [
          12.05,
          7.01,
          6.51,
          12.85
         ],
         "xaxis": "x",
         "y": [
          51.37,
          36.47,
          66.21,
          68.1
         ],
         "yaxis": "y"
        },
        {
         "hovertemplate": "Receptor=5l2w<br>Receptor Type=with cyclin<br>RMSD=%{x}<br>Energy (kcal/mol)=%{y}<extra></extra>",
         "legendgroup": "5l2w, with cyclin",
         "marker": {
          "color": "rgb(252,205,229)",
          "line": {
           "color": "DarkSlateGrey",
           "width": 1
          },
          "size": 8,
          "symbol": "triangle-up"
         },
         "mode": "markers",
         "name": "5l2w, with cyclin",
         "orientation": "v",
         "showlegend": true,
         "type": "scatter",
         "x": [
          11.97,
          5.55,
          11.94
         ],
         "xaxis": "x",
         "y": [
          54.75,
          51.97,
          45.58
         ],
         "yaxis": "y"
        },
        {
         "hovertemplate": "Receptor=6guf<br>Receptor Type=with cyclin<br>RMSD=%{x}<br>Energy (kcal/mol)=%{y}<extra></extra>",
         "legendgroup": "6guf, with cyclin",
         "marker": {
          "color": "rgb(217,217,217)",
          "line": {
           "color": "DarkSlateGrey",
           "width": 1
          },
          "size": 8,
          "symbol": "triangle-up"
         },
         "mode": "markers",
         "name": "6guf, with cyclin",
         "orientation": "v",
         "showlegend": true,
         "type": "scatter",
         "x": [
          11.93,
          12.78,
          12.43,
          12.08,
          12.83,
          12.43
         ],
         "xaxis": "x",
         "y": [
          51.74,
          50.72,
          46.11,
          48.97,
          46.94,
          45.38
         ],
         "yaxis": "y"
        },
        {
         "hovertemplate": "Receptor=6gub<br>Receptor Type=with cyclin<br>RMSD=%{x}<br>Energy (kcal/mol)=%{y}<extra></extra>",
         "legendgroup": "6gub, with cyclin",
         "marker": {
          "color": "rgb(188,128,189)",
          "line": {
           "color": "DarkSlateGrey",
           "width": 1
          },
          "size": 8,
          "symbol": "triangle-up"
         },
         "mode": "markers",
         "name": "6gub, with cyclin",
         "orientation": "v",
         "showlegend": true,
         "type": "scatter",
         "x": [
          4.68,
          12.78,
          12.39
         ],
         "xaxis": "x",
         "y": [
          49.58,
          14.81,
          49.83
         ],
         "yaxis": "y"
        }
       ],
       "layout": {
        "legend": {
         "title": {
          "text": "Receptor, Receptor Type"
         },
         "tracegroupgap": 0
        },
        "margin": {
         "t": 60
        },
        "template": {
         "data": {
          "bar": [
           {
            "error_x": {
             "color": "rgb(51,51,51)"
            },
            "error_y": {
             "color": "rgb(51,51,51)"
            },
            "marker": {
             "line": {
              "color": "rgb(237,237,237)",
              "width": 0.5
             },
             "pattern": {
              "fillmode": "overlay",
              "size": 10,
              "solidity": 0.2
             }
            },
            "type": "bar"
           }
          ],
          "barpolar": [
           {
            "marker": {
             "line": {
              "color": "rgb(237,237,237)",
              "width": 0.5
             },
             "pattern": {
              "fillmode": "overlay",
              "size": 10,
              "solidity": 0.2
             }
            },
            "type": "barpolar"
           }
          ],
          "carpet": [
           {
            "aaxis": {
             "endlinecolor": "rgb(51,51,51)",
             "gridcolor": "white",
             "linecolor": "white",
             "minorgridcolor": "white",
             "startlinecolor": "rgb(51,51,51)"
            },
            "baxis": {
             "endlinecolor": "rgb(51,51,51)",
             "gridcolor": "white",
             "linecolor": "white",
             "minorgridcolor": "white",
             "startlinecolor": "rgb(51,51,51)"
            },
            "type": "carpet"
           }
          ],
          "choropleth": [
           {
            "colorbar": {
             "outlinewidth": 0,
             "tickcolor": "rgb(237,237,237)",
             "ticklen": 6,
             "ticks": "inside"
            },
            "type": "choropleth"
           }
          ],
          "contour": [
           {
            "colorbar": {
             "outlinewidth": 0,
             "tickcolor": "rgb(237,237,237)",
             "ticklen": 6,
             "ticks": "inside"
            },
            "colorscale": [
             [
              0,
              "rgb(20,44,66)"
             ],
             [
              1,
              "rgb(90,179,244)"
             ]
            ],
            "type": "contour"
           }
          ],
          "contourcarpet": [
           {
            "colorbar": {
             "outlinewidth": 0,
             "tickcolor": "rgb(237,237,237)",
             "ticklen": 6,
             "ticks": "inside"
            },
            "type": "contourcarpet"
           }
          ],
          "heatmap": [
           {
            "colorbar": {
             "outlinewidth": 0,
             "tickcolor": "rgb(237,237,237)",
             "ticklen": 6,
             "ticks": "inside"
            },
            "colorscale": [
             [
              0,
              "rgb(20,44,66)"
             ],
             [
              1,
              "rgb(90,179,244)"
             ]
            ],
            "type": "heatmap"
           }
          ],
          "heatmapgl": [
           {
            "colorbar": {
             "outlinewidth": 0,
             "tickcolor": "rgb(237,237,237)",
             "ticklen": 6,
             "ticks": "inside"
            },
            "colorscale": [
             [
              0,
              "rgb(20,44,66)"
             ],
             [
              1,
              "rgb(90,179,244)"
             ]
            ],
            "type": "heatmapgl"
           }
          ],
          "histogram": [
           {
            "marker": {
             "pattern": {
              "fillmode": "overlay",
              "size": 10,
              "solidity": 0.2
             }
            },
            "type": "histogram"
           }
          ],
          "histogram2d": [
           {
            "colorbar": {
             "outlinewidth": 0,
             "tickcolor": "rgb(237,237,237)",
             "ticklen": 6,
             "ticks": "inside"
            },
            "colorscale": [
             [
              0,
              "rgb(20,44,66)"
             ],
             [
              1,
              "rgb(90,179,244)"
             ]
            ],
            "type": "histogram2d"
           }
          ],
          "histogram2dcontour": [
           {
            "colorbar": {
             "outlinewidth": 0,
             "tickcolor": "rgb(237,237,237)",
             "ticklen": 6,
             "ticks": "inside"
            },
            "colorscale": [
             [
              0,
              "rgb(20,44,66)"
             ],
             [
              1,
              "rgb(90,179,244)"
             ]
            ],
            "type": "histogram2dcontour"
           }
          ],
          "mesh3d": [
           {
            "colorbar": {
             "outlinewidth": 0,
             "tickcolor": "rgb(237,237,237)",
             "ticklen": 6,
             "ticks": "inside"
            },
            "type": "mesh3d"
           }
          ],
          "parcoords": [
           {
            "line": {
             "colorbar": {
              "outlinewidth": 0,
              "tickcolor": "rgb(237,237,237)",
              "ticklen": 6,
              "ticks": "inside"
             }
            },
            "type": "parcoords"
           }
          ],
          "pie": [
           {
            "automargin": true,
            "type": "pie"
           }
          ],
          "scatter": [
           {
            "fillpattern": {
             "fillmode": "overlay",
             "size": 10,
             "solidity": 0.2
            },
            "type": "scatter"
           }
          ],
          "scatter3d": [
           {
            "line": {
             "colorbar": {
              "outlinewidth": 0,
              "tickcolor": "rgb(237,237,237)",
              "ticklen": 6,
              "ticks": "inside"
             }
            },
            "marker": {
             "colorbar": {
              "outlinewidth": 0,
              "tickcolor": "rgb(237,237,237)",
              "ticklen": 6,
              "ticks": "inside"
             }
            },
            "type": "scatter3d"
           }
          ],
          "scattercarpet": [
           {
            "marker": {
             "colorbar": {
              "outlinewidth": 0,
              "tickcolor": "rgb(237,237,237)",
              "ticklen": 6,
              "ticks": "inside"
             }
            },
            "type": "scattercarpet"
           }
          ],
          "scattergeo": [
           {
            "marker": {
             "colorbar": {
              "outlinewidth": 0,
              "tickcolor": "rgb(237,237,237)",
              "ticklen": 6,
              "ticks": "inside"
             }
            },
            "type": "scattergeo"
           }
          ],
          "scattergl": [
           {
            "marker": {
             "colorbar": {
              "outlinewidth": 0,
              "tickcolor": "rgb(237,237,237)",
              "ticklen": 6,
              "ticks": "inside"
             }
            },
            "type": "scattergl"
           }
          ],
          "scattermapbox": [
           {
            "marker": {
             "colorbar": {
              "outlinewidth": 0,
              "tickcolor": "rgb(237,237,237)",
              "ticklen": 6,
              "ticks": "inside"
             }
            },
            "type": "scattermapbox"
           }
          ],
          "scatterpolar": [
           {
            "marker": {
             "colorbar": {
              "outlinewidth": 0,
              "tickcolor": "rgb(237,237,237)",
              "ticklen": 6,
              "ticks": "inside"
             }
            },
            "type": "scatterpolar"
           }
          ],
          "scatterpolargl": [
           {
            "marker": {
             "colorbar": {
              "outlinewidth": 0,
              "tickcolor": "rgb(237,237,237)",
              "ticklen": 6,
              "ticks": "inside"
             }
            },
            "type": "scatterpolargl"
           }
          ],
          "scatterternary": [
           {
            "marker": {
             "colorbar": {
              "outlinewidth": 0,
              "tickcolor": "rgb(237,237,237)",
              "ticklen": 6,
              "ticks": "inside"
             }
            },
            "type": "scatterternary"
           }
          ],
          "surface": [
           {
            "colorbar": {
             "outlinewidth": 0,
             "tickcolor": "rgb(237,237,237)",
             "ticklen": 6,
             "ticks": "inside"
            },
            "colorscale": [
             [
              0,
              "rgb(20,44,66)"
             ],
             [
              1,
              "rgb(90,179,244)"
             ]
            ],
            "type": "surface"
           }
          ],
          "table": [
           {
            "cells": {
             "fill": {
              "color": "rgb(237,237,237)"
             },
             "line": {
              "color": "white"
             }
            },
            "header": {
             "fill": {
              "color": "rgb(217,217,217)"
             },
             "line": {
              "color": "white"
             }
            },
            "type": "table"
           }
          ]
         },
         "layout": {
          "annotationdefaults": {
           "arrowhead": 0,
           "arrowwidth": 1
          },
          "autotypenumbers": "strict",
          "coloraxis": {
           "colorbar": {
            "outlinewidth": 0,
            "tickcolor": "rgb(237,237,237)",
            "ticklen": 6,
            "ticks": "inside"
           }
          },
          "colorscale": {
           "sequential": [
            [
             0,
             "rgb(20,44,66)"
            ],
            [
             1,
             "rgb(90,179,244)"
            ]
           ],
           "sequentialminus": [
            [
             0,
             "rgb(20,44,66)"
            ],
            [
             1,
             "rgb(90,179,244)"
            ]
           ]
          },
          "colorway": [
           "#F8766D",
           "#A3A500",
           "#00BF7D",
           "#00B0F6",
           "#E76BF3"
          ],
          "font": {
           "color": "rgb(51,51,51)"
          },
          "geo": {
           "bgcolor": "white",
           "lakecolor": "white",
           "landcolor": "rgb(237,237,237)",
           "showlakes": true,
           "showland": true,
           "subunitcolor": "white"
          },
          "hoverlabel": {
           "align": "left"
          },
          "hovermode": "closest",
          "paper_bgcolor": "white",
          "plot_bgcolor": "rgb(237,237,237)",
          "polar": {
           "angularaxis": {
            "gridcolor": "white",
            "linecolor": "white",
            "showgrid": true,
            "tickcolor": "rgb(51,51,51)",
            "ticks": "outside"
           },
           "bgcolor": "rgb(237,237,237)",
           "radialaxis": {
            "gridcolor": "white",
            "linecolor": "white",
            "showgrid": true,
            "tickcolor": "rgb(51,51,51)",
            "ticks": "outside"
           }
          },
          "scene": {
           "xaxis": {
            "backgroundcolor": "rgb(237,237,237)",
            "gridcolor": "white",
            "gridwidth": 2,
            "linecolor": "white",
            "showbackground": true,
            "showgrid": true,
            "tickcolor": "rgb(51,51,51)",
            "ticks": "outside",
            "zerolinecolor": "white"
           },
           "yaxis": {
            "backgroundcolor": "rgb(237,237,237)",
            "gridcolor": "white",
            "gridwidth": 2,
            "linecolor": "white",
            "showbackground": true,
            "showgrid": true,
            "tickcolor": "rgb(51,51,51)",
            "ticks": "outside",
            "zerolinecolor": "white"
           },
           "zaxis": {
            "backgroundcolor": "rgb(237,237,237)",
            "gridcolor": "white",
            "gridwidth": 2,
            "linecolor": "white",
            "showbackground": true,
            "showgrid": true,
            "tickcolor": "rgb(51,51,51)",
            "ticks": "outside",
            "zerolinecolor": "white"
           }
          },
          "shapedefaults": {
           "fillcolor": "black",
           "line": {
            "width": 0
           },
           "opacity": 0.3
          },
          "ternary": {
           "aaxis": {
            "gridcolor": "white",
            "linecolor": "white",
            "showgrid": true,
            "tickcolor": "rgb(51,51,51)",
            "ticks": "outside"
           },
           "baxis": {
            "gridcolor": "white",
            "linecolor": "white",
            "showgrid": true,
            "tickcolor": "rgb(51,51,51)",
            "ticks": "outside"
           },
           "bgcolor": "rgb(237,237,237)",
           "caxis": {
            "gridcolor": "white",
            "linecolor": "white",
            "showgrid": true,
            "tickcolor": "rgb(51,51,51)",
            "ticks": "outside"
           }
          },
          "xaxis": {
           "automargin": true,
           "gridcolor": "white",
           "linecolor": "white",
           "showgrid": true,
           "tickcolor": "rgb(51,51,51)",
           "ticks": "outside",
           "title": {
            "standoff": 15
           },
           "zerolinecolor": "white"
          },
          "yaxis": {
           "automargin": true,
           "gridcolor": "white",
           "linecolor": "white",
           "showgrid": true,
           "tickcolor": "rgb(51,51,51)",
           "ticks": "outside",
           "title": {
            "standoff": 15
           },
           "zerolinecolor": "white"
          }
         }
        },
        "title": {
         "text": "Ensemble docking of 5A14"
        },
        "xaxis": {
         "anchor": "y",
         "domain": [
          0,
          1
         ],
         "title": {
          "text": "RMSD"
         }
        },
        "yaxis": {
         "anchor": "x",
         "domain": [
          0,
          1
         ],
         "title": {
          "text": "Energy (kcal/mol)"
         }
        }
       }
      },
      "text/html": [
       "<div>                            <div id=\"b94e4010-5ff3-45f5-8984-ed7c897d7b0a\" class=\"plotly-graph-div\" style=\"height:525px; width:100%;\"></div>            <script type=\"text/javascript\">                require([\"plotly\"], function(Plotly) {                    window.PLOTLYENV=window.PLOTLYENV || {};                                    if (document.getElementById(\"b94e4010-5ff3-45f5-8984-ed7c897d7b0a\")) {                    Plotly.newPlot(                        \"b94e4010-5ff3-45f5-8984-ed7c897d7b0a\",                        [{\"hovertemplate\":\"Receptor=5a14\\u003cbr\\u003eReceptor Type=DFG out\\u003cbr\\u003eRMSD=%{x}\\u003cbr\\u003eEnergy (kcal\\u002fmol)=%{y}\\u003cextra\\u003e\\u003c\\u002fextra\\u003e\",\"legendgroup\":\"5a14, DFG out\",\"marker\":{\"color\":\"rgb(141,211,199)\",\"symbol\":\"circle\",\"line\":{\"color\":\"DarkSlateGrey\",\"width\":1},\"size\":8},\"mode\":\"markers\",\"name\":\"5a14, DFG out\",\"orientation\":\"v\",\"showlegend\":true,\"x\":[1.38,12.1,1.47],\"xaxis\":\"x\",\"y\":[-14.55,-11.24,-10.82],\"yaxis\":\"y\",\"type\":\"scatter\"},{\"hovertemplate\":\"Receptor=3pj8\\u003cbr\\u003eReceptor Type=no cyclin\\u003cbr\\u003eRMSD=%{x}\\u003cbr\\u003eEnergy (kcal\\u002fmol)=%{y}\\u003cextra\\u003e\\u003c\\u002fextra\\u003e\",\"legendgroup\":\"3pj8, no cyclin\",\"marker\":{\"color\":\"rgb(255,255,179)\",\"symbol\":\"x\",\"line\":{\"color\":\"DarkSlateGrey\",\"width\":1},\"size\":8},\"mode\":\"markers\",\"name\":\"3pj8, no cyclin\",\"orientation\":\"v\",\"showlegend\":true,\"x\":[6.43,6.48,12.2,13.28,4.34],\"xaxis\":\"x\",\"y\":[23.18,17.54,16.23,15.01,7.44],\"yaxis\":\"y\",\"type\":\"scatter\"},{\"hovertemplate\":\"Receptor=6guk\\u003cbr\\u003eReceptor Type=no cyclin\\u003cbr\\u003eRMSD=%{x}\\u003cbr\\u003eEnergy (kcal\\u002fmol)=%{y}\\u003cextra\\u003e\\u003c\\u002fextra\\u003e\",\"legendgroup\":\"6guk, no cyclin\",\"marker\":{\"color\":\"rgb(190,186,218)\",\"symbol\":\"x\",\"line\":{\"color\":\"DarkSlateGrey\",\"width\":1},\"size\":8},\"mode\":\"markers\",\"name\":\"6guk, no cyclin\",\"orientation\":\"v\",\"showlegend\":true,\"x\":[4.49,11.99,12.2],\"xaxis\":\"x\",\"y\":[20.98,18.19,19.68],\"yaxis\":\"y\",\"type\":\"scatter\"},{\"hovertemplate\":\"Receptor=4kd1\\u003cbr\\u003eReceptor Type=no cyclin\\u003cbr\\u003eRMSD=%{x}\\u003cbr\\u003eEnergy (kcal\\u002fmol)=%{y}\\u003cextra\\u003e\\u003c\\u002fextra\\u003e\",\"legendgroup\":\"4kd1, no cyclin\",\"marker\":{\"color\":\"rgb(251,128,114)\",\"symbol\":\"x\",\"line\":{\"color\":\"DarkSlateGrey\",\"width\":1},\"size\":8},\"mode\":\"markers\",\"name\":\"4kd1, no cyclin\",\"orientation\":\"v\",\"showlegend\":true,\"x\":[4.92,13.1],\"xaxis\":\"x\",\"y\":[19.85,17.05],\"yaxis\":\"y\",\"type\":\"scatter\"},{\"hovertemplate\":\"Receptor=6guh\\u003cbr\\u003eReceptor Type=no cyclin\\u003cbr\\u003eRMSD=%{x}\\u003cbr\\u003eEnergy (kcal\\u002fmol)=%{y}\\u003cextra\\u003e\\u003c\\u002fextra\\u003e\",\"legendgroup\":\"6guh, no cyclin\",\"marker\":{\"color\":\"rgb(128,177,211)\",\"symbol\":\"x\",\"line\":{\"color\":\"DarkSlateGrey\",\"width\":1},\"size\":8},\"mode\":\"markers\",\"name\":\"6guh, no cyclin\",\"orientation\":\"v\",\"showlegend\":true,\"x\":[12.65,12.44,3.89,4.67,4.09,12.47,4.1,11.72,3.54,4.18,12.8],\"xaxis\":\"x\",\"y\":[-6.45,-7.63,-7.18,-9.46,-9.15,-8.26,-9.06,-8.06,-7.89,-7.81,-8.13],\"yaxis\":\"y\",\"type\":\"scatter\"},{\"hovertemplate\":\"Receptor=3ddq\\u003cbr\\u003eReceptor Type=with cyclin\\u003cbr\\u003eRMSD=%{x}\\u003cbr\\u003eEnergy (kcal\\u002fmol)=%{y}\\u003cextra\\u003e\\u003c\\u002fextra\\u003e\",\"legendgroup\":\"3ddq, with cyclin\",\"marker\":{\"color\":\"rgb(253,180,98)\",\"symbol\":\"triangle-up\",\"line\":{\"color\":\"DarkSlateGrey\",\"width\":1},\"size\":8},\"mode\":\"markers\",\"name\":\"3ddq, with cyclin\",\"orientation\":\"v\",\"showlegend\":true,\"x\":[3.94,5.49,6.34],\"xaxis\":\"x\",\"y\":[63.08,62.65,64.38],\"yaxis\":\"y\",\"type\":\"scatter\"},{\"hovertemplate\":\"Receptor=6gue\\u003cbr\\u003eReceptor Type=with cyclin\\u003cbr\\u003eRMSD=%{x}\\u003cbr\\u003eEnergy (kcal\\u002fmol)=%{y}\\u003cextra\\u003e\\u003c\\u002fextra\\u003e\",\"legendgroup\":\"6gue, with cyclin\",\"marker\":{\"color\":\"rgb(179,222,105)\",\"symbol\":\"triangle-up\",\"line\":{\"color\":\"DarkSlateGrey\",\"width\":1},\"size\":8},\"mode\":\"markers\",\"name\":\"6gue, with cyclin\",\"orientation\":\"v\",\"showlegend\":true,\"x\":[12.05,7.01,6.51,12.85],\"xaxis\":\"x\",\"y\":[51.37,36.47,66.21,68.1],\"yaxis\":\"y\",\"type\":\"scatter\"},{\"hovertemplate\":\"Receptor=5l2w\\u003cbr\\u003eReceptor Type=with cyclin\\u003cbr\\u003eRMSD=%{x}\\u003cbr\\u003eEnergy (kcal\\u002fmol)=%{y}\\u003cextra\\u003e\\u003c\\u002fextra\\u003e\",\"legendgroup\":\"5l2w, with cyclin\",\"marker\":{\"color\":\"rgb(252,205,229)\",\"symbol\":\"triangle-up\",\"line\":{\"color\":\"DarkSlateGrey\",\"width\":1},\"size\":8},\"mode\":\"markers\",\"name\":\"5l2w, with cyclin\",\"orientation\":\"v\",\"showlegend\":true,\"x\":[11.97,5.55,11.94],\"xaxis\":\"x\",\"y\":[54.75,51.97,45.58],\"yaxis\":\"y\",\"type\":\"scatter\"},{\"hovertemplate\":\"Receptor=6guf\\u003cbr\\u003eReceptor Type=with cyclin\\u003cbr\\u003eRMSD=%{x}\\u003cbr\\u003eEnergy (kcal\\u002fmol)=%{y}\\u003cextra\\u003e\\u003c\\u002fextra\\u003e\",\"legendgroup\":\"6guf, with cyclin\",\"marker\":{\"color\":\"rgb(217,217,217)\",\"symbol\":\"triangle-up\",\"line\":{\"color\":\"DarkSlateGrey\",\"width\":1},\"size\":8},\"mode\":\"markers\",\"name\":\"6guf, with cyclin\",\"orientation\":\"v\",\"showlegend\":true,\"x\":[11.93,12.78,12.43,12.08,12.83,12.43],\"xaxis\":\"x\",\"y\":[51.74,50.72,46.11,48.97,46.94,45.38],\"yaxis\":\"y\",\"type\":\"scatter\"},{\"hovertemplate\":\"Receptor=6gub\\u003cbr\\u003eReceptor Type=with cyclin\\u003cbr\\u003eRMSD=%{x}\\u003cbr\\u003eEnergy (kcal\\u002fmol)=%{y}\\u003cextra\\u003e\\u003c\\u002fextra\\u003e\",\"legendgroup\":\"6gub, with cyclin\",\"marker\":{\"color\":\"rgb(188,128,189)\",\"symbol\":\"triangle-up\",\"line\":{\"color\":\"DarkSlateGrey\",\"width\":1},\"size\":8},\"mode\":\"markers\",\"name\":\"6gub, with cyclin\",\"orientation\":\"v\",\"showlegend\":true,\"x\":[4.68,12.78,12.39],\"xaxis\":\"x\",\"y\":[49.58,14.81,49.83],\"yaxis\":\"y\",\"type\":\"scatter\"}],                        {\"template\":{\"data\":{\"barpolar\":[{\"marker\":{\"line\":{\"color\":\"rgb(237,237,237)\",\"width\":0.5},\"pattern\":{\"fillmode\":\"overlay\",\"size\":10,\"solidity\":0.2}},\"type\":\"barpolar\"}],\"bar\":[{\"error_x\":{\"color\":\"rgb(51,51,51)\"},\"error_y\":{\"color\":\"rgb(51,51,51)\"},\"marker\":{\"line\":{\"color\":\"rgb(237,237,237)\",\"width\":0.5},\"pattern\":{\"fillmode\":\"overlay\",\"size\":10,\"solidity\":0.2}},\"type\":\"bar\"}],\"carpet\":[{\"aaxis\":{\"endlinecolor\":\"rgb(51,51,51)\",\"gridcolor\":\"white\",\"linecolor\":\"white\",\"minorgridcolor\":\"white\",\"startlinecolor\":\"rgb(51,51,51)\"},\"baxis\":{\"endlinecolor\":\"rgb(51,51,51)\",\"gridcolor\":\"white\",\"linecolor\":\"white\",\"minorgridcolor\":\"white\",\"startlinecolor\":\"rgb(51,51,51)\"},\"type\":\"carpet\"}],\"choropleth\":[{\"colorbar\":{\"outlinewidth\":0,\"tickcolor\":\"rgb(237,237,237)\",\"ticklen\":6,\"ticks\":\"inside\"},\"type\":\"choropleth\"}],\"contourcarpet\":[{\"colorbar\":{\"outlinewidth\":0,\"tickcolor\":\"rgb(237,237,237)\",\"ticklen\":6,\"ticks\":\"inside\"},\"type\":\"contourcarpet\"}],\"contour\":[{\"colorbar\":{\"outlinewidth\":0,\"tickcolor\":\"rgb(237,237,237)\",\"ticklen\":6,\"ticks\":\"inside\"},\"colorscale\":[[0,\"rgb(20,44,66)\"],[1,\"rgb(90,179,244)\"]],\"type\":\"contour\"}],\"heatmapgl\":[{\"colorbar\":{\"outlinewidth\":0,\"tickcolor\":\"rgb(237,237,237)\",\"ticklen\":6,\"ticks\":\"inside\"},\"colorscale\":[[0,\"rgb(20,44,66)\"],[1,\"rgb(90,179,244)\"]],\"type\":\"heatmapgl\"}],\"heatmap\":[{\"colorbar\":{\"outlinewidth\":0,\"tickcolor\":\"rgb(237,237,237)\",\"ticklen\":6,\"ticks\":\"inside\"},\"colorscale\":[[0,\"rgb(20,44,66)\"],[1,\"rgb(90,179,244)\"]],\"type\":\"heatmap\"}],\"histogram2dcontour\":[{\"colorbar\":{\"outlinewidth\":0,\"tickcolor\":\"rgb(237,237,237)\",\"ticklen\":6,\"ticks\":\"inside\"},\"colorscale\":[[0,\"rgb(20,44,66)\"],[1,\"rgb(90,179,244)\"]],\"type\":\"histogram2dcontour\"}],\"histogram2d\":[{\"colorbar\":{\"outlinewidth\":0,\"tickcolor\":\"rgb(237,237,237)\",\"ticklen\":6,\"ticks\":\"inside\"},\"colorscale\":[[0,\"rgb(20,44,66)\"],[1,\"rgb(90,179,244)\"]],\"type\":\"histogram2d\"}],\"histogram\":[{\"marker\":{\"pattern\":{\"fillmode\":\"overlay\",\"size\":10,\"solidity\":0.2}},\"type\":\"histogram\"}],\"mesh3d\":[{\"colorbar\":{\"outlinewidth\":0,\"tickcolor\":\"rgb(237,237,237)\",\"ticklen\":6,\"ticks\":\"inside\"},\"type\":\"mesh3d\"}],\"parcoords\":[{\"line\":{\"colorbar\":{\"outlinewidth\":0,\"tickcolor\":\"rgb(237,237,237)\",\"ticklen\":6,\"ticks\":\"inside\"}},\"type\":\"parcoords\"}],\"pie\":[{\"automargin\":true,\"type\":\"pie\"}],\"scatter3d\":[{\"line\":{\"colorbar\":{\"outlinewidth\":0,\"tickcolor\":\"rgb(237,237,237)\",\"ticklen\":6,\"ticks\":\"inside\"}},\"marker\":{\"colorbar\":{\"outlinewidth\":0,\"tickcolor\":\"rgb(237,237,237)\",\"ticklen\":6,\"ticks\":\"inside\"}},\"type\":\"scatter3d\"}],\"scattercarpet\":[{\"marker\":{\"colorbar\":{\"outlinewidth\":0,\"tickcolor\":\"rgb(237,237,237)\",\"ticklen\":6,\"ticks\":\"inside\"}},\"type\":\"scattercarpet\"}],\"scattergeo\":[{\"marker\":{\"colorbar\":{\"outlinewidth\":0,\"tickcolor\":\"rgb(237,237,237)\",\"ticklen\":6,\"ticks\":\"inside\"}},\"type\":\"scattergeo\"}],\"scattergl\":[{\"marker\":{\"colorbar\":{\"outlinewidth\":0,\"tickcolor\":\"rgb(237,237,237)\",\"ticklen\":6,\"ticks\":\"inside\"}},\"type\":\"scattergl\"}],\"scattermapbox\":[{\"marker\":{\"colorbar\":{\"outlinewidth\":0,\"tickcolor\":\"rgb(237,237,237)\",\"ticklen\":6,\"ticks\":\"inside\"}},\"type\":\"scattermapbox\"}],\"scatterpolargl\":[{\"marker\":{\"colorbar\":{\"outlinewidth\":0,\"tickcolor\":\"rgb(237,237,237)\",\"ticklen\":6,\"ticks\":\"inside\"}},\"type\":\"scatterpolargl\"}],\"scatterpolar\":[{\"marker\":{\"colorbar\":{\"outlinewidth\":0,\"tickcolor\":\"rgb(237,237,237)\",\"ticklen\":6,\"ticks\":\"inside\"}},\"type\":\"scatterpolar\"}],\"scatter\":[{\"fillpattern\":{\"fillmode\":\"overlay\",\"size\":10,\"solidity\":0.2},\"type\":\"scatter\"}],\"scatterternary\":[{\"marker\":{\"colorbar\":{\"outlinewidth\":0,\"tickcolor\":\"rgb(237,237,237)\",\"ticklen\":6,\"ticks\":\"inside\"}},\"type\":\"scatterternary\"}],\"surface\":[{\"colorbar\":{\"outlinewidth\":0,\"tickcolor\":\"rgb(237,237,237)\",\"ticklen\":6,\"ticks\":\"inside\"},\"colorscale\":[[0,\"rgb(20,44,66)\"],[1,\"rgb(90,179,244)\"]],\"type\":\"surface\"}],\"table\":[{\"cells\":{\"fill\":{\"color\":\"rgb(237,237,237)\"},\"line\":{\"color\":\"white\"}},\"header\":{\"fill\":{\"color\":\"rgb(217,217,217)\"},\"line\":{\"color\":\"white\"}},\"type\":\"table\"}]},\"layout\":{\"annotationdefaults\":{\"arrowhead\":0,\"arrowwidth\":1},\"autotypenumbers\":\"strict\",\"coloraxis\":{\"colorbar\":{\"outlinewidth\":0,\"tickcolor\":\"rgb(237,237,237)\",\"ticklen\":6,\"ticks\":\"inside\"}},\"colorscale\":{\"sequential\":[[0,\"rgb(20,44,66)\"],[1,\"rgb(90,179,244)\"]],\"sequentialminus\":[[0,\"rgb(20,44,66)\"],[1,\"rgb(90,179,244)\"]]},\"colorway\":[\"#F8766D\",\"#A3A500\",\"#00BF7D\",\"#00B0F6\",\"#E76BF3\"],\"font\":{\"color\":\"rgb(51,51,51)\"},\"geo\":{\"bgcolor\":\"white\",\"lakecolor\":\"white\",\"landcolor\":\"rgb(237,237,237)\",\"showlakes\":true,\"showland\":true,\"subunitcolor\":\"white\"},\"hoverlabel\":{\"align\":\"left\"},\"hovermode\":\"closest\",\"paper_bgcolor\":\"white\",\"plot_bgcolor\":\"rgb(237,237,237)\",\"polar\":{\"angularaxis\":{\"gridcolor\":\"white\",\"linecolor\":\"white\",\"showgrid\":true,\"tickcolor\":\"rgb(51,51,51)\",\"ticks\":\"outside\"},\"bgcolor\":\"rgb(237,237,237)\",\"radialaxis\":{\"gridcolor\":\"white\",\"linecolor\":\"white\",\"showgrid\":true,\"tickcolor\":\"rgb(51,51,51)\",\"ticks\":\"outside\"}},\"scene\":{\"xaxis\":{\"backgroundcolor\":\"rgb(237,237,237)\",\"gridcolor\":\"white\",\"gridwidth\":2,\"linecolor\":\"white\",\"showbackground\":true,\"showgrid\":true,\"tickcolor\":\"rgb(51,51,51)\",\"ticks\":\"outside\",\"zerolinecolor\":\"white\"},\"yaxis\":{\"backgroundcolor\":\"rgb(237,237,237)\",\"gridcolor\":\"white\",\"gridwidth\":2,\"linecolor\":\"white\",\"showbackground\":true,\"showgrid\":true,\"tickcolor\":\"rgb(51,51,51)\",\"ticks\":\"outside\",\"zerolinecolor\":\"white\"},\"zaxis\":{\"backgroundcolor\":\"rgb(237,237,237)\",\"gridcolor\":\"white\",\"gridwidth\":2,\"linecolor\":\"white\",\"showbackground\":true,\"showgrid\":true,\"tickcolor\":\"rgb(51,51,51)\",\"ticks\":\"outside\",\"zerolinecolor\":\"white\"}},\"shapedefaults\":{\"fillcolor\":\"black\",\"line\":{\"width\":0},\"opacity\":0.3},\"ternary\":{\"aaxis\":{\"gridcolor\":\"white\",\"linecolor\":\"white\",\"showgrid\":true,\"tickcolor\":\"rgb(51,51,51)\",\"ticks\":\"outside\"},\"baxis\":{\"gridcolor\":\"white\",\"linecolor\":\"white\",\"showgrid\":true,\"tickcolor\":\"rgb(51,51,51)\",\"ticks\":\"outside\"},\"bgcolor\":\"rgb(237,237,237)\",\"caxis\":{\"gridcolor\":\"white\",\"linecolor\":\"white\",\"showgrid\":true,\"tickcolor\":\"rgb(51,51,51)\",\"ticks\":\"outside\"}},\"xaxis\":{\"automargin\":true,\"gridcolor\":\"white\",\"linecolor\":\"white\",\"showgrid\":true,\"tickcolor\":\"rgb(51,51,51)\",\"ticks\":\"outside\",\"title\":{\"standoff\":15},\"zerolinecolor\":\"white\"},\"yaxis\":{\"automargin\":true,\"gridcolor\":\"white\",\"linecolor\":\"white\",\"showgrid\":true,\"tickcolor\":\"rgb(51,51,51)\",\"ticks\":\"outside\",\"title\":{\"standoff\":15},\"zerolinecolor\":\"white\"}}},\"xaxis\":{\"anchor\":\"y\",\"domain\":[0.0,1.0],\"title\":{\"text\":\"RMSD\"}},\"yaxis\":{\"anchor\":\"x\",\"domain\":[0.0,1.0],\"title\":{\"text\":\"Energy (kcal\\u002fmol)\"}},\"legend\":{\"title\":{\"text\":\"Receptor, Receptor Type\"},\"tracegroupgap\":0},\"margin\":{\"t\":60},\"title\":{\"text\":\"Ensemble docking of 5A14\"}},                        {\"responsive\": true}                    ).then(function(){\n",
       "                            \n",
       "var gd = document.getElementById('b94e4010-5ff3-45f5-8984-ed7c897d7b0a');\n",
       "var x = new MutationObserver(function (mutations, observer) {{\n",
       "        var display = window.getComputedStyle(gd).display;\n",
       "        if (!display || display === 'none') {{\n",
       "            console.log([gd, 'removed!']);\n",
       "            Plotly.purge(gd);\n",
       "            observer.disconnect();\n",
       "        }}\n",
       "}});\n",
       "\n",
       "// Listen for the removal of the full notebook cells\n",
       "var notebookContainer = gd.closest('#notebook-container');\n",
       "if (notebookContainer) {{\n",
       "    x.observe(notebookContainer, {childList: true});\n",
       "}}\n",
       "\n",
       "// Listen for the clearing of the current output cell\n",
       "var outputEl = gd.closest('.output');\n",
       "if (outputEl) {{\n",
       "    x.observe(outputEl, {childList: true});\n",
       "}}\n",
       "\n",
       "                        })                };                });            </script>        </div>"
      ]
     },
     "metadata": {},
     "output_type": "display_data"
    },
    {
     "data": {
      "application/vnd.plotly.v1+json": {
       "config": {
        "plotlyServerURL": "https://plot.ly"
       },
       "data": [
        {
         "hovertemplate": "Receptor=5a14<br>Receptor Type=DFG out<br>RMSD=%{x}<br>Energy (kcal/mol)=%{y}<extra></extra>",
         "legendgroup": "5a14, DFG out",
         "marker": {
          "color": "rgb(141,211,199)",
          "line": {
           "color": "DarkSlateGrey",
           "width": 1
          },
          "size": 8,
          "symbol": "circle"
         },
         "mode": "markers",
         "name": "5a14, DFG out",
         "orientation": "v",
         "showlegend": true,
         "type": "scatter",
         "x": [
          7.17,
          7.45,
          5.17,
          6.64,
          7.05,
          6.87,
          8.47,
          5.35,
          6.9,
          6.61,
          5.44,
          7.05,
          8.24
         ],
         "xaxis": "x",
         "y": [
          -2.41,
          -6,
          -3.98,
          -6.1,
          -4.43,
          -4.89,
          -5.18,
          -5.21,
          -5.48,
          -5.96,
          -6.64,
          -6.42,
          -5.3
         ],
         "yaxis": "y"
        },
        {
         "hovertemplate": "Receptor=6guk<br>Receptor Type=no cyclin<br>RMSD=%{x}<br>Energy (kcal/mol)=%{y}<extra></extra>",
         "legendgroup": "6guk, no cyclin",
         "marker": {
          "color": "rgb(255,255,179)",
          "line": {
           "color": "DarkSlateGrey",
           "width": 1
          },
          "size": 8,
          "symbol": "x"
         },
         "mode": "markers",
         "name": "6guk, no cyclin",
         "orientation": "v",
         "showlegend": true,
         "type": "scatter",
         "x": [
          5.82,
          4.18,
          6.88,
          6.82,
          8.34,
          5.72,
          6.69,
          6.57,
          7.73,
          5.42,
          5,
          4.44,
          5.89,
          5.79,
          4.26,
          7.53,
          5.77
         ],
         "xaxis": "x",
         "y": [
          -7.08,
          -6.19,
          -6.72,
          -7.37,
          -6.61,
          -5.84,
          -5.71,
          -5.22,
          -5.22,
          -5.25,
          -5.6,
          -5.71,
          -5.75,
          -7.45,
          -7.55,
          -8.76,
          -7.71
         ],
         "yaxis": "y"
        },
        {
         "hovertemplate": "Receptor=3pj8<br>Receptor Type=no cyclin<br>RMSD=%{x}<br>Energy (kcal/mol)=%{y}<extra></extra>",
         "legendgroup": "3pj8, no cyclin",
         "marker": {
          "color": "rgb(190,186,218)",
          "line": {
           "color": "DarkSlateGrey",
           "width": 1
          },
          "size": 8,
          "symbol": "x"
         },
         "mode": "markers",
         "name": "3pj8, no cyclin",
         "orientation": "v",
         "showlegend": true,
         "type": "scatter",
         "x": [
          7.26,
          7.25,
          7.07,
          6,
          7.38,
          8.01,
          6.32,
          6.58,
          6.8,
          7.44,
          8.32,
          4.95,
          1.45
         ],
         "xaxis": "x",
         "y": [
          -5.97,
          -6.75,
          -7,
          -5.82,
          -4.05,
          -5.23,
          -5.3,
          -5.44,
          -5.59,
          -7.41,
          -5.83,
          -7.82,
          -8.18
         ],
         "yaxis": "y"
        },
        {
         "hovertemplate": "Receptor=6guh<br>Receptor Type=no cyclin<br>RMSD=%{x}<br>Energy (kcal/mol)=%{y}<extra></extra>",
         "legendgroup": "6guh, no cyclin",
         "marker": {
          "color": "rgb(251,128,114)",
          "line": {
           "color": "DarkSlateGrey",
           "width": 1
          },
          "size": 8,
          "symbol": "x"
         },
         "mode": "markers",
         "name": "6guh, no cyclin",
         "orientation": "v",
         "showlegend": true,
         "type": "scatter",
         "x": [
          7.13,
          7.43,
          6.28,
          7.05,
          2.14,
          6.93,
          7.31,
          2.88
         ],
         "xaxis": "x",
         "y": [
          -6.63,
          -7.41,
          -4.5,
          -8.3,
          -9.64,
          -8.51,
          -8.7,
          -9.11
         ],
         "yaxis": "y"
        },
        {
         "hovertemplate": "Receptor=4kd1<br>Receptor Type=no cyclin<br>RMSD=%{x}<br>Energy (kcal/mol)=%{y}<extra></extra>",
         "legendgroup": "4kd1, no cyclin",
         "marker": {
          "color": "rgb(128,177,211)",
          "line": {
           "color": "DarkSlateGrey",
           "width": 1
          },
          "size": 8,
          "symbol": "x"
         },
         "mode": "markers",
         "name": "4kd1, no cyclin",
         "orientation": "v",
         "showlegend": true,
         "type": "scatter",
         "x": [
          6.1,
          7.35,
          2.7,
          6.15
         ],
         "xaxis": "x",
         "y": [
          2.42,
          -1,
          -3.58,
          2.86
         ],
         "yaxis": "y"
        },
        {
         "hovertemplate": "Receptor=6gub<br>Receptor Type=with cyclin<br>RMSD=%{x}<br>Energy (kcal/mol)=%{y}<extra></extra>",
         "legendgroup": "6gub, with cyclin",
         "marker": {
          "color": "rgb(253,180,98)",
          "line": {
           "color": "DarkSlateGrey",
           "width": 1
          },
          "size": 8,
          "symbol": "triangle-up"
         },
         "mode": "markers",
         "name": "6gub, with cyclin",
         "orientation": "v",
         "showlegend": true,
         "type": "scatter",
         "x": [
          5.77,
          1.83,
          2.96,
          6.36,
          3.23,
          6.78,
          7.08,
          6.2,
          4.85,
          6.12,
          5.23,
          7.77,
          6.2,
          6.62,
          5.77,
          7.95,
          3.35,
          6.46,
          6.94,
          7.03
         ],
         "xaxis": "x",
         "y": [
          -8.59,
          -8.54,
          -8.38,
          -8.52,
          -7.48,
          -8.77,
          -8.86,
          -9.02,
          -9.31,
          -7.56,
          -7.4,
          -7.39,
          -7.65,
          -7.33,
          -7.3,
          -7.26,
          -7.22,
          -7.05,
          -8.15,
          -7.76
         ],
         "yaxis": "y"
        },
        {
         "hovertemplate": "Receptor=6guf<br>Receptor Type=with cyclin<br>RMSD=%{x}<br>Energy (kcal/mol)=%{y}<extra></extra>",
         "legendgroup": "6guf, with cyclin",
         "marker": {
          "color": "rgb(179,222,105)",
          "line": {
           "color": "DarkSlateGrey",
           "width": 1
          },
          "size": 8,
          "symbol": "triangle-up"
         },
         "mode": "markers",
         "name": "6guf, with cyclin",
         "orientation": "v",
         "showlegend": true,
         "type": "scatter",
         "x": [
          7.28,
          5.92,
          6.3,
          5.42,
          6.5,
          6.5,
          5.46,
          7.29,
          3.42,
          5.9,
          5.23,
          6.49,
          2.36,
          7.19,
          7.98
         ],
         "xaxis": "x",
         "y": [
          -8.53,
          -8.45,
          -8.43,
          -8.63,
          -9.57,
          -8.63,
          -7.45,
          -7.22,
          -6.89,
          -6.88,
          -8.25,
          -6.11,
          -6.21,
          -6.51,
          -7.91
         ],
         "yaxis": "y"
        },
        {
         "hovertemplate": "Receptor=6gue<br>Receptor Type=with cyclin<br>RMSD=%{x}<br>Energy (kcal/mol)=%{y}<extra></extra>",
         "legendgroup": "6gue, with cyclin",
         "marker": {
          "color": "rgb(252,205,229)",
          "line": {
           "color": "DarkSlateGrey",
           "width": 1
          },
          "size": 8,
          "symbol": "triangle-up"
         },
         "mode": "markers",
         "name": "6gue, with cyclin",
         "orientation": "v",
         "showlegend": true,
         "type": "scatter",
         "x": [
          5.22,
          6.06,
          6.28,
          7.33,
          6.94,
          8.08,
          6.05,
          7.64,
          5.48,
          7.52,
          3.7,
          7.79,
          5.87,
          4.67
         ],
         "xaxis": "x",
         "y": [
          -5.68,
          -8.36,
          -5.88,
          -3.21,
          -2.41,
          -1.91,
          -8.27,
          -7.3,
          -6.77,
          -6.1,
          -8.28,
          -6.55,
          -7.85,
          -7.76
         ],
         "yaxis": "y"
        },
        {
         "hovertemplate": "Receptor=3ddq<br>Receptor Type=with cyclin<br>RMSD=%{x}<br>Energy (kcal/mol)=%{y}<extra></extra>",
         "legendgroup": "3ddq, with cyclin",
         "marker": {
          "color": "rgb(217,217,217)",
          "line": {
           "color": "DarkSlateGrey",
           "width": 1
          },
          "size": 8,
          "symbol": "triangle-up"
         },
         "mode": "markers",
         "name": "3ddq, with cyclin",
         "orientation": "v",
         "showlegend": true,
         "type": "scatter",
         "x": [
          6.09,
          7.28,
          6.12,
          4.85,
          6.51,
          7.16,
          5.76,
          6.81,
          6.93,
          7.42,
          6.09,
          7.86
         ],
         "xaxis": "x",
         "y": [
          -5.64,
          -8.45,
          -9.21,
          -9.46,
          -9.71,
          -9.79,
          -8.74,
          -7.49,
          -7.71,
          -6.43,
          -6.71,
          -6.55
         ],
         "yaxis": "y"
        },
        {
         "hovertemplate": "Receptor=5l2w<br>Receptor Type=with cyclin<br>RMSD=%{x}<br>Energy (kcal/mol)=%{y}<extra></extra>",
         "legendgroup": "5l2w, with cyclin",
         "marker": {
          "color": "rgb(188,128,189)",
          "line": {
           "color": "DarkSlateGrey",
           "width": 1
          },
          "size": 8,
          "symbol": "triangle-up"
         },
         "mode": "markers",
         "name": "5l2w, with cyclin",
         "orientation": "v",
         "showlegend": true,
         "type": "scatter",
         "x": [
          7.29,
          7.78,
          4.73
         ],
         "xaxis": "x",
         "y": [
          -5.21,
          -7.56,
          -9.98
         ],
         "yaxis": "y"
        }
       ],
       "layout": {
        "legend": {
         "title": {
          "text": "Receptor, Receptor Type"
         },
         "tracegroupgap": 0
        },
        "margin": {
         "t": 60
        },
        "template": {
         "data": {
          "bar": [
           {
            "error_x": {
             "color": "rgb(51,51,51)"
            },
            "error_y": {
             "color": "rgb(51,51,51)"
            },
            "marker": {
             "line": {
              "color": "rgb(237,237,237)",
              "width": 0.5
             },
             "pattern": {
              "fillmode": "overlay",
              "size": 10,
              "solidity": 0.2
             }
            },
            "type": "bar"
           }
          ],
          "barpolar": [
           {
            "marker": {
             "line": {
              "color": "rgb(237,237,237)",
              "width": 0.5
             },
             "pattern": {
              "fillmode": "overlay",
              "size": 10,
              "solidity": 0.2
             }
            },
            "type": "barpolar"
           }
          ],
          "carpet": [
           {
            "aaxis": {
             "endlinecolor": "rgb(51,51,51)",
             "gridcolor": "white",
             "linecolor": "white",
             "minorgridcolor": "white",
             "startlinecolor": "rgb(51,51,51)"
            },
            "baxis": {
             "endlinecolor": "rgb(51,51,51)",
             "gridcolor": "white",
             "linecolor": "white",
             "minorgridcolor": "white",
             "startlinecolor": "rgb(51,51,51)"
            },
            "type": "carpet"
           }
          ],
          "choropleth": [
           {
            "colorbar": {
             "outlinewidth": 0,
             "tickcolor": "rgb(237,237,237)",
             "ticklen": 6,
             "ticks": "inside"
            },
            "type": "choropleth"
           }
          ],
          "contour": [
           {
            "colorbar": {
             "outlinewidth": 0,
             "tickcolor": "rgb(237,237,237)",
             "ticklen": 6,
             "ticks": "inside"
            },
            "colorscale": [
             [
              0,
              "rgb(20,44,66)"
             ],
             [
              1,
              "rgb(90,179,244)"
             ]
            ],
            "type": "contour"
           }
          ],
          "contourcarpet": [
           {
            "colorbar": {
             "outlinewidth": 0,
             "tickcolor": "rgb(237,237,237)",
             "ticklen": 6,
             "ticks": "inside"
            },
            "type": "contourcarpet"
           }
          ],
          "heatmap": [
           {
            "colorbar": {
             "outlinewidth": 0,
             "tickcolor": "rgb(237,237,237)",
             "ticklen": 6,
             "ticks": "inside"
            },
            "colorscale": [
             [
              0,
              "rgb(20,44,66)"
             ],
             [
              1,
              "rgb(90,179,244)"
             ]
            ],
            "type": "heatmap"
           }
          ],
          "heatmapgl": [
           {
            "colorbar": {
             "outlinewidth": 0,
             "tickcolor": "rgb(237,237,237)",
             "ticklen": 6,
             "ticks": "inside"
            },
            "colorscale": [
             [
              0,
              "rgb(20,44,66)"
             ],
             [
              1,
              "rgb(90,179,244)"
             ]
            ],
            "type": "heatmapgl"
           }
          ],
          "histogram": [
           {
            "marker": {
             "pattern": {
              "fillmode": "overlay",
              "size": 10,
              "solidity": 0.2
             }
            },
            "type": "histogram"
           }
          ],
          "histogram2d": [
           {
            "colorbar": {
             "outlinewidth": 0,
             "tickcolor": "rgb(237,237,237)",
             "ticklen": 6,
             "ticks": "inside"
            },
            "colorscale": [
             [
              0,
              "rgb(20,44,66)"
             ],
             [
              1,
              "rgb(90,179,244)"
             ]
            ],
            "type": "histogram2d"
           }
          ],
          "histogram2dcontour": [
           {
            "colorbar": {
             "outlinewidth": 0,
             "tickcolor": "rgb(237,237,237)",
             "ticklen": 6,
             "ticks": "inside"
            },
            "colorscale": [
             [
              0,
              "rgb(20,44,66)"
             ],
             [
              1,
              "rgb(90,179,244)"
             ]
            ],
            "type": "histogram2dcontour"
           }
          ],
          "mesh3d": [
           {
            "colorbar": {
             "outlinewidth": 0,
             "tickcolor": "rgb(237,237,237)",
             "ticklen": 6,
             "ticks": "inside"
            },
            "type": "mesh3d"
           }
          ],
          "parcoords": [
           {
            "line": {
             "colorbar": {
              "outlinewidth": 0,
              "tickcolor": "rgb(237,237,237)",
              "ticklen": 6,
              "ticks": "inside"
             }
            },
            "type": "parcoords"
           }
          ],
          "pie": [
           {
            "automargin": true,
            "type": "pie"
           }
          ],
          "scatter": [
           {
            "fillpattern": {
             "fillmode": "overlay",
             "size": 10,
             "solidity": 0.2
            },
            "type": "scatter"
           }
          ],
          "scatter3d": [
           {
            "line": {
             "colorbar": {
              "outlinewidth": 0,
              "tickcolor": "rgb(237,237,237)",
              "ticklen": 6,
              "ticks": "inside"
             }
            },
            "marker": {
             "colorbar": {
              "outlinewidth": 0,
              "tickcolor": "rgb(237,237,237)",
              "ticklen": 6,
              "ticks": "inside"
             }
            },
            "type": "scatter3d"
           }
          ],
          "scattercarpet": [
           {
            "marker": {
             "colorbar": {
              "outlinewidth": 0,
              "tickcolor": "rgb(237,237,237)",
              "ticklen": 6,
              "ticks": "inside"
             }
            },
            "type": "scattercarpet"
           }
          ],
          "scattergeo": [
           {
            "marker": {
             "colorbar": {
              "outlinewidth": 0,
              "tickcolor": "rgb(237,237,237)",
              "ticklen": 6,
              "ticks": "inside"
             }
            },
            "type": "scattergeo"
           }
          ],
          "scattergl": [
           {
            "marker": {
             "colorbar": {
              "outlinewidth": 0,
              "tickcolor": "rgb(237,237,237)",
              "ticklen": 6,
              "ticks": "inside"
             }
            },
            "type": "scattergl"
           }
          ],
          "scattermapbox": [
           {
            "marker": {
             "colorbar": {
              "outlinewidth": 0,
              "tickcolor": "rgb(237,237,237)",
              "ticklen": 6,
              "ticks": "inside"
             }
            },
            "type": "scattermapbox"
           }
          ],
          "scatterpolar": [
           {
            "marker": {
             "colorbar": {
              "outlinewidth": 0,
              "tickcolor": "rgb(237,237,237)",
              "ticklen": 6,
              "ticks": "inside"
             }
            },
            "type": "scatterpolar"
           }
          ],
          "scatterpolargl": [
           {
            "marker": {
             "colorbar": {
              "outlinewidth": 0,
              "tickcolor": "rgb(237,237,237)",
              "ticklen": 6,
              "ticks": "inside"
             }
            },
            "type": "scatterpolargl"
           }
          ],
          "scatterternary": [
           {
            "marker": {
             "colorbar": {
              "outlinewidth": 0,
              "tickcolor": "rgb(237,237,237)",
              "ticklen": 6,
              "ticks": "inside"
             }
            },
            "type": "scatterternary"
           }
          ],
          "surface": [
           {
            "colorbar": {
             "outlinewidth": 0,
             "tickcolor": "rgb(237,237,237)",
             "ticklen": 6,
             "ticks": "inside"
            },
            "colorscale": [
             [
              0,
              "rgb(20,44,66)"
             ],
             [
              1,
              "rgb(90,179,244)"
             ]
            ],
            "type": "surface"
           }
          ],
          "table": [
           {
            "cells": {
             "fill": {
              "color": "rgb(237,237,237)"
             },
             "line": {
              "color": "white"
             }
            },
            "header": {
             "fill": {
              "color": "rgb(217,217,217)"
             },
             "line": {
              "color": "white"
             }
            },
            "type": "table"
           }
          ]
         },
         "layout": {
          "annotationdefaults": {
           "arrowhead": 0,
           "arrowwidth": 1
          },
          "autotypenumbers": "strict",
          "coloraxis": {
           "colorbar": {
            "outlinewidth": 0,
            "tickcolor": "rgb(237,237,237)",
            "ticklen": 6,
            "ticks": "inside"
           }
          },
          "colorscale": {
           "sequential": [
            [
             0,
             "rgb(20,44,66)"
            ],
            [
             1,
             "rgb(90,179,244)"
            ]
           ],
           "sequentialminus": [
            [
             0,
             "rgb(20,44,66)"
            ],
            [
             1,
             "rgb(90,179,244)"
            ]
           ]
          },
          "colorway": [
           "#F8766D",
           "#A3A500",
           "#00BF7D",
           "#00B0F6",
           "#E76BF3"
          ],
          "font": {
           "color": "rgb(51,51,51)"
          },
          "geo": {
           "bgcolor": "white",
           "lakecolor": "white",
           "landcolor": "rgb(237,237,237)",
           "showlakes": true,
           "showland": true,
           "subunitcolor": "white"
          },
          "hoverlabel": {
           "align": "left"
          },
          "hovermode": "closest",
          "paper_bgcolor": "white",
          "plot_bgcolor": "rgb(237,237,237)",
          "polar": {
           "angularaxis": {
            "gridcolor": "white",
            "linecolor": "white",
            "showgrid": true,
            "tickcolor": "rgb(51,51,51)",
            "ticks": "outside"
           },
           "bgcolor": "rgb(237,237,237)",
           "radialaxis": {
            "gridcolor": "white",
            "linecolor": "white",
            "showgrid": true,
            "tickcolor": "rgb(51,51,51)",
            "ticks": "outside"
           }
          },
          "scene": {
           "xaxis": {
            "backgroundcolor": "rgb(237,237,237)",
            "gridcolor": "white",
            "gridwidth": 2,
            "linecolor": "white",
            "showbackground": true,
            "showgrid": true,
            "tickcolor": "rgb(51,51,51)",
            "ticks": "outside",
            "zerolinecolor": "white"
           },
           "yaxis": {
            "backgroundcolor": "rgb(237,237,237)",
            "gridcolor": "white",
            "gridwidth": 2,
            "linecolor": "white",
            "showbackground": true,
            "showgrid": true,
            "tickcolor": "rgb(51,51,51)",
            "ticks": "outside",
            "zerolinecolor": "white"
           },
           "zaxis": {
            "backgroundcolor": "rgb(237,237,237)",
            "gridcolor": "white",
            "gridwidth": 2,
            "linecolor": "white",
            "showbackground": true,
            "showgrid": true,
            "tickcolor": "rgb(51,51,51)",
            "ticks": "outside",
            "zerolinecolor": "white"
           }
          },
          "shapedefaults": {
           "fillcolor": "black",
           "line": {
            "width": 0
           },
           "opacity": 0.3
          },
          "ternary": {
           "aaxis": {
            "gridcolor": "white",
            "linecolor": "white",
            "showgrid": true,
            "tickcolor": "rgb(51,51,51)",
            "ticks": "outside"
           },
           "baxis": {
            "gridcolor": "white",
            "linecolor": "white",
            "showgrid": true,
            "tickcolor": "rgb(51,51,51)",
            "ticks": "outside"
           },
           "bgcolor": "rgb(237,237,237)",
           "caxis": {
            "gridcolor": "white",
            "linecolor": "white",
            "showgrid": true,
            "tickcolor": "rgb(51,51,51)",
            "ticks": "outside"
           }
          },
          "xaxis": {
           "automargin": true,
           "gridcolor": "white",
           "linecolor": "white",
           "showgrid": true,
           "tickcolor": "rgb(51,51,51)",
           "ticks": "outside",
           "title": {
            "standoff": 15
           },
           "zerolinecolor": "white"
          },
          "yaxis": {
           "automargin": true,
           "gridcolor": "white",
           "linecolor": "white",
           "showgrid": true,
           "tickcolor": "rgb(51,51,51)",
           "ticks": "outside",
           "title": {
            "standoff": 15
           },
           "zerolinecolor": "white"
          }
         }
        },
        "title": {
         "text": "Ensemble docking of 4KD1"
        },
        "xaxis": {
         "anchor": "y",
         "domain": [
          0,
          1
         ],
         "title": {
          "text": "RMSD"
         }
        },
        "yaxis": {
         "anchor": "x",
         "domain": [
          0,
          1
         ],
         "title": {
          "text": "Energy (kcal/mol)"
         }
        }
       }
      },
      "text/html": [
       "<div>                            <div id=\"4a8c5892-68a1-4185-aaf1-c3ab7cfd1dbf\" class=\"plotly-graph-div\" style=\"height:525px; width:100%;\"></div>            <script type=\"text/javascript\">                require([\"plotly\"], function(Plotly) {                    window.PLOTLYENV=window.PLOTLYENV || {};                                    if (document.getElementById(\"4a8c5892-68a1-4185-aaf1-c3ab7cfd1dbf\")) {                    Plotly.newPlot(                        \"4a8c5892-68a1-4185-aaf1-c3ab7cfd1dbf\",                        [{\"hovertemplate\":\"Receptor=5a14\\u003cbr\\u003eReceptor Type=DFG out\\u003cbr\\u003eRMSD=%{x}\\u003cbr\\u003eEnergy (kcal\\u002fmol)=%{y}\\u003cextra\\u003e\\u003c\\u002fextra\\u003e\",\"legendgroup\":\"5a14, DFG out\",\"marker\":{\"color\":\"rgb(141,211,199)\",\"symbol\":\"circle\",\"line\":{\"color\":\"DarkSlateGrey\",\"width\":1},\"size\":8},\"mode\":\"markers\",\"name\":\"5a14, DFG out\",\"orientation\":\"v\",\"showlegend\":true,\"x\":[7.17,7.45,5.17,6.64,7.05,6.87,8.47,5.35,6.9,6.61,5.44,7.05,8.24],\"xaxis\":\"x\",\"y\":[-2.41,-6.0,-3.98,-6.1,-4.43,-4.89,-5.18,-5.21,-5.48,-5.96,-6.64,-6.42,-5.3],\"yaxis\":\"y\",\"type\":\"scatter\"},{\"hovertemplate\":\"Receptor=6guk\\u003cbr\\u003eReceptor Type=no cyclin\\u003cbr\\u003eRMSD=%{x}\\u003cbr\\u003eEnergy (kcal\\u002fmol)=%{y}\\u003cextra\\u003e\\u003c\\u002fextra\\u003e\",\"legendgroup\":\"6guk, no cyclin\",\"marker\":{\"color\":\"rgb(255,255,179)\",\"symbol\":\"x\",\"line\":{\"color\":\"DarkSlateGrey\",\"width\":1},\"size\":8},\"mode\":\"markers\",\"name\":\"6guk, no cyclin\",\"orientation\":\"v\",\"showlegend\":true,\"x\":[5.82,4.18,6.88,6.82,8.34,5.72,6.69,6.57,7.73,5.42,5.0,4.44,5.89,5.79,4.26,7.53,5.77],\"xaxis\":\"x\",\"y\":[-7.08,-6.19,-6.72,-7.37,-6.61,-5.84,-5.71,-5.22,-5.22,-5.25,-5.6,-5.71,-5.75,-7.45,-7.55,-8.76,-7.71],\"yaxis\":\"y\",\"type\":\"scatter\"},{\"hovertemplate\":\"Receptor=3pj8\\u003cbr\\u003eReceptor Type=no cyclin\\u003cbr\\u003eRMSD=%{x}\\u003cbr\\u003eEnergy (kcal\\u002fmol)=%{y}\\u003cextra\\u003e\\u003c\\u002fextra\\u003e\",\"legendgroup\":\"3pj8, no cyclin\",\"marker\":{\"color\":\"rgb(190,186,218)\",\"symbol\":\"x\",\"line\":{\"color\":\"DarkSlateGrey\",\"width\":1},\"size\":8},\"mode\":\"markers\",\"name\":\"3pj8, no cyclin\",\"orientation\":\"v\",\"showlegend\":true,\"x\":[7.26,7.25,7.07,6.0,7.38,8.01,6.32,6.58,6.8,7.44,8.32,4.95,1.45],\"xaxis\":\"x\",\"y\":[-5.97,-6.75,-7.0,-5.82,-4.05,-5.23,-5.3,-5.44,-5.59,-7.41,-5.83,-7.82,-8.18],\"yaxis\":\"y\",\"type\":\"scatter\"},{\"hovertemplate\":\"Receptor=6guh\\u003cbr\\u003eReceptor Type=no cyclin\\u003cbr\\u003eRMSD=%{x}\\u003cbr\\u003eEnergy (kcal\\u002fmol)=%{y}\\u003cextra\\u003e\\u003c\\u002fextra\\u003e\",\"legendgroup\":\"6guh, no cyclin\",\"marker\":{\"color\":\"rgb(251,128,114)\",\"symbol\":\"x\",\"line\":{\"color\":\"DarkSlateGrey\",\"width\":1},\"size\":8},\"mode\":\"markers\",\"name\":\"6guh, no cyclin\",\"orientation\":\"v\",\"showlegend\":true,\"x\":[7.13,7.43,6.28,7.05,2.14,6.93,7.31,2.88],\"xaxis\":\"x\",\"y\":[-6.63,-7.41,-4.5,-8.3,-9.64,-8.51,-8.7,-9.11],\"yaxis\":\"y\",\"type\":\"scatter\"},{\"hovertemplate\":\"Receptor=4kd1\\u003cbr\\u003eReceptor Type=no cyclin\\u003cbr\\u003eRMSD=%{x}\\u003cbr\\u003eEnergy (kcal\\u002fmol)=%{y}\\u003cextra\\u003e\\u003c\\u002fextra\\u003e\",\"legendgroup\":\"4kd1, no cyclin\",\"marker\":{\"color\":\"rgb(128,177,211)\",\"symbol\":\"x\",\"line\":{\"color\":\"DarkSlateGrey\",\"width\":1},\"size\":8},\"mode\":\"markers\",\"name\":\"4kd1, no cyclin\",\"orientation\":\"v\",\"showlegend\":true,\"x\":[6.1,7.35,2.7,6.15],\"xaxis\":\"x\",\"y\":[2.42,-1.0,-3.58,2.86],\"yaxis\":\"y\",\"type\":\"scatter\"},{\"hovertemplate\":\"Receptor=6gub\\u003cbr\\u003eReceptor Type=with cyclin\\u003cbr\\u003eRMSD=%{x}\\u003cbr\\u003eEnergy (kcal\\u002fmol)=%{y}\\u003cextra\\u003e\\u003c\\u002fextra\\u003e\",\"legendgroup\":\"6gub, with cyclin\",\"marker\":{\"color\":\"rgb(253,180,98)\",\"symbol\":\"triangle-up\",\"line\":{\"color\":\"DarkSlateGrey\",\"width\":1},\"size\":8},\"mode\":\"markers\",\"name\":\"6gub, with cyclin\",\"orientation\":\"v\",\"showlegend\":true,\"x\":[5.77,1.83,2.96,6.36,3.23,6.78,7.08,6.2,4.85,6.12,5.23,7.77,6.2,6.62,5.77,7.95,3.35,6.46,6.94,7.03],\"xaxis\":\"x\",\"y\":[-8.59,-8.54,-8.38,-8.52,-7.48,-8.77,-8.86,-9.02,-9.31,-7.56,-7.4,-7.39,-7.65,-7.33,-7.3,-7.26,-7.22,-7.05,-8.15,-7.76],\"yaxis\":\"y\",\"type\":\"scatter\"},{\"hovertemplate\":\"Receptor=6guf\\u003cbr\\u003eReceptor Type=with cyclin\\u003cbr\\u003eRMSD=%{x}\\u003cbr\\u003eEnergy (kcal\\u002fmol)=%{y}\\u003cextra\\u003e\\u003c\\u002fextra\\u003e\",\"legendgroup\":\"6guf, with cyclin\",\"marker\":{\"color\":\"rgb(179,222,105)\",\"symbol\":\"triangle-up\",\"line\":{\"color\":\"DarkSlateGrey\",\"width\":1},\"size\":8},\"mode\":\"markers\",\"name\":\"6guf, with cyclin\",\"orientation\":\"v\",\"showlegend\":true,\"x\":[7.28,5.92,6.3,5.42,6.5,6.5,5.46,7.29,3.42,5.9,5.23,6.49,2.36,7.19,7.98],\"xaxis\":\"x\",\"y\":[-8.53,-8.45,-8.43,-8.63,-9.57,-8.63,-7.45,-7.22,-6.89,-6.88,-8.25,-6.11,-6.21,-6.51,-7.91],\"yaxis\":\"y\",\"type\":\"scatter\"},{\"hovertemplate\":\"Receptor=6gue\\u003cbr\\u003eReceptor Type=with cyclin\\u003cbr\\u003eRMSD=%{x}\\u003cbr\\u003eEnergy (kcal\\u002fmol)=%{y}\\u003cextra\\u003e\\u003c\\u002fextra\\u003e\",\"legendgroup\":\"6gue, with cyclin\",\"marker\":{\"color\":\"rgb(252,205,229)\",\"symbol\":\"triangle-up\",\"line\":{\"color\":\"DarkSlateGrey\",\"width\":1},\"size\":8},\"mode\":\"markers\",\"name\":\"6gue, with cyclin\",\"orientation\":\"v\",\"showlegend\":true,\"x\":[5.22,6.06,6.28,7.33,6.94,8.08,6.05,7.64,5.48,7.52,3.7,7.79,5.87,4.67],\"xaxis\":\"x\",\"y\":[-5.68,-8.36,-5.88,-3.21,-2.41,-1.91,-8.27,-7.3,-6.77,-6.1,-8.28,-6.55,-7.85,-7.76],\"yaxis\":\"y\",\"type\":\"scatter\"},{\"hovertemplate\":\"Receptor=3ddq\\u003cbr\\u003eReceptor Type=with cyclin\\u003cbr\\u003eRMSD=%{x}\\u003cbr\\u003eEnergy (kcal\\u002fmol)=%{y}\\u003cextra\\u003e\\u003c\\u002fextra\\u003e\",\"legendgroup\":\"3ddq, with cyclin\",\"marker\":{\"color\":\"rgb(217,217,217)\",\"symbol\":\"triangle-up\",\"line\":{\"color\":\"DarkSlateGrey\",\"width\":1},\"size\":8},\"mode\":\"markers\",\"name\":\"3ddq, with cyclin\",\"orientation\":\"v\",\"showlegend\":true,\"x\":[6.09,7.28,6.12,4.85,6.51,7.16,5.76,6.81,6.93,7.42,6.09,7.86],\"xaxis\":\"x\",\"y\":[-5.64,-8.45,-9.21,-9.46,-9.71,-9.79,-8.74,-7.49,-7.71,-6.43,-6.71,-6.55],\"yaxis\":\"y\",\"type\":\"scatter\"},{\"hovertemplate\":\"Receptor=5l2w\\u003cbr\\u003eReceptor Type=with cyclin\\u003cbr\\u003eRMSD=%{x}\\u003cbr\\u003eEnergy (kcal\\u002fmol)=%{y}\\u003cextra\\u003e\\u003c\\u002fextra\\u003e\",\"legendgroup\":\"5l2w, with cyclin\",\"marker\":{\"color\":\"rgb(188,128,189)\",\"symbol\":\"triangle-up\",\"line\":{\"color\":\"DarkSlateGrey\",\"width\":1},\"size\":8},\"mode\":\"markers\",\"name\":\"5l2w, with cyclin\",\"orientation\":\"v\",\"showlegend\":true,\"x\":[7.29,7.78,4.73],\"xaxis\":\"x\",\"y\":[-5.21,-7.56,-9.98],\"yaxis\":\"y\",\"type\":\"scatter\"}],                        {\"template\":{\"data\":{\"barpolar\":[{\"marker\":{\"line\":{\"color\":\"rgb(237,237,237)\",\"width\":0.5},\"pattern\":{\"fillmode\":\"overlay\",\"size\":10,\"solidity\":0.2}},\"type\":\"barpolar\"}],\"bar\":[{\"error_x\":{\"color\":\"rgb(51,51,51)\"},\"error_y\":{\"color\":\"rgb(51,51,51)\"},\"marker\":{\"line\":{\"color\":\"rgb(237,237,237)\",\"width\":0.5},\"pattern\":{\"fillmode\":\"overlay\",\"size\":10,\"solidity\":0.2}},\"type\":\"bar\"}],\"carpet\":[{\"aaxis\":{\"endlinecolor\":\"rgb(51,51,51)\",\"gridcolor\":\"white\",\"linecolor\":\"white\",\"minorgridcolor\":\"white\",\"startlinecolor\":\"rgb(51,51,51)\"},\"baxis\":{\"endlinecolor\":\"rgb(51,51,51)\",\"gridcolor\":\"white\",\"linecolor\":\"white\",\"minorgridcolor\":\"white\",\"startlinecolor\":\"rgb(51,51,51)\"},\"type\":\"carpet\"}],\"choropleth\":[{\"colorbar\":{\"outlinewidth\":0,\"tickcolor\":\"rgb(237,237,237)\",\"ticklen\":6,\"ticks\":\"inside\"},\"type\":\"choropleth\"}],\"contourcarpet\":[{\"colorbar\":{\"outlinewidth\":0,\"tickcolor\":\"rgb(237,237,237)\",\"ticklen\":6,\"ticks\":\"inside\"},\"type\":\"contourcarpet\"}],\"contour\":[{\"colorbar\":{\"outlinewidth\":0,\"tickcolor\":\"rgb(237,237,237)\",\"ticklen\":6,\"ticks\":\"inside\"},\"colorscale\":[[0,\"rgb(20,44,66)\"],[1,\"rgb(90,179,244)\"]],\"type\":\"contour\"}],\"heatmapgl\":[{\"colorbar\":{\"outlinewidth\":0,\"tickcolor\":\"rgb(237,237,237)\",\"ticklen\":6,\"ticks\":\"inside\"},\"colorscale\":[[0,\"rgb(20,44,66)\"],[1,\"rgb(90,179,244)\"]],\"type\":\"heatmapgl\"}],\"heatmap\":[{\"colorbar\":{\"outlinewidth\":0,\"tickcolor\":\"rgb(237,237,237)\",\"ticklen\":6,\"ticks\":\"inside\"},\"colorscale\":[[0,\"rgb(20,44,66)\"],[1,\"rgb(90,179,244)\"]],\"type\":\"heatmap\"}],\"histogram2dcontour\":[{\"colorbar\":{\"outlinewidth\":0,\"tickcolor\":\"rgb(237,237,237)\",\"ticklen\":6,\"ticks\":\"inside\"},\"colorscale\":[[0,\"rgb(20,44,66)\"],[1,\"rgb(90,179,244)\"]],\"type\":\"histogram2dcontour\"}],\"histogram2d\":[{\"colorbar\":{\"outlinewidth\":0,\"tickcolor\":\"rgb(237,237,237)\",\"ticklen\":6,\"ticks\":\"inside\"},\"colorscale\":[[0,\"rgb(20,44,66)\"],[1,\"rgb(90,179,244)\"]],\"type\":\"histogram2d\"}],\"histogram\":[{\"marker\":{\"pattern\":{\"fillmode\":\"overlay\",\"size\":10,\"solidity\":0.2}},\"type\":\"histogram\"}],\"mesh3d\":[{\"colorbar\":{\"outlinewidth\":0,\"tickcolor\":\"rgb(237,237,237)\",\"ticklen\":6,\"ticks\":\"inside\"},\"type\":\"mesh3d\"}],\"parcoords\":[{\"line\":{\"colorbar\":{\"outlinewidth\":0,\"tickcolor\":\"rgb(237,237,237)\",\"ticklen\":6,\"ticks\":\"inside\"}},\"type\":\"parcoords\"}],\"pie\":[{\"automargin\":true,\"type\":\"pie\"}],\"scatter3d\":[{\"line\":{\"colorbar\":{\"outlinewidth\":0,\"tickcolor\":\"rgb(237,237,237)\",\"ticklen\":6,\"ticks\":\"inside\"}},\"marker\":{\"colorbar\":{\"outlinewidth\":0,\"tickcolor\":\"rgb(237,237,237)\",\"ticklen\":6,\"ticks\":\"inside\"}},\"type\":\"scatter3d\"}],\"scattercarpet\":[{\"marker\":{\"colorbar\":{\"outlinewidth\":0,\"tickcolor\":\"rgb(237,237,237)\",\"ticklen\":6,\"ticks\":\"inside\"}},\"type\":\"scattercarpet\"}],\"scattergeo\":[{\"marker\":{\"colorbar\":{\"outlinewidth\":0,\"tickcolor\":\"rgb(237,237,237)\",\"ticklen\":6,\"ticks\":\"inside\"}},\"type\":\"scattergeo\"}],\"scattergl\":[{\"marker\":{\"colorbar\":{\"outlinewidth\":0,\"tickcolor\":\"rgb(237,237,237)\",\"ticklen\":6,\"ticks\":\"inside\"}},\"type\":\"scattergl\"}],\"scattermapbox\":[{\"marker\":{\"colorbar\":{\"outlinewidth\":0,\"tickcolor\":\"rgb(237,237,237)\",\"ticklen\":6,\"ticks\":\"inside\"}},\"type\":\"scattermapbox\"}],\"scatterpolargl\":[{\"marker\":{\"colorbar\":{\"outlinewidth\":0,\"tickcolor\":\"rgb(237,237,237)\",\"ticklen\":6,\"ticks\":\"inside\"}},\"type\":\"scatterpolargl\"}],\"scatterpolar\":[{\"marker\":{\"colorbar\":{\"outlinewidth\":0,\"tickcolor\":\"rgb(237,237,237)\",\"ticklen\":6,\"ticks\":\"inside\"}},\"type\":\"scatterpolar\"}],\"scatter\":[{\"fillpattern\":{\"fillmode\":\"overlay\",\"size\":10,\"solidity\":0.2},\"type\":\"scatter\"}],\"scatterternary\":[{\"marker\":{\"colorbar\":{\"outlinewidth\":0,\"tickcolor\":\"rgb(237,237,237)\",\"ticklen\":6,\"ticks\":\"inside\"}},\"type\":\"scatterternary\"}],\"surface\":[{\"colorbar\":{\"outlinewidth\":0,\"tickcolor\":\"rgb(237,237,237)\",\"ticklen\":6,\"ticks\":\"inside\"},\"colorscale\":[[0,\"rgb(20,44,66)\"],[1,\"rgb(90,179,244)\"]],\"type\":\"surface\"}],\"table\":[{\"cells\":{\"fill\":{\"color\":\"rgb(237,237,237)\"},\"line\":{\"color\":\"white\"}},\"header\":{\"fill\":{\"color\":\"rgb(217,217,217)\"},\"line\":{\"color\":\"white\"}},\"type\":\"table\"}]},\"layout\":{\"annotationdefaults\":{\"arrowhead\":0,\"arrowwidth\":1},\"autotypenumbers\":\"strict\",\"coloraxis\":{\"colorbar\":{\"outlinewidth\":0,\"tickcolor\":\"rgb(237,237,237)\",\"ticklen\":6,\"ticks\":\"inside\"}},\"colorscale\":{\"sequential\":[[0,\"rgb(20,44,66)\"],[1,\"rgb(90,179,244)\"]],\"sequentialminus\":[[0,\"rgb(20,44,66)\"],[1,\"rgb(90,179,244)\"]]},\"colorway\":[\"#F8766D\",\"#A3A500\",\"#00BF7D\",\"#00B0F6\",\"#E76BF3\"],\"font\":{\"color\":\"rgb(51,51,51)\"},\"geo\":{\"bgcolor\":\"white\",\"lakecolor\":\"white\",\"landcolor\":\"rgb(237,237,237)\",\"showlakes\":true,\"showland\":true,\"subunitcolor\":\"white\"},\"hoverlabel\":{\"align\":\"left\"},\"hovermode\":\"closest\",\"paper_bgcolor\":\"white\",\"plot_bgcolor\":\"rgb(237,237,237)\",\"polar\":{\"angularaxis\":{\"gridcolor\":\"white\",\"linecolor\":\"white\",\"showgrid\":true,\"tickcolor\":\"rgb(51,51,51)\",\"ticks\":\"outside\"},\"bgcolor\":\"rgb(237,237,237)\",\"radialaxis\":{\"gridcolor\":\"white\",\"linecolor\":\"white\",\"showgrid\":true,\"tickcolor\":\"rgb(51,51,51)\",\"ticks\":\"outside\"}},\"scene\":{\"xaxis\":{\"backgroundcolor\":\"rgb(237,237,237)\",\"gridcolor\":\"white\",\"gridwidth\":2,\"linecolor\":\"white\",\"showbackground\":true,\"showgrid\":true,\"tickcolor\":\"rgb(51,51,51)\",\"ticks\":\"outside\",\"zerolinecolor\":\"white\"},\"yaxis\":{\"backgroundcolor\":\"rgb(237,237,237)\",\"gridcolor\":\"white\",\"gridwidth\":2,\"linecolor\":\"white\",\"showbackground\":true,\"showgrid\":true,\"tickcolor\":\"rgb(51,51,51)\",\"ticks\":\"outside\",\"zerolinecolor\":\"white\"},\"zaxis\":{\"backgroundcolor\":\"rgb(237,237,237)\",\"gridcolor\":\"white\",\"gridwidth\":2,\"linecolor\":\"white\",\"showbackground\":true,\"showgrid\":true,\"tickcolor\":\"rgb(51,51,51)\",\"ticks\":\"outside\",\"zerolinecolor\":\"white\"}},\"shapedefaults\":{\"fillcolor\":\"black\",\"line\":{\"width\":0},\"opacity\":0.3},\"ternary\":{\"aaxis\":{\"gridcolor\":\"white\",\"linecolor\":\"white\",\"showgrid\":true,\"tickcolor\":\"rgb(51,51,51)\",\"ticks\":\"outside\"},\"baxis\":{\"gridcolor\":\"white\",\"linecolor\":\"white\",\"showgrid\":true,\"tickcolor\":\"rgb(51,51,51)\",\"ticks\":\"outside\"},\"bgcolor\":\"rgb(237,237,237)\",\"caxis\":{\"gridcolor\":\"white\",\"linecolor\":\"white\",\"showgrid\":true,\"tickcolor\":\"rgb(51,51,51)\",\"ticks\":\"outside\"}},\"xaxis\":{\"automargin\":true,\"gridcolor\":\"white\",\"linecolor\":\"white\",\"showgrid\":true,\"tickcolor\":\"rgb(51,51,51)\",\"ticks\":\"outside\",\"title\":{\"standoff\":15},\"zerolinecolor\":\"white\"},\"yaxis\":{\"automargin\":true,\"gridcolor\":\"white\",\"linecolor\":\"white\",\"showgrid\":true,\"tickcolor\":\"rgb(51,51,51)\",\"ticks\":\"outside\",\"title\":{\"standoff\":15},\"zerolinecolor\":\"white\"}}},\"xaxis\":{\"anchor\":\"y\",\"domain\":[0.0,1.0],\"title\":{\"text\":\"RMSD\"}},\"yaxis\":{\"anchor\":\"x\",\"domain\":[0.0,1.0],\"title\":{\"text\":\"Energy (kcal\\u002fmol)\"}},\"legend\":{\"title\":{\"text\":\"Receptor, Receptor Type\"},\"tracegroupgap\":0},\"margin\":{\"t\":60},\"title\":{\"text\":\"Ensemble docking of 4KD1\"}},                        {\"responsive\": true}                    ).then(function(){\n",
       "                            \n",
       "var gd = document.getElementById('4a8c5892-68a1-4185-aaf1-c3ab7cfd1dbf');\n",
       "var x = new MutationObserver(function (mutations, observer) {{\n",
       "        var display = window.getComputedStyle(gd).display;\n",
       "        if (!display || display === 'none') {{\n",
       "            console.log([gd, 'removed!']);\n",
       "            Plotly.purge(gd);\n",
       "            observer.disconnect();\n",
       "        }}\n",
       "}});\n",
       "\n",
       "// Listen for the removal of the full notebook cells\n",
       "var notebookContainer = gd.closest('#notebook-container');\n",
       "if (notebookContainer) {{\n",
       "    x.observe(notebookContainer, {childList: true});\n",
       "}}\n",
       "\n",
       "// Listen for the clearing of the current output cell\n",
       "var outputEl = gd.closest('.output');\n",
       "if (outputEl) {{\n",
       "    x.observe(outputEl, {childList: true});\n",
       "}}\n",
       "\n",
       "                        })                };                });            </script>        </div>"
      ]
     },
     "metadata": {},
     "output_type": "display_data"
    },
    {
     "data": {
      "application/vnd.plotly.v1+json": {
       "config": {
        "plotlyServerURL": "https://plot.ly"
       },
       "data": [
        {
         "hovertemplate": "Receptor=5a14<br>Receptor Type=DFG out<br>RMSD=%{x}<br>Energy (kcal/mol)=%{y}<extra></extra>",
         "legendgroup": "5a14, DFG out",
         "marker": {
          "color": "rgb(141,211,199)",
          "line": {
           "color": "DarkSlateGrey",
           "width": 1
          },
          "size": 8,
          "symbol": "circle"
         },
         "mode": "markers",
         "name": "5a14, DFG out",
         "orientation": "v",
         "showlegend": true,
         "type": "scatter",
         "x": [
          7.5,
          5.59,
          6.66,
          8.16,
          4.71,
          5.11,
          5.08,
          7.84,
          7.58,
          6.78,
          7.94,
          4.97
         ],
         "xaxis": "x",
         "y": [
          -3.97,
          -4.12,
          -5.93,
          -4.35,
          -4.55,
          -6.16,
          -4.64,
          -8.04,
          -3.82,
          -5.7,
          -8.22,
          -5.49
         ],
         "yaxis": "y"
        },
        {
         "hovertemplate": "Receptor=4kd1<br>Receptor Type=no cyclin<br>RMSD=%{x}<br>Energy (kcal/mol)=%{y}<extra></extra>",
         "legendgroup": "4kd1, no cyclin",
         "marker": {
          "color": "rgb(255,255,179)",
          "line": {
           "color": "DarkSlateGrey",
           "width": 1
          },
          "size": 8,
          "symbol": "x"
         },
         "mode": "markers",
         "name": "4kd1, no cyclin",
         "orientation": "v",
         "showlegend": true,
         "type": "scatter",
         "x": [
          6.31,
          3.21
         ],
         "xaxis": "x",
         "y": [
          -2.08,
          -4.97
         ],
         "yaxis": "y"
        },
        {
         "hovertemplate": "Receptor=6guk<br>Receptor Type=no cyclin<br>RMSD=%{x}<br>Energy (kcal/mol)=%{y}<extra></extra>",
         "legendgroup": "6guk, no cyclin",
         "marker": {
          "color": "rgb(190,186,218)",
          "line": {
           "color": "DarkSlateGrey",
           "width": 1
          },
          "size": 8,
          "symbol": "x"
         },
         "mode": "markers",
         "name": "6guk, no cyclin",
         "orientation": "v",
         "showlegend": true,
         "type": "scatter",
         "x": [
          4.11,
          8.14,
          6.78,
          4.54,
          5.81,
          6.37,
          5.72,
          7.26,
          6.85,
          6.47,
          5.63,
          5.95
         ],
         "xaxis": "x",
         "y": [
          -8.09,
          -7.95,
          -6.93,
          -7.85,
          -7.44,
          -6.59,
          -4.16,
          -8.39,
          -4.85,
          -5.52,
          -8.52,
          -8.79
         ],
         "yaxis": "y"
        },
        {
         "hovertemplate": "Receptor=6guh<br>Receptor Type=no cyclin<br>RMSD=%{x}<br>Energy (kcal/mol)=%{y}<extra></extra>",
         "legendgroup": "6guh, no cyclin",
         "marker": {
          "color": "rgb(251,128,114)",
          "line": {
           "color": "DarkSlateGrey",
           "width": 1
          },
          "size": 8,
          "symbol": "x"
         },
         "mode": "markers",
         "name": "6guh, no cyclin",
         "orientation": "v",
         "showlegend": true,
         "type": "scatter",
         "x": [
          8.11,
          8.86,
          5.9,
          7.07,
          3.73,
          8.5,
          5.98,
          3.95,
          5.96
         ],
         "xaxis": "x",
         "y": [
          -7.92,
          -6.79,
          -7.5,
          -7.07,
          -7.08,
          -5.81,
          -5.74,
          -5.44,
          -8.21
         ],
         "yaxis": "y"
        },
        {
         "hovertemplate": "Receptor=3pj8<br>Receptor Type=no cyclin<br>RMSD=%{x}<br>Energy (kcal/mol)=%{y}<extra></extra>",
         "legendgroup": "3pj8, no cyclin",
         "marker": {
          "color": "rgb(128,177,211)",
          "line": {
           "color": "DarkSlateGrey",
           "width": 1
          },
          "size": 8,
          "symbol": "x"
         },
         "mode": "markers",
         "name": "3pj8, no cyclin",
         "orientation": "v",
         "showlegend": true,
         "type": "scatter",
         "x": [
          7.53,
          7.4,
          8.34,
          3.62,
          6.85,
          6.66,
          7.54
         ],
         "xaxis": "x",
         "y": [
          -6.95,
          -6.14,
          -7.16,
          -5.39,
          -4.2,
          -4.64,
          -5
         ],
         "yaxis": "y"
        },
        {
         "hovertemplate": "Receptor=6guf<br>Receptor Type=with cyclin<br>RMSD=%{x}<br>Energy (kcal/mol)=%{y}<extra></extra>",
         "legendgroup": "6guf, with cyclin",
         "marker": {
          "color": "rgb(253,180,98)",
          "line": {
           "color": "DarkSlateGrey",
           "width": 1
          },
          "size": 8,
          "symbol": "triangle-up"
         },
         "mode": "markers",
         "name": "6guf, with cyclin",
         "orientation": "v",
         "showlegend": true,
         "type": "scatter",
         "x": [
          5.5,
          5.91,
          7.62,
          6.03,
          7.08,
          7.51,
          7.39,
          6.3,
          5.86,
          6.47,
          7.48,
          6.15
         ],
         "xaxis": "x",
         "y": [
          -7.03,
          -6.03,
          -5.28,
          -6.47,
          -6.15,
          -5.96,
          -7.27,
          -7.33,
          -7.62,
          -7.85,
          -8,
          -8.05
         ],
         "yaxis": "y"
        },
        {
         "hovertemplate": "Receptor=5l2w<br>Receptor Type=with cyclin<br>RMSD=%{x}<br>Energy (kcal/mol)=%{y}<extra></extra>",
         "legendgroup": "5l2w, with cyclin",
         "marker": {
          "color": "rgb(179,222,105)",
          "line": {
           "color": "DarkSlateGrey",
           "width": 1
          },
          "size": 8,
          "symbol": "triangle-up"
         },
         "mode": "markers",
         "name": "5l2w, with cyclin",
         "orientation": "v",
         "showlegend": true,
         "type": "scatter",
         "x": [
          7.68
         ],
         "xaxis": "x",
         "y": [
          -6.72
         ],
         "yaxis": "y"
        },
        {
         "hovertemplate": "Receptor=6gue<br>Receptor Type=with cyclin<br>RMSD=%{x}<br>Energy (kcal/mol)=%{y}<extra></extra>",
         "legendgroup": "6gue, with cyclin",
         "marker": {
          "color": "rgb(252,205,229)",
          "line": {
           "color": "DarkSlateGrey",
           "width": 1
          },
          "size": 8,
          "symbol": "triangle-up"
         },
         "mode": "markers",
         "name": "6gue, with cyclin",
         "orientation": "v",
         "showlegend": true,
         "type": "scatter",
         "x": [
          4.68,
          6.43,
          7.41,
          6.66,
          3.32,
          6.82,
          6.33,
          7.9,
          7.79,
          5.54
         ],
         "xaxis": "x",
         "y": [
          -6.33,
          -10.06,
          -8.7,
          -8.78,
          -9.26,
          -9.7,
          -8.99,
          -7.54,
          -8.37,
          -8.22
         ],
         "yaxis": "y"
        },
        {
         "hovertemplate": "Receptor=3ddq<br>Receptor Type=with cyclin<br>RMSD=%{x}<br>Energy (kcal/mol)=%{y}<extra></extra>",
         "legendgroup": "3ddq, with cyclin",
         "marker": {
          "color": "rgb(217,217,217)",
          "line": {
           "color": "DarkSlateGrey",
           "width": 1
          },
          "size": 8,
          "symbol": "triangle-up"
         },
         "mode": "markers",
         "name": "3ddq, with cyclin",
         "orientation": "v",
         "showlegend": true,
         "type": "scatter",
         "x": [
          3.01,
          5,
          6.53,
          6.51,
          2.16,
          4.58,
          5.85,
          6.11,
          5.57,
          2.32
         ],
         "xaxis": "x",
         "y": [
          -7.1,
          -6.83,
          -8.51,
          -9.23,
          -9.33,
          -9.69,
          -8.25,
          -7.73,
          -7.91,
          -8.18
         ],
         "yaxis": "y"
        },
        {
         "hovertemplate": "Receptor=6gub<br>Receptor Type=with cyclin<br>RMSD=%{x}<br>Energy (kcal/mol)=%{y}<extra></extra>",
         "legendgroup": "6gub, with cyclin",
         "marker": {
          "color": "rgb(188,128,189)",
          "line": {
           "color": "DarkSlateGrey",
           "width": 1
          },
          "size": 8,
          "symbol": "triangle-up"
         },
         "mode": "markers",
         "name": "6gub, with cyclin",
         "orientation": "v",
         "showlegend": true,
         "type": "scatter",
         "x": [
          6.89,
          6.98,
          5.02,
          6.91,
          7.17,
          4.57,
          4.9,
          1.62,
          7.63,
          1.9,
          4.31,
          6.04,
          3.25,
          4.85,
          5.96,
          7.98,
          6.64
         ],
         "xaxis": "x",
         "y": [
          -8.55,
          -8.72,
          -8.84,
          -8.9,
          -8.49,
          -8.91,
          -9.47,
          -9.92,
          -7.25,
          -8.43,
          -7.3,
          -7.8,
          -8.02,
          -8.07,
          -8.1,
          -7.92,
          -7.5
         ],
         "yaxis": "y"
        }
       ],
       "layout": {
        "legend": {
         "title": {
          "text": "Receptor, Receptor Type"
         },
         "tracegroupgap": 0
        },
        "margin": {
         "t": 60
        },
        "template": {
         "data": {
          "bar": [
           {
            "error_x": {
             "color": "rgb(51,51,51)"
            },
            "error_y": {
             "color": "rgb(51,51,51)"
            },
            "marker": {
             "line": {
              "color": "rgb(237,237,237)",
              "width": 0.5
             },
             "pattern": {
              "fillmode": "overlay",
              "size": 10,
              "solidity": 0.2
             }
            },
            "type": "bar"
           }
          ],
          "barpolar": [
           {
            "marker": {
             "line": {
              "color": "rgb(237,237,237)",
              "width": 0.5
             },
             "pattern": {
              "fillmode": "overlay",
              "size": 10,
              "solidity": 0.2
             }
            },
            "type": "barpolar"
           }
          ],
          "carpet": [
           {
            "aaxis": {
             "endlinecolor": "rgb(51,51,51)",
             "gridcolor": "white",
             "linecolor": "white",
             "minorgridcolor": "white",
             "startlinecolor": "rgb(51,51,51)"
            },
            "baxis": {
             "endlinecolor": "rgb(51,51,51)",
             "gridcolor": "white",
             "linecolor": "white",
             "minorgridcolor": "white",
             "startlinecolor": "rgb(51,51,51)"
            },
            "type": "carpet"
           }
          ],
          "choropleth": [
           {
            "colorbar": {
             "outlinewidth": 0,
             "tickcolor": "rgb(237,237,237)",
             "ticklen": 6,
             "ticks": "inside"
            },
            "type": "choropleth"
           }
          ],
          "contour": [
           {
            "colorbar": {
             "outlinewidth": 0,
             "tickcolor": "rgb(237,237,237)",
             "ticklen": 6,
             "ticks": "inside"
            },
            "colorscale": [
             [
              0,
              "rgb(20,44,66)"
             ],
             [
              1,
              "rgb(90,179,244)"
             ]
            ],
            "type": "contour"
           }
          ],
          "contourcarpet": [
           {
            "colorbar": {
             "outlinewidth": 0,
             "tickcolor": "rgb(237,237,237)",
             "ticklen": 6,
             "ticks": "inside"
            },
            "type": "contourcarpet"
           }
          ],
          "heatmap": [
           {
            "colorbar": {
             "outlinewidth": 0,
             "tickcolor": "rgb(237,237,237)",
             "ticklen": 6,
             "ticks": "inside"
            },
            "colorscale": [
             [
              0,
              "rgb(20,44,66)"
             ],
             [
              1,
              "rgb(90,179,244)"
             ]
            ],
            "type": "heatmap"
           }
          ],
          "heatmapgl": [
           {
            "colorbar": {
             "outlinewidth": 0,
             "tickcolor": "rgb(237,237,237)",
             "ticklen": 6,
             "ticks": "inside"
            },
            "colorscale": [
             [
              0,
              "rgb(20,44,66)"
             ],
             [
              1,
              "rgb(90,179,244)"
             ]
            ],
            "type": "heatmapgl"
           }
          ],
          "histogram": [
           {
            "marker": {
             "pattern": {
              "fillmode": "overlay",
              "size": 10,
              "solidity": 0.2
             }
            },
            "type": "histogram"
           }
          ],
          "histogram2d": [
           {
            "colorbar": {
             "outlinewidth": 0,
             "tickcolor": "rgb(237,237,237)",
             "ticklen": 6,
             "ticks": "inside"
            },
            "colorscale": [
             [
              0,
              "rgb(20,44,66)"
             ],
             [
              1,
              "rgb(90,179,244)"
             ]
            ],
            "type": "histogram2d"
           }
          ],
          "histogram2dcontour": [
           {
            "colorbar": {
             "outlinewidth": 0,
             "tickcolor": "rgb(237,237,237)",
             "ticklen": 6,
             "ticks": "inside"
            },
            "colorscale": [
             [
              0,
              "rgb(20,44,66)"
             ],
             [
              1,
              "rgb(90,179,244)"
             ]
            ],
            "type": "histogram2dcontour"
           }
          ],
          "mesh3d": [
           {
            "colorbar": {
             "outlinewidth": 0,
             "tickcolor": "rgb(237,237,237)",
             "ticklen": 6,
             "ticks": "inside"
            },
            "type": "mesh3d"
           }
          ],
          "parcoords": [
           {
            "line": {
             "colorbar": {
              "outlinewidth": 0,
              "tickcolor": "rgb(237,237,237)",
              "ticklen": 6,
              "ticks": "inside"
             }
            },
            "type": "parcoords"
           }
          ],
          "pie": [
           {
            "automargin": true,
            "type": "pie"
           }
          ],
          "scatter": [
           {
            "fillpattern": {
             "fillmode": "overlay",
             "size": 10,
             "solidity": 0.2
            },
            "type": "scatter"
           }
          ],
          "scatter3d": [
           {
            "line": {
             "colorbar": {
              "outlinewidth": 0,
              "tickcolor": "rgb(237,237,237)",
              "ticklen": 6,
              "ticks": "inside"
             }
            },
            "marker": {
             "colorbar": {
              "outlinewidth": 0,
              "tickcolor": "rgb(237,237,237)",
              "ticklen": 6,
              "ticks": "inside"
             }
            },
            "type": "scatter3d"
           }
          ],
          "scattercarpet": [
           {
            "marker": {
             "colorbar": {
              "outlinewidth": 0,
              "tickcolor": "rgb(237,237,237)",
              "ticklen": 6,
              "ticks": "inside"
             }
            },
            "type": "scattercarpet"
           }
          ],
          "scattergeo": [
           {
            "marker": {
             "colorbar": {
              "outlinewidth": 0,
              "tickcolor": "rgb(237,237,237)",
              "ticklen": 6,
              "ticks": "inside"
             }
            },
            "type": "scattergeo"
           }
          ],
          "scattergl": [
           {
            "marker": {
             "colorbar": {
              "outlinewidth": 0,
              "tickcolor": "rgb(237,237,237)",
              "ticklen": 6,
              "ticks": "inside"
             }
            },
            "type": "scattergl"
           }
          ],
          "scattermapbox": [
           {
            "marker": {
             "colorbar": {
              "outlinewidth": 0,
              "tickcolor": "rgb(237,237,237)",
              "ticklen": 6,
              "ticks": "inside"
             }
            },
            "type": "scattermapbox"
           }
          ],
          "scatterpolar": [
           {
            "marker": {
             "colorbar": {
              "outlinewidth": 0,
              "tickcolor": "rgb(237,237,237)",
              "ticklen": 6,
              "ticks": "inside"
             }
            },
            "type": "scatterpolar"
           }
          ],
          "scatterpolargl": [
           {
            "marker": {
             "colorbar": {
              "outlinewidth": 0,
              "tickcolor": "rgb(237,237,237)",
              "ticklen": 6,
              "ticks": "inside"
             }
            },
            "type": "scatterpolargl"
           }
          ],
          "scatterternary": [
           {
            "marker": {
             "colorbar": {
              "outlinewidth": 0,
              "tickcolor": "rgb(237,237,237)",
              "ticklen": 6,
              "ticks": "inside"
             }
            },
            "type": "scatterternary"
           }
          ],
          "surface": [
           {
            "colorbar": {
             "outlinewidth": 0,
             "tickcolor": "rgb(237,237,237)",
             "ticklen": 6,
             "ticks": "inside"
            },
            "colorscale": [
             [
              0,
              "rgb(20,44,66)"
             ],
             [
              1,
              "rgb(90,179,244)"
             ]
            ],
            "type": "surface"
           }
          ],
          "table": [
           {
            "cells": {
             "fill": {
              "color": "rgb(237,237,237)"
             },
             "line": {
              "color": "white"
             }
            },
            "header": {
             "fill": {
              "color": "rgb(217,217,217)"
             },
             "line": {
              "color": "white"
             }
            },
            "type": "table"
           }
          ]
         },
         "layout": {
          "annotationdefaults": {
           "arrowhead": 0,
           "arrowwidth": 1
          },
          "autotypenumbers": "strict",
          "coloraxis": {
           "colorbar": {
            "outlinewidth": 0,
            "tickcolor": "rgb(237,237,237)",
            "ticklen": 6,
            "ticks": "inside"
           }
          },
          "colorscale": {
           "sequential": [
            [
             0,
             "rgb(20,44,66)"
            ],
            [
             1,
             "rgb(90,179,244)"
            ]
           ],
           "sequentialminus": [
            [
             0,
             "rgb(20,44,66)"
            ],
            [
             1,
             "rgb(90,179,244)"
            ]
           ]
          },
          "colorway": [
           "#F8766D",
           "#A3A500",
           "#00BF7D",
           "#00B0F6",
           "#E76BF3"
          ],
          "font": {
           "color": "rgb(51,51,51)"
          },
          "geo": {
           "bgcolor": "white",
           "lakecolor": "white",
           "landcolor": "rgb(237,237,237)",
           "showlakes": true,
           "showland": true,
           "subunitcolor": "white"
          },
          "hoverlabel": {
           "align": "left"
          },
          "hovermode": "closest",
          "paper_bgcolor": "white",
          "plot_bgcolor": "rgb(237,237,237)",
          "polar": {
           "angularaxis": {
            "gridcolor": "white",
            "linecolor": "white",
            "showgrid": true,
            "tickcolor": "rgb(51,51,51)",
            "ticks": "outside"
           },
           "bgcolor": "rgb(237,237,237)",
           "radialaxis": {
            "gridcolor": "white",
            "linecolor": "white",
            "showgrid": true,
            "tickcolor": "rgb(51,51,51)",
            "ticks": "outside"
           }
          },
          "scene": {
           "xaxis": {
            "backgroundcolor": "rgb(237,237,237)",
            "gridcolor": "white",
            "gridwidth": 2,
            "linecolor": "white",
            "showbackground": true,
            "showgrid": true,
            "tickcolor": "rgb(51,51,51)",
            "ticks": "outside",
            "zerolinecolor": "white"
           },
           "yaxis": {
            "backgroundcolor": "rgb(237,237,237)",
            "gridcolor": "white",
            "gridwidth": 2,
            "linecolor": "white",
            "showbackground": true,
            "showgrid": true,
            "tickcolor": "rgb(51,51,51)",
            "ticks": "outside",
            "zerolinecolor": "white"
           },
           "zaxis": {
            "backgroundcolor": "rgb(237,237,237)",
            "gridcolor": "white",
            "gridwidth": 2,
            "linecolor": "white",
            "showbackground": true,
            "showgrid": true,
            "tickcolor": "rgb(51,51,51)",
            "ticks": "outside",
            "zerolinecolor": "white"
           }
          },
          "shapedefaults": {
           "fillcolor": "black",
           "line": {
            "width": 0
           },
           "opacity": 0.3
          },
          "ternary": {
           "aaxis": {
            "gridcolor": "white",
            "linecolor": "white",
            "showgrid": true,
            "tickcolor": "rgb(51,51,51)",
            "ticks": "outside"
           },
           "baxis": {
            "gridcolor": "white",
            "linecolor": "white",
            "showgrid": true,
            "tickcolor": "rgb(51,51,51)",
            "ticks": "outside"
           },
           "bgcolor": "rgb(237,237,237)",
           "caxis": {
            "gridcolor": "white",
            "linecolor": "white",
            "showgrid": true,
            "tickcolor": "rgb(51,51,51)",
            "ticks": "outside"
           }
          },
          "xaxis": {
           "automargin": true,
           "gridcolor": "white",
           "linecolor": "white",
           "showgrid": true,
           "tickcolor": "rgb(51,51,51)",
           "ticks": "outside",
           "title": {
            "standoff": 15
           },
           "zerolinecolor": "white"
          },
          "yaxis": {
           "automargin": true,
           "gridcolor": "white",
           "linecolor": "white",
           "showgrid": true,
           "tickcolor": "rgb(51,51,51)",
           "ticks": "outside",
           "title": {
            "standoff": 15
           },
           "zerolinecolor": "white"
          }
         }
        },
        "title": {
         "text": "Ensemble docking of 5L2W"
        },
        "xaxis": {
         "anchor": "y",
         "domain": [
          0,
          1
         ],
         "title": {
          "text": "RMSD"
         }
        },
        "yaxis": {
         "anchor": "x",
         "domain": [
          0,
          1
         ],
         "title": {
          "text": "Energy (kcal/mol)"
         }
        }
       }
      },
      "text/html": [
       "<div>                            <div id=\"3480421c-0a11-4a61-87d4-2c9aa1396eae\" class=\"plotly-graph-div\" style=\"height:525px; width:100%;\"></div>            <script type=\"text/javascript\">                require([\"plotly\"], function(Plotly) {                    window.PLOTLYENV=window.PLOTLYENV || {};                                    if (document.getElementById(\"3480421c-0a11-4a61-87d4-2c9aa1396eae\")) {                    Plotly.newPlot(                        \"3480421c-0a11-4a61-87d4-2c9aa1396eae\",                        [{\"hovertemplate\":\"Receptor=5a14\\u003cbr\\u003eReceptor Type=DFG out\\u003cbr\\u003eRMSD=%{x}\\u003cbr\\u003eEnergy (kcal\\u002fmol)=%{y}\\u003cextra\\u003e\\u003c\\u002fextra\\u003e\",\"legendgroup\":\"5a14, DFG out\",\"marker\":{\"color\":\"rgb(141,211,199)\",\"symbol\":\"circle\",\"line\":{\"color\":\"DarkSlateGrey\",\"width\":1},\"size\":8},\"mode\":\"markers\",\"name\":\"5a14, DFG out\",\"orientation\":\"v\",\"showlegend\":true,\"x\":[7.5,5.59,6.66,8.16,4.71,5.11,5.08,7.84,7.58,6.78,7.94,4.97],\"xaxis\":\"x\",\"y\":[-3.97,-4.12,-5.93,-4.35,-4.55,-6.16,-4.64,-8.04,-3.82,-5.7,-8.22,-5.49],\"yaxis\":\"y\",\"type\":\"scatter\"},{\"hovertemplate\":\"Receptor=4kd1\\u003cbr\\u003eReceptor Type=no cyclin\\u003cbr\\u003eRMSD=%{x}\\u003cbr\\u003eEnergy (kcal\\u002fmol)=%{y}\\u003cextra\\u003e\\u003c\\u002fextra\\u003e\",\"legendgroup\":\"4kd1, no cyclin\",\"marker\":{\"color\":\"rgb(255,255,179)\",\"symbol\":\"x\",\"line\":{\"color\":\"DarkSlateGrey\",\"width\":1},\"size\":8},\"mode\":\"markers\",\"name\":\"4kd1, no cyclin\",\"orientation\":\"v\",\"showlegend\":true,\"x\":[6.31,3.21],\"xaxis\":\"x\",\"y\":[-2.08,-4.97],\"yaxis\":\"y\",\"type\":\"scatter\"},{\"hovertemplate\":\"Receptor=6guk\\u003cbr\\u003eReceptor Type=no cyclin\\u003cbr\\u003eRMSD=%{x}\\u003cbr\\u003eEnergy (kcal\\u002fmol)=%{y}\\u003cextra\\u003e\\u003c\\u002fextra\\u003e\",\"legendgroup\":\"6guk, no cyclin\",\"marker\":{\"color\":\"rgb(190,186,218)\",\"symbol\":\"x\",\"line\":{\"color\":\"DarkSlateGrey\",\"width\":1},\"size\":8},\"mode\":\"markers\",\"name\":\"6guk, no cyclin\",\"orientation\":\"v\",\"showlegend\":true,\"x\":[4.11,8.14,6.78,4.54,5.81,6.37,5.72,7.26,6.85,6.47,5.63,5.95],\"xaxis\":\"x\",\"y\":[-8.09,-7.95,-6.93,-7.85,-7.44,-6.59,-4.16,-8.39,-4.85,-5.52,-8.52,-8.79],\"yaxis\":\"y\",\"type\":\"scatter\"},{\"hovertemplate\":\"Receptor=6guh\\u003cbr\\u003eReceptor Type=no cyclin\\u003cbr\\u003eRMSD=%{x}\\u003cbr\\u003eEnergy (kcal\\u002fmol)=%{y}\\u003cextra\\u003e\\u003c\\u002fextra\\u003e\",\"legendgroup\":\"6guh, no cyclin\",\"marker\":{\"color\":\"rgb(251,128,114)\",\"symbol\":\"x\",\"line\":{\"color\":\"DarkSlateGrey\",\"width\":1},\"size\":8},\"mode\":\"markers\",\"name\":\"6guh, no cyclin\",\"orientation\":\"v\",\"showlegend\":true,\"x\":[8.11,8.86,5.9,7.07,3.73,8.5,5.98,3.95,5.96],\"xaxis\":\"x\",\"y\":[-7.92,-6.79,-7.5,-7.07,-7.08,-5.81,-5.74,-5.44,-8.21],\"yaxis\":\"y\",\"type\":\"scatter\"},{\"hovertemplate\":\"Receptor=3pj8\\u003cbr\\u003eReceptor Type=no cyclin\\u003cbr\\u003eRMSD=%{x}\\u003cbr\\u003eEnergy (kcal\\u002fmol)=%{y}\\u003cextra\\u003e\\u003c\\u002fextra\\u003e\",\"legendgroup\":\"3pj8, no cyclin\",\"marker\":{\"color\":\"rgb(128,177,211)\",\"symbol\":\"x\",\"line\":{\"color\":\"DarkSlateGrey\",\"width\":1},\"size\":8},\"mode\":\"markers\",\"name\":\"3pj8, no cyclin\",\"orientation\":\"v\",\"showlegend\":true,\"x\":[7.53,7.4,8.34,3.62,6.85,6.66,7.54],\"xaxis\":\"x\",\"y\":[-6.95,-6.14,-7.16,-5.39,-4.2,-4.64,-5.0],\"yaxis\":\"y\",\"type\":\"scatter\"},{\"hovertemplate\":\"Receptor=6guf\\u003cbr\\u003eReceptor Type=with cyclin\\u003cbr\\u003eRMSD=%{x}\\u003cbr\\u003eEnergy (kcal\\u002fmol)=%{y}\\u003cextra\\u003e\\u003c\\u002fextra\\u003e\",\"legendgroup\":\"6guf, with cyclin\",\"marker\":{\"color\":\"rgb(253,180,98)\",\"symbol\":\"triangle-up\",\"line\":{\"color\":\"DarkSlateGrey\",\"width\":1},\"size\":8},\"mode\":\"markers\",\"name\":\"6guf, with cyclin\",\"orientation\":\"v\",\"showlegend\":true,\"x\":[5.5,5.91,7.62,6.03,7.08,7.51,7.39,6.3,5.86,6.47,7.48,6.15],\"xaxis\":\"x\",\"y\":[-7.03,-6.03,-5.28,-6.47,-6.15,-5.96,-7.27,-7.33,-7.62,-7.85,-8.0,-8.05],\"yaxis\":\"y\",\"type\":\"scatter\"},{\"hovertemplate\":\"Receptor=5l2w\\u003cbr\\u003eReceptor Type=with cyclin\\u003cbr\\u003eRMSD=%{x}\\u003cbr\\u003eEnergy (kcal\\u002fmol)=%{y}\\u003cextra\\u003e\\u003c\\u002fextra\\u003e\",\"legendgroup\":\"5l2w, with cyclin\",\"marker\":{\"color\":\"rgb(179,222,105)\",\"symbol\":\"triangle-up\",\"line\":{\"color\":\"DarkSlateGrey\",\"width\":1},\"size\":8},\"mode\":\"markers\",\"name\":\"5l2w, with cyclin\",\"orientation\":\"v\",\"showlegend\":true,\"x\":[7.68],\"xaxis\":\"x\",\"y\":[-6.72],\"yaxis\":\"y\",\"type\":\"scatter\"},{\"hovertemplate\":\"Receptor=6gue\\u003cbr\\u003eReceptor Type=with cyclin\\u003cbr\\u003eRMSD=%{x}\\u003cbr\\u003eEnergy (kcal\\u002fmol)=%{y}\\u003cextra\\u003e\\u003c\\u002fextra\\u003e\",\"legendgroup\":\"6gue, with cyclin\",\"marker\":{\"color\":\"rgb(252,205,229)\",\"symbol\":\"triangle-up\",\"line\":{\"color\":\"DarkSlateGrey\",\"width\":1},\"size\":8},\"mode\":\"markers\",\"name\":\"6gue, with cyclin\",\"orientation\":\"v\",\"showlegend\":true,\"x\":[4.68,6.43,7.41,6.66,3.32,6.82,6.33,7.9,7.79,5.54],\"xaxis\":\"x\",\"y\":[-6.33,-10.06,-8.7,-8.78,-9.26,-9.7,-8.99,-7.54,-8.37,-8.22],\"yaxis\":\"y\",\"type\":\"scatter\"},{\"hovertemplate\":\"Receptor=3ddq\\u003cbr\\u003eReceptor Type=with cyclin\\u003cbr\\u003eRMSD=%{x}\\u003cbr\\u003eEnergy (kcal\\u002fmol)=%{y}\\u003cextra\\u003e\\u003c\\u002fextra\\u003e\",\"legendgroup\":\"3ddq, with cyclin\",\"marker\":{\"color\":\"rgb(217,217,217)\",\"symbol\":\"triangle-up\",\"line\":{\"color\":\"DarkSlateGrey\",\"width\":1},\"size\":8},\"mode\":\"markers\",\"name\":\"3ddq, with cyclin\",\"orientation\":\"v\",\"showlegend\":true,\"x\":[3.01,5.0,6.53,6.51,2.16,4.58,5.85,6.11,5.57,2.32],\"xaxis\":\"x\",\"y\":[-7.1,-6.83,-8.51,-9.23,-9.33,-9.69,-8.25,-7.73,-7.91,-8.18],\"yaxis\":\"y\",\"type\":\"scatter\"},{\"hovertemplate\":\"Receptor=6gub\\u003cbr\\u003eReceptor Type=with cyclin\\u003cbr\\u003eRMSD=%{x}\\u003cbr\\u003eEnergy (kcal\\u002fmol)=%{y}\\u003cextra\\u003e\\u003c\\u002fextra\\u003e\",\"legendgroup\":\"6gub, with cyclin\",\"marker\":{\"color\":\"rgb(188,128,189)\",\"symbol\":\"triangle-up\",\"line\":{\"color\":\"DarkSlateGrey\",\"width\":1},\"size\":8},\"mode\":\"markers\",\"name\":\"6gub, with cyclin\",\"orientation\":\"v\",\"showlegend\":true,\"x\":[6.89,6.98,5.02,6.91,7.17,4.57,4.9,1.62,7.63,1.9,4.31,6.04,3.25,4.85,5.96,7.98,6.64],\"xaxis\":\"x\",\"y\":[-8.55,-8.72,-8.84,-8.9,-8.49,-8.91,-9.47,-9.92,-7.25,-8.43,-7.3,-7.8,-8.02,-8.07,-8.1,-7.92,-7.5],\"yaxis\":\"y\",\"type\":\"scatter\"}],                        {\"template\":{\"data\":{\"barpolar\":[{\"marker\":{\"line\":{\"color\":\"rgb(237,237,237)\",\"width\":0.5},\"pattern\":{\"fillmode\":\"overlay\",\"size\":10,\"solidity\":0.2}},\"type\":\"barpolar\"}],\"bar\":[{\"error_x\":{\"color\":\"rgb(51,51,51)\"},\"error_y\":{\"color\":\"rgb(51,51,51)\"},\"marker\":{\"line\":{\"color\":\"rgb(237,237,237)\",\"width\":0.5},\"pattern\":{\"fillmode\":\"overlay\",\"size\":10,\"solidity\":0.2}},\"type\":\"bar\"}],\"carpet\":[{\"aaxis\":{\"endlinecolor\":\"rgb(51,51,51)\",\"gridcolor\":\"white\",\"linecolor\":\"white\",\"minorgridcolor\":\"white\",\"startlinecolor\":\"rgb(51,51,51)\"},\"baxis\":{\"endlinecolor\":\"rgb(51,51,51)\",\"gridcolor\":\"white\",\"linecolor\":\"white\",\"minorgridcolor\":\"white\",\"startlinecolor\":\"rgb(51,51,51)\"},\"type\":\"carpet\"}],\"choropleth\":[{\"colorbar\":{\"outlinewidth\":0,\"tickcolor\":\"rgb(237,237,237)\",\"ticklen\":6,\"ticks\":\"inside\"},\"type\":\"choropleth\"}],\"contourcarpet\":[{\"colorbar\":{\"outlinewidth\":0,\"tickcolor\":\"rgb(237,237,237)\",\"ticklen\":6,\"ticks\":\"inside\"},\"type\":\"contourcarpet\"}],\"contour\":[{\"colorbar\":{\"outlinewidth\":0,\"tickcolor\":\"rgb(237,237,237)\",\"ticklen\":6,\"ticks\":\"inside\"},\"colorscale\":[[0,\"rgb(20,44,66)\"],[1,\"rgb(90,179,244)\"]],\"type\":\"contour\"}],\"heatmapgl\":[{\"colorbar\":{\"outlinewidth\":0,\"tickcolor\":\"rgb(237,237,237)\",\"ticklen\":6,\"ticks\":\"inside\"},\"colorscale\":[[0,\"rgb(20,44,66)\"],[1,\"rgb(90,179,244)\"]],\"type\":\"heatmapgl\"}],\"heatmap\":[{\"colorbar\":{\"outlinewidth\":0,\"tickcolor\":\"rgb(237,237,237)\",\"ticklen\":6,\"ticks\":\"inside\"},\"colorscale\":[[0,\"rgb(20,44,66)\"],[1,\"rgb(90,179,244)\"]],\"type\":\"heatmap\"}],\"histogram2dcontour\":[{\"colorbar\":{\"outlinewidth\":0,\"tickcolor\":\"rgb(237,237,237)\",\"ticklen\":6,\"ticks\":\"inside\"},\"colorscale\":[[0,\"rgb(20,44,66)\"],[1,\"rgb(90,179,244)\"]],\"type\":\"histogram2dcontour\"}],\"histogram2d\":[{\"colorbar\":{\"outlinewidth\":0,\"tickcolor\":\"rgb(237,237,237)\",\"ticklen\":6,\"ticks\":\"inside\"},\"colorscale\":[[0,\"rgb(20,44,66)\"],[1,\"rgb(90,179,244)\"]],\"type\":\"histogram2d\"}],\"histogram\":[{\"marker\":{\"pattern\":{\"fillmode\":\"overlay\",\"size\":10,\"solidity\":0.2}},\"type\":\"histogram\"}],\"mesh3d\":[{\"colorbar\":{\"outlinewidth\":0,\"tickcolor\":\"rgb(237,237,237)\",\"ticklen\":6,\"ticks\":\"inside\"},\"type\":\"mesh3d\"}],\"parcoords\":[{\"line\":{\"colorbar\":{\"outlinewidth\":0,\"tickcolor\":\"rgb(237,237,237)\",\"ticklen\":6,\"ticks\":\"inside\"}},\"type\":\"parcoords\"}],\"pie\":[{\"automargin\":true,\"type\":\"pie\"}],\"scatter3d\":[{\"line\":{\"colorbar\":{\"outlinewidth\":0,\"tickcolor\":\"rgb(237,237,237)\",\"ticklen\":6,\"ticks\":\"inside\"}},\"marker\":{\"colorbar\":{\"outlinewidth\":0,\"tickcolor\":\"rgb(237,237,237)\",\"ticklen\":6,\"ticks\":\"inside\"}},\"type\":\"scatter3d\"}],\"scattercarpet\":[{\"marker\":{\"colorbar\":{\"outlinewidth\":0,\"tickcolor\":\"rgb(237,237,237)\",\"ticklen\":6,\"ticks\":\"inside\"}},\"type\":\"scattercarpet\"}],\"scattergeo\":[{\"marker\":{\"colorbar\":{\"outlinewidth\":0,\"tickcolor\":\"rgb(237,237,237)\",\"ticklen\":6,\"ticks\":\"inside\"}},\"type\":\"scattergeo\"}],\"scattergl\":[{\"marker\":{\"colorbar\":{\"outlinewidth\":0,\"tickcolor\":\"rgb(237,237,237)\",\"ticklen\":6,\"ticks\":\"inside\"}},\"type\":\"scattergl\"}],\"scattermapbox\":[{\"marker\":{\"colorbar\":{\"outlinewidth\":0,\"tickcolor\":\"rgb(237,237,237)\",\"ticklen\":6,\"ticks\":\"inside\"}},\"type\":\"scattermapbox\"}],\"scatterpolargl\":[{\"marker\":{\"colorbar\":{\"outlinewidth\":0,\"tickcolor\":\"rgb(237,237,237)\",\"ticklen\":6,\"ticks\":\"inside\"}},\"type\":\"scatterpolargl\"}],\"scatterpolar\":[{\"marker\":{\"colorbar\":{\"outlinewidth\":0,\"tickcolor\":\"rgb(237,237,237)\",\"ticklen\":6,\"ticks\":\"inside\"}},\"type\":\"scatterpolar\"}],\"scatter\":[{\"fillpattern\":{\"fillmode\":\"overlay\",\"size\":10,\"solidity\":0.2},\"type\":\"scatter\"}],\"scatterternary\":[{\"marker\":{\"colorbar\":{\"outlinewidth\":0,\"tickcolor\":\"rgb(237,237,237)\",\"ticklen\":6,\"ticks\":\"inside\"}},\"type\":\"scatterternary\"}],\"surface\":[{\"colorbar\":{\"outlinewidth\":0,\"tickcolor\":\"rgb(237,237,237)\",\"ticklen\":6,\"ticks\":\"inside\"},\"colorscale\":[[0,\"rgb(20,44,66)\"],[1,\"rgb(90,179,244)\"]],\"type\":\"surface\"}],\"table\":[{\"cells\":{\"fill\":{\"color\":\"rgb(237,237,237)\"},\"line\":{\"color\":\"white\"}},\"header\":{\"fill\":{\"color\":\"rgb(217,217,217)\"},\"line\":{\"color\":\"white\"}},\"type\":\"table\"}]},\"layout\":{\"annotationdefaults\":{\"arrowhead\":0,\"arrowwidth\":1},\"autotypenumbers\":\"strict\",\"coloraxis\":{\"colorbar\":{\"outlinewidth\":0,\"tickcolor\":\"rgb(237,237,237)\",\"ticklen\":6,\"ticks\":\"inside\"}},\"colorscale\":{\"sequential\":[[0,\"rgb(20,44,66)\"],[1,\"rgb(90,179,244)\"]],\"sequentialminus\":[[0,\"rgb(20,44,66)\"],[1,\"rgb(90,179,244)\"]]},\"colorway\":[\"#F8766D\",\"#A3A500\",\"#00BF7D\",\"#00B0F6\",\"#E76BF3\"],\"font\":{\"color\":\"rgb(51,51,51)\"},\"geo\":{\"bgcolor\":\"white\",\"lakecolor\":\"white\",\"landcolor\":\"rgb(237,237,237)\",\"showlakes\":true,\"showland\":true,\"subunitcolor\":\"white\"},\"hoverlabel\":{\"align\":\"left\"},\"hovermode\":\"closest\",\"paper_bgcolor\":\"white\",\"plot_bgcolor\":\"rgb(237,237,237)\",\"polar\":{\"angularaxis\":{\"gridcolor\":\"white\",\"linecolor\":\"white\",\"showgrid\":true,\"tickcolor\":\"rgb(51,51,51)\",\"ticks\":\"outside\"},\"bgcolor\":\"rgb(237,237,237)\",\"radialaxis\":{\"gridcolor\":\"white\",\"linecolor\":\"white\",\"showgrid\":true,\"tickcolor\":\"rgb(51,51,51)\",\"ticks\":\"outside\"}},\"scene\":{\"xaxis\":{\"backgroundcolor\":\"rgb(237,237,237)\",\"gridcolor\":\"white\",\"gridwidth\":2,\"linecolor\":\"white\",\"showbackground\":true,\"showgrid\":true,\"tickcolor\":\"rgb(51,51,51)\",\"ticks\":\"outside\",\"zerolinecolor\":\"white\"},\"yaxis\":{\"backgroundcolor\":\"rgb(237,237,237)\",\"gridcolor\":\"white\",\"gridwidth\":2,\"linecolor\":\"white\",\"showbackground\":true,\"showgrid\":true,\"tickcolor\":\"rgb(51,51,51)\",\"ticks\":\"outside\",\"zerolinecolor\":\"white\"},\"zaxis\":{\"backgroundcolor\":\"rgb(237,237,237)\",\"gridcolor\":\"white\",\"gridwidth\":2,\"linecolor\":\"white\",\"showbackground\":true,\"showgrid\":true,\"tickcolor\":\"rgb(51,51,51)\",\"ticks\":\"outside\",\"zerolinecolor\":\"white\"}},\"shapedefaults\":{\"fillcolor\":\"black\",\"line\":{\"width\":0},\"opacity\":0.3},\"ternary\":{\"aaxis\":{\"gridcolor\":\"white\",\"linecolor\":\"white\",\"showgrid\":true,\"tickcolor\":\"rgb(51,51,51)\",\"ticks\":\"outside\"},\"baxis\":{\"gridcolor\":\"white\",\"linecolor\":\"white\",\"showgrid\":true,\"tickcolor\":\"rgb(51,51,51)\",\"ticks\":\"outside\"},\"bgcolor\":\"rgb(237,237,237)\",\"caxis\":{\"gridcolor\":\"white\",\"linecolor\":\"white\",\"showgrid\":true,\"tickcolor\":\"rgb(51,51,51)\",\"ticks\":\"outside\"}},\"xaxis\":{\"automargin\":true,\"gridcolor\":\"white\",\"linecolor\":\"white\",\"showgrid\":true,\"tickcolor\":\"rgb(51,51,51)\",\"ticks\":\"outside\",\"title\":{\"standoff\":15},\"zerolinecolor\":\"white\"},\"yaxis\":{\"automargin\":true,\"gridcolor\":\"white\",\"linecolor\":\"white\",\"showgrid\":true,\"tickcolor\":\"rgb(51,51,51)\",\"ticks\":\"outside\",\"title\":{\"standoff\":15},\"zerolinecolor\":\"white\"}}},\"xaxis\":{\"anchor\":\"y\",\"domain\":[0.0,1.0],\"title\":{\"text\":\"RMSD\"}},\"yaxis\":{\"anchor\":\"x\",\"domain\":[0.0,1.0],\"title\":{\"text\":\"Energy (kcal\\u002fmol)\"}},\"legend\":{\"title\":{\"text\":\"Receptor, Receptor Type\"},\"tracegroupgap\":0},\"margin\":{\"t\":60},\"title\":{\"text\":\"Ensemble docking of 5L2W\"}},                        {\"responsive\": true}                    ).then(function(){\n",
       "                            \n",
       "var gd = document.getElementById('3480421c-0a11-4a61-87d4-2c9aa1396eae');\n",
       "var x = new MutationObserver(function (mutations, observer) {{\n",
       "        var display = window.getComputedStyle(gd).display;\n",
       "        if (!display || display === 'none') {{\n",
       "            console.log([gd, 'removed!']);\n",
       "            Plotly.purge(gd);\n",
       "            observer.disconnect();\n",
       "        }}\n",
       "}});\n",
       "\n",
       "// Listen for the removal of the full notebook cells\n",
       "var notebookContainer = gd.closest('#notebook-container');\n",
       "if (notebookContainer) {{\n",
       "    x.observe(notebookContainer, {childList: true});\n",
       "}}\n",
       "\n",
       "// Listen for the clearing of the current output cell\n",
       "var outputEl = gd.closest('.output');\n",
       "if (outputEl) {{\n",
       "    x.observe(outputEl, {childList: true});\n",
       "}}\n",
       "\n",
       "                        })                };                });            </script>        </div>"
      ]
     },
     "metadata": {},
     "output_type": "display_data"
    },
    {
     "data": {
      "application/vnd.plotly.v1+json": {
       "config": {
        "plotlyServerURL": "https://plot.ly"
       },
       "data": [
        {
         "hovertemplate": "Receptor=5a14<br>Receptor Type=DFG out<br>RMSD=%{x}<br>Energy (kcal/mol)=%{y}<extra></extra>",
         "legendgroup": "5a14, DFG out",
         "marker": {
          "color": "rgb(141,211,199)",
          "line": {
           "color": "DarkSlateGrey",
           "width": 1
          },
          "size": 8,
          "symbol": "circle"
         },
         "mode": "markers",
         "name": "5a14, DFG out",
         "orientation": "v",
         "showlegend": true,
         "type": "scatter",
         "x": [
          6.41,
          7.4,
          7.01,
          6.12,
          7.63,
          5.41,
          2.79,
          7.49,
          7.3,
          7.1,
          7.56
         ],
         "xaxis": "x",
         "y": [
          -4.57,
          -7.13,
          -8.48,
          -6.51,
          -7.49,
          -6.33,
          -7.29,
          -7.21,
          -5.67,
          -5.54,
          -4.96
         ],
         "yaxis": "y"
        },
        {
         "hovertemplate": "Receptor=6guk<br>Receptor Type=no cyclin<br>RMSD=%{x}<br>Energy (kcal/mol)=%{y}<extra></extra>",
         "legendgroup": "6guk, no cyclin",
         "marker": {
          "color": "rgb(255,255,179)",
          "line": {
           "color": "DarkSlateGrey",
           "width": 1
          },
          "size": 8,
          "symbol": "x"
         },
         "mode": "markers",
         "name": "6guk, no cyclin",
         "orientation": "v",
         "showlegend": true,
         "type": "scatter",
         "x": [
          6.54,
          5.84,
          6.4,
          4.97,
          7.18,
          6.77,
          6.51,
          4.83,
          4.94,
          2.67,
          5.64,
          6.77,
          2.83,
          7.88
         ],
         "xaxis": "x",
         "y": [
          -7.96,
          -7.57,
          -7.34,
          -8.28,
          -6.76,
          -6.33,
          -5.92,
          -5.63,
          -8.84,
          -9.29,
          -8.63,
          -8.97,
          -8.56,
          -8.58
         ],
         "yaxis": "y"
        },
        {
         "hovertemplate": "Receptor=4kd1<br>Receptor Type=no cyclin<br>RMSD=%{x}<br>Energy (kcal/mol)=%{y}<extra></extra>",
         "legendgroup": "4kd1, no cyclin",
         "marker": {
          "color": "rgb(190,186,218)",
          "line": {
           "color": "DarkSlateGrey",
           "width": 1
          },
          "size": 8,
          "symbol": "x"
         },
         "mode": "markers",
         "name": "4kd1, no cyclin",
         "orientation": "v",
         "showlegend": true,
         "type": "scatter",
         "x": [
          1.76,
          4.65,
          6.81
         ],
         "xaxis": "x",
         "y": [
          -7.83,
          -6.7,
          -7.24
         ],
         "yaxis": "y"
        },
        {
         "hovertemplate": "Receptor=6guh<br>Receptor Type=no cyclin<br>RMSD=%{x}<br>Energy (kcal/mol)=%{y}<extra></extra>",
         "legendgroup": "6guh, no cyclin",
         "marker": {
          "color": "rgb(251,128,114)",
          "line": {
           "color": "DarkSlateGrey",
           "width": 1
          },
          "size": 8,
          "symbol": "x"
         },
         "mode": "markers",
         "name": "6guh, no cyclin",
         "orientation": "v",
         "showlegend": true,
         "type": "scatter",
         "x": [
          6.58,
          4.7,
          5.59,
          7.6,
          6.82,
          7.04,
          7.55,
          6.49,
          4.83,
          6.45,
          2.78
         ],
         "xaxis": "x",
         "y": [
          -8.28,
          -8.29,
          -8.31,
          -7.39,
          -7.14,
          -6.49,
          -6.17,
          -5.71,
          -5.62,
          -7.76,
          -8.47
         ],
         "yaxis": "y"
        },
        {
         "hovertemplate": "Receptor=3pj8<br>Receptor Type=no cyclin<br>RMSD=%{x}<br>Energy (kcal/mol)=%{y}<extra></extra>",
         "legendgroup": "3pj8, no cyclin",
         "marker": {
          "color": "rgb(128,177,211)",
          "line": {
           "color": "DarkSlateGrey",
           "width": 1
          },
          "size": 8,
          "symbol": "x"
         },
         "mode": "markers",
         "name": "3pj8, no cyclin",
         "orientation": "v",
         "showlegend": true,
         "type": "scatter",
         "x": [
          1.73,
          5.73,
          7.76,
          6.44,
          6.98,
          4.21,
          2.35,
          2.47
         ],
         "xaxis": "x",
         "y": [
          -9.81,
          -6.82,
          -6.41,
          -6.02,
          -8.34,
          -9.18,
          -8.97,
          -8.72
         ],
         "yaxis": "y"
        },
        {
         "hovertemplate": "Receptor=3ddq<br>Receptor Type=with cyclin<br>RMSD=%{x}<br>Energy (kcal/mol)=%{y}<extra></extra>",
         "legendgroup": "3ddq, with cyclin",
         "marker": {
          "color": "rgb(253,180,98)",
          "line": {
           "color": "DarkSlateGrey",
           "width": 1
          },
          "size": 8,
          "symbol": "triangle-up"
         },
         "mode": "markers",
         "name": "3ddq, with cyclin",
         "orientation": "v",
         "showlegend": true,
         "type": "scatter",
         "x": [
          3.77,
          7.79,
          6.55,
          7.51,
          6.6,
          5.94,
          6.47,
          3.29,
          4.14,
          4.82,
          5.75,
          6.42,
          2.94,
          5.6,
          6.61,
          6.24
         ],
         "xaxis": "x",
         "y": [
          -6.86,
          -9.03,
          -6.19,
          -9.16,
          -9.37,
          -9.39,
          -7.14,
          -8.23,
          -7.97,
          -7.94,
          -7.79,
          -7.7,
          -7.23,
          -8.76,
          -7.3,
          -7.54
         ],
         "yaxis": "y"
        },
        {
         "hovertemplate": "Receptor=6guf<br>Receptor Type=with cyclin<br>RMSD=%{x}<br>Energy (kcal/mol)=%{y}<extra></extra>",
         "legendgroup": "6guf, with cyclin",
         "marker": {
          "color": "rgb(179,222,105)",
          "line": {
           "color": "DarkSlateGrey",
           "width": 1
          },
          "size": 8,
          "symbol": "triangle-up"
         },
         "mode": "markers",
         "name": "6guf, with cyclin",
         "orientation": "v",
         "showlegend": true,
         "type": "scatter",
         "x": [
          7.44,
          6.93,
          4.04,
          2.11,
          5.91,
          5.7,
          6.49,
          4.7,
          4.89,
          7.35,
          6.04,
          5.79,
          6.38,
          7.34,
          7.62
         ],
         "xaxis": "x",
         "y": [
          -6.94,
          -6.57,
          -6.55,
          -9.17,
          -6.17,
          -5.91,
          -8.41,
          -8.28,
          -8.09,
          -7.84,
          -8.67,
          -7.64,
          -8.78,
          -7.33,
          -7.41
         ],
         "yaxis": "y"
        },
        {
         "hovertemplate": "Receptor=6gub<br>Receptor Type=with cyclin<br>RMSD=%{x}<br>Energy (kcal/mol)=%{y}<extra></extra>",
         "legendgroup": "6gub, with cyclin",
         "marker": {
          "color": "rgb(252,205,229)",
          "line": {
           "color": "DarkSlateGrey",
           "width": 1
          },
          "size": 8,
          "symbol": "triangle-up"
         },
         "mode": "markers",
         "name": "6gub, with cyclin",
         "orientation": "v",
         "showlegend": true,
         "type": "scatter",
         "x": [
          4.9,
          6.84,
          3.1,
          6.81,
          7.34,
          3.35,
          2.01,
          4.58,
          3.23,
          6.13,
          2.55,
          6.48,
          6.92,
          6.3,
          6.73,
          6.09,
          7.5,
          5.12,
          7.26
         ],
         "xaxis": "x",
         "y": [
          -6.4,
          -6.94,
          -7.02,
          -9.02,
          -8.99,
          -7.11,
          -9.21,
          -9.39,
          -6.33,
          -8.5,
          -8.55,
          -8.01,
          -8.68,
          -7.59,
          -7.59,
          -8.44,
          -7.3,
          -7.36,
          -8.73
         ],
         "yaxis": "y"
        },
        {
         "hovertemplate": "Receptor=5l2w<br>Receptor Type=with cyclin<br>RMSD=%{x}<br>Energy (kcal/mol)=%{y}<extra></extra>",
         "legendgroup": "5l2w, with cyclin",
         "marker": {
          "color": "rgb(217,217,217)",
          "line": {
           "color": "DarkSlateGrey",
           "width": 1
          },
          "size": 8,
          "symbol": "triangle-up"
         },
         "mode": "markers",
         "name": "5l2w, with cyclin",
         "orientation": "v",
         "showlegend": true,
         "type": "scatter",
         "x": [
          5.19,
          6.84,
          1.84,
          6.98,
          6.19,
          3.15,
          2.91,
          5.17
         ],
         "xaxis": "x",
         "y": [
          -9.14,
          -5.75,
          -9.57,
          -9.67,
          -8.1,
          -7.54,
          -8.74,
          -3.08
         ],
         "yaxis": "y"
        },
        {
         "hovertemplate": "Receptor=6gue<br>Receptor Type=with cyclin<br>RMSD=%{x}<br>Energy (kcal/mol)=%{y}<extra></extra>",
         "legendgroup": "6gue, with cyclin",
         "marker": {
          "color": "rgb(188,128,189)",
          "line": {
           "color": "DarkSlateGrey",
           "width": 1
          },
          "size": 8,
          "symbol": "triangle-up"
         },
         "mode": "markers",
         "name": "6gue, with cyclin",
         "orientation": "v",
         "showlegend": true,
         "type": "scatter",
         "x": [
          5.54,
          6.47,
          2.39,
          6.05,
          7.06
         ],
         "xaxis": "x",
         "y": [
          -6.13,
          -9.4,
          -8.94,
          -8.91,
          -8.74
         ],
         "yaxis": "y"
        }
       ],
       "layout": {
        "legend": {
         "title": {
          "text": "Receptor, Receptor Type"
         },
         "tracegroupgap": 0
        },
        "margin": {
         "t": 60
        },
        "template": {
         "data": {
          "bar": [
           {
            "error_x": {
             "color": "rgb(51,51,51)"
            },
            "error_y": {
             "color": "rgb(51,51,51)"
            },
            "marker": {
             "line": {
              "color": "rgb(237,237,237)",
              "width": 0.5
             },
             "pattern": {
              "fillmode": "overlay",
              "size": 10,
              "solidity": 0.2
             }
            },
            "type": "bar"
           }
          ],
          "barpolar": [
           {
            "marker": {
             "line": {
              "color": "rgb(237,237,237)",
              "width": 0.5
             },
             "pattern": {
              "fillmode": "overlay",
              "size": 10,
              "solidity": 0.2
             }
            },
            "type": "barpolar"
           }
          ],
          "carpet": [
           {
            "aaxis": {
             "endlinecolor": "rgb(51,51,51)",
             "gridcolor": "white",
             "linecolor": "white",
             "minorgridcolor": "white",
             "startlinecolor": "rgb(51,51,51)"
            },
            "baxis": {
             "endlinecolor": "rgb(51,51,51)",
             "gridcolor": "white",
             "linecolor": "white",
             "minorgridcolor": "white",
             "startlinecolor": "rgb(51,51,51)"
            },
            "type": "carpet"
           }
          ],
          "choropleth": [
           {
            "colorbar": {
             "outlinewidth": 0,
             "tickcolor": "rgb(237,237,237)",
             "ticklen": 6,
             "ticks": "inside"
            },
            "type": "choropleth"
           }
          ],
          "contour": [
           {
            "colorbar": {
             "outlinewidth": 0,
             "tickcolor": "rgb(237,237,237)",
             "ticklen": 6,
             "ticks": "inside"
            },
            "colorscale": [
             [
              0,
              "rgb(20,44,66)"
             ],
             [
              1,
              "rgb(90,179,244)"
             ]
            ],
            "type": "contour"
           }
          ],
          "contourcarpet": [
           {
            "colorbar": {
             "outlinewidth": 0,
             "tickcolor": "rgb(237,237,237)",
             "ticklen": 6,
             "ticks": "inside"
            },
            "type": "contourcarpet"
           }
          ],
          "heatmap": [
           {
            "colorbar": {
             "outlinewidth": 0,
             "tickcolor": "rgb(237,237,237)",
             "ticklen": 6,
             "ticks": "inside"
            },
            "colorscale": [
             [
              0,
              "rgb(20,44,66)"
             ],
             [
              1,
              "rgb(90,179,244)"
             ]
            ],
            "type": "heatmap"
           }
          ],
          "heatmapgl": [
           {
            "colorbar": {
             "outlinewidth": 0,
             "tickcolor": "rgb(237,237,237)",
             "ticklen": 6,
             "ticks": "inside"
            },
            "colorscale": [
             [
              0,
              "rgb(20,44,66)"
             ],
             [
              1,
              "rgb(90,179,244)"
             ]
            ],
            "type": "heatmapgl"
           }
          ],
          "histogram": [
           {
            "marker": {
             "pattern": {
              "fillmode": "overlay",
              "size": 10,
              "solidity": 0.2
             }
            },
            "type": "histogram"
           }
          ],
          "histogram2d": [
           {
            "colorbar": {
             "outlinewidth": 0,
             "tickcolor": "rgb(237,237,237)",
             "ticklen": 6,
             "ticks": "inside"
            },
            "colorscale": [
             [
              0,
              "rgb(20,44,66)"
             ],
             [
              1,
              "rgb(90,179,244)"
             ]
            ],
            "type": "histogram2d"
           }
          ],
          "histogram2dcontour": [
           {
            "colorbar": {
             "outlinewidth": 0,
             "tickcolor": "rgb(237,237,237)",
             "ticklen": 6,
             "ticks": "inside"
            },
            "colorscale": [
             [
              0,
              "rgb(20,44,66)"
             ],
             [
              1,
              "rgb(90,179,244)"
             ]
            ],
            "type": "histogram2dcontour"
           }
          ],
          "mesh3d": [
           {
            "colorbar": {
             "outlinewidth": 0,
             "tickcolor": "rgb(237,237,237)",
             "ticklen": 6,
             "ticks": "inside"
            },
            "type": "mesh3d"
           }
          ],
          "parcoords": [
           {
            "line": {
             "colorbar": {
              "outlinewidth": 0,
              "tickcolor": "rgb(237,237,237)",
              "ticklen": 6,
              "ticks": "inside"
             }
            },
            "type": "parcoords"
           }
          ],
          "pie": [
           {
            "automargin": true,
            "type": "pie"
           }
          ],
          "scatter": [
           {
            "fillpattern": {
             "fillmode": "overlay",
             "size": 10,
             "solidity": 0.2
            },
            "type": "scatter"
           }
          ],
          "scatter3d": [
           {
            "line": {
             "colorbar": {
              "outlinewidth": 0,
              "tickcolor": "rgb(237,237,237)",
              "ticklen": 6,
              "ticks": "inside"
             }
            },
            "marker": {
             "colorbar": {
              "outlinewidth": 0,
              "tickcolor": "rgb(237,237,237)",
              "ticklen": 6,
              "ticks": "inside"
             }
            },
            "type": "scatter3d"
           }
          ],
          "scattercarpet": [
           {
            "marker": {
             "colorbar": {
              "outlinewidth": 0,
              "tickcolor": "rgb(237,237,237)",
              "ticklen": 6,
              "ticks": "inside"
             }
            },
            "type": "scattercarpet"
           }
          ],
          "scattergeo": [
           {
            "marker": {
             "colorbar": {
              "outlinewidth": 0,
              "tickcolor": "rgb(237,237,237)",
              "ticklen": 6,
              "ticks": "inside"
             }
            },
            "type": "scattergeo"
           }
          ],
          "scattergl": [
           {
            "marker": {
             "colorbar": {
              "outlinewidth": 0,
              "tickcolor": "rgb(237,237,237)",
              "ticklen": 6,
              "ticks": "inside"
             }
            },
            "type": "scattergl"
           }
          ],
          "scattermapbox": [
           {
            "marker": {
             "colorbar": {
              "outlinewidth": 0,
              "tickcolor": "rgb(237,237,237)",
              "ticklen": 6,
              "ticks": "inside"
             }
            },
            "type": "scattermapbox"
           }
          ],
          "scatterpolar": [
           {
            "marker": {
             "colorbar": {
              "outlinewidth": 0,
              "tickcolor": "rgb(237,237,237)",
              "ticklen": 6,
              "ticks": "inside"
             }
            },
            "type": "scatterpolar"
           }
          ],
          "scatterpolargl": [
           {
            "marker": {
             "colorbar": {
              "outlinewidth": 0,
              "tickcolor": "rgb(237,237,237)",
              "ticklen": 6,
              "ticks": "inside"
             }
            },
            "type": "scatterpolargl"
           }
          ],
          "scatterternary": [
           {
            "marker": {
             "colorbar": {
              "outlinewidth": 0,
              "tickcolor": "rgb(237,237,237)",
              "ticklen": 6,
              "ticks": "inside"
             }
            },
            "type": "scatterternary"
           }
          ],
          "surface": [
           {
            "colorbar": {
             "outlinewidth": 0,
             "tickcolor": "rgb(237,237,237)",
             "ticklen": 6,
             "ticks": "inside"
            },
            "colorscale": [
             [
              0,
              "rgb(20,44,66)"
             ],
             [
              1,
              "rgb(90,179,244)"
             ]
            ],
            "type": "surface"
           }
          ],
          "table": [
           {
            "cells": {
             "fill": {
              "color": "rgb(237,237,237)"
             },
             "line": {
              "color": "white"
             }
            },
            "header": {
             "fill": {
              "color": "rgb(217,217,217)"
             },
             "line": {
              "color": "white"
             }
            },
            "type": "table"
           }
          ]
         },
         "layout": {
          "annotationdefaults": {
           "arrowhead": 0,
           "arrowwidth": 1
          },
          "autotypenumbers": "strict",
          "coloraxis": {
           "colorbar": {
            "outlinewidth": 0,
            "tickcolor": "rgb(237,237,237)",
            "ticklen": 6,
            "ticks": "inside"
           }
          },
          "colorscale": {
           "sequential": [
            [
             0,
             "rgb(20,44,66)"
            ],
            [
             1,
             "rgb(90,179,244)"
            ]
           ],
           "sequentialminus": [
            [
             0,
             "rgb(20,44,66)"
            ],
            [
             1,
             "rgb(90,179,244)"
            ]
           ]
          },
          "colorway": [
           "#F8766D",
           "#A3A500",
           "#00BF7D",
           "#00B0F6",
           "#E76BF3"
          ],
          "font": {
           "color": "rgb(51,51,51)"
          },
          "geo": {
           "bgcolor": "white",
           "lakecolor": "white",
           "landcolor": "rgb(237,237,237)",
           "showlakes": true,
           "showland": true,
           "subunitcolor": "white"
          },
          "hoverlabel": {
           "align": "left"
          },
          "hovermode": "closest",
          "paper_bgcolor": "white",
          "plot_bgcolor": "rgb(237,237,237)",
          "polar": {
           "angularaxis": {
            "gridcolor": "white",
            "linecolor": "white",
            "showgrid": true,
            "tickcolor": "rgb(51,51,51)",
            "ticks": "outside"
           },
           "bgcolor": "rgb(237,237,237)",
           "radialaxis": {
            "gridcolor": "white",
            "linecolor": "white",
            "showgrid": true,
            "tickcolor": "rgb(51,51,51)",
            "ticks": "outside"
           }
          },
          "scene": {
           "xaxis": {
            "backgroundcolor": "rgb(237,237,237)",
            "gridcolor": "white",
            "gridwidth": 2,
            "linecolor": "white",
            "showbackground": true,
            "showgrid": true,
            "tickcolor": "rgb(51,51,51)",
            "ticks": "outside",
            "zerolinecolor": "white"
           },
           "yaxis": {
            "backgroundcolor": "rgb(237,237,237)",
            "gridcolor": "white",
            "gridwidth": 2,
            "linecolor": "white",
            "showbackground": true,
            "showgrid": true,
            "tickcolor": "rgb(51,51,51)",
            "ticks": "outside",
            "zerolinecolor": "white"
           },
           "zaxis": {
            "backgroundcolor": "rgb(237,237,237)",
            "gridcolor": "white",
            "gridwidth": 2,
            "linecolor": "white",
            "showbackground": true,
            "showgrid": true,
            "tickcolor": "rgb(51,51,51)",
            "ticks": "outside",
            "zerolinecolor": "white"
           }
          },
          "shapedefaults": {
           "fillcolor": "black",
           "line": {
            "width": 0
           },
           "opacity": 0.3
          },
          "ternary": {
           "aaxis": {
            "gridcolor": "white",
            "linecolor": "white",
            "showgrid": true,
            "tickcolor": "rgb(51,51,51)",
            "ticks": "outside"
           },
           "baxis": {
            "gridcolor": "white",
            "linecolor": "white",
            "showgrid": true,
            "tickcolor": "rgb(51,51,51)",
            "ticks": "outside"
           },
           "bgcolor": "rgb(237,237,237)",
           "caxis": {
            "gridcolor": "white",
            "linecolor": "white",
            "showgrid": true,
            "tickcolor": "rgb(51,51,51)",
            "ticks": "outside"
           }
          },
          "xaxis": {
           "automargin": true,
           "gridcolor": "white",
           "linecolor": "white",
           "showgrid": true,
           "tickcolor": "rgb(51,51,51)",
           "ticks": "outside",
           "title": {
            "standoff": 15
           },
           "zerolinecolor": "white"
          },
          "yaxis": {
           "automargin": true,
           "gridcolor": "white",
           "linecolor": "white",
           "showgrid": true,
           "tickcolor": "rgb(51,51,51)",
           "ticks": "outside",
           "title": {
            "standoff": 15
           },
           "zerolinecolor": "white"
          }
         }
        },
        "title": {
         "text": "Ensemble docking of 3PJ8"
        },
        "xaxis": {
         "anchor": "y",
         "domain": [
          0,
          1
         ],
         "title": {
          "text": "RMSD"
         }
        },
        "yaxis": {
         "anchor": "x",
         "domain": [
          0,
          1
         ],
         "title": {
          "text": "Energy (kcal/mol)"
         }
        }
       }
      },
      "text/html": [
       "<div>                            <div id=\"eaf524a7-2fc8-4107-8061-891f784a5e9d\" class=\"plotly-graph-div\" style=\"height:525px; width:100%;\"></div>            <script type=\"text/javascript\">                require([\"plotly\"], function(Plotly) {                    window.PLOTLYENV=window.PLOTLYENV || {};                                    if (document.getElementById(\"eaf524a7-2fc8-4107-8061-891f784a5e9d\")) {                    Plotly.newPlot(                        \"eaf524a7-2fc8-4107-8061-891f784a5e9d\",                        [{\"hovertemplate\":\"Receptor=5a14\\u003cbr\\u003eReceptor Type=DFG out\\u003cbr\\u003eRMSD=%{x}\\u003cbr\\u003eEnergy (kcal\\u002fmol)=%{y}\\u003cextra\\u003e\\u003c\\u002fextra\\u003e\",\"legendgroup\":\"5a14, DFG out\",\"marker\":{\"color\":\"rgb(141,211,199)\",\"symbol\":\"circle\",\"line\":{\"color\":\"DarkSlateGrey\",\"width\":1},\"size\":8},\"mode\":\"markers\",\"name\":\"5a14, DFG out\",\"orientation\":\"v\",\"showlegend\":true,\"x\":[6.41,7.4,7.01,6.12,7.63,5.41,2.79,7.49,7.3,7.1,7.56],\"xaxis\":\"x\",\"y\":[-4.57,-7.13,-8.48,-6.51,-7.49,-6.33,-7.29,-7.21,-5.67,-5.54,-4.96],\"yaxis\":\"y\",\"type\":\"scatter\"},{\"hovertemplate\":\"Receptor=6guk\\u003cbr\\u003eReceptor Type=no cyclin\\u003cbr\\u003eRMSD=%{x}\\u003cbr\\u003eEnergy (kcal\\u002fmol)=%{y}\\u003cextra\\u003e\\u003c\\u002fextra\\u003e\",\"legendgroup\":\"6guk, no cyclin\",\"marker\":{\"color\":\"rgb(255,255,179)\",\"symbol\":\"x\",\"line\":{\"color\":\"DarkSlateGrey\",\"width\":1},\"size\":8},\"mode\":\"markers\",\"name\":\"6guk, no cyclin\",\"orientation\":\"v\",\"showlegend\":true,\"x\":[6.54,5.84,6.4,4.97,7.18,6.77,6.51,4.83,4.94,2.67,5.64,6.77,2.83,7.88],\"xaxis\":\"x\",\"y\":[-7.96,-7.57,-7.34,-8.28,-6.76,-6.33,-5.92,-5.63,-8.84,-9.29,-8.63,-8.97,-8.56,-8.58],\"yaxis\":\"y\",\"type\":\"scatter\"},{\"hovertemplate\":\"Receptor=4kd1\\u003cbr\\u003eReceptor Type=no cyclin\\u003cbr\\u003eRMSD=%{x}\\u003cbr\\u003eEnergy (kcal\\u002fmol)=%{y}\\u003cextra\\u003e\\u003c\\u002fextra\\u003e\",\"legendgroup\":\"4kd1, no cyclin\",\"marker\":{\"color\":\"rgb(190,186,218)\",\"symbol\":\"x\",\"line\":{\"color\":\"DarkSlateGrey\",\"width\":1},\"size\":8},\"mode\":\"markers\",\"name\":\"4kd1, no cyclin\",\"orientation\":\"v\",\"showlegend\":true,\"x\":[1.76,4.65,6.81],\"xaxis\":\"x\",\"y\":[-7.83,-6.7,-7.24],\"yaxis\":\"y\",\"type\":\"scatter\"},{\"hovertemplate\":\"Receptor=6guh\\u003cbr\\u003eReceptor Type=no cyclin\\u003cbr\\u003eRMSD=%{x}\\u003cbr\\u003eEnergy (kcal\\u002fmol)=%{y}\\u003cextra\\u003e\\u003c\\u002fextra\\u003e\",\"legendgroup\":\"6guh, no cyclin\",\"marker\":{\"color\":\"rgb(251,128,114)\",\"symbol\":\"x\",\"line\":{\"color\":\"DarkSlateGrey\",\"width\":1},\"size\":8},\"mode\":\"markers\",\"name\":\"6guh, no cyclin\",\"orientation\":\"v\",\"showlegend\":true,\"x\":[6.58,4.7,5.59,7.6,6.82,7.04,7.55,6.49,4.83,6.45,2.78],\"xaxis\":\"x\",\"y\":[-8.28,-8.29,-8.31,-7.39,-7.14,-6.49,-6.17,-5.71,-5.62,-7.76,-8.47],\"yaxis\":\"y\",\"type\":\"scatter\"},{\"hovertemplate\":\"Receptor=3pj8\\u003cbr\\u003eReceptor Type=no cyclin\\u003cbr\\u003eRMSD=%{x}\\u003cbr\\u003eEnergy (kcal\\u002fmol)=%{y}\\u003cextra\\u003e\\u003c\\u002fextra\\u003e\",\"legendgroup\":\"3pj8, no cyclin\",\"marker\":{\"color\":\"rgb(128,177,211)\",\"symbol\":\"x\",\"line\":{\"color\":\"DarkSlateGrey\",\"width\":1},\"size\":8},\"mode\":\"markers\",\"name\":\"3pj8, no cyclin\",\"orientation\":\"v\",\"showlegend\":true,\"x\":[1.73,5.73,7.76,6.44,6.98,4.21,2.35,2.47],\"xaxis\":\"x\",\"y\":[-9.81,-6.82,-6.41,-6.02,-8.34,-9.18,-8.97,-8.72],\"yaxis\":\"y\",\"type\":\"scatter\"},{\"hovertemplate\":\"Receptor=3ddq\\u003cbr\\u003eReceptor Type=with cyclin\\u003cbr\\u003eRMSD=%{x}\\u003cbr\\u003eEnergy (kcal\\u002fmol)=%{y}\\u003cextra\\u003e\\u003c\\u002fextra\\u003e\",\"legendgroup\":\"3ddq, with cyclin\",\"marker\":{\"color\":\"rgb(253,180,98)\",\"symbol\":\"triangle-up\",\"line\":{\"color\":\"DarkSlateGrey\",\"width\":1},\"size\":8},\"mode\":\"markers\",\"name\":\"3ddq, with cyclin\",\"orientation\":\"v\",\"showlegend\":true,\"x\":[3.77,7.79,6.55,7.51,6.6,5.94,6.47,3.29,4.14,4.82,5.75,6.42,2.94,5.6,6.61,6.24],\"xaxis\":\"x\",\"y\":[-6.86,-9.03,-6.19,-9.16,-9.37,-9.39,-7.14,-8.23,-7.97,-7.94,-7.79,-7.7,-7.23,-8.76,-7.3,-7.54],\"yaxis\":\"y\",\"type\":\"scatter\"},{\"hovertemplate\":\"Receptor=6guf\\u003cbr\\u003eReceptor Type=with cyclin\\u003cbr\\u003eRMSD=%{x}\\u003cbr\\u003eEnergy (kcal\\u002fmol)=%{y}\\u003cextra\\u003e\\u003c\\u002fextra\\u003e\",\"legendgroup\":\"6guf, with cyclin\",\"marker\":{\"color\":\"rgb(179,222,105)\",\"symbol\":\"triangle-up\",\"line\":{\"color\":\"DarkSlateGrey\",\"width\":1},\"size\":8},\"mode\":\"markers\",\"name\":\"6guf, with cyclin\",\"orientation\":\"v\",\"showlegend\":true,\"x\":[7.44,6.93,4.04,2.11,5.91,5.7,6.49,4.7,4.89,7.35,6.04,5.79,6.38,7.34,7.62],\"xaxis\":\"x\",\"y\":[-6.94,-6.57,-6.55,-9.17,-6.17,-5.91,-8.41,-8.28,-8.09,-7.84,-8.67,-7.64,-8.78,-7.33,-7.41],\"yaxis\":\"y\",\"type\":\"scatter\"},{\"hovertemplate\":\"Receptor=6gub\\u003cbr\\u003eReceptor Type=with cyclin\\u003cbr\\u003eRMSD=%{x}\\u003cbr\\u003eEnergy (kcal\\u002fmol)=%{y}\\u003cextra\\u003e\\u003c\\u002fextra\\u003e\",\"legendgroup\":\"6gub, with cyclin\",\"marker\":{\"color\":\"rgb(252,205,229)\",\"symbol\":\"triangle-up\",\"line\":{\"color\":\"DarkSlateGrey\",\"width\":1},\"size\":8},\"mode\":\"markers\",\"name\":\"6gub, with cyclin\",\"orientation\":\"v\",\"showlegend\":true,\"x\":[4.9,6.84,3.1,6.81,7.34,3.35,2.01,4.58,3.23,6.13,2.55,6.48,6.92,6.3,6.73,6.09,7.5,5.12,7.26],\"xaxis\":\"x\",\"y\":[-6.4,-6.94,-7.02,-9.02,-8.99,-7.11,-9.21,-9.39,-6.33,-8.5,-8.55,-8.01,-8.68,-7.59,-7.59,-8.44,-7.3,-7.36,-8.73],\"yaxis\":\"y\",\"type\":\"scatter\"},{\"hovertemplate\":\"Receptor=5l2w\\u003cbr\\u003eReceptor Type=with cyclin\\u003cbr\\u003eRMSD=%{x}\\u003cbr\\u003eEnergy (kcal\\u002fmol)=%{y}\\u003cextra\\u003e\\u003c\\u002fextra\\u003e\",\"legendgroup\":\"5l2w, with cyclin\",\"marker\":{\"color\":\"rgb(217,217,217)\",\"symbol\":\"triangle-up\",\"line\":{\"color\":\"DarkSlateGrey\",\"width\":1},\"size\":8},\"mode\":\"markers\",\"name\":\"5l2w, with cyclin\",\"orientation\":\"v\",\"showlegend\":true,\"x\":[5.19,6.84,1.84,6.98,6.19,3.15,2.91,5.17],\"xaxis\":\"x\",\"y\":[-9.14,-5.75,-9.57,-9.67,-8.1,-7.54,-8.74,-3.08],\"yaxis\":\"y\",\"type\":\"scatter\"},{\"hovertemplate\":\"Receptor=6gue\\u003cbr\\u003eReceptor Type=with cyclin\\u003cbr\\u003eRMSD=%{x}\\u003cbr\\u003eEnergy (kcal\\u002fmol)=%{y}\\u003cextra\\u003e\\u003c\\u002fextra\\u003e\",\"legendgroup\":\"6gue, with cyclin\",\"marker\":{\"color\":\"rgb(188,128,189)\",\"symbol\":\"triangle-up\",\"line\":{\"color\":\"DarkSlateGrey\",\"width\":1},\"size\":8},\"mode\":\"markers\",\"name\":\"6gue, with cyclin\",\"orientation\":\"v\",\"showlegend\":true,\"x\":[5.54,6.47,2.39,6.05,7.06],\"xaxis\":\"x\",\"y\":[-6.13,-9.4,-8.94,-8.91,-8.74],\"yaxis\":\"y\",\"type\":\"scatter\"}],                        {\"template\":{\"data\":{\"barpolar\":[{\"marker\":{\"line\":{\"color\":\"rgb(237,237,237)\",\"width\":0.5},\"pattern\":{\"fillmode\":\"overlay\",\"size\":10,\"solidity\":0.2}},\"type\":\"barpolar\"}],\"bar\":[{\"error_x\":{\"color\":\"rgb(51,51,51)\"},\"error_y\":{\"color\":\"rgb(51,51,51)\"},\"marker\":{\"line\":{\"color\":\"rgb(237,237,237)\",\"width\":0.5},\"pattern\":{\"fillmode\":\"overlay\",\"size\":10,\"solidity\":0.2}},\"type\":\"bar\"}],\"carpet\":[{\"aaxis\":{\"endlinecolor\":\"rgb(51,51,51)\",\"gridcolor\":\"white\",\"linecolor\":\"white\",\"minorgridcolor\":\"white\",\"startlinecolor\":\"rgb(51,51,51)\"},\"baxis\":{\"endlinecolor\":\"rgb(51,51,51)\",\"gridcolor\":\"white\",\"linecolor\":\"white\",\"minorgridcolor\":\"white\",\"startlinecolor\":\"rgb(51,51,51)\"},\"type\":\"carpet\"}],\"choropleth\":[{\"colorbar\":{\"outlinewidth\":0,\"tickcolor\":\"rgb(237,237,237)\",\"ticklen\":6,\"ticks\":\"inside\"},\"type\":\"choropleth\"}],\"contourcarpet\":[{\"colorbar\":{\"outlinewidth\":0,\"tickcolor\":\"rgb(237,237,237)\",\"ticklen\":6,\"ticks\":\"inside\"},\"type\":\"contourcarpet\"}],\"contour\":[{\"colorbar\":{\"outlinewidth\":0,\"tickcolor\":\"rgb(237,237,237)\",\"ticklen\":6,\"ticks\":\"inside\"},\"colorscale\":[[0,\"rgb(20,44,66)\"],[1,\"rgb(90,179,244)\"]],\"type\":\"contour\"}],\"heatmapgl\":[{\"colorbar\":{\"outlinewidth\":0,\"tickcolor\":\"rgb(237,237,237)\",\"ticklen\":6,\"ticks\":\"inside\"},\"colorscale\":[[0,\"rgb(20,44,66)\"],[1,\"rgb(90,179,244)\"]],\"type\":\"heatmapgl\"}],\"heatmap\":[{\"colorbar\":{\"outlinewidth\":0,\"tickcolor\":\"rgb(237,237,237)\",\"ticklen\":6,\"ticks\":\"inside\"},\"colorscale\":[[0,\"rgb(20,44,66)\"],[1,\"rgb(90,179,244)\"]],\"type\":\"heatmap\"}],\"histogram2dcontour\":[{\"colorbar\":{\"outlinewidth\":0,\"tickcolor\":\"rgb(237,237,237)\",\"ticklen\":6,\"ticks\":\"inside\"},\"colorscale\":[[0,\"rgb(20,44,66)\"],[1,\"rgb(90,179,244)\"]],\"type\":\"histogram2dcontour\"}],\"histogram2d\":[{\"colorbar\":{\"outlinewidth\":0,\"tickcolor\":\"rgb(237,237,237)\",\"ticklen\":6,\"ticks\":\"inside\"},\"colorscale\":[[0,\"rgb(20,44,66)\"],[1,\"rgb(90,179,244)\"]],\"type\":\"histogram2d\"}],\"histogram\":[{\"marker\":{\"pattern\":{\"fillmode\":\"overlay\",\"size\":10,\"solidity\":0.2}},\"type\":\"histogram\"}],\"mesh3d\":[{\"colorbar\":{\"outlinewidth\":0,\"tickcolor\":\"rgb(237,237,237)\",\"ticklen\":6,\"ticks\":\"inside\"},\"type\":\"mesh3d\"}],\"parcoords\":[{\"line\":{\"colorbar\":{\"outlinewidth\":0,\"tickcolor\":\"rgb(237,237,237)\",\"ticklen\":6,\"ticks\":\"inside\"}},\"type\":\"parcoords\"}],\"pie\":[{\"automargin\":true,\"type\":\"pie\"}],\"scatter3d\":[{\"line\":{\"colorbar\":{\"outlinewidth\":0,\"tickcolor\":\"rgb(237,237,237)\",\"ticklen\":6,\"ticks\":\"inside\"}},\"marker\":{\"colorbar\":{\"outlinewidth\":0,\"tickcolor\":\"rgb(237,237,237)\",\"ticklen\":6,\"ticks\":\"inside\"}},\"type\":\"scatter3d\"}],\"scattercarpet\":[{\"marker\":{\"colorbar\":{\"outlinewidth\":0,\"tickcolor\":\"rgb(237,237,237)\",\"ticklen\":6,\"ticks\":\"inside\"}},\"type\":\"scattercarpet\"}],\"scattergeo\":[{\"marker\":{\"colorbar\":{\"outlinewidth\":0,\"tickcolor\":\"rgb(237,237,237)\",\"ticklen\":6,\"ticks\":\"inside\"}},\"type\":\"scattergeo\"}],\"scattergl\":[{\"marker\":{\"colorbar\":{\"outlinewidth\":0,\"tickcolor\":\"rgb(237,237,237)\",\"ticklen\":6,\"ticks\":\"inside\"}},\"type\":\"scattergl\"}],\"scattermapbox\":[{\"marker\":{\"colorbar\":{\"outlinewidth\":0,\"tickcolor\":\"rgb(237,237,237)\",\"ticklen\":6,\"ticks\":\"inside\"}},\"type\":\"scattermapbox\"}],\"scatterpolargl\":[{\"marker\":{\"colorbar\":{\"outlinewidth\":0,\"tickcolor\":\"rgb(237,237,237)\",\"ticklen\":6,\"ticks\":\"inside\"}},\"type\":\"scatterpolargl\"}],\"scatterpolar\":[{\"marker\":{\"colorbar\":{\"outlinewidth\":0,\"tickcolor\":\"rgb(237,237,237)\",\"ticklen\":6,\"ticks\":\"inside\"}},\"type\":\"scatterpolar\"}],\"scatter\":[{\"fillpattern\":{\"fillmode\":\"overlay\",\"size\":10,\"solidity\":0.2},\"type\":\"scatter\"}],\"scatterternary\":[{\"marker\":{\"colorbar\":{\"outlinewidth\":0,\"tickcolor\":\"rgb(237,237,237)\",\"ticklen\":6,\"ticks\":\"inside\"}},\"type\":\"scatterternary\"}],\"surface\":[{\"colorbar\":{\"outlinewidth\":0,\"tickcolor\":\"rgb(237,237,237)\",\"ticklen\":6,\"ticks\":\"inside\"},\"colorscale\":[[0,\"rgb(20,44,66)\"],[1,\"rgb(90,179,244)\"]],\"type\":\"surface\"}],\"table\":[{\"cells\":{\"fill\":{\"color\":\"rgb(237,237,237)\"},\"line\":{\"color\":\"white\"}},\"header\":{\"fill\":{\"color\":\"rgb(217,217,217)\"},\"line\":{\"color\":\"white\"}},\"type\":\"table\"}]},\"layout\":{\"annotationdefaults\":{\"arrowhead\":0,\"arrowwidth\":1},\"autotypenumbers\":\"strict\",\"coloraxis\":{\"colorbar\":{\"outlinewidth\":0,\"tickcolor\":\"rgb(237,237,237)\",\"ticklen\":6,\"ticks\":\"inside\"}},\"colorscale\":{\"sequential\":[[0,\"rgb(20,44,66)\"],[1,\"rgb(90,179,244)\"]],\"sequentialminus\":[[0,\"rgb(20,44,66)\"],[1,\"rgb(90,179,244)\"]]},\"colorway\":[\"#F8766D\",\"#A3A500\",\"#00BF7D\",\"#00B0F6\",\"#E76BF3\"],\"font\":{\"color\":\"rgb(51,51,51)\"},\"geo\":{\"bgcolor\":\"white\",\"lakecolor\":\"white\",\"landcolor\":\"rgb(237,237,237)\",\"showlakes\":true,\"showland\":true,\"subunitcolor\":\"white\"},\"hoverlabel\":{\"align\":\"left\"},\"hovermode\":\"closest\",\"paper_bgcolor\":\"white\",\"plot_bgcolor\":\"rgb(237,237,237)\",\"polar\":{\"angularaxis\":{\"gridcolor\":\"white\",\"linecolor\":\"white\",\"showgrid\":true,\"tickcolor\":\"rgb(51,51,51)\",\"ticks\":\"outside\"},\"bgcolor\":\"rgb(237,237,237)\",\"radialaxis\":{\"gridcolor\":\"white\",\"linecolor\":\"white\",\"showgrid\":true,\"tickcolor\":\"rgb(51,51,51)\",\"ticks\":\"outside\"}},\"scene\":{\"xaxis\":{\"backgroundcolor\":\"rgb(237,237,237)\",\"gridcolor\":\"white\",\"gridwidth\":2,\"linecolor\":\"white\",\"showbackground\":true,\"showgrid\":true,\"tickcolor\":\"rgb(51,51,51)\",\"ticks\":\"outside\",\"zerolinecolor\":\"white\"},\"yaxis\":{\"backgroundcolor\":\"rgb(237,237,237)\",\"gridcolor\":\"white\",\"gridwidth\":2,\"linecolor\":\"white\",\"showbackground\":true,\"showgrid\":true,\"tickcolor\":\"rgb(51,51,51)\",\"ticks\":\"outside\",\"zerolinecolor\":\"white\"},\"zaxis\":{\"backgroundcolor\":\"rgb(237,237,237)\",\"gridcolor\":\"white\",\"gridwidth\":2,\"linecolor\":\"white\",\"showbackground\":true,\"showgrid\":true,\"tickcolor\":\"rgb(51,51,51)\",\"ticks\":\"outside\",\"zerolinecolor\":\"white\"}},\"shapedefaults\":{\"fillcolor\":\"black\",\"line\":{\"width\":0},\"opacity\":0.3},\"ternary\":{\"aaxis\":{\"gridcolor\":\"white\",\"linecolor\":\"white\",\"showgrid\":true,\"tickcolor\":\"rgb(51,51,51)\",\"ticks\":\"outside\"},\"baxis\":{\"gridcolor\":\"white\",\"linecolor\":\"white\",\"showgrid\":true,\"tickcolor\":\"rgb(51,51,51)\",\"ticks\":\"outside\"},\"bgcolor\":\"rgb(237,237,237)\",\"caxis\":{\"gridcolor\":\"white\",\"linecolor\":\"white\",\"showgrid\":true,\"tickcolor\":\"rgb(51,51,51)\",\"ticks\":\"outside\"}},\"xaxis\":{\"automargin\":true,\"gridcolor\":\"white\",\"linecolor\":\"white\",\"showgrid\":true,\"tickcolor\":\"rgb(51,51,51)\",\"ticks\":\"outside\",\"title\":{\"standoff\":15},\"zerolinecolor\":\"white\"},\"yaxis\":{\"automargin\":true,\"gridcolor\":\"white\",\"linecolor\":\"white\",\"showgrid\":true,\"tickcolor\":\"rgb(51,51,51)\",\"ticks\":\"outside\",\"title\":{\"standoff\":15},\"zerolinecolor\":\"white\"}}},\"xaxis\":{\"anchor\":\"y\",\"domain\":[0.0,1.0],\"title\":{\"text\":\"RMSD\"}},\"yaxis\":{\"anchor\":\"x\",\"domain\":[0.0,1.0],\"title\":{\"text\":\"Energy (kcal\\u002fmol)\"}},\"legend\":{\"title\":{\"text\":\"Receptor, Receptor Type\"},\"tracegroupgap\":0},\"margin\":{\"t\":60},\"title\":{\"text\":\"Ensemble docking of 3PJ8\"}},                        {\"responsive\": true}                    ).then(function(){\n",
       "                            \n",
       "var gd = document.getElementById('eaf524a7-2fc8-4107-8061-891f784a5e9d');\n",
       "var x = new MutationObserver(function (mutations, observer) {{\n",
       "        var display = window.getComputedStyle(gd).display;\n",
       "        if (!display || display === 'none') {{\n",
       "            console.log([gd, 'removed!']);\n",
       "            Plotly.purge(gd);\n",
       "            observer.disconnect();\n",
       "        }}\n",
       "}});\n",
       "\n",
       "// Listen for the removal of the full notebook cells\n",
       "var notebookContainer = gd.closest('#notebook-container');\n",
       "if (notebookContainer) {{\n",
       "    x.observe(notebookContainer, {childList: true});\n",
       "}}\n",
       "\n",
       "// Listen for the clearing of the current output cell\n",
       "var outputEl = gd.closest('.output');\n",
       "if (outputEl) {{\n",
       "    x.observe(outputEl, {childList: true});\n",
       "}}\n",
       "\n",
       "                        })                };                });            </script>        </div>"
      ]
     },
     "metadata": {},
     "output_type": "display_data"
    },
    {
     "data": {
      "application/vnd.plotly.v1+json": {
       "config": {
        "plotlyServerURL": "https://plot.ly"
       },
       "data": [
        {
         "hovertemplate": "Receptor=5a14<br>Receptor Type=DFG out<br>RMSD=%{x}<br>Energy (kcal/mol)=%{y}<extra></extra>",
         "legendgroup": "5a14, DFG out",
         "marker": {
          "color": "rgb(141,211,199)",
          "line": {
           "color": "DarkSlateGrey",
           "width": 1
          },
          "size": 8,
          "symbol": "circle"
         },
         "mode": "markers",
         "name": "5a14, DFG out",
         "orientation": "v",
         "showlegend": true,
         "type": "scatter",
         "x": [
          5.99,
          7.94,
          7.29,
          4.05,
          5.04,
          5.24,
          7.28,
          6.62,
          6.13,
          6.39,
          6.5
         ],
         "xaxis": "x",
         "y": [
          -2.05,
          -8.25,
          -7.65,
          -2.59,
          -7.75,
          -6.66,
          -6.38,
          -6.71,
          -6.03,
          -3.36,
          -3.71
         ],
         "yaxis": "y"
        },
        {
         "hovertemplate": "Receptor=4kd1<br>Receptor Type=no cyclin<br>RMSD=%{x}<br>Energy (kcal/mol)=%{y}<extra></extra>",
         "legendgroup": "4kd1, no cyclin",
         "marker": {
          "color": "rgb(255,255,179)",
          "line": {
           "color": "DarkSlateGrey",
           "width": 1
          },
          "size": 8,
          "symbol": "x"
         },
         "mode": "markers",
         "name": "4kd1, no cyclin",
         "orientation": "v",
         "showlegend": true,
         "type": "scatter",
         "x": [
          2.36,
          7.11,
          6.71,
          2.09
         ],
         "xaxis": "x",
         "y": [
          -6.2,
          -5.07,
          -7.25,
          -9.24
         ],
         "yaxis": "y"
        },
        {
         "hovertemplate": "Receptor=6guk<br>Receptor Type=no cyclin<br>RMSD=%{x}<br>Energy (kcal/mol)=%{y}<extra></extra>",
         "legendgroup": "6guk, no cyclin",
         "marker": {
          "color": "rgb(190,186,218)",
          "line": {
           "color": "DarkSlateGrey",
           "width": 1
          },
          "size": 8,
          "symbol": "x"
         },
         "mode": "markers",
         "name": "6guk, no cyclin",
         "orientation": "v",
         "showlegend": true,
         "type": "scatter",
         "x": [
          8.1,
          6.13,
          5.82,
          7.95,
          4.33,
          2.94,
          6.76,
          3.27,
          8.23,
          6.78,
          6.81,
          5.47,
          7.8,
          5.81,
          5.71
         ],
         "xaxis": "x",
         "y": [
          -7.73,
          -7.72,
          -6.98,
          -6.7,
          -5.97,
          -7.82,
          -7.5,
          -7.87,
          -8.91,
          -8.48,
          -9.03,
          -8.27,
          -8.19,
          -8.01,
          -7.92
         ],
         "yaxis": "y"
        },
        {
         "hovertemplate": "Receptor=3pj8<br>Receptor Type=no cyclin<br>RMSD=%{x}<br>Energy (kcal/mol)=%{y}<extra></extra>",
         "legendgroup": "3pj8, no cyclin",
         "marker": {
          "color": "rgb(251,128,114)",
          "line": {
           "color": "DarkSlateGrey",
           "width": 1
          },
          "size": 8,
          "symbol": "x"
         },
         "mode": "markers",
         "name": "3pj8, no cyclin",
         "orientation": "v",
         "showlegend": true,
         "type": "scatter",
         "x": [
          3.42,
          7.34,
          7.67,
          7.76,
          6.7,
          5.16,
          3.5
         ],
         "xaxis": "x",
         "y": [
          -7.7,
          -7.68,
          -7.54,
          -6.29,
          -6.2,
          -7.88,
          -8.6
         ],
         "yaxis": "y"
        },
        {
         "hovertemplate": "Receptor=6guh<br>Receptor Type=no cyclin<br>RMSD=%{x}<br>Energy (kcal/mol)=%{y}<extra></extra>",
         "legendgroup": "6guh, no cyclin",
         "marker": {
          "color": "rgb(128,177,211)",
          "line": {
           "color": "DarkSlateGrey",
           "width": 1
          },
          "size": 8,
          "symbol": "x"
         },
         "mode": "markers",
         "name": "6guh, no cyclin",
         "orientation": "v",
         "showlegend": true,
         "type": "scatter",
         "x": [
          8.11,
          3.5,
          7.78,
          5,
          5.28,
          2.8
         ],
         "xaxis": "x",
         "y": [
          -7.36,
          -7.17,
          -5.64,
          -6.29,
          -8.63,
          -8.58
         ],
         "yaxis": "y"
        },
        {
         "hovertemplate": "Receptor=6gue<br>Receptor Type=with cyclin<br>RMSD=%{x}<br>Energy (kcal/mol)=%{y}<extra></extra>",
         "legendgroup": "6gue, with cyclin",
         "marker": {
          "color": "rgb(253,180,98)",
          "line": {
           "color": "DarkSlateGrey",
           "width": 1
          },
          "size": 8,
          "symbol": "triangle-up"
         },
         "mode": "markers",
         "name": "6gue, with cyclin",
         "orientation": "v",
         "showlegend": true,
         "type": "scatter",
         "x": [
          4.48,
          4.57,
          7.95,
          5.9,
          7.36,
          5.68,
          6.92,
          4.83,
          7.57,
          7.1,
          6,
          7.4,
          7.34,
          7.1,
          3.08
         ],
         "xaxis": "x",
         "y": [
          -9.13,
          -8.62,
          -6.31,
          -6.26,
          -5.89,
          -4.88,
          -9.03,
          -6.72,
          -7.81,
          -7.79,
          -7.61,
          -8.4,
          -8.49,
          -7.14,
          -7.1
         ],
         "yaxis": "y"
        },
        {
         "hovertemplate": "Receptor=6gub<br>Receptor Type=with cyclin<br>RMSD=%{x}<br>Energy (kcal/mol)=%{y}<extra></extra>",
         "legendgroup": "6gub, with cyclin",
         "marker": {
          "color": "rgb(179,222,105)",
          "line": {
           "color": "DarkSlateGrey",
           "width": 1
          },
          "size": 8,
          "symbol": "triangle-up"
         },
         "mode": "markers",
         "name": "6gub, with cyclin",
         "orientation": "v",
         "showlegend": true,
         "type": "scatter",
         "x": [
          7.34,
          5.53,
          4.04,
          1.9,
          7.13,
          6.79,
          6.75,
          6.74,
          5.92,
          7.44,
          7.11,
          4.76,
          7.54
         ],
         "xaxis": "x",
         "y": [
          -9.28,
          -6.26,
          -6.1,
          -7.63,
          -8.3,
          -8.32,
          -7.37,
          -8.54,
          -7.28,
          -7.18,
          -8.54,
          -6.96,
          -6.83
         ],
         "yaxis": "y"
        },
        {
         "hovertemplate": "Receptor=5l2w<br>Receptor Type=with cyclin<br>RMSD=%{x}<br>Energy (kcal/mol)=%{y}<extra></extra>",
         "legendgroup": "5l2w, with cyclin",
         "marker": {
          "color": "rgb(252,205,229)",
          "line": {
           "color": "DarkSlateGrey",
           "width": 1
          },
          "size": 8,
          "symbol": "triangle-up"
         },
         "mode": "markers",
         "name": "5l2w, with cyclin",
         "orientation": "v",
         "showlegend": true,
         "type": "scatter",
         "x": [
          6.56,
          5.53,
          2.39
         ],
         "xaxis": "x",
         "y": [
          -8.64,
          -7.34,
          -9.45
         ],
         "yaxis": "y"
        },
        {
         "hovertemplate": "Receptor=6guf<br>Receptor Type=with cyclin<br>RMSD=%{x}<br>Energy (kcal/mol)=%{y}<extra></extra>",
         "legendgroup": "6guf, with cyclin",
         "marker": {
          "color": "rgb(217,217,217)",
          "line": {
           "color": "DarkSlateGrey",
           "width": 1
          },
          "size": 8,
          "symbol": "triangle-up"
         },
         "mode": "markers",
         "name": "6guf, with cyclin",
         "orientation": "v",
         "showlegend": true,
         "type": "scatter",
         "x": [
          1.64,
          7.55,
          6.67,
          5.64,
          6.51,
          6.77,
          6.91,
          5.46,
          4.51,
          7.49
         ],
         "xaxis": "x",
         "y": [
          -8.93,
          -6.16,
          -4.73,
          -5.76,
          -9.06,
          -6.87,
          -8.23,
          -7.41,
          -6.97,
          -6.88
         ],
         "yaxis": "y"
        },
        {
         "hovertemplate": "Receptor=3ddq<br>Receptor Type=with cyclin<br>RMSD=%{x}<br>Energy (kcal/mol)=%{y}<extra></extra>",
         "legendgroup": "3ddq, with cyclin",
         "marker": {
          "color": "rgb(188,128,189)",
          "line": {
           "color": "DarkSlateGrey",
           "width": 1
          },
          "size": 8,
          "symbol": "triangle-up"
         },
         "mode": "markers",
         "name": "3ddq, with cyclin",
         "orientation": "v",
         "showlegend": true,
         "type": "scatter",
         "x": [
          3.36,
          7.69
         ],
         "xaxis": "x",
         "y": [
          -5.96,
          -8.25
         ],
         "yaxis": "y"
        }
       ],
       "layout": {
        "legend": {
         "title": {
          "text": "Receptor, Receptor Type"
         },
         "tracegroupgap": 0
        },
        "margin": {
         "t": 60
        },
        "template": {
         "data": {
          "bar": [
           {
            "error_x": {
             "color": "rgb(51,51,51)"
            },
            "error_y": {
             "color": "rgb(51,51,51)"
            },
            "marker": {
             "line": {
              "color": "rgb(237,237,237)",
              "width": 0.5
             },
             "pattern": {
              "fillmode": "overlay",
              "size": 10,
              "solidity": 0.2
             }
            },
            "type": "bar"
           }
          ],
          "barpolar": [
           {
            "marker": {
             "line": {
              "color": "rgb(237,237,237)",
              "width": 0.5
             },
             "pattern": {
              "fillmode": "overlay",
              "size": 10,
              "solidity": 0.2
             }
            },
            "type": "barpolar"
           }
          ],
          "carpet": [
           {
            "aaxis": {
             "endlinecolor": "rgb(51,51,51)",
             "gridcolor": "white",
             "linecolor": "white",
             "minorgridcolor": "white",
             "startlinecolor": "rgb(51,51,51)"
            },
            "baxis": {
             "endlinecolor": "rgb(51,51,51)",
             "gridcolor": "white",
             "linecolor": "white",
             "minorgridcolor": "white",
             "startlinecolor": "rgb(51,51,51)"
            },
            "type": "carpet"
           }
          ],
          "choropleth": [
           {
            "colorbar": {
             "outlinewidth": 0,
             "tickcolor": "rgb(237,237,237)",
             "ticklen": 6,
             "ticks": "inside"
            },
            "type": "choropleth"
           }
          ],
          "contour": [
           {
            "colorbar": {
             "outlinewidth": 0,
             "tickcolor": "rgb(237,237,237)",
             "ticklen": 6,
             "ticks": "inside"
            },
            "colorscale": [
             [
              0,
              "rgb(20,44,66)"
             ],
             [
              1,
              "rgb(90,179,244)"
             ]
            ],
            "type": "contour"
           }
          ],
          "contourcarpet": [
           {
            "colorbar": {
             "outlinewidth": 0,
             "tickcolor": "rgb(237,237,237)",
             "ticklen": 6,
             "ticks": "inside"
            },
            "type": "contourcarpet"
           }
          ],
          "heatmap": [
           {
            "colorbar": {
             "outlinewidth": 0,
             "tickcolor": "rgb(237,237,237)",
             "ticklen": 6,
             "ticks": "inside"
            },
            "colorscale": [
             [
              0,
              "rgb(20,44,66)"
             ],
             [
              1,
              "rgb(90,179,244)"
             ]
            ],
            "type": "heatmap"
           }
          ],
          "heatmapgl": [
           {
            "colorbar": {
             "outlinewidth": 0,
             "tickcolor": "rgb(237,237,237)",
             "ticklen": 6,
             "ticks": "inside"
            },
            "colorscale": [
             [
              0,
              "rgb(20,44,66)"
             ],
             [
              1,
              "rgb(90,179,244)"
             ]
            ],
            "type": "heatmapgl"
           }
          ],
          "histogram": [
           {
            "marker": {
             "pattern": {
              "fillmode": "overlay",
              "size": 10,
              "solidity": 0.2
             }
            },
            "type": "histogram"
           }
          ],
          "histogram2d": [
           {
            "colorbar": {
             "outlinewidth": 0,
             "tickcolor": "rgb(237,237,237)",
             "ticklen": 6,
             "ticks": "inside"
            },
            "colorscale": [
             [
              0,
              "rgb(20,44,66)"
             ],
             [
              1,
              "rgb(90,179,244)"
             ]
            ],
            "type": "histogram2d"
           }
          ],
          "histogram2dcontour": [
           {
            "colorbar": {
             "outlinewidth": 0,
             "tickcolor": "rgb(237,237,237)",
             "ticklen": 6,
             "ticks": "inside"
            },
            "colorscale": [
             [
              0,
              "rgb(20,44,66)"
             ],
             [
              1,
              "rgb(90,179,244)"
             ]
            ],
            "type": "histogram2dcontour"
           }
          ],
          "mesh3d": [
           {
            "colorbar": {
             "outlinewidth": 0,
             "tickcolor": "rgb(237,237,237)",
             "ticklen": 6,
             "ticks": "inside"
            },
            "type": "mesh3d"
           }
          ],
          "parcoords": [
           {
            "line": {
             "colorbar": {
              "outlinewidth": 0,
              "tickcolor": "rgb(237,237,237)",
              "ticklen": 6,
              "ticks": "inside"
             }
            },
            "type": "parcoords"
           }
          ],
          "pie": [
           {
            "automargin": true,
            "type": "pie"
           }
          ],
          "scatter": [
           {
            "fillpattern": {
             "fillmode": "overlay",
             "size": 10,
             "solidity": 0.2
            },
            "type": "scatter"
           }
          ],
          "scatter3d": [
           {
            "line": {
             "colorbar": {
              "outlinewidth": 0,
              "tickcolor": "rgb(237,237,237)",
              "ticklen": 6,
              "ticks": "inside"
             }
            },
            "marker": {
             "colorbar": {
              "outlinewidth": 0,
              "tickcolor": "rgb(237,237,237)",
              "ticklen": 6,
              "ticks": "inside"
             }
            },
            "type": "scatter3d"
           }
          ],
          "scattercarpet": [
           {
            "marker": {
             "colorbar": {
              "outlinewidth": 0,
              "tickcolor": "rgb(237,237,237)",
              "ticklen": 6,
              "ticks": "inside"
             }
            },
            "type": "scattercarpet"
           }
          ],
          "scattergeo": [
           {
            "marker": {
             "colorbar": {
              "outlinewidth": 0,
              "tickcolor": "rgb(237,237,237)",
              "ticklen": 6,
              "ticks": "inside"
             }
            },
            "type": "scattergeo"
           }
          ],
          "scattergl": [
           {
            "marker": {
             "colorbar": {
              "outlinewidth": 0,
              "tickcolor": "rgb(237,237,237)",
              "ticklen": 6,
              "ticks": "inside"
             }
            },
            "type": "scattergl"
           }
          ],
          "scattermapbox": [
           {
            "marker": {
             "colorbar": {
              "outlinewidth": 0,
              "tickcolor": "rgb(237,237,237)",
              "ticklen": 6,
              "ticks": "inside"
             }
            },
            "type": "scattermapbox"
           }
          ],
          "scatterpolar": [
           {
            "marker": {
             "colorbar": {
              "outlinewidth": 0,
              "tickcolor": "rgb(237,237,237)",
              "ticklen": 6,
              "ticks": "inside"
             }
            },
            "type": "scatterpolar"
           }
          ],
          "scatterpolargl": [
           {
            "marker": {
             "colorbar": {
              "outlinewidth": 0,
              "tickcolor": "rgb(237,237,237)",
              "ticklen": 6,
              "ticks": "inside"
             }
            },
            "type": "scatterpolargl"
           }
          ],
          "scatterternary": [
           {
            "marker": {
             "colorbar": {
              "outlinewidth": 0,
              "tickcolor": "rgb(237,237,237)",
              "ticklen": 6,
              "ticks": "inside"
             }
            },
            "type": "scatterternary"
           }
          ],
          "surface": [
           {
            "colorbar": {
             "outlinewidth": 0,
             "tickcolor": "rgb(237,237,237)",
             "ticklen": 6,
             "ticks": "inside"
            },
            "colorscale": [
             [
              0,
              "rgb(20,44,66)"
             ],
             [
              1,
              "rgb(90,179,244)"
             ]
            ],
            "type": "surface"
           }
          ],
          "table": [
           {
            "cells": {
             "fill": {
              "color": "rgb(237,237,237)"
             },
             "line": {
              "color": "white"
             }
            },
            "header": {
             "fill": {
              "color": "rgb(217,217,217)"
             },
             "line": {
              "color": "white"
             }
            },
            "type": "table"
           }
          ]
         },
         "layout": {
          "annotationdefaults": {
           "arrowhead": 0,
           "arrowwidth": 1
          },
          "autotypenumbers": "strict",
          "coloraxis": {
           "colorbar": {
            "outlinewidth": 0,
            "tickcolor": "rgb(237,237,237)",
            "ticklen": 6,
            "ticks": "inside"
           }
          },
          "colorscale": {
           "sequential": [
            [
             0,
             "rgb(20,44,66)"
            ],
            [
             1,
             "rgb(90,179,244)"
            ]
           ],
           "sequentialminus": [
            [
             0,
             "rgb(20,44,66)"
            ],
            [
             1,
             "rgb(90,179,244)"
            ]
           ]
          },
          "colorway": [
           "#F8766D",
           "#A3A500",
           "#00BF7D",
           "#00B0F6",
           "#E76BF3"
          ],
          "font": {
           "color": "rgb(51,51,51)"
          },
          "geo": {
           "bgcolor": "white",
           "lakecolor": "white",
           "landcolor": "rgb(237,237,237)",
           "showlakes": true,
           "showland": true,
           "subunitcolor": "white"
          },
          "hoverlabel": {
           "align": "left"
          },
          "hovermode": "closest",
          "paper_bgcolor": "white",
          "plot_bgcolor": "rgb(237,237,237)",
          "polar": {
           "angularaxis": {
            "gridcolor": "white",
            "linecolor": "white",
            "showgrid": true,
            "tickcolor": "rgb(51,51,51)",
            "ticks": "outside"
           },
           "bgcolor": "rgb(237,237,237)",
           "radialaxis": {
            "gridcolor": "white",
            "linecolor": "white",
            "showgrid": true,
            "tickcolor": "rgb(51,51,51)",
            "ticks": "outside"
           }
          },
          "scene": {
           "xaxis": {
            "backgroundcolor": "rgb(237,237,237)",
            "gridcolor": "white",
            "gridwidth": 2,
            "linecolor": "white",
            "showbackground": true,
            "showgrid": true,
            "tickcolor": "rgb(51,51,51)",
            "ticks": "outside",
            "zerolinecolor": "white"
           },
           "yaxis": {
            "backgroundcolor": "rgb(237,237,237)",
            "gridcolor": "white",
            "gridwidth": 2,
            "linecolor": "white",
            "showbackground": true,
            "showgrid": true,
            "tickcolor": "rgb(51,51,51)",
            "ticks": "outside",
            "zerolinecolor": "white"
           },
           "zaxis": {
            "backgroundcolor": "rgb(237,237,237)",
            "gridcolor": "white",
            "gridwidth": 2,
            "linecolor": "white",
            "showbackground": true,
            "showgrid": true,
            "tickcolor": "rgb(51,51,51)",
            "ticks": "outside",
            "zerolinecolor": "white"
           }
          },
          "shapedefaults": {
           "fillcolor": "black",
           "line": {
            "width": 0
           },
           "opacity": 0.3
          },
          "ternary": {
           "aaxis": {
            "gridcolor": "white",
            "linecolor": "white",
            "showgrid": true,
            "tickcolor": "rgb(51,51,51)",
            "ticks": "outside"
           },
           "baxis": {
            "gridcolor": "white",
            "linecolor": "white",
            "showgrid": true,
            "tickcolor": "rgb(51,51,51)",
            "ticks": "outside"
           },
           "bgcolor": "rgb(237,237,237)",
           "caxis": {
            "gridcolor": "white",
            "linecolor": "white",
            "showgrid": true,
            "tickcolor": "rgb(51,51,51)",
            "ticks": "outside"
           }
          },
          "xaxis": {
           "automargin": true,
           "gridcolor": "white",
           "linecolor": "white",
           "showgrid": true,
           "tickcolor": "rgb(51,51,51)",
           "ticks": "outside",
           "title": {
            "standoff": 15
           },
           "zerolinecolor": "white"
          },
          "yaxis": {
           "automargin": true,
           "gridcolor": "white",
           "linecolor": "white",
           "showgrid": true,
           "tickcolor": "rgb(51,51,51)",
           "ticks": "outside",
           "title": {
            "standoff": 15
           },
           "zerolinecolor": "white"
          }
         }
        },
        "title": {
         "text": "Ensemble docking of 3DDQ"
        },
        "xaxis": {
         "anchor": "y",
         "domain": [
          0,
          1
         ],
         "title": {
          "text": "RMSD"
         }
        },
        "yaxis": {
         "anchor": "x",
         "domain": [
          0,
          1
         ],
         "title": {
          "text": "Energy (kcal/mol)"
         }
        }
       }
      },
      "text/html": [
       "<div>                            <div id=\"bd22bd07-ddf3-47fa-b1f5-0f5fb0b7f8fd\" class=\"plotly-graph-div\" style=\"height:525px; width:100%;\"></div>            <script type=\"text/javascript\">                require([\"plotly\"], function(Plotly) {                    window.PLOTLYENV=window.PLOTLYENV || {};                                    if (document.getElementById(\"bd22bd07-ddf3-47fa-b1f5-0f5fb0b7f8fd\")) {                    Plotly.newPlot(                        \"bd22bd07-ddf3-47fa-b1f5-0f5fb0b7f8fd\",                        [{\"hovertemplate\":\"Receptor=5a14\\u003cbr\\u003eReceptor Type=DFG out\\u003cbr\\u003eRMSD=%{x}\\u003cbr\\u003eEnergy (kcal\\u002fmol)=%{y}\\u003cextra\\u003e\\u003c\\u002fextra\\u003e\",\"legendgroup\":\"5a14, DFG out\",\"marker\":{\"color\":\"rgb(141,211,199)\",\"symbol\":\"circle\",\"line\":{\"color\":\"DarkSlateGrey\",\"width\":1},\"size\":8},\"mode\":\"markers\",\"name\":\"5a14, DFG out\",\"orientation\":\"v\",\"showlegend\":true,\"x\":[5.99,7.94,7.29,4.05,5.04,5.24,7.28,6.62,6.13,6.39,6.5],\"xaxis\":\"x\",\"y\":[-2.05,-8.25,-7.65,-2.59,-7.75,-6.66,-6.38,-6.71,-6.03,-3.36,-3.71],\"yaxis\":\"y\",\"type\":\"scatter\"},{\"hovertemplate\":\"Receptor=4kd1\\u003cbr\\u003eReceptor Type=no cyclin\\u003cbr\\u003eRMSD=%{x}\\u003cbr\\u003eEnergy (kcal\\u002fmol)=%{y}\\u003cextra\\u003e\\u003c\\u002fextra\\u003e\",\"legendgroup\":\"4kd1, no cyclin\",\"marker\":{\"color\":\"rgb(255,255,179)\",\"symbol\":\"x\",\"line\":{\"color\":\"DarkSlateGrey\",\"width\":1},\"size\":8},\"mode\":\"markers\",\"name\":\"4kd1, no cyclin\",\"orientation\":\"v\",\"showlegend\":true,\"x\":[2.36,7.11,6.71,2.09],\"xaxis\":\"x\",\"y\":[-6.2,-5.07,-7.25,-9.24],\"yaxis\":\"y\",\"type\":\"scatter\"},{\"hovertemplate\":\"Receptor=6guk\\u003cbr\\u003eReceptor Type=no cyclin\\u003cbr\\u003eRMSD=%{x}\\u003cbr\\u003eEnergy (kcal\\u002fmol)=%{y}\\u003cextra\\u003e\\u003c\\u002fextra\\u003e\",\"legendgroup\":\"6guk, no cyclin\",\"marker\":{\"color\":\"rgb(190,186,218)\",\"symbol\":\"x\",\"line\":{\"color\":\"DarkSlateGrey\",\"width\":1},\"size\":8},\"mode\":\"markers\",\"name\":\"6guk, no cyclin\",\"orientation\":\"v\",\"showlegend\":true,\"x\":[8.1,6.13,5.82,7.95,4.33,2.94,6.76,3.27,8.23,6.78,6.81,5.47,7.8,5.81,5.71],\"xaxis\":\"x\",\"y\":[-7.73,-7.72,-6.98,-6.7,-5.97,-7.82,-7.5,-7.87,-8.91,-8.48,-9.03,-8.27,-8.19,-8.01,-7.92],\"yaxis\":\"y\",\"type\":\"scatter\"},{\"hovertemplate\":\"Receptor=3pj8\\u003cbr\\u003eReceptor Type=no cyclin\\u003cbr\\u003eRMSD=%{x}\\u003cbr\\u003eEnergy (kcal\\u002fmol)=%{y}\\u003cextra\\u003e\\u003c\\u002fextra\\u003e\",\"legendgroup\":\"3pj8, no cyclin\",\"marker\":{\"color\":\"rgb(251,128,114)\",\"symbol\":\"x\",\"line\":{\"color\":\"DarkSlateGrey\",\"width\":1},\"size\":8},\"mode\":\"markers\",\"name\":\"3pj8, no cyclin\",\"orientation\":\"v\",\"showlegend\":true,\"x\":[3.42,7.34,7.67,7.76,6.7,5.16,3.5],\"xaxis\":\"x\",\"y\":[-7.7,-7.68,-7.54,-6.29,-6.2,-7.88,-8.6],\"yaxis\":\"y\",\"type\":\"scatter\"},{\"hovertemplate\":\"Receptor=6guh\\u003cbr\\u003eReceptor Type=no cyclin\\u003cbr\\u003eRMSD=%{x}\\u003cbr\\u003eEnergy (kcal\\u002fmol)=%{y}\\u003cextra\\u003e\\u003c\\u002fextra\\u003e\",\"legendgroup\":\"6guh, no cyclin\",\"marker\":{\"color\":\"rgb(128,177,211)\",\"symbol\":\"x\",\"line\":{\"color\":\"DarkSlateGrey\",\"width\":1},\"size\":8},\"mode\":\"markers\",\"name\":\"6guh, no cyclin\",\"orientation\":\"v\",\"showlegend\":true,\"x\":[8.11,3.5,7.78,5.0,5.28,2.8],\"xaxis\":\"x\",\"y\":[-7.36,-7.17,-5.64,-6.29,-8.63,-8.58],\"yaxis\":\"y\",\"type\":\"scatter\"},{\"hovertemplate\":\"Receptor=6gue\\u003cbr\\u003eReceptor Type=with cyclin\\u003cbr\\u003eRMSD=%{x}\\u003cbr\\u003eEnergy (kcal\\u002fmol)=%{y}\\u003cextra\\u003e\\u003c\\u002fextra\\u003e\",\"legendgroup\":\"6gue, with cyclin\",\"marker\":{\"color\":\"rgb(253,180,98)\",\"symbol\":\"triangle-up\",\"line\":{\"color\":\"DarkSlateGrey\",\"width\":1},\"size\":8},\"mode\":\"markers\",\"name\":\"6gue, with cyclin\",\"orientation\":\"v\",\"showlegend\":true,\"x\":[4.48,4.57,7.95,5.9,7.36,5.68,6.92,4.83,7.57,7.1,6.0,7.4,7.34,7.1,3.08],\"xaxis\":\"x\",\"y\":[-9.13,-8.62,-6.31,-6.26,-5.89,-4.88,-9.03,-6.72,-7.81,-7.79,-7.61,-8.4,-8.49,-7.14,-7.1],\"yaxis\":\"y\",\"type\":\"scatter\"},{\"hovertemplate\":\"Receptor=6gub\\u003cbr\\u003eReceptor Type=with cyclin\\u003cbr\\u003eRMSD=%{x}\\u003cbr\\u003eEnergy (kcal\\u002fmol)=%{y}\\u003cextra\\u003e\\u003c\\u002fextra\\u003e\",\"legendgroup\":\"6gub, with cyclin\",\"marker\":{\"color\":\"rgb(179,222,105)\",\"symbol\":\"triangle-up\",\"line\":{\"color\":\"DarkSlateGrey\",\"width\":1},\"size\":8},\"mode\":\"markers\",\"name\":\"6gub, with cyclin\",\"orientation\":\"v\",\"showlegend\":true,\"x\":[7.34,5.53,4.04,1.9,7.13,6.79,6.75,6.74,5.92,7.44,7.11,4.76,7.54],\"xaxis\":\"x\",\"y\":[-9.28,-6.26,-6.1,-7.63,-8.3,-8.32,-7.37,-8.54,-7.28,-7.18,-8.54,-6.96,-6.83],\"yaxis\":\"y\",\"type\":\"scatter\"},{\"hovertemplate\":\"Receptor=5l2w\\u003cbr\\u003eReceptor Type=with cyclin\\u003cbr\\u003eRMSD=%{x}\\u003cbr\\u003eEnergy (kcal\\u002fmol)=%{y}\\u003cextra\\u003e\\u003c\\u002fextra\\u003e\",\"legendgroup\":\"5l2w, with cyclin\",\"marker\":{\"color\":\"rgb(252,205,229)\",\"symbol\":\"triangle-up\",\"line\":{\"color\":\"DarkSlateGrey\",\"width\":1},\"size\":8},\"mode\":\"markers\",\"name\":\"5l2w, with cyclin\",\"orientation\":\"v\",\"showlegend\":true,\"x\":[6.56,5.53,2.39],\"xaxis\":\"x\",\"y\":[-8.64,-7.34,-9.45],\"yaxis\":\"y\",\"type\":\"scatter\"},{\"hovertemplate\":\"Receptor=6guf\\u003cbr\\u003eReceptor Type=with cyclin\\u003cbr\\u003eRMSD=%{x}\\u003cbr\\u003eEnergy (kcal\\u002fmol)=%{y}\\u003cextra\\u003e\\u003c\\u002fextra\\u003e\",\"legendgroup\":\"6guf, with cyclin\",\"marker\":{\"color\":\"rgb(217,217,217)\",\"symbol\":\"triangle-up\",\"line\":{\"color\":\"DarkSlateGrey\",\"width\":1},\"size\":8},\"mode\":\"markers\",\"name\":\"6guf, with cyclin\",\"orientation\":\"v\",\"showlegend\":true,\"x\":[1.64,7.55,6.67,5.64,6.51,6.77,6.91,5.46,4.51,7.49],\"xaxis\":\"x\",\"y\":[-8.93,-6.16,-4.73,-5.76,-9.06,-6.87,-8.23,-7.41,-6.97,-6.88],\"yaxis\":\"y\",\"type\":\"scatter\"},{\"hovertemplate\":\"Receptor=3ddq\\u003cbr\\u003eReceptor Type=with cyclin\\u003cbr\\u003eRMSD=%{x}\\u003cbr\\u003eEnergy (kcal\\u002fmol)=%{y}\\u003cextra\\u003e\\u003c\\u002fextra\\u003e\",\"legendgroup\":\"3ddq, with cyclin\",\"marker\":{\"color\":\"rgb(188,128,189)\",\"symbol\":\"triangle-up\",\"line\":{\"color\":\"DarkSlateGrey\",\"width\":1},\"size\":8},\"mode\":\"markers\",\"name\":\"3ddq, with cyclin\",\"orientation\":\"v\",\"showlegend\":true,\"x\":[3.36,7.69],\"xaxis\":\"x\",\"y\":[-5.96,-8.25],\"yaxis\":\"y\",\"type\":\"scatter\"}],                        {\"template\":{\"data\":{\"barpolar\":[{\"marker\":{\"line\":{\"color\":\"rgb(237,237,237)\",\"width\":0.5},\"pattern\":{\"fillmode\":\"overlay\",\"size\":10,\"solidity\":0.2}},\"type\":\"barpolar\"}],\"bar\":[{\"error_x\":{\"color\":\"rgb(51,51,51)\"},\"error_y\":{\"color\":\"rgb(51,51,51)\"},\"marker\":{\"line\":{\"color\":\"rgb(237,237,237)\",\"width\":0.5},\"pattern\":{\"fillmode\":\"overlay\",\"size\":10,\"solidity\":0.2}},\"type\":\"bar\"}],\"carpet\":[{\"aaxis\":{\"endlinecolor\":\"rgb(51,51,51)\",\"gridcolor\":\"white\",\"linecolor\":\"white\",\"minorgridcolor\":\"white\",\"startlinecolor\":\"rgb(51,51,51)\"},\"baxis\":{\"endlinecolor\":\"rgb(51,51,51)\",\"gridcolor\":\"white\",\"linecolor\":\"white\",\"minorgridcolor\":\"white\",\"startlinecolor\":\"rgb(51,51,51)\"},\"type\":\"carpet\"}],\"choropleth\":[{\"colorbar\":{\"outlinewidth\":0,\"tickcolor\":\"rgb(237,237,237)\",\"ticklen\":6,\"ticks\":\"inside\"},\"type\":\"choropleth\"}],\"contourcarpet\":[{\"colorbar\":{\"outlinewidth\":0,\"tickcolor\":\"rgb(237,237,237)\",\"ticklen\":6,\"ticks\":\"inside\"},\"type\":\"contourcarpet\"}],\"contour\":[{\"colorbar\":{\"outlinewidth\":0,\"tickcolor\":\"rgb(237,237,237)\",\"ticklen\":6,\"ticks\":\"inside\"},\"colorscale\":[[0,\"rgb(20,44,66)\"],[1,\"rgb(90,179,244)\"]],\"type\":\"contour\"}],\"heatmapgl\":[{\"colorbar\":{\"outlinewidth\":0,\"tickcolor\":\"rgb(237,237,237)\",\"ticklen\":6,\"ticks\":\"inside\"},\"colorscale\":[[0,\"rgb(20,44,66)\"],[1,\"rgb(90,179,244)\"]],\"type\":\"heatmapgl\"}],\"heatmap\":[{\"colorbar\":{\"outlinewidth\":0,\"tickcolor\":\"rgb(237,237,237)\",\"ticklen\":6,\"ticks\":\"inside\"},\"colorscale\":[[0,\"rgb(20,44,66)\"],[1,\"rgb(90,179,244)\"]],\"type\":\"heatmap\"}],\"histogram2dcontour\":[{\"colorbar\":{\"outlinewidth\":0,\"tickcolor\":\"rgb(237,237,237)\",\"ticklen\":6,\"ticks\":\"inside\"},\"colorscale\":[[0,\"rgb(20,44,66)\"],[1,\"rgb(90,179,244)\"]],\"type\":\"histogram2dcontour\"}],\"histogram2d\":[{\"colorbar\":{\"outlinewidth\":0,\"tickcolor\":\"rgb(237,237,237)\",\"ticklen\":6,\"ticks\":\"inside\"},\"colorscale\":[[0,\"rgb(20,44,66)\"],[1,\"rgb(90,179,244)\"]],\"type\":\"histogram2d\"}],\"histogram\":[{\"marker\":{\"pattern\":{\"fillmode\":\"overlay\",\"size\":10,\"solidity\":0.2}},\"type\":\"histogram\"}],\"mesh3d\":[{\"colorbar\":{\"outlinewidth\":0,\"tickcolor\":\"rgb(237,237,237)\",\"ticklen\":6,\"ticks\":\"inside\"},\"type\":\"mesh3d\"}],\"parcoords\":[{\"line\":{\"colorbar\":{\"outlinewidth\":0,\"tickcolor\":\"rgb(237,237,237)\",\"ticklen\":6,\"ticks\":\"inside\"}},\"type\":\"parcoords\"}],\"pie\":[{\"automargin\":true,\"type\":\"pie\"}],\"scatter3d\":[{\"line\":{\"colorbar\":{\"outlinewidth\":0,\"tickcolor\":\"rgb(237,237,237)\",\"ticklen\":6,\"ticks\":\"inside\"}},\"marker\":{\"colorbar\":{\"outlinewidth\":0,\"tickcolor\":\"rgb(237,237,237)\",\"ticklen\":6,\"ticks\":\"inside\"}},\"type\":\"scatter3d\"}],\"scattercarpet\":[{\"marker\":{\"colorbar\":{\"outlinewidth\":0,\"tickcolor\":\"rgb(237,237,237)\",\"ticklen\":6,\"ticks\":\"inside\"}},\"type\":\"scattercarpet\"}],\"scattergeo\":[{\"marker\":{\"colorbar\":{\"outlinewidth\":0,\"tickcolor\":\"rgb(237,237,237)\",\"ticklen\":6,\"ticks\":\"inside\"}},\"type\":\"scattergeo\"}],\"scattergl\":[{\"marker\":{\"colorbar\":{\"outlinewidth\":0,\"tickcolor\":\"rgb(237,237,237)\",\"ticklen\":6,\"ticks\":\"inside\"}},\"type\":\"scattergl\"}],\"scattermapbox\":[{\"marker\":{\"colorbar\":{\"outlinewidth\":0,\"tickcolor\":\"rgb(237,237,237)\",\"ticklen\":6,\"ticks\":\"inside\"}},\"type\":\"scattermapbox\"}],\"scatterpolargl\":[{\"marker\":{\"colorbar\":{\"outlinewidth\":0,\"tickcolor\":\"rgb(237,237,237)\",\"ticklen\":6,\"ticks\":\"inside\"}},\"type\":\"scatterpolargl\"}],\"scatterpolar\":[{\"marker\":{\"colorbar\":{\"outlinewidth\":0,\"tickcolor\":\"rgb(237,237,237)\",\"ticklen\":6,\"ticks\":\"inside\"}},\"type\":\"scatterpolar\"}],\"scatter\":[{\"fillpattern\":{\"fillmode\":\"overlay\",\"size\":10,\"solidity\":0.2},\"type\":\"scatter\"}],\"scatterternary\":[{\"marker\":{\"colorbar\":{\"outlinewidth\":0,\"tickcolor\":\"rgb(237,237,237)\",\"ticklen\":6,\"ticks\":\"inside\"}},\"type\":\"scatterternary\"}],\"surface\":[{\"colorbar\":{\"outlinewidth\":0,\"tickcolor\":\"rgb(237,237,237)\",\"ticklen\":6,\"ticks\":\"inside\"},\"colorscale\":[[0,\"rgb(20,44,66)\"],[1,\"rgb(90,179,244)\"]],\"type\":\"surface\"}],\"table\":[{\"cells\":{\"fill\":{\"color\":\"rgb(237,237,237)\"},\"line\":{\"color\":\"white\"}},\"header\":{\"fill\":{\"color\":\"rgb(217,217,217)\"},\"line\":{\"color\":\"white\"}},\"type\":\"table\"}]},\"layout\":{\"annotationdefaults\":{\"arrowhead\":0,\"arrowwidth\":1},\"autotypenumbers\":\"strict\",\"coloraxis\":{\"colorbar\":{\"outlinewidth\":0,\"tickcolor\":\"rgb(237,237,237)\",\"ticklen\":6,\"ticks\":\"inside\"}},\"colorscale\":{\"sequential\":[[0,\"rgb(20,44,66)\"],[1,\"rgb(90,179,244)\"]],\"sequentialminus\":[[0,\"rgb(20,44,66)\"],[1,\"rgb(90,179,244)\"]]},\"colorway\":[\"#F8766D\",\"#A3A500\",\"#00BF7D\",\"#00B0F6\",\"#E76BF3\"],\"font\":{\"color\":\"rgb(51,51,51)\"},\"geo\":{\"bgcolor\":\"white\",\"lakecolor\":\"white\",\"landcolor\":\"rgb(237,237,237)\",\"showlakes\":true,\"showland\":true,\"subunitcolor\":\"white\"},\"hoverlabel\":{\"align\":\"left\"},\"hovermode\":\"closest\",\"paper_bgcolor\":\"white\",\"plot_bgcolor\":\"rgb(237,237,237)\",\"polar\":{\"angularaxis\":{\"gridcolor\":\"white\",\"linecolor\":\"white\",\"showgrid\":true,\"tickcolor\":\"rgb(51,51,51)\",\"ticks\":\"outside\"},\"bgcolor\":\"rgb(237,237,237)\",\"radialaxis\":{\"gridcolor\":\"white\",\"linecolor\":\"white\",\"showgrid\":true,\"tickcolor\":\"rgb(51,51,51)\",\"ticks\":\"outside\"}},\"scene\":{\"xaxis\":{\"backgroundcolor\":\"rgb(237,237,237)\",\"gridcolor\":\"white\",\"gridwidth\":2,\"linecolor\":\"white\",\"showbackground\":true,\"showgrid\":true,\"tickcolor\":\"rgb(51,51,51)\",\"ticks\":\"outside\",\"zerolinecolor\":\"white\"},\"yaxis\":{\"backgroundcolor\":\"rgb(237,237,237)\",\"gridcolor\":\"white\",\"gridwidth\":2,\"linecolor\":\"white\",\"showbackground\":true,\"showgrid\":true,\"tickcolor\":\"rgb(51,51,51)\",\"ticks\":\"outside\",\"zerolinecolor\":\"white\"},\"zaxis\":{\"backgroundcolor\":\"rgb(237,237,237)\",\"gridcolor\":\"white\",\"gridwidth\":2,\"linecolor\":\"white\",\"showbackground\":true,\"showgrid\":true,\"tickcolor\":\"rgb(51,51,51)\",\"ticks\":\"outside\",\"zerolinecolor\":\"white\"}},\"shapedefaults\":{\"fillcolor\":\"black\",\"line\":{\"width\":0},\"opacity\":0.3},\"ternary\":{\"aaxis\":{\"gridcolor\":\"white\",\"linecolor\":\"white\",\"showgrid\":true,\"tickcolor\":\"rgb(51,51,51)\",\"ticks\":\"outside\"},\"baxis\":{\"gridcolor\":\"white\",\"linecolor\":\"white\",\"showgrid\":true,\"tickcolor\":\"rgb(51,51,51)\",\"ticks\":\"outside\"},\"bgcolor\":\"rgb(237,237,237)\",\"caxis\":{\"gridcolor\":\"white\",\"linecolor\":\"white\",\"showgrid\":true,\"tickcolor\":\"rgb(51,51,51)\",\"ticks\":\"outside\"}},\"xaxis\":{\"automargin\":true,\"gridcolor\":\"white\",\"linecolor\":\"white\",\"showgrid\":true,\"tickcolor\":\"rgb(51,51,51)\",\"ticks\":\"outside\",\"title\":{\"standoff\":15},\"zerolinecolor\":\"white\"},\"yaxis\":{\"automargin\":true,\"gridcolor\":\"white\",\"linecolor\":\"white\",\"showgrid\":true,\"tickcolor\":\"rgb(51,51,51)\",\"ticks\":\"outside\",\"title\":{\"standoff\":15},\"zerolinecolor\":\"white\"}}},\"xaxis\":{\"anchor\":\"y\",\"domain\":[0.0,1.0],\"title\":{\"text\":\"RMSD\"}},\"yaxis\":{\"anchor\":\"x\",\"domain\":[0.0,1.0],\"title\":{\"text\":\"Energy (kcal\\u002fmol)\"}},\"legend\":{\"title\":{\"text\":\"Receptor, Receptor Type\"},\"tracegroupgap\":0},\"margin\":{\"t\":60},\"title\":{\"text\":\"Ensemble docking of 3DDQ\"}},                        {\"responsive\": true}                    ).then(function(){\n",
       "                            \n",
       "var gd = document.getElementById('bd22bd07-ddf3-47fa-b1f5-0f5fb0b7f8fd');\n",
       "var x = new MutationObserver(function (mutations, observer) {{\n",
       "        var display = window.getComputedStyle(gd).display;\n",
       "        if (!display || display === 'none') {{\n",
       "            console.log([gd, 'removed!']);\n",
       "            Plotly.purge(gd);\n",
       "            observer.disconnect();\n",
       "        }}\n",
       "}});\n",
       "\n",
       "// Listen for the removal of the full notebook cells\n",
       "var notebookContainer = gd.closest('#notebook-container');\n",
       "if (notebookContainer) {{\n",
       "    x.observe(notebookContainer, {childList: true});\n",
       "}}\n",
       "\n",
       "// Listen for the clearing of the current output cell\n",
       "var outputEl = gd.closest('.output');\n",
       "if (outputEl) {{\n",
       "    x.observe(outputEl, {childList: true});\n",
       "}}\n",
       "\n",
       "                        })                };                });            </script>        </div>"
      ]
     },
     "metadata": {},
     "output_type": "display_data"
    },
    {
     "data": {
      "application/vnd.plotly.v1+json": {
       "config": {
        "plotlyServerURL": "https://plot.ly"
       },
       "data": [
        {
         "hovertemplate": "Receptor=5a14<br>Receptor Type=DFG out<br>RMSD=%{x}<br>Energy (kcal/mol)=%{y}<extra></extra>",
         "legendgroup": "5a14, DFG out",
         "marker": {
          "color": "rgb(141,211,199)",
          "line": {
           "color": "DarkSlateGrey",
           "width": 1
          },
          "size": 8,
          "symbol": "circle"
         },
         "mode": "markers",
         "name": "5a14, DFG out",
         "orientation": "v",
         "showlegend": true,
         "type": "scatter",
         "x": [
          7.12,
          8.01,
          7.51
         ],
         "xaxis": "x",
         "y": [
          -6.49,
          -5.7,
          -6.22
         ],
         "yaxis": "y"
        },
        {
         "hovertemplate": "Receptor=3pj8<br>Receptor Type=no cyclin<br>RMSD=%{x}<br>Energy (kcal/mol)=%{y}<extra></extra>",
         "legendgroup": "3pj8, no cyclin",
         "marker": {
          "color": "rgb(255,255,179)",
          "line": {
           "color": "DarkSlateGrey",
           "width": 1
          },
          "size": 8,
          "symbol": "x"
         },
         "mode": "markers",
         "name": "3pj8, no cyclin",
         "orientation": "v",
         "showlegend": true,
         "type": "scatter",
         "x": [
          2.96,
          8.36,
          8.22,
          6.64
         ],
         "xaxis": "x",
         "y": [
          -6.97,
          -7.08,
          -5.42,
          -6.12
         ],
         "yaxis": "y"
        },
        {
         "hovertemplate": "Receptor=6guh<br>Receptor Type=no cyclin<br>RMSD=%{x}<br>Energy (kcal/mol)=%{y}<extra></extra>",
         "legendgroup": "6guh, no cyclin",
         "marker": {
          "color": "rgb(190,186,218)",
          "line": {
           "color": "DarkSlateGrey",
           "width": 1
          },
          "size": 8,
          "symbol": "x"
         },
         "mode": "markers",
         "name": "6guh, no cyclin",
         "orientation": "v",
         "showlegend": true,
         "type": "scatter",
         "x": [
          6.65,
          5.02,
          8.51,
          7.47,
          5.14,
          5.96,
          6.45
         ],
         "xaxis": "x",
         "y": [
          -5.56,
          -6.28,
          -7.33,
          -8.1,
          -8.11,
          -6.44,
          -7.72
         ],
         "yaxis": "y"
        },
        {
         "hovertemplate": "Receptor=6guk<br>Receptor Type=no cyclin<br>RMSD=%{x}<br>Energy (kcal/mol)=%{y}<extra></extra>",
         "legendgroup": "6guk, no cyclin",
         "marker": {
          "color": "rgb(251,128,114)",
          "line": {
           "color": "DarkSlateGrey",
           "width": 1
          },
          "size": 8,
          "symbol": "x"
         },
         "mode": "markers",
         "name": "6guk, no cyclin",
         "orientation": "v",
         "showlegend": true,
         "type": "scatter",
         "x": [
          7.17,
          8.35
         ],
         "xaxis": "x",
         "y": [
          -8.43,
          -8.44
         ],
         "yaxis": "y"
        },
        {
         "hovertemplate": "Receptor=5l2w<br>Receptor Type=with cyclin<br>RMSD=%{x}<br>Energy (kcal/mol)=%{y}<extra></extra>",
         "legendgroup": "5l2w, with cyclin",
         "marker": {
          "color": "rgb(128,177,211)",
          "line": {
           "color": "DarkSlateGrey",
           "width": 1
          },
          "size": 8,
          "symbol": "triangle-up"
         },
         "mode": "markers",
         "name": "5l2w, with cyclin",
         "orientation": "v",
         "showlegend": true,
         "type": "scatter",
         "x": [
          8.43
         ],
         "xaxis": "x",
         "y": [
          -6.18
         ],
         "yaxis": "y"
        },
        {
         "hovertemplate": "Receptor=6gub<br>Receptor Type=with cyclin<br>RMSD=%{x}<br>Energy (kcal/mol)=%{y}<extra></extra>",
         "legendgroup": "6gub, with cyclin",
         "marker": {
          "color": "rgb(253,180,98)",
          "line": {
           "color": "DarkSlateGrey",
           "width": 1
          },
          "size": 8,
          "symbol": "triangle-up"
         },
         "mode": "markers",
         "name": "6gub, with cyclin",
         "orientation": "v",
         "showlegend": true,
         "type": "scatter",
         "x": [
          4.72,
          3.31,
          5.31,
          6.44,
          4.11,
          7.6,
          3.99
         ],
         "xaxis": "x",
         "y": [
          -5.57,
          -6.96,
          -7.44,
          -7.63,
          -7.87,
          -6.93,
          -7.09
         ],
         "yaxis": "y"
        },
        {
         "hovertemplate": "Receptor=6gue<br>Receptor Type=with cyclin<br>RMSD=%{x}<br>Energy (kcal/mol)=%{y}<extra></extra>",
         "legendgroup": "6gue, with cyclin",
         "marker": {
          "color": "rgb(179,222,105)",
          "line": {
           "color": "DarkSlateGrey",
           "width": 1
          },
          "size": 8,
          "symbol": "triangle-up"
         },
         "mode": "markers",
         "name": "6gue, with cyclin",
         "orientation": "v",
         "showlegend": true,
         "type": "scatter",
         "x": [
          1.51,
          5.7,
          3.75,
          5.69
         ],
         "xaxis": "x",
         "y": [
          -9.24,
          -7.13,
          -8.47,
          -8.75
         ],
         "yaxis": "y"
        }
       ],
       "layout": {
        "legend": {
         "title": {
          "text": "Receptor, Receptor Type"
         },
         "tracegroupgap": 0
        },
        "margin": {
         "t": 60
        },
        "template": {
         "data": {
          "bar": [
           {
            "error_x": {
             "color": "rgb(51,51,51)"
            },
            "error_y": {
             "color": "rgb(51,51,51)"
            },
            "marker": {
             "line": {
              "color": "rgb(237,237,237)",
              "width": 0.5
             },
             "pattern": {
              "fillmode": "overlay",
              "size": 10,
              "solidity": 0.2
             }
            },
            "type": "bar"
           }
          ],
          "barpolar": [
           {
            "marker": {
             "line": {
              "color": "rgb(237,237,237)",
              "width": 0.5
             },
             "pattern": {
              "fillmode": "overlay",
              "size": 10,
              "solidity": 0.2
             }
            },
            "type": "barpolar"
           }
          ],
          "carpet": [
           {
            "aaxis": {
             "endlinecolor": "rgb(51,51,51)",
             "gridcolor": "white",
             "linecolor": "white",
             "minorgridcolor": "white",
             "startlinecolor": "rgb(51,51,51)"
            },
            "baxis": {
             "endlinecolor": "rgb(51,51,51)",
             "gridcolor": "white",
             "linecolor": "white",
             "minorgridcolor": "white",
             "startlinecolor": "rgb(51,51,51)"
            },
            "type": "carpet"
           }
          ],
          "choropleth": [
           {
            "colorbar": {
             "outlinewidth": 0,
             "tickcolor": "rgb(237,237,237)",
             "ticklen": 6,
             "ticks": "inside"
            },
            "type": "choropleth"
           }
          ],
          "contour": [
           {
            "colorbar": {
             "outlinewidth": 0,
             "tickcolor": "rgb(237,237,237)",
             "ticklen": 6,
             "ticks": "inside"
            },
            "colorscale": [
             [
              0,
              "rgb(20,44,66)"
             ],
             [
              1,
              "rgb(90,179,244)"
             ]
            ],
            "type": "contour"
           }
          ],
          "contourcarpet": [
           {
            "colorbar": {
             "outlinewidth": 0,
             "tickcolor": "rgb(237,237,237)",
             "ticklen": 6,
             "ticks": "inside"
            },
            "type": "contourcarpet"
           }
          ],
          "heatmap": [
           {
            "colorbar": {
             "outlinewidth": 0,
             "tickcolor": "rgb(237,237,237)",
             "ticklen": 6,
             "ticks": "inside"
            },
            "colorscale": [
             [
              0,
              "rgb(20,44,66)"
             ],
             [
              1,
              "rgb(90,179,244)"
             ]
            ],
            "type": "heatmap"
           }
          ],
          "heatmapgl": [
           {
            "colorbar": {
             "outlinewidth": 0,
             "tickcolor": "rgb(237,237,237)",
             "ticklen": 6,
             "ticks": "inside"
            },
            "colorscale": [
             [
              0,
              "rgb(20,44,66)"
             ],
             [
              1,
              "rgb(90,179,244)"
             ]
            ],
            "type": "heatmapgl"
           }
          ],
          "histogram": [
           {
            "marker": {
             "pattern": {
              "fillmode": "overlay",
              "size": 10,
              "solidity": 0.2
             }
            },
            "type": "histogram"
           }
          ],
          "histogram2d": [
           {
            "colorbar": {
             "outlinewidth": 0,
             "tickcolor": "rgb(237,237,237)",
             "ticklen": 6,
             "ticks": "inside"
            },
            "colorscale": [
             [
              0,
              "rgb(20,44,66)"
             ],
             [
              1,
              "rgb(90,179,244)"
             ]
            ],
            "type": "histogram2d"
           }
          ],
          "histogram2dcontour": [
           {
            "colorbar": {
             "outlinewidth": 0,
             "tickcolor": "rgb(237,237,237)",
             "ticklen": 6,
             "ticks": "inside"
            },
            "colorscale": [
             [
              0,
              "rgb(20,44,66)"
             ],
             [
              1,
              "rgb(90,179,244)"
             ]
            ],
            "type": "histogram2dcontour"
           }
          ],
          "mesh3d": [
           {
            "colorbar": {
             "outlinewidth": 0,
             "tickcolor": "rgb(237,237,237)",
             "ticklen": 6,
             "ticks": "inside"
            },
            "type": "mesh3d"
           }
          ],
          "parcoords": [
           {
            "line": {
             "colorbar": {
              "outlinewidth": 0,
              "tickcolor": "rgb(237,237,237)",
              "ticklen": 6,
              "ticks": "inside"
             }
            },
            "type": "parcoords"
           }
          ],
          "pie": [
           {
            "automargin": true,
            "type": "pie"
           }
          ],
          "scatter": [
           {
            "fillpattern": {
             "fillmode": "overlay",
             "size": 10,
             "solidity": 0.2
            },
            "type": "scatter"
           }
          ],
          "scatter3d": [
           {
            "line": {
             "colorbar": {
              "outlinewidth": 0,
              "tickcolor": "rgb(237,237,237)",
              "ticklen": 6,
              "ticks": "inside"
             }
            },
            "marker": {
             "colorbar": {
              "outlinewidth": 0,
              "tickcolor": "rgb(237,237,237)",
              "ticklen": 6,
              "ticks": "inside"
             }
            },
            "type": "scatter3d"
           }
          ],
          "scattercarpet": [
           {
            "marker": {
             "colorbar": {
              "outlinewidth": 0,
              "tickcolor": "rgb(237,237,237)",
              "ticklen": 6,
              "ticks": "inside"
             }
            },
            "type": "scattercarpet"
           }
          ],
          "scattergeo": [
           {
            "marker": {
             "colorbar": {
              "outlinewidth": 0,
              "tickcolor": "rgb(237,237,237)",
              "ticklen": 6,
              "ticks": "inside"
             }
            },
            "type": "scattergeo"
           }
          ],
          "scattergl": [
           {
            "marker": {
             "colorbar": {
              "outlinewidth": 0,
              "tickcolor": "rgb(237,237,237)",
              "ticklen": 6,
              "ticks": "inside"
             }
            },
            "type": "scattergl"
           }
          ],
          "scattermapbox": [
           {
            "marker": {
             "colorbar": {
              "outlinewidth": 0,
              "tickcolor": "rgb(237,237,237)",
              "ticklen": 6,
              "ticks": "inside"
             }
            },
            "type": "scattermapbox"
           }
          ],
          "scatterpolar": [
           {
            "marker": {
             "colorbar": {
              "outlinewidth": 0,
              "tickcolor": "rgb(237,237,237)",
              "ticklen": 6,
              "ticks": "inside"
             }
            },
            "type": "scatterpolar"
           }
          ],
          "scatterpolargl": [
           {
            "marker": {
             "colorbar": {
              "outlinewidth": 0,
              "tickcolor": "rgb(237,237,237)",
              "ticklen": 6,
              "ticks": "inside"
             }
            },
            "type": "scatterpolargl"
           }
          ],
          "scatterternary": [
           {
            "marker": {
             "colorbar": {
              "outlinewidth": 0,
              "tickcolor": "rgb(237,237,237)",
              "ticklen": 6,
              "ticks": "inside"
             }
            },
            "type": "scatterternary"
           }
          ],
          "surface": [
           {
            "colorbar": {
             "outlinewidth": 0,
             "tickcolor": "rgb(237,237,237)",
             "ticklen": 6,
             "ticks": "inside"
            },
            "colorscale": [
             [
              0,
              "rgb(20,44,66)"
             ],
             [
              1,
              "rgb(90,179,244)"
             ]
            ],
            "type": "surface"
           }
          ],
          "table": [
           {
            "cells": {
             "fill": {
              "color": "rgb(237,237,237)"
             },
             "line": {
              "color": "white"
             }
            },
            "header": {
             "fill": {
              "color": "rgb(217,217,217)"
             },
             "line": {
              "color": "white"
             }
            },
            "type": "table"
           }
          ]
         },
         "layout": {
          "annotationdefaults": {
           "arrowhead": 0,
           "arrowwidth": 1
          },
          "autotypenumbers": "strict",
          "coloraxis": {
           "colorbar": {
            "outlinewidth": 0,
            "tickcolor": "rgb(237,237,237)",
            "ticklen": 6,
            "ticks": "inside"
           }
          },
          "colorscale": {
           "sequential": [
            [
             0,
             "rgb(20,44,66)"
            ],
            [
             1,
             "rgb(90,179,244)"
            ]
           ],
           "sequentialminus": [
            [
             0,
             "rgb(20,44,66)"
            ],
            [
             1,
             "rgb(90,179,244)"
            ]
           ]
          },
          "colorway": [
           "#F8766D",
           "#A3A500",
           "#00BF7D",
           "#00B0F6",
           "#E76BF3"
          ],
          "font": {
           "color": "rgb(51,51,51)"
          },
          "geo": {
           "bgcolor": "white",
           "lakecolor": "white",
           "landcolor": "rgb(237,237,237)",
           "showlakes": true,
           "showland": true,
           "subunitcolor": "white"
          },
          "hoverlabel": {
           "align": "left"
          },
          "hovermode": "closest",
          "paper_bgcolor": "white",
          "plot_bgcolor": "rgb(237,237,237)",
          "polar": {
           "angularaxis": {
            "gridcolor": "white",
            "linecolor": "white",
            "showgrid": true,
            "tickcolor": "rgb(51,51,51)",
            "ticks": "outside"
           },
           "bgcolor": "rgb(237,237,237)",
           "radialaxis": {
            "gridcolor": "white",
            "linecolor": "white",
            "showgrid": true,
            "tickcolor": "rgb(51,51,51)",
            "ticks": "outside"
           }
          },
          "scene": {
           "xaxis": {
            "backgroundcolor": "rgb(237,237,237)",
            "gridcolor": "white",
            "gridwidth": 2,
            "linecolor": "white",
            "showbackground": true,
            "showgrid": true,
            "tickcolor": "rgb(51,51,51)",
            "ticks": "outside",
            "zerolinecolor": "white"
           },
           "yaxis": {
            "backgroundcolor": "rgb(237,237,237)",
            "gridcolor": "white",
            "gridwidth": 2,
            "linecolor": "white",
            "showbackground": true,
            "showgrid": true,
            "tickcolor": "rgb(51,51,51)",
            "ticks": "outside",
            "zerolinecolor": "white"
           },
           "zaxis": {
            "backgroundcolor": "rgb(237,237,237)",
            "gridcolor": "white",
            "gridwidth": 2,
            "linecolor": "white",
            "showbackground": true,
            "showgrid": true,
            "tickcolor": "rgb(51,51,51)",
            "ticks": "outside",
            "zerolinecolor": "white"
           }
          },
          "shapedefaults": {
           "fillcolor": "black",
           "line": {
            "width": 0
           },
           "opacity": 0.3
          },
          "ternary": {
           "aaxis": {
            "gridcolor": "white",
            "linecolor": "white",
            "showgrid": true,
            "tickcolor": "rgb(51,51,51)",
            "ticks": "outside"
           },
           "baxis": {
            "gridcolor": "white",
            "linecolor": "white",
            "showgrid": true,
            "tickcolor": "rgb(51,51,51)",
            "ticks": "outside"
           },
           "bgcolor": "rgb(237,237,237)",
           "caxis": {
            "gridcolor": "white",
            "linecolor": "white",
            "showgrid": true,
            "tickcolor": "rgb(51,51,51)",
            "ticks": "outside"
           }
          },
          "xaxis": {
           "automargin": true,
           "gridcolor": "white",
           "linecolor": "white",
           "showgrid": true,
           "tickcolor": "rgb(51,51,51)",
           "ticks": "outside",
           "title": {
            "standoff": 15
           },
           "zerolinecolor": "white"
          },
          "yaxis": {
           "automargin": true,
           "gridcolor": "white",
           "linecolor": "white",
           "showgrid": true,
           "tickcolor": "rgb(51,51,51)",
           "ticks": "outside",
           "title": {
            "standoff": 15
           },
           "zerolinecolor": "white"
          }
         }
        },
        "title": {
         "text": "Ensemble docking of 6GUH"
        },
        "xaxis": {
         "anchor": "y",
         "domain": [
          0,
          1
         ],
         "title": {
          "text": "RMSD"
         }
        },
        "yaxis": {
         "anchor": "x",
         "domain": [
          0,
          1
         ],
         "title": {
          "text": "Energy (kcal/mol)"
         }
        }
       }
      },
      "text/html": [
       "<div>                            <div id=\"2cd87ab6-d93e-4fe2-af67-6e842691457b\" class=\"plotly-graph-div\" style=\"height:525px; width:100%;\"></div>            <script type=\"text/javascript\">                require([\"plotly\"], function(Plotly) {                    window.PLOTLYENV=window.PLOTLYENV || {};                                    if (document.getElementById(\"2cd87ab6-d93e-4fe2-af67-6e842691457b\")) {                    Plotly.newPlot(                        \"2cd87ab6-d93e-4fe2-af67-6e842691457b\",                        [{\"hovertemplate\":\"Receptor=5a14\\u003cbr\\u003eReceptor Type=DFG out\\u003cbr\\u003eRMSD=%{x}\\u003cbr\\u003eEnergy (kcal\\u002fmol)=%{y}\\u003cextra\\u003e\\u003c\\u002fextra\\u003e\",\"legendgroup\":\"5a14, DFG out\",\"marker\":{\"color\":\"rgb(141,211,199)\",\"symbol\":\"circle\",\"line\":{\"color\":\"DarkSlateGrey\",\"width\":1},\"size\":8},\"mode\":\"markers\",\"name\":\"5a14, DFG out\",\"orientation\":\"v\",\"showlegend\":true,\"x\":[7.12,8.01,7.51],\"xaxis\":\"x\",\"y\":[-6.49,-5.7,-6.22],\"yaxis\":\"y\",\"type\":\"scatter\"},{\"hovertemplate\":\"Receptor=3pj8\\u003cbr\\u003eReceptor Type=no cyclin\\u003cbr\\u003eRMSD=%{x}\\u003cbr\\u003eEnergy (kcal\\u002fmol)=%{y}\\u003cextra\\u003e\\u003c\\u002fextra\\u003e\",\"legendgroup\":\"3pj8, no cyclin\",\"marker\":{\"color\":\"rgb(255,255,179)\",\"symbol\":\"x\",\"line\":{\"color\":\"DarkSlateGrey\",\"width\":1},\"size\":8},\"mode\":\"markers\",\"name\":\"3pj8, no cyclin\",\"orientation\":\"v\",\"showlegend\":true,\"x\":[2.96,8.36,8.22,6.64],\"xaxis\":\"x\",\"y\":[-6.97,-7.08,-5.42,-6.12],\"yaxis\":\"y\",\"type\":\"scatter\"},{\"hovertemplate\":\"Receptor=6guh\\u003cbr\\u003eReceptor Type=no cyclin\\u003cbr\\u003eRMSD=%{x}\\u003cbr\\u003eEnergy (kcal\\u002fmol)=%{y}\\u003cextra\\u003e\\u003c\\u002fextra\\u003e\",\"legendgroup\":\"6guh, no cyclin\",\"marker\":{\"color\":\"rgb(190,186,218)\",\"symbol\":\"x\",\"line\":{\"color\":\"DarkSlateGrey\",\"width\":1},\"size\":8},\"mode\":\"markers\",\"name\":\"6guh, no cyclin\",\"orientation\":\"v\",\"showlegend\":true,\"x\":[6.65,5.02,8.51,7.47,5.14,5.96,6.45],\"xaxis\":\"x\",\"y\":[-5.56,-6.28,-7.33,-8.1,-8.11,-6.44,-7.72],\"yaxis\":\"y\",\"type\":\"scatter\"},{\"hovertemplate\":\"Receptor=6guk\\u003cbr\\u003eReceptor Type=no cyclin\\u003cbr\\u003eRMSD=%{x}\\u003cbr\\u003eEnergy (kcal\\u002fmol)=%{y}\\u003cextra\\u003e\\u003c\\u002fextra\\u003e\",\"legendgroup\":\"6guk, no cyclin\",\"marker\":{\"color\":\"rgb(251,128,114)\",\"symbol\":\"x\",\"line\":{\"color\":\"DarkSlateGrey\",\"width\":1},\"size\":8},\"mode\":\"markers\",\"name\":\"6guk, no cyclin\",\"orientation\":\"v\",\"showlegend\":true,\"x\":[7.17,8.35],\"xaxis\":\"x\",\"y\":[-8.43,-8.44],\"yaxis\":\"y\",\"type\":\"scatter\"},{\"hovertemplate\":\"Receptor=5l2w\\u003cbr\\u003eReceptor Type=with cyclin\\u003cbr\\u003eRMSD=%{x}\\u003cbr\\u003eEnergy (kcal\\u002fmol)=%{y}\\u003cextra\\u003e\\u003c\\u002fextra\\u003e\",\"legendgroup\":\"5l2w, with cyclin\",\"marker\":{\"color\":\"rgb(128,177,211)\",\"symbol\":\"triangle-up\",\"line\":{\"color\":\"DarkSlateGrey\",\"width\":1},\"size\":8},\"mode\":\"markers\",\"name\":\"5l2w, with cyclin\",\"orientation\":\"v\",\"showlegend\":true,\"x\":[8.43],\"xaxis\":\"x\",\"y\":[-6.18],\"yaxis\":\"y\",\"type\":\"scatter\"},{\"hovertemplate\":\"Receptor=6gub\\u003cbr\\u003eReceptor Type=with cyclin\\u003cbr\\u003eRMSD=%{x}\\u003cbr\\u003eEnergy (kcal\\u002fmol)=%{y}\\u003cextra\\u003e\\u003c\\u002fextra\\u003e\",\"legendgroup\":\"6gub, with cyclin\",\"marker\":{\"color\":\"rgb(253,180,98)\",\"symbol\":\"triangle-up\",\"line\":{\"color\":\"DarkSlateGrey\",\"width\":1},\"size\":8},\"mode\":\"markers\",\"name\":\"6gub, with cyclin\",\"orientation\":\"v\",\"showlegend\":true,\"x\":[4.72,3.31,5.31,6.44,4.11,7.6,3.99],\"xaxis\":\"x\",\"y\":[-5.57,-6.96,-7.44,-7.63,-7.87,-6.93,-7.09],\"yaxis\":\"y\",\"type\":\"scatter\"},{\"hovertemplate\":\"Receptor=6gue\\u003cbr\\u003eReceptor Type=with cyclin\\u003cbr\\u003eRMSD=%{x}\\u003cbr\\u003eEnergy (kcal\\u002fmol)=%{y}\\u003cextra\\u003e\\u003c\\u002fextra\\u003e\",\"legendgroup\":\"6gue, with cyclin\",\"marker\":{\"color\":\"rgb(179,222,105)\",\"symbol\":\"triangle-up\",\"line\":{\"color\":\"DarkSlateGrey\",\"width\":1},\"size\":8},\"mode\":\"markers\",\"name\":\"6gue, with cyclin\",\"orientation\":\"v\",\"showlegend\":true,\"x\":[1.51,5.7,3.75,5.69],\"xaxis\":\"x\",\"y\":[-9.24,-7.13,-8.47,-8.75],\"yaxis\":\"y\",\"type\":\"scatter\"}],                        {\"template\":{\"data\":{\"barpolar\":[{\"marker\":{\"line\":{\"color\":\"rgb(237,237,237)\",\"width\":0.5},\"pattern\":{\"fillmode\":\"overlay\",\"size\":10,\"solidity\":0.2}},\"type\":\"barpolar\"}],\"bar\":[{\"error_x\":{\"color\":\"rgb(51,51,51)\"},\"error_y\":{\"color\":\"rgb(51,51,51)\"},\"marker\":{\"line\":{\"color\":\"rgb(237,237,237)\",\"width\":0.5},\"pattern\":{\"fillmode\":\"overlay\",\"size\":10,\"solidity\":0.2}},\"type\":\"bar\"}],\"carpet\":[{\"aaxis\":{\"endlinecolor\":\"rgb(51,51,51)\",\"gridcolor\":\"white\",\"linecolor\":\"white\",\"minorgridcolor\":\"white\",\"startlinecolor\":\"rgb(51,51,51)\"},\"baxis\":{\"endlinecolor\":\"rgb(51,51,51)\",\"gridcolor\":\"white\",\"linecolor\":\"white\",\"minorgridcolor\":\"white\",\"startlinecolor\":\"rgb(51,51,51)\"},\"type\":\"carpet\"}],\"choropleth\":[{\"colorbar\":{\"outlinewidth\":0,\"tickcolor\":\"rgb(237,237,237)\",\"ticklen\":6,\"ticks\":\"inside\"},\"type\":\"choropleth\"}],\"contourcarpet\":[{\"colorbar\":{\"outlinewidth\":0,\"tickcolor\":\"rgb(237,237,237)\",\"ticklen\":6,\"ticks\":\"inside\"},\"type\":\"contourcarpet\"}],\"contour\":[{\"colorbar\":{\"outlinewidth\":0,\"tickcolor\":\"rgb(237,237,237)\",\"ticklen\":6,\"ticks\":\"inside\"},\"colorscale\":[[0,\"rgb(20,44,66)\"],[1,\"rgb(90,179,244)\"]],\"type\":\"contour\"}],\"heatmapgl\":[{\"colorbar\":{\"outlinewidth\":0,\"tickcolor\":\"rgb(237,237,237)\",\"ticklen\":6,\"ticks\":\"inside\"},\"colorscale\":[[0,\"rgb(20,44,66)\"],[1,\"rgb(90,179,244)\"]],\"type\":\"heatmapgl\"}],\"heatmap\":[{\"colorbar\":{\"outlinewidth\":0,\"tickcolor\":\"rgb(237,237,237)\",\"ticklen\":6,\"ticks\":\"inside\"},\"colorscale\":[[0,\"rgb(20,44,66)\"],[1,\"rgb(90,179,244)\"]],\"type\":\"heatmap\"}],\"histogram2dcontour\":[{\"colorbar\":{\"outlinewidth\":0,\"tickcolor\":\"rgb(237,237,237)\",\"ticklen\":6,\"ticks\":\"inside\"},\"colorscale\":[[0,\"rgb(20,44,66)\"],[1,\"rgb(90,179,244)\"]],\"type\":\"histogram2dcontour\"}],\"histogram2d\":[{\"colorbar\":{\"outlinewidth\":0,\"tickcolor\":\"rgb(237,237,237)\",\"ticklen\":6,\"ticks\":\"inside\"},\"colorscale\":[[0,\"rgb(20,44,66)\"],[1,\"rgb(90,179,244)\"]],\"type\":\"histogram2d\"}],\"histogram\":[{\"marker\":{\"pattern\":{\"fillmode\":\"overlay\",\"size\":10,\"solidity\":0.2}},\"type\":\"histogram\"}],\"mesh3d\":[{\"colorbar\":{\"outlinewidth\":0,\"tickcolor\":\"rgb(237,237,237)\",\"ticklen\":6,\"ticks\":\"inside\"},\"type\":\"mesh3d\"}],\"parcoords\":[{\"line\":{\"colorbar\":{\"outlinewidth\":0,\"tickcolor\":\"rgb(237,237,237)\",\"ticklen\":6,\"ticks\":\"inside\"}},\"type\":\"parcoords\"}],\"pie\":[{\"automargin\":true,\"type\":\"pie\"}],\"scatter3d\":[{\"line\":{\"colorbar\":{\"outlinewidth\":0,\"tickcolor\":\"rgb(237,237,237)\",\"ticklen\":6,\"ticks\":\"inside\"}},\"marker\":{\"colorbar\":{\"outlinewidth\":0,\"tickcolor\":\"rgb(237,237,237)\",\"ticklen\":6,\"ticks\":\"inside\"}},\"type\":\"scatter3d\"}],\"scattercarpet\":[{\"marker\":{\"colorbar\":{\"outlinewidth\":0,\"tickcolor\":\"rgb(237,237,237)\",\"ticklen\":6,\"ticks\":\"inside\"}},\"type\":\"scattercarpet\"}],\"scattergeo\":[{\"marker\":{\"colorbar\":{\"outlinewidth\":0,\"tickcolor\":\"rgb(237,237,237)\",\"ticklen\":6,\"ticks\":\"inside\"}},\"type\":\"scattergeo\"}],\"scattergl\":[{\"marker\":{\"colorbar\":{\"outlinewidth\":0,\"tickcolor\":\"rgb(237,237,237)\",\"ticklen\":6,\"ticks\":\"inside\"}},\"type\":\"scattergl\"}],\"scattermapbox\":[{\"marker\":{\"colorbar\":{\"outlinewidth\":0,\"tickcolor\":\"rgb(237,237,237)\",\"ticklen\":6,\"ticks\":\"inside\"}},\"type\":\"scattermapbox\"}],\"scatterpolargl\":[{\"marker\":{\"colorbar\":{\"outlinewidth\":0,\"tickcolor\":\"rgb(237,237,237)\",\"ticklen\":6,\"ticks\":\"inside\"}},\"type\":\"scatterpolargl\"}],\"scatterpolar\":[{\"marker\":{\"colorbar\":{\"outlinewidth\":0,\"tickcolor\":\"rgb(237,237,237)\",\"ticklen\":6,\"ticks\":\"inside\"}},\"type\":\"scatterpolar\"}],\"scatter\":[{\"fillpattern\":{\"fillmode\":\"overlay\",\"size\":10,\"solidity\":0.2},\"type\":\"scatter\"}],\"scatterternary\":[{\"marker\":{\"colorbar\":{\"outlinewidth\":0,\"tickcolor\":\"rgb(237,237,237)\",\"ticklen\":6,\"ticks\":\"inside\"}},\"type\":\"scatterternary\"}],\"surface\":[{\"colorbar\":{\"outlinewidth\":0,\"tickcolor\":\"rgb(237,237,237)\",\"ticklen\":6,\"ticks\":\"inside\"},\"colorscale\":[[0,\"rgb(20,44,66)\"],[1,\"rgb(90,179,244)\"]],\"type\":\"surface\"}],\"table\":[{\"cells\":{\"fill\":{\"color\":\"rgb(237,237,237)\"},\"line\":{\"color\":\"white\"}},\"header\":{\"fill\":{\"color\":\"rgb(217,217,217)\"},\"line\":{\"color\":\"white\"}},\"type\":\"table\"}]},\"layout\":{\"annotationdefaults\":{\"arrowhead\":0,\"arrowwidth\":1},\"autotypenumbers\":\"strict\",\"coloraxis\":{\"colorbar\":{\"outlinewidth\":0,\"tickcolor\":\"rgb(237,237,237)\",\"ticklen\":6,\"ticks\":\"inside\"}},\"colorscale\":{\"sequential\":[[0,\"rgb(20,44,66)\"],[1,\"rgb(90,179,244)\"]],\"sequentialminus\":[[0,\"rgb(20,44,66)\"],[1,\"rgb(90,179,244)\"]]},\"colorway\":[\"#F8766D\",\"#A3A500\",\"#00BF7D\",\"#00B0F6\",\"#E76BF3\"],\"font\":{\"color\":\"rgb(51,51,51)\"},\"geo\":{\"bgcolor\":\"white\",\"lakecolor\":\"white\",\"landcolor\":\"rgb(237,237,237)\",\"showlakes\":true,\"showland\":true,\"subunitcolor\":\"white\"},\"hoverlabel\":{\"align\":\"left\"},\"hovermode\":\"closest\",\"paper_bgcolor\":\"white\",\"plot_bgcolor\":\"rgb(237,237,237)\",\"polar\":{\"angularaxis\":{\"gridcolor\":\"white\",\"linecolor\":\"white\",\"showgrid\":true,\"tickcolor\":\"rgb(51,51,51)\",\"ticks\":\"outside\"},\"bgcolor\":\"rgb(237,237,237)\",\"radialaxis\":{\"gridcolor\":\"white\",\"linecolor\":\"white\",\"showgrid\":true,\"tickcolor\":\"rgb(51,51,51)\",\"ticks\":\"outside\"}},\"scene\":{\"xaxis\":{\"backgroundcolor\":\"rgb(237,237,237)\",\"gridcolor\":\"white\",\"gridwidth\":2,\"linecolor\":\"white\",\"showbackground\":true,\"showgrid\":true,\"tickcolor\":\"rgb(51,51,51)\",\"ticks\":\"outside\",\"zerolinecolor\":\"white\"},\"yaxis\":{\"backgroundcolor\":\"rgb(237,237,237)\",\"gridcolor\":\"white\",\"gridwidth\":2,\"linecolor\":\"white\",\"showbackground\":true,\"showgrid\":true,\"tickcolor\":\"rgb(51,51,51)\",\"ticks\":\"outside\",\"zerolinecolor\":\"white\"},\"zaxis\":{\"backgroundcolor\":\"rgb(237,237,237)\",\"gridcolor\":\"white\",\"gridwidth\":2,\"linecolor\":\"white\",\"showbackground\":true,\"showgrid\":true,\"tickcolor\":\"rgb(51,51,51)\",\"ticks\":\"outside\",\"zerolinecolor\":\"white\"}},\"shapedefaults\":{\"fillcolor\":\"black\",\"line\":{\"width\":0},\"opacity\":0.3},\"ternary\":{\"aaxis\":{\"gridcolor\":\"white\",\"linecolor\":\"white\",\"showgrid\":true,\"tickcolor\":\"rgb(51,51,51)\",\"ticks\":\"outside\"},\"baxis\":{\"gridcolor\":\"white\",\"linecolor\":\"white\",\"showgrid\":true,\"tickcolor\":\"rgb(51,51,51)\",\"ticks\":\"outside\"},\"bgcolor\":\"rgb(237,237,237)\",\"caxis\":{\"gridcolor\":\"white\",\"linecolor\":\"white\",\"showgrid\":true,\"tickcolor\":\"rgb(51,51,51)\",\"ticks\":\"outside\"}},\"xaxis\":{\"automargin\":true,\"gridcolor\":\"white\",\"linecolor\":\"white\",\"showgrid\":true,\"tickcolor\":\"rgb(51,51,51)\",\"ticks\":\"outside\",\"title\":{\"standoff\":15},\"zerolinecolor\":\"white\"},\"yaxis\":{\"automargin\":true,\"gridcolor\":\"white\",\"linecolor\":\"white\",\"showgrid\":true,\"tickcolor\":\"rgb(51,51,51)\",\"ticks\":\"outside\",\"title\":{\"standoff\":15},\"zerolinecolor\":\"white\"}}},\"xaxis\":{\"anchor\":\"y\",\"domain\":[0.0,1.0],\"title\":{\"text\":\"RMSD\"}},\"yaxis\":{\"anchor\":\"x\",\"domain\":[0.0,1.0],\"title\":{\"text\":\"Energy (kcal\\u002fmol)\"}},\"legend\":{\"title\":{\"text\":\"Receptor, Receptor Type\"},\"tracegroupgap\":0},\"margin\":{\"t\":60},\"title\":{\"text\":\"Ensemble docking of 6GUH\"}},                        {\"responsive\": true}                    ).then(function(){\n",
       "                            \n",
       "var gd = document.getElementById('2cd87ab6-d93e-4fe2-af67-6e842691457b');\n",
       "var x = new MutationObserver(function (mutations, observer) {{\n",
       "        var display = window.getComputedStyle(gd).display;\n",
       "        if (!display || display === 'none') {{\n",
       "            console.log([gd, 'removed!']);\n",
       "            Plotly.purge(gd);\n",
       "            observer.disconnect();\n",
       "        }}\n",
       "}});\n",
       "\n",
       "// Listen for the removal of the full notebook cells\n",
       "var notebookContainer = gd.closest('#notebook-container');\n",
       "if (notebookContainer) {{\n",
       "    x.observe(notebookContainer, {childList: true});\n",
       "}}\n",
       "\n",
       "// Listen for the clearing of the current output cell\n",
       "var outputEl = gd.closest('.output');\n",
       "if (outputEl) {{\n",
       "    x.observe(outputEl, {childList: true});\n",
       "}}\n",
       "\n",
       "                        })                };                });            </script>        </div>"
      ]
     },
     "metadata": {},
     "output_type": "display_data"
    },
    {
     "data": {
      "application/vnd.plotly.v1+json": {
       "config": {
        "plotlyServerURL": "https://plot.ly"
       },
       "data": [
        {
         "hovertemplate": "Receptor=5a14<br>Receptor Type=DFG out<br>RMSD=%{x}<br>Energy (kcal/mol)=%{y}<extra></extra>",
         "legendgroup": "5a14, DFG out",
         "marker": {
          "color": "rgb(141,211,199)",
          "line": {
           "color": "DarkSlateGrey",
           "width": 1
          },
          "size": 8,
          "symbol": "circle"
         },
         "mode": "markers",
         "name": "5a14, DFG out",
         "orientation": "v",
         "showlegend": true,
         "type": "scatter",
         "x": [
          7.72,
          7.29,
          7.81,
          3.51
         ],
         "xaxis": "x",
         "y": [
          -3.57,
          -5.66,
          -5.78,
          -6.39
         ],
         "yaxis": "y"
        },
        {
         "hovertemplate": "Receptor=4kd1<br>Receptor Type=no cyclin<br>RMSD=%{x}<br>Energy (kcal/mol)=%{y}<extra></extra>",
         "legendgroup": "4kd1, no cyclin",
         "marker": {
          "color": "rgb(255,255,179)",
          "line": {
           "color": "DarkSlateGrey",
           "width": 1
          },
          "size": 8,
          "symbol": "x"
         },
         "mode": "markers",
         "name": "4kd1, no cyclin",
         "orientation": "v",
         "showlegend": true,
         "type": "scatter",
         "x": [
          2.92,
          3.42
         ],
         "xaxis": "x",
         "y": [
          -6.35,
          -4.07
         ],
         "yaxis": "y"
        },
        {
         "hovertemplate": "Receptor=6guh<br>Receptor Type=no cyclin<br>RMSD=%{x}<br>Energy (kcal/mol)=%{y}<extra></extra>",
         "legendgroup": "6guh, no cyclin",
         "marker": {
          "color": "rgb(190,186,218)",
          "line": {
           "color": "DarkSlateGrey",
           "width": 1
          },
          "size": 8,
          "symbol": "x"
         },
         "mode": "markers",
         "name": "6guh, no cyclin",
         "orientation": "v",
         "showlegend": true,
         "type": "scatter",
         "x": [
          4.91
         ],
         "xaxis": "x",
         "y": [
          -6.95
         ],
         "yaxis": "y"
        },
        {
         "hovertemplate": "Receptor=3pj8<br>Receptor Type=no cyclin<br>RMSD=%{x}<br>Energy (kcal/mol)=%{y}<extra></extra>",
         "legendgroup": "3pj8, no cyclin",
         "marker": {
          "color": "rgb(251,128,114)",
          "line": {
           "color": "DarkSlateGrey",
           "width": 1
          },
          "size": 8,
          "symbol": "x"
         },
         "mode": "markers",
         "name": "3pj8, no cyclin",
         "orientation": "v",
         "showlegend": true,
         "type": "scatter",
         "x": [
          8.49,
          8.18,
          8.11
         ],
         "xaxis": "x",
         "y": [
          -7.45,
          -7.29,
          -7.5
         ],
         "yaxis": "y"
        },
        {
         "hovertemplate": "Receptor=6guk<br>Receptor Type=no cyclin<br>RMSD=%{x}<br>Energy (kcal/mol)=%{y}<extra></extra>",
         "legendgroup": "6guk, no cyclin",
         "marker": {
          "color": "rgb(128,177,211)",
          "line": {
           "color": "DarkSlateGrey",
           "width": 1
          },
          "size": 8,
          "symbol": "x"
         },
         "mode": "markers",
         "name": "6guk, no cyclin",
         "orientation": "v",
         "showlegend": true,
         "type": "scatter",
         "x": [
          8.57,
          7.41
         ],
         "xaxis": "x",
         "y": [
          -8.29,
          -8.5
         ],
         "yaxis": "y"
        },
        {
         "hovertemplate": "Receptor=6gue<br>Receptor Type=with cyclin<br>RMSD=%{x}<br>Energy (kcal/mol)=%{y}<extra></extra>",
         "legendgroup": "6gue, with cyclin",
         "marker": {
          "color": "rgb(253,180,98)",
          "line": {
           "color": "DarkSlateGrey",
           "width": 1
          },
          "size": 8,
          "symbol": "triangle-up"
         },
         "mode": "markers",
         "name": "6gue, with cyclin",
         "orientation": "v",
         "showlegend": true,
         "type": "scatter",
         "x": [
          4.29,
          3.65,
          1.29
         ],
         "xaxis": "x",
         "y": [
          -7.64,
          -9,
          -9.27
         ],
         "yaxis": "y"
        },
        {
         "hovertemplate": "Receptor=6gub<br>Receptor Type=with cyclin<br>RMSD=%{x}<br>Energy (kcal/mol)=%{y}<extra></extra>",
         "legendgroup": "6gub, with cyclin",
         "marker": {
          "color": "rgb(179,222,105)",
          "line": {
           "color": "DarkSlateGrey",
           "width": 1
          },
          "size": 8,
          "symbol": "triangle-up"
         },
         "mode": "markers",
         "name": "6gub, with cyclin",
         "orientation": "v",
         "showlegend": true,
         "type": "scatter",
         "x": [
          5.32,
          7.99,
          7
         ],
         "xaxis": "x",
         "y": [
          -7.68,
          -6.9,
          -5.31
         ],
         "yaxis": "y"
        },
        {
         "hovertemplate": "Receptor=6guf<br>Receptor Type=with cyclin<br>RMSD=%{x}<br>Energy (kcal/mol)=%{y}<extra></extra>",
         "legendgroup": "6guf, with cyclin",
         "marker": {
          "color": "rgb(252,205,229)",
          "line": {
           "color": "DarkSlateGrey",
           "width": 1
          },
          "size": 8,
          "symbol": "triangle-up"
         },
         "mode": "markers",
         "name": "6guf, with cyclin",
         "orientation": "v",
         "showlegend": true,
         "type": "scatter",
         "x": [
          6.68,
          5.38
         ],
         "xaxis": "x",
         "y": [
          -7.92,
          -7.5
         ],
         "yaxis": "y"
        },
        {
         "hovertemplate": "Receptor=3ddq<br>Receptor Type=with cyclin<br>RMSD=%{x}<br>Energy (kcal/mol)=%{y}<extra></extra>",
         "legendgroup": "3ddq, with cyclin",
         "marker": {
          "color": "rgb(217,217,217)",
          "line": {
           "color": "DarkSlateGrey",
           "width": 1
          },
          "size": 8,
          "symbol": "triangle-up"
         },
         "mode": "markers",
         "name": "3ddq, with cyclin",
         "orientation": "v",
         "showlegend": true,
         "type": "scatter",
         "x": [
          4.97
         ],
         "xaxis": "x",
         "y": [
          -6.35
         ],
         "yaxis": "y"
        }
       ],
       "layout": {
        "legend": {
         "title": {
          "text": "Receptor, Receptor Type"
         },
         "tracegroupgap": 0
        },
        "margin": {
         "t": 60
        },
        "template": {
         "data": {
          "bar": [
           {
            "error_x": {
             "color": "rgb(51,51,51)"
            },
            "error_y": {
             "color": "rgb(51,51,51)"
            },
            "marker": {
             "line": {
              "color": "rgb(237,237,237)",
              "width": 0.5
             },
             "pattern": {
              "fillmode": "overlay",
              "size": 10,
              "solidity": 0.2
             }
            },
            "type": "bar"
           }
          ],
          "barpolar": [
           {
            "marker": {
             "line": {
              "color": "rgb(237,237,237)",
              "width": 0.5
             },
             "pattern": {
              "fillmode": "overlay",
              "size": 10,
              "solidity": 0.2
             }
            },
            "type": "barpolar"
           }
          ],
          "carpet": [
           {
            "aaxis": {
             "endlinecolor": "rgb(51,51,51)",
             "gridcolor": "white",
             "linecolor": "white",
             "minorgridcolor": "white",
             "startlinecolor": "rgb(51,51,51)"
            },
            "baxis": {
             "endlinecolor": "rgb(51,51,51)",
             "gridcolor": "white",
             "linecolor": "white",
             "minorgridcolor": "white",
             "startlinecolor": "rgb(51,51,51)"
            },
            "type": "carpet"
           }
          ],
          "choropleth": [
           {
            "colorbar": {
             "outlinewidth": 0,
             "tickcolor": "rgb(237,237,237)",
             "ticklen": 6,
             "ticks": "inside"
            },
            "type": "choropleth"
           }
          ],
          "contour": [
           {
            "colorbar": {
             "outlinewidth": 0,
             "tickcolor": "rgb(237,237,237)",
             "ticklen": 6,
             "ticks": "inside"
            },
            "colorscale": [
             [
              0,
              "rgb(20,44,66)"
             ],
             [
              1,
              "rgb(90,179,244)"
             ]
            ],
            "type": "contour"
           }
          ],
          "contourcarpet": [
           {
            "colorbar": {
             "outlinewidth": 0,
             "tickcolor": "rgb(237,237,237)",
             "ticklen": 6,
             "ticks": "inside"
            },
            "type": "contourcarpet"
           }
          ],
          "heatmap": [
           {
            "colorbar": {
             "outlinewidth": 0,
             "tickcolor": "rgb(237,237,237)",
             "ticklen": 6,
             "ticks": "inside"
            },
            "colorscale": [
             [
              0,
              "rgb(20,44,66)"
             ],
             [
              1,
              "rgb(90,179,244)"
             ]
            ],
            "type": "heatmap"
           }
          ],
          "heatmapgl": [
           {
            "colorbar": {
             "outlinewidth": 0,
             "tickcolor": "rgb(237,237,237)",
             "ticklen": 6,
             "ticks": "inside"
            },
            "colorscale": [
             [
              0,
              "rgb(20,44,66)"
             ],
             [
              1,
              "rgb(90,179,244)"
             ]
            ],
            "type": "heatmapgl"
           }
          ],
          "histogram": [
           {
            "marker": {
             "pattern": {
              "fillmode": "overlay",
              "size": 10,
              "solidity": 0.2
             }
            },
            "type": "histogram"
           }
          ],
          "histogram2d": [
           {
            "colorbar": {
             "outlinewidth": 0,
             "tickcolor": "rgb(237,237,237)",
             "ticklen": 6,
             "ticks": "inside"
            },
            "colorscale": [
             [
              0,
              "rgb(20,44,66)"
             ],
             [
              1,
              "rgb(90,179,244)"
             ]
            ],
            "type": "histogram2d"
           }
          ],
          "histogram2dcontour": [
           {
            "colorbar": {
             "outlinewidth": 0,
             "tickcolor": "rgb(237,237,237)",
             "ticklen": 6,
             "ticks": "inside"
            },
            "colorscale": [
             [
              0,
              "rgb(20,44,66)"
             ],
             [
              1,
              "rgb(90,179,244)"
             ]
            ],
            "type": "histogram2dcontour"
           }
          ],
          "mesh3d": [
           {
            "colorbar": {
             "outlinewidth": 0,
             "tickcolor": "rgb(237,237,237)",
             "ticklen": 6,
             "ticks": "inside"
            },
            "type": "mesh3d"
           }
          ],
          "parcoords": [
           {
            "line": {
             "colorbar": {
              "outlinewidth": 0,
              "tickcolor": "rgb(237,237,237)",
              "ticklen": 6,
              "ticks": "inside"
             }
            },
            "type": "parcoords"
           }
          ],
          "pie": [
           {
            "automargin": true,
            "type": "pie"
           }
          ],
          "scatter": [
           {
            "fillpattern": {
             "fillmode": "overlay",
             "size": 10,
             "solidity": 0.2
            },
            "type": "scatter"
           }
          ],
          "scatter3d": [
           {
            "line": {
             "colorbar": {
              "outlinewidth": 0,
              "tickcolor": "rgb(237,237,237)",
              "ticklen": 6,
              "ticks": "inside"
             }
            },
            "marker": {
             "colorbar": {
              "outlinewidth": 0,
              "tickcolor": "rgb(237,237,237)",
              "ticklen": 6,
              "ticks": "inside"
             }
            },
            "type": "scatter3d"
           }
          ],
          "scattercarpet": [
           {
            "marker": {
             "colorbar": {
              "outlinewidth": 0,
              "tickcolor": "rgb(237,237,237)",
              "ticklen": 6,
              "ticks": "inside"
             }
            },
            "type": "scattercarpet"
           }
          ],
          "scattergeo": [
           {
            "marker": {
             "colorbar": {
              "outlinewidth": 0,
              "tickcolor": "rgb(237,237,237)",
              "ticklen": 6,
              "ticks": "inside"
             }
            },
            "type": "scattergeo"
           }
          ],
          "scattergl": [
           {
            "marker": {
             "colorbar": {
              "outlinewidth": 0,
              "tickcolor": "rgb(237,237,237)",
              "ticklen": 6,
              "ticks": "inside"
             }
            },
            "type": "scattergl"
           }
          ],
          "scattermapbox": [
           {
            "marker": {
             "colorbar": {
              "outlinewidth": 0,
              "tickcolor": "rgb(237,237,237)",
              "ticklen": 6,
              "ticks": "inside"
             }
            },
            "type": "scattermapbox"
           }
          ],
          "scatterpolar": [
           {
            "marker": {
             "colorbar": {
              "outlinewidth": 0,
              "tickcolor": "rgb(237,237,237)",
              "ticklen": 6,
              "ticks": "inside"
             }
            },
            "type": "scatterpolar"
           }
          ],
          "scatterpolargl": [
           {
            "marker": {
             "colorbar": {
              "outlinewidth": 0,
              "tickcolor": "rgb(237,237,237)",
              "ticklen": 6,
              "ticks": "inside"
             }
            },
            "type": "scatterpolargl"
           }
          ],
          "scatterternary": [
           {
            "marker": {
             "colorbar": {
              "outlinewidth": 0,
              "tickcolor": "rgb(237,237,237)",
              "ticklen": 6,
              "ticks": "inside"
             }
            },
            "type": "scatterternary"
           }
          ],
          "surface": [
           {
            "colorbar": {
             "outlinewidth": 0,
             "tickcolor": "rgb(237,237,237)",
             "ticklen": 6,
             "ticks": "inside"
            },
            "colorscale": [
             [
              0,
              "rgb(20,44,66)"
             ],
             [
              1,
              "rgb(90,179,244)"
             ]
            ],
            "type": "surface"
           }
          ],
          "table": [
           {
            "cells": {
             "fill": {
              "color": "rgb(237,237,237)"
             },
             "line": {
              "color": "white"
             }
            },
            "header": {
             "fill": {
              "color": "rgb(217,217,217)"
             },
             "line": {
              "color": "white"
             }
            },
            "type": "table"
           }
          ]
         },
         "layout": {
          "annotationdefaults": {
           "arrowhead": 0,
           "arrowwidth": 1
          },
          "autotypenumbers": "strict",
          "coloraxis": {
           "colorbar": {
            "outlinewidth": 0,
            "tickcolor": "rgb(237,237,237)",
            "ticklen": 6,
            "ticks": "inside"
           }
          },
          "colorscale": {
           "sequential": [
            [
             0,
             "rgb(20,44,66)"
            ],
            [
             1,
             "rgb(90,179,244)"
            ]
           ],
           "sequentialminus": [
            [
             0,
             "rgb(20,44,66)"
            ],
            [
             1,
             "rgb(90,179,244)"
            ]
           ]
          },
          "colorway": [
           "#F8766D",
           "#A3A500",
           "#00BF7D",
           "#00B0F6",
           "#E76BF3"
          ],
          "font": {
           "color": "rgb(51,51,51)"
          },
          "geo": {
           "bgcolor": "white",
           "lakecolor": "white",
           "landcolor": "rgb(237,237,237)",
           "showlakes": true,
           "showland": true,
           "subunitcolor": "white"
          },
          "hoverlabel": {
           "align": "left"
          },
          "hovermode": "closest",
          "paper_bgcolor": "white",
          "plot_bgcolor": "rgb(237,237,237)",
          "polar": {
           "angularaxis": {
            "gridcolor": "white",
            "linecolor": "white",
            "showgrid": true,
            "tickcolor": "rgb(51,51,51)",
            "ticks": "outside"
           },
           "bgcolor": "rgb(237,237,237)",
           "radialaxis": {
            "gridcolor": "white",
            "linecolor": "white",
            "showgrid": true,
            "tickcolor": "rgb(51,51,51)",
            "ticks": "outside"
           }
          },
          "scene": {
           "xaxis": {
            "backgroundcolor": "rgb(237,237,237)",
            "gridcolor": "white",
            "gridwidth": 2,
            "linecolor": "white",
            "showbackground": true,
            "showgrid": true,
            "tickcolor": "rgb(51,51,51)",
            "ticks": "outside",
            "zerolinecolor": "white"
           },
           "yaxis": {
            "backgroundcolor": "rgb(237,237,237)",
            "gridcolor": "white",
            "gridwidth": 2,
            "linecolor": "white",
            "showbackground": true,
            "showgrid": true,
            "tickcolor": "rgb(51,51,51)",
            "ticks": "outside",
            "zerolinecolor": "white"
           },
           "zaxis": {
            "backgroundcolor": "rgb(237,237,237)",
            "gridcolor": "white",
            "gridwidth": 2,
            "linecolor": "white",
            "showbackground": true,
            "showgrid": true,
            "tickcolor": "rgb(51,51,51)",
            "ticks": "outside",
            "zerolinecolor": "white"
           }
          },
          "shapedefaults": {
           "fillcolor": "black",
           "line": {
            "width": 0
           },
           "opacity": 0.3
          },
          "ternary": {
           "aaxis": {
            "gridcolor": "white",
            "linecolor": "white",
            "showgrid": true,
            "tickcolor": "rgb(51,51,51)",
            "ticks": "outside"
           },
           "baxis": {
            "gridcolor": "white",
            "linecolor": "white",
            "showgrid": true,
            "tickcolor": "rgb(51,51,51)",
            "ticks": "outside"
           },
           "bgcolor": "rgb(237,237,237)",
           "caxis": {
            "gridcolor": "white",
            "linecolor": "white",
            "showgrid": true,
            "tickcolor": "rgb(51,51,51)",
            "ticks": "outside"
           }
          },
          "xaxis": {
           "automargin": true,
           "gridcolor": "white",
           "linecolor": "white",
           "showgrid": true,
           "tickcolor": "rgb(51,51,51)",
           "ticks": "outside",
           "title": {
            "standoff": 15
           },
           "zerolinecolor": "white"
          },
          "yaxis": {
           "automargin": true,
           "gridcolor": "white",
           "linecolor": "white",
           "showgrid": true,
           "tickcolor": "rgb(51,51,51)",
           "ticks": "outside",
           "title": {
            "standoff": 15
           },
           "zerolinecolor": "white"
          }
         }
        },
        "title": {
         "text": "Ensemble docking of 6GUE"
        },
        "xaxis": {
         "anchor": "y",
         "domain": [
          0,
          1
         ],
         "title": {
          "text": "RMSD"
         }
        },
        "yaxis": {
         "anchor": "x",
         "domain": [
          0,
          1
         ],
         "title": {
          "text": "Energy (kcal/mol)"
         }
        }
       }
      },
      "text/html": [
       "<div>                            <div id=\"f0f42581-3b7d-44d6-8d2e-701f46be2f06\" class=\"plotly-graph-div\" style=\"height:525px; width:100%;\"></div>            <script type=\"text/javascript\">                require([\"plotly\"], function(Plotly) {                    window.PLOTLYENV=window.PLOTLYENV || {};                                    if (document.getElementById(\"f0f42581-3b7d-44d6-8d2e-701f46be2f06\")) {                    Plotly.newPlot(                        \"f0f42581-3b7d-44d6-8d2e-701f46be2f06\",                        [{\"hovertemplate\":\"Receptor=5a14\\u003cbr\\u003eReceptor Type=DFG out\\u003cbr\\u003eRMSD=%{x}\\u003cbr\\u003eEnergy (kcal\\u002fmol)=%{y}\\u003cextra\\u003e\\u003c\\u002fextra\\u003e\",\"legendgroup\":\"5a14, DFG out\",\"marker\":{\"color\":\"rgb(141,211,199)\",\"symbol\":\"circle\",\"line\":{\"color\":\"DarkSlateGrey\",\"width\":1},\"size\":8},\"mode\":\"markers\",\"name\":\"5a14, DFG out\",\"orientation\":\"v\",\"showlegend\":true,\"x\":[7.72,7.29,7.81,3.51],\"xaxis\":\"x\",\"y\":[-3.57,-5.66,-5.78,-6.39],\"yaxis\":\"y\",\"type\":\"scatter\"},{\"hovertemplate\":\"Receptor=4kd1\\u003cbr\\u003eReceptor Type=no cyclin\\u003cbr\\u003eRMSD=%{x}\\u003cbr\\u003eEnergy (kcal\\u002fmol)=%{y}\\u003cextra\\u003e\\u003c\\u002fextra\\u003e\",\"legendgroup\":\"4kd1, no cyclin\",\"marker\":{\"color\":\"rgb(255,255,179)\",\"symbol\":\"x\",\"line\":{\"color\":\"DarkSlateGrey\",\"width\":1},\"size\":8},\"mode\":\"markers\",\"name\":\"4kd1, no cyclin\",\"orientation\":\"v\",\"showlegend\":true,\"x\":[2.92,3.42],\"xaxis\":\"x\",\"y\":[-6.35,-4.07],\"yaxis\":\"y\",\"type\":\"scatter\"},{\"hovertemplate\":\"Receptor=6guh\\u003cbr\\u003eReceptor Type=no cyclin\\u003cbr\\u003eRMSD=%{x}\\u003cbr\\u003eEnergy (kcal\\u002fmol)=%{y}\\u003cextra\\u003e\\u003c\\u002fextra\\u003e\",\"legendgroup\":\"6guh, no cyclin\",\"marker\":{\"color\":\"rgb(190,186,218)\",\"symbol\":\"x\",\"line\":{\"color\":\"DarkSlateGrey\",\"width\":1},\"size\":8},\"mode\":\"markers\",\"name\":\"6guh, no cyclin\",\"orientation\":\"v\",\"showlegend\":true,\"x\":[4.91],\"xaxis\":\"x\",\"y\":[-6.95],\"yaxis\":\"y\",\"type\":\"scatter\"},{\"hovertemplate\":\"Receptor=3pj8\\u003cbr\\u003eReceptor Type=no cyclin\\u003cbr\\u003eRMSD=%{x}\\u003cbr\\u003eEnergy (kcal\\u002fmol)=%{y}\\u003cextra\\u003e\\u003c\\u002fextra\\u003e\",\"legendgroup\":\"3pj8, no cyclin\",\"marker\":{\"color\":\"rgb(251,128,114)\",\"symbol\":\"x\",\"line\":{\"color\":\"DarkSlateGrey\",\"width\":1},\"size\":8},\"mode\":\"markers\",\"name\":\"3pj8, no cyclin\",\"orientation\":\"v\",\"showlegend\":true,\"x\":[8.49,8.18,8.11],\"xaxis\":\"x\",\"y\":[-7.45,-7.29,-7.5],\"yaxis\":\"y\",\"type\":\"scatter\"},{\"hovertemplate\":\"Receptor=6guk\\u003cbr\\u003eReceptor Type=no cyclin\\u003cbr\\u003eRMSD=%{x}\\u003cbr\\u003eEnergy (kcal\\u002fmol)=%{y}\\u003cextra\\u003e\\u003c\\u002fextra\\u003e\",\"legendgroup\":\"6guk, no cyclin\",\"marker\":{\"color\":\"rgb(128,177,211)\",\"symbol\":\"x\",\"line\":{\"color\":\"DarkSlateGrey\",\"width\":1},\"size\":8},\"mode\":\"markers\",\"name\":\"6guk, no cyclin\",\"orientation\":\"v\",\"showlegend\":true,\"x\":[8.57,7.41],\"xaxis\":\"x\",\"y\":[-8.29,-8.5],\"yaxis\":\"y\",\"type\":\"scatter\"},{\"hovertemplate\":\"Receptor=6gue\\u003cbr\\u003eReceptor Type=with cyclin\\u003cbr\\u003eRMSD=%{x}\\u003cbr\\u003eEnergy (kcal\\u002fmol)=%{y}\\u003cextra\\u003e\\u003c\\u002fextra\\u003e\",\"legendgroup\":\"6gue, with cyclin\",\"marker\":{\"color\":\"rgb(253,180,98)\",\"symbol\":\"triangle-up\",\"line\":{\"color\":\"DarkSlateGrey\",\"width\":1},\"size\":8},\"mode\":\"markers\",\"name\":\"6gue, with cyclin\",\"orientation\":\"v\",\"showlegend\":true,\"x\":[4.29,3.65,1.29],\"xaxis\":\"x\",\"y\":[-7.64,-9.0,-9.27],\"yaxis\":\"y\",\"type\":\"scatter\"},{\"hovertemplate\":\"Receptor=6gub\\u003cbr\\u003eReceptor Type=with cyclin\\u003cbr\\u003eRMSD=%{x}\\u003cbr\\u003eEnergy (kcal\\u002fmol)=%{y}\\u003cextra\\u003e\\u003c\\u002fextra\\u003e\",\"legendgroup\":\"6gub, with cyclin\",\"marker\":{\"color\":\"rgb(179,222,105)\",\"symbol\":\"triangle-up\",\"line\":{\"color\":\"DarkSlateGrey\",\"width\":1},\"size\":8},\"mode\":\"markers\",\"name\":\"6gub, with cyclin\",\"orientation\":\"v\",\"showlegend\":true,\"x\":[5.32,7.99,7.0],\"xaxis\":\"x\",\"y\":[-7.68,-6.9,-5.31],\"yaxis\":\"y\",\"type\":\"scatter\"},{\"hovertemplate\":\"Receptor=6guf\\u003cbr\\u003eReceptor Type=with cyclin\\u003cbr\\u003eRMSD=%{x}\\u003cbr\\u003eEnergy (kcal\\u002fmol)=%{y}\\u003cextra\\u003e\\u003c\\u002fextra\\u003e\",\"legendgroup\":\"6guf, with cyclin\",\"marker\":{\"color\":\"rgb(252,205,229)\",\"symbol\":\"triangle-up\",\"line\":{\"color\":\"DarkSlateGrey\",\"width\":1},\"size\":8},\"mode\":\"markers\",\"name\":\"6guf, with cyclin\",\"orientation\":\"v\",\"showlegend\":true,\"x\":[6.68,5.38],\"xaxis\":\"x\",\"y\":[-7.92,-7.5],\"yaxis\":\"y\",\"type\":\"scatter\"},{\"hovertemplate\":\"Receptor=3ddq\\u003cbr\\u003eReceptor Type=with cyclin\\u003cbr\\u003eRMSD=%{x}\\u003cbr\\u003eEnergy (kcal\\u002fmol)=%{y}\\u003cextra\\u003e\\u003c\\u002fextra\\u003e\",\"legendgroup\":\"3ddq, with cyclin\",\"marker\":{\"color\":\"rgb(217,217,217)\",\"symbol\":\"triangle-up\",\"line\":{\"color\":\"DarkSlateGrey\",\"width\":1},\"size\":8},\"mode\":\"markers\",\"name\":\"3ddq, with cyclin\",\"orientation\":\"v\",\"showlegend\":true,\"x\":[4.97],\"xaxis\":\"x\",\"y\":[-6.35],\"yaxis\":\"y\",\"type\":\"scatter\"}],                        {\"template\":{\"data\":{\"barpolar\":[{\"marker\":{\"line\":{\"color\":\"rgb(237,237,237)\",\"width\":0.5},\"pattern\":{\"fillmode\":\"overlay\",\"size\":10,\"solidity\":0.2}},\"type\":\"barpolar\"}],\"bar\":[{\"error_x\":{\"color\":\"rgb(51,51,51)\"},\"error_y\":{\"color\":\"rgb(51,51,51)\"},\"marker\":{\"line\":{\"color\":\"rgb(237,237,237)\",\"width\":0.5},\"pattern\":{\"fillmode\":\"overlay\",\"size\":10,\"solidity\":0.2}},\"type\":\"bar\"}],\"carpet\":[{\"aaxis\":{\"endlinecolor\":\"rgb(51,51,51)\",\"gridcolor\":\"white\",\"linecolor\":\"white\",\"minorgridcolor\":\"white\",\"startlinecolor\":\"rgb(51,51,51)\"},\"baxis\":{\"endlinecolor\":\"rgb(51,51,51)\",\"gridcolor\":\"white\",\"linecolor\":\"white\",\"minorgridcolor\":\"white\",\"startlinecolor\":\"rgb(51,51,51)\"},\"type\":\"carpet\"}],\"choropleth\":[{\"colorbar\":{\"outlinewidth\":0,\"tickcolor\":\"rgb(237,237,237)\",\"ticklen\":6,\"ticks\":\"inside\"},\"type\":\"choropleth\"}],\"contourcarpet\":[{\"colorbar\":{\"outlinewidth\":0,\"tickcolor\":\"rgb(237,237,237)\",\"ticklen\":6,\"ticks\":\"inside\"},\"type\":\"contourcarpet\"}],\"contour\":[{\"colorbar\":{\"outlinewidth\":0,\"tickcolor\":\"rgb(237,237,237)\",\"ticklen\":6,\"ticks\":\"inside\"},\"colorscale\":[[0,\"rgb(20,44,66)\"],[1,\"rgb(90,179,244)\"]],\"type\":\"contour\"}],\"heatmapgl\":[{\"colorbar\":{\"outlinewidth\":0,\"tickcolor\":\"rgb(237,237,237)\",\"ticklen\":6,\"ticks\":\"inside\"},\"colorscale\":[[0,\"rgb(20,44,66)\"],[1,\"rgb(90,179,244)\"]],\"type\":\"heatmapgl\"}],\"heatmap\":[{\"colorbar\":{\"outlinewidth\":0,\"tickcolor\":\"rgb(237,237,237)\",\"ticklen\":6,\"ticks\":\"inside\"},\"colorscale\":[[0,\"rgb(20,44,66)\"],[1,\"rgb(90,179,244)\"]],\"type\":\"heatmap\"}],\"histogram2dcontour\":[{\"colorbar\":{\"outlinewidth\":0,\"tickcolor\":\"rgb(237,237,237)\",\"ticklen\":6,\"ticks\":\"inside\"},\"colorscale\":[[0,\"rgb(20,44,66)\"],[1,\"rgb(90,179,244)\"]],\"type\":\"histogram2dcontour\"}],\"histogram2d\":[{\"colorbar\":{\"outlinewidth\":0,\"tickcolor\":\"rgb(237,237,237)\",\"ticklen\":6,\"ticks\":\"inside\"},\"colorscale\":[[0,\"rgb(20,44,66)\"],[1,\"rgb(90,179,244)\"]],\"type\":\"histogram2d\"}],\"histogram\":[{\"marker\":{\"pattern\":{\"fillmode\":\"overlay\",\"size\":10,\"solidity\":0.2}},\"type\":\"histogram\"}],\"mesh3d\":[{\"colorbar\":{\"outlinewidth\":0,\"tickcolor\":\"rgb(237,237,237)\",\"ticklen\":6,\"ticks\":\"inside\"},\"type\":\"mesh3d\"}],\"parcoords\":[{\"line\":{\"colorbar\":{\"outlinewidth\":0,\"tickcolor\":\"rgb(237,237,237)\",\"ticklen\":6,\"ticks\":\"inside\"}},\"type\":\"parcoords\"}],\"pie\":[{\"automargin\":true,\"type\":\"pie\"}],\"scatter3d\":[{\"line\":{\"colorbar\":{\"outlinewidth\":0,\"tickcolor\":\"rgb(237,237,237)\",\"ticklen\":6,\"ticks\":\"inside\"}},\"marker\":{\"colorbar\":{\"outlinewidth\":0,\"tickcolor\":\"rgb(237,237,237)\",\"ticklen\":6,\"ticks\":\"inside\"}},\"type\":\"scatter3d\"}],\"scattercarpet\":[{\"marker\":{\"colorbar\":{\"outlinewidth\":0,\"tickcolor\":\"rgb(237,237,237)\",\"ticklen\":6,\"ticks\":\"inside\"}},\"type\":\"scattercarpet\"}],\"scattergeo\":[{\"marker\":{\"colorbar\":{\"outlinewidth\":0,\"tickcolor\":\"rgb(237,237,237)\",\"ticklen\":6,\"ticks\":\"inside\"}},\"type\":\"scattergeo\"}],\"scattergl\":[{\"marker\":{\"colorbar\":{\"outlinewidth\":0,\"tickcolor\":\"rgb(237,237,237)\",\"ticklen\":6,\"ticks\":\"inside\"}},\"type\":\"scattergl\"}],\"scattermapbox\":[{\"marker\":{\"colorbar\":{\"outlinewidth\":0,\"tickcolor\":\"rgb(237,237,237)\",\"ticklen\":6,\"ticks\":\"inside\"}},\"type\":\"scattermapbox\"}],\"scatterpolargl\":[{\"marker\":{\"colorbar\":{\"outlinewidth\":0,\"tickcolor\":\"rgb(237,237,237)\",\"ticklen\":6,\"ticks\":\"inside\"}},\"type\":\"scatterpolargl\"}],\"scatterpolar\":[{\"marker\":{\"colorbar\":{\"outlinewidth\":0,\"tickcolor\":\"rgb(237,237,237)\",\"ticklen\":6,\"ticks\":\"inside\"}},\"type\":\"scatterpolar\"}],\"scatter\":[{\"fillpattern\":{\"fillmode\":\"overlay\",\"size\":10,\"solidity\":0.2},\"type\":\"scatter\"}],\"scatterternary\":[{\"marker\":{\"colorbar\":{\"outlinewidth\":0,\"tickcolor\":\"rgb(237,237,237)\",\"ticklen\":6,\"ticks\":\"inside\"}},\"type\":\"scatterternary\"}],\"surface\":[{\"colorbar\":{\"outlinewidth\":0,\"tickcolor\":\"rgb(237,237,237)\",\"ticklen\":6,\"ticks\":\"inside\"},\"colorscale\":[[0,\"rgb(20,44,66)\"],[1,\"rgb(90,179,244)\"]],\"type\":\"surface\"}],\"table\":[{\"cells\":{\"fill\":{\"color\":\"rgb(237,237,237)\"},\"line\":{\"color\":\"white\"}},\"header\":{\"fill\":{\"color\":\"rgb(217,217,217)\"},\"line\":{\"color\":\"white\"}},\"type\":\"table\"}]},\"layout\":{\"annotationdefaults\":{\"arrowhead\":0,\"arrowwidth\":1},\"autotypenumbers\":\"strict\",\"coloraxis\":{\"colorbar\":{\"outlinewidth\":0,\"tickcolor\":\"rgb(237,237,237)\",\"ticklen\":6,\"ticks\":\"inside\"}},\"colorscale\":{\"sequential\":[[0,\"rgb(20,44,66)\"],[1,\"rgb(90,179,244)\"]],\"sequentialminus\":[[0,\"rgb(20,44,66)\"],[1,\"rgb(90,179,244)\"]]},\"colorway\":[\"#F8766D\",\"#A3A500\",\"#00BF7D\",\"#00B0F6\",\"#E76BF3\"],\"font\":{\"color\":\"rgb(51,51,51)\"},\"geo\":{\"bgcolor\":\"white\",\"lakecolor\":\"white\",\"landcolor\":\"rgb(237,237,237)\",\"showlakes\":true,\"showland\":true,\"subunitcolor\":\"white\"},\"hoverlabel\":{\"align\":\"left\"},\"hovermode\":\"closest\",\"paper_bgcolor\":\"white\",\"plot_bgcolor\":\"rgb(237,237,237)\",\"polar\":{\"angularaxis\":{\"gridcolor\":\"white\",\"linecolor\":\"white\",\"showgrid\":true,\"tickcolor\":\"rgb(51,51,51)\",\"ticks\":\"outside\"},\"bgcolor\":\"rgb(237,237,237)\",\"radialaxis\":{\"gridcolor\":\"white\",\"linecolor\":\"white\",\"showgrid\":true,\"tickcolor\":\"rgb(51,51,51)\",\"ticks\":\"outside\"}},\"scene\":{\"xaxis\":{\"backgroundcolor\":\"rgb(237,237,237)\",\"gridcolor\":\"white\",\"gridwidth\":2,\"linecolor\":\"white\",\"showbackground\":true,\"showgrid\":true,\"tickcolor\":\"rgb(51,51,51)\",\"ticks\":\"outside\",\"zerolinecolor\":\"white\"},\"yaxis\":{\"backgroundcolor\":\"rgb(237,237,237)\",\"gridcolor\":\"white\",\"gridwidth\":2,\"linecolor\":\"white\",\"showbackground\":true,\"showgrid\":true,\"tickcolor\":\"rgb(51,51,51)\",\"ticks\":\"outside\",\"zerolinecolor\":\"white\"},\"zaxis\":{\"backgroundcolor\":\"rgb(237,237,237)\",\"gridcolor\":\"white\",\"gridwidth\":2,\"linecolor\":\"white\",\"showbackground\":true,\"showgrid\":true,\"tickcolor\":\"rgb(51,51,51)\",\"ticks\":\"outside\",\"zerolinecolor\":\"white\"}},\"shapedefaults\":{\"fillcolor\":\"black\",\"line\":{\"width\":0},\"opacity\":0.3},\"ternary\":{\"aaxis\":{\"gridcolor\":\"white\",\"linecolor\":\"white\",\"showgrid\":true,\"tickcolor\":\"rgb(51,51,51)\",\"ticks\":\"outside\"},\"baxis\":{\"gridcolor\":\"white\",\"linecolor\":\"white\",\"showgrid\":true,\"tickcolor\":\"rgb(51,51,51)\",\"ticks\":\"outside\"},\"bgcolor\":\"rgb(237,237,237)\",\"caxis\":{\"gridcolor\":\"white\",\"linecolor\":\"white\",\"showgrid\":true,\"tickcolor\":\"rgb(51,51,51)\",\"ticks\":\"outside\"}},\"xaxis\":{\"automargin\":true,\"gridcolor\":\"white\",\"linecolor\":\"white\",\"showgrid\":true,\"tickcolor\":\"rgb(51,51,51)\",\"ticks\":\"outside\",\"title\":{\"standoff\":15},\"zerolinecolor\":\"white\"},\"yaxis\":{\"automargin\":true,\"gridcolor\":\"white\",\"linecolor\":\"white\",\"showgrid\":true,\"tickcolor\":\"rgb(51,51,51)\",\"ticks\":\"outside\",\"title\":{\"standoff\":15},\"zerolinecolor\":\"white\"}}},\"xaxis\":{\"anchor\":\"y\",\"domain\":[0.0,1.0],\"title\":{\"text\":\"RMSD\"}},\"yaxis\":{\"anchor\":\"x\",\"domain\":[0.0,1.0],\"title\":{\"text\":\"Energy (kcal\\u002fmol)\"}},\"legend\":{\"title\":{\"text\":\"Receptor, Receptor Type\"},\"tracegroupgap\":0},\"margin\":{\"t\":60},\"title\":{\"text\":\"Ensemble docking of 6GUE\"}},                        {\"responsive\": true}                    ).then(function(){\n",
       "                            \n",
       "var gd = document.getElementById('f0f42581-3b7d-44d6-8d2e-701f46be2f06');\n",
       "var x = new MutationObserver(function (mutations, observer) {{\n",
       "        var display = window.getComputedStyle(gd).display;\n",
       "        if (!display || display === 'none') {{\n",
       "            console.log([gd, 'removed!']);\n",
       "            Plotly.purge(gd);\n",
       "            observer.disconnect();\n",
       "        }}\n",
       "}});\n",
       "\n",
       "// Listen for the removal of the full notebook cells\n",
       "var notebookContainer = gd.closest('#notebook-container');\n",
       "if (notebookContainer) {{\n",
       "    x.observe(notebookContainer, {childList: true});\n",
       "}}\n",
       "\n",
       "// Listen for the clearing of the current output cell\n",
       "var outputEl = gd.closest('.output');\n",
       "if (outputEl) {{\n",
       "    x.observe(outputEl, {childList: true});\n",
       "}}\n",
       "\n",
       "                        })                };                });            </script>        </div>"
      ]
     },
     "metadata": {},
     "output_type": "display_data"
    },
    {
     "data": {
      "application/vnd.plotly.v1+json": {
       "config": {
        "plotlyServerURL": "https://plot.ly"
       },
       "data": [
        {
         "hovertemplate": "Receptor=5a14<br>Receptor Type=DFG out<br>RMSD=%{x}<br>Energy (kcal/mol)=%{y}<extra></extra>",
         "legendgroup": "5a14, DFG out",
         "marker": {
          "color": "rgb(141,211,199)",
          "line": {
           "color": "DarkSlateGrey",
           "width": 1
          },
          "size": 8,
          "symbol": "circle"
         },
         "mode": "markers",
         "name": "5a14, DFG out",
         "orientation": "v",
         "showlegend": true,
         "type": "scatter",
         "x": [
          3.43,
          7.74,
          6.59,
          6.87,
          6.07,
          6.15,
          5.95,
          6.94,
          6.7
         ],
         "xaxis": "x",
         "y": [
          -7.48,
          -6.55,
          -7.61,
          -8.05,
          -7.06,
          -7.65,
          -5.25,
          -6.3,
          -6.45
         ],
         "yaxis": "y"
        },
        {
         "hovertemplate": "Receptor=3pj8<br>Receptor Type=no cyclin<br>RMSD=%{x}<br>Energy (kcal/mol)=%{y}<extra></extra>",
         "legendgroup": "3pj8, no cyclin",
         "marker": {
          "color": "rgb(255,255,179)",
          "line": {
           "color": "DarkSlateGrey",
           "width": 1
          },
          "size": 8,
          "symbol": "x"
         },
         "mode": "markers",
         "name": "3pj8, no cyclin",
         "orientation": "v",
         "showlegend": true,
         "type": "scatter",
         "x": [
          5.82,
          6.29,
          3.17,
          3.08
         ],
         "xaxis": "x",
         "y": [
          -7.14,
          -6.66,
          -8.91,
          -9.47
         ],
         "yaxis": "y"
        },
        {
         "hovertemplate": "Receptor=6guk<br>Receptor Type=no cyclin<br>RMSD=%{x}<br>Energy (kcal/mol)=%{y}<extra></extra>",
         "legendgroup": "6guk, no cyclin",
         "marker": {
          "color": "rgb(190,186,218)",
          "line": {
           "color": "DarkSlateGrey",
           "width": 1
          },
          "size": 8,
          "symbol": "x"
         },
         "mode": "markers",
         "name": "6guk, no cyclin",
         "orientation": "v",
         "showlegend": true,
         "type": "scatter",
         "x": [
          7.18,
          5.44,
          4.53,
          7,
          6.46,
          6.27,
          1.71,
          5.83,
          6.91,
          6.21,
          6.27
         ],
         "xaxis": "x",
         "y": [
          -7.82,
          -7.34,
          -7.62,
          -7.61,
          -7.87,
          -7.66,
          -9.1,
          -8.6,
          -6.49,
          -5.57,
          -5.92
         ],
         "yaxis": "y"
        },
        {
         "hovertemplate": "Receptor=4kd1<br>Receptor Type=no cyclin<br>RMSD=%{x}<br>Energy (kcal/mol)=%{y}<extra></extra>",
         "legendgroup": "4kd1, no cyclin",
         "marker": {
          "color": "rgb(251,128,114)",
          "line": {
           "color": "DarkSlateGrey",
           "width": 1
          },
          "size": 8,
          "symbol": "x"
         },
         "mode": "markers",
         "name": "4kd1, no cyclin",
         "orientation": "v",
         "showlegend": true,
         "type": "scatter",
         "x": [
          5.67
         ],
         "xaxis": "x",
         "y": [
          -8.17
         ],
         "yaxis": "y"
        },
        {
         "hovertemplate": "Receptor=6guh<br>Receptor Type=no cyclin<br>RMSD=%{x}<br>Energy (kcal/mol)=%{y}<extra></extra>",
         "legendgroup": "6guh, no cyclin",
         "marker": {
          "color": "rgb(128,177,211)",
          "line": {
           "color": "DarkSlateGrey",
           "width": 1
          },
          "size": 8,
          "symbol": "x"
         },
         "mode": "markers",
         "name": "6guh, no cyclin",
         "orientation": "v",
         "showlegend": true,
         "type": "scatter",
         "x": [
          6.46,
          6.67,
          5.98,
          7.49,
          6.71
         ],
         "xaxis": "x",
         "y": [
          -7.43,
          -6.58,
          -6.37,
          -7.49,
          -9.29
         ],
         "yaxis": "y"
        },
        {
         "hovertemplate": "Receptor=3ddq<br>Receptor Type=with cyclin<br>RMSD=%{x}<br>Energy (kcal/mol)=%{y}<extra></extra>",
         "legendgroup": "3ddq, with cyclin",
         "marker": {
          "color": "rgb(253,180,98)",
          "line": {
           "color": "DarkSlateGrey",
           "width": 1
          },
          "size": 8,
          "symbol": "triangle-up"
         },
         "mode": "markers",
         "name": "3ddq, with cyclin",
         "orientation": "v",
         "showlegend": true,
         "type": "scatter",
         "x": [
          5.79,
          7.08,
          2.04
         ],
         "xaxis": "x",
         "y": [
          -5.8,
          -6.82,
          -8.19
         ],
         "yaxis": "y"
        },
        {
         "hovertemplate": "Receptor=6gub<br>Receptor Type=with cyclin<br>RMSD=%{x}<br>Energy (kcal/mol)=%{y}<extra></extra>",
         "legendgroup": "6gub, with cyclin",
         "marker": {
          "color": "rgb(179,222,105)",
          "line": {
           "color": "DarkSlateGrey",
           "width": 1
          },
          "size": 8,
          "symbol": "triangle-up"
         },
         "mode": "markers",
         "name": "6gub, with cyclin",
         "orientation": "v",
         "showlegend": true,
         "type": "scatter",
         "x": [
          5.82,
          6.65,
          5.89,
          6.37,
          6.27,
          7.07,
          6.19
         ],
         "xaxis": "x",
         "y": [
          -6.33,
          -6.61,
          -8.7,
          -8.67,
          -8.56,
          -8.29,
          -5.21
         ],
         "yaxis": "y"
        },
        {
         "hovertemplate": "Receptor=6gue<br>Receptor Type=with cyclin<br>RMSD=%{x}<br>Energy (kcal/mol)=%{y}<extra></extra>",
         "legendgroup": "6gue, with cyclin",
         "marker": {
          "color": "rgb(252,205,229)",
          "line": {
           "color": "DarkSlateGrey",
           "width": 1
          },
          "size": 8,
          "symbol": "triangle-up"
         },
         "mode": "markers",
         "name": "6gue, with cyclin",
         "orientation": "v",
         "showlegend": true,
         "type": "scatter",
         "x": [
          3.55,
          6.06,
          7.5,
          6.06,
          5.83,
          6.89,
          5.05,
          7.26,
          6.4
         ],
         "xaxis": "x",
         "y": [
          -7.2,
          -9.71,
          -7.86,
          -9.64,
          -9.48,
          -9.14,
          -8.76,
          -8.22,
          -8
         ],
         "yaxis": "y"
        },
        {
         "hovertemplate": "Receptor=5l2w<br>Receptor Type=with cyclin<br>RMSD=%{x}<br>Energy (kcal/mol)=%{y}<extra></extra>",
         "legendgroup": "5l2w, with cyclin",
         "marker": {
          "color": "rgb(217,217,217)",
          "line": {
           "color": "DarkSlateGrey",
           "width": 1
          },
          "size": 8,
          "symbol": "triangle-up"
         },
         "mode": "markers",
         "name": "5l2w, with cyclin",
         "orientation": "v",
         "showlegend": true,
         "type": "scatter",
         "x": [
          5.81,
          5.42,
          5.98
         ],
         "xaxis": "x",
         "y": [
          -5.8,
          -9.52,
          -8.29
         ],
         "yaxis": "y"
        },
        {
         "hovertemplate": "Receptor=6guf<br>Receptor Type=with cyclin<br>RMSD=%{x}<br>Energy (kcal/mol)=%{y}<extra></extra>",
         "legendgroup": "6guf, with cyclin",
         "marker": {
          "color": "rgb(188,128,189)",
          "line": {
           "color": "DarkSlateGrey",
           "width": 1
          },
          "size": 8,
          "symbol": "triangle-up"
         },
         "mode": "markers",
         "name": "6guf, with cyclin",
         "orientation": "v",
         "showlegend": true,
         "type": "scatter",
         "x": [
          2.33,
          7.3,
          5.64,
          6.58,
          6.15
         ],
         "xaxis": "x",
         "y": [
          -9.26,
          -8.62,
          -8.03,
          -7.92,
          -7.53
         ],
         "yaxis": "y"
        }
       ],
       "layout": {
        "legend": {
         "title": {
          "text": "Receptor, Receptor Type"
         },
         "tracegroupgap": 0
        },
        "margin": {
         "t": 60
        },
        "template": {
         "data": {
          "bar": [
           {
            "error_x": {
             "color": "rgb(51,51,51)"
            },
            "error_y": {
             "color": "rgb(51,51,51)"
            },
            "marker": {
             "line": {
              "color": "rgb(237,237,237)",
              "width": 0.5
             },
             "pattern": {
              "fillmode": "overlay",
              "size": 10,
              "solidity": 0.2
             }
            },
            "type": "bar"
           }
          ],
          "barpolar": [
           {
            "marker": {
             "line": {
              "color": "rgb(237,237,237)",
              "width": 0.5
             },
             "pattern": {
              "fillmode": "overlay",
              "size": 10,
              "solidity": 0.2
             }
            },
            "type": "barpolar"
           }
          ],
          "carpet": [
           {
            "aaxis": {
             "endlinecolor": "rgb(51,51,51)",
             "gridcolor": "white",
             "linecolor": "white",
             "minorgridcolor": "white",
             "startlinecolor": "rgb(51,51,51)"
            },
            "baxis": {
             "endlinecolor": "rgb(51,51,51)",
             "gridcolor": "white",
             "linecolor": "white",
             "minorgridcolor": "white",
             "startlinecolor": "rgb(51,51,51)"
            },
            "type": "carpet"
           }
          ],
          "choropleth": [
           {
            "colorbar": {
             "outlinewidth": 0,
             "tickcolor": "rgb(237,237,237)",
             "ticklen": 6,
             "ticks": "inside"
            },
            "type": "choropleth"
           }
          ],
          "contour": [
           {
            "colorbar": {
             "outlinewidth": 0,
             "tickcolor": "rgb(237,237,237)",
             "ticklen": 6,
             "ticks": "inside"
            },
            "colorscale": [
             [
              0,
              "rgb(20,44,66)"
             ],
             [
              1,
              "rgb(90,179,244)"
             ]
            ],
            "type": "contour"
           }
          ],
          "contourcarpet": [
           {
            "colorbar": {
             "outlinewidth": 0,
             "tickcolor": "rgb(237,237,237)",
             "ticklen": 6,
             "ticks": "inside"
            },
            "type": "contourcarpet"
           }
          ],
          "heatmap": [
           {
            "colorbar": {
             "outlinewidth": 0,
             "tickcolor": "rgb(237,237,237)",
             "ticklen": 6,
             "ticks": "inside"
            },
            "colorscale": [
             [
              0,
              "rgb(20,44,66)"
             ],
             [
              1,
              "rgb(90,179,244)"
             ]
            ],
            "type": "heatmap"
           }
          ],
          "heatmapgl": [
           {
            "colorbar": {
             "outlinewidth": 0,
             "tickcolor": "rgb(237,237,237)",
             "ticklen": 6,
             "ticks": "inside"
            },
            "colorscale": [
             [
              0,
              "rgb(20,44,66)"
             ],
             [
              1,
              "rgb(90,179,244)"
             ]
            ],
            "type": "heatmapgl"
           }
          ],
          "histogram": [
           {
            "marker": {
             "pattern": {
              "fillmode": "overlay",
              "size": 10,
              "solidity": 0.2
             }
            },
            "type": "histogram"
           }
          ],
          "histogram2d": [
           {
            "colorbar": {
             "outlinewidth": 0,
             "tickcolor": "rgb(237,237,237)",
             "ticklen": 6,
             "ticks": "inside"
            },
            "colorscale": [
             [
              0,
              "rgb(20,44,66)"
             ],
             [
              1,
              "rgb(90,179,244)"
             ]
            ],
            "type": "histogram2d"
           }
          ],
          "histogram2dcontour": [
           {
            "colorbar": {
             "outlinewidth": 0,
             "tickcolor": "rgb(237,237,237)",
             "ticklen": 6,
             "ticks": "inside"
            },
            "colorscale": [
             [
              0,
              "rgb(20,44,66)"
             ],
             [
              1,
              "rgb(90,179,244)"
             ]
            ],
            "type": "histogram2dcontour"
           }
          ],
          "mesh3d": [
           {
            "colorbar": {
             "outlinewidth": 0,
             "tickcolor": "rgb(237,237,237)",
             "ticklen": 6,
             "ticks": "inside"
            },
            "type": "mesh3d"
           }
          ],
          "parcoords": [
           {
            "line": {
             "colorbar": {
              "outlinewidth": 0,
              "tickcolor": "rgb(237,237,237)",
              "ticklen": 6,
              "ticks": "inside"
             }
            },
            "type": "parcoords"
           }
          ],
          "pie": [
           {
            "automargin": true,
            "type": "pie"
           }
          ],
          "scatter": [
           {
            "fillpattern": {
             "fillmode": "overlay",
             "size": 10,
             "solidity": 0.2
            },
            "type": "scatter"
           }
          ],
          "scatter3d": [
           {
            "line": {
             "colorbar": {
              "outlinewidth": 0,
              "tickcolor": "rgb(237,237,237)",
              "ticklen": 6,
              "ticks": "inside"
             }
            },
            "marker": {
             "colorbar": {
              "outlinewidth": 0,
              "tickcolor": "rgb(237,237,237)",
              "ticklen": 6,
              "ticks": "inside"
             }
            },
            "type": "scatter3d"
           }
          ],
          "scattercarpet": [
           {
            "marker": {
             "colorbar": {
              "outlinewidth": 0,
              "tickcolor": "rgb(237,237,237)",
              "ticklen": 6,
              "ticks": "inside"
             }
            },
            "type": "scattercarpet"
           }
          ],
          "scattergeo": [
           {
            "marker": {
             "colorbar": {
              "outlinewidth": 0,
              "tickcolor": "rgb(237,237,237)",
              "ticklen": 6,
              "ticks": "inside"
             }
            },
            "type": "scattergeo"
           }
          ],
          "scattergl": [
           {
            "marker": {
             "colorbar": {
              "outlinewidth": 0,
              "tickcolor": "rgb(237,237,237)",
              "ticklen": 6,
              "ticks": "inside"
             }
            },
            "type": "scattergl"
           }
          ],
          "scattermapbox": [
           {
            "marker": {
             "colorbar": {
              "outlinewidth": 0,
              "tickcolor": "rgb(237,237,237)",
              "ticklen": 6,
              "ticks": "inside"
             }
            },
            "type": "scattermapbox"
           }
          ],
          "scatterpolar": [
           {
            "marker": {
             "colorbar": {
              "outlinewidth": 0,
              "tickcolor": "rgb(237,237,237)",
              "ticklen": 6,
              "ticks": "inside"
             }
            },
            "type": "scatterpolar"
           }
          ],
          "scatterpolargl": [
           {
            "marker": {
             "colorbar": {
              "outlinewidth": 0,
              "tickcolor": "rgb(237,237,237)",
              "ticklen": 6,
              "ticks": "inside"
             }
            },
            "type": "scatterpolargl"
           }
          ],
          "scatterternary": [
           {
            "marker": {
             "colorbar": {
              "outlinewidth": 0,
              "tickcolor": "rgb(237,237,237)",
              "ticklen": 6,
              "ticks": "inside"
             }
            },
            "type": "scatterternary"
           }
          ],
          "surface": [
           {
            "colorbar": {
             "outlinewidth": 0,
             "tickcolor": "rgb(237,237,237)",
             "ticklen": 6,
             "ticks": "inside"
            },
            "colorscale": [
             [
              0,
              "rgb(20,44,66)"
             ],
             [
              1,
              "rgb(90,179,244)"
             ]
            ],
            "type": "surface"
           }
          ],
          "table": [
           {
            "cells": {
             "fill": {
              "color": "rgb(237,237,237)"
             },
             "line": {
              "color": "white"
             }
            },
            "header": {
             "fill": {
              "color": "rgb(217,217,217)"
             },
             "line": {
              "color": "white"
             }
            },
            "type": "table"
           }
          ]
         },
         "layout": {
          "annotationdefaults": {
           "arrowhead": 0,
           "arrowwidth": 1
          },
          "autotypenumbers": "strict",
          "coloraxis": {
           "colorbar": {
            "outlinewidth": 0,
            "tickcolor": "rgb(237,237,237)",
            "ticklen": 6,
            "ticks": "inside"
           }
          },
          "colorscale": {
           "sequential": [
            [
             0,
             "rgb(20,44,66)"
            ],
            [
             1,
             "rgb(90,179,244)"
            ]
           ],
           "sequentialminus": [
            [
             0,
             "rgb(20,44,66)"
            ],
            [
             1,
             "rgb(90,179,244)"
            ]
           ]
          },
          "colorway": [
           "#F8766D",
           "#A3A500",
           "#00BF7D",
           "#00B0F6",
           "#E76BF3"
          ],
          "font": {
           "color": "rgb(51,51,51)"
          },
          "geo": {
           "bgcolor": "white",
           "lakecolor": "white",
           "landcolor": "rgb(237,237,237)",
           "showlakes": true,
           "showland": true,
           "subunitcolor": "white"
          },
          "hoverlabel": {
           "align": "left"
          },
          "hovermode": "closest",
          "paper_bgcolor": "white",
          "plot_bgcolor": "rgb(237,237,237)",
          "polar": {
           "angularaxis": {
            "gridcolor": "white",
            "linecolor": "white",
            "showgrid": true,
            "tickcolor": "rgb(51,51,51)",
            "ticks": "outside"
           },
           "bgcolor": "rgb(237,237,237)",
           "radialaxis": {
            "gridcolor": "white",
            "linecolor": "white",
            "showgrid": true,
            "tickcolor": "rgb(51,51,51)",
            "ticks": "outside"
           }
          },
          "scene": {
           "xaxis": {
            "backgroundcolor": "rgb(237,237,237)",
            "gridcolor": "white",
            "gridwidth": 2,
            "linecolor": "white",
            "showbackground": true,
            "showgrid": true,
            "tickcolor": "rgb(51,51,51)",
            "ticks": "outside",
            "zerolinecolor": "white"
           },
           "yaxis": {
            "backgroundcolor": "rgb(237,237,237)",
            "gridcolor": "white",
            "gridwidth": 2,
            "linecolor": "white",
            "showbackground": true,
            "showgrid": true,
            "tickcolor": "rgb(51,51,51)",
            "ticks": "outside",
            "zerolinecolor": "white"
           },
           "zaxis": {
            "backgroundcolor": "rgb(237,237,237)",
            "gridcolor": "white",
            "gridwidth": 2,
            "linecolor": "white",
            "showbackground": true,
            "showgrid": true,
            "tickcolor": "rgb(51,51,51)",
            "ticks": "outside",
            "zerolinecolor": "white"
           }
          },
          "shapedefaults": {
           "fillcolor": "black",
           "line": {
            "width": 0
           },
           "opacity": 0.3
          },
          "ternary": {
           "aaxis": {
            "gridcolor": "white",
            "linecolor": "white",
            "showgrid": true,
            "tickcolor": "rgb(51,51,51)",
            "ticks": "outside"
           },
           "baxis": {
            "gridcolor": "white",
            "linecolor": "white",
            "showgrid": true,
            "tickcolor": "rgb(51,51,51)",
            "ticks": "outside"
           },
           "bgcolor": "rgb(237,237,237)",
           "caxis": {
            "gridcolor": "white",
            "linecolor": "white",
            "showgrid": true,
            "tickcolor": "rgb(51,51,51)",
            "ticks": "outside"
           }
          },
          "xaxis": {
           "automargin": true,
           "gridcolor": "white",
           "linecolor": "white",
           "showgrid": true,
           "tickcolor": "rgb(51,51,51)",
           "ticks": "outside",
           "title": {
            "standoff": 15
           },
           "zerolinecolor": "white"
          },
          "yaxis": {
           "automargin": true,
           "gridcolor": "white",
           "linecolor": "white",
           "showgrid": true,
           "tickcolor": "rgb(51,51,51)",
           "ticks": "outside",
           "title": {
            "standoff": 15
           },
           "zerolinecolor": "white"
          }
         }
        },
        "title": {
         "text": "Ensemble docking of 6GUK"
        },
        "xaxis": {
         "anchor": "y",
         "domain": [
          0,
          1
         ],
         "title": {
          "text": "RMSD"
         }
        },
        "yaxis": {
         "anchor": "x",
         "domain": [
          0,
          1
         ],
         "title": {
          "text": "Energy (kcal/mol)"
         }
        }
       }
      },
      "text/html": [
       "<div>                            <div id=\"18931ac6-6cba-46fd-8fcc-b7e137eac214\" class=\"plotly-graph-div\" style=\"height:525px; width:100%;\"></div>            <script type=\"text/javascript\">                require([\"plotly\"], function(Plotly) {                    window.PLOTLYENV=window.PLOTLYENV || {};                                    if (document.getElementById(\"18931ac6-6cba-46fd-8fcc-b7e137eac214\")) {                    Plotly.newPlot(                        \"18931ac6-6cba-46fd-8fcc-b7e137eac214\",                        [{\"hovertemplate\":\"Receptor=5a14\\u003cbr\\u003eReceptor Type=DFG out\\u003cbr\\u003eRMSD=%{x}\\u003cbr\\u003eEnergy (kcal\\u002fmol)=%{y}\\u003cextra\\u003e\\u003c\\u002fextra\\u003e\",\"legendgroup\":\"5a14, DFG out\",\"marker\":{\"color\":\"rgb(141,211,199)\",\"symbol\":\"circle\",\"line\":{\"color\":\"DarkSlateGrey\",\"width\":1},\"size\":8},\"mode\":\"markers\",\"name\":\"5a14, DFG out\",\"orientation\":\"v\",\"showlegend\":true,\"x\":[3.43,7.74,6.59,6.87,6.07,6.15,5.95,6.94,6.7],\"xaxis\":\"x\",\"y\":[-7.48,-6.55,-7.61,-8.05,-7.06,-7.65,-5.25,-6.3,-6.45],\"yaxis\":\"y\",\"type\":\"scatter\"},{\"hovertemplate\":\"Receptor=3pj8\\u003cbr\\u003eReceptor Type=no cyclin\\u003cbr\\u003eRMSD=%{x}\\u003cbr\\u003eEnergy (kcal\\u002fmol)=%{y}\\u003cextra\\u003e\\u003c\\u002fextra\\u003e\",\"legendgroup\":\"3pj8, no cyclin\",\"marker\":{\"color\":\"rgb(255,255,179)\",\"symbol\":\"x\",\"line\":{\"color\":\"DarkSlateGrey\",\"width\":1},\"size\":8},\"mode\":\"markers\",\"name\":\"3pj8, no cyclin\",\"orientation\":\"v\",\"showlegend\":true,\"x\":[5.82,6.29,3.17,3.08],\"xaxis\":\"x\",\"y\":[-7.14,-6.66,-8.91,-9.47],\"yaxis\":\"y\",\"type\":\"scatter\"},{\"hovertemplate\":\"Receptor=6guk\\u003cbr\\u003eReceptor Type=no cyclin\\u003cbr\\u003eRMSD=%{x}\\u003cbr\\u003eEnergy (kcal\\u002fmol)=%{y}\\u003cextra\\u003e\\u003c\\u002fextra\\u003e\",\"legendgroup\":\"6guk, no cyclin\",\"marker\":{\"color\":\"rgb(190,186,218)\",\"symbol\":\"x\",\"line\":{\"color\":\"DarkSlateGrey\",\"width\":1},\"size\":8},\"mode\":\"markers\",\"name\":\"6guk, no cyclin\",\"orientation\":\"v\",\"showlegend\":true,\"x\":[7.18,5.44,4.53,7.0,6.46,6.27,1.71,5.83,6.91,6.21,6.27],\"xaxis\":\"x\",\"y\":[-7.82,-7.34,-7.62,-7.61,-7.87,-7.66,-9.1,-8.6,-6.49,-5.57,-5.92],\"yaxis\":\"y\",\"type\":\"scatter\"},{\"hovertemplate\":\"Receptor=4kd1\\u003cbr\\u003eReceptor Type=no cyclin\\u003cbr\\u003eRMSD=%{x}\\u003cbr\\u003eEnergy (kcal\\u002fmol)=%{y}\\u003cextra\\u003e\\u003c\\u002fextra\\u003e\",\"legendgroup\":\"4kd1, no cyclin\",\"marker\":{\"color\":\"rgb(251,128,114)\",\"symbol\":\"x\",\"line\":{\"color\":\"DarkSlateGrey\",\"width\":1},\"size\":8},\"mode\":\"markers\",\"name\":\"4kd1, no cyclin\",\"orientation\":\"v\",\"showlegend\":true,\"x\":[5.67],\"xaxis\":\"x\",\"y\":[-8.17],\"yaxis\":\"y\",\"type\":\"scatter\"},{\"hovertemplate\":\"Receptor=6guh\\u003cbr\\u003eReceptor Type=no cyclin\\u003cbr\\u003eRMSD=%{x}\\u003cbr\\u003eEnergy (kcal\\u002fmol)=%{y}\\u003cextra\\u003e\\u003c\\u002fextra\\u003e\",\"legendgroup\":\"6guh, no cyclin\",\"marker\":{\"color\":\"rgb(128,177,211)\",\"symbol\":\"x\",\"line\":{\"color\":\"DarkSlateGrey\",\"width\":1},\"size\":8},\"mode\":\"markers\",\"name\":\"6guh, no cyclin\",\"orientation\":\"v\",\"showlegend\":true,\"x\":[6.46,6.67,5.98,7.49,6.71],\"xaxis\":\"x\",\"y\":[-7.43,-6.58,-6.37,-7.49,-9.29],\"yaxis\":\"y\",\"type\":\"scatter\"},{\"hovertemplate\":\"Receptor=3ddq\\u003cbr\\u003eReceptor Type=with cyclin\\u003cbr\\u003eRMSD=%{x}\\u003cbr\\u003eEnergy (kcal\\u002fmol)=%{y}\\u003cextra\\u003e\\u003c\\u002fextra\\u003e\",\"legendgroup\":\"3ddq, with cyclin\",\"marker\":{\"color\":\"rgb(253,180,98)\",\"symbol\":\"triangle-up\",\"line\":{\"color\":\"DarkSlateGrey\",\"width\":1},\"size\":8},\"mode\":\"markers\",\"name\":\"3ddq, with cyclin\",\"orientation\":\"v\",\"showlegend\":true,\"x\":[5.79,7.08,2.04],\"xaxis\":\"x\",\"y\":[-5.8,-6.82,-8.19],\"yaxis\":\"y\",\"type\":\"scatter\"},{\"hovertemplate\":\"Receptor=6gub\\u003cbr\\u003eReceptor Type=with cyclin\\u003cbr\\u003eRMSD=%{x}\\u003cbr\\u003eEnergy (kcal\\u002fmol)=%{y}\\u003cextra\\u003e\\u003c\\u002fextra\\u003e\",\"legendgroup\":\"6gub, with cyclin\",\"marker\":{\"color\":\"rgb(179,222,105)\",\"symbol\":\"triangle-up\",\"line\":{\"color\":\"DarkSlateGrey\",\"width\":1},\"size\":8},\"mode\":\"markers\",\"name\":\"6gub, with cyclin\",\"orientation\":\"v\",\"showlegend\":true,\"x\":[5.82,6.65,5.89,6.37,6.27,7.07,6.19],\"xaxis\":\"x\",\"y\":[-6.33,-6.61,-8.7,-8.67,-8.56,-8.29,-5.21],\"yaxis\":\"y\",\"type\":\"scatter\"},{\"hovertemplate\":\"Receptor=6gue\\u003cbr\\u003eReceptor Type=with cyclin\\u003cbr\\u003eRMSD=%{x}\\u003cbr\\u003eEnergy (kcal\\u002fmol)=%{y}\\u003cextra\\u003e\\u003c\\u002fextra\\u003e\",\"legendgroup\":\"6gue, with cyclin\",\"marker\":{\"color\":\"rgb(252,205,229)\",\"symbol\":\"triangle-up\",\"line\":{\"color\":\"DarkSlateGrey\",\"width\":1},\"size\":8},\"mode\":\"markers\",\"name\":\"6gue, with cyclin\",\"orientation\":\"v\",\"showlegend\":true,\"x\":[3.55,6.06,7.5,6.06,5.83,6.89,5.05,7.26,6.4],\"xaxis\":\"x\",\"y\":[-7.2,-9.71,-7.86,-9.64,-9.48,-9.14,-8.76,-8.22,-8.0],\"yaxis\":\"y\",\"type\":\"scatter\"},{\"hovertemplate\":\"Receptor=5l2w\\u003cbr\\u003eReceptor Type=with cyclin\\u003cbr\\u003eRMSD=%{x}\\u003cbr\\u003eEnergy (kcal\\u002fmol)=%{y}\\u003cextra\\u003e\\u003c\\u002fextra\\u003e\",\"legendgroup\":\"5l2w, with cyclin\",\"marker\":{\"color\":\"rgb(217,217,217)\",\"symbol\":\"triangle-up\",\"line\":{\"color\":\"DarkSlateGrey\",\"width\":1},\"size\":8},\"mode\":\"markers\",\"name\":\"5l2w, with cyclin\",\"orientation\":\"v\",\"showlegend\":true,\"x\":[5.81,5.42,5.98],\"xaxis\":\"x\",\"y\":[-5.8,-9.52,-8.29],\"yaxis\":\"y\",\"type\":\"scatter\"},{\"hovertemplate\":\"Receptor=6guf\\u003cbr\\u003eReceptor Type=with cyclin\\u003cbr\\u003eRMSD=%{x}\\u003cbr\\u003eEnergy (kcal\\u002fmol)=%{y}\\u003cextra\\u003e\\u003c\\u002fextra\\u003e\",\"legendgroup\":\"6guf, with cyclin\",\"marker\":{\"color\":\"rgb(188,128,189)\",\"symbol\":\"triangle-up\",\"line\":{\"color\":\"DarkSlateGrey\",\"width\":1},\"size\":8},\"mode\":\"markers\",\"name\":\"6guf, with cyclin\",\"orientation\":\"v\",\"showlegend\":true,\"x\":[2.33,7.3,5.64,6.58,6.15],\"xaxis\":\"x\",\"y\":[-9.26,-8.62,-8.03,-7.92,-7.53],\"yaxis\":\"y\",\"type\":\"scatter\"}],                        {\"template\":{\"data\":{\"barpolar\":[{\"marker\":{\"line\":{\"color\":\"rgb(237,237,237)\",\"width\":0.5},\"pattern\":{\"fillmode\":\"overlay\",\"size\":10,\"solidity\":0.2}},\"type\":\"barpolar\"}],\"bar\":[{\"error_x\":{\"color\":\"rgb(51,51,51)\"},\"error_y\":{\"color\":\"rgb(51,51,51)\"},\"marker\":{\"line\":{\"color\":\"rgb(237,237,237)\",\"width\":0.5},\"pattern\":{\"fillmode\":\"overlay\",\"size\":10,\"solidity\":0.2}},\"type\":\"bar\"}],\"carpet\":[{\"aaxis\":{\"endlinecolor\":\"rgb(51,51,51)\",\"gridcolor\":\"white\",\"linecolor\":\"white\",\"minorgridcolor\":\"white\",\"startlinecolor\":\"rgb(51,51,51)\"},\"baxis\":{\"endlinecolor\":\"rgb(51,51,51)\",\"gridcolor\":\"white\",\"linecolor\":\"white\",\"minorgridcolor\":\"white\",\"startlinecolor\":\"rgb(51,51,51)\"},\"type\":\"carpet\"}],\"choropleth\":[{\"colorbar\":{\"outlinewidth\":0,\"tickcolor\":\"rgb(237,237,237)\",\"ticklen\":6,\"ticks\":\"inside\"},\"type\":\"choropleth\"}],\"contourcarpet\":[{\"colorbar\":{\"outlinewidth\":0,\"tickcolor\":\"rgb(237,237,237)\",\"ticklen\":6,\"ticks\":\"inside\"},\"type\":\"contourcarpet\"}],\"contour\":[{\"colorbar\":{\"outlinewidth\":0,\"tickcolor\":\"rgb(237,237,237)\",\"ticklen\":6,\"ticks\":\"inside\"},\"colorscale\":[[0,\"rgb(20,44,66)\"],[1,\"rgb(90,179,244)\"]],\"type\":\"contour\"}],\"heatmapgl\":[{\"colorbar\":{\"outlinewidth\":0,\"tickcolor\":\"rgb(237,237,237)\",\"ticklen\":6,\"ticks\":\"inside\"},\"colorscale\":[[0,\"rgb(20,44,66)\"],[1,\"rgb(90,179,244)\"]],\"type\":\"heatmapgl\"}],\"heatmap\":[{\"colorbar\":{\"outlinewidth\":0,\"tickcolor\":\"rgb(237,237,237)\",\"ticklen\":6,\"ticks\":\"inside\"},\"colorscale\":[[0,\"rgb(20,44,66)\"],[1,\"rgb(90,179,244)\"]],\"type\":\"heatmap\"}],\"histogram2dcontour\":[{\"colorbar\":{\"outlinewidth\":0,\"tickcolor\":\"rgb(237,237,237)\",\"ticklen\":6,\"ticks\":\"inside\"},\"colorscale\":[[0,\"rgb(20,44,66)\"],[1,\"rgb(90,179,244)\"]],\"type\":\"histogram2dcontour\"}],\"histogram2d\":[{\"colorbar\":{\"outlinewidth\":0,\"tickcolor\":\"rgb(237,237,237)\",\"ticklen\":6,\"ticks\":\"inside\"},\"colorscale\":[[0,\"rgb(20,44,66)\"],[1,\"rgb(90,179,244)\"]],\"type\":\"histogram2d\"}],\"histogram\":[{\"marker\":{\"pattern\":{\"fillmode\":\"overlay\",\"size\":10,\"solidity\":0.2}},\"type\":\"histogram\"}],\"mesh3d\":[{\"colorbar\":{\"outlinewidth\":0,\"tickcolor\":\"rgb(237,237,237)\",\"ticklen\":6,\"ticks\":\"inside\"},\"type\":\"mesh3d\"}],\"parcoords\":[{\"line\":{\"colorbar\":{\"outlinewidth\":0,\"tickcolor\":\"rgb(237,237,237)\",\"ticklen\":6,\"ticks\":\"inside\"}},\"type\":\"parcoords\"}],\"pie\":[{\"automargin\":true,\"type\":\"pie\"}],\"scatter3d\":[{\"line\":{\"colorbar\":{\"outlinewidth\":0,\"tickcolor\":\"rgb(237,237,237)\",\"ticklen\":6,\"ticks\":\"inside\"}},\"marker\":{\"colorbar\":{\"outlinewidth\":0,\"tickcolor\":\"rgb(237,237,237)\",\"ticklen\":6,\"ticks\":\"inside\"}},\"type\":\"scatter3d\"}],\"scattercarpet\":[{\"marker\":{\"colorbar\":{\"outlinewidth\":0,\"tickcolor\":\"rgb(237,237,237)\",\"ticklen\":6,\"ticks\":\"inside\"}},\"type\":\"scattercarpet\"}],\"scattergeo\":[{\"marker\":{\"colorbar\":{\"outlinewidth\":0,\"tickcolor\":\"rgb(237,237,237)\",\"ticklen\":6,\"ticks\":\"inside\"}},\"type\":\"scattergeo\"}],\"scattergl\":[{\"marker\":{\"colorbar\":{\"outlinewidth\":0,\"tickcolor\":\"rgb(237,237,237)\",\"ticklen\":6,\"ticks\":\"inside\"}},\"type\":\"scattergl\"}],\"scattermapbox\":[{\"marker\":{\"colorbar\":{\"outlinewidth\":0,\"tickcolor\":\"rgb(237,237,237)\",\"ticklen\":6,\"ticks\":\"inside\"}},\"type\":\"scattermapbox\"}],\"scatterpolargl\":[{\"marker\":{\"colorbar\":{\"outlinewidth\":0,\"tickcolor\":\"rgb(237,237,237)\",\"ticklen\":6,\"ticks\":\"inside\"}},\"type\":\"scatterpolargl\"}],\"scatterpolar\":[{\"marker\":{\"colorbar\":{\"outlinewidth\":0,\"tickcolor\":\"rgb(237,237,237)\",\"ticklen\":6,\"ticks\":\"inside\"}},\"type\":\"scatterpolar\"}],\"scatter\":[{\"fillpattern\":{\"fillmode\":\"overlay\",\"size\":10,\"solidity\":0.2},\"type\":\"scatter\"}],\"scatterternary\":[{\"marker\":{\"colorbar\":{\"outlinewidth\":0,\"tickcolor\":\"rgb(237,237,237)\",\"ticklen\":6,\"ticks\":\"inside\"}},\"type\":\"scatterternary\"}],\"surface\":[{\"colorbar\":{\"outlinewidth\":0,\"tickcolor\":\"rgb(237,237,237)\",\"ticklen\":6,\"ticks\":\"inside\"},\"colorscale\":[[0,\"rgb(20,44,66)\"],[1,\"rgb(90,179,244)\"]],\"type\":\"surface\"}],\"table\":[{\"cells\":{\"fill\":{\"color\":\"rgb(237,237,237)\"},\"line\":{\"color\":\"white\"}},\"header\":{\"fill\":{\"color\":\"rgb(217,217,217)\"},\"line\":{\"color\":\"white\"}},\"type\":\"table\"}]},\"layout\":{\"annotationdefaults\":{\"arrowhead\":0,\"arrowwidth\":1},\"autotypenumbers\":\"strict\",\"coloraxis\":{\"colorbar\":{\"outlinewidth\":0,\"tickcolor\":\"rgb(237,237,237)\",\"ticklen\":6,\"ticks\":\"inside\"}},\"colorscale\":{\"sequential\":[[0,\"rgb(20,44,66)\"],[1,\"rgb(90,179,244)\"]],\"sequentialminus\":[[0,\"rgb(20,44,66)\"],[1,\"rgb(90,179,244)\"]]},\"colorway\":[\"#F8766D\",\"#A3A500\",\"#00BF7D\",\"#00B0F6\",\"#E76BF3\"],\"font\":{\"color\":\"rgb(51,51,51)\"},\"geo\":{\"bgcolor\":\"white\",\"lakecolor\":\"white\",\"landcolor\":\"rgb(237,237,237)\",\"showlakes\":true,\"showland\":true,\"subunitcolor\":\"white\"},\"hoverlabel\":{\"align\":\"left\"},\"hovermode\":\"closest\",\"paper_bgcolor\":\"white\",\"plot_bgcolor\":\"rgb(237,237,237)\",\"polar\":{\"angularaxis\":{\"gridcolor\":\"white\",\"linecolor\":\"white\",\"showgrid\":true,\"tickcolor\":\"rgb(51,51,51)\",\"ticks\":\"outside\"},\"bgcolor\":\"rgb(237,237,237)\",\"radialaxis\":{\"gridcolor\":\"white\",\"linecolor\":\"white\",\"showgrid\":true,\"tickcolor\":\"rgb(51,51,51)\",\"ticks\":\"outside\"}},\"scene\":{\"xaxis\":{\"backgroundcolor\":\"rgb(237,237,237)\",\"gridcolor\":\"white\",\"gridwidth\":2,\"linecolor\":\"white\",\"showbackground\":true,\"showgrid\":true,\"tickcolor\":\"rgb(51,51,51)\",\"ticks\":\"outside\",\"zerolinecolor\":\"white\"},\"yaxis\":{\"backgroundcolor\":\"rgb(237,237,237)\",\"gridcolor\":\"white\",\"gridwidth\":2,\"linecolor\":\"white\",\"showbackground\":true,\"showgrid\":true,\"tickcolor\":\"rgb(51,51,51)\",\"ticks\":\"outside\",\"zerolinecolor\":\"white\"},\"zaxis\":{\"backgroundcolor\":\"rgb(237,237,237)\",\"gridcolor\":\"white\",\"gridwidth\":2,\"linecolor\":\"white\",\"showbackground\":true,\"showgrid\":true,\"tickcolor\":\"rgb(51,51,51)\",\"ticks\":\"outside\",\"zerolinecolor\":\"white\"}},\"shapedefaults\":{\"fillcolor\":\"black\",\"line\":{\"width\":0},\"opacity\":0.3},\"ternary\":{\"aaxis\":{\"gridcolor\":\"white\",\"linecolor\":\"white\",\"showgrid\":true,\"tickcolor\":\"rgb(51,51,51)\",\"ticks\":\"outside\"},\"baxis\":{\"gridcolor\":\"white\",\"linecolor\":\"white\",\"showgrid\":true,\"tickcolor\":\"rgb(51,51,51)\",\"ticks\":\"outside\"},\"bgcolor\":\"rgb(237,237,237)\",\"caxis\":{\"gridcolor\":\"white\",\"linecolor\":\"white\",\"showgrid\":true,\"tickcolor\":\"rgb(51,51,51)\",\"ticks\":\"outside\"}},\"xaxis\":{\"automargin\":true,\"gridcolor\":\"white\",\"linecolor\":\"white\",\"showgrid\":true,\"tickcolor\":\"rgb(51,51,51)\",\"ticks\":\"outside\",\"title\":{\"standoff\":15},\"zerolinecolor\":\"white\"},\"yaxis\":{\"automargin\":true,\"gridcolor\":\"white\",\"linecolor\":\"white\",\"showgrid\":true,\"tickcolor\":\"rgb(51,51,51)\",\"ticks\":\"outside\",\"title\":{\"standoff\":15},\"zerolinecolor\":\"white\"}}},\"xaxis\":{\"anchor\":\"y\",\"domain\":[0.0,1.0],\"title\":{\"text\":\"RMSD\"}},\"yaxis\":{\"anchor\":\"x\",\"domain\":[0.0,1.0],\"title\":{\"text\":\"Energy (kcal\\u002fmol)\"}},\"legend\":{\"title\":{\"text\":\"Receptor, Receptor Type\"},\"tracegroupgap\":0},\"margin\":{\"t\":60},\"title\":{\"text\":\"Ensemble docking of 6GUK\"}},                        {\"responsive\": true}                    ).then(function(){\n",
       "                            \n",
       "var gd = document.getElementById('18931ac6-6cba-46fd-8fcc-b7e137eac214');\n",
       "var x = new MutationObserver(function (mutations, observer) {{\n",
       "        var display = window.getComputedStyle(gd).display;\n",
       "        if (!display || display === 'none') {{\n",
       "            console.log([gd, 'removed!']);\n",
       "            Plotly.purge(gd);\n",
       "            observer.disconnect();\n",
       "        }}\n",
       "}});\n",
       "\n",
       "// Listen for the removal of the full notebook cells\n",
       "var notebookContainer = gd.closest('#notebook-container');\n",
       "if (notebookContainer) {{\n",
       "    x.observe(notebookContainer, {childList: true});\n",
       "}}\n",
       "\n",
       "// Listen for the clearing of the current output cell\n",
       "var outputEl = gd.closest('.output');\n",
       "if (outputEl) {{\n",
       "    x.observe(outputEl, {childList: true});\n",
       "}}\n",
       "\n",
       "                        })                };                });            </script>        </div>"
      ]
     },
     "metadata": {},
     "output_type": "display_data"
    },
    {
     "data": {
      "application/vnd.plotly.v1+json": {
       "config": {
        "plotlyServerURL": "https://plot.ly"
       },
       "data": [
        {
         "hovertemplate": "Receptor=5a14<br>Receptor Type=DFG out<br>RMSD=%{x}<br>Energy (kcal/mol)=%{y}<extra></extra>",
         "legendgroup": "5a14, DFG out",
         "marker": {
          "color": "rgb(141,211,199)",
          "line": {
           "color": "DarkSlateGrey",
           "width": 1
          },
          "size": 8,
          "symbol": "circle"
         },
         "mode": "markers",
         "name": "5a14, DFG out",
         "orientation": "v",
         "showlegend": true,
         "type": "scatter",
         "x": [
          6.83,
          7.18,
          7.24,
          4.25,
          7.2,
          6.66,
          6.74,
          5.55,
          6.09,
          6.28
         ],
         "xaxis": "x",
         "y": [
          -8.13,
          -7.61,
          -6.58,
          -6.59,
          -7.52,
          -7.46,
          -7.04,
          -7.53,
          -6.78,
          -6.85
         ],
         "yaxis": "y"
        },
        {
         "hovertemplate": "Receptor=6guk<br>Receptor Type=no cyclin<br>RMSD=%{x}<br>Energy (kcal/mol)=%{y}<extra></extra>",
         "legendgroup": "6guk, no cyclin",
         "marker": {
          "color": "rgb(255,255,179)",
          "line": {
           "color": "DarkSlateGrey",
           "width": 1
          },
          "size": 8,
          "symbol": "x"
         },
         "mode": "markers",
         "name": "6guk, no cyclin",
         "orientation": "v",
         "showlegend": true,
         "type": "scatter",
         "x": [
          7.67,
          5.94,
          6.26,
          6.11,
          5.77,
          6.24
         ],
         "xaxis": "x",
         "y": [
          -7.34,
          -7.82,
          -7.9,
          -8.62,
          -8.71,
          -6.67
         ],
         "yaxis": "y"
        },
        {
         "hovertemplate": "Receptor=3pj8<br>Receptor Type=no cyclin<br>RMSD=%{x}<br>Energy (kcal/mol)=%{y}<extra></extra>",
         "legendgroup": "3pj8, no cyclin",
         "marker": {
          "color": "rgb(190,186,218)",
          "line": {
           "color": "DarkSlateGrey",
           "width": 1
          },
          "size": 8,
          "symbol": "x"
         },
         "mode": "markers",
         "name": "3pj8, no cyclin",
         "orientation": "v",
         "showlegend": true,
         "type": "scatter",
         "x": [
          6.96,
          4.1
         ],
         "xaxis": "x",
         "y": [
          -6.1,
          -6.61
         ],
         "yaxis": "y"
        },
        {
         "hovertemplate": "Receptor=6guh<br>Receptor Type=no cyclin<br>RMSD=%{x}<br>Energy (kcal/mol)=%{y}<extra></extra>",
         "legendgroup": "6guh, no cyclin",
         "marker": {
          "color": "rgb(251,128,114)",
          "line": {
           "color": "DarkSlateGrey",
           "width": 1
          },
          "size": 8,
          "symbol": "x"
         },
         "mode": "markers",
         "name": "6guh, no cyclin",
         "orientation": "v",
         "showlegend": true,
         "type": "scatter",
         "x": [
          5.95,
          6.37,
          3.93,
          3.82,
          8.07,
          6.69
         ],
         "xaxis": "x",
         "y": [
          -7.46,
          -7.59,
          -7.91,
          -8.33,
          -6.76,
          -7.54
         ],
         "yaxis": "y"
        },
        {
         "hovertemplate": "Receptor=4kd1<br>Receptor Type=no cyclin<br>RMSD=%{x}<br>Energy (kcal/mol)=%{y}<extra></extra>",
         "legendgroup": "4kd1, no cyclin",
         "marker": {
          "color": "rgb(128,177,211)",
          "line": {
           "color": "DarkSlateGrey",
           "width": 1
          },
          "size": 8,
          "symbol": "x"
         },
         "mode": "markers",
         "name": "4kd1, no cyclin",
         "orientation": "v",
         "showlegend": true,
         "type": "scatter",
         "x": [
          5.53,
          2.51
         ],
         "xaxis": "x",
         "y": [
          -8.47,
          -9.19
         ],
         "yaxis": "y"
        },
        {
         "hovertemplate": "Receptor=5l2w<br>Receptor Type=with cyclin<br>RMSD=%{x}<br>Energy (kcal/mol)=%{y}<extra></extra>",
         "legendgroup": "5l2w, with cyclin",
         "marker": {
          "color": "rgb(253,180,98)",
          "line": {
           "color": "DarkSlateGrey",
           "width": 1
          },
          "size": 8,
          "symbol": "triangle-up"
         },
         "mode": "markers",
         "name": "5l2w, with cyclin",
         "orientation": "v",
         "showlegend": true,
         "type": "scatter",
         "x": [
          6.24,
          5.48,
          2.58,
          5.47
         ],
         "xaxis": "x",
         "y": [
          -7.35,
          -9.78,
          -8.25,
          -7.84
         ],
         "yaxis": "y"
        },
        {
         "hovertemplate": "Receptor=6guf<br>Receptor Type=with cyclin<br>RMSD=%{x}<br>Energy (kcal/mol)=%{y}<extra></extra>",
         "legendgroup": "6guf, with cyclin",
         "marker": {
          "color": "rgb(179,222,105)",
          "line": {
           "color": "DarkSlateGrey",
           "width": 1
          },
          "size": 8,
          "symbol": "triangle-up"
         },
         "mode": "markers",
         "name": "6guf, with cyclin",
         "orientation": "v",
         "showlegend": true,
         "type": "scatter",
         "x": [
          6.34,
          6.3,
          6.3
         ],
         "xaxis": "x",
         "y": [
          -6.93,
          -6.14,
          -7.56
         ],
         "yaxis": "y"
        },
        {
         "hovertemplate": "Receptor=6gue<br>Receptor Type=with cyclin<br>RMSD=%{x}<br>Energy (kcal/mol)=%{y}<extra></extra>",
         "legendgroup": "6gue, with cyclin",
         "marker": {
          "color": "rgb(252,205,229)",
          "line": {
           "color": "DarkSlateGrey",
           "width": 1
          },
          "size": 8,
          "symbol": "triangle-up"
         },
         "mode": "markers",
         "name": "6gue, with cyclin",
         "orientation": "v",
         "showlegend": true,
         "type": "scatter",
         "x": [
          3.93,
          4.46,
          5.92,
          7.12,
          6.06,
          6.46,
          6.52,
          6.81,
          7,
          6.24,
          6.79
         ],
         "xaxis": "x",
         "y": [
          -7.48,
          -6.27,
          -7.19,
          -10.04,
          -9.41,
          -9.34,
          -9.06,
          -9.03,
          -8.99,
          -8.8,
          -8.02
         ],
         "yaxis": "y"
        },
        {
         "hovertemplate": "Receptor=6gub<br>Receptor Type=with cyclin<br>RMSD=%{x}<br>Energy (kcal/mol)=%{y}<extra></extra>",
         "legendgroup": "6gub, with cyclin",
         "marker": {
          "color": "rgb(217,217,217)",
          "line": {
           "color": "DarkSlateGrey",
           "width": 1
          },
          "size": 8,
          "symbol": "triangle-up"
         },
         "mode": "markers",
         "name": "6gub, with cyclin",
         "orientation": "v",
         "showlegend": true,
         "type": "scatter",
         "x": [
          6.1,
          7.76,
          6.27,
          6.06
         ],
         "xaxis": "x",
         "y": [
          -6.44,
          -8.07,
          -8.01,
          -7.67
         ],
         "yaxis": "y"
        },
        {
         "hovertemplate": "Receptor=3ddq<br>Receptor Type=with cyclin<br>RMSD=%{x}<br>Energy (kcal/mol)=%{y}<extra></extra>",
         "legendgroup": "3ddq, with cyclin",
         "marker": {
          "color": "rgb(188,128,189)",
          "line": {
           "color": "DarkSlateGrey",
           "width": 1
          },
          "size": 8,
          "symbol": "triangle-up"
         },
         "mode": "markers",
         "name": "3ddq, with cyclin",
         "orientation": "v",
         "showlegend": true,
         "type": "scatter",
         "x": [
          7.77,
          5.49,
          7.02,
          2.17,
          7.14
         ],
         "xaxis": "x",
         "y": [
          -7.64,
          -9.64,
          -9.57,
          -9.34,
          -8.96
         ],
         "yaxis": "y"
        }
       ],
       "layout": {
        "legend": {
         "title": {
          "text": "Receptor, Receptor Type"
         },
         "tracegroupgap": 0
        },
        "margin": {
         "t": 60
        },
        "template": {
         "data": {
          "bar": [
           {
            "error_x": {
             "color": "rgb(51,51,51)"
            },
            "error_y": {
             "color": "rgb(51,51,51)"
            },
            "marker": {
             "line": {
              "color": "rgb(237,237,237)",
              "width": 0.5
             },
             "pattern": {
              "fillmode": "overlay",
              "size": 10,
              "solidity": 0.2
             }
            },
            "type": "bar"
           }
          ],
          "barpolar": [
           {
            "marker": {
             "line": {
              "color": "rgb(237,237,237)",
              "width": 0.5
             },
             "pattern": {
              "fillmode": "overlay",
              "size": 10,
              "solidity": 0.2
             }
            },
            "type": "barpolar"
           }
          ],
          "carpet": [
           {
            "aaxis": {
             "endlinecolor": "rgb(51,51,51)",
             "gridcolor": "white",
             "linecolor": "white",
             "minorgridcolor": "white",
             "startlinecolor": "rgb(51,51,51)"
            },
            "baxis": {
             "endlinecolor": "rgb(51,51,51)",
             "gridcolor": "white",
             "linecolor": "white",
             "minorgridcolor": "white",
             "startlinecolor": "rgb(51,51,51)"
            },
            "type": "carpet"
           }
          ],
          "choropleth": [
           {
            "colorbar": {
             "outlinewidth": 0,
             "tickcolor": "rgb(237,237,237)",
             "ticklen": 6,
             "ticks": "inside"
            },
            "type": "choropleth"
           }
          ],
          "contour": [
           {
            "colorbar": {
             "outlinewidth": 0,
             "tickcolor": "rgb(237,237,237)",
             "ticklen": 6,
             "ticks": "inside"
            },
            "colorscale": [
             [
              0,
              "rgb(20,44,66)"
             ],
             [
              1,
              "rgb(90,179,244)"
             ]
            ],
            "type": "contour"
           }
          ],
          "contourcarpet": [
           {
            "colorbar": {
             "outlinewidth": 0,
             "tickcolor": "rgb(237,237,237)",
             "ticklen": 6,
             "ticks": "inside"
            },
            "type": "contourcarpet"
           }
          ],
          "heatmap": [
           {
            "colorbar": {
             "outlinewidth": 0,
             "tickcolor": "rgb(237,237,237)",
             "ticklen": 6,
             "ticks": "inside"
            },
            "colorscale": [
             [
              0,
              "rgb(20,44,66)"
             ],
             [
              1,
              "rgb(90,179,244)"
             ]
            ],
            "type": "heatmap"
           }
          ],
          "heatmapgl": [
           {
            "colorbar": {
             "outlinewidth": 0,
             "tickcolor": "rgb(237,237,237)",
             "ticklen": 6,
             "ticks": "inside"
            },
            "colorscale": [
             [
              0,
              "rgb(20,44,66)"
             ],
             [
              1,
              "rgb(90,179,244)"
             ]
            ],
            "type": "heatmapgl"
           }
          ],
          "histogram": [
           {
            "marker": {
             "pattern": {
              "fillmode": "overlay",
              "size": 10,
              "solidity": 0.2
             }
            },
            "type": "histogram"
           }
          ],
          "histogram2d": [
           {
            "colorbar": {
             "outlinewidth": 0,
             "tickcolor": "rgb(237,237,237)",
             "ticklen": 6,
             "ticks": "inside"
            },
            "colorscale": [
             [
              0,
              "rgb(20,44,66)"
             ],
             [
              1,
              "rgb(90,179,244)"
             ]
            ],
            "type": "histogram2d"
           }
          ],
          "histogram2dcontour": [
           {
            "colorbar": {
             "outlinewidth": 0,
             "tickcolor": "rgb(237,237,237)",
             "ticklen": 6,
             "ticks": "inside"
            },
            "colorscale": [
             [
              0,
              "rgb(20,44,66)"
             ],
             [
              1,
              "rgb(90,179,244)"
             ]
            ],
            "type": "histogram2dcontour"
           }
          ],
          "mesh3d": [
           {
            "colorbar": {
             "outlinewidth": 0,
             "tickcolor": "rgb(237,237,237)",
             "ticklen": 6,
             "ticks": "inside"
            },
            "type": "mesh3d"
           }
          ],
          "parcoords": [
           {
            "line": {
             "colorbar": {
              "outlinewidth": 0,
              "tickcolor": "rgb(237,237,237)",
              "ticklen": 6,
              "ticks": "inside"
             }
            },
            "type": "parcoords"
           }
          ],
          "pie": [
           {
            "automargin": true,
            "type": "pie"
           }
          ],
          "scatter": [
           {
            "fillpattern": {
             "fillmode": "overlay",
             "size": 10,
             "solidity": 0.2
            },
            "type": "scatter"
           }
          ],
          "scatter3d": [
           {
            "line": {
             "colorbar": {
              "outlinewidth": 0,
              "tickcolor": "rgb(237,237,237)",
              "ticklen": 6,
              "ticks": "inside"
             }
            },
            "marker": {
             "colorbar": {
              "outlinewidth": 0,
              "tickcolor": "rgb(237,237,237)",
              "ticklen": 6,
              "ticks": "inside"
             }
            },
            "type": "scatter3d"
           }
          ],
          "scattercarpet": [
           {
            "marker": {
             "colorbar": {
              "outlinewidth": 0,
              "tickcolor": "rgb(237,237,237)",
              "ticklen": 6,
              "ticks": "inside"
             }
            },
            "type": "scattercarpet"
           }
          ],
          "scattergeo": [
           {
            "marker": {
             "colorbar": {
              "outlinewidth": 0,
              "tickcolor": "rgb(237,237,237)",
              "ticklen": 6,
              "ticks": "inside"
             }
            },
            "type": "scattergeo"
           }
          ],
          "scattergl": [
           {
            "marker": {
             "colorbar": {
              "outlinewidth": 0,
              "tickcolor": "rgb(237,237,237)",
              "ticklen": 6,
              "ticks": "inside"
             }
            },
            "type": "scattergl"
           }
          ],
          "scattermapbox": [
           {
            "marker": {
             "colorbar": {
              "outlinewidth": 0,
              "tickcolor": "rgb(237,237,237)",
              "ticklen": 6,
              "ticks": "inside"
             }
            },
            "type": "scattermapbox"
           }
          ],
          "scatterpolar": [
           {
            "marker": {
             "colorbar": {
              "outlinewidth": 0,
              "tickcolor": "rgb(237,237,237)",
              "ticklen": 6,
              "ticks": "inside"
             }
            },
            "type": "scatterpolar"
           }
          ],
          "scatterpolargl": [
           {
            "marker": {
             "colorbar": {
              "outlinewidth": 0,
              "tickcolor": "rgb(237,237,237)",
              "ticklen": 6,
              "ticks": "inside"
             }
            },
            "type": "scatterpolargl"
           }
          ],
          "scatterternary": [
           {
            "marker": {
             "colorbar": {
              "outlinewidth": 0,
              "tickcolor": "rgb(237,237,237)",
              "ticklen": 6,
              "ticks": "inside"
             }
            },
            "type": "scatterternary"
           }
          ],
          "surface": [
           {
            "colorbar": {
             "outlinewidth": 0,
             "tickcolor": "rgb(237,237,237)",
             "ticklen": 6,
             "ticks": "inside"
            },
            "colorscale": [
             [
              0,
              "rgb(20,44,66)"
             ],
             [
              1,
              "rgb(90,179,244)"
             ]
            ],
            "type": "surface"
           }
          ],
          "table": [
           {
            "cells": {
             "fill": {
              "color": "rgb(237,237,237)"
             },
             "line": {
              "color": "white"
             }
            },
            "header": {
             "fill": {
              "color": "rgb(217,217,217)"
             },
             "line": {
              "color": "white"
             }
            },
            "type": "table"
           }
          ]
         },
         "layout": {
          "annotationdefaults": {
           "arrowhead": 0,
           "arrowwidth": 1
          },
          "autotypenumbers": "strict",
          "coloraxis": {
           "colorbar": {
            "outlinewidth": 0,
            "tickcolor": "rgb(237,237,237)",
            "ticklen": 6,
            "ticks": "inside"
           }
          },
          "colorscale": {
           "sequential": [
            [
             0,
             "rgb(20,44,66)"
            ],
            [
             1,
             "rgb(90,179,244)"
            ]
           ],
           "sequentialminus": [
            [
             0,
             "rgb(20,44,66)"
            ],
            [
             1,
             "rgb(90,179,244)"
            ]
           ]
          },
          "colorway": [
           "#F8766D",
           "#A3A500",
           "#00BF7D",
           "#00B0F6",
           "#E76BF3"
          ],
          "font": {
           "color": "rgb(51,51,51)"
          },
          "geo": {
           "bgcolor": "white",
           "lakecolor": "white",
           "landcolor": "rgb(237,237,237)",
           "showlakes": true,
           "showland": true,
           "subunitcolor": "white"
          },
          "hoverlabel": {
           "align": "left"
          },
          "hovermode": "closest",
          "paper_bgcolor": "white",
          "plot_bgcolor": "rgb(237,237,237)",
          "polar": {
           "angularaxis": {
            "gridcolor": "white",
            "linecolor": "white",
            "showgrid": true,
            "tickcolor": "rgb(51,51,51)",
            "ticks": "outside"
           },
           "bgcolor": "rgb(237,237,237)",
           "radialaxis": {
            "gridcolor": "white",
            "linecolor": "white",
            "showgrid": true,
            "tickcolor": "rgb(51,51,51)",
            "ticks": "outside"
           }
          },
          "scene": {
           "xaxis": {
            "backgroundcolor": "rgb(237,237,237)",
            "gridcolor": "white",
            "gridwidth": 2,
            "linecolor": "white",
            "showbackground": true,
            "showgrid": true,
            "tickcolor": "rgb(51,51,51)",
            "ticks": "outside",
            "zerolinecolor": "white"
           },
           "yaxis": {
            "backgroundcolor": "rgb(237,237,237)",
            "gridcolor": "white",
            "gridwidth": 2,
            "linecolor": "white",
            "showbackground": true,
            "showgrid": true,
            "tickcolor": "rgb(51,51,51)",
            "ticks": "outside",
            "zerolinecolor": "white"
           },
           "zaxis": {
            "backgroundcolor": "rgb(237,237,237)",
            "gridcolor": "white",
            "gridwidth": 2,
            "linecolor": "white",
            "showbackground": true,
            "showgrid": true,
            "tickcolor": "rgb(51,51,51)",
            "ticks": "outside",
            "zerolinecolor": "white"
           }
          },
          "shapedefaults": {
           "fillcolor": "black",
           "line": {
            "width": 0
           },
           "opacity": 0.3
          },
          "ternary": {
           "aaxis": {
            "gridcolor": "white",
            "linecolor": "white",
            "showgrid": true,
            "tickcolor": "rgb(51,51,51)",
            "ticks": "outside"
           },
           "baxis": {
            "gridcolor": "white",
            "linecolor": "white",
            "showgrid": true,
            "tickcolor": "rgb(51,51,51)",
            "ticks": "outside"
           },
           "bgcolor": "rgb(237,237,237)",
           "caxis": {
            "gridcolor": "white",
            "linecolor": "white",
            "showgrid": true,
            "tickcolor": "rgb(51,51,51)",
            "ticks": "outside"
           }
          },
          "xaxis": {
           "automargin": true,
           "gridcolor": "white",
           "linecolor": "white",
           "showgrid": true,
           "tickcolor": "rgb(51,51,51)",
           "ticks": "outside",
           "title": {
            "standoff": 15
           },
           "zerolinecolor": "white"
          },
          "yaxis": {
           "automargin": true,
           "gridcolor": "white",
           "linecolor": "white",
           "showgrid": true,
           "tickcolor": "rgb(51,51,51)",
           "ticks": "outside",
           "title": {
            "standoff": 15
           },
           "zerolinecolor": "white"
          }
         }
        },
        "title": {
         "text": "Ensemble docking of 6GUF"
        },
        "xaxis": {
         "anchor": "y",
         "domain": [
          0,
          1
         ],
         "title": {
          "text": "RMSD"
         }
        },
        "yaxis": {
         "anchor": "x",
         "domain": [
          0,
          1
         ],
         "title": {
          "text": "Energy (kcal/mol)"
         }
        }
       }
      },
      "text/html": [
       "<div>                            <div id=\"6f0b9973-efe3-4c20-8c09-6f62ad5007ae\" class=\"plotly-graph-div\" style=\"height:525px; width:100%;\"></div>            <script type=\"text/javascript\">                require([\"plotly\"], function(Plotly) {                    window.PLOTLYENV=window.PLOTLYENV || {};                                    if (document.getElementById(\"6f0b9973-efe3-4c20-8c09-6f62ad5007ae\")) {                    Plotly.newPlot(                        \"6f0b9973-efe3-4c20-8c09-6f62ad5007ae\",                        [{\"hovertemplate\":\"Receptor=5a14\\u003cbr\\u003eReceptor Type=DFG out\\u003cbr\\u003eRMSD=%{x}\\u003cbr\\u003eEnergy (kcal\\u002fmol)=%{y}\\u003cextra\\u003e\\u003c\\u002fextra\\u003e\",\"legendgroup\":\"5a14, DFG out\",\"marker\":{\"color\":\"rgb(141,211,199)\",\"symbol\":\"circle\",\"line\":{\"color\":\"DarkSlateGrey\",\"width\":1},\"size\":8},\"mode\":\"markers\",\"name\":\"5a14, DFG out\",\"orientation\":\"v\",\"showlegend\":true,\"x\":[6.83,7.18,7.24,4.25,7.2,6.66,6.74,5.55,6.09,6.28],\"xaxis\":\"x\",\"y\":[-8.13,-7.61,-6.58,-6.59,-7.52,-7.46,-7.04,-7.53,-6.78,-6.85],\"yaxis\":\"y\",\"type\":\"scatter\"},{\"hovertemplate\":\"Receptor=6guk\\u003cbr\\u003eReceptor Type=no cyclin\\u003cbr\\u003eRMSD=%{x}\\u003cbr\\u003eEnergy (kcal\\u002fmol)=%{y}\\u003cextra\\u003e\\u003c\\u002fextra\\u003e\",\"legendgroup\":\"6guk, no cyclin\",\"marker\":{\"color\":\"rgb(255,255,179)\",\"symbol\":\"x\",\"line\":{\"color\":\"DarkSlateGrey\",\"width\":1},\"size\":8},\"mode\":\"markers\",\"name\":\"6guk, no cyclin\",\"orientation\":\"v\",\"showlegend\":true,\"x\":[7.67,5.94,6.26,6.11,5.77,6.24],\"xaxis\":\"x\",\"y\":[-7.34,-7.82,-7.9,-8.62,-8.71,-6.67],\"yaxis\":\"y\",\"type\":\"scatter\"},{\"hovertemplate\":\"Receptor=3pj8\\u003cbr\\u003eReceptor Type=no cyclin\\u003cbr\\u003eRMSD=%{x}\\u003cbr\\u003eEnergy (kcal\\u002fmol)=%{y}\\u003cextra\\u003e\\u003c\\u002fextra\\u003e\",\"legendgroup\":\"3pj8, no cyclin\",\"marker\":{\"color\":\"rgb(190,186,218)\",\"symbol\":\"x\",\"line\":{\"color\":\"DarkSlateGrey\",\"width\":1},\"size\":8},\"mode\":\"markers\",\"name\":\"3pj8, no cyclin\",\"orientation\":\"v\",\"showlegend\":true,\"x\":[6.96,4.1],\"xaxis\":\"x\",\"y\":[-6.1,-6.61],\"yaxis\":\"y\",\"type\":\"scatter\"},{\"hovertemplate\":\"Receptor=6guh\\u003cbr\\u003eReceptor Type=no cyclin\\u003cbr\\u003eRMSD=%{x}\\u003cbr\\u003eEnergy (kcal\\u002fmol)=%{y}\\u003cextra\\u003e\\u003c\\u002fextra\\u003e\",\"legendgroup\":\"6guh, no cyclin\",\"marker\":{\"color\":\"rgb(251,128,114)\",\"symbol\":\"x\",\"line\":{\"color\":\"DarkSlateGrey\",\"width\":1},\"size\":8},\"mode\":\"markers\",\"name\":\"6guh, no cyclin\",\"orientation\":\"v\",\"showlegend\":true,\"x\":[5.95,6.37,3.93,3.82,8.07,6.69],\"xaxis\":\"x\",\"y\":[-7.46,-7.59,-7.91,-8.33,-6.76,-7.54],\"yaxis\":\"y\",\"type\":\"scatter\"},{\"hovertemplate\":\"Receptor=4kd1\\u003cbr\\u003eReceptor Type=no cyclin\\u003cbr\\u003eRMSD=%{x}\\u003cbr\\u003eEnergy (kcal\\u002fmol)=%{y}\\u003cextra\\u003e\\u003c\\u002fextra\\u003e\",\"legendgroup\":\"4kd1, no cyclin\",\"marker\":{\"color\":\"rgb(128,177,211)\",\"symbol\":\"x\",\"line\":{\"color\":\"DarkSlateGrey\",\"width\":1},\"size\":8},\"mode\":\"markers\",\"name\":\"4kd1, no cyclin\",\"orientation\":\"v\",\"showlegend\":true,\"x\":[5.53,2.51],\"xaxis\":\"x\",\"y\":[-8.47,-9.19],\"yaxis\":\"y\",\"type\":\"scatter\"},{\"hovertemplate\":\"Receptor=5l2w\\u003cbr\\u003eReceptor Type=with cyclin\\u003cbr\\u003eRMSD=%{x}\\u003cbr\\u003eEnergy (kcal\\u002fmol)=%{y}\\u003cextra\\u003e\\u003c\\u002fextra\\u003e\",\"legendgroup\":\"5l2w, with cyclin\",\"marker\":{\"color\":\"rgb(253,180,98)\",\"symbol\":\"triangle-up\",\"line\":{\"color\":\"DarkSlateGrey\",\"width\":1},\"size\":8},\"mode\":\"markers\",\"name\":\"5l2w, with cyclin\",\"orientation\":\"v\",\"showlegend\":true,\"x\":[6.24,5.48,2.58,5.47],\"xaxis\":\"x\",\"y\":[-7.35,-9.78,-8.25,-7.84],\"yaxis\":\"y\",\"type\":\"scatter\"},{\"hovertemplate\":\"Receptor=6guf\\u003cbr\\u003eReceptor Type=with cyclin\\u003cbr\\u003eRMSD=%{x}\\u003cbr\\u003eEnergy (kcal\\u002fmol)=%{y}\\u003cextra\\u003e\\u003c\\u002fextra\\u003e\",\"legendgroup\":\"6guf, with cyclin\",\"marker\":{\"color\":\"rgb(179,222,105)\",\"symbol\":\"triangle-up\",\"line\":{\"color\":\"DarkSlateGrey\",\"width\":1},\"size\":8},\"mode\":\"markers\",\"name\":\"6guf, with cyclin\",\"orientation\":\"v\",\"showlegend\":true,\"x\":[6.34,6.3,6.3],\"xaxis\":\"x\",\"y\":[-6.93,-6.14,-7.56],\"yaxis\":\"y\",\"type\":\"scatter\"},{\"hovertemplate\":\"Receptor=6gue\\u003cbr\\u003eReceptor Type=with cyclin\\u003cbr\\u003eRMSD=%{x}\\u003cbr\\u003eEnergy (kcal\\u002fmol)=%{y}\\u003cextra\\u003e\\u003c\\u002fextra\\u003e\",\"legendgroup\":\"6gue, with cyclin\",\"marker\":{\"color\":\"rgb(252,205,229)\",\"symbol\":\"triangle-up\",\"line\":{\"color\":\"DarkSlateGrey\",\"width\":1},\"size\":8},\"mode\":\"markers\",\"name\":\"6gue, with cyclin\",\"orientation\":\"v\",\"showlegend\":true,\"x\":[3.93,4.46,5.92,7.12,6.06,6.46,6.52,6.81,7.0,6.24,6.79],\"xaxis\":\"x\",\"y\":[-7.48,-6.27,-7.19,-10.04,-9.41,-9.34,-9.06,-9.03,-8.99,-8.8,-8.02],\"yaxis\":\"y\",\"type\":\"scatter\"},{\"hovertemplate\":\"Receptor=6gub\\u003cbr\\u003eReceptor Type=with cyclin\\u003cbr\\u003eRMSD=%{x}\\u003cbr\\u003eEnergy (kcal\\u002fmol)=%{y}\\u003cextra\\u003e\\u003c\\u002fextra\\u003e\",\"legendgroup\":\"6gub, with cyclin\",\"marker\":{\"color\":\"rgb(217,217,217)\",\"symbol\":\"triangle-up\",\"line\":{\"color\":\"DarkSlateGrey\",\"width\":1},\"size\":8},\"mode\":\"markers\",\"name\":\"6gub, with cyclin\",\"orientation\":\"v\",\"showlegend\":true,\"x\":[6.1,7.76,6.27,6.06],\"xaxis\":\"x\",\"y\":[-6.44,-8.07,-8.01,-7.67],\"yaxis\":\"y\",\"type\":\"scatter\"},{\"hovertemplate\":\"Receptor=3ddq\\u003cbr\\u003eReceptor Type=with cyclin\\u003cbr\\u003eRMSD=%{x}\\u003cbr\\u003eEnergy (kcal\\u002fmol)=%{y}\\u003cextra\\u003e\\u003c\\u002fextra\\u003e\",\"legendgroup\":\"3ddq, with cyclin\",\"marker\":{\"color\":\"rgb(188,128,189)\",\"symbol\":\"triangle-up\",\"line\":{\"color\":\"DarkSlateGrey\",\"width\":1},\"size\":8},\"mode\":\"markers\",\"name\":\"3ddq, with cyclin\",\"orientation\":\"v\",\"showlegend\":true,\"x\":[7.77,5.49,7.02,2.17,7.14],\"xaxis\":\"x\",\"y\":[-7.64,-9.64,-9.57,-9.34,-8.96],\"yaxis\":\"y\",\"type\":\"scatter\"}],                        {\"template\":{\"data\":{\"barpolar\":[{\"marker\":{\"line\":{\"color\":\"rgb(237,237,237)\",\"width\":0.5},\"pattern\":{\"fillmode\":\"overlay\",\"size\":10,\"solidity\":0.2}},\"type\":\"barpolar\"}],\"bar\":[{\"error_x\":{\"color\":\"rgb(51,51,51)\"},\"error_y\":{\"color\":\"rgb(51,51,51)\"},\"marker\":{\"line\":{\"color\":\"rgb(237,237,237)\",\"width\":0.5},\"pattern\":{\"fillmode\":\"overlay\",\"size\":10,\"solidity\":0.2}},\"type\":\"bar\"}],\"carpet\":[{\"aaxis\":{\"endlinecolor\":\"rgb(51,51,51)\",\"gridcolor\":\"white\",\"linecolor\":\"white\",\"minorgridcolor\":\"white\",\"startlinecolor\":\"rgb(51,51,51)\"},\"baxis\":{\"endlinecolor\":\"rgb(51,51,51)\",\"gridcolor\":\"white\",\"linecolor\":\"white\",\"minorgridcolor\":\"white\",\"startlinecolor\":\"rgb(51,51,51)\"},\"type\":\"carpet\"}],\"choropleth\":[{\"colorbar\":{\"outlinewidth\":0,\"tickcolor\":\"rgb(237,237,237)\",\"ticklen\":6,\"ticks\":\"inside\"},\"type\":\"choropleth\"}],\"contourcarpet\":[{\"colorbar\":{\"outlinewidth\":0,\"tickcolor\":\"rgb(237,237,237)\",\"ticklen\":6,\"ticks\":\"inside\"},\"type\":\"contourcarpet\"}],\"contour\":[{\"colorbar\":{\"outlinewidth\":0,\"tickcolor\":\"rgb(237,237,237)\",\"ticklen\":6,\"ticks\":\"inside\"},\"colorscale\":[[0,\"rgb(20,44,66)\"],[1,\"rgb(90,179,244)\"]],\"type\":\"contour\"}],\"heatmapgl\":[{\"colorbar\":{\"outlinewidth\":0,\"tickcolor\":\"rgb(237,237,237)\",\"ticklen\":6,\"ticks\":\"inside\"},\"colorscale\":[[0,\"rgb(20,44,66)\"],[1,\"rgb(90,179,244)\"]],\"type\":\"heatmapgl\"}],\"heatmap\":[{\"colorbar\":{\"outlinewidth\":0,\"tickcolor\":\"rgb(237,237,237)\",\"ticklen\":6,\"ticks\":\"inside\"},\"colorscale\":[[0,\"rgb(20,44,66)\"],[1,\"rgb(90,179,244)\"]],\"type\":\"heatmap\"}],\"histogram2dcontour\":[{\"colorbar\":{\"outlinewidth\":0,\"tickcolor\":\"rgb(237,237,237)\",\"ticklen\":6,\"ticks\":\"inside\"},\"colorscale\":[[0,\"rgb(20,44,66)\"],[1,\"rgb(90,179,244)\"]],\"type\":\"histogram2dcontour\"}],\"histogram2d\":[{\"colorbar\":{\"outlinewidth\":0,\"tickcolor\":\"rgb(237,237,237)\",\"ticklen\":6,\"ticks\":\"inside\"},\"colorscale\":[[0,\"rgb(20,44,66)\"],[1,\"rgb(90,179,244)\"]],\"type\":\"histogram2d\"}],\"histogram\":[{\"marker\":{\"pattern\":{\"fillmode\":\"overlay\",\"size\":10,\"solidity\":0.2}},\"type\":\"histogram\"}],\"mesh3d\":[{\"colorbar\":{\"outlinewidth\":0,\"tickcolor\":\"rgb(237,237,237)\",\"ticklen\":6,\"ticks\":\"inside\"},\"type\":\"mesh3d\"}],\"parcoords\":[{\"line\":{\"colorbar\":{\"outlinewidth\":0,\"tickcolor\":\"rgb(237,237,237)\",\"ticklen\":6,\"ticks\":\"inside\"}},\"type\":\"parcoords\"}],\"pie\":[{\"automargin\":true,\"type\":\"pie\"}],\"scatter3d\":[{\"line\":{\"colorbar\":{\"outlinewidth\":0,\"tickcolor\":\"rgb(237,237,237)\",\"ticklen\":6,\"ticks\":\"inside\"}},\"marker\":{\"colorbar\":{\"outlinewidth\":0,\"tickcolor\":\"rgb(237,237,237)\",\"ticklen\":6,\"ticks\":\"inside\"}},\"type\":\"scatter3d\"}],\"scattercarpet\":[{\"marker\":{\"colorbar\":{\"outlinewidth\":0,\"tickcolor\":\"rgb(237,237,237)\",\"ticklen\":6,\"ticks\":\"inside\"}},\"type\":\"scattercarpet\"}],\"scattergeo\":[{\"marker\":{\"colorbar\":{\"outlinewidth\":0,\"tickcolor\":\"rgb(237,237,237)\",\"ticklen\":6,\"ticks\":\"inside\"}},\"type\":\"scattergeo\"}],\"scattergl\":[{\"marker\":{\"colorbar\":{\"outlinewidth\":0,\"tickcolor\":\"rgb(237,237,237)\",\"ticklen\":6,\"ticks\":\"inside\"}},\"type\":\"scattergl\"}],\"scattermapbox\":[{\"marker\":{\"colorbar\":{\"outlinewidth\":0,\"tickcolor\":\"rgb(237,237,237)\",\"ticklen\":6,\"ticks\":\"inside\"}},\"type\":\"scattermapbox\"}],\"scatterpolargl\":[{\"marker\":{\"colorbar\":{\"outlinewidth\":0,\"tickcolor\":\"rgb(237,237,237)\",\"ticklen\":6,\"ticks\":\"inside\"}},\"type\":\"scatterpolargl\"}],\"scatterpolar\":[{\"marker\":{\"colorbar\":{\"outlinewidth\":0,\"tickcolor\":\"rgb(237,237,237)\",\"ticklen\":6,\"ticks\":\"inside\"}},\"type\":\"scatterpolar\"}],\"scatter\":[{\"fillpattern\":{\"fillmode\":\"overlay\",\"size\":10,\"solidity\":0.2},\"type\":\"scatter\"}],\"scatterternary\":[{\"marker\":{\"colorbar\":{\"outlinewidth\":0,\"tickcolor\":\"rgb(237,237,237)\",\"ticklen\":6,\"ticks\":\"inside\"}},\"type\":\"scatterternary\"}],\"surface\":[{\"colorbar\":{\"outlinewidth\":0,\"tickcolor\":\"rgb(237,237,237)\",\"ticklen\":6,\"ticks\":\"inside\"},\"colorscale\":[[0,\"rgb(20,44,66)\"],[1,\"rgb(90,179,244)\"]],\"type\":\"surface\"}],\"table\":[{\"cells\":{\"fill\":{\"color\":\"rgb(237,237,237)\"},\"line\":{\"color\":\"white\"}},\"header\":{\"fill\":{\"color\":\"rgb(217,217,217)\"},\"line\":{\"color\":\"white\"}},\"type\":\"table\"}]},\"layout\":{\"annotationdefaults\":{\"arrowhead\":0,\"arrowwidth\":1},\"autotypenumbers\":\"strict\",\"coloraxis\":{\"colorbar\":{\"outlinewidth\":0,\"tickcolor\":\"rgb(237,237,237)\",\"ticklen\":6,\"ticks\":\"inside\"}},\"colorscale\":{\"sequential\":[[0,\"rgb(20,44,66)\"],[1,\"rgb(90,179,244)\"]],\"sequentialminus\":[[0,\"rgb(20,44,66)\"],[1,\"rgb(90,179,244)\"]]},\"colorway\":[\"#F8766D\",\"#A3A500\",\"#00BF7D\",\"#00B0F6\",\"#E76BF3\"],\"font\":{\"color\":\"rgb(51,51,51)\"},\"geo\":{\"bgcolor\":\"white\",\"lakecolor\":\"white\",\"landcolor\":\"rgb(237,237,237)\",\"showlakes\":true,\"showland\":true,\"subunitcolor\":\"white\"},\"hoverlabel\":{\"align\":\"left\"},\"hovermode\":\"closest\",\"paper_bgcolor\":\"white\",\"plot_bgcolor\":\"rgb(237,237,237)\",\"polar\":{\"angularaxis\":{\"gridcolor\":\"white\",\"linecolor\":\"white\",\"showgrid\":true,\"tickcolor\":\"rgb(51,51,51)\",\"ticks\":\"outside\"},\"bgcolor\":\"rgb(237,237,237)\",\"radialaxis\":{\"gridcolor\":\"white\",\"linecolor\":\"white\",\"showgrid\":true,\"tickcolor\":\"rgb(51,51,51)\",\"ticks\":\"outside\"}},\"scene\":{\"xaxis\":{\"backgroundcolor\":\"rgb(237,237,237)\",\"gridcolor\":\"white\",\"gridwidth\":2,\"linecolor\":\"white\",\"showbackground\":true,\"showgrid\":true,\"tickcolor\":\"rgb(51,51,51)\",\"ticks\":\"outside\",\"zerolinecolor\":\"white\"},\"yaxis\":{\"backgroundcolor\":\"rgb(237,237,237)\",\"gridcolor\":\"white\",\"gridwidth\":2,\"linecolor\":\"white\",\"showbackground\":true,\"showgrid\":true,\"tickcolor\":\"rgb(51,51,51)\",\"ticks\":\"outside\",\"zerolinecolor\":\"white\"},\"zaxis\":{\"backgroundcolor\":\"rgb(237,237,237)\",\"gridcolor\":\"white\",\"gridwidth\":2,\"linecolor\":\"white\",\"showbackground\":true,\"showgrid\":true,\"tickcolor\":\"rgb(51,51,51)\",\"ticks\":\"outside\",\"zerolinecolor\":\"white\"}},\"shapedefaults\":{\"fillcolor\":\"black\",\"line\":{\"width\":0},\"opacity\":0.3},\"ternary\":{\"aaxis\":{\"gridcolor\":\"white\",\"linecolor\":\"white\",\"showgrid\":true,\"tickcolor\":\"rgb(51,51,51)\",\"ticks\":\"outside\"},\"baxis\":{\"gridcolor\":\"white\",\"linecolor\":\"white\",\"showgrid\":true,\"tickcolor\":\"rgb(51,51,51)\",\"ticks\":\"outside\"},\"bgcolor\":\"rgb(237,237,237)\",\"caxis\":{\"gridcolor\":\"white\",\"linecolor\":\"white\",\"showgrid\":true,\"tickcolor\":\"rgb(51,51,51)\",\"ticks\":\"outside\"}},\"xaxis\":{\"automargin\":true,\"gridcolor\":\"white\",\"linecolor\":\"white\",\"showgrid\":true,\"tickcolor\":\"rgb(51,51,51)\",\"ticks\":\"outside\",\"title\":{\"standoff\":15},\"zerolinecolor\":\"white\"},\"yaxis\":{\"automargin\":true,\"gridcolor\":\"white\",\"linecolor\":\"white\",\"showgrid\":true,\"tickcolor\":\"rgb(51,51,51)\",\"ticks\":\"outside\",\"title\":{\"standoff\":15},\"zerolinecolor\":\"white\"}}},\"xaxis\":{\"anchor\":\"y\",\"domain\":[0.0,1.0],\"title\":{\"text\":\"RMSD\"}},\"yaxis\":{\"anchor\":\"x\",\"domain\":[0.0,1.0],\"title\":{\"text\":\"Energy (kcal\\u002fmol)\"}},\"legend\":{\"title\":{\"text\":\"Receptor, Receptor Type\"},\"tracegroupgap\":0},\"margin\":{\"t\":60},\"title\":{\"text\":\"Ensemble docking of 6GUF\"}},                        {\"responsive\": true}                    ).then(function(){\n",
       "                            \n",
       "var gd = document.getElementById('6f0b9973-efe3-4c20-8c09-6f62ad5007ae');\n",
       "var x = new MutationObserver(function (mutations, observer) {{\n",
       "        var display = window.getComputedStyle(gd).display;\n",
       "        if (!display || display === 'none') {{\n",
       "            console.log([gd, 'removed!']);\n",
       "            Plotly.purge(gd);\n",
       "            observer.disconnect();\n",
       "        }}\n",
       "}});\n",
       "\n",
       "// Listen for the removal of the full notebook cells\n",
       "var notebookContainer = gd.closest('#notebook-container');\n",
       "if (notebookContainer) {{\n",
       "    x.observe(notebookContainer, {childList: true});\n",
       "}}\n",
       "\n",
       "// Listen for the clearing of the current output cell\n",
       "var outputEl = gd.closest('.output');\n",
       "if (outputEl) {{\n",
       "    x.observe(outputEl, {childList: true});\n",
       "}}\n",
       "\n",
       "                        })                };                });            </script>        </div>"
      ]
     },
     "metadata": {},
     "output_type": "display_data"
    },
    {
     "data": {
      "application/vnd.plotly.v1+json": {
       "config": {
        "plotlyServerURL": "https://plot.ly"
       },
       "data": [
        {
         "hovertemplate": "Receptor=5a14<br>Receptor Type=DFG out<br>RMSD=%{x}<br>Energy (kcal/mol)=%{y}<extra></extra>",
         "legendgroup": "5a14, DFG out",
         "marker": {
          "color": "rgb(141,211,199)",
          "line": {
           "color": "DarkSlateGrey",
           "width": 1
          },
          "size": 8,
          "symbol": "circle"
         },
         "mode": "markers",
         "name": "5a14, DFG out",
         "orientation": "v",
         "showlegend": true,
         "type": "scatter",
         "x": [
          6.22
         ],
         "xaxis": "x",
         "y": [
          3.36
         ],
         "yaxis": "y"
        },
        {
         "hovertemplate": "Receptor=6guh<br>Receptor Type=no cyclin<br>RMSD=%{x}<br>Energy (kcal/mol)=%{y}<extra></extra>",
         "legendgroup": "6guh, no cyclin",
         "marker": {
          "color": "rgb(255,255,179)",
          "line": {
           "color": "DarkSlateGrey",
           "width": 1
          },
          "size": 8,
          "symbol": "x"
         },
         "mode": "markers",
         "name": "6guh, no cyclin",
         "orientation": "v",
         "showlegend": true,
         "type": "scatter",
         "x": [
          7.71,
          6.37
         ],
         "xaxis": "x",
         "y": [
          -8.44,
          -7.48
         ],
         "yaxis": "y"
        },
        {
         "hovertemplate": "Receptor=3ddq<br>Receptor Type=with cyclin<br>RMSD=%{x}<br>Energy (kcal/mol)=%{y}<extra></extra>",
         "legendgroup": "3ddq, with cyclin",
         "marker": {
          "color": "rgb(190,186,218)",
          "line": {
           "color": "DarkSlateGrey",
           "width": 1
          },
          "size": 8,
          "symbol": "triangle-up"
         },
         "mode": "markers",
         "name": "3ddq, with cyclin",
         "orientation": "v",
         "showlegend": true,
         "type": "scatter",
         "x": [
          5.72
         ],
         "xaxis": "x",
         "y": [
          -11.51
         ],
         "yaxis": "y"
        },
        {
         "hovertemplate": "Receptor=6gub<br>Receptor Type=with cyclin<br>RMSD=%{x}<br>Energy (kcal/mol)=%{y}<extra></extra>",
         "legendgroup": "6gub, with cyclin",
         "marker": {
          "color": "rgb(251,128,114)",
          "line": {
           "color": "DarkSlateGrey",
           "width": 1
          },
          "size": 8,
          "symbol": "triangle-up"
         },
         "mode": "markers",
         "name": "6gub, with cyclin",
         "orientation": "v",
         "showlegend": true,
         "type": "scatter",
         "x": [
          0.55,
          6.02,
          6.3,
          5.66,
          5.49
         ],
         "xaxis": "x",
         "y": [
          -11.46,
          -10.72,
          -10.69,
          -10.05,
          -9.43
         ],
         "yaxis": "y"
        }
       ],
       "layout": {
        "legend": {
         "title": {
          "text": "Receptor, Receptor Type"
         },
         "tracegroupgap": 0
        },
        "margin": {
         "t": 60
        },
        "template": {
         "data": {
          "bar": [
           {
            "error_x": {
             "color": "rgb(51,51,51)"
            },
            "error_y": {
             "color": "rgb(51,51,51)"
            },
            "marker": {
             "line": {
              "color": "rgb(237,237,237)",
              "width": 0.5
             },
             "pattern": {
              "fillmode": "overlay",
              "size": 10,
              "solidity": 0.2
             }
            },
            "type": "bar"
           }
          ],
          "barpolar": [
           {
            "marker": {
             "line": {
              "color": "rgb(237,237,237)",
              "width": 0.5
             },
             "pattern": {
              "fillmode": "overlay",
              "size": 10,
              "solidity": 0.2
             }
            },
            "type": "barpolar"
           }
          ],
          "carpet": [
           {
            "aaxis": {
             "endlinecolor": "rgb(51,51,51)",
             "gridcolor": "white",
             "linecolor": "white",
             "minorgridcolor": "white",
             "startlinecolor": "rgb(51,51,51)"
            },
            "baxis": {
             "endlinecolor": "rgb(51,51,51)",
             "gridcolor": "white",
             "linecolor": "white",
             "minorgridcolor": "white",
             "startlinecolor": "rgb(51,51,51)"
            },
            "type": "carpet"
           }
          ],
          "choropleth": [
           {
            "colorbar": {
             "outlinewidth": 0,
             "tickcolor": "rgb(237,237,237)",
             "ticklen": 6,
             "ticks": "inside"
            },
            "type": "choropleth"
           }
          ],
          "contour": [
           {
            "colorbar": {
             "outlinewidth": 0,
             "tickcolor": "rgb(237,237,237)",
             "ticklen": 6,
             "ticks": "inside"
            },
            "colorscale": [
             [
              0,
              "rgb(20,44,66)"
             ],
             [
              1,
              "rgb(90,179,244)"
             ]
            ],
            "type": "contour"
           }
          ],
          "contourcarpet": [
           {
            "colorbar": {
             "outlinewidth": 0,
             "tickcolor": "rgb(237,237,237)",
             "ticklen": 6,
             "ticks": "inside"
            },
            "type": "contourcarpet"
           }
          ],
          "heatmap": [
           {
            "colorbar": {
             "outlinewidth": 0,
             "tickcolor": "rgb(237,237,237)",
             "ticklen": 6,
             "ticks": "inside"
            },
            "colorscale": [
             [
              0,
              "rgb(20,44,66)"
             ],
             [
              1,
              "rgb(90,179,244)"
             ]
            ],
            "type": "heatmap"
           }
          ],
          "heatmapgl": [
           {
            "colorbar": {
             "outlinewidth": 0,
             "tickcolor": "rgb(237,237,237)",
             "ticklen": 6,
             "ticks": "inside"
            },
            "colorscale": [
             [
              0,
              "rgb(20,44,66)"
             ],
             [
              1,
              "rgb(90,179,244)"
             ]
            ],
            "type": "heatmapgl"
           }
          ],
          "histogram": [
           {
            "marker": {
             "pattern": {
              "fillmode": "overlay",
              "size": 10,
              "solidity": 0.2
             }
            },
            "type": "histogram"
           }
          ],
          "histogram2d": [
           {
            "colorbar": {
             "outlinewidth": 0,
             "tickcolor": "rgb(237,237,237)",
             "ticklen": 6,
             "ticks": "inside"
            },
            "colorscale": [
             [
              0,
              "rgb(20,44,66)"
             ],
             [
              1,
              "rgb(90,179,244)"
             ]
            ],
            "type": "histogram2d"
           }
          ],
          "histogram2dcontour": [
           {
            "colorbar": {
             "outlinewidth": 0,
             "tickcolor": "rgb(237,237,237)",
             "ticklen": 6,
             "ticks": "inside"
            },
            "colorscale": [
             [
              0,
              "rgb(20,44,66)"
             ],
             [
              1,
              "rgb(90,179,244)"
             ]
            ],
            "type": "histogram2dcontour"
           }
          ],
          "mesh3d": [
           {
            "colorbar": {
             "outlinewidth": 0,
             "tickcolor": "rgb(237,237,237)",
             "ticklen": 6,
             "ticks": "inside"
            },
            "type": "mesh3d"
           }
          ],
          "parcoords": [
           {
            "line": {
             "colorbar": {
              "outlinewidth": 0,
              "tickcolor": "rgb(237,237,237)",
              "ticklen": 6,
              "ticks": "inside"
             }
            },
            "type": "parcoords"
           }
          ],
          "pie": [
           {
            "automargin": true,
            "type": "pie"
           }
          ],
          "scatter": [
           {
            "fillpattern": {
             "fillmode": "overlay",
             "size": 10,
             "solidity": 0.2
            },
            "type": "scatter"
           }
          ],
          "scatter3d": [
           {
            "line": {
             "colorbar": {
              "outlinewidth": 0,
              "tickcolor": "rgb(237,237,237)",
              "ticklen": 6,
              "ticks": "inside"
             }
            },
            "marker": {
             "colorbar": {
              "outlinewidth": 0,
              "tickcolor": "rgb(237,237,237)",
              "ticklen": 6,
              "ticks": "inside"
             }
            },
            "type": "scatter3d"
           }
          ],
          "scattercarpet": [
           {
            "marker": {
             "colorbar": {
              "outlinewidth": 0,
              "tickcolor": "rgb(237,237,237)",
              "ticklen": 6,
              "ticks": "inside"
             }
            },
            "type": "scattercarpet"
           }
          ],
          "scattergeo": [
           {
            "marker": {
             "colorbar": {
              "outlinewidth": 0,
              "tickcolor": "rgb(237,237,237)",
              "ticklen": 6,
              "ticks": "inside"
             }
            },
            "type": "scattergeo"
           }
          ],
          "scattergl": [
           {
            "marker": {
             "colorbar": {
              "outlinewidth": 0,
              "tickcolor": "rgb(237,237,237)",
              "ticklen": 6,
              "ticks": "inside"
             }
            },
            "type": "scattergl"
           }
          ],
          "scattermapbox": [
           {
            "marker": {
             "colorbar": {
              "outlinewidth": 0,
              "tickcolor": "rgb(237,237,237)",
              "ticklen": 6,
              "ticks": "inside"
             }
            },
            "type": "scattermapbox"
           }
          ],
          "scatterpolar": [
           {
            "marker": {
             "colorbar": {
              "outlinewidth": 0,
              "tickcolor": "rgb(237,237,237)",
              "ticklen": 6,
              "ticks": "inside"
             }
            },
            "type": "scatterpolar"
           }
          ],
          "scatterpolargl": [
           {
            "marker": {
             "colorbar": {
              "outlinewidth": 0,
              "tickcolor": "rgb(237,237,237)",
              "ticklen": 6,
              "ticks": "inside"
             }
            },
            "type": "scatterpolargl"
           }
          ],
          "scatterternary": [
           {
            "marker": {
             "colorbar": {
              "outlinewidth": 0,
              "tickcolor": "rgb(237,237,237)",
              "ticklen": 6,
              "ticks": "inside"
             }
            },
            "type": "scatterternary"
           }
          ],
          "surface": [
           {
            "colorbar": {
             "outlinewidth": 0,
             "tickcolor": "rgb(237,237,237)",
             "ticklen": 6,
             "ticks": "inside"
            },
            "colorscale": [
             [
              0,
              "rgb(20,44,66)"
             ],
             [
              1,
              "rgb(90,179,244)"
             ]
            ],
            "type": "surface"
           }
          ],
          "table": [
           {
            "cells": {
             "fill": {
              "color": "rgb(237,237,237)"
             },
             "line": {
              "color": "white"
             }
            },
            "header": {
             "fill": {
              "color": "rgb(217,217,217)"
             },
             "line": {
              "color": "white"
             }
            },
            "type": "table"
           }
          ]
         },
         "layout": {
          "annotationdefaults": {
           "arrowhead": 0,
           "arrowwidth": 1
          },
          "autotypenumbers": "strict",
          "coloraxis": {
           "colorbar": {
            "outlinewidth": 0,
            "tickcolor": "rgb(237,237,237)",
            "ticklen": 6,
            "ticks": "inside"
           }
          },
          "colorscale": {
           "sequential": [
            [
             0,
             "rgb(20,44,66)"
            ],
            [
             1,
             "rgb(90,179,244)"
            ]
           ],
           "sequentialminus": [
            [
             0,
             "rgb(20,44,66)"
            ],
            [
             1,
             "rgb(90,179,244)"
            ]
           ]
          },
          "colorway": [
           "#F8766D",
           "#A3A500",
           "#00BF7D",
           "#00B0F6",
           "#E76BF3"
          ],
          "font": {
           "color": "rgb(51,51,51)"
          },
          "geo": {
           "bgcolor": "white",
           "lakecolor": "white",
           "landcolor": "rgb(237,237,237)",
           "showlakes": true,
           "showland": true,
           "subunitcolor": "white"
          },
          "hoverlabel": {
           "align": "left"
          },
          "hovermode": "closest",
          "paper_bgcolor": "white",
          "plot_bgcolor": "rgb(237,237,237)",
          "polar": {
           "angularaxis": {
            "gridcolor": "white",
            "linecolor": "white",
            "showgrid": true,
            "tickcolor": "rgb(51,51,51)",
            "ticks": "outside"
           },
           "bgcolor": "rgb(237,237,237)",
           "radialaxis": {
            "gridcolor": "white",
            "linecolor": "white",
            "showgrid": true,
            "tickcolor": "rgb(51,51,51)",
            "ticks": "outside"
           }
          },
          "scene": {
           "xaxis": {
            "backgroundcolor": "rgb(237,237,237)",
            "gridcolor": "white",
            "gridwidth": 2,
            "linecolor": "white",
            "showbackground": true,
            "showgrid": true,
            "tickcolor": "rgb(51,51,51)",
            "ticks": "outside",
            "zerolinecolor": "white"
           },
           "yaxis": {
            "backgroundcolor": "rgb(237,237,237)",
            "gridcolor": "white",
            "gridwidth": 2,
            "linecolor": "white",
            "showbackground": true,
            "showgrid": true,
            "tickcolor": "rgb(51,51,51)",
            "ticks": "outside",
            "zerolinecolor": "white"
           },
           "zaxis": {
            "backgroundcolor": "rgb(237,237,237)",
            "gridcolor": "white",
            "gridwidth": 2,
            "linecolor": "white",
            "showbackground": true,
            "showgrid": true,
            "tickcolor": "rgb(51,51,51)",
            "ticks": "outside",
            "zerolinecolor": "white"
           }
          },
          "shapedefaults": {
           "fillcolor": "black",
           "line": {
            "width": 0
           },
           "opacity": 0.3
          },
          "ternary": {
           "aaxis": {
            "gridcolor": "white",
            "linecolor": "white",
            "showgrid": true,
            "tickcolor": "rgb(51,51,51)",
            "ticks": "outside"
           },
           "baxis": {
            "gridcolor": "white",
            "linecolor": "white",
            "showgrid": true,
            "tickcolor": "rgb(51,51,51)",
            "ticks": "outside"
           },
           "bgcolor": "rgb(237,237,237)",
           "caxis": {
            "gridcolor": "white",
            "linecolor": "white",
            "showgrid": true,
            "tickcolor": "rgb(51,51,51)",
            "ticks": "outside"
           }
          },
          "xaxis": {
           "automargin": true,
           "gridcolor": "white",
           "linecolor": "white",
           "showgrid": true,
           "tickcolor": "rgb(51,51,51)",
           "ticks": "outside",
           "title": {
            "standoff": 15
           },
           "zerolinecolor": "white"
          },
          "yaxis": {
           "automargin": true,
           "gridcolor": "white",
           "linecolor": "white",
           "showgrid": true,
           "tickcolor": "rgb(51,51,51)",
           "ticks": "outside",
           "title": {
            "standoff": 15
           },
           "zerolinecolor": "white"
          }
         }
        },
        "title": {
         "text": "Ensemble docking of 6GUB"
        },
        "xaxis": {
         "anchor": "y",
         "domain": [
          0,
          1
         ],
         "title": {
          "text": "RMSD"
         }
        },
        "yaxis": {
         "anchor": "x",
         "domain": [
          0,
          1
         ],
         "title": {
          "text": "Energy (kcal/mol)"
         }
        }
       }
      },
      "text/html": [
       "<div>                            <div id=\"0553a648-14e3-428d-b7b7-2d2ce73dbdec\" class=\"plotly-graph-div\" style=\"height:525px; width:100%;\"></div>            <script type=\"text/javascript\">                require([\"plotly\"], function(Plotly) {                    window.PLOTLYENV=window.PLOTLYENV || {};                                    if (document.getElementById(\"0553a648-14e3-428d-b7b7-2d2ce73dbdec\")) {                    Plotly.newPlot(                        \"0553a648-14e3-428d-b7b7-2d2ce73dbdec\",                        [{\"hovertemplate\":\"Receptor=5a14\\u003cbr\\u003eReceptor Type=DFG out\\u003cbr\\u003eRMSD=%{x}\\u003cbr\\u003eEnergy (kcal\\u002fmol)=%{y}\\u003cextra\\u003e\\u003c\\u002fextra\\u003e\",\"legendgroup\":\"5a14, DFG out\",\"marker\":{\"color\":\"rgb(141,211,199)\",\"symbol\":\"circle\",\"line\":{\"color\":\"DarkSlateGrey\",\"width\":1},\"size\":8},\"mode\":\"markers\",\"name\":\"5a14, DFG out\",\"orientation\":\"v\",\"showlegend\":true,\"x\":[6.22],\"xaxis\":\"x\",\"y\":[3.36],\"yaxis\":\"y\",\"type\":\"scatter\"},{\"hovertemplate\":\"Receptor=6guh\\u003cbr\\u003eReceptor Type=no cyclin\\u003cbr\\u003eRMSD=%{x}\\u003cbr\\u003eEnergy (kcal\\u002fmol)=%{y}\\u003cextra\\u003e\\u003c\\u002fextra\\u003e\",\"legendgroup\":\"6guh, no cyclin\",\"marker\":{\"color\":\"rgb(255,255,179)\",\"symbol\":\"x\",\"line\":{\"color\":\"DarkSlateGrey\",\"width\":1},\"size\":8},\"mode\":\"markers\",\"name\":\"6guh, no cyclin\",\"orientation\":\"v\",\"showlegend\":true,\"x\":[7.71,6.37],\"xaxis\":\"x\",\"y\":[-8.44,-7.48],\"yaxis\":\"y\",\"type\":\"scatter\"},{\"hovertemplate\":\"Receptor=3ddq\\u003cbr\\u003eReceptor Type=with cyclin\\u003cbr\\u003eRMSD=%{x}\\u003cbr\\u003eEnergy (kcal\\u002fmol)=%{y}\\u003cextra\\u003e\\u003c\\u002fextra\\u003e\",\"legendgroup\":\"3ddq, with cyclin\",\"marker\":{\"color\":\"rgb(190,186,218)\",\"symbol\":\"triangle-up\",\"line\":{\"color\":\"DarkSlateGrey\",\"width\":1},\"size\":8},\"mode\":\"markers\",\"name\":\"3ddq, with cyclin\",\"orientation\":\"v\",\"showlegend\":true,\"x\":[5.72],\"xaxis\":\"x\",\"y\":[-11.51],\"yaxis\":\"y\",\"type\":\"scatter\"},{\"hovertemplate\":\"Receptor=6gub\\u003cbr\\u003eReceptor Type=with cyclin\\u003cbr\\u003eRMSD=%{x}\\u003cbr\\u003eEnergy (kcal\\u002fmol)=%{y}\\u003cextra\\u003e\\u003c\\u002fextra\\u003e\",\"legendgroup\":\"6gub, with cyclin\",\"marker\":{\"color\":\"rgb(251,128,114)\",\"symbol\":\"triangle-up\",\"line\":{\"color\":\"DarkSlateGrey\",\"width\":1},\"size\":8},\"mode\":\"markers\",\"name\":\"6gub, with cyclin\",\"orientation\":\"v\",\"showlegend\":true,\"x\":[0.55,6.02,6.3,5.66,5.49],\"xaxis\":\"x\",\"y\":[-11.46,-10.72,-10.69,-10.05,-9.43],\"yaxis\":\"y\",\"type\":\"scatter\"}],                        {\"template\":{\"data\":{\"barpolar\":[{\"marker\":{\"line\":{\"color\":\"rgb(237,237,237)\",\"width\":0.5},\"pattern\":{\"fillmode\":\"overlay\",\"size\":10,\"solidity\":0.2}},\"type\":\"barpolar\"}],\"bar\":[{\"error_x\":{\"color\":\"rgb(51,51,51)\"},\"error_y\":{\"color\":\"rgb(51,51,51)\"},\"marker\":{\"line\":{\"color\":\"rgb(237,237,237)\",\"width\":0.5},\"pattern\":{\"fillmode\":\"overlay\",\"size\":10,\"solidity\":0.2}},\"type\":\"bar\"}],\"carpet\":[{\"aaxis\":{\"endlinecolor\":\"rgb(51,51,51)\",\"gridcolor\":\"white\",\"linecolor\":\"white\",\"minorgridcolor\":\"white\",\"startlinecolor\":\"rgb(51,51,51)\"},\"baxis\":{\"endlinecolor\":\"rgb(51,51,51)\",\"gridcolor\":\"white\",\"linecolor\":\"white\",\"minorgridcolor\":\"white\",\"startlinecolor\":\"rgb(51,51,51)\"},\"type\":\"carpet\"}],\"choropleth\":[{\"colorbar\":{\"outlinewidth\":0,\"tickcolor\":\"rgb(237,237,237)\",\"ticklen\":6,\"ticks\":\"inside\"},\"type\":\"choropleth\"}],\"contourcarpet\":[{\"colorbar\":{\"outlinewidth\":0,\"tickcolor\":\"rgb(237,237,237)\",\"ticklen\":6,\"ticks\":\"inside\"},\"type\":\"contourcarpet\"}],\"contour\":[{\"colorbar\":{\"outlinewidth\":0,\"tickcolor\":\"rgb(237,237,237)\",\"ticklen\":6,\"ticks\":\"inside\"},\"colorscale\":[[0,\"rgb(20,44,66)\"],[1,\"rgb(90,179,244)\"]],\"type\":\"contour\"}],\"heatmapgl\":[{\"colorbar\":{\"outlinewidth\":0,\"tickcolor\":\"rgb(237,237,237)\",\"ticklen\":6,\"ticks\":\"inside\"},\"colorscale\":[[0,\"rgb(20,44,66)\"],[1,\"rgb(90,179,244)\"]],\"type\":\"heatmapgl\"}],\"heatmap\":[{\"colorbar\":{\"outlinewidth\":0,\"tickcolor\":\"rgb(237,237,237)\",\"ticklen\":6,\"ticks\":\"inside\"},\"colorscale\":[[0,\"rgb(20,44,66)\"],[1,\"rgb(90,179,244)\"]],\"type\":\"heatmap\"}],\"histogram2dcontour\":[{\"colorbar\":{\"outlinewidth\":0,\"tickcolor\":\"rgb(237,237,237)\",\"ticklen\":6,\"ticks\":\"inside\"},\"colorscale\":[[0,\"rgb(20,44,66)\"],[1,\"rgb(90,179,244)\"]],\"type\":\"histogram2dcontour\"}],\"histogram2d\":[{\"colorbar\":{\"outlinewidth\":0,\"tickcolor\":\"rgb(237,237,237)\",\"ticklen\":6,\"ticks\":\"inside\"},\"colorscale\":[[0,\"rgb(20,44,66)\"],[1,\"rgb(90,179,244)\"]],\"type\":\"histogram2d\"}],\"histogram\":[{\"marker\":{\"pattern\":{\"fillmode\":\"overlay\",\"size\":10,\"solidity\":0.2}},\"type\":\"histogram\"}],\"mesh3d\":[{\"colorbar\":{\"outlinewidth\":0,\"tickcolor\":\"rgb(237,237,237)\",\"ticklen\":6,\"ticks\":\"inside\"},\"type\":\"mesh3d\"}],\"parcoords\":[{\"line\":{\"colorbar\":{\"outlinewidth\":0,\"tickcolor\":\"rgb(237,237,237)\",\"ticklen\":6,\"ticks\":\"inside\"}},\"type\":\"parcoords\"}],\"pie\":[{\"automargin\":true,\"type\":\"pie\"}],\"scatter3d\":[{\"line\":{\"colorbar\":{\"outlinewidth\":0,\"tickcolor\":\"rgb(237,237,237)\",\"ticklen\":6,\"ticks\":\"inside\"}},\"marker\":{\"colorbar\":{\"outlinewidth\":0,\"tickcolor\":\"rgb(237,237,237)\",\"ticklen\":6,\"ticks\":\"inside\"}},\"type\":\"scatter3d\"}],\"scattercarpet\":[{\"marker\":{\"colorbar\":{\"outlinewidth\":0,\"tickcolor\":\"rgb(237,237,237)\",\"ticklen\":6,\"ticks\":\"inside\"}},\"type\":\"scattercarpet\"}],\"scattergeo\":[{\"marker\":{\"colorbar\":{\"outlinewidth\":0,\"tickcolor\":\"rgb(237,237,237)\",\"ticklen\":6,\"ticks\":\"inside\"}},\"type\":\"scattergeo\"}],\"scattergl\":[{\"marker\":{\"colorbar\":{\"outlinewidth\":0,\"tickcolor\":\"rgb(237,237,237)\",\"ticklen\":6,\"ticks\":\"inside\"}},\"type\":\"scattergl\"}],\"scattermapbox\":[{\"marker\":{\"colorbar\":{\"outlinewidth\":0,\"tickcolor\":\"rgb(237,237,237)\",\"ticklen\":6,\"ticks\":\"inside\"}},\"type\":\"scattermapbox\"}],\"scatterpolargl\":[{\"marker\":{\"colorbar\":{\"outlinewidth\":0,\"tickcolor\":\"rgb(237,237,237)\",\"ticklen\":6,\"ticks\":\"inside\"}},\"type\":\"scatterpolargl\"}],\"scatterpolar\":[{\"marker\":{\"colorbar\":{\"outlinewidth\":0,\"tickcolor\":\"rgb(237,237,237)\",\"ticklen\":6,\"ticks\":\"inside\"}},\"type\":\"scatterpolar\"}],\"scatter\":[{\"fillpattern\":{\"fillmode\":\"overlay\",\"size\":10,\"solidity\":0.2},\"type\":\"scatter\"}],\"scatterternary\":[{\"marker\":{\"colorbar\":{\"outlinewidth\":0,\"tickcolor\":\"rgb(237,237,237)\",\"ticklen\":6,\"ticks\":\"inside\"}},\"type\":\"scatterternary\"}],\"surface\":[{\"colorbar\":{\"outlinewidth\":0,\"tickcolor\":\"rgb(237,237,237)\",\"ticklen\":6,\"ticks\":\"inside\"},\"colorscale\":[[0,\"rgb(20,44,66)\"],[1,\"rgb(90,179,244)\"]],\"type\":\"surface\"}],\"table\":[{\"cells\":{\"fill\":{\"color\":\"rgb(237,237,237)\"},\"line\":{\"color\":\"white\"}},\"header\":{\"fill\":{\"color\":\"rgb(217,217,217)\"},\"line\":{\"color\":\"white\"}},\"type\":\"table\"}]},\"layout\":{\"annotationdefaults\":{\"arrowhead\":0,\"arrowwidth\":1},\"autotypenumbers\":\"strict\",\"coloraxis\":{\"colorbar\":{\"outlinewidth\":0,\"tickcolor\":\"rgb(237,237,237)\",\"ticklen\":6,\"ticks\":\"inside\"}},\"colorscale\":{\"sequential\":[[0,\"rgb(20,44,66)\"],[1,\"rgb(90,179,244)\"]],\"sequentialminus\":[[0,\"rgb(20,44,66)\"],[1,\"rgb(90,179,244)\"]]},\"colorway\":[\"#F8766D\",\"#A3A500\",\"#00BF7D\",\"#00B0F6\",\"#E76BF3\"],\"font\":{\"color\":\"rgb(51,51,51)\"},\"geo\":{\"bgcolor\":\"white\",\"lakecolor\":\"white\",\"landcolor\":\"rgb(237,237,237)\",\"showlakes\":true,\"showland\":true,\"subunitcolor\":\"white\"},\"hoverlabel\":{\"align\":\"left\"},\"hovermode\":\"closest\",\"paper_bgcolor\":\"white\",\"plot_bgcolor\":\"rgb(237,237,237)\",\"polar\":{\"angularaxis\":{\"gridcolor\":\"white\",\"linecolor\":\"white\",\"showgrid\":true,\"tickcolor\":\"rgb(51,51,51)\",\"ticks\":\"outside\"},\"bgcolor\":\"rgb(237,237,237)\",\"radialaxis\":{\"gridcolor\":\"white\",\"linecolor\":\"white\",\"showgrid\":true,\"tickcolor\":\"rgb(51,51,51)\",\"ticks\":\"outside\"}},\"scene\":{\"xaxis\":{\"backgroundcolor\":\"rgb(237,237,237)\",\"gridcolor\":\"white\",\"gridwidth\":2,\"linecolor\":\"white\",\"showbackground\":true,\"showgrid\":true,\"tickcolor\":\"rgb(51,51,51)\",\"ticks\":\"outside\",\"zerolinecolor\":\"white\"},\"yaxis\":{\"backgroundcolor\":\"rgb(237,237,237)\",\"gridcolor\":\"white\",\"gridwidth\":2,\"linecolor\":\"white\",\"showbackground\":true,\"showgrid\":true,\"tickcolor\":\"rgb(51,51,51)\",\"ticks\":\"outside\",\"zerolinecolor\":\"white\"},\"zaxis\":{\"backgroundcolor\":\"rgb(237,237,237)\",\"gridcolor\":\"white\",\"gridwidth\":2,\"linecolor\":\"white\",\"showbackground\":true,\"showgrid\":true,\"tickcolor\":\"rgb(51,51,51)\",\"ticks\":\"outside\",\"zerolinecolor\":\"white\"}},\"shapedefaults\":{\"fillcolor\":\"black\",\"line\":{\"width\":0},\"opacity\":0.3},\"ternary\":{\"aaxis\":{\"gridcolor\":\"white\",\"linecolor\":\"white\",\"showgrid\":true,\"tickcolor\":\"rgb(51,51,51)\",\"ticks\":\"outside\"},\"baxis\":{\"gridcolor\":\"white\",\"linecolor\":\"white\",\"showgrid\":true,\"tickcolor\":\"rgb(51,51,51)\",\"ticks\":\"outside\"},\"bgcolor\":\"rgb(237,237,237)\",\"caxis\":{\"gridcolor\":\"white\",\"linecolor\":\"white\",\"showgrid\":true,\"tickcolor\":\"rgb(51,51,51)\",\"ticks\":\"outside\"}},\"xaxis\":{\"automargin\":true,\"gridcolor\":\"white\",\"linecolor\":\"white\",\"showgrid\":true,\"tickcolor\":\"rgb(51,51,51)\",\"ticks\":\"outside\",\"title\":{\"standoff\":15},\"zerolinecolor\":\"white\"},\"yaxis\":{\"automargin\":true,\"gridcolor\":\"white\",\"linecolor\":\"white\",\"showgrid\":true,\"tickcolor\":\"rgb(51,51,51)\",\"ticks\":\"outside\",\"title\":{\"standoff\":15},\"zerolinecolor\":\"white\"}}},\"xaxis\":{\"anchor\":\"y\",\"domain\":[0.0,1.0],\"title\":{\"text\":\"RMSD\"}},\"yaxis\":{\"anchor\":\"x\",\"domain\":[0.0,1.0],\"title\":{\"text\":\"Energy (kcal\\u002fmol)\"}},\"legend\":{\"title\":{\"text\":\"Receptor, Receptor Type\"},\"tracegroupgap\":0},\"margin\":{\"t\":60},\"title\":{\"text\":\"Ensemble docking of 6GUB\"}},                        {\"responsive\": true}                    ).then(function(){\n",
       "                            \n",
       "var gd = document.getElementById('0553a648-14e3-428d-b7b7-2d2ce73dbdec');\n",
       "var x = new MutationObserver(function (mutations, observer) {{\n",
       "        var display = window.getComputedStyle(gd).display;\n",
       "        if (!display || display === 'none') {{\n",
       "            console.log([gd, 'removed!']);\n",
       "            Plotly.purge(gd);\n",
       "            observer.disconnect();\n",
       "        }}\n",
       "}});\n",
       "\n",
       "// Listen for the removal of the full notebook cells\n",
       "var notebookContainer = gd.closest('#notebook-container');\n",
       "if (notebookContainer) {{\n",
       "    x.observe(notebookContainer, {childList: true});\n",
       "}}\n",
       "\n",
       "// Listen for the clearing of the current output cell\n",
       "var outputEl = gd.closest('.output');\n",
       "if (outputEl) {{\n",
       "    x.observe(outputEl, {childList: true});\n",
       "}}\n",
       "\n",
       "                        })                };                });            </script>        </div>"
      ]
     },
     "metadata": {},
     "output_type": "display_data"
    }
   ],
   "source": [
    "# energy x RMSD scatter plots\n",
    "import plotly.express as px\n",
    "for pdb_id in full_dataset.pdb_code.unique():\n",
    "    tmp_df = results_pd[results_pd[\"pdb_id\"]==pdb_id].reset_index()\n",
    "    tmp_df[\"Receptor\"] = tmp_df[\"Receptor Name\"].apply(lambda x: x.split(\"_\")[0])\n",
    "    tmp_df[\"Receptor Type\"] = tmp_df[\"Receptor\"].apply(lambda x: receptor_types[x.upper()])\n",
    "    tmp_df = tmp_df.sort_values(\"Receptor Type\").reset_index()\n",
    "    symbols = ['circle', 'x', 'triangle-up']\n",
    "    fig = px.scatter(tmp_df, x=\"RMSD\", y=\"Energy (kcal/mol)\", color=\"Receptor\", symbol=\"Receptor Type\",\n",
    "            template=\"ggplot2\", symbol_sequence=symbols, \n",
    "            color_discrete_sequence=px.colors.qualitative.Set3)\n",
    "    fig.update_traces(\n",
    "        marker=dict(size=8, line=dict(width=1, color=\"DarkSlateGrey\")),\n",
    "        selector=dict(mode=\"markers\"),\n",
    "    )\n",
    "    fig.update_layout(title=\"Ensemble docking of {}\".format(pdb_id))\n",
    "    fig.show()"
   ]
  },
  {
   "cell_type": "code",
   "execution_count": 64,
   "id": "1b281c4f",
   "metadata": {},
   "outputs": [],
   "source": [
    "comparison_res = {\n",
    "    \"pdb_id\" : [],\n",
    "    \"top3_rmsd\": [],\n",
    "    \"best_rmsd\": [],\n",
    "    \"type\": []\n",
    "}\n",
    "\n",
    "for pdb_id in full_dataset.pdb_code.unique():\n",
    "    tmp_df = results_pd[results_pd[\"pdb_id\"]==pdb_id].reset_index()\n",
    "    tmp_df[\"Receptor\"] = tmp_df[\"Receptor Name\"].apply(lambda x: x.split(\"_\")[0].upper())\n",
    "    redock_df = tmp_df[tmp_df[\"Receptor\"]==pdb_id]\n",
    "    redock_top_3 = redock_df.sort_values(\"Energy (kcal/mol)\").head(5)\n",
    "    top3_rmsd = redock_top_3.sort_values(\"RMSD\").reset_index().iloc[0][\"RMSD\"]\n",
    "    best_rmsd = redock_df.sort_values(\"RMSD\").reset_index().iloc[0][\"RMSD\"]\n",
    "    comparison_res[\"pdb_id\"].append(pdb_id)\n",
    "    comparison_res[\"top3_rmsd\"].append(top3_rmsd)\n",
    "    comparison_res[\"best_rmsd\"].append(best_rmsd)\n",
    "    comparison_res[\"type\"].append(\"redock - single receptor\")\n",
    "    crossdock_df = tmp_df\n",
    "    crossdock_top_3 = crossdock_df.sort_values(\"Energy (kcal/mol)\").head(5)\n",
    "    top3_rmsd = crossdock_top_3.sort_values(\"RMSD\").reset_index().iloc[0][\"RMSD\"]\n",
    "    best_rmsd = crossdock_df.sort_values(\"RMSD\").reset_index().iloc[0][\"RMSD\"]\n",
    "    comparison_res[\"pdb_id\"].append(pdb_id)\n",
    "    comparison_res[\"top3_rmsd\"].append(top3_rmsd)\n",
    "    comparison_res[\"best_rmsd\"].append(best_rmsd)\n",
    "    comparison_res[\"type\"].append(\"crossdock - ensemble\")"
   ]
  },
  {
   "cell_type": "code",
   "execution_count": 65,
   "id": "8dbffd56",
   "metadata": {},
   "outputs": [],
   "source": [
    "res_1_excluded = pd.DataFrame(comparison_res)"
   ]
  },
  {
   "cell_type": "code",
   "execution_count": 66,
   "id": "0e17e74f",
   "metadata": {},
   "outputs": [
    {
     "data": {
      "text/html": [
       "<div>\n",
       "<style scoped>\n",
       "    .dataframe tbody tr th:only-of-type {\n",
       "        vertical-align: middle;\n",
       "    }\n",
       "\n",
       "    .dataframe tbody tr th {\n",
       "        vertical-align: top;\n",
       "    }\n",
       "\n",
       "    .dataframe thead th {\n",
       "        text-align: right;\n",
       "    }\n",
       "</style>\n",
       "<table border=\"1\" class=\"dataframe\">\n",
       "  <thead>\n",
       "    <tr style=\"text-align: right;\">\n",
       "      <th></th>\n",
       "      <th>pdb_id</th>\n",
       "      <th>top3_rmsd</th>\n",
       "      <th>best_rmsd</th>\n",
       "      <th>type</th>\n",
       "    </tr>\n",
       "  </thead>\n",
       "  <tbody>\n",
       "    <tr>\n",
       "      <th>0</th>\n",
       "      <td>5A14</td>\n",
       "      <td>1.38</td>\n",
       "      <td>1.38</td>\n",
       "      <td>redock - single receptor</td>\n",
       "    </tr>\n",
       "    <tr>\n",
       "      <th>1</th>\n",
       "      <td>5A14</td>\n",
       "      <td>1.38</td>\n",
       "      <td>1.38</td>\n",
       "      <td>crossdock - ensemble</td>\n",
       "    </tr>\n",
       "    <tr>\n",
       "      <th>2</th>\n",
       "      <td>4KD1</td>\n",
       "      <td>2.70</td>\n",
       "      <td>2.70</td>\n",
       "      <td>redock - single receptor</td>\n",
       "    </tr>\n",
       "    <tr>\n",
       "      <th>3</th>\n",
       "      <td>4KD1</td>\n",
       "      <td>2.14</td>\n",
       "      <td>1.45</td>\n",
       "      <td>crossdock - ensemble</td>\n",
       "    </tr>\n",
       "    <tr>\n",
       "      <th>4</th>\n",
       "      <td>5L2W</td>\n",
       "      <td>7.68</td>\n",
       "      <td>7.68</td>\n",
       "      <td>redock - single receptor</td>\n",
       "    </tr>\n",
       "    <tr>\n",
       "      <th>5</th>\n",
       "      <td>5L2W</td>\n",
       "      <td>1.62</td>\n",
       "      <td>1.62</td>\n",
       "      <td>crossdock - ensemble</td>\n",
       "    </tr>\n",
       "    <tr>\n",
       "      <th>6</th>\n",
       "      <td>3PJ8</td>\n",
       "      <td>1.73</td>\n",
       "      <td>1.73</td>\n",
       "      <td>redock - single receptor</td>\n",
       "    </tr>\n",
       "    <tr>\n",
       "      <th>7</th>\n",
       "      <td>3PJ8</td>\n",
       "      <td>1.73</td>\n",
       "      <td>1.73</td>\n",
       "      <td>crossdock - ensemble</td>\n",
       "    </tr>\n",
       "    <tr>\n",
       "      <th>8</th>\n",
       "      <td>3DDQ</td>\n",
       "      <td>3.36</td>\n",
       "      <td>3.36</td>\n",
       "      <td>redock - single receptor</td>\n",
       "    </tr>\n",
       "    <tr>\n",
       "      <th>9</th>\n",
       "      <td>3DDQ</td>\n",
       "      <td>2.09</td>\n",
       "      <td>1.64</td>\n",
       "      <td>crossdock - ensemble</td>\n",
       "    </tr>\n",
       "    <tr>\n",
       "      <th>10</th>\n",
       "      <td>6GUH</td>\n",
       "      <td>5.14</td>\n",
       "      <td>5.02</td>\n",
       "      <td>redock - single receptor</td>\n",
       "    </tr>\n",
       "    <tr>\n",
       "      <th>11</th>\n",
       "      <td>6GUH</td>\n",
       "      <td>1.51</td>\n",
       "      <td>1.51</td>\n",
       "      <td>crossdock - ensemble</td>\n",
       "    </tr>\n",
       "    <tr>\n",
       "      <th>12</th>\n",
       "      <td>6GUE</td>\n",
       "      <td>1.29</td>\n",
       "      <td>1.29</td>\n",
       "      <td>redock - single receptor</td>\n",
       "    </tr>\n",
       "    <tr>\n",
       "      <th>13</th>\n",
       "      <td>6GUE</td>\n",
       "      <td>1.29</td>\n",
       "      <td>1.29</td>\n",
       "      <td>crossdock - ensemble</td>\n",
       "    </tr>\n",
       "    <tr>\n",
       "      <th>14</th>\n",
       "      <td>6GUK</td>\n",
       "      <td>1.71</td>\n",
       "      <td>1.71</td>\n",
       "      <td>redock - single receptor</td>\n",
       "    </tr>\n",
       "    <tr>\n",
       "      <th>15</th>\n",
       "      <td>6GUK</td>\n",
       "      <td>3.08</td>\n",
       "      <td>1.71</td>\n",
       "      <td>crossdock - ensemble</td>\n",
       "    </tr>\n",
       "    <tr>\n",
       "      <th>16</th>\n",
       "      <td>6GUF</td>\n",
       "      <td>6.30</td>\n",
       "      <td>6.30</td>\n",
       "      <td>redock - single receptor</td>\n",
       "    </tr>\n",
       "    <tr>\n",
       "      <th>17</th>\n",
       "      <td>6GUF</td>\n",
       "      <td>5.48</td>\n",
       "      <td>2.17</td>\n",
       "      <td>crossdock - ensemble</td>\n",
       "    </tr>\n",
       "    <tr>\n",
       "      <th>18</th>\n",
       "      <td>6GUB</td>\n",
       "      <td>0.55</td>\n",
       "      <td>0.55</td>\n",
       "      <td>redock - single receptor</td>\n",
       "    </tr>\n",
       "    <tr>\n",
       "      <th>19</th>\n",
       "      <td>6GUB</td>\n",
       "      <td>0.55</td>\n",
       "      <td>0.55</td>\n",
       "      <td>crossdock - ensemble</td>\n",
       "    </tr>\n",
       "  </tbody>\n",
       "</table>\n",
       "</div>"
      ],
      "text/plain": [
       "   pdb_id  top3_rmsd  best_rmsd                      type\n",
       "0    5A14       1.38       1.38  redock - single receptor\n",
       "1    5A14       1.38       1.38      crossdock - ensemble\n",
       "2    4KD1       2.70       2.70  redock - single receptor\n",
       "3    4KD1       2.14       1.45      crossdock - ensemble\n",
       "4    5L2W       7.68       7.68  redock - single receptor\n",
       "5    5L2W       1.62       1.62      crossdock - ensemble\n",
       "6    3PJ8       1.73       1.73  redock - single receptor\n",
       "7    3PJ8       1.73       1.73      crossdock - ensemble\n",
       "8    3DDQ       3.36       3.36  redock - single receptor\n",
       "9    3DDQ       2.09       1.64      crossdock - ensemble\n",
       "10   6GUH       5.14       5.02  redock - single receptor\n",
       "11   6GUH       1.51       1.51      crossdock - ensemble\n",
       "12   6GUE       1.29       1.29  redock - single receptor\n",
       "13   6GUE       1.29       1.29      crossdock - ensemble\n",
       "14   6GUK       1.71       1.71  redock - single receptor\n",
       "15   6GUK       3.08       1.71      crossdock - ensemble\n",
       "16   6GUF       6.30       6.30  redock - single receptor\n",
       "17   6GUF       5.48       2.17      crossdock - ensemble\n",
       "18   6GUB       0.55       0.55  redock - single receptor\n",
       "19   6GUB       0.55       0.55      crossdock - ensemble"
      ]
     },
     "execution_count": 66,
     "metadata": {},
     "output_type": "execute_result"
    }
   ],
   "source": [
    "res_1_excluded"
   ]
  },
  {
   "cell_type": "code",
   "execution_count": 67,
   "id": "db224c72",
   "metadata": {},
   "outputs": [],
   "source": [
    "ens_res = res_1_excluded[res_1_excluded[\"type\"]==\"crossdock - ensemble\"]\n",
    "redock_res = res_1_excluded[res_1_excluded[\"type\"]==\"redock - single receptor\"]\n"
   ]
  },
  {
   "cell_type": "code",
   "execution_count": 109,
   "id": "5f41880e",
   "metadata": {},
   "outputs": [
    {
     "data": {
      "application/vnd.plotly.v1+json": {
       "config": {
        "plotlyServerURL": "https://plot.ly"
       },
       "data": [
        {
         "hovertemplate": "x=%{x}<br>y=%{y}<extra></extra>",
         "legendgroup": "",
         "marker": {
          "color": "rgb(27,158,119)",
          "line": {
           "color": "DarkSlateGrey",
           "width": 2
          },
          "size": 7,
          "symbol": "circle"
         },
         "mode": "markers",
         "name": "",
         "orientation": "v",
         "showlegend": false,
         "type": "scatter",
         "x": [
          1.38,
          2.7,
          7.68,
          1.73,
          3.36,
          5.02,
          1.29,
          1.71,
          6.3,
          0.55
         ],
         "xaxis": "x",
         "y": [
          1.38,
          1.45,
          1.62,
          1.73,
          1.64,
          1.51,
          1.29,
          1.71,
          2.17,
          0.55
         ],
         "yaxis": "y"
        }
       ],
       "layout": {
        "height": 400,
        "legend": {
         "tracegroupgap": 0
        },
        "margin": {
         "t": 60
        },
        "shapes": [
         {
          "type": "line",
          "x0": 0,
          "x1": 8,
          "y0": 0,
          "y1": 8
         },
         {
          "type": "line",
          "x0": 0,
          "x1": 8,
          "y0": 0,
          "y1": 8
         }
        ],
        "template": {
         "data": {
          "pie": [
           {
            "automargin": true,
            "type": "pie"
           }
          ]
         },
         "layout": {
          "xaxis": {
           "showgrid": true,
           "title": {
            "standoff": 15
           }
          },
          "yaxis": {
           "showgrid": true,
           "title": {
            "standoff": 15
           }
          }
         }
        },
        "title": {
         "text": "Best RMSD"
        },
        "width": 420,
        "xaxis": {
         "anchor": "y",
         "domain": [
          0,
          1
         ],
         "range": [
          0,
          8
         ],
         "title": {
          "text": "Re-Docking Best RMSD (Å)"
         }
        },
        "yaxis": {
         "anchor": "x",
         "domain": [
          0,
          1
         ],
         "range": [
          0,
          8
         ],
         "title": {
          "text": "Ensemble Docking Best RMSD (Å)"
         }
        }
       }
      },
      "text/html": [
       "<div>                            <div id=\"7c64e7ed-371c-4a51-bae2-88c386d433e9\" class=\"plotly-graph-div\" style=\"height:400px; width:420px;\"></div>            <script type=\"text/javascript\">                require([\"plotly\"], function(Plotly) {                    window.PLOTLYENV=window.PLOTLYENV || {};                                    if (document.getElementById(\"7c64e7ed-371c-4a51-bae2-88c386d433e9\")) {                    Plotly.newPlot(                        \"7c64e7ed-371c-4a51-bae2-88c386d433e9\",                        [{\"hovertemplate\":\"x=%{x}\\u003cbr\\u003ey=%{y}\\u003cextra\\u003e\\u003c\\u002fextra\\u003e\",\"legendgroup\":\"\",\"marker\":{\"color\":\"rgb(27,158,119)\",\"symbol\":\"circle\",\"line\":{\"color\":\"DarkSlateGrey\",\"width\":2},\"size\":7},\"mode\":\"markers\",\"name\":\"\",\"orientation\":\"v\",\"showlegend\":false,\"x\":[1.38,2.7,7.68,1.73,3.36,5.02,1.29,1.71,6.3,0.55],\"xaxis\":\"x\",\"y\":[1.38,1.45,1.62,1.73,1.64,1.51,1.29,1.71,2.17,0.55],\"yaxis\":\"y\",\"type\":\"scatter\"}],                        {\"template\":{\"data\":{\"pie\":[{\"automargin\":true,\"type\":\"pie\"}]},\"layout\":{\"xaxis\":{\"showgrid\":true,\"title\":{\"standoff\":15}},\"yaxis\":{\"showgrid\":true,\"title\":{\"standoff\":15}}}},\"xaxis\":{\"anchor\":\"y\",\"domain\":[0.0,1.0],\"title\":{\"text\":\"Re-Docking Best RMSD (\\u00c5)\"},\"range\":[0,8]},\"yaxis\":{\"anchor\":\"x\",\"domain\":[0.0,1.0],\"title\":{\"text\":\"Ensemble Docking Best RMSD (\\u00c5)\"},\"range\":[0,8]},\"legend\":{\"tracegroupgap\":0},\"margin\":{\"t\":60},\"height\":400,\"width\":420,\"shapes\":[{\"type\":\"line\",\"x0\":0,\"x1\":8,\"y0\":0,\"y1\":8},{\"type\":\"line\",\"x0\":0,\"x1\":8,\"y0\":0,\"y1\":8}],\"title\":{\"text\":\"Best RMSD\"}},                        {\"responsive\": true}                    ).then(function(){\n",
       "                            \n",
       "var gd = document.getElementById('7c64e7ed-371c-4a51-bae2-88c386d433e9');\n",
       "var x = new MutationObserver(function (mutations, observer) {{\n",
       "        var display = window.getComputedStyle(gd).display;\n",
       "        if (!display || display === 'none') {{\n",
       "            console.log([gd, 'removed!']);\n",
       "            Plotly.purge(gd);\n",
       "            observer.disconnect();\n",
       "        }}\n",
       "}});\n",
       "\n",
       "// Listen for the removal of the full notebook cells\n",
       "var notebookContainer = gd.closest('#notebook-container');\n",
       "if (notebookContainer) {{\n",
       "    x.observe(notebookContainer, {childList: true});\n",
       "}}\n",
       "\n",
       "// Listen for the clearing of the current output cell\n",
       "var outputEl = gd.closest('.output');\n",
       "if (outputEl) {{\n",
       "    x.observe(outputEl, {childList: true});\n",
       "}}\n",
       "\n",
       "                        })                };                });            </script>        </div>"
      ]
     },
     "metadata": {},
     "output_type": "display_data"
    }
   ],
   "source": [
    "import plotly.io as pio\n",
    "pio.templates.default = \"gridon\"\n",
    "\n",
    "fig = px.scatter(x=redock_res.best_rmsd, y=ens_res.best_rmsd, \n",
    "                 width=420, height=400, \n",
    "                 color_discrete_sequence=px.colors.qualitative.Dark2)\n",
    "fig.update_layout(yaxis_range=[0,8],xaxis_range=[0,8] )\n",
    "fig.add_shape(type=\"line\",\n",
    "              x0=0, \n",
    "              y0=0, \n",
    "              x1=8, \n",
    "              y1=8)\n",
    "fig.update_layout(yaxis_range=[0,8],xaxis_range=[0,8],\n",
    "                  title=\"Best RMSD\", \n",
    "                  xaxis_title=\"Re-Docking Best RMSD (Å)\", \n",
    "                  yaxis_title=\"Ensemble Docking Best RMSD (Å)\")\n",
    "fig.update_traces(marker=dict(size=7,\n",
    "                              line=dict(width=2,\n",
    "                                        color='DarkSlateGrey')))\n",
    "fig.add_shape(type=\"line\",\n",
    "              x0=0, \n",
    "              y0=0, \n",
    "              x1=8, \n",
    "              y1=8)\n",
    "fig.write_image(\"CDK_ensemble_scatter_best.svg\")\n",
    "fig"
   ]
  },
  {
   "cell_type": "code",
   "execution_count": 113,
   "id": "6aa09650",
   "metadata": {},
   "outputs": [
    {
     "data": {
      "application/vnd.plotly.v1+json": {
       "config": {
        "plotlyServerURL": "https://plot.ly"
       },
       "data": [
        {
         "hovertemplate": "x=%{x}<br>y=%{y}<extra></extra>",
         "legendgroup": "",
         "marker": {
          "color": "rgb(27,158,119)",
          "line": {
           "color": "DarkSlateGrey",
           "width": 2
          },
          "size": 7,
          "symbol": "circle"
         },
         "mode": "markers",
         "name": "",
         "orientation": "v",
         "showlegend": false,
         "type": "scatter",
         "x": [
          1.38,
          2.7,
          7.68,
          1.73,
          3.36,
          5.14,
          1.29,
          1.71,
          6.3,
          0.55
         ],
         "xaxis": "x",
         "y": [
          1.38,
          2.14,
          1.62,
          1.73,
          2.09,
          1.51,
          1.29,
          3.08,
          5.48,
          0.55
         ],
         "yaxis": "y"
        }
       ],
       "layout": {
        "height": 400,
        "legend": {
         "tracegroupgap": 0
        },
        "margin": {
         "t": 60
        },
        "shapes": [
         {
          "type": "line",
          "x0": 0,
          "x1": 8,
          "y0": 0,
          "y1": 8
         }
        ],
        "template": {
         "data": {
          "pie": [
           {
            "automargin": true,
            "type": "pie"
           }
          ]
         },
         "layout": {
          "xaxis": {
           "showgrid": true,
           "title": {
            "standoff": 15
           }
          },
          "yaxis": {
           "showgrid": true,
           "title": {
            "standoff": 15
           }
          }
         }
        },
        "title": {
         "text": "Top3 RMSD"
        },
        "width": 420,
        "xaxis": {
         "anchor": "y",
         "domain": [
          0,
          1
         ],
         "range": [
          0,
          8
         ],
         "title": {
          "text": "Re-Docking Top3 RMSD (Å)"
         }
        },
        "yaxis": {
         "anchor": "x",
         "domain": [
          0,
          1
         ],
         "range": [
          0,
          8
         ],
         "title": {
          "text": "Ensemble Docking Top3 RMSD (Å)"
         }
        }
       }
      },
      "text/html": [
       "<div>                            <div id=\"4a7003e1-2995-42b1-aaaf-c32adfc1ad10\" class=\"plotly-graph-div\" style=\"height:400px; width:420px;\"></div>            <script type=\"text/javascript\">                require([\"plotly\"], function(Plotly) {                    window.PLOTLYENV=window.PLOTLYENV || {};                                    if (document.getElementById(\"4a7003e1-2995-42b1-aaaf-c32adfc1ad10\")) {                    Plotly.newPlot(                        \"4a7003e1-2995-42b1-aaaf-c32adfc1ad10\",                        [{\"hovertemplate\":\"x=%{x}\\u003cbr\\u003ey=%{y}\\u003cextra\\u003e\\u003c\\u002fextra\\u003e\",\"legendgroup\":\"\",\"marker\":{\"color\":\"rgb(27,158,119)\",\"symbol\":\"circle\",\"line\":{\"color\":\"DarkSlateGrey\",\"width\":2},\"size\":7},\"mode\":\"markers\",\"name\":\"\",\"orientation\":\"v\",\"showlegend\":false,\"x\":[1.38,2.7,7.68,1.73,3.36,5.14,1.29,1.71,6.3,0.55],\"xaxis\":\"x\",\"y\":[1.38,2.14,1.62,1.73,2.09,1.51,1.29,3.08,5.48,0.55],\"yaxis\":\"y\",\"type\":\"scatter\"}],                        {\"template\":{\"data\":{\"pie\":[{\"automargin\":true,\"type\":\"pie\"}]},\"layout\":{\"xaxis\":{\"showgrid\":true,\"title\":{\"standoff\":15}},\"yaxis\":{\"showgrid\":true,\"title\":{\"standoff\":15}}}},\"xaxis\":{\"anchor\":\"y\",\"domain\":[0.0,1.0],\"title\":{\"text\":\"Re-Docking Top3 RMSD (\\u00c5)\"},\"range\":[0,8]},\"yaxis\":{\"anchor\":\"x\",\"domain\":[0.0,1.0],\"title\":{\"text\":\"Ensemble Docking Top3 RMSD (\\u00c5)\"},\"range\":[0,8]},\"legend\":{\"tracegroupgap\":0},\"margin\":{\"t\":60},\"height\":400,\"width\":420,\"title\":{\"text\":\"Top3 RMSD\"},\"shapes\":[{\"type\":\"line\",\"x0\":0,\"x1\":8,\"y0\":0,\"y1\":8}]},                        {\"responsive\": true}                    ).then(function(){\n",
       "                            \n",
       "var gd = document.getElementById('4a7003e1-2995-42b1-aaaf-c32adfc1ad10');\n",
       "var x = new MutationObserver(function (mutations, observer) {{\n",
       "        var display = window.getComputedStyle(gd).display;\n",
       "        if (!display || display === 'none') {{\n",
       "            console.log([gd, 'removed!']);\n",
       "            Plotly.purge(gd);\n",
       "            observer.disconnect();\n",
       "        }}\n",
       "}});\n",
       "\n",
       "// Listen for the removal of the full notebook cells\n",
       "var notebookContainer = gd.closest('#notebook-container');\n",
       "if (notebookContainer) {{\n",
       "    x.observe(notebookContainer, {childList: true});\n",
       "}}\n",
       "\n",
       "// Listen for the clearing of the current output cell\n",
       "var outputEl = gd.closest('.output');\n",
       "if (outputEl) {{\n",
       "    x.observe(outputEl, {childList: true});\n",
       "}}\n",
       "\n",
       "                        })                };                });            </script>        </div>"
      ]
     },
     "metadata": {},
     "output_type": "display_data"
    }
   ],
   "source": [
    "fig = px.scatter(x=redock_res.top3_rmsd, y=ens_res.top3_rmsd, \n",
    "                 width=420, height=400,\n",
    "                 color_discrete_sequence=px.colors.qualitative.Dark2)\n",
    "fig.update_layout(yaxis_range=[0,8],xaxis_range=[0,8] )\n",
    "fig.update_layout(yaxis_range=[0,8],xaxis_range=[0,8],\n",
    "                  title=\"Top3 RMSD\", \n",
    "                  xaxis_title=\"Re-Docking Top3 RMSD (Å)\", \n",
    "                  yaxis_title=\"Ensemble Docking Top3 RMSD (Å)\")\n",
    "fig.update_traces(marker=dict(size=7,\n",
    "                              line=dict(width=2,\n",
    "                                        color='DarkSlateGrey')))\n",
    "fig.add_shape(type=\"line\",\n",
    "              x0=0, \n",
    "              y0=0, \n",
    "              x1=8, \n",
    "              y1=8)\n",
    "fig.write_image(\"CDK_ensemble_top3_best.svg\")\n",
    "fig"
   ]
  },
  {
   "cell_type": "code",
   "execution_count": 7,
   "id": "c859b3d8",
   "metadata": {},
   "outputs": [
    {
     "ename": "TypeError",
     "evalue": "'NoneType' object is not subscriptable",
     "output_type": "error",
     "traceback": [
      "\u001b[0;31m---------------------------------------------------------------------------\u001b[0m",
      "\u001b[0;31mTypeError\u001b[0m                                 Traceback (most recent call last)",
      "Cell \u001b[0;32mIn[7], line 1\u001b[0m\n\u001b[0;32m----> 1\u001b[0m results_pd[\u001b[38;5;124m\"\u001b[39m\u001b[38;5;124mligand_name\u001b[39m\u001b[38;5;124m\"\u001b[39m] \u001b[38;5;241m=\u001b[39m \u001b[43mresults_pd\u001b[49m\u001b[43m[\u001b[49m\u001b[38;5;124;43m\"\u001b[39;49m\u001b[38;5;124;43mpdb_id\u001b[39;49m\u001b[38;5;124;43m\"\u001b[39;49m\u001b[43m]\u001b[49m\u001b[38;5;241m.\u001b[39mapply(\u001b[38;5;28;01mlambda\u001b[39;00m x: full_dataset[full_dataset[\u001b[38;5;124m\"\u001b[39m\u001b[38;5;124mpdb_code\u001b[39m\u001b[38;5;124m\"\u001b[39m]\u001b[38;5;241m==\u001b[39mx][\u001b[38;5;124m\"\u001b[39m\u001b[38;5;124mligand_name\u001b[39m\u001b[38;5;124m\"\u001b[39m]\u001b[38;5;241m.\u001b[39miloc[\u001b[38;5;241m0\u001b[39m])\n",
      "\u001b[0;31mTypeError\u001b[0m: 'NoneType' object is not subscriptable"
     ]
    }
   ],
   "source": [
    "results_pd[\"ligand_name\"] = results_pd[\"pdb_id\"].apply(lambda x: full_dataset[full_dataset[\"pdb_code\"]==x][\"ligand_name\"].iloc[0])"
   ]
  },
  {
   "cell_type": "code",
   "execution_count": 80,
   "id": "cc0aff4f",
   "metadata": {},
   "outputs": [
    {
     "data": {
      "text/html": [
       "<div>\n",
       "<style scoped>\n",
       "    .dataframe tbody tr th:only-of-type {\n",
       "        vertical-align: middle;\n",
       "    }\n",
       "\n",
       "    .dataframe tbody tr th {\n",
       "        vertical-align: top;\n",
       "    }\n",
       "\n",
       "    .dataframe thead th {\n",
       "        text-align: right;\n",
       "    }\n",
       "</style>\n",
       "<table border=\"1\" class=\"dataframe\">\n",
       "  <thead>\n",
       "    <tr style=\"text-align: right;\">\n",
       "      <th></th>\n",
       "      <th>Unnamed: 0.2</th>\n",
       "      <th>index</th>\n",
       "      <th>Unnamed: 0.1</th>\n",
       "      <th>energies</th>\n",
       "      <th>rmsds</th>\n",
       "      <th>model_id</th>\n",
       "      <th>replica_id</th>\n",
       "      <th>receptor_id</th>\n",
       "      <th>fragment_id</th>\n",
       "      <th>thread_id</th>\n",
       "      <th>Unnamed: 0</th>\n",
       "      <th>clust_energy_rank</th>\n",
       "      <th>clust_size_rank</th>\n",
       "      <th>job_id</th>\n",
       "      <th>pdb_id</th>\n",
       "      <th>ligand_name</th>\n",
       "    </tr>\n",
       "  </thead>\n",
       "  <tbody>\n",
       "    <tr>\n",
       "      <th>0</th>\n",
       "      <td>0</td>\n",
       "      <td>0</td>\n",
       "      <td>0</td>\n",
       "      <td>73.696</td>\n",
       "      <td>11.803832</td>\n",
       "      <td>0.0</td>\n",
       "      <td>9.0</td>\n",
       "      <td>3pj8_receptor_aligned</td>\n",
       "      <td>1.0</td>\n",
       "      <td>9.0</td>\n",
       "      <td>0.0</td>\n",
       "      <td>1</td>\n",
       "      <td>2</td>\n",
       "      <td>job_3pj8_receptor_aligned_5a14_ligand</td>\n",
       "      <td>5A14</td>\n",
       "      <td>LQ5</td>\n",
       "    </tr>\n",
       "    <tr>\n",
       "      <th>1</th>\n",
       "      <td>1</td>\n",
       "      <td>10</td>\n",
       "      <td>0</td>\n",
       "      <td>74.006</td>\n",
       "      <td>11.807512</td>\n",
       "      <td>0.0</td>\n",
       "      <td>9.0</td>\n",
       "      <td>5l2w_receptor_aligned</td>\n",
       "      <td>1.0</td>\n",
       "      <td>9.0</td>\n",
       "      <td>0.0</td>\n",
       "      <td>1</td>\n",
       "      <td>1</td>\n",
       "      <td>job_5l2w_receptor_aligned_5a14_ligand</td>\n",
       "      <td>5A14</td>\n",
       "      <td>LQ5</td>\n",
       "    </tr>\n",
       "    <tr>\n",
       "      <th>2</th>\n",
       "      <td>2</td>\n",
       "      <td>20</td>\n",
       "      <td>1</td>\n",
       "      <td>74.822</td>\n",
       "      <td>11.957763</td>\n",
       "      <td>1.0</td>\n",
       "      <td>9.0</td>\n",
       "      <td>5l2w_receptor_aligned</td>\n",
       "      <td>1.0</td>\n",
       "      <td>9.0</td>\n",
       "      <td>1.0</td>\n",
       "      <td>2</td>\n",
       "      <td>1</td>\n",
       "      <td>job_5l2w_receptor_aligned_5a14_ligand</td>\n",
       "      <td>5A14</td>\n",
       "      <td>LQ5</td>\n",
       "    </tr>\n",
       "    <tr>\n",
       "      <th>3</th>\n",
       "      <td>3</td>\n",
       "      <td>30</td>\n",
       "      <td>0</td>\n",
       "      <td>75.426</td>\n",
       "      <td>11.832215</td>\n",
       "      <td>0.0</td>\n",
       "      <td>0.0</td>\n",
       "      <td>4kd1_receptor_aligned</td>\n",
       "      <td>1.0</td>\n",
       "      <td>0.0</td>\n",
       "      <td>0.0</td>\n",
       "      <td>1</td>\n",
       "      <td>3</td>\n",
       "      <td>job_4kd1_receptor_aligned_5a14_ligand</td>\n",
       "      <td>5A14</td>\n",
       "      <td>LQ5</td>\n",
       "    </tr>\n",
       "    <tr>\n",
       "      <th>4</th>\n",
       "      <td>4</td>\n",
       "      <td>40</td>\n",
       "      <td>2</td>\n",
       "      <td>75.733</td>\n",
       "      <td>11.789532</td>\n",
       "      <td>0.0</td>\n",
       "      <td>2.0</td>\n",
       "      <td>5l2w_receptor_aligned</td>\n",
       "      <td>1.0</td>\n",
       "      <td>2.0</td>\n",
       "      <td>0.0</td>\n",
       "      <td>3</td>\n",
       "      <td>1</td>\n",
       "      <td>job_5l2w_receptor_aligned_5a14_ligand</td>\n",
       "      <td>5A14</td>\n",
       "      <td>LQ5</td>\n",
       "    </tr>\n",
       "    <tr>\n",
       "      <th>...</th>\n",
       "      <td>...</td>\n",
       "      <td>...</td>\n",
       "      <td>...</td>\n",
       "      <td>...</td>\n",
       "      <td>...</td>\n",
       "      <td>...</td>\n",
       "      <td>...</td>\n",
       "      <td>...</td>\n",
       "      <td>...</td>\n",
       "      <td>...</td>\n",
       "      <td>...</td>\n",
       "      <td>...</td>\n",
       "      <td>...</td>\n",
       "      <td>...</td>\n",
       "      <td>...</td>\n",
       "      <td>...</td>\n",
       "    </tr>\n",
       "    <tr>\n",
       "      <th>391</th>\n",
       "      <td>391</td>\n",
       "      <td>1564</td>\n",
       "      <td>36</td>\n",
       "      <td>-8.566</td>\n",
       "      <td>5.349913</td>\n",
       "      <td>9.0</td>\n",
       "      <td>3.0</td>\n",
       "      <td>6guh_receptor_aligned</td>\n",
       "      <td>0.0</td>\n",
       "      <td>3.0</td>\n",
       "      <td>9.0</td>\n",
       "      <td>7</td>\n",
       "      <td>2</td>\n",
       "      <td>job_6guh_receptor_aligned_6gub_ligand</td>\n",
       "      <td>6GUB</td>\n",
       "      <td>flavopiridol</td>\n",
       "    </tr>\n",
       "    <tr>\n",
       "      <th>392</th>\n",
       "      <td>392</td>\n",
       "      <td>1568</td>\n",
       "      <td>39</td>\n",
       "      <td>-8.507</td>\n",
       "      <td>7.313979</td>\n",
       "      <td>7.0</td>\n",
       "      <td>1.0</td>\n",
       "      <td>3ddq_receptor_aligned</td>\n",
       "      <td>0.0</td>\n",
       "      <td>1.0</td>\n",
       "      <td>7.0</td>\n",
       "      <td>10</td>\n",
       "      <td>1</td>\n",
       "      <td>job_3ddq_receptor_aligned_6gub_ligand</td>\n",
       "      <td>6GUB</td>\n",
       "      <td>flavopiridol</td>\n",
       "    </tr>\n",
       "    <tr>\n",
       "      <th>393</th>\n",
       "      <td>393</td>\n",
       "      <td>1572</td>\n",
       "      <td>36</td>\n",
       "      <td>-8.477</td>\n",
       "      <td>5.737315</td>\n",
       "      <td>10.0</td>\n",
       "      <td>1.0</td>\n",
       "      <td>5l2w_receptor_aligned</td>\n",
       "      <td>0.0</td>\n",
       "      <td>1.0</td>\n",
       "      <td>10.0</td>\n",
       "      <td>2</td>\n",
       "      <td>6</td>\n",
       "      <td>job_5l2w_receptor_aligned_6gub_ligand</td>\n",
       "      <td>6GUB</td>\n",
       "      <td>flavopiridol</td>\n",
       "    </tr>\n",
       "    <tr>\n",
       "      <th>394</th>\n",
       "      <td>394</td>\n",
       "      <td>1576</td>\n",
       "      <td>44</td>\n",
       "      <td>-8.473</td>\n",
       "      <td>5.735322</td>\n",
       "      <td>12.0</td>\n",
       "      <td>0.0</td>\n",
       "      <td>4kd1_receptor_aligned</td>\n",
       "      <td>0.0</td>\n",
       "      <td>0.0</td>\n",
       "      <td>12.0</td>\n",
       "      <td>7</td>\n",
       "      <td>4</td>\n",
       "      <td>job_4kd1_receptor_aligned_6gub_ligand</td>\n",
       "      <td>6GUB</td>\n",
       "      <td>flavopiridol</td>\n",
       "    </tr>\n",
       "    <tr>\n",
       "      <th>395</th>\n",
       "      <td>395</td>\n",
       "      <td>1580</td>\n",
       "      <td>36</td>\n",
       "      <td>-8.105</td>\n",
       "      <td>7.758728</td>\n",
       "      <td>11.0</td>\n",
       "      <td>0.0</td>\n",
       "      <td>5a14_receptor_aligned</td>\n",
       "      <td>0.0</td>\n",
       "      <td>0.0</td>\n",
       "      <td>11.0</td>\n",
       "      <td>1</td>\n",
       "      <td>8</td>\n",
       "      <td>job_5a14_receptor_aligned_6gub_ligand</td>\n",
       "      <td>6GUB</td>\n",
       "      <td>flavopiridol</td>\n",
       "    </tr>\n",
       "  </tbody>\n",
       "</table>\n",
       "<p>4423 rows × 16 columns</p>\n",
       "</div>"
      ],
      "text/plain": [
       "     Unnamed: 0.2  index  Unnamed: 0.1  energies      rmsds  model_id  \\\n",
       "0               0      0             0    73.696  11.803832       0.0   \n",
       "1               1     10             0    74.006  11.807512       0.0   \n",
       "2               2     20             1    74.822  11.957763       1.0   \n",
       "3               3     30             0    75.426  11.832215       0.0   \n",
       "4               4     40             2    75.733  11.789532       0.0   \n",
       "..            ...    ...           ...       ...        ...       ...   \n",
       "391           391   1564            36    -8.566   5.349913       9.0   \n",
       "392           392   1568            39    -8.507   7.313979       7.0   \n",
       "393           393   1572            36    -8.477   5.737315      10.0   \n",
       "394           394   1576            44    -8.473   5.735322      12.0   \n",
       "395           395   1580            36    -8.105   7.758728      11.0   \n",
       "\n",
       "     replica_id            receptor_id  fragment_id  thread_id  Unnamed: 0  \\\n",
       "0           9.0  3pj8_receptor_aligned          1.0        9.0         0.0   \n",
       "1           9.0  5l2w_receptor_aligned          1.0        9.0         0.0   \n",
       "2           9.0  5l2w_receptor_aligned          1.0        9.0         1.0   \n",
       "3           0.0  4kd1_receptor_aligned          1.0        0.0         0.0   \n",
       "4           2.0  5l2w_receptor_aligned          1.0        2.0         0.0   \n",
       "..          ...                    ...          ...        ...         ...   \n",
       "391         3.0  6guh_receptor_aligned          0.0        3.0         9.0   \n",
       "392         1.0  3ddq_receptor_aligned          0.0        1.0         7.0   \n",
       "393         1.0  5l2w_receptor_aligned          0.0        1.0        10.0   \n",
       "394         0.0  4kd1_receptor_aligned          0.0        0.0        12.0   \n",
       "395         0.0  5a14_receptor_aligned          0.0        0.0        11.0   \n",
       "\n",
       "     clust_energy_rank  clust_size_rank  \\\n",
       "0                    1                2   \n",
       "1                    1                1   \n",
       "2                    2                1   \n",
       "3                    1                3   \n",
       "4                    3                1   \n",
       "..                 ...              ...   \n",
       "391                  7                2   \n",
       "392                 10                1   \n",
       "393                  2                6   \n",
       "394                  7                4   \n",
       "395                  1                8   \n",
       "\n",
       "                                    job_id pdb_id   ligand_name  \n",
       "0    job_3pj8_receptor_aligned_5a14_ligand   5A14           LQ5  \n",
       "1    job_5l2w_receptor_aligned_5a14_ligand   5A14           LQ5  \n",
       "2    job_5l2w_receptor_aligned_5a14_ligand   5A14           LQ5  \n",
       "3    job_4kd1_receptor_aligned_5a14_ligand   5A14           LQ5  \n",
       "4    job_5l2w_receptor_aligned_5a14_ligand   5A14           LQ5  \n",
       "..                                     ...    ...           ...  \n",
       "391  job_6guh_receptor_aligned_6gub_ligand   6GUB  flavopiridol  \n",
       "392  job_3ddq_receptor_aligned_6gub_ligand   6GUB  flavopiridol  \n",
       "393  job_5l2w_receptor_aligned_6gub_ligand   6GUB  flavopiridol  \n",
       "394  job_4kd1_receptor_aligned_6gub_ligand   6GUB  flavopiridol  \n",
       "395  job_5a14_receptor_aligned_6gub_ligand   6GUB  flavopiridol  \n",
       "\n",
       "[4423 rows x 16 columns]"
      ]
     },
     "execution_count": 80,
     "metadata": {},
     "output_type": "execute_result"
    }
   ],
   "source": [
    "results_pd"
   ]
  },
  {
   "cell_type": "code",
   "execution_count": 96,
   "id": "c3f97685",
   "metadata": {},
   "outputs": [
    {
     "name": "stdout",
     "output_type": "stream",
     "text": [
      "Redock number of <2A poses\n",
      "0\n",
      "Ensemble size 1\n",
      "(%) ensemble with a correct pose 0.0\n",
      "Best RMSDs in ensemble []\n",
      "Ensemble size 2\n",
      "(%) ensemble with a correct pose 0.0\n",
      "Best RMSDs in ensemble []\n",
      "Ensemble size 3\n",
      "(%) ensemble with a correct pose 0.0\n",
      "Best RMSDs in ensemble []\n",
      "Ensemble size 4\n",
      "(%) ensemble with a correct pose 0.0\n",
      "Best RMSDs in ensemble []\n",
      "Ensemble size 5\n",
      "(%) ensemble with a correct pose 0.0\n",
      "Best RMSDs in ensemble []\n",
      "Ensemble size 6\n",
      "(%) ensemble with a correct pose 0.0\n",
      "Best RMSDs in ensemble []\n",
      "Ensemble size 7\n",
      "(%) ensemble with a correct pose 0.0\n",
      "Best RMSDs in ensemble []\n",
      "Ensemble size 8\n",
      "(%) ensemble with a correct pose 0.0\n",
      "Best RMSDs in ensemble []\n",
      "Ensemble size 9\n",
      "(%) ensemble with a correct pose 0.0\n",
      "Best RMSDs in ensemble []\n",
      "Ensemble size 10\n",
      "(%) ensemble with a correct pose 0.0\n",
      "Best RMSDs in ensemble []\n",
      "Redock number of <2A poses\n",
      "66\n",
      "Redock <2A best RMSD\n",
      "0.9378418981337836\n",
      "Ensemble size 1\n",
      "(%) ensemble with a correct pose 1.0\n",
      "Best RMSDs in ensemble [1.128185757396594, 1.2540283921084898, 0.9378418981337836, 1.1531675492173172, 1.4393144962999649, 1.1371326528573196, 1.1206865646084416, 1.1173726147858611, 1.317830420582188, 1.0915423461179674]\n",
      "Ensemble size 2\n",
      "(%) ensemble with a correct pose 1.0\n",
      "Best RMSDs in ensemble [1.128185757396594, 0.9378418981337836, 1.128185757396594, 1.128185757396594, 1.128185757396594, 1.1206865646084416, 1.1173726147858611, 1.128185757396594, 1.0915423461179674, 0.9378418981337836, 1.1531675492173172, 1.2540283921084898, 1.1371326528573196, 1.1206865646084416, 1.1173726147858611, 1.2540283921084898, 1.0915423461179674, 0.9378418981337836, 0.9378418981337836, 0.9378418981337836, 0.9378418981337836, 0.9378418981337836, 0.9378418981337836, 0.9378418981337836, 1.1531675492173172, 1.1371326528573196, 1.1206865646084416, 1.1173726147858611, 1.1531675492173172, 1.0915423461179674, 1.1371326528573196, 1.1206865646084416, 1.1173726147858611, 1.317830420582188, 1.0915423461179674, 1.1206865646084416, 1.1173726147858611, 1.1371326528573196, 1.0915423461179674, 1.1173726147858611, 1.1206865646084416, 1.0915423461179674, 1.1173726147858611, 1.0915423461179674, 1.0915423461179674]\n",
      "Ensemble size 3\n",
      "(%) ensemble with a correct pose 1.0\n",
      "Best RMSDs in ensemble [0.9378418981337836, 1.128185757396594, 1.128185757396594, 1.128185757396594, 1.1206865646084416, 1.1173726147858611, 1.128185757396594, 1.0915423461179674, 0.9378418981337836, 0.9378418981337836, 0.9378418981337836, 0.9378418981337836, 0.9378418981337836, 0.9378418981337836, 0.9378418981337836, 1.128185757396594, 1.128185757396594, 1.1206865646084416, 1.1173726147858611, 1.128185757396594, 1.0915423461179674, 1.128185757396594, 1.1206865646084416, 1.1173726147858611, 1.128185757396594, 1.0915423461179674, 1.1206865646084416, 1.1173726147858611, 1.128185757396594, 1.0915423461179674, 1.1173726147858611, 1.1206865646084416, 1.0915423461179674, 1.1173726147858611, 1.0915423461179674, 1.0915423461179674, 0.9378418981337836, 0.9378418981337836, 0.9378418981337836, 0.9378418981337836, 0.9378418981337836, 0.9378418981337836, 0.9378418981337836, 1.1531675492173172, 1.1371326528573196, 1.1206865646084416, 1.1173726147858611, 1.1531675492173172, 1.0915423461179674, 1.1371326528573196, 1.1206865646084416, 1.1173726147858611, 1.2540283921084898, 1.0915423461179674, 1.1206865646084416, 1.1173726147858611, 1.1371326528573196, 1.0915423461179674, 1.1173726147858611, 1.1206865646084416, 1.0915423461179674, 1.1173726147858611, 1.0915423461179674, 1.0915423461179674, 0.9378418981337836, 0.9378418981337836, 0.9378418981337836, 0.9378418981337836, 0.9378418981337836, 0.9378418981337836, 0.9378418981337836, 0.9378418981337836, 0.9378418981337836, 0.9378418981337836, 0.9378418981337836, 0.9378418981337836, 0.9378418981337836, 0.9378418981337836, 0.9378418981337836, 0.9378418981337836, 0.9378418981337836, 0.9378418981337836, 0.9378418981337836, 0.9378418981337836, 0.9378418981337836, 1.1371326528573196, 1.1206865646084416, 1.1173726147858611, 1.1531675492173172, 1.0915423461179674, 1.1206865646084416, 1.1173726147858611, 1.1371326528573196, 1.0915423461179674, 1.1173726147858611, 1.1206865646084416, 1.0915423461179674, 1.1173726147858611, 1.0915423461179674, 1.0915423461179674, 1.1206865646084416, 1.1173726147858611, 1.1371326528573196, 1.0915423461179674, 1.1173726147858611, 1.1206865646084416, 1.0915423461179674, 1.1173726147858611, 1.0915423461179674, 1.0915423461179674, 1.1173726147858611, 1.1206865646084416, 1.0915423461179674, 1.1173726147858611, 1.0915423461179674, 1.0915423461179674, 1.1173726147858611, 1.0915423461179674, 1.0915423461179674, 1.0915423461179674]\n",
      "Ensemble size 4\n",
      "(%) ensemble with a correct pose 1.0\n",
      "Best RMSDs in ensemble [0.9378418981337836, 0.9378418981337836, 0.9378418981337836, 0.9378418981337836, 0.9378418981337836, 0.9378418981337836, 0.9378418981337836, 1.128185757396594, 1.128185757396594, 1.1206865646084416, 1.1173726147858611, 1.128185757396594, 1.0915423461179674, 1.128185757396594, 1.1206865646084416, 1.1173726147858611, 1.128185757396594, 1.0915423461179674, 1.1206865646084416, 1.1173726147858611, 1.128185757396594, 1.0915423461179674, 1.1173726147858611, 1.1206865646084416, 1.0915423461179674, 1.1173726147858611, 1.0915423461179674, 1.0915423461179674, 0.9378418981337836, 0.9378418981337836, 0.9378418981337836, 0.9378418981337836, 0.9378418981337836, 0.9378418981337836, 0.9378418981337836, 0.9378418981337836, 0.9378418981337836, 0.9378418981337836, 0.9378418981337836, 0.9378418981337836, 0.9378418981337836, 0.9378418981337836, 0.9378418981337836, 0.9378418981337836, 0.9378418981337836, 0.9378418981337836, 0.9378418981337836, 0.9378418981337836, 0.9378418981337836, 1.128185757396594, 1.1206865646084416, 1.1173726147858611, 1.128185757396594, 1.0915423461179674, 1.1206865646084416, 1.1173726147858611, 1.128185757396594, 1.0915423461179674, 1.1173726147858611, 1.1206865646084416, 1.0915423461179674, 1.1173726147858611, 1.0915423461179674, 1.0915423461179674, 1.1206865646084416, 1.1173726147858611, 1.128185757396594, 1.0915423461179674, 1.1173726147858611, 1.1206865646084416, 1.0915423461179674, 1.1173726147858611, 1.0915423461179674, 1.0915423461179674, 1.1173726147858611, 1.1206865646084416, 1.0915423461179674, 1.1173726147858611, 1.0915423461179674, 1.0915423461179674, 1.1173726147858611, 1.0915423461179674, 1.0915423461179674, 1.0915423461179674, 0.9378418981337836, 0.9378418981337836, 0.9378418981337836, 0.9378418981337836, 0.9378418981337836, 0.9378418981337836, 0.9378418981337836, 0.9378418981337836, 0.9378418981337836, 0.9378418981337836, 0.9378418981337836, 0.9378418981337836, 0.9378418981337836, 0.9378418981337836, 0.9378418981337836, 0.9378418981337836, 0.9378418981337836, 0.9378418981337836, 0.9378418981337836, 0.9378418981337836, 0.9378418981337836, 1.1371326528573196, 1.1206865646084416, 1.1173726147858611, 1.1531675492173172, 1.0915423461179674, 1.1206865646084416, 1.1173726147858611, 1.1371326528573196, 1.0915423461179674, 1.1173726147858611, 1.1206865646084416, 1.0915423461179674, 1.1173726147858611, 1.0915423461179674, 1.0915423461179674, 1.1206865646084416, 1.1173726147858611, 1.1371326528573196, 1.0915423461179674, 1.1173726147858611, 1.1206865646084416, 1.0915423461179674, 1.1173726147858611, 1.0915423461179674, 1.0915423461179674, 1.1173726147858611, 1.1206865646084416, 1.0915423461179674, 1.1173726147858611, 1.0915423461179674, 1.0915423461179674, 1.1173726147858611, 1.0915423461179674, 1.0915423461179674, 1.0915423461179674, 0.9378418981337836, 0.9378418981337836, 0.9378418981337836, 0.9378418981337836, 0.9378418981337836, 0.9378418981337836, 0.9378418981337836, 0.9378418981337836, 0.9378418981337836, 0.9378418981337836, 0.9378418981337836, 0.9378418981337836, 0.9378418981337836, 0.9378418981337836, 0.9378418981337836, 0.9378418981337836, 0.9378418981337836, 0.9378418981337836, 0.9378418981337836, 0.9378418981337836, 0.9378418981337836, 0.9378418981337836, 0.9378418981337836, 0.9378418981337836, 0.9378418981337836, 0.9378418981337836, 0.9378418981337836, 0.9378418981337836, 0.9378418981337836, 0.9378418981337836, 0.9378418981337836, 0.9378418981337836, 0.9378418981337836, 0.9378418981337836, 0.9378418981337836, 1.1206865646084416, 1.1173726147858611, 1.1371326528573196, 1.0915423461179674, 1.1173726147858611, 1.1206865646084416, 1.0915423461179674, 1.1173726147858611, 1.0915423461179674, 1.0915423461179674, 1.1173726147858611, 1.1206865646084416, 1.0915423461179674, 1.1173726147858611, 1.0915423461179674, 1.0915423461179674, 1.1173726147858611, 1.0915423461179674, 1.0915423461179674, 1.0915423461179674, 1.1173726147858611, 1.1206865646084416, 1.0915423461179674, 1.1173726147858611, 1.0915423461179674, 1.0915423461179674, 1.1173726147858611, 1.0915423461179674, 1.0915423461179674, 1.0915423461179674, 1.1173726147858611, 1.0915423461179674, 1.0915423461179674, 1.0915423461179674, 1.0915423461179674]\n",
      "Ensemble size 5\n",
      "(%) ensemble with a correct pose 1.0\n",
      "Best RMSDs in ensemble [0.9378418981337836, 0.9378418981337836, 0.9378418981337836, 0.9378418981337836, 0.9378418981337836, 0.9378418981337836, 0.9378418981337836, 0.9378418981337836, 0.9378418981337836, 0.9378418981337836, 0.9378418981337836, 0.9378418981337836, 0.9378418981337836, 0.9378418981337836, 0.9378418981337836, 0.9378418981337836, 0.9378418981337836, 0.9378418981337836, 0.9378418981337836, 0.9378418981337836, 0.9378418981337836, 1.128185757396594, 1.1206865646084416, 1.1173726147858611, 1.128185757396594, 1.0915423461179674, 1.1206865646084416, 1.1173726147858611, 1.128185757396594, 1.0915423461179674, 1.1173726147858611, 1.1206865646084416, 1.0915423461179674, 1.1173726147858611, 1.0915423461179674, 1.0915423461179674, 1.1206865646084416, 1.1173726147858611, 1.128185757396594, 1.0915423461179674, 1.1173726147858611, 1.1206865646084416, 1.0915423461179674, 1.1173726147858611, 1.0915423461179674, 1.0915423461179674, 1.1173726147858611, 1.1206865646084416, 1.0915423461179674, 1.1173726147858611, 1.0915423461179674, 1.0915423461179674, 1.1173726147858611, 1.0915423461179674, 1.0915423461179674, 1.0915423461179674, 0.9378418981337836, 0.9378418981337836, 0.9378418981337836, 0.9378418981337836, 0.9378418981337836, 0.9378418981337836, 0.9378418981337836, 0.9378418981337836, 0.9378418981337836, 0.9378418981337836, 0.9378418981337836, 0.9378418981337836, 0.9378418981337836, 0.9378418981337836, 0.9378418981337836, 0.9378418981337836, 0.9378418981337836, 0.9378418981337836, 0.9378418981337836, 0.9378418981337836, 0.9378418981337836, 0.9378418981337836, 0.9378418981337836, 0.9378418981337836, 0.9378418981337836, 0.9378418981337836, 0.9378418981337836, 0.9378418981337836, 0.9378418981337836, 0.9378418981337836, 0.9378418981337836, 0.9378418981337836, 0.9378418981337836, 0.9378418981337836, 0.9378418981337836, 1.1206865646084416, 1.1173726147858611, 1.128185757396594, 1.0915423461179674, 1.1173726147858611, 1.1206865646084416, 1.0915423461179674, 1.1173726147858611, 1.0915423461179674, 1.0915423461179674, 1.1173726147858611, 1.1206865646084416, 1.0915423461179674, 1.1173726147858611, 1.0915423461179674, 1.0915423461179674, 1.1173726147858611, 1.0915423461179674, 1.0915423461179674, 1.0915423461179674, 1.1173726147858611, 1.1206865646084416, 1.0915423461179674, 1.1173726147858611, 1.0915423461179674, 1.0915423461179674, 1.1173726147858611, 1.0915423461179674, 1.0915423461179674, 1.0915423461179674, 1.1173726147858611, 1.0915423461179674, 1.0915423461179674, 1.0915423461179674, 1.0915423461179674, 0.9378418981337836, 0.9378418981337836, 0.9378418981337836, 0.9378418981337836, 0.9378418981337836, 0.9378418981337836, 0.9378418981337836, 0.9378418981337836, 0.9378418981337836, 0.9378418981337836, 0.9378418981337836, 0.9378418981337836, 0.9378418981337836, 0.9378418981337836, 0.9378418981337836, 0.9378418981337836, 0.9378418981337836, 0.9378418981337836, 0.9378418981337836, 0.9378418981337836, 0.9378418981337836, 0.9378418981337836, 0.9378418981337836, 0.9378418981337836, 0.9378418981337836, 0.9378418981337836, 0.9378418981337836, 0.9378418981337836, 0.9378418981337836, 0.9378418981337836, 0.9378418981337836, 0.9378418981337836, 0.9378418981337836, 0.9378418981337836, 0.9378418981337836, 1.1206865646084416, 1.1173726147858611, 1.1371326528573196, 1.0915423461179674, 1.1173726147858611, 1.1206865646084416, 1.0915423461179674, 1.1173726147858611, 1.0915423461179674, 1.0915423461179674, 1.1173726147858611, 1.1206865646084416, 1.0915423461179674, 1.1173726147858611, 1.0915423461179674, 1.0915423461179674, 1.1173726147858611, 1.0915423461179674, 1.0915423461179674, 1.0915423461179674, 1.1173726147858611, 1.1206865646084416, 1.0915423461179674, 1.1173726147858611, 1.0915423461179674, 1.0915423461179674, 1.1173726147858611, 1.0915423461179674, 1.0915423461179674, 1.0915423461179674, 1.1173726147858611, 1.0915423461179674, 1.0915423461179674, 1.0915423461179674, 1.0915423461179674, 0.9378418981337836, 0.9378418981337836, 0.9378418981337836, 0.9378418981337836, 0.9378418981337836, 0.9378418981337836, 0.9378418981337836, 0.9378418981337836, 0.9378418981337836, 0.9378418981337836, 0.9378418981337836, 0.9378418981337836, 0.9378418981337836, 0.9378418981337836, 0.9378418981337836, 0.9378418981337836, 0.9378418981337836, 0.9378418981337836, 0.9378418981337836, 0.9378418981337836, 0.9378418981337836, 0.9378418981337836, 0.9378418981337836, 0.9378418981337836, 0.9378418981337836, 0.9378418981337836, 0.9378418981337836, 0.9378418981337836, 0.9378418981337836, 0.9378418981337836, 0.9378418981337836, 0.9378418981337836, 0.9378418981337836, 0.9378418981337836, 0.9378418981337836, 1.1173726147858611, 1.1206865646084416, 1.0915423461179674, 1.1173726147858611, 1.0915423461179674, 1.0915423461179674, 1.1173726147858611, 1.0915423461179674, 1.0915423461179674, 1.0915423461179674, 1.1173726147858611, 1.0915423461179674, 1.0915423461179674, 1.0915423461179674, 1.0915423461179674, 1.1173726147858611, 1.0915423461179674, 1.0915423461179674, 1.0915423461179674, 1.0915423461179674, 1.0915423461179674]\n",
      "Ensemble size 6\n",
      "(%) ensemble with a correct pose 1.0\n",
      "Best RMSDs in ensemble [0.9378418981337836, 0.9378418981337836, 0.9378418981337836, 0.9378418981337836, 0.9378418981337836, 0.9378418981337836, 0.9378418981337836, 0.9378418981337836, 0.9378418981337836, 0.9378418981337836, 0.9378418981337836, 0.9378418981337836, 0.9378418981337836, 0.9378418981337836, 0.9378418981337836, 0.9378418981337836, 0.9378418981337836, 0.9378418981337836, 0.9378418981337836, 0.9378418981337836, 0.9378418981337836, 0.9378418981337836, 0.9378418981337836, 0.9378418981337836, 0.9378418981337836, 0.9378418981337836, 0.9378418981337836, 0.9378418981337836, 0.9378418981337836, 0.9378418981337836, 0.9378418981337836, 0.9378418981337836, 0.9378418981337836, 0.9378418981337836, 0.9378418981337836, 1.1206865646084416, 1.1173726147858611, 1.128185757396594, 1.0915423461179674, 1.1173726147858611, 1.1206865646084416, 1.0915423461179674, 1.1173726147858611, 1.0915423461179674, 1.0915423461179674, 1.1173726147858611, 1.1206865646084416, 1.0915423461179674, 1.1173726147858611, 1.0915423461179674, 1.0915423461179674, 1.1173726147858611, 1.0915423461179674, 1.0915423461179674, 1.0915423461179674, 1.1173726147858611, 1.1206865646084416, 1.0915423461179674, 1.1173726147858611, 1.0915423461179674, 1.0915423461179674, 1.1173726147858611, 1.0915423461179674, 1.0915423461179674, 1.0915423461179674, 1.1173726147858611, 1.0915423461179674, 1.0915423461179674, 1.0915423461179674, 1.0915423461179674, 0.9378418981337836, 0.9378418981337836, 0.9378418981337836, 0.9378418981337836, 0.9378418981337836, 0.9378418981337836, 0.9378418981337836, 0.9378418981337836, 0.9378418981337836, 0.9378418981337836, 0.9378418981337836, 0.9378418981337836, 0.9378418981337836, 0.9378418981337836, 0.9378418981337836, 0.9378418981337836, 0.9378418981337836, 0.9378418981337836, 0.9378418981337836, 0.9378418981337836, 0.9378418981337836, 0.9378418981337836, 0.9378418981337836, 0.9378418981337836, 0.9378418981337836, 0.9378418981337836, 0.9378418981337836, 0.9378418981337836, 0.9378418981337836, 0.9378418981337836, 0.9378418981337836, 0.9378418981337836, 0.9378418981337836, 0.9378418981337836, 0.9378418981337836, 1.1173726147858611, 1.1206865646084416, 1.0915423461179674, 1.1173726147858611, 1.0915423461179674, 1.0915423461179674, 1.1173726147858611, 1.0915423461179674, 1.0915423461179674, 1.0915423461179674, 1.1173726147858611, 1.0915423461179674, 1.0915423461179674, 1.0915423461179674, 1.0915423461179674, 1.1173726147858611, 1.0915423461179674, 1.0915423461179674, 1.0915423461179674, 1.0915423461179674, 1.0915423461179674, 0.9378418981337836, 0.9378418981337836, 0.9378418981337836, 0.9378418981337836, 0.9378418981337836, 0.9378418981337836, 0.9378418981337836, 0.9378418981337836, 0.9378418981337836, 0.9378418981337836, 0.9378418981337836, 0.9378418981337836, 0.9378418981337836, 0.9378418981337836, 0.9378418981337836, 0.9378418981337836, 0.9378418981337836, 0.9378418981337836, 0.9378418981337836, 0.9378418981337836, 0.9378418981337836, 0.9378418981337836, 0.9378418981337836, 0.9378418981337836, 0.9378418981337836, 0.9378418981337836, 0.9378418981337836, 0.9378418981337836, 0.9378418981337836, 0.9378418981337836, 0.9378418981337836, 0.9378418981337836, 0.9378418981337836, 0.9378418981337836, 0.9378418981337836, 1.1173726147858611, 1.1206865646084416, 1.0915423461179674, 1.1173726147858611, 1.0915423461179674, 1.0915423461179674, 1.1173726147858611, 1.0915423461179674, 1.0915423461179674, 1.0915423461179674, 1.1173726147858611, 1.0915423461179674, 1.0915423461179674, 1.0915423461179674, 1.0915423461179674, 1.1173726147858611, 1.0915423461179674, 1.0915423461179674, 1.0915423461179674, 1.0915423461179674, 1.0915423461179674, 0.9378418981337836, 0.9378418981337836, 0.9378418981337836, 0.9378418981337836, 0.9378418981337836, 0.9378418981337836, 0.9378418981337836, 0.9378418981337836, 0.9378418981337836, 0.9378418981337836, 0.9378418981337836, 0.9378418981337836, 0.9378418981337836, 0.9378418981337836, 0.9378418981337836, 0.9378418981337836, 0.9378418981337836, 0.9378418981337836, 0.9378418981337836, 0.9378418981337836, 0.9378418981337836, 1.1173726147858611, 1.0915423461179674, 1.0915423461179674, 1.0915423461179674, 1.0915423461179674, 1.0915423461179674, 1.0915423461179674]\n",
      "Ensemble size 7\n",
      "(%) ensemble with a correct pose 1.0\n",
      "Best RMSDs in ensemble [0.9378418981337836, 0.9378418981337836, 0.9378418981337836, 0.9378418981337836, 0.9378418981337836, 0.9378418981337836, 0.9378418981337836, 0.9378418981337836, 0.9378418981337836, 0.9378418981337836, 0.9378418981337836, 0.9378418981337836, 0.9378418981337836, 0.9378418981337836, 0.9378418981337836, 0.9378418981337836, 0.9378418981337836, 0.9378418981337836, 0.9378418981337836, 0.9378418981337836, 0.9378418981337836, 0.9378418981337836, 0.9378418981337836, 0.9378418981337836, 0.9378418981337836, 0.9378418981337836, 0.9378418981337836, 0.9378418981337836, 0.9378418981337836, 0.9378418981337836, 0.9378418981337836, 0.9378418981337836, 0.9378418981337836, 0.9378418981337836, 0.9378418981337836, 1.1173726147858611, 1.1206865646084416, 1.0915423461179674, 1.1173726147858611, 1.0915423461179674, 1.0915423461179674, 1.1173726147858611, 1.0915423461179674, 1.0915423461179674, 1.0915423461179674, 1.1173726147858611, 1.0915423461179674, 1.0915423461179674, 1.0915423461179674, 1.0915423461179674, 1.1173726147858611, 1.0915423461179674, 1.0915423461179674, 1.0915423461179674, 1.0915423461179674, 1.0915423461179674, 0.9378418981337836, 0.9378418981337836, 0.9378418981337836, 0.9378418981337836, 0.9378418981337836, 0.9378418981337836, 0.9378418981337836, 0.9378418981337836, 0.9378418981337836, 0.9378418981337836, 0.9378418981337836, 0.9378418981337836, 0.9378418981337836, 0.9378418981337836, 0.9378418981337836, 0.9378418981337836, 0.9378418981337836, 0.9378418981337836, 0.9378418981337836, 0.9378418981337836, 0.9378418981337836, 1.1173726147858611, 1.0915423461179674, 1.0915423461179674, 1.0915423461179674, 1.0915423461179674, 1.0915423461179674, 1.0915423461179674, 0.9378418981337836, 0.9378418981337836, 0.9378418981337836, 0.9378418981337836, 0.9378418981337836, 0.9378418981337836, 0.9378418981337836, 0.9378418981337836, 0.9378418981337836, 0.9378418981337836, 0.9378418981337836, 0.9378418981337836, 0.9378418981337836, 0.9378418981337836, 0.9378418981337836, 0.9378418981337836, 0.9378418981337836, 0.9378418981337836, 0.9378418981337836, 0.9378418981337836, 0.9378418981337836, 1.1173726147858611, 1.0915423461179674, 1.0915423461179674, 1.0915423461179674, 1.0915423461179674, 1.0915423461179674, 1.0915423461179674, 0.9378418981337836, 0.9378418981337836, 0.9378418981337836, 0.9378418981337836, 0.9378418981337836, 0.9378418981337836, 0.9378418981337836, 1.0915423461179674]\n",
      "Ensemble size 8\n",
      "(%) ensemble with a correct pose 1.0\n",
      "Best RMSDs in ensemble [0.9378418981337836, 0.9378418981337836, 0.9378418981337836, 0.9378418981337836, 0.9378418981337836, 0.9378418981337836, 0.9378418981337836, 0.9378418981337836, 0.9378418981337836, 0.9378418981337836, 0.9378418981337836, 0.9378418981337836, 0.9378418981337836, 0.9378418981337836, 0.9378418981337836, 0.9378418981337836, 0.9378418981337836, 0.9378418981337836, 0.9378418981337836, 0.9378418981337836, 0.9378418981337836, 1.1173726147858611, 1.0915423461179674, 1.0915423461179674, 1.0915423461179674, 1.0915423461179674, 1.0915423461179674, 1.0915423461179674, 0.9378418981337836, 0.9378418981337836, 0.9378418981337836, 0.9378418981337836, 0.9378418981337836, 0.9378418981337836, 0.9378418981337836, 1.0915423461179674, 0.9378418981337836, 0.9378418981337836, 0.9378418981337836, 0.9378418981337836, 0.9378418981337836, 0.9378418981337836, 0.9378418981337836, 1.0915423461179674, 0.9378418981337836]\n",
      "Ensemble size 9\n",
      "(%) ensemble with a correct pose 1.0\n",
      "Best RMSDs in ensemble [0.9378418981337836, 0.9378418981337836, 0.9378418981337836, 0.9378418981337836, 0.9378418981337836, 0.9378418981337836, 0.9378418981337836, 1.0915423461179674, 0.9378418981337836, 0.9378418981337836]\n",
      "Ensemble size 10\n",
      "(%) ensemble with a correct pose 1.0\n",
      "Best RMSDs in ensemble [0.9378418981337836]\n",
      "Redock number of <2A poses\n",
      "24\n",
      "Redock <2A best RMSD\n",
      "1.6058674139479872\n",
      "Ensemble size 1\n",
      "(%) ensemble with a correct pose 0.8\n",
      "Best RMSDs in ensemble [1.646049672786358, 1.7324873513544274, 1.781345134503318, 1.737362410949458, 1.853019366355513, 1.66579245792535, 1.6058674139479872, 1.737349360328068]\n",
      "Ensemble size 2\n",
      "(%) ensemble with a correct pose 0.9777777777777777\n",
      "Best RMSDs in ensemble [1.646049672786358, 1.646049672786358, 1.646049672786358, 1.646049672786358, 1.646049672786358, 1.6058674139479872, 1.646049672786358, 1.646049672786358, 1.646049672786358, 1.7324873513544274, 1.7324873513544274, 1.7324873513544274, 1.66579245792535, 1.6058674139479872, 1.7324873513544274, 1.7324873513544274, 1.7324873513544274, 1.737362410949458, 1.781345134503318, 1.66579245792535, 1.6058674139479872, 1.781345134503318, 1.737349360328068, 1.781345134503318, 1.737362410949458, 1.66579245792535, 1.6058674139479872, 1.737362410949458, 1.737349360328068, 1.737362410949458, 1.66579245792535, 1.6058674139479872, 1.853019366355513, 1.737349360328068, 1.853019366355513, 1.6058674139479872, 1.66579245792535, 1.66579245792535, 1.66579245792535, 1.6058674139479872, 1.6058674139479872, 1.6058674139479872, 1.737349360328068, 1.737349360328068]\n",
      "Ensemble size 3\n",
      "(%) ensemble with a correct pose 1.0\n",
      "Best RMSDs in ensemble [1.646049672786358, 1.646049672786358, 1.646049672786358, 1.646049672786358, 1.6058674139479872, 1.646049672786358, 1.646049672786358, 1.646049672786358, 1.646049672786358, 1.646049672786358, 1.646049672786358, 1.6058674139479872, 1.646049672786358, 1.646049672786358, 1.646049672786358, 1.646049672786358, 1.646049672786358, 1.6058674139479872, 1.646049672786358, 1.646049672786358, 1.646049672786358, 1.646049672786358, 1.6058674139479872, 1.646049672786358, 1.646049672786358, 1.646049672786358, 1.6058674139479872, 1.646049672786358, 1.646049672786358, 1.646049672786358, 1.6058674139479872, 1.6058674139479872, 1.6058674139479872, 1.646049672786358, 1.646049672786358, 1.646049672786358, 1.7324873513544274, 1.7324873513544274, 1.66579245792535, 1.6058674139479872, 1.7324873513544274, 1.7324873513544274, 1.7324873513544274, 1.7324873513544274, 1.66579245792535, 1.6058674139479872, 1.7324873513544274, 1.7324873513544274, 1.7324873513544274, 1.66579245792535, 1.6058674139479872, 1.7324873513544274, 1.7324873513544274, 1.7324873513544274, 1.6058674139479872, 1.66579245792535, 1.66579245792535, 1.66579245792535, 1.6058674139479872, 1.6058674139479872, 1.6058674139479872, 1.7324873513544274, 1.7324873513544274, 1.7324873513544274, 1.737362410949458, 1.66579245792535, 1.6058674139479872, 1.737362410949458, 1.737349360328068, 1.737362410949458, 1.66579245792535, 1.6058674139479872, 1.781345134503318, 1.737349360328068, 1.781345134503318, 1.6058674139479872, 1.66579245792535, 1.66579245792535, 1.66579245792535, 1.6058674139479872, 1.6058674139479872, 1.6058674139479872, 1.737349360328068, 1.781345134503318, 1.737349360328068, 1.66579245792535, 1.6058674139479872, 1.737362410949458, 1.737349360328068, 1.737362410949458, 1.6058674139479872, 1.66579245792535, 1.66579245792535, 1.66579245792535, 1.6058674139479872, 1.6058674139479872, 1.6058674139479872, 1.737349360328068, 1.737362410949458, 1.737349360328068, 1.6058674139479872, 1.66579245792535, 1.66579245792535, 1.66579245792535, 1.6058674139479872, 1.6058674139479872, 1.6058674139479872, 1.737349360328068, 1.853019366355513, 1.737349360328068, 1.6058674139479872, 1.6058674139479872, 1.6058674139479872, 1.66579245792535, 1.66579245792535, 1.66579245792535, 1.6058674139479872, 1.6058674139479872, 1.6058674139479872, 1.737349360328068]\n",
      "Ensemble size 4\n",
      "(%) ensemble with a correct pose 1.0\n",
      "Best RMSDs in ensemble [1.646049672786358, 1.646049672786358, 1.646049672786358, 1.6058674139479872, 1.646049672786358, 1.646049672786358, 1.646049672786358, 1.646049672786358, 1.646049672786358, 1.6058674139479872, 1.646049672786358, 1.646049672786358, 1.646049672786358, 1.646049672786358, 1.6058674139479872, 1.646049672786358, 1.646049672786358, 1.646049672786358, 1.6058674139479872, 1.646049672786358, 1.646049672786358, 1.646049672786358, 1.6058674139479872, 1.6058674139479872, 1.6058674139479872, 1.646049672786358, 1.646049672786358, 1.646049672786358, 1.646049672786358, 1.646049672786358, 1.6058674139479872, 1.646049672786358, 1.646049672786358, 1.646049672786358, 1.646049672786358, 1.6058674139479872, 1.646049672786358, 1.646049672786358, 1.646049672786358, 1.6058674139479872, 1.646049672786358, 1.646049672786358, 1.646049672786358, 1.6058674139479872, 1.6058674139479872, 1.6058674139479872, 1.646049672786358, 1.646049672786358, 1.646049672786358, 1.646049672786358, 1.6058674139479872, 1.646049672786358, 1.646049672786358, 1.646049672786358, 1.6058674139479872, 1.646049672786358, 1.646049672786358, 1.646049672786358, 1.6058674139479872, 1.6058674139479872, 1.6058674139479872, 1.646049672786358, 1.646049672786358, 1.646049672786358, 1.6058674139479872, 1.646049672786358, 1.646049672786358, 1.646049672786358, 1.6058674139479872, 1.6058674139479872, 1.6058674139479872, 1.646049672786358, 1.646049672786358, 1.646049672786358, 1.6058674139479872, 1.6058674139479872, 1.6058674139479872, 1.646049672786358, 1.646049672786358, 1.646049672786358, 1.6058674139479872, 1.6058674139479872, 1.6058674139479872, 1.646049672786358, 1.7324873513544274, 1.66579245792535, 1.6058674139479872, 1.7324873513544274, 1.7324873513544274, 1.7324873513544274, 1.66579245792535, 1.6058674139479872, 1.7324873513544274, 1.7324873513544274, 1.7324873513544274, 1.6058674139479872, 1.66579245792535, 1.66579245792535, 1.66579245792535, 1.6058674139479872, 1.6058674139479872, 1.6058674139479872, 1.7324873513544274, 1.7324873513544274, 1.7324873513544274, 1.66579245792535, 1.6058674139479872, 1.7324873513544274, 1.7324873513544274, 1.7324873513544274, 1.6058674139479872, 1.66579245792535, 1.66579245792535, 1.66579245792535, 1.6058674139479872, 1.6058674139479872, 1.6058674139479872, 1.7324873513544274, 1.7324873513544274, 1.7324873513544274, 1.6058674139479872, 1.66579245792535, 1.66579245792535, 1.66579245792535, 1.6058674139479872, 1.6058674139479872, 1.6058674139479872, 1.7324873513544274, 1.7324873513544274, 1.7324873513544274, 1.6058674139479872, 1.6058674139479872, 1.6058674139479872, 1.66579245792535, 1.66579245792535, 1.66579245792535, 1.6058674139479872, 1.6058674139479872, 1.6058674139479872, 1.7324873513544274, 1.66579245792535, 1.6058674139479872, 1.737362410949458, 1.737349360328068, 1.737362410949458, 1.6058674139479872, 1.66579245792535, 1.66579245792535, 1.66579245792535, 1.6058674139479872, 1.6058674139479872, 1.6058674139479872, 1.737349360328068, 1.737362410949458, 1.737349360328068, 1.6058674139479872, 1.66579245792535, 1.66579245792535, 1.66579245792535, 1.6058674139479872, 1.6058674139479872, 1.6058674139479872, 1.737349360328068, 1.781345134503318, 1.737349360328068, 1.6058674139479872, 1.6058674139479872, 1.6058674139479872, 1.66579245792535, 1.66579245792535, 1.66579245792535, 1.6058674139479872, 1.6058674139479872, 1.6058674139479872, 1.737349360328068, 1.6058674139479872, 1.66579245792535, 1.66579245792535, 1.66579245792535, 1.6058674139479872, 1.6058674139479872, 1.6058674139479872, 1.737349360328068, 1.737362410949458, 1.737349360328068, 1.6058674139479872, 1.6058674139479872, 1.6058674139479872, 1.66579245792535, 1.66579245792535, 1.66579245792535, 1.6058674139479872, 1.6058674139479872, 1.6058674139479872, 1.737349360328068, 1.6058674139479872, 1.6058674139479872, 1.6058674139479872, 1.66579245792535, 1.66579245792535, 1.66579245792535, 1.6058674139479872, 1.6058674139479872, 1.6058674139479872, 1.737349360328068, 1.6058674139479872, 1.6058674139479872, 1.6058674139479872, 1.66579245792535, 1.6058674139479872]\n",
      "Ensemble size 5\n",
      "(%) ensemble with a correct pose 1.0\n",
      "Best RMSDs in ensemble [1.646049672786358, 1.646049672786358, 1.6058674139479872, 1.646049672786358, 1.646049672786358, 1.646049672786358, 1.646049672786358, 1.6058674139479872, 1.646049672786358, 1.646049672786358, 1.646049672786358, 1.6058674139479872, 1.646049672786358, 1.646049672786358, 1.646049672786358, 1.6058674139479872, 1.6058674139479872, 1.6058674139479872, 1.646049672786358, 1.646049672786358, 1.646049672786358, 1.646049672786358, 1.6058674139479872, 1.646049672786358, 1.646049672786358, 1.646049672786358, 1.6058674139479872, 1.646049672786358, 1.646049672786358, 1.646049672786358, 1.6058674139479872, 1.6058674139479872, 1.6058674139479872, 1.646049672786358, 1.646049672786358, 1.646049672786358, 1.6058674139479872, 1.646049672786358, 1.646049672786358, 1.646049672786358, 1.6058674139479872, 1.6058674139479872, 1.6058674139479872, 1.646049672786358, 1.646049672786358, 1.646049672786358, 1.6058674139479872, 1.6058674139479872, 1.6058674139479872, 1.646049672786358, 1.646049672786358, 1.646049672786358, 1.6058674139479872, 1.6058674139479872, 1.6058674139479872, 1.646049672786358, 1.646049672786358, 1.6058674139479872, 1.646049672786358, 1.646049672786358, 1.646049672786358, 1.6058674139479872, 1.646049672786358, 1.646049672786358, 1.646049672786358, 1.6058674139479872, 1.6058674139479872, 1.6058674139479872, 1.646049672786358, 1.646049672786358, 1.646049672786358, 1.6058674139479872, 1.646049672786358, 1.646049672786358, 1.646049672786358, 1.6058674139479872, 1.6058674139479872, 1.6058674139479872, 1.646049672786358, 1.646049672786358, 1.646049672786358, 1.6058674139479872, 1.6058674139479872, 1.6058674139479872, 1.646049672786358, 1.646049672786358, 1.646049672786358, 1.6058674139479872, 1.6058674139479872, 1.6058674139479872, 1.646049672786358, 1.6058674139479872, 1.646049672786358, 1.646049672786358, 1.646049672786358, 1.6058674139479872, 1.6058674139479872, 1.6058674139479872, 1.646049672786358, 1.646049672786358, 1.646049672786358, 1.6058674139479872, 1.6058674139479872, 1.6058674139479872, 1.646049672786358, 1.646049672786358, 1.646049672786358, 1.6058674139479872, 1.6058674139479872, 1.6058674139479872, 1.646049672786358, 1.6058674139479872, 1.6058674139479872, 1.6058674139479872, 1.646049672786358, 1.646049672786358, 1.646049672786358, 1.6058674139479872, 1.6058674139479872, 1.6058674139479872, 1.646049672786358, 1.6058674139479872, 1.6058674139479872, 1.6058674139479872, 1.646049672786358, 1.6058674139479872, 1.66579245792535, 1.6058674139479872, 1.7324873513544274, 1.7324873513544274, 1.7324873513544274, 1.6058674139479872, 1.66579245792535, 1.66579245792535, 1.66579245792535, 1.6058674139479872, 1.6058674139479872, 1.6058674139479872, 1.7324873513544274, 1.7324873513544274, 1.7324873513544274, 1.6058674139479872, 1.66579245792535, 1.66579245792535, 1.66579245792535, 1.6058674139479872, 1.6058674139479872, 1.6058674139479872, 1.7324873513544274, 1.7324873513544274, 1.7324873513544274, 1.6058674139479872, 1.6058674139479872, 1.6058674139479872, 1.66579245792535, 1.66579245792535, 1.66579245792535, 1.6058674139479872, 1.6058674139479872, 1.6058674139479872, 1.7324873513544274, 1.6058674139479872, 1.66579245792535, 1.66579245792535, 1.66579245792535, 1.6058674139479872, 1.6058674139479872, 1.6058674139479872, 1.7324873513544274, 1.7324873513544274, 1.7324873513544274, 1.6058674139479872, 1.6058674139479872, 1.6058674139479872, 1.66579245792535, 1.66579245792535, 1.66579245792535, 1.6058674139479872, 1.6058674139479872, 1.6058674139479872, 1.7324873513544274, 1.6058674139479872, 1.6058674139479872, 1.6058674139479872, 1.66579245792535, 1.66579245792535, 1.66579245792535, 1.6058674139479872, 1.6058674139479872, 1.6058674139479872, 1.7324873513544274, 1.6058674139479872, 1.6058674139479872, 1.6058674139479872, 1.66579245792535, 1.6058674139479872, 1.6058674139479872, 1.66579245792535, 1.66579245792535, 1.66579245792535, 1.6058674139479872, 1.6058674139479872, 1.6058674139479872, 1.737349360328068, 1.737362410949458, 1.737349360328068, 1.6058674139479872, 1.6058674139479872, 1.6058674139479872, 1.66579245792535, 1.66579245792535, 1.66579245792535, 1.6058674139479872, 1.6058674139479872, 1.6058674139479872, 1.737349360328068, 1.6058674139479872, 1.6058674139479872, 1.6058674139479872, 1.66579245792535, 1.66579245792535, 1.66579245792535, 1.6058674139479872, 1.6058674139479872, 1.6058674139479872, 1.737349360328068, 1.6058674139479872, 1.6058674139479872, 1.6058674139479872, 1.66579245792535, 1.6058674139479872, 1.6058674139479872, 1.6058674139479872, 1.6058674139479872, 1.66579245792535, 1.66579245792535, 1.66579245792535, 1.6058674139479872, 1.6058674139479872, 1.6058674139479872, 1.737349360328068, 1.6058674139479872, 1.6058674139479872, 1.6058674139479872, 1.66579245792535, 1.6058674139479872, 1.6058674139479872, 1.6058674139479872, 1.6058674139479872, 1.66579245792535, 1.6058674139479872, 1.6058674139479872]\n",
      "Ensemble size 6\n",
      "(%) ensemble with a correct pose 1.0\n",
      "Best RMSDs in ensemble [1.646049672786358, 1.6058674139479872, 1.646049672786358, 1.646049672786358, 1.646049672786358, 1.6058674139479872, 1.646049672786358, 1.646049672786358, 1.646049672786358, 1.6058674139479872, 1.6058674139479872, 1.6058674139479872, 1.646049672786358, 1.646049672786358, 1.646049672786358, 1.6058674139479872, 1.646049672786358, 1.646049672786358, 1.646049672786358, 1.6058674139479872, 1.6058674139479872, 1.6058674139479872, 1.646049672786358, 1.646049672786358, 1.646049672786358, 1.6058674139479872, 1.6058674139479872, 1.6058674139479872, 1.646049672786358, 1.646049672786358, 1.646049672786358, 1.6058674139479872, 1.6058674139479872, 1.6058674139479872, 1.646049672786358, 1.6058674139479872, 1.646049672786358, 1.646049672786358, 1.646049672786358, 1.6058674139479872, 1.6058674139479872, 1.6058674139479872, 1.646049672786358, 1.646049672786358, 1.646049672786358, 1.6058674139479872, 1.6058674139479872, 1.6058674139479872, 1.646049672786358, 1.646049672786358, 1.646049672786358, 1.6058674139479872, 1.6058674139479872, 1.6058674139479872, 1.646049672786358, 1.6058674139479872, 1.6058674139479872, 1.6058674139479872, 1.646049672786358, 1.646049672786358, 1.646049672786358, 1.6058674139479872, 1.6058674139479872, 1.6058674139479872, 1.646049672786358, 1.6058674139479872, 1.6058674139479872, 1.6058674139479872, 1.646049672786358, 1.6058674139479872, 1.6058674139479872, 1.646049672786358, 1.646049672786358, 1.646049672786358, 1.6058674139479872, 1.6058674139479872, 1.6058674139479872, 1.646049672786358, 1.646049672786358, 1.646049672786358, 1.6058674139479872, 1.6058674139479872, 1.6058674139479872, 1.646049672786358, 1.646049672786358, 1.646049672786358, 1.6058674139479872, 1.6058674139479872, 1.6058674139479872, 1.646049672786358, 1.6058674139479872, 1.6058674139479872, 1.6058674139479872, 1.646049672786358, 1.646049672786358, 1.646049672786358, 1.6058674139479872, 1.6058674139479872, 1.6058674139479872, 1.646049672786358, 1.6058674139479872, 1.6058674139479872, 1.6058674139479872, 1.646049672786358, 1.6058674139479872, 1.6058674139479872, 1.6058674139479872, 1.6058674139479872, 1.646049672786358, 1.646049672786358, 1.646049672786358, 1.6058674139479872, 1.6058674139479872, 1.6058674139479872, 1.646049672786358, 1.6058674139479872, 1.6058674139479872, 1.6058674139479872, 1.646049672786358, 1.6058674139479872, 1.6058674139479872, 1.6058674139479872, 1.6058674139479872, 1.646049672786358, 1.6058674139479872, 1.6058674139479872, 1.6058674139479872, 1.66579245792535, 1.66579245792535, 1.66579245792535, 1.6058674139479872, 1.6058674139479872, 1.6058674139479872, 1.7324873513544274, 1.7324873513544274, 1.7324873513544274, 1.6058674139479872, 1.6058674139479872, 1.6058674139479872, 1.66579245792535, 1.66579245792535, 1.66579245792535, 1.6058674139479872, 1.6058674139479872, 1.6058674139479872, 1.7324873513544274, 1.6058674139479872, 1.6058674139479872, 1.6058674139479872, 1.66579245792535, 1.66579245792535, 1.66579245792535, 1.6058674139479872, 1.6058674139479872, 1.6058674139479872, 1.7324873513544274, 1.6058674139479872, 1.6058674139479872, 1.6058674139479872, 1.66579245792535, 1.6058674139479872, 1.6058674139479872, 1.6058674139479872, 1.6058674139479872, 1.66579245792535, 1.66579245792535, 1.66579245792535, 1.6058674139479872, 1.6058674139479872, 1.6058674139479872, 1.7324873513544274, 1.6058674139479872, 1.6058674139479872, 1.6058674139479872, 1.66579245792535, 1.6058674139479872, 1.6058674139479872, 1.6058674139479872, 1.6058674139479872, 1.66579245792535, 1.6058674139479872, 1.6058674139479872, 1.6058674139479872, 1.6058674139479872, 1.6058674139479872, 1.66579245792535, 1.66579245792535, 1.66579245792535, 1.6058674139479872, 1.6058674139479872, 1.6058674139479872, 1.737349360328068, 1.6058674139479872, 1.6058674139479872, 1.6058674139479872, 1.66579245792535, 1.6058674139479872, 1.6058674139479872, 1.6058674139479872, 1.6058674139479872, 1.66579245792535, 1.6058674139479872, 1.6058674139479872, 1.6058674139479872, 1.6058674139479872, 1.6058674139479872, 1.66579245792535, 1.6058674139479872, 1.6058674139479872, 1.6058674139479872]\n",
      "Ensemble size 7\n",
      "(%) ensemble with a correct pose 1.0\n",
      "Best RMSDs in ensemble [1.6058674139479872, 1.646049672786358, 1.646049672786358, 1.646049672786358, 1.6058674139479872, 1.6058674139479872, 1.6058674139479872, 1.646049672786358, 1.646049672786358, 1.646049672786358, 1.6058674139479872, 1.6058674139479872, 1.6058674139479872, 1.646049672786358, 1.646049672786358, 1.646049672786358, 1.6058674139479872, 1.6058674139479872, 1.6058674139479872, 1.646049672786358, 1.6058674139479872, 1.6058674139479872, 1.6058674139479872, 1.646049672786358, 1.646049672786358, 1.646049672786358, 1.6058674139479872, 1.6058674139479872, 1.6058674139479872, 1.646049672786358, 1.6058674139479872, 1.6058674139479872, 1.6058674139479872, 1.646049672786358, 1.6058674139479872, 1.6058674139479872, 1.6058674139479872, 1.6058674139479872, 1.646049672786358, 1.646049672786358, 1.646049672786358, 1.6058674139479872, 1.6058674139479872, 1.6058674139479872, 1.646049672786358, 1.6058674139479872, 1.6058674139479872, 1.6058674139479872, 1.646049672786358, 1.6058674139479872, 1.6058674139479872, 1.6058674139479872, 1.6058674139479872, 1.646049672786358, 1.6058674139479872, 1.6058674139479872, 1.6058674139479872, 1.6058674139479872, 1.6058674139479872, 1.646049672786358, 1.646049672786358, 1.646049672786358, 1.6058674139479872, 1.6058674139479872, 1.6058674139479872, 1.646049672786358, 1.6058674139479872, 1.6058674139479872, 1.6058674139479872, 1.646049672786358, 1.6058674139479872, 1.6058674139479872, 1.6058674139479872, 1.6058674139479872, 1.646049672786358, 1.6058674139479872, 1.6058674139479872, 1.6058674139479872, 1.6058674139479872, 1.6058674139479872, 1.646049672786358, 1.6058674139479872, 1.6058674139479872, 1.6058674139479872, 1.6058674139479872, 1.6058674139479872, 1.6058674139479872, 1.66579245792535, 1.66579245792535, 1.66579245792535, 1.6058674139479872, 1.6058674139479872, 1.6058674139479872, 1.7324873513544274, 1.6058674139479872, 1.6058674139479872, 1.6058674139479872, 1.66579245792535, 1.6058674139479872, 1.6058674139479872, 1.6058674139479872, 1.6058674139479872, 1.66579245792535, 1.6058674139479872, 1.6058674139479872, 1.6058674139479872, 1.6058674139479872, 1.6058674139479872, 1.66579245792535, 1.6058674139479872, 1.6058674139479872, 1.6058674139479872, 1.6058674139479872, 1.6058674139479872, 1.6058674139479872, 1.66579245792535, 1.6058674139479872, 1.6058674139479872, 1.6058674139479872, 1.6058674139479872]\n",
      "Ensemble size 8\n",
      "(%) ensemble with a correct pose 1.0\n",
      "Best RMSDs in ensemble [1.6058674139479872, 1.6058674139479872, 1.6058674139479872, 1.646049672786358, 1.646049672786358, 1.646049672786358, 1.6058674139479872, 1.6058674139479872, 1.6058674139479872, 1.646049672786358, 1.6058674139479872, 1.6058674139479872, 1.6058674139479872, 1.646049672786358, 1.6058674139479872, 1.6058674139479872, 1.6058674139479872, 1.6058674139479872, 1.646049672786358, 1.6058674139479872, 1.6058674139479872, 1.6058674139479872, 1.6058674139479872, 1.6058674139479872, 1.646049672786358, 1.6058674139479872, 1.6058674139479872, 1.6058674139479872, 1.6058674139479872, 1.6058674139479872, 1.6058674139479872, 1.646049672786358, 1.6058674139479872, 1.6058674139479872, 1.6058674139479872, 1.6058674139479872, 1.6058674139479872, 1.6058674139479872, 1.6058674139479872, 1.66579245792535, 1.6058674139479872, 1.6058674139479872, 1.6058674139479872, 1.6058674139479872, 1.6058674139479872]\n",
      "Ensemble size 9\n",
      "(%) ensemble with a correct pose 1.0\n",
      "Best RMSDs in ensemble [1.6058674139479872, 1.6058674139479872, 1.6058674139479872, 1.646049672786358, 1.6058674139479872, 1.6058674139479872, 1.6058674139479872, 1.6058674139479872, 1.6058674139479872, 1.6058674139479872]\n",
      "Ensemble size 10\n",
      "(%) ensemble with a correct pose 1.0\n",
      "Best RMSDs in ensemble [1.6058674139479872]\n",
      "Redock number of <2A poses\n",
      "17\n",
      "Redock <2A best RMSD\n",
      "1.2052089594102822\n",
      "Ensemble size 1\n",
      "(%) ensemble with a correct pose 0.6\n",
      "Best RMSDs in ensemble [1.2247635626426605, 1.2052089594102822, 1.5126290243807343, 1.2167823725897589, 1.2842521741460975, 1.5089381617703015]\n",
      "Ensemble size 2\n",
      "(%) ensemble with a correct pose 0.8666666666666667\n",
      "Best RMSDs in ensemble [1.2247635626426605, 1.2052089594102822, 1.5126290243807343, 1.2167823725897589, 1.2842521741460975, 1.5089381617703015, 1.2052089594102822, 1.2247635626426605, 1.2247635626426605, 1.2247635626426605, 1.2247635626426605, 1.2167823725897589, 1.2247635626426605, 1.2247635626426605, 1.2052089594102822, 1.2052089594102822, 1.2052089594102822, 1.2052089594102822, 1.2052089594102822, 1.2052089594102822, 1.2052089594102822, 1.5126290243807343, 1.2167823725897589, 1.2842521741460975, 1.5089381617703015, 1.5126290243807343, 1.2167823725897589, 1.2842521741460975, 1.5089381617703015, 1.5126290243807343, 1.2167823725897589, 1.2842521741460975, 1.5089381617703015, 1.2167823725897589, 1.2842521741460975, 1.5089381617703015, 1.2167823725897589, 1.2167823725897589, 1.2842521741460975]\n",
      "Ensemble size 3\n",
      "(%) ensemble with a correct pose 0.9666666666666667\n",
      "Best RMSDs in ensemble [1.2052089594102822, 1.2247635626426605, 1.2247635626426605, 1.2247635626426605, 1.2247635626426605, 1.2167823725897589, 1.2247635626426605, 1.2247635626426605, 1.2052089594102822, 1.2052089594102822, 1.2052089594102822, 1.2052089594102822, 1.2052089594102822, 1.2052089594102822, 1.2052089594102822, 1.5126290243807343, 1.2167823725897589, 1.2842521741460975, 1.5089381617703015, 1.5126290243807343, 1.2167823725897589, 1.2842521741460975, 1.5089381617703015, 1.5126290243807343, 1.2167823725897589, 1.2842521741460975, 1.5089381617703015, 1.2167823725897589, 1.2842521741460975, 1.5089381617703015, 1.2167823725897589, 1.2167823725897589, 1.2842521741460975, 1.2052089594102822, 1.2052089594102822, 1.2052089594102822, 1.2052089594102822, 1.2052089594102822, 1.2052089594102822, 1.2052089594102822, 1.2247635626426605, 1.2247635626426605, 1.2247635626426605, 1.2167823725897589, 1.2247635626426605, 1.2247635626426605, 1.2247635626426605, 1.2247635626426605, 1.2167823725897589, 1.2247635626426605, 1.2247635626426605, 1.2247635626426605, 1.2167823725897589, 1.2247635626426605, 1.2247635626426605, 1.2167823725897589, 1.2247635626426605, 1.2247635626426605, 1.2167823725897589, 1.2167823725897589, 1.2247635626426605, 1.2052089594102822, 1.2052089594102822, 1.2052089594102822, 1.2052089594102822, 1.2052089594102822, 1.2052089594102822, 1.2052089594102822, 1.2052089594102822, 1.2052089594102822, 1.2052089594102822, 1.2052089594102822, 1.2052089594102822, 1.2052089594102822, 1.2052089594102822, 1.2052089594102822, 1.2052089594102822, 1.2052089594102822, 1.2052089594102822, 1.2052089594102822, 1.2052089594102822, 1.2052089594102822, 1.5126290243807343, 1.2167823725897589, 1.2842521741460975, 1.5089381617703015, 1.5126290243807343, 1.2167823725897589, 1.2842521741460975, 1.5089381617703015, 1.2167823725897589, 1.2842521741460975, 1.5089381617703015, 1.2167823725897589, 1.2167823725897589, 1.2842521741460975, 1.5126290243807343, 1.2167823725897589, 1.2842521741460975, 1.5089381617703015, 1.2167823725897589, 1.2842521741460975, 1.5089381617703015, 1.2167823725897589, 1.2167823725897589, 1.2842521741460975, 1.2167823725897589, 1.2842521741460975, 1.5089381617703015, 1.2167823725897589, 1.2167823725897589, 1.2842521741460975, 1.2167823725897589, 1.2167823725897589, 1.2842521741460975, 1.2167823725897589]\n",
      "Ensemble size 4\n",
      "(%) ensemble with a correct pose 0.9952380952380953\n",
      "Best RMSDs in ensemble [1.2052089594102822, 1.2052089594102822, 1.2052089594102822, 1.2052089594102822, 1.2052089594102822, 1.2052089594102822, 1.2052089594102822, 1.2247635626426605, 1.2247635626426605, 1.2247635626426605, 1.2167823725897589, 1.2247635626426605, 1.2247635626426605, 1.2247635626426605, 1.2247635626426605, 1.2167823725897589, 1.2247635626426605, 1.2247635626426605, 1.2247635626426605, 1.2167823725897589, 1.2247635626426605, 1.2247635626426605, 1.2167823725897589, 1.2247635626426605, 1.2247635626426605, 1.2167823725897589, 1.2167823725897589, 1.2247635626426605, 1.2052089594102822, 1.2052089594102822, 1.2052089594102822, 1.2052089594102822, 1.2052089594102822, 1.2052089594102822, 1.2052089594102822, 1.2052089594102822, 1.2052089594102822, 1.2052089594102822, 1.2052089594102822, 1.2052089594102822, 1.2052089594102822, 1.2052089594102822, 1.2052089594102822, 1.2052089594102822, 1.2052089594102822, 1.2052089594102822, 1.2052089594102822, 1.2052089594102822, 1.2052089594102822, 1.5126290243807343, 1.2167823725897589, 1.2842521741460975, 1.5089381617703015, 1.5126290243807343, 1.2167823725897589, 1.2842521741460975, 1.5089381617703015, 1.2167823725897589, 1.2842521741460975, 1.5089381617703015, 1.2167823725897589, 1.2167823725897589, 1.2842521741460975, 1.5126290243807343, 1.2167823725897589, 1.2842521741460975, 1.5089381617703015, 1.2167823725897589, 1.2842521741460975, 1.5089381617703015, 1.2167823725897589, 1.2167823725897589, 1.2842521741460975, 1.2167823725897589, 1.2842521741460975, 1.5089381617703015, 1.2167823725897589, 1.2167823725897589, 1.2842521741460975, 1.2167823725897589, 1.2167823725897589, 1.2842521741460975, 1.2167823725897589, 1.2052089594102822, 1.2052089594102822, 1.2052089594102822, 1.2052089594102822, 1.2052089594102822, 1.2052089594102822, 1.2052089594102822, 1.2052089594102822, 1.2052089594102822, 1.2052089594102822, 1.2052089594102822, 1.2052089594102822, 1.2052089594102822, 1.2052089594102822, 1.2052089594102822, 1.2052089594102822, 1.2052089594102822, 1.2052089594102822, 1.2052089594102822, 1.2052089594102822, 1.2052089594102822, 1.2247635626426605, 1.2247635626426605, 1.2167823725897589, 1.2247635626426605, 1.2247635626426605, 1.2247635626426605, 1.2167823725897589, 1.2247635626426605, 1.2247635626426605, 1.2167823725897589, 1.2247635626426605, 1.2247635626426605, 1.2167823725897589, 1.2167823725897589, 1.2247635626426605, 1.2247635626426605, 1.2167823725897589, 1.2247635626426605, 1.2247635626426605, 1.2167823725897589, 1.2247635626426605, 1.2247635626426605, 1.2167823725897589, 1.2167823725897589, 1.2247635626426605, 1.2167823725897589, 1.2247635626426605, 1.2247635626426605, 1.2167823725897589, 1.2167823725897589, 1.2247635626426605, 1.2167823725897589, 1.2167823725897589, 1.2247635626426605, 1.2167823725897589, 1.2052089594102822, 1.2052089594102822, 1.2052089594102822, 1.2052089594102822, 1.2052089594102822, 1.2052089594102822, 1.2052089594102822, 1.2052089594102822, 1.2052089594102822, 1.2052089594102822, 1.2052089594102822, 1.2052089594102822, 1.2052089594102822, 1.2052089594102822, 1.2052089594102822, 1.2052089594102822, 1.2052089594102822, 1.2052089594102822, 1.2052089594102822, 1.2052089594102822, 1.2052089594102822, 1.2052089594102822, 1.2052089594102822, 1.2052089594102822, 1.2052089594102822, 1.2052089594102822, 1.2052089594102822, 1.2052089594102822, 1.2052089594102822, 1.2052089594102822, 1.2052089594102822, 1.2052089594102822, 1.2052089594102822, 1.2052089594102822, 1.2052089594102822, 1.5126290243807343, 1.2167823725897589, 1.2842521741460975, 1.5089381617703015, 1.2167823725897589, 1.2842521741460975, 1.5089381617703015, 1.2167823725897589, 1.2167823725897589, 1.2842521741460975, 1.2167823725897589, 1.2842521741460975, 1.5089381617703015, 1.2167823725897589, 1.2167823725897589, 1.2842521741460975, 1.2167823725897589, 1.2167823725897589, 1.2842521741460975, 1.2167823725897589, 1.2167823725897589, 1.2842521741460975, 1.5089381617703015, 1.2167823725897589, 1.2167823725897589, 1.2842521741460975, 1.2167823725897589, 1.2167823725897589, 1.2842521741460975, 1.2167823725897589, 1.2167823725897589, 1.2167823725897589, 1.2842521741460975, 1.2167823725897589, 1.2167823725897589]\n",
      "Ensemble size 5\n",
      "(%) ensemble with a correct pose 1.0\n",
      "Best RMSDs in ensemble [1.2052089594102822, 1.2052089594102822, 1.2052089594102822, 1.2052089594102822, 1.2052089594102822, 1.2052089594102822, 1.2052089594102822, 1.2052089594102822, 1.2052089594102822, 1.2052089594102822, 1.2052089594102822, 1.2052089594102822, 1.2052089594102822, 1.2052089594102822, 1.2052089594102822, 1.2052089594102822, 1.2052089594102822, 1.2052089594102822, 1.2052089594102822, 1.2052089594102822, 1.2052089594102822, 1.2247635626426605, 1.2247635626426605, 1.2167823725897589, 1.2247635626426605, 1.2247635626426605, 1.2247635626426605, 1.2167823725897589, 1.2247635626426605, 1.2247635626426605, 1.2167823725897589, 1.2247635626426605, 1.2247635626426605, 1.2167823725897589, 1.2167823725897589, 1.2247635626426605, 1.2247635626426605, 1.2167823725897589, 1.2247635626426605, 1.2247635626426605, 1.2167823725897589, 1.2247635626426605, 1.2247635626426605, 1.2167823725897589, 1.2167823725897589, 1.2247635626426605, 1.2167823725897589, 1.2247635626426605, 1.2247635626426605, 1.2167823725897589, 1.2167823725897589, 1.2247635626426605, 1.2167823725897589, 1.2167823725897589, 1.2247635626426605, 1.2167823725897589, 1.2052089594102822, 1.2052089594102822, 1.2052089594102822, 1.2052089594102822, 1.2052089594102822, 1.2052089594102822, 1.2052089594102822, 1.2052089594102822, 1.2052089594102822, 1.2052089594102822, 1.2052089594102822, 1.2052089594102822, 1.2052089594102822, 1.2052089594102822, 1.2052089594102822, 1.2052089594102822, 1.2052089594102822, 1.2052089594102822, 1.2052089594102822, 1.2052089594102822, 1.2052089594102822, 1.2052089594102822, 1.2052089594102822, 1.2052089594102822, 1.2052089594102822, 1.2052089594102822, 1.2052089594102822, 1.2052089594102822, 1.2052089594102822, 1.2052089594102822, 1.2052089594102822, 1.2052089594102822, 1.2052089594102822, 1.2052089594102822, 1.2052089594102822, 1.5126290243807343, 1.2167823725897589, 1.2842521741460975, 1.5089381617703015, 1.2167823725897589, 1.2842521741460975, 1.5089381617703015, 1.2167823725897589, 1.2167823725897589, 1.2842521741460975, 1.2167823725897589, 1.2842521741460975, 1.5089381617703015, 1.2167823725897589, 1.2167823725897589, 1.2842521741460975, 1.2167823725897589, 1.2167823725897589, 1.2842521741460975, 1.2167823725897589, 1.2167823725897589, 1.2842521741460975, 1.5089381617703015, 1.2167823725897589, 1.2167823725897589, 1.2842521741460975, 1.2167823725897589, 1.2167823725897589, 1.2842521741460975, 1.2167823725897589, 1.2167823725897589, 1.2167823725897589, 1.2842521741460975, 1.2167823725897589, 1.2167823725897589, 1.2052089594102822, 1.2052089594102822, 1.2052089594102822, 1.2052089594102822, 1.2052089594102822, 1.2052089594102822, 1.2052089594102822, 1.2052089594102822, 1.2052089594102822, 1.2052089594102822, 1.2052089594102822, 1.2052089594102822, 1.2052089594102822, 1.2052089594102822, 1.2052089594102822, 1.2052089594102822, 1.2052089594102822, 1.2052089594102822, 1.2052089594102822, 1.2052089594102822, 1.2052089594102822, 1.2052089594102822, 1.2052089594102822, 1.2052089594102822, 1.2052089594102822, 1.2052089594102822, 1.2052089594102822, 1.2052089594102822, 1.2052089594102822, 1.2052089594102822, 1.2052089594102822, 1.2052089594102822, 1.2052089594102822, 1.2052089594102822, 1.2052089594102822, 1.2247635626426605, 1.2167823725897589, 1.2247635626426605, 1.2247635626426605, 1.2167823725897589, 1.2247635626426605, 1.2247635626426605, 1.2167823725897589, 1.2167823725897589, 1.2247635626426605, 1.2167823725897589, 1.2247635626426605, 1.2247635626426605, 1.2167823725897589, 1.2167823725897589, 1.2247635626426605, 1.2167823725897589, 1.2167823725897589, 1.2247635626426605, 1.2167823725897589, 1.2167823725897589, 1.2247635626426605, 1.2247635626426605, 1.2167823725897589, 1.2167823725897589, 1.2247635626426605, 1.2167823725897589, 1.2167823725897589, 1.2247635626426605, 1.2167823725897589, 1.2167823725897589, 1.2167823725897589, 1.2247635626426605, 1.2167823725897589, 1.2167823725897589, 1.2052089594102822, 1.2052089594102822, 1.2052089594102822, 1.2052089594102822, 1.2052089594102822, 1.2052089594102822, 1.2052089594102822, 1.2052089594102822, 1.2052089594102822, 1.2052089594102822, 1.2052089594102822, 1.2052089594102822, 1.2052089594102822, 1.2052089594102822, 1.2052089594102822, 1.2052089594102822, 1.2052089594102822, 1.2052089594102822, 1.2052089594102822, 1.2052089594102822, 1.2052089594102822, 1.2052089594102822, 1.2052089594102822, 1.2052089594102822, 1.2052089594102822, 1.2052089594102822, 1.2052089594102822, 1.2052089594102822, 1.2052089594102822, 1.2052089594102822, 1.2052089594102822, 1.2052089594102822, 1.2052089594102822, 1.2052089594102822, 1.2052089594102822, 1.2167823725897589, 1.2842521741460975, 1.5089381617703015, 1.2167823725897589, 1.2167823725897589, 1.2842521741460975, 1.2167823725897589, 1.2167823725897589, 1.2842521741460975, 1.2167823725897589, 1.2167823725897589, 1.2167823725897589, 1.2842521741460975, 1.2167823725897589, 1.2167823725897589, 1.2167823725897589, 1.2167823725897589, 1.2842521741460975, 1.2167823725897589, 1.2167823725897589, 1.2167823725897589]\n",
      "Ensemble size 6\n",
      "(%) ensemble with a correct pose 1.0\n",
      "Best RMSDs in ensemble [1.2052089594102822, 1.2052089594102822, 1.2052089594102822, 1.2052089594102822, 1.2052089594102822, 1.2052089594102822, 1.2052089594102822, 1.2052089594102822, 1.2052089594102822, 1.2052089594102822, 1.2052089594102822, 1.2052089594102822, 1.2052089594102822, 1.2052089594102822, 1.2052089594102822, 1.2052089594102822, 1.2052089594102822, 1.2052089594102822, 1.2052089594102822, 1.2052089594102822, 1.2052089594102822, 1.2052089594102822, 1.2052089594102822, 1.2052089594102822, 1.2052089594102822, 1.2052089594102822, 1.2052089594102822, 1.2052089594102822, 1.2052089594102822, 1.2052089594102822, 1.2052089594102822, 1.2052089594102822, 1.2052089594102822, 1.2052089594102822, 1.2052089594102822, 1.2247635626426605, 1.2167823725897589, 1.2247635626426605, 1.2247635626426605, 1.2167823725897589, 1.2247635626426605, 1.2247635626426605, 1.2167823725897589, 1.2167823725897589, 1.2247635626426605, 1.2167823725897589, 1.2247635626426605, 1.2247635626426605, 1.2167823725897589, 1.2167823725897589, 1.2247635626426605, 1.2167823725897589, 1.2167823725897589, 1.2247635626426605, 1.2167823725897589, 1.2167823725897589, 1.2247635626426605, 1.2247635626426605, 1.2167823725897589, 1.2167823725897589, 1.2247635626426605, 1.2167823725897589, 1.2167823725897589, 1.2247635626426605, 1.2167823725897589, 1.2167823725897589, 1.2167823725897589, 1.2247635626426605, 1.2167823725897589, 1.2167823725897589, 1.2052089594102822, 1.2052089594102822, 1.2052089594102822, 1.2052089594102822, 1.2052089594102822, 1.2052089594102822, 1.2052089594102822, 1.2052089594102822, 1.2052089594102822, 1.2052089594102822, 1.2052089594102822, 1.2052089594102822, 1.2052089594102822, 1.2052089594102822, 1.2052089594102822, 1.2052089594102822, 1.2052089594102822, 1.2052089594102822, 1.2052089594102822, 1.2052089594102822, 1.2052089594102822, 1.2052089594102822, 1.2052089594102822, 1.2052089594102822, 1.2052089594102822, 1.2052089594102822, 1.2052089594102822, 1.2052089594102822, 1.2052089594102822, 1.2052089594102822, 1.2052089594102822, 1.2052089594102822, 1.2052089594102822, 1.2052089594102822, 1.2052089594102822, 1.2167823725897589, 1.2842521741460975, 1.5089381617703015, 1.2167823725897589, 1.2167823725897589, 1.2842521741460975, 1.2167823725897589, 1.2167823725897589, 1.2842521741460975, 1.2167823725897589, 1.2167823725897589, 1.2167823725897589, 1.2842521741460975, 1.2167823725897589, 1.2167823725897589, 1.2167823725897589, 1.2167823725897589, 1.2842521741460975, 1.2167823725897589, 1.2167823725897589, 1.2167823725897589, 1.2052089594102822, 1.2052089594102822, 1.2052089594102822, 1.2052089594102822, 1.2052089594102822, 1.2052089594102822, 1.2052089594102822, 1.2052089594102822, 1.2052089594102822, 1.2052089594102822, 1.2052089594102822, 1.2052089594102822, 1.2052089594102822, 1.2052089594102822, 1.2052089594102822, 1.2052089594102822, 1.2052089594102822, 1.2052089594102822, 1.2052089594102822, 1.2052089594102822, 1.2052089594102822, 1.2052089594102822, 1.2052089594102822, 1.2052089594102822, 1.2052089594102822, 1.2052089594102822, 1.2052089594102822, 1.2052089594102822, 1.2052089594102822, 1.2052089594102822, 1.2052089594102822, 1.2052089594102822, 1.2052089594102822, 1.2052089594102822, 1.2052089594102822, 1.2167823725897589, 1.2247635626426605, 1.2247635626426605, 1.2167823725897589, 1.2167823725897589, 1.2247635626426605, 1.2167823725897589, 1.2167823725897589, 1.2247635626426605, 1.2167823725897589, 1.2167823725897589, 1.2167823725897589, 1.2247635626426605, 1.2167823725897589, 1.2167823725897589, 1.2167823725897589, 1.2167823725897589, 1.2247635626426605, 1.2167823725897589, 1.2167823725897589, 1.2167823725897589, 1.2052089594102822, 1.2052089594102822, 1.2052089594102822, 1.2052089594102822, 1.2052089594102822, 1.2052089594102822, 1.2052089594102822, 1.2052089594102822, 1.2052089594102822, 1.2052089594102822, 1.2052089594102822, 1.2052089594102822, 1.2052089594102822, 1.2052089594102822, 1.2052089594102822, 1.2052089594102822, 1.2052089594102822, 1.2052089594102822, 1.2052089594102822, 1.2052089594102822, 1.2052089594102822, 1.2167823725897589, 1.2167823725897589, 1.2842521741460975, 1.2167823725897589, 1.2167823725897589, 1.2167823725897589, 1.2167823725897589]\n",
      "Ensemble size 7\n",
      "(%) ensemble with a correct pose 1.0\n",
      "Best RMSDs in ensemble [1.2052089594102822, 1.2052089594102822, 1.2052089594102822, 1.2052089594102822, 1.2052089594102822, 1.2052089594102822, 1.2052089594102822, 1.2052089594102822, 1.2052089594102822, 1.2052089594102822, 1.2052089594102822, 1.2052089594102822, 1.2052089594102822, 1.2052089594102822, 1.2052089594102822, 1.2052089594102822, 1.2052089594102822, 1.2052089594102822, 1.2052089594102822, 1.2052089594102822, 1.2052089594102822, 1.2052089594102822, 1.2052089594102822, 1.2052089594102822, 1.2052089594102822, 1.2052089594102822, 1.2052089594102822, 1.2052089594102822, 1.2052089594102822, 1.2052089594102822, 1.2052089594102822, 1.2052089594102822, 1.2052089594102822, 1.2052089594102822, 1.2052089594102822, 1.2167823725897589, 1.2247635626426605, 1.2247635626426605, 1.2167823725897589, 1.2167823725897589, 1.2247635626426605, 1.2167823725897589, 1.2167823725897589, 1.2247635626426605, 1.2167823725897589, 1.2167823725897589, 1.2167823725897589, 1.2247635626426605, 1.2167823725897589, 1.2167823725897589, 1.2167823725897589, 1.2167823725897589, 1.2247635626426605, 1.2167823725897589, 1.2167823725897589, 1.2167823725897589, 1.2052089594102822, 1.2052089594102822, 1.2052089594102822, 1.2052089594102822, 1.2052089594102822, 1.2052089594102822, 1.2052089594102822, 1.2052089594102822, 1.2052089594102822, 1.2052089594102822, 1.2052089594102822, 1.2052089594102822, 1.2052089594102822, 1.2052089594102822, 1.2052089594102822, 1.2052089594102822, 1.2052089594102822, 1.2052089594102822, 1.2052089594102822, 1.2052089594102822, 1.2052089594102822, 1.2167823725897589, 1.2167823725897589, 1.2842521741460975, 1.2167823725897589, 1.2167823725897589, 1.2167823725897589, 1.2167823725897589, 1.2052089594102822, 1.2052089594102822, 1.2052089594102822, 1.2052089594102822, 1.2052089594102822, 1.2052089594102822, 1.2052089594102822, 1.2052089594102822, 1.2052089594102822, 1.2052089594102822, 1.2052089594102822, 1.2052089594102822, 1.2052089594102822, 1.2052089594102822, 1.2052089594102822, 1.2052089594102822, 1.2052089594102822, 1.2052089594102822, 1.2052089594102822, 1.2052089594102822, 1.2052089594102822, 1.2167823725897589, 1.2167823725897589, 1.2247635626426605, 1.2167823725897589, 1.2167823725897589, 1.2167823725897589, 1.2167823725897589, 1.2052089594102822, 1.2052089594102822, 1.2052089594102822, 1.2052089594102822, 1.2052089594102822, 1.2052089594102822, 1.2052089594102822, 1.2167823725897589]\n",
      "Ensemble size 8\n",
      "(%) ensemble with a correct pose 1.0\n",
      "Best RMSDs in ensemble [1.2052089594102822, 1.2052089594102822, 1.2052089594102822, 1.2052089594102822, 1.2052089594102822, 1.2052089594102822, 1.2052089594102822, 1.2052089594102822, 1.2052089594102822, 1.2052089594102822, 1.2052089594102822, 1.2052089594102822, 1.2052089594102822, 1.2052089594102822, 1.2052089594102822, 1.2052089594102822, 1.2052089594102822, 1.2052089594102822, 1.2052089594102822, 1.2052089594102822, 1.2052089594102822, 1.2167823725897589, 1.2167823725897589, 1.2247635626426605, 1.2167823725897589, 1.2167823725897589, 1.2167823725897589, 1.2167823725897589, 1.2052089594102822, 1.2052089594102822, 1.2052089594102822, 1.2052089594102822, 1.2052089594102822, 1.2052089594102822, 1.2052089594102822, 1.2167823725897589, 1.2052089594102822, 1.2052089594102822, 1.2052089594102822, 1.2052089594102822, 1.2052089594102822, 1.2052089594102822, 1.2052089594102822, 1.2167823725897589, 1.2052089594102822]\n",
      "Ensemble size 9\n",
      "(%) ensemble with a correct pose 1.0\n",
      "Best RMSDs in ensemble [1.2052089594102822, 1.2052089594102822, 1.2052089594102822, 1.2052089594102822, 1.2052089594102822, 1.2052089594102822, 1.2052089594102822, 1.2167823725897589, 1.2052089594102822, 1.2052089594102822]\n",
      "Ensemble size 10\n",
      "(%) ensemble with a correct pose 1.0\n",
      "Best RMSDs in ensemble [1.2052089594102822]\n",
      "Redock number of <2A poses\n",
      "8\n",
      "Redock <2A best RMSD\n",
      "1.5570935420716503\n",
      "Ensemble size 1\n",
      "(%) ensemble with a correct pose 0.2\n",
      "Best RMSDs in ensemble [1.7071721851999593, 1.6867302519375218]\n",
      "Ensemble size 2\n",
      "(%) ensemble with a correct pose 0.5111111111111111\n",
      "Best RMSDs in ensemble [1.7071721851999593, 1.5570935420716503, 1.6867302519375218, 1.9715283238666208, 1.9715283238666208, 1.7071721851999593, 1.6867302519375218, 1.5570935420716503, 1.7071721851999593, 1.6867302519375218, 1.7071721851999593, 1.7071721851999593, 1.7071721851999593, 1.7071721851999593, 1.5570935420716503, 1.5570935420716503, 1.5570935420716503, 1.6867302519375218, 1.6867302519375218, 1.6867302519375218, 1.6867302519375218, 1.6867302519375218, 1.979192064518984]\n",
      "Ensemble size 3\n",
      "(%) ensemble with a correct pose 0.7666666666666667\n",
      "Best RMSDs in ensemble [1.7071721851999593, 1.5570935420716503, 1.6867302519375218, 1.9715283238666208, 1.9715283238666208, 1.5570935420716503, 1.7071721851999593, 1.6867302519375218, 1.7071721851999593, 1.7071721851999593, 1.7071721851999593, 1.7071721851999593, 1.5570935420716503, 1.5570935420716503, 1.5570935420716503, 1.5570935420716503, 1.5570935420716503, 1.5570935420716503, 1.6867302519375218, 1.9715283238666208, 1.9715283238666208, 1.6867302519375218, 1.6867302519375218, 1.6867302519375218, 1.6867302519375218, 1.9715283238666208, 1.9715283238666208, 1.9715283238666208, 1.9715283238666208, 1.9715283238666208, 1.5570935420716503, 1.7071721851999593, 1.6867302519375218, 1.7071721851999593, 1.7071721851999593, 1.7071721851999593, 1.7071721851999593, 1.5570935420716503, 1.5570935420716503, 1.5570935420716503, 1.6867302519375218, 1.6867302519375218, 1.6867302519375218, 1.6867302519375218, 1.6867302519375218, 1.979192064518984, 1.5570935420716503, 1.5570935420716503, 1.5570935420716503, 1.5570935420716503, 1.5570935420716503, 1.5570935420716503, 1.6867302519375218, 1.7071721851999593, 1.7071721851999593, 1.7071721851999593, 1.7071721851999593, 1.6867302519375218, 1.6867302519375218, 1.6867302519375218, 1.6867302519375218, 1.7071721851999593, 1.7071721851999593, 1.7071721851999593, 1.7071721851999593, 1.7071721851999593, 1.7071721851999593, 1.5570935420716503, 1.5570935420716503, 1.5570935420716503, 1.5570935420716503, 1.5570935420716503, 1.5570935420716503, 1.5570935420716503, 1.5570935420716503, 1.5570935420716503, 1.5570935420716503, 1.5570935420716503, 1.5570935420716503, 1.6867302519375218, 1.6867302519375218, 1.6867302519375218, 1.6867302519375218, 1.979192064518984, 1.6867302519375218, 1.6867302519375218, 1.6867302519375218, 1.6867302519375218, 1.6867302519375218, 1.6867302519375218, 1.979192064518984, 1.979192064518984]\n",
      "Ensemble size 4\n",
      "(%) ensemble with a correct pose 0.919047619047619\n",
      "Best RMSDs in ensemble [1.5570935420716503, 1.7071721851999593, 1.6867302519375218, 1.7071721851999593, 1.7071721851999593, 1.7071721851999593, 1.7071721851999593, 1.5570935420716503, 1.5570935420716503, 1.5570935420716503, 1.5570935420716503, 1.5570935420716503, 1.5570935420716503, 1.6867302519375218, 1.9715283238666208, 1.9715283238666208, 1.6867302519375218, 1.6867302519375218, 1.6867302519375218, 1.6867302519375218, 1.9715283238666208, 1.9715283238666208, 1.9715283238666208, 1.9715283238666208, 1.9715283238666208, 1.5570935420716503, 1.5570935420716503, 1.5570935420716503, 1.5570935420716503, 1.5570935420716503, 1.5570935420716503, 1.6867302519375218, 1.7071721851999593, 1.7071721851999593, 1.7071721851999593, 1.7071721851999593, 1.6867302519375218, 1.6867302519375218, 1.6867302519375218, 1.6867302519375218, 1.7071721851999593, 1.7071721851999593, 1.7071721851999593, 1.7071721851999593, 1.7071721851999593, 1.7071721851999593, 1.5570935420716503, 1.5570935420716503, 1.5570935420716503, 1.5570935420716503, 1.5570935420716503, 1.5570935420716503, 1.5570935420716503, 1.5570935420716503, 1.5570935420716503, 1.5570935420716503, 1.5570935420716503, 1.5570935420716503, 1.5570935420716503, 1.5570935420716503, 1.5570935420716503, 1.6867302519375218, 1.6867302519375218, 1.6867302519375218, 1.6867302519375218, 1.9715283238666208, 1.9715283238666208, 1.9715283238666208, 1.9715283238666208, 1.9715283238666208, 1.6867302519375218, 1.6867302519375218, 1.6867302519375218, 1.6867302519375218, 1.6867302519375218, 1.6867302519375218, 1.9715283238666208, 1.9715283238666208, 1.9715283238666208, 1.9715283238666208, 1.5570935420716503, 1.5570935420716503, 1.5570935420716503, 1.5570935420716503, 1.5570935420716503, 1.5570935420716503, 1.6867302519375218, 1.7071721851999593, 1.7071721851999593, 1.7071721851999593, 1.7071721851999593, 1.6867302519375218, 1.6867302519375218, 1.6867302519375218, 1.6867302519375218, 1.7071721851999593, 1.7071721851999593, 1.7071721851999593, 1.7071721851999593, 1.7071721851999593, 1.7071721851999593, 1.5570935420716503, 1.5570935420716503, 1.5570935420716503, 1.5570935420716503, 1.5570935420716503, 1.5570935420716503, 1.5570935420716503, 1.5570935420716503, 1.5570935420716503, 1.5570935420716503, 1.5570935420716503, 1.5570935420716503, 1.6867302519375218, 1.6867302519375218, 1.6867302519375218, 1.6867302519375218, 1.979192064518984, 1.6867302519375218, 1.6867302519375218, 1.6867302519375218, 1.6867302519375218, 1.6867302519375218, 1.6867302519375218, 1.979192064518984, 1.979192064518984, 1.5570935420716503, 1.5570935420716503, 1.5570935420716503, 1.5570935420716503, 1.5570935420716503, 1.5570935420716503, 1.5570935420716503, 1.5570935420716503, 1.5570935420716503, 1.5570935420716503, 1.5570935420716503, 1.5570935420716503, 1.5570935420716503, 1.5570935420716503, 1.5570935420716503, 1.6867302519375218, 1.6867302519375218, 1.6867302519375218, 1.6867302519375218, 1.7071721851999593, 1.7071721851999593, 1.7071721851999593, 1.7071721851999593, 1.7071721851999593, 1.7071721851999593, 1.6867302519375218, 1.6867302519375218, 1.6867302519375218, 1.6867302519375218, 1.6867302519375218, 1.6867302519375218, 1.7071721851999593, 1.7071721851999593, 1.7071721851999593, 1.7071721851999593, 1.5570935420716503, 1.5570935420716503, 1.5570935420716503, 1.5570935420716503, 1.5570935420716503, 1.5570935420716503, 1.5570935420716503, 1.5570935420716503, 1.5570935420716503, 1.5570935420716503, 1.5570935420716503, 1.5570935420716503, 1.5570935420716503, 1.5570935420716503, 1.5570935420716503, 1.5570935420716503, 1.5570935420716503, 1.5570935420716503, 1.5570935420716503, 1.6867302519375218, 1.6867302519375218, 1.6867302519375218, 1.6867302519375218, 1.6867302519375218, 1.6867302519375218, 1.979192064518984, 1.979192064518984, 1.6867302519375218, 1.6867302519375218, 1.6867302519375218, 1.6867302519375218, 1.979192064518984]\n",
      "Ensemble size 5\n",
      "(%) ensemble with a correct pose 0.9841269841269841\n",
      "Best RMSDs in ensemble [1.5570935420716503, 1.5570935420716503, 1.5570935420716503, 1.5570935420716503, 1.5570935420716503, 1.5570935420716503, 1.6867302519375218, 1.7071721851999593, 1.7071721851999593, 1.7071721851999593, 1.7071721851999593, 1.6867302519375218, 1.6867302519375218, 1.6867302519375218, 1.6867302519375218, 1.7071721851999593, 1.7071721851999593, 1.7071721851999593, 1.7071721851999593, 1.7071721851999593, 1.7071721851999593, 1.5570935420716503, 1.5570935420716503, 1.5570935420716503, 1.5570935420716503, 1.5570935420716503, 1.5570935420716503, 1.5570935420716503, 1.5570935420716503, 1.5570935420716503, 1.5570935420716503, 1.5570935420716503, 1.5570935420716503, 1.5570935420716503, 1.5570935420716503, 1.5570935420716503, 1.6867302519375218, 1.6867302519375218, 1.6867302519375218, 1.6867302519375218, 1.9715283238666208, 1.9715283238666208, 1.9715283238666208, 1.9715283238666208, 1.9715283238666208, 1.6867302519375218, 1.6867302519375218, 1.6867302519375218, 1.6867302519375218, 1.6867302519375218, 1.6867302519375218, 1.9715283238666208, 1.9715283238666208, 1.9715283238666208, 1.9715283238666208, 1.5570935420716503, 1.5570935420716503, 1.5570935420716503, 1.5570935420716503, 1.5570935420716503, 1.5570935420716503, 1.5570935420716503, 1.5570935420716503, 1.5570935420716503, 1.5570935420716503, 1.5570935420716503, 1.5570935420716503, 1.5570935420716503, 1.5570935420716503, 1.5570935420716503, 1.6867302519375218, 1.6867302519375218, 1.6867302519375218, 1.6867302519375218, 1.7071721851999593, 1.7071721851999593, 1.7071721851999593, 1.7071721851999593, 1.7071721851999593, 1.7071721851999593, 1.6867302519375218, 1.6867302519375218, 1.6867302519375218, 1.6867302519375218, 1.6867302519375218, 1.6867302519375218, 1.7071721851999593, 1.7071721851999593, 1.7071721851999593, 1.7071721851999593, 1.5570935420716503, 1.5570935420716503, 1.5570935420716503, 1.5570935420716503, 1.5570935420716503, 1.5570935420716503, 1.5570935420716503, 1.5570935420716503, 1.5570935420716503, 1.5570935420716503, 1.5570935420716503, 1.5570935420716503, 1.5570935420716503, 1.5570935420716503, 1.5570935420716503, 1.5570935420716503, 1.5570935420716503, 1.5570935420716503, 1.5570935420716503, 1.5570935420716503, 1.6867302519375218, 1.6867302519375218, 1.6867302519375218, 1.6867302519375218, 1.6867302519375218, 1.6867302519375218, 1.9715283238666208, 1.9715283238666208, 1.9715283238666208, 1.9715283238666208, 1.6867302519375218, 1.6867302519375218, 1.6867302519375218, 1.6867302519375218, 1.9715283238666208, 1.5570935420716503, 1.5570935420716503, 1.5570935420716503, 1.5570935420716503, 1.5570935420716503, 1.5570935420716503, 1.5570935420716503, 1.5570935420716503, 1.5570935420716503, 1.5570935420716503, 1.5570935420716503, 1.5570935420716503, 1.5570935420716503, 1.5570935420716503, 1.5570935420716503, 1.6867302519375218, 1.6867302519375218, 1.6867302519375218, 1.6867302519375218, 1.7071721851999593, 1.7071721851999593, 1.7071721851999593, 1.7071721851999593, 1.7071721851999593, 1.7071721851999593, 1.6867302519375218, 1.6867302519375218, 1.6867302519375218, 1.6867302519375218, 1.6867302519375218, 1.6867302519375218, 1.7071721851999593, 1.7071721851999593, 1.7071721851999593, 1.7071721851999593, 1.5570935420716503, 1.5570935420716503, 1.5570935420716503, 1.5570935420716503, 1.5570935420716503, 1.5570935420716503, 1.5570935420716503, 1.5570935420716503, 1.5570935420716503, 1.5570935420716503, 1.5570935420716503, 1.5570935420716503, 1.5570935420716503, 1.5570935420716503, 1.5570935420716503, 1.5570935420716503, 1.5570935420716503, 1.5570935420716503, 1.5570935420716503, 1.6867302519375218, 1.6867302519375218, 1.6867302519375218, 1.6867302519375218, 1.6867302519375218, 1.6867302519375218, 1.979192064518984, 1.979192064518984, 1.6867302519375218, 1.6867302519375218, 1.6867302519375218, 1.6867302519375218, 1.979192064518984, 1.5570935420716503, 1.5570935420716503, 1.5570935420716503, 1.5570935420716503, 1.5570935420716503, 1.5570935420716503, 1.5570935420716503, 1.5570935420716503, 1.5570935420716503, 1.5570935420716503, 1.5570935420716503, 1.5570935420716503, 1.5570935420716503, 1.5570935420716503, 1.5570935420716503, 1.5570935420716503, 1.5570935420716503, 1.5570935420716503, 1.5570935420716503, 1.5570935420716503, 1.6867302519375218, 1.6867302519375218, 1.6867302519375218, 1.6867302519375218, 1.6867302519375218, 1.6867302519375218, 1.7071721851999593, 1.7071721851999593, 1.7071721851999593, 1.7071721851999593, 1.6867302519375218, 1.6867302519375218, 1.6867302519375218, 1.6867302519375218, 1.7071721851999593, 1.5570935420716503, 1.5570935420716503, 1.5570935420716503, 1.5570935420716503, 1.5570935420716503, 1.5570935420716503, 1.5570935420716503, 1.5570935420716503, 1.5570935420716503, 1.5570935420716503, 1.5570935420716503, 1.5570935420716503, 1.5570935420716503, 1.5570935420716503, 1.5570935420716503, 1.6867302519375218, 1.6867302519375218, 1.6867302519375218, 1.6867302519375218, 1.979192064518984, 1.6867302519375218]\n",
      "Ensemble size 6\n",
      "(%) ensemble with a correct pose 1.0\n",
      "Best RMSDs in ensemble [1.5570935420716503, 1.5570935420716503, 1.5570935420716503, 1.5570935420716503, 1.5570935420716503, 1.5570935420716503, 1.5570935420716503, 1.5570935420716503, 1.5570935420716503, 1.5570935420716503, 1.5570935420716503, 1.5570935420716503, 1.5570935420716503, 1.5570935420716503, 1.5570935420716503, 1.6867302519375218, 1.6867302519375218, 1.6867302519375218, 1.6867302519375218, 1.7071721851999593, 1.7071721851999593, 1.7071721851999593, 1.7071721851999593, 1.7071721851999593, 1.7071721851999593, 1.6867302519375218, 1.6867302519375218, 1.6867302519375218, 1.6867302519375218, 1.6867302519375218, 1.6867302519375218, 1.7071721851999593, 1.7071721851999593, 1.7071721851999593, 1.7071721851999593, 1.5570935420716503, 1.5570935420716503, 1.5570935420716503, 1.5570935420716503, 1.5570935420716503, 1.5570935420716503, 1.5570935420716503, 1.5570935420716503, 1.5570935420716503, 1.5570935420716503, 1.5570935420716503, 1.5570935420716503, 1.5570935420716503, 1.5570935420716503, 1.5570935420716503, 1.5570935420716503, 1.5570935420716503, 1.5570935420716503, 1.5570935420716503, 1.5570935420716503, 1.6867302519375218, 1.6867302519375218, 1.6867302519375218, 1.6867302519375218, 1.6867302519375218, 1.6867302519375218, 1.9715283238666208, 1.9715283238666208, 1.9715283238666208, 1.9715283238666208, 1.6867302519375218, 1.6867302519375218, 1.6867302519375218, 1.6867302519375218, 1.9715283238666208, 1.5570935420716503, 1.5570935420716503, 1.5570935420716503, 1.5570935420716503, 1.5570935420716503, 1.5570935420716503, 1.5570935420716503, 1.5570935420716503, 1.5570935420716503, 1.5570935420716503, 1.5570935420716503, 1.5570935420716503, 1.5570935420716503, 1.5570935420716503, 1.5570935420716503, 1.5570935420716503, 1.5570935420716503, 1.5570935420716503, 1.5570935420716503, 1.5570935420716503, 1.6867302519375218, 1.6867302519375218, 1.6867302519375218, 1.6867302519375218, 1.6867302519375218, 1.6867302519375218, 1.7071721851999593, 1.7071721851999593, 1.7071721851999593, 1.7071721851999593, 1.6867302519375218, 1.6867302519375218, 1.6867302519375218, 1.6867302519375218, 1.7071721851999593, 1.5570935420716503, 1.5570935420716503, 1.5570935420716503, 1.5570935420716503, 1.5570935420716503, 1.5570935420716503, 1.5570935420716503, 1.5570935420716503, 1.5570935420716503, 1.5570935420716503, 1.5570935420716503, 1.5570935420716503, 1.5570935420716503, 1.5570935420716503, 1.5570935420716503, 1.6867302519375218, 1.6867302519375218, 1.6867302519375218, 1.6867302519375218, 1.9715283238666208, 1.6867302519375218, 1.5570935420716503, 1.5570935420716503, 1.5570935420716503, 1.5570935420716503, 1.5570935420716503, 1.5570935420716503, 1.5570935420716503, 1.5570935420716503, 1.5570935420716503, 1.5570935420716503, 1.5570935420716503, 1.5570935420716503, 1.5570935420716503, 1.5570935420716503, 1.5570935420716503, 1.5570935420716503, 1.5570935420716503, 1.5570935420716503, 1.5570935420716503, 1.5570935420716503, 1.6867302519375218, 1.6867302519375218, 1.6867302519375218, 1.6867302519375218, 1.6867302519375218, 1.6867302519375218, 1.7071721851999593, 1.7071721851999593, 1.7071721851999593, 1.7071721851999593, 1.6867302519375218, 1.6867302519375218, 1.6867302519375218, 1.6867302519375218, 1.7071721851999593, 1.5570935420716503, 1.5570935420716503, 1.5570935420716503, 1.5570935420716503, 1.5570935420716503, 1.5570935420716503, 1.5570935420716503, 1.5570935420716503, 1.5570935420716503, 1.5570935420716503, 1.5570935420716503, 1.5570935420716503, 1.5570935420716503, 1.5570935420716503, 1.5570935420716503, 1.6867302519375218, 1.6867302519375218, 1.6867302519375218, 1.6867302519375218, 1.979192064518984, 1.6867302519375218, 1.5570935420716503, 1.5570935420716503, 1.5570935420716503, 1.5570935420716503, 1.5570935420716503, 1.5570935420716503, 1.5570935420716503, 1.5570935420716503, 1.5570935420716503, 1.5570935420716503, 1.5570935420716503, 1.5570935420716503, 1.5570935420716503, 1.5570935420716503, 1.5570935420716503, 1.6867302519375218, 1.6867302519375218, 1.6867302519375218, 1.6867302519375218, 1.7071721851999593, 1.6867302519375218, 1.5570935420716503, 1.5570935420716503, 1.5570935420716503, 1.5570935420716503, 1.5570935420716503, 1.5570935420716503, 1.6867302519375218]\n",
      "Ensemble size 7\n",
      "(%) ensemble with a correct pose 1.0\n",
      "Best RMSDs in ensemble [1.5570935420716503, 1.5570935420716503, 1.5570935420716503, 1.5570935420716503, 1.5570935420716503, 1.5570935420716503, 1.5570935420716503, 1.5570935420716503, 1.5570935420716503, 1.5570935420716503, 1.5570935420716503, 1.5570935420716503, 1.5570935420716503, 1.5570935420716503, 1.5570935420716503, 1.5570935420716503, 1.5570935420716503, 1.5570935420716503, 1.5570935420716503, 1.5570935420716503, 1.6867302519375218, 1.6867302519375218, 1.6867302519375218, 1.6867302519375218, 1.6867302519375218, 1.6867302519375218, 1.7071721851999593, 1.7071721851999593, 1.7071721851999593, 1.7071721851999593, 1.6867302519375218, 1.6867302519375218, 1.6867302519375218, 1.6867302519375218, 1.7071721851999593, 1.5570935420716503, 1.5570935420716503, 1.5570935420716503, 1.5570935420716503, 1.5570935420716503, 1.5570935420716503, 1.5570935420716503, 1.5570935420716503, 1.5570935420716503, 1.5570935420716503, 1.5570935420716503, 1.5570935420716503, 1.5570935420716503, 1.5570935420716503, 1.5570935420716503, 1.6867302519375218, 1.6867302519375218, 1.6867302519375218, 1.6867302519375218, 1.9715283238666208, 1.6867302519375218, 1.5570935420716503, 1.5570935420716503, 1.5570935420716503, 1.5570935420716503, 1.5570935420716503, 1.5570935420716503, 1.5570935420716503, 1.5570935420716503, 1.5570935420716503, 1.5570935420716503, 1.5570935420716503, 1.5570935420716503, 1.5570935420716503, 1.5570935420716503, 1.5570935420716503, 1.6867302519375218, 1.6867302519375218, 1.6867302519375218, 1.6867302519375218, 1.7071721851999593, 1.6867302519375218, 1.5570935420716503, 1.5570935420716503, 1.5570935420716503, 1.5570935420716503, 1.5570935420716503, 1.5570935420716503, 1.6867302519375218, 1.5570935420716503, 1.5570935420716503, 1.5570935420716503, 1.5570935420716503, 1.5570935420716503, 1.5570935420716503, 1.5570935420716503, 1.5570935420716503, 1.5570935420716503, 1.5570935420716503, 1.5570935420716503, 1.5570935420716503, 1.5570935420716503, 1.5570935420716503, 1.5570935420716503, 1.6867302519375218, 1.6867302519375218, 1.6867302519375218, 1.6867302519375218, 1.7071721851999593, 1.6867302519375218, 1.5570935420716503, 1.5570935420716503, 1.5570935420716503, 1.5570935420716503, 1.5570935420716503, 1.5570935420716503, 1.6867302519375218, 1.5570935420716503, 1.5570935420716503, 1.5570935420716503, 1.5570935420716503, 1.5570935420716503, 1.5570935420716503, 1.6867302519375218, 1.5570935420716503]\n",
      "Ensemble size 8\n",
      "(%) ensemble with a correct pose 1.0\n",
      "Best RMSDs in ensemble [1.5570935420716503, 1.5570935420716503, 1.5570935420716503, 1.5570935420716503, 1.5570935420716503, 1.5570935420716503, 1.5570935420716503, 1.5570935420716503, 1.5570935420716503, 1.5570935420716503, 1.5570935420716503, 1.5570935420716503, 1.5570935420716503, 1.5570935420716503, 1.5570935420716503, 1.6867302519375218, 1.6867302519375218, 1.6867302519375218, 1.6867302519375218, 1.7071721851999593, 1.6867302519375218, 1.5570935420716503, 1.5570935420716503, 1.5570935420716503, 1.5570935420716503, 1.5570935420716503, 1.5570935420716503, 1.6867302519375218, 1.5570935420716503, 1.5570935420716503, 1.5570935420716503, 1.5570935420716503, 1.5570935420716503, 1.5570935420716503, 1.6867302519375218, 1.5570935420716503, 1.5570935420716503, 1.5570935420716503, 1.5570935420716503, 1.5570935420716503, 1.5570935420716503, 1.5570935420716503, 1.6867302519375218, 1.5570935420716503, 1.5570935420716503]\n",
      "Ensemble size 9\n",
      "(%) ensemble with a correct pose 1.0\n",
      "Best RMSDs in ensemble [1.5570935420716503, 1.5570935420716503, 1.5570935420716503, 1.5570935420716503, 1.5570935420716503, 1.5570935420716503, 1.6867302519375218, 1.5570935420716503, 1.5570935420716503, 1.5570935420716503]\n",
      "Ensemble size 10\n",
      "(%) ensemble with a correct pose 1.0\n",
      "Best RMSDs in ensemble [1.5570935420716503]\n",
      "Redock number of <2A poses\n",
      "51\n",
      "Redock <2A best RMSD\n",
      "0.3708119469488545\n",
      "Ensemble size 1\n",
      "(%) ensemble with a correct pose 1.0\n",
      "Best RMSDs in ensemble [0.5506795477278181, 0.5480809051330183, 0.5571193126893276, 0.3708119469488545, 0.5506621339027096, 0.5521346238528632, 0.5559224316395228, 0.4097672248623951, 0.4948022332205061, 0.55421698303617]\n",
      "Ensemble size 2\n",
      "(%) ensemble with a correct pose 1.0\n",
      "Best RMSDs in ensemble [0.5480809051330183, 0.5506795477278181, 0.3708119469488545, 0.5506621339027096, 0.5506795477278181, 0.5506795477278181, 0.4097672248623951, 0.4948022332205061, 0.5506795477278181, 0.5480809051330183, 0.3708119469488545, 0.5480809051330183, 0.5480809051330183, 0.5480809051330183, 0.4097672248623951, 0.4948022332205061, 0.5480809051330183, 0.3708119469488545, 0.5506621339027096, 0.5521346238528632, 0.5559224316395228, 0.4097672248623951, 0.4948022332205061, 0.55421698303617, 0.3708119469488545, 0.3708119469488545, 0.3708119469488545, 0.3708119469488545, 0.3708119469488545, 0.3708119469488545, 0.5506621339027096, 0.5506621339027096, 0.4097672248623951, 0.4948022332205061, 0.5506621339027096, 0.5521346238528632, 0.4097672248623951, 0.4948022332205061, 0.5521346238528632, 0.4097672248623951, 0.4948022332205061, 0.55421698303617, 0.4097672248623951, 0.4097672248623951, 0.4948022332205061]\n",
      "Ensemble size 3\n",
      "(%) ensemble with a correct pose 1.0\n",
      "Best RMSDs in ensemble [0.5480809051330183, 0.3708119469488545, 0.5480809051330183, 0.5480809051330183, 0.5480809051330183, 0.4097672248623951, 0.4948022332205061, 0.5480809051330183, 0.3708119469488545, 0.5506621339027096, 0.5506795477278181, 0.5506795477278181, 0.4097672248623951, 0.4948022332205061, 0.5506795477278181, 0.3708119469488545, 0.3708119469488545, 0.3708119469488545, 0.3708119469488545, 0.3708119469488545, 0.3708119469488545, 0.5506621339027096, 0.5506621339027096, 0.4097672248623951, 0.4948022332205061, 0.5506621339027096, 0.5506795477278181, 0.4097672248623951, 0.4948022332205061, 0.5506795477278181, 0.4097672248623951, 0.4948022332205061, 0.5506795477278181, 0.4097672248623951, 0.4097672248623951, 0.4948022332205061, 0.3708119469488545, 0.5480809051330183, 0.5480809051330183, 0.5480809051330183, 0.4097672248623951, 0.4948022332205061, 0.5480809051330183, 0.3708119469488545, 0.3708119469488545, 0.3708119469488545, 0.3708119469488545, 0.3708119469488545, 0.3708119469488545, 0.5480809051330183, 0.5480809051330183, 0.4097672248623951, 0.4948022332205061, 0.5480809051330183, 0.5480809051330183, 0.4097672248623951, 0.4948022332205061, 0.5480809051330183, 0.4097672248623951, 0.4948022332205061, 0.5480809051330183, 0.4097672248623951, 0.4097672248623951, 0.4948022332205061, 0.3708119469488545, 0.3708119469488545, 0.3708119469488545, 0.3708119469488545, 0.3708119469488545, 0.3708119469488545, 0.5506621339027096, 0.5506621339027096, 0.4097672248623951, 0.4948022332205061, 0.5506621339027096, 0.5521346238528632, 0.4097672248623951, 0.4948022332205061, 0.5521346238528632, 0.4097672248623951, 0.4948022332205061, 0.55421698303617, 0.4097672248623951, 0.4097672248623951, 0.4948022332205061, 0.3708119469488545, 0.3708119469488545, 0.3708119469488545, 0.3708119469488545, 0.3708119469488545, 0.3708119469488545, 0.3708119469488545, 0.3708119469488545, 0.3708119469488545, 0.3708119469488545, 0.3708119469488545, 0.3708119469488545, 0.3708119469488545, 0.3708119469488545, 0.3708119469488545, 0.5506621339027096, 0.4097672248623951, 0.4948022332205061, 0.5506621339027096, 0.4097672248623951, 0.4948022332205061, 0.5506621339027096, 0.4097672248623951, 0.4097672248623951, 0.4948022332205061, 0.4097672248623951, 0.4948022332205061, 0.5521346238528632, 0.4097672248623951, 0.4097672248623951, 0.4948022332205061, 0.4097672248623951, 0.4097672248623951, 0.4948022332205061, 0.4097672248623951]\n",
      "Ensemble size 4\n",
      "(%) ensemble with a correct pose 1.0\n",
      "Best RMSDs in ensemble [0.3708119469488545, 0.5480809051330183, 0.5480809051330183, 0.5480809051330183, 0.4097672248623951, 0.4948022332205061, 0.5480809051330183, 0.3708119469488545, 0.3708119469488545, 0.3708119469488545, 0.3708119469488545, 0.3708119469488545, 0.3708119469488545, 0.5480809051330183, 0.5480809051330183, 0.4097672248623951, 0.4948022332205061, 0.5480809051330183, 0.5480809051330183, 0.4097672248623951, 0.4948022332205061, 0.5480809051330183, 0.4097672248623951, 0.4948022332205061, 0.5480809051330183, 0.4097672248623951, 0.4097672248623951, 0.4948022332205061, 0.3708119469488545, 0.3708119469488545, 0.3708119469488545, 0.3708119469488545, 0.3708119469488545, 0.3708119469488545, 0.5506621339027096, 0.5506621339027096, 0.4097672248623951, 0.4948022332205061, 0.5506621339027096, 0.5506795477278181, 0.4097672248623951, 0.4948022332205061, 0.5506795477278181, 0.4097672248623951, 0.4948022332205061, 0.5506795477278181, 0.4097672248623951, 0.4097672248623951, 0.4948022332205061, 0.3708119469488545, 0.3708119469488545, 0.3708119469488545, 0.3708119469488545, 0.3708119469488545, 0.3708119469488545, 0.3708119469488545, 0.3708119469488545, 0.3708119469488545, 0.3708119469488545, 0.3708119469488545, 0.3708119469488545, 0.3708119469488545, 0.3708119469488545, 0.3708119469488545, 0.5506621339027096, 0.4097672248623951, 0.4948022332205061, 0.5506621339027096, 0.4097672248623951, 0.4948022332205061, 0.5506621339027096, 0.4097672248623951, 0.4097672248623951, 0.4948022332205061, 0.4097672248623951, 0.4948022332205061, 0.5506795477278181, 0.4097672248623951, 0.4097672248623951, 0.4948022332205061, 0.4097672248623951, 0.4097672248623951, 0.4948022332205061, 0.4097672248623951, 0.3708119469488545, 0.3708119469488545, 0.3708119469488545, 0.3708119469488545, 0.3708119469488545, 0.3708119469488545, 0.5480809051330183, 0.5480809051330183, 0.4097672248623951, 0.4948022332205061, 0.5480809051330183, 0.5480809051330183, 0.4097672248623951, 0.4948022332205061, 0.5480809051330183, 0.4097672248623951, 0.4948022332205061, 0.5480809051330183, 0.4097672248623951, 0.4097672248623951, 0.4948022332205061, 0.3708119469488545, 0.3708119469488545, 0.3708119469488545, 0.3708119469488545, 0.3708119469488545, 0.3708119469488545, 0.3708119469488545, 0.3708119469488545, 0.3708119469488545, 0.3708119469488545, 0.3708119469488545, 0.3708119469488545, 0.3708119469488545, 0.3708119469488545, 0.3708119469488545, 0.5480809051330183, 0.4097672248623951, 0.4948022332205061, 0.5480809051330183, 0.4097672248623951, 0.4948022332205061, 0.5480809051330183, 0.4097672248623951, 0.4097672248623951, 0.4948022332205061, 0.4097672248623951, 0.4948022332205061, 0.5480809051330183, 0.4097672248623951, 0.4097672248623951, 0.4948022332205061, 0.4097672248623951, 0.4097672248623951, 0.4948022332205061, 0.4097672248623951, 0.3708119469488545, 0.3708119469488545, 0.3708119469488545, 0.3708119469488545, 0.3708119469488545, 0.3708119469488545, 0.3708119469488545, 0.3708119469488545, 0.3708119469488545, 0.3708119469488545, 0.3708119469488545, 0.3708119469488545, 0.3708119469488545, 0.3708119469488545, 0.3708119469488545, 0.5506621339027096, 0.4097672248623951, 0.4948022332205061, 0.5506621339027096, 0.4097672248623951, 0.4948022332205061, 0.5506621339027096, 0.4097672248623951, 0.4097672248623951, 0.4948022332205061, 0.4097672248623951, 0.4948022332205061, 0.5521346238528632, 0.4097672248623951, 0.4097672248623951, 0.4948022332205061, 0.4097672248623951, 0.4097672248623951, 0.4948022332205061, 0.4097672248623951, 0.3708119469488545, 0.3708119469488545, 0.3708119469488545, 0.3708119469488545, 0.3708119469488545, 0.3708119469488545, 0.3708119469488545, 0.3708119469488545, 0.3708119469488545, 0.3708119469488545, 0.3708119469488545, 0.3708119469488545, 0.3708119469488545, 0.3708119469488545, 0.3708119469488545, 0.3708119469488545, 0.3708119469488545, 0.3708119469488545, 0.3708119469488545, 0.3708119469488545, 0.4097672248623951, 0.4948022332205061, 0.5506621339027096, 0.4097672248623951, 0.4097672248623951, 0.4948022332205061, 0.4097672248623951, 0.4097672248623951, 0.4948022332205061, 0.4097672248623951, 0.4097672248623951, 0.4097672248623951, 0.4948022332205061, 0.4097672248623951, 0.4097672248623951]\n",
      "Ensemble size 5\n",
      "(%) ensemble with a correct pose 1.0\n",
      "Best RMSDs in ensemble [0.3708119469488545, 0.3708119469488545, 0.3708119469488545, 0.3708119469488545, 0.3708119469488545, 0.3708119469488545, 0.5480809051330183, 0.5480809051330183, 0.4097672248623951, 0.4948022332205061, 0.5480809051330183, 0.5480809051330183, 0.4097672248623951, 0.4948022332205061, 0.5480809051330183, 0.4097672248623951, 0.4948022332205061, 0.5480809051330183, 0.4097672248623951, 0.4097672248623951, 0.4948022332205061, 0.3708119469488545, 0.3708119469488545, 0.3708119469488545, 0.3708119469488545, 0.3708119469488545, 0.3708119469488545, 0.3708119469488545, 0.3708119469488545, 0.3708119469488545, 0.3708119469488545, 0.3708119469488545, 0.3708119469488545, 0.3708119469488545, 0.3708119469488545, 0.3708119469488545, 0.5480809051330183, 0.4097672248623951, 0.4948022332205061, 0.5480809051330183, 0.4097672248623951, 0.4948022332205061, 0.5480809051330183, 0.4097672248623951, 0.4097672248623951, 0.4948022332205061, 0.4097672248623951, 0.4948022332205061, 0.5480809051330183, 0.4097672248623951, 0.4097672248623951, 0.4948022332205061, 0.4097672248623951, 0.4097672248623951, 0.4948022332205061, 0.4097672248623951, 0.3708119469488545, 0.3708119469488545, 0.3708119469488545, 0.3708119469488545, 0.3708119469488545, 0.3708119469488545, 0.3708119469488545, 0.3708119469488545, 0.3708119469488545, 0.3708119469488545, 0.3708119469488545, 0.3708119469488545, 0.3708119469488545, 0.3708119469488545, 0.3708119469488545, 0.5506621339027096, 0.4097672248623951, 0.4948022332205061, 0.5506621339027096, 0.4097672248623951, 0.4948022332205061, 0.5506621339027096, 0.4097672248623951, 0.4097672248623951, 0.4948022332205061, 0.4097672248623951, 0.4948022332205061, 0.5506795477278181, 0.4097672248623951, 0.4097672248623951, 0.4948022332205061, 0.4097672248623951, 0.4097672248623951, 0.4948022332205061, 0.4097672248623951, 0.3708119469488545, 0.3708119469488545, 0.3708119469488545, 0.3708119469488545, 0.3708119469488545, 0.3708119469488545, 0.3708119469488545, 0.3708119469488545, 0.3708119469488545, 0.3708119469488545, 0.3708119469488545, 0.3708119469488545, 0.3708119469488545, 0.3708119469488545, 0.3708119469488545, 0.3708119469488545, 0.3708119469488545, 0.3708119469488545, 0.3708119469488545, 0.3708119469488545, 0.4097672248623951, 0.4948022332205061, 0.5506621339027096, 0.4097672248623951, 0.4097672248623951, 0.4948022332205061, 0.4097672248623951, 0.4097672248623951, 0.4948022332205061, 0.4097672248623951, 0.4097672248623951, 0.4097672248623951, 0.4948022332205061, 0.4097672248623951, 0.4097672248623951, 0.3708119469488545, 0.3708119469488545, 0.3708119469488545, 0.3708119469488545, 0.3708119469488545, 0.3708119469488545, 0.3708119469488545, 0.3708119469488545, 0.3708119469488545, 0.3708119469488545, 0.3708119469488545, 0.3708119469488545, 0.3708119469488545, 0.3708119469488545, 0.3708119469488545, 0.5480809051330183, 0.4097672248623951, 0.4948022332205061, 0.5480809051330183, 0.4097672248623951, 0.4948022332205061, 0.5480809051330183, 0.4097672248623951, 0.4097672248623951, 0.4948022332205061, 0.4097672248623951, 0.4948022332205061, 0.5480809051330183, 0.4097672248623951, 0.4097672248623951, 0.4948022332205061, 0.4097672248623951, 0.4097672248623951, 0.4948022332205061, 0.4097672248623951, 0.3708119469488545, 0.3708119469488545, 0.3708119469488545, 0.3708119469488545, 0.3708119469488545, 0.3708119469488545, 0.3708119469488545, 0.3708119469488545, 0.3708119469488545, 0.3708119469488545, 0.3708119469488545, 0.3708119469488545, 0.3708119469488545, 0.3708119469488545, 0.3708119469488545, 0.3708119469488545, 0.3708119469488545, 0.3708119469488545, 0.3708119469488545, 0.3708119469488545, 0.4097672248623951, 0.4948022332205061, 0.5480809051330183, 0.4097672248623951, 0.4097672248623951, 0.4948022332205061, 0.4097672248623951, 0.4097672248623951, 0.4948022332205061, 0.4097672248623951, 0.4097672248623951, 0.4097672248623951, 0.4948022332205061, 0.4097672248623951, 0.4097672248623951, 0.3708119469488545, 0.3708119469488545, 0.3708119469488545, 0.3708119469488545, 0.3708119469488545, 0.3708119469488545, 0.3708119469488545, 0.3708119469488545, 0.3708119469488545, 0.3708119469488545, 0.3708119469488545, 0.3708119469488545, 0.3708119469488545, 0.3708119469488545, 0.3708119469488545, 0.3708119469488545, 0.3708119469488545, 0.3708119469488545, 0.3708119469488545, 0.3708119469488545, 0.4097672248623951, 0.4948022332205061, 0.5506621339027096, 0.4097672248623951, 0.4097672248623951, 0.4948022332205061, 0.4097672248623951, 0.4097672248623951, 0.4948022332205061, 0.4097672248623951, 0.4097672248623951, 0.4097672248623951, 0.4948022332205061, 0.4097672248623951, 0.4097672248623951, 0.3708119469488545, 0.3708119469488545, 0.3708119469488545, 0.3708119469488545, 0.3708119469488545, 0.3708119469488545, 0.3708119469488545, 0.3708119469488545, 0.3708119469488545, 0.3708119469488545, 0.3708119469488545, 0.3708119469488545, 0.3708119469488545, 0.3708119469488545, 0.3708119469488545, 0.4097672248623951, 0.4097672248623951, 0.4948022332205061, 0.4097672248623951, 0.4097672248623951, 0.4097672248623951]\n",
      "Ensemble size 6\n",
      "(%) ensemble with a correct pose 1.0\n",
      "Best RMSDs in ensemble [0.3708119469488545, 0.3708119469488545, 0.3708119469488545, 0.3708119469488545, 0.3708119469488545, 0.3708119469488545, 0.3708119469488545, 0.3708119469488545, 0.3708119469488545, 0.3708119469488545, 0.3708119469488545, 0.3708119469488545, 0.3708119469488545, 0.3708119469488545, 0.3708119469488545, 0.5480809051330183, 0.4097672248623951, 0.4948022332205061, 0.5480809051330183, 0.4097672248623951, 0.4948022332205061, 0.5480809051330183, 0.4097672248623951, 0.4097672248623951, 0.4948022332205061, 0.4097672248623951, 0.4948022332205061, 0.5480809051330183, 0.4097672248623951, 0.4097672248623951, 0.4948022332205061, 0.4097672248623951, 0.4097672248623951, 0.4948022332205061, 0.4097672248623951, 0.3708119469488545, 0.3708119469488545, 0.3708119469488545, 0.3708119469488545, 0.3708119469488545, 0.3708119469488545, 0.3708119469488545, 0.3708119469488545, 0.3708119469488545, 0.3708119469488545, 0.3708119469488545, 0.3708119469488545, 0.3708119469488545, 0.3708119469488545, 0.3708119469488545, 0.3708119469488545, 0.3708119469488545, 0.3708119469488545, 0.3708119469488545, 0.3708119469488545, 0.4097672248623951, 0.4948022332205061, 0.5480809051330183, 0.4097672248623951, 0.4097672248623951, 0.4948022332205061, 0.4097672248623951, 0.4097672248623951, 0.4948022332205061, 0.4097672248623951, 0.4097672248623951, 0.4097672248623951, 0.4948022332205061, 0.4097672248623951, 0.4097672248623951, 0.3708119469488545, 0.3708119469488545, 0.3708119469488545, 0.3708119469488545, 0.3708119469488545, 0.3708119469488545, 0.3708119469488545, 0.3708119469488545, 0.3708119469488545, 0.3708119469488545, 0.3708119469488545, 0.3708119469488545, 0.3708119469488545, 0.3708119469488545, 0.3708119469488545, 0.3708119469488545, 0.3708119469488545, 0.3708119469488545, 0.3708119469488545, 0.3708119469488545, 0.4097672248623951, 0.4948022332205061, 0.5506621339027096, 0.4097672248623951, 0.4097672248623951, 0.4948022332205061, 0.4097672248623951, 0.4097672248623951, 0.4948022332205061, 0.4097672248623951, 0.4097672248623951, 0.4097672248623951, 0.4948022332205061, 0.4097672248623951, 0.4097672248623951, 0.3708119469488545, 0.3708119469488545, 0.3708119469488545, 0.3708119469488545, 0.3708119469488545, 0.3708119469488545, 0.3708119469488545, 0.3708119469488545, 0.3708119469488545, 0.3708119469488545, 0.3708119469488545, 0.3708119469488545, 0.3708119469488545, 0.3708119469488545, 0.3708119469488545, 0.4097672248623951, 0.4097672248623951, 0.4948022332205061, 0.4097672248623951, 0.4097672248623951, 0.4097672248623951, 0.3708119469488545, 0.3708119469488545, 0.3708119469488545, 0.3708119469488545, 0.3708119469488545, 0.3708119469488545, 0.3708119469488545, 0.3708119469488545, 0.3708119469488545, 0.3708119469488545, 0.3708119469488545, 0.3708119469488545, 0.3708119469488545, 0.3708119469488545, 0.3708119469488545, 0.3708119469488545, 0.3708119469488545, 0.3708119469488545, 0.3708119469488545, 0.3708119469488545, 0.4097672248623951, 0.4948022332205061, 0.5480809051330183, 0.4097672248623951, 0.4097672248623951, 0.4948022332205061, 0.4097672248623951, 0.4097672248623951, 0.4948022332205061, 0.4097672248623951, 0.4097672248623951, 0.4097672248623951, 0.4948022332205061, 0.4097672248623951, 0.4097672248623951, 0.3708119469488545, 0.3708119469488545, 0.3708119469488545, 0.3708119469488545, 0.3708119469488545, 0.3708119469488545, 0.3708119469488545, 0.3708119469488545, 0.3708119469488545, 0.3708119469488545, 0.3708119469488545, 0.3708119469488545, 0.3708119469488545, 0.3708119469488545, 0.3708119469488545, 0.4097672248623951, 0.4097672248623951, 0.4948022332205061, 0.4097672248623951, 0.4097672248623951, 0.4097672248623951, 0.3708119469488545, 0.3708119469488545, 0.3708119469488545, 0.3708119469488545, 0.3708119469488545, 0.3708119469488545, 0.3708119469488545, 0.3708119469488545, 0.3708119469488545, 0.3708119469488545, 0.3708119469488545, 0.3708119469488545, 0.3708119469488545, 0.3708119469488545, 0.3708119469488545, 0.4097672248623951, 0.4097672248623951, 0.4948022332205061, 0.4097672248623951, 0.4097672248623951, 0.4097672248623951, 0.3708119469488545, 0.3708119469488545, 0.3708119469488545, 0.3708119469488545, 0.3708119469488545, 0.3708119469488545, 0.4097672248623951]\n",
      "Ensemble size 7\n",
      "(%) ensemble with a correct pose 1.0\n",
      "Best RMSDs in ensemble [0.3708119469488545, 0.3708119469488545, 0.3708119469488545, 0.3708119469488545, 0.3708119469488545, 0.3708119469488545, 0.3708119469488545, 0.3708119469488545, 0.3708119469488545, 0.3708119469488545, 0.3708119469488545, 0.3708119469488545, 0.3708119469488545, 0.3708119469488545, 0.3708119469488545, 0.3708119469488545, 0.3708119469488545, 0.3708119469488545, 0.3708119469488545, 0.3708119469488545, 0.4097672248623951, 0.4948022332205061, 0.5480809051330183, 0.4097672248623951, 0.4097672248623951, 0.4948022332205061, 0.4097672248623951, 0.4097672248623951, 0.4948022332205061, 0.4097672248623951, 0.4097672248623951, 0.4097672248623951, 0.4948022332205061, 0.4097672248623951, 0.4097672248623951, 0.3708119469488545, 0.3708119469488545, 0.3708119469488545, 0.3708119469488545, 0.3708119469488545, 0.3708119469488545, 0.3708119469488545, 0.3708119469488545, 0.3708119469488545, 0.3708119469488545, 0.3708119469488545, 0.3708119469488545, 0.3708119469488545, 0.3708119469488545, 0.3708119469488545, 0.4097672248623951, 0.4097672248623951, 0.4948022332205061, 0.4097672248623951, 0.4097672248623951, 0.4097672248623951, 0.3708119469488545, 0.3708119469488545, 0.3708119469488545, 0.3708119469488545, 0.3708119469488545, 0.3708119469488545, 0.3708119469488545, 0.3708119469488545, 0.3708119469488545, 0.3708119469488545, 0.3708119469488545, 0.3708119469488545, 0.3708119469488545, 0.3708119469488545, 0.3708119469488545, 0.4097672248623951, 0.4097672248623951, 0.4948022332205061, 0.4097672248623951, 0.4097672248623951, 0.4097672248623951, 0.3708119469488545, 0.3708119469488545, 0.3708119469488545, 0.3708119469488545, 0.3708119469488545, 0.3708119469488545, 0.4097672248623951, 0.3708119469488545, 0.3708119469488545, 0.3708119469488545, 0.3708119469488545, 0.3708119469488545, 0.3708119469488545, 0.3708119469488545, 0.3708119469488545, 0.3708119469488545, 0.3708119469488545, 0.3708119469488545, 0.3708119469488545, 0.3708119469488545, 0.3708119469488545, 0.3708119469488545, 0.4097672248623951, 0.4097672248623951, 0.4948022332205061, 0.4097672248623951, 0.4097672248623951, 0.4097672248623951, 0.3708119469488545, 0.3708119469488545, 0.3708119469488545, 0.3708119469488545, 0.3708119469488545, 0.3708119469488545, 0.4097672248623951, 0.3708119469488545, 0.3708119469488545, 0.3708119469488545, 0.3708119469488545, 0.3708119469488545, 0.3708119469488545, 0.4097672248623951, 0.3708119469488545]\n",
      "Ensemble size 8\n",
      "(%) ensemble with a correct pose 1.0\n",
      "Best RMSDs in ensemble [0.3708119469488545, 0.3708119469488545, 0.3708119469488545, 0.3708119469488545, 0.3708119469488545, 0.3708119469488545, 0.3708119469488545, 0.3708119469488545, 0.3708119469488545, 0.3708119469488545, 0.3708119469488545, 0.3708119469488545, 0.3708119469488545, 0.3708119469488545, 0.3708119469488545, 0.4097672248623951, 0.4097672248623951, 0.4948022332205061, 0.4097672248623951, 0.4097672248623951, 0.4097672248623951, 0.3708119469488545, 0.3708119469488545, 0.3708119469488545, 0.3708119469488545, 0.3708119469488545, 0.3708119469488545, 0.4097672248623951, 0.3708119469488545, 0.3708119469488545, 0.3708119469488545, 0.3708119469488545, 0.3708119469488545, 0.3708119469488545, 0.4097672248623951, 0.3708119469488545, 0.3708119469488545, 0.3708119469488545, 0.3708119469488545, 0.3708119469488545, 0.3708119469488545, 0.3708119469488545, 0.4097672248623951, 0.3708119469488545, 0.3708119469488545]\n",
      "Ensemble size 9\n",
      "(%) ensemble with a correct pose 1.0\n",
      "Best RMSDs in ensemble [0.3708119469488545, 0.3708119469488545, 0.3708119469488545, 0.3708119469488545, 0.3708119469488545, 0.3708119469488545, 0.4097672248623951, 0.3708119469488545, 0.3708119469488545, 0.3708119469488545]\n",
      "Ensemble size 10\n",
      "(%) ensemble with a correct pose 1.0\n",
      "Best RMSDs in ensemble [0.3708119469488545]\n"
     ]
    }
   ],
   "source": [
    "from itertools import combinations\n",
    "ligand = \"3DDQ\"\n",
    "res_df = pd.DataFrame({\n",
    "    \"ligand\": [],\n",
    "    \"ensemble_size\": [],\n",
    "    \"correctly_docked\": []\n",
    "})\n",
    "ligands = list(full_dataset[\"ligand_name\"].unique())\n",
    "for ligand in ligands:\n",
    "    # redock result\n",
    "    per_ligand_results = results_pd[results_pd[\"ligand_name\"]==ligand]\n",
    "    ligand_receptors = [ \"{}_receptor_aligned\".format(x) for x in list(full_dataset[full_dataset[\"ligand_name\"]==ligand][\"pdb_code\"].unique())]\n",
    "    per_ligand_rec_t5_results = per_ligand_results #per_ligand_results.sort_values([\"receptor_id\", \"energies\"]).groupby(\"receptor_id\").head(10).reset_index()\n",
    "    redock_results = per_ligand_rec_t5_results[~(per_ligand_rec_t5_results[\"receptor_id\"].isin(ligand_receptors))]\n",
    "    correct_pose_cnt = redock_results[redock_results[\"rmsds\"]<2].shape[0]\n",
    "    print(\"Redock number of <2A poses\")\n",
    "    print(correct_pose_cnt)\n",
    "    if correct_pose_cnt > 0:\n",
    "        print(\"Redock <2A best RMSD\")\n",
    "        print(redock_results[redock_results[\"rmsds\"]<2].sort_values([\"rmsds\"]).iloc[0].rmsds)\n",
    "    # crossdock result\n",
    "    rd_receptor = \"{}_receptor_aligned\".format(ligand.lower())\n",
    "    cd_receptors = [ r for r in list(per_ligand_results[\"receptor_id\"].unique()) if not r in ligand_receptors]\n",
    "    correct_docks = []\n",
    "    for ens_size in range(1, len(cd_receptors)+1):\n",
    "        ens_combos = combinations(cd_receptors, ens_size)\n",
    "        ens_combos_l = list(ens_combos)\n",
    "        ens_i_correct = 0\n",
    "        ens_i_correct_brmsd = []\n",
    "        for ens_combo in ens_combos_l:\n",
    "            ens_combo_l = list(ens_combo)\n",
    "            cd_results = per_ligand_rec_t5_results[per_ligand_rec_t5_results[\"receptor_id\"].isin(ens_combo_l)]\n",
    "            correct_pose_cnt = cd_results[cd_results[\"rmsds\"]<2].shape[0]\n",
    "            if correct_pose_cnt > 1:\n",
    "                ens_i_correct+=1\n",
    "                ens_i_correct_brmsd.append(cd_results[cd_results[\"rmsds\"]<2].sort_values([\"rmsds\"]).iloc[0].rmsds)\n",
    "        \n",
    "        print(\"Ensemble size {}\".format(ens_size))\n",
    "        print(\"(%) ensemble with a correct pose {}\".format(ens_i_correct/len(ens_combos_l)))\n",
    "        print(\"Best RMSDs in ensemble {}\".format(ens_i_correct_brmsd))\n",
    "        correct_docks.append(ens_i_correct/len(ens_combos_l))\n",
    "        res_df = pd.concat([res_df, pd.DataFrame({\n",
    "                                        \"ligand\": [ligand],\n",
    "                                        \"ensemble_size\": [ens_size],\n",
    "                                        \"correctly_docked\": [ens_i_correct/len(ens_combos_l)]\n",
    "                                    })])"
   ]
  },
  {
   "cell_type": "code",
   "execution_count": 98,
   "id": "d8e23d84",
   "metadata": {},
   "outputs": [
    {
     "data": {
      "text/html": [
       "<div>\n",
       "<style scoped>\n",
       "    .dataframe tbody tr th:only-of-type {\n",
       "        vertical-align: middle;\n",
       "    }\n",
       "\n",
       "    .dataframe tbody tr th {\n",
       "        vertical-align: top;\n",
       "    }\n",
       "\n",
       "    .dataframe thead th {\n",
       "        text-align: right;\n",
       "    }\n",
       "</style>\n",
       "<table border=\"1\" class=\"dataframe\">\n",
       "  <thead>\n",
       "    <tr style=\"text-align: right;\">\n",
       "      <th></th>\n",
       "      <th>ligand</th>\n",
       "      <th>ensemble_size</th>\n",
       "      <th>correctly_docked</th>\n",
       "    </tr>\n",
       "  </thead>\n",
       "  <tbody>\n",
       "    <tr>\n",
       "      <th>0</th>\n",
       "      <td>LQ5</td>\n",
       "      <td>1.0</td>\n",
       "      <td>0.000000</td>\n",
       "    </tr>\n",
       "    <tr>\n",
       "      <th>0</th>\n",
       "      <td>LQ5</td>\n",
       "      <td>2.0</td>\n",
       "      <td>0.000000</td>\n",
       "    </tr>\n",
       "    <tr>\n",
       "      <th>0</th>\n",
       "      <td>LQ5</td>\n",
       "      <td>3.0</td>\n",
       "      <td>0.000000</td>\n",
       "    </tr>\n",
       "    <tr>\n",
       "      <th>0</th>\n",
       "      <td>LQ5</td>\n",
       "      <td>4.0</td>\n",
       "      <td>0.000000</td>\n",
       "    </tr>\n",
       "    <tr>\n",
       "      <th>0</th>\n",
       "      <td>LQ5</td>\n",
       "      <td>5.0</td>\n",
       "      <td>0.000000</td>\n",
       "    </tr>\n",
       "    <tr>\n",
       "      <th>0</th>\n",
       "      <td>LQ5</td>\n",
       "      <td>6.0</td>\n",
       "      <td>0.000000</td>\n",
       "    </tr>\n",
       "    <tr>\n",
       "      <th>0</th>\n",
       "      <td>LQ5</td>\n",
       "      <td>7.0</td>\n",
       "      <td>0.000000</td>\n",
       "    </tr>\n",
       "    <tr>\n",
       "      <th>0</th>\n",
       "      <td>LQ5</td>\n",
       "      <td>8.0</td>\n",
       "      <td>0.000000</td>\n",
       "    </tr>\n",
       "    <tr>\n",
       "      <th>0</th>\n",
       "      <td>LQ5</td>\n",
       "      <td>9.0</td>\n",
       "      <td>0.000000</td>\n",
       "    </tr>\n",
       "    <tr>\n",
       "      <th>0</th>\n",
       "      <td>LQ5</td>\n",
       "      <td>10.0</td>\n",
       "      <td>0.000000</td>\n",
       "    </tr>\n",
       "    <tr>\n",
       "      <th>0</th>\n",
       "      <td>dinaciclib</td>\n",
       "      <td>1.0</td>\n",
       "      <td>1.000000</td>\n",
       "    </tr>\n",
       "    <tr>\n",
       "      <th>0</th>\n",
       "      <td>dinaciclib</td>\n",
       "      <td>2.0</td>\n",
       "      <td>1.000000</td>\n",
       "    </tr>\n",
       "    <tr>\n",
       "      <th>0</th>\n",
       "      <td>dinaciclib</td>\n",
       "      <td>3.0</td>\n",
       "      <td>1.000000</td>\n",
       "    </tr>\n",
       "    <tr>\n",
       "      <th>0</th>\n",
       "      <td>dinaciclib</td>\n",
       "      <td>4.0</td>\n",
       "      <td>1.000000</td>\n",
       "    </tr>\n",
       "    <tr>\n",
       "      <th>0</th>\n",
       "      <td>dinaciclib</td>\n",
       "      <td>5.0</td>\n",
       "      <td>1.000000</td>\n",
       "    </tr>\n",
       "    <tr>\n",
       "      <th>0</th>\n",
       "      <td>dinaciclib</td>\n",
       "      <td>6.0</td>\n",
       "      <td>1.000000</td>\n",
       "    </tr>\n",
       "    <tr>\n",
       "      <th>0</th>\n",
       "      <td>dinaciclib</td>\n",
       "      <td>7.0</td>\n",
       "      <td>1.000000</td>\n",
       "    </tr>\n",
       "    <tr>\n",
       "      <th>0</th>\n",
       "      <td>dinaciclib</td>\n",
       "      <td>8.0</td>\n",
       "      <td>1.000000</td>\n",
       "    </tr>\n",
       "    <tr>\n",
       "      <th>0</th>\n",
       "      <td>dinaciclib</td>\n",
       "      <td>9.0</td>\n",
       "      <td>1.000000</td>\n",
       "    </tr>\n",
       "    <tr>\n",
       "      <th>0</th>\n",
       "      <td>dinaciclib</td>\n",
       "      <td>10.0</td>\n",
       "      <td>1.000000</td>\n",
       "    </tr>\n",
       "    <tr>\n",
       "      <th>0</th>\n",
       "      <td>roscovitine</td>\n",
       "      <td>1.0</td>\n",
       "      <td>0.800000</td>\n",
       "    </tr>\n",
       "    <tr>\n",
       "      <th>0</th>\n",
       "      <td>roscovitine</td>\n",
       "      <td>2.0</td>\n",
       "      <td>0.977778</td>\n",
       "    </tr>\n",
       "    <tr>\n",
       "      <th>0</th>\n",
       "      <td>roscovitine</td>\n",
       "      <td>3.0</td>\n",
       "      <td>1.000000</td>\n",
       "    </tr>\n",
       "    <tr>\n",
       "      <th>0</th>\n",
       "      <td>roscovitine</td>\n",
       "      <td>4.0</td>\n",
       "      <td>1.000000</td>\n",
       "    </tr>\n",
       "    <tr>\n",
       "      <th>0</th>\n",
       "      <td>roscovitine</td>\n",
       "      <td>5.0</td>\n",
       "      <td>1.000000</td>\n",
       "    </tr>\n",
       "    <tr>\n",
       "      <th>0</th>\n",
       "      <td>roscovitine</td>\n",
       "      <td>6.0</td>\n",
       "      <td>1.000000</td>\n",
       "    </tr>\n",
       "    <tr>\n",
       "      <th>0</th>\n",
       "      <td>roscovitine</td>\n",
       "      <td>7.0</td>\n",
       "      <td>1.000000</td>\n",
       "    </tr>\n",
       "    <tr>\n",
       "      <th>0</th>\n",
       "      <td>roscovitine</td>\n",
       "      <td>8.0</td>\n",
       "      <td>1.000000</td>\n",
       "    </tr>\n",
       "    <tr>\n",
       "      <th>0</th>\n",
       "      <td>roscovitine</td>\n",
       "      <td>9.0</td>\n",
       "      <td>1.000000</td>\n",
       "    </tr>\n",
       "    <tr>\n",
       "      <th>0</th>\n",
       "      <td>roscovitine</td>\n",
       "      <td>10.0</td>\n",
       "      <td>1.000000</td>\n",
       "    </tr>\n",
       "    <tr>\n",
       "      <th>0</th>\n",
       "      <td>AZ5438</td>\n",
       "      <td>1.0</td>\n",
       "      <td>0.600000</td>\n",
       "    </tr>\n",
       "    <tr>\n",
       "      <th>0</th>\n",
       "      <td>AZ5438</td>\n",
       "      <td>2.0</td>\n",
       "      <td>0.866667</td>\n",
       "    </tr>\n",
       "    <tr>\n",
       "      <th>0</th>\n",
       "      <td>AZ5438</td>\n",
       "      <td>3.0</td>\n",
       "      <td>0.966667</td>\n",
       "    </tr>\n",
       "    <tr>\n",
       "      <th>0</th>\n",
       "      <td>AZ5438</td>\n",
       "      <td>4.0</td>\n",
       "      <td>0.995238</td>\n",
       "    </tr>\n",
       "    <tr>\n",
       "      <th>0</th>\n",
       "      <td>AZ5438</td>\n",
       "      <td>5.0</td>\n",
       "      <td>1.000000</td>\n",
       "    </tr>\n",
       "    <tr>\n",
       "      <th>0</th>\n",
       "      <td>AZ5438</td>\n",
       "      <td>6.0</td>\n",
       "      <td>1.000000</td>\n",
       "    </tr>\n",
       "    <tr>\n",
       "      <th>0</th>\n",
       "      <td>AZ5438</td>\n",
       "      <td>7.0</td>\n",
       "      <td>1.000000</td>\n",
       "    </tr>\n",
       "    <tr>\n",
       "      <th>0</th>\n",
       "      <td>AZ5438</td>\n",
       "      <td>8.0</td>\n",
       "      <td>1.000000</td>\n",
       "    </tr>\n",
       "    <tr>\n",
       "      <th>0</th>\n",
       "      <td>AZ5438</td>\n",
       "      <td>9.0</td>\n",
       "      <td>1.000000</td>\n",
       "    </tr>\n",
       "    <tr>\n",
       "      <th>0</th>\n",
       "      <td>AZ5438</td>\n",
       "      <td>10.0</td>\n",
       "      <td>1.000000</td>\n",
       "    </tr>\n",
       "    <tr>\n",
       "      <th>0</th>\n",
       "      <td>CGP74514A</td>\n",
       "      <td>1.0</td>\n",
       "      <td>0.200000</td>\n",
       "    </tr>\n",
       "    <tr>\n",
       "      <th>0</th>\n",
       "      <td>CGP74514A</td>\n",
       "      <td>2.0</td>\n",
       "      <td>0.511111</td>\n",
       "    </tr>\n",
       "    <tr>\n",
       "      <th>0</th>\n",
       "      <td>CGP74514A</td>\n",
       "      <td>3.0</td>\n",
       "      <td>0.766667</td>\n",
       "    </tr>\n",
       "    <tr>\n",
       "      <th>0</th>\n",
       "      <td>CGP74514A</td>\n",
       "      <td>4.0</td>\n",
       "      <td>0.919048</td>\n",
       "    </tr>\n",
       "    <tr>\n",
       "      <th>0</th>\n",
       "      <td>CGP74514A</td>\n",
       "      <td>5.0</td>\n",
       "      <td>0.984127</td>\n",
       "    </tr>\n",
       "    <tr>\n",
       "      <th>0</th>\n",
       "      <td>CGP74514A</td>\n",
       "      <td>6.0</td>\n",
       "      <td>1.000000</td>\n",
       "    </tr>\n",
       "    <tr>\n",
       "      <th>0</th>\n",
       "      <td>CGP74514A</td>\n",
       "      <td>7.0</td>\n",
       "      <td>1.000000</td>\n",
       "    </tr>\n",
       "    <tr>\n",
       "      <th>0</th>\n",
       "      <td>CGP74514A</td>\n",
       "      <td>8.0</td>\n",
       "      <td>1.000000</td>\n",
       "    </tr>\n",
       "    <tr>\n",
       "      <th>0</th>\n",
       "      <td>CGP74514A</td>\n",
       "      <td>9.0</td>\n",
       "      <td>1.000000</td>\n",
       "    </tr>\n",
       "    <tr>\n",
       "      <th>0</th>\n",
       "      <td>CGP74514A</td>\n",
       "      <td>10.0</td>\n",
       "      <td>1.000000</td>\n",
       "    </tr>\n",
       "    <tr>\n",
       "      <th>0</th>\n",
       "      <td>flavopiridol</td>\n",
       "      <td>1.0</td>\n",
       "      <td>1.000000</td>\n",
       "    </tr>\n",
       "    <tr>\n",
       "      <th>0</th>\n",
       "      <td>flavopiridol</td>\n",
       "      <td>2.0</td>\n",
       "      <td>1.000000</td>\n",
       "    </tr>\n",
       "    <tr>\n",
       "      <th>0</th>\n",
       "      <td>flavopiridol</td>\n",
       "      <td>3.0</td>\n",
       "      <td>1.000000</td>\n",
       "    </tr>\n",
       "    <tr>\n",
       "      <th>0</th>\n",
       "      <td>flavopiridol</td>\n",
       "      <td>4.0</td>\n",
       "      <td>1.000000</td>\n",
       "    </tr>\n",
       "    <tr>\n",
       "      <th>0</th>\n",
       "      <td>flavopiridol</td>\n",
       "      <td>5.0</td>\n",
       "      <td>1.000000</td>\n",
       "    </tr>\n",
       "    <tr>\n",
       "      <th>0</th>\n",
       "      <td>flavopiridol</td>\n",
       "      <td>6.0</td>\n",
       "      <td>1.000000</td>\n",
       "    </tr>\n",
       "    <tr>\n",
       "      <th>0</th>\n",
       "      <td>flavopiridol</td>\n",
       "      <td>7.0</td>\n",
       "      <td>1.000000</td>\n",
       "    </tr>\n",
       "    <tr>\n",
       "      <th>0</th>\n",
       "      <td>flavopiridol</td>\n",
       "      <td>8.0</td>\n",
       "      <td>1.000000</td>\n",
       "    </tr>\n",
       "    <tr>\n",
       "      <th>0</th>\n",
       "      <td>flavopiridol</td>\n",
       "      <td>9.0</td>\n",
       "      <td>1.000000</td>\n",
       "    </tr>\n",
       "    <tr>\n",
       "      <th>0</th>\n",
       "      <td>flavopiridol</td>\n",
       "      <td>10.0</td>\n",
       "      <td>1.000000</td>\n",
       "    </tr>\n",
       "  </tbody>\n",
       "</table>\n",
       "</div>"
      ],
      "text/plain": [
       "         ligand  ensemble_size  correctly_docked\n",
       "0           LQ5            1.0          0.000000\n",
       "0           LQ5            2.0          0.000000\n",
       "0           LQ5            3.0          0.000000\n",
       "0           LQ5            4.0          0.000000\n",
       "0           LQ5            5.0          0.000000\n",
       "0           LQ5            6.0          0.000000\n",
       "0           LQ5            7.0          0.000000\n",
       "0           LQ5            8.0          0.000000\n",
       "0           LQ5            9.0          0.000000\n",
       "0           LQ5           10.0          0.000000\n",
       "0    dinaciclib            1.0          1.000000\n",
       "0    dinaciclib            2.0          1.000000\n",
       "0    dinaciclib            3.0          1.000000\n",
       "0    dinaciclib            4.0          1.000000\n",
       "0    dinaciclib            5.0          1.000000\n",
       "0    dinaciclib            6.0          1.000000\n",
       "0    dinaciclib            7.0          1.000000\n",
       "0    dinaciclib            8.0          1.000000\n",
       "0    dinaciclib            9.0          1.000000\n",
       "0    dinaciclib           10.0          1.000000\n",
       "0   roscovitine            1.0          0.800000\n",
       "0   roscovitine            2.0          0.977778\n",
       "0   roscovitine            3.0          1.000000\n",
       "0   roscovitine            4.0          1.000000\n",
       "0   roscovitine            5.0          1.000000\n",
       "0   roscovitine            6.0          1.000000\n",
       "0   roscovitine            7.0          1.000000\n",
       "0   roscovitine            8.0          1.000000\n",
       "0   roscovitine            9.0          1.000000\n",
       "0   roscovitine           10.0          1.000000\n",
       "0        AZ5438            1.0          0.600000\n",
       "0        AZ5438            2.0          0.866667\n",
       "0        AZ5438            3.0          0.966667\n",
       "0        AZ5438            4.0          0.995238\n",
       "0        AZ5438            5.0          1.000000\n",
       "0        AZ5438            6.0          1.000000\n",
       "0        AZ5438            7.0          1.000000\n",
       "0        AZ5438            8.0          1.000000\n",
       "0        AZ5438            9.0          1.000000\n",
       "0        AZ5438           10.0          1.000000\n",
       "0     CGP74514A            1.0          0.200000\n",
       "0     CGP74514A            2.0          0.511111\n",
       "0     CGP74514A            3.0          0.766667\n",
       "0     CGP74514A            4.0          0.919048\n",
       "0     CGP74514A            5.0          0.984127\n",
       "0     CGP74514A            6.0          1.000000\n",
       "0     CGP74514A            7.0          1.000000\n",
       "0     CGP74514A            8.0          1.000000\n",
       "0     CGP74514A            9.0          1.000000\n",
       "0     CGP74514A           10.0          1.000000\n",
       "0  flavopiridol            1.0          1.000000\n",
       "0  flavopiridol            2.0          1.000000\n",
       "0  flavopiridol            3.0          1.000000\n",
       "0  flavopiridol            4.0          1.000000\n",
       "0  flavopiridol            5.0          1.000000\n",
       "0  flavopiridol            6.0          1.000000\n",
       "0  flavopiridol            7.0          1.000000\n",
       "0  flavopiridol            8.0          1.000000\n",
       "0  flavopiridol            9.0          1.000000\n",
       "0  flavopiridol           10.0          1.000000"
      ]
     },
     "execution_count": 98,
     "metadata": {},
     "output_type": "execute_result"
    }
   ],
   "source": [
    "res_df"
   ]
  },
  {
   "cell_type": "code",
   "execution_count": 100,
   "id": "c520fe0b",
   "metadata": {},
   "outputs": [
    {
     "data": {
      "application/vnd.plotly.v1+json": {
       "config": {
        "plotlyServerURL": "https://plot.ly"
       },
       "data": [
        {
         "hovertemplate": "ligand=LQ5<br>ensemble_size=%{x}<br>correctly_docked=%{y}<extra></extra>",
         "legendgroup": "LQ5",
         "line": {
          "color": "#46039f",
          "dash": "solid"
         },
         "marker": {
          "symbol": "circle"
         },
         "mode": "markers+lines",
         "name": "LQ5",
         "orientation": "v",
         "showlegend": true,
         "type": "scatter",
         "x": [
          1,
          2,
          3,
          4,
          5,
          6,
          7,
          8,
          9,
          10
         ],
         "xaxis": "x",
         "y": [
          0,
          0,
          0,
          0,
          0,
          0,
          0,
          0,
          0,
          0
         ],
         "yaxis": "y"
        },
        {
         "hovertemplate": "ligand=dinaciclib<br>ensemble_size=%{x}<br>correctly_docked=%{y}<extra></extra>",
         "legendgroup": "dinaciclib",
         "line": {
          "color": "#7201a8",
          "dash": "solid"
         },
         "marker": {
          "symbol": "circle"
         },
         "mode": "markers+lines",
         "name": "dinaciclib",
         "orientation": "v",
         "showlegend": true,
         "type": "scatter",
         "x": [
          1,
          2,
          3,
          4,
          5,
          6,
          7,
          8,
          9,
          10
         ],
         "xaxis": "x",
         "y": [
          1,
          1,
          1,
          1,
          1,
          1,
          1,
          1,
          1,
          1
         ],
         "yaxis": "y"
        },
        {
         "hovertemplate": "ligand=roscovitine<br>ensemble_size=%{x}<br>correctly_docked=%{y}<extra></extra>",
         "legendgroup": "roscovitine",
         "line": {
          "color": "#9c179e",
          "dash": "solid"
         },
         "marker": {
          "symbol": "circle"
         },
         "mode": "markers+lines",
         "name": "roscovitine",
         "orientation": "v",
         "showlegend": true,
         "type": "scatter",
         "x": [
          1,
          2,
          3,
          4,
          5,
          6,
          7,
          8,
          9,
          10
         ],
         "xaxis": "x",
         "y": [
          0.8,
          0.9777777777777777,
          1,
          1,
          1,
          1,
          1,
          1,
          1,
          1
         ],
         "yaxis": "y"
        },
        {
         "hovertemplate": "ligand=AZ5438<br>ensemble_size=%{x}<br>correctly_docked=%{y}<extra></extra>",
         "legendgroup": "AZ5438",
         "line": {
          "color": "#bd3786",
          "dash": "solid"
         },
         "marker": {
          "symbol": "circle"
         },
         "mode": "markers+lines",
         "name": "AZ5438",
         "orientation": "v",
         "showlegend": true,
         "type": "scatter",
         "x": [
          1,
          2,
          3,
          4,
          5,
          6,
          7,
          8,
          9,
          10
         ],
         "xaxis": "x",
         "y": [
          0.6,
          0.8666666666666667,
          0.9666666666666667,
          0.9952380952380953,
          1,
          1,
          1,
          1,
          1,
          1
         ],
         "yaxis": "y"
        },
        {
         "hovertemplate": "ligand=CGP74514A<br>ensemble_size=%{x}<br>correctly_docked=%{y}<extra></extra>",
         "legendgroup": "CGP74514A",
         "line": {
          "color": "#d8576b",
          "dash": "solid"
         },
         "marker": {
          "symbol": "circle"
         },
         "mode": "markers+lines",
         "name": "CGP74514A",
         "orientation": "v",
         "showlegend": true,
         "type": "scatter",
         "x": [
          1,
          2,
          3,
          4,
          5,
          6,
          7,
          8,
          9,
          10
         ],
         "xaxis": "x",
         "y": [
          0.2,
          0.5111111111111111,
          0.7666666666666667,
          0.919047619047619,
          0.9841269841269841,
          1,
          1,
          1,
          1,
          1
         ],
         "yaxis": "y"
        },
        {
         "hovertemplate": "ligand=flavopiridol<br>ensemble_size=%{x}<br>correctly_docked=%{y}<extra></extra>",
         "legendgroup": "flavopiridol",
         "line": {
          "color": "#ed7953",
          "dash": "solid"
         },
         "marker": {
          "symbol": "circle"
         },
         "mode": "markers+lines",
         "name": "flavopiridol",
         "orientation": "v",
         "showlegend": true,
         "type": "scatter",
         "x": [
          1,
          2,
          3,
          4,
          5,
          6,
          7,
          8,
          9,
          10
         ],
         "xaxis": "x",
         "y": [
          1,
          1,
          1,
          1,
          1,
          1,
          1,
          1,
          1,
          1
         ],
         "yaxis": "y"
        }
       ],
       "layout": {
        "height": 500,
        "legend": {
         "title": {
          "text": "ligand"
         },
         "tracegroupgap": 0
        },
        "margin": {
         "t": 60
        },
        "template": {
         "data": {
          "bar": [
           {
            "error_x": {
             "color": "rgb(51,51,51)"
            },
            "error_y": {
             "color": "rgb(51,51,51)"
            },
            "marker": {
             "line": {
              "color": "rgb(237,237,237)",
              "width": 0.5
             },
             "pattern": {
              "fillmode": "overlay",
              "size": 10,
              "solidity": 0.2
             }
            },
            "type": "bar"
           }
          ],
          "barpolar": [
           {
            "marker": {
             "line": {
              "color": "rgb(237,237,237)",
              "width": 0.5
             },
             "pattern": {
              "fillmode": "overlay",
              "size": 10,
              "solidity": 0.2
             }
            },
            "type": "barpolar"
           }
          ],
          "carpet": [
           {
            "aaxis": {
             "endlinecolor": "rgb(51,51,51)",
             "gridcolor": "white",
             "linecolor": "white",
             "minorgridcolor": "white",
             "startlinecolor": "rgb(51,51,51)"
            },
            "baxis": {
             "endlinecolor": "rgb(51,51,51)",
             "gridcolor": "white",
             "linecolor": "white",
             "minorgridcolor": "white",
             "startlinecolor": "rgb(51,51,51)"
            },
            "type": "carpet"
           }
          ],
          "choropleth": [
           {
            "colorbar": {
             "outlinewidth": 0,
             "tickcolor": "rgb(237,237,237)",
             "ticklen": 6,
             "ticks": "inside"
            },
            "type": "choropleth"
           }
          ],
          "contour": [
           {
            "colorbar": {
             "outlinewidth": 0,
             "tickcolor": "rgb(237,237,237)",
             "ticklen": 6,
             "ticks": "inside"
            },
            "colorscale": [
             [
              0,
              "rgb(20,44,66)"
             ],
             [
              1,
              "rgb(90,179,244)"
             ]
            ],
            "type": "contour"
           }
          ],
          "contourcarpet": [
           {
            "colorbar": {
             "outlinewidth": 0,
             "tickcolor": "rgb(237,237,237)",
             "ticklen": 6,
             "ticks": "inside"
            },
            "type": "contourcarpet"
           }
          ],
          "heatmap": [
           {
            "colorbar": {
             "outlinewidth": 0,
             "tickcolor": "rgb(237,237,237)",
             "ticklen": 6,
             "ticks": "inside"
            },
            "colorscale": [
             [
              0,
              "rgb(20,44,66)"
             ],
             [
              1,
              "rgb(90,179,244)"
             ]
            ],
            "type": "heatmap"
           }
          ],
          "heatmapgl": [
           {
            "colorbar": {
             "outlinewidth": 0,
             "tickcolor": "rgb(237,237,237)",
             "ticklen": 6,
             "ticks": "inside"
            },
            "colorscale": [
             [
              0,
              "rgb(20,44,66)"
             ],
             [
              1,
              "rgb(90,179,244)"
             ]
            ],
            "type": "heatmapgl"
           }
          ],
          "histogram": [
           {
            "marker": {
             "pattern": {
              "fillmode": "overlay",
              "size": 10,
              "solidity": 0.2
             }
            },
            "type": "histogram"
           }
          ],
          "histogram2d": [
           {
            "colorbar": {
             "outlinewidth": 0,
             "tickcolor": "rgb(237,237,237)",
             "ticklen": 6,
             "ticks": "inside"
            },
            "colorscale": [
             [
              0,
              "rgb(20,44,66)"
             ],
             [
              1,
              "rgb(90,179,244)"
             ]
            ],
            "type": "histogram2d"
           }
          ],
          "histogram2dcontour": [
           {
            "colorbar": {
             "outlinewidth": 0,
             "tickcolor": "rgb(237,237,237)",
             "ticklen": 6,
             "ticks": "inside"
            },
            "colorscale": [
             [
              0,
              "rgb(20,44,66)"
             ],
             [
              1,
              "rgb(90,179,244)"
             ]
            ],
            "type": "histogram2dcontour"
           }
          ],
          "mesh3d": [
           {
            "colorbar": {
             "outlinewidth": 0,
             "tickcolor": "rgb(237,237,237)",
             "ticklen": 6,
             "ticks": "inside"
            },
            "type": "mesh3d"
           }
          ],
          "parcoords": [
           {
            "line": {
             "colorbar": {
              "outlinewidth": 0,
              "tickcolor": "rgb(237,237,237)",
              "ticklen": 6,
              "ticks": "inside"
             }
            },
            "type": "parcoords"
           }
          ],
          "pie": [
           {
            "automargin": true,
            "type": "pie"
           }
          ],
          "scatter": [
           {
            "fillpattern": {
             "fillmode": "overlay",
             "size": 10,
             "solidity": 0.2
            },
            "type": "scatter"
           }
          ],
          "scatter3d": [
           {
            "line": {
             "colorbar": {
              "outlinewidth": 0,
              "tickcolor": "rgb(237,237,237)",
              "ticklen": 6,
              "ticks": "inside"
             }
            },
            "marker": {
             "colorbar": {
              "outlinewidth": 0,
              "tickcolor": "rgb(237,237,237)",
              "ticklen": 6,
              "ticks": "inside"
             }
            },
            "type": "scatter3d"
           }
          ],
          "scattercarpet": [
           {
            "marker": {
             "colorbar": {
              "outlinewidth": 0,
              "tickcolor": "rgb(237,237,237)",
              "ticklen": 6,
              "ticks": "inside"
             }
            },
            "type": "scattercarpet"
           }
          ],
          "scattergeo": [
           {
            "marker": {
             "colorbar": {
              "outlinewidth": 0,
              "tickcolor": "rgb(237,237,237)",
              "ticklen": 6,
              "ticks": "inside"
             }
            },
            "type": "scattergeo"
           }
          ],
          "scattergl": [
           {
            "marker": {
             "colorbar": {
              "outlinewidth": 0,
              "tickcolor": "rgb(237,237,237)",
              "ticklen": 6,
              "ticks": "inside"
             }
            },
            "type": "scattergl"
           }
          ],
          "scattermapbox": [
           {
            "marker": {
             "colorbar": {
              "outlinewidth": 0,
              "tickcolor": "rgb(237,237,237)",
              "ticklen": 6,
              "ticks": "inside"
             }
            },
            "type": "scattermapbox"
           }
          ],
          "scatterpolar": [
           {
            "marker": {
             "colorbar": {
              "outlinewidth": 0,
              "tickcolor": "rgb(237,237,237)",
              "ticklen": 6,
              "ticks": "inside"
             }
            },
            "type": "scatterpolar"
           }
          ],
          "scatterpolargl": [
           {
            "marker": {
             "colorbar": {
              "outlinewidth": 0,
              "tickcolor": "rgb(237,237,237)",
              "ticklen": 6,
              "ticks": "inside"
             }
            },
            "type": "scatterpolargl"
           }
          ],
          "scatterternary": [
           {
            "marker": {
             "colorbar": {
              "outlinewidth": 0,
              "tickcolor": "rgb(237,237,237)",
              "ticklen": 6,
              "ticks": "inside"
             }
            },
            "type": "scatterternary"
           }
          ],
          "surface": [
           {
            "colorbar": {
             "outlinewidth": 0,
             "tickcolor": "rgb(237,237,237)",
             "ticklen": 6,
             "ticks": "inside"
            },
            "colorscale": [
             [
              0,
              "rgb(20,44,66)"
             ],
             [
              1,
              "rgb(90,179,244)"
             ]
            ],
            "type": "surface"
           }
          ],
          "table": [
           {
            "cells": {
             "fill": {
              "color": "rgb(237,237,237)"
             },
             "line": {
              "color": "white"
             }
            },
            "header": {
             "fill": {
              "color": "rgb(217,217,217)"
             },
             "line": {
              "color": "white"
             }
            },
            "type": "table"
           }
          ]
         },
         "layout": {
          "annotationdefaults": {
           "arrowhead": 0,
           "arrowwidth": 1
          },
          "autotypenumbers": "strict",
          "coloraxis": {
           "colorbar": {
            "outlinewidth": 0,
            "tickcolor": "rgb(237,237,237)",
            "ticklen": 6,
            "ticks": "inside"
           }
          },
          "colorscale": {
           "sequential": [
            [
             0,
             "rgb(20,44,66)"
            ],
            [
             1,
             "rgb(90,179,244)"
            ]
           ],
           "sequentialminus": [
            [
             0,
             "rgb(20,44,66)"
            ],
            [
             1,
             "rgb(90,179,244)"
            ]
           ]
          },
          "colorway": [
           "#F8766D",
           "#A3A500",
           "#00BF7D",
           "#00B0F6",
           "#E76BF3"
          ],
          "font": {
           "color": "rgb(51,51,51)"
          },
          "geo": {
           "bgcolor": "white",
           "lakecolor": "white",
           "landcolor": "rgb(237,237,237)",
           "showlakes": true,
           "showland": true,
           "subunitcolor": "white"
          },
          "hoverlabel": {
           "align": "left"
          },
          "hovermode": "closest",
          "paper_bgcolor": "white",
          "plot_bgcolor": "rgb(237,237,237)",
          "polar": {
           "angularaxis": {
            "gridcolor": "white",
            "linecolor": "white",
            "showgrid": true,
            "tickcolor": "rgb(51,51,51)",
            "ticks": "outside"
           },
           "bgcolor": "rgb(237,237,237)",
           "radialaxis": {
            "gridcolor": "white",
            "linecolor": "white",
            "showgrid": true,
            "tickcolor": "rgb(51,51,51)",
            "ticks": "outside"
           }
          },
          "scene": {
           "xaxis": {
            "backgroundcolor": "rgb(237,237,237)",
            "gridcolor": "white",
            "gridwidth": 2,
            "linecolor": "white",
            "showbackground": true,
            "showgrid": true,
            "tickcolor": "rgb(51,51,51)",
            "ticks": "outside",
            "zerolinecolor": "white"
           },
           "yaxis": {
            "backgroundcolor": "rgb(237,237,237)",
            "gridcolor": "white",
            "gridwidth": 2,
            "linecolor": "white",
            "showbackground": true,
            "showgrid": true,
            "tickcolor": "rgb(51,51,51)",
            "ticks": "outside",
            "zerolinecolor": "white"
           },
           "zaxis": {
            "backgroundcolor": "rgb(237,237,237)",
            "gridcolor": "white",
            "gridwidth": 2,
            "linecolor": "white",
            "showbackground": true,
            "showgrid": true,
            "tickcolor": "rgb(51,51,51)",
            "ticks": "outside",
            "zerolinecolor": "white"
           }
          },
          "shapedefaults": {
           "fillcolor": "black",
           "line": {
            "width": 0
           },
           "opacity": 0.3
          },
          "ternary": {
           "aaxis": {
            "gridcolor": "white",
            "linecolor": "white",
            "showgrid": true,
            "tickcolor": "rgb(51,51,51)",
            "ticks": "outside"
           },
           "baxis": {
            "gridcolor": "white",
            "linecolor": "white",
            "showgrid": true,
            "tickcolor": "rgb(51,51,51)",
            "ticks": "outside"
           },
           "bgcolor": "rgb(237,237,237)",
           "caxis": {
            "gridcolor": "white",
            "linecolor": "white",
            "showgrid": true,
            "tickcolor": "rgb(51,51,51)",
            "ticks": "outside"
           }
          },
          "xaxis": {
           "automargin": true,
           "gridcolor": "white",
           "linecolor": "white",
           "showgrid": true,
           "tickcolor": "rgb(51,51,51)",
           "ticks": "outside",
           "title": {
            "standoff": 15
           },
           "zerolinecolor": "white"
          },
          "yaxis": {
           "automargin": true,
           "gridcolor": "white",
           "linecolor": "white",
           "showgrid": true,
           "tickcolor": "rgb(51,51,51)",
           "ticks": "outside",
           "title": {
            "standoff": 15
           },
           "zerolinecolor": "white"
          }
         }
        },
        "width": 600,
        "xaxis": {
         "anchor": "y",
         "domain": [
          0,
          1
         ],
         "title": {
          "text": "Ensemble size"
         }
        },
        "yaxis": {
         "anchor": "x",
         "domain": [
          0,
          1
         ],
         "title": {
          "text": "% of ensembles with poses <2 Å"
         }
        }
       }
      },
      "text/html": [
       "<div>                            <div id=\"0f52bfa9-bd5c-47d8-8ffe-d0f04f164f7d\" class=\"plotly-graph-div\" style=\"height:500px; width:600px;\"></div>            <script type=\"text/javascript\">                require([\"plotly\"], function(Plotly) {                    window.PLOTLYENV=window.PLOTLYENV || {};                                    if (document.getElementById(\"0f52bfa9-bd5c-47d8-8ffe-d0f04f164f7d\")) {                    Plotly.newPlot(                        \"0f52bfa9-bd5c-47d8-8ffe-d0f04f164f7d\",                        [{\"hovertemplate\":\"ligand=LQ5\\u003cbr\\u003eensemble_size=%{x}\\u003cbr\\u003ecorrectly_docked=%{y}\\u003cextra\\u003e\\u003c\\u002fextra\\u003e\",\"legendgroup\":\"LQ5\",\"line\":{\"color\":\"#46039f\",\"dash\":\"solid\"},\"marker\":{\"symbol\":\"circle\"},\"mode\":\"markers+lines\",\"name\":\"LQ5\",\"orientation\":\"v\",\"showlegend\":true,\"x\":[1.0,2.0,3.0,4.0,5.0,6.0,7.0,8.0,9.0,10.0],\"xaxis\":\"x\",\"y\":[0.0,0.0,0.0,0.0,0.0,0.0,0.0,0.0,0.0,0.0],\"yaxis\":\"y\",\"type\":\"scatter\"},{\"hovertemplate\":\"ligand=dinaciclib\\u003cbr\\u003eensemble_size=%{x}\\u003cbr\\u003ecorrectly_docked=%{y}\\u003cextra\\u003e\\u003c\\u002fextra\\u003e\",\"legendgroup\":\"dinaciclib\",\"line\":{\"color\":\"#7201a8\",\"dash\":\"solid\"},\"marker\":{\"symbol\":\"circle\"},\"mode\":\"markers+lines\",\"name\":\"dinaciclib\",\"orientation\":\"v\",\"showlegend\":true,\"x\":[1.0,2.0,3.0,4.0,5.0,6.0,7.0,8.0,9.0,10.0],\"xaxis\":\"x\",\"y\":[1.0,1.0,1.0,1.0,1.0,1.0,1.0,1.0,1.0,1.0],\"yaxis\":\"y\",\"type\":\"scatter\"},{\"hovertemplate\":\"ligand=roscovitine\\u003cbr\\u003eensemble_size=%{x}\\u003cbr\\u003ecorrectly_docked=%{y}\\u003cextra\\u003e\\u003c\\u002fextra\\u003e\",\"legendgroup\":\"roscovitine\",\"line\":{\"color\":\"#9c179e\",\"dash\":\"solid\"},\"marker\":{\"symbol\":\"circle\"},\"mode\":\"markers+lines\",\"name\":\"roscovitine\",\"orientation\":\"v\",\"showlegend\":true,\"x\":[1.0,2.0,3.0,4.0,5.0,6.0,7.0,8.0,9.0,10.0],\"xaxis\":\"x\",\"y\":[0.8,0.9777777777777777,1.0,1.0,1.0,1.0,1.0,1.0,1.0,1.0],\"yaxis\":\"y\",\"type\":\"scatter\"},{\"hovertemplate\":\"ligand=AZ5438\\u003cbr\\u003eensemble_size=%{x}\\u003cbr\\u003ecorrectly_docked=%{y}\\u003cextra\\u003e\\u003c\\u002fextra\\u003e\",\"legendgroup\":\"AZ5438\",\"line\":{\"color\":\"#bd3786\",\"dash\":\"solid\"},\"marker\":{\"symbol\":\"circle\"},\"mode\":\"markers+lines\",\"name\":\"AZ5438\",\"orientation\":\"v\",\"showlegend\":true,\"x\":[1.0,2.0,3.0,4.0,5.0,6.0,7.0,8.0,9.0,10.0],\"xaxis\":\"x\",\"y\":[0.6,0.8666666666666667,0.9666666666666667,0.9952380952380953,1.0,1.0,1.0,1.0,1.0,1.0],\"yaxis\":\"y\",\"type\":\"scatter\"},{\"hovertemplate\":\"ligand=CGP74514A\\u003cbr\\u003eensemble_size=%{x}\\u003cbr\\u003ecorrectly_docked=%{y}\\u003cextra\\u003e\\u003c\\u002fextra\\u003e\",\"legendgroup\":\"CGP74514A\",\"line\":{\"color\":\"#d8576b\",\"dash\":\"solid\"},\"marker\":{\"symbol\":\"circle\"},\"mode\":\"markers+lines\",\"name\":\"CGP74514A\",\"orientation\":\"v\",\"showlegend\":true,\"x\":[1.0,2.0,3.0,4.0,5.0,6.0,7.0,8.0,9.0,10.0],\"xaxis\":\"x\",\"y\":[0.2,0.5111111111111111,0.7666666666666667,0.919047619047619,0.9841269841269841,1.0,1.0,1.0,1.0,1.0],\"yaxis\":\"y\",\"type\":\"scatter\"},{\"hovertemplate\":\"ligand=flavopiridol\\u003cbr\\u003eensemble_size=%{x}\\u003cbr\\u003ecorrectly_docked=%{y}\\u003cextra\\u003e\\u003c\\u002fextra\\u003e\",\"legendgroup\":\"flavopiridol\",\"line\":{\"color\":\"#ed7953\",\"dash\":\"solid\"},\"marker\":{\"symbol\":\"circle\"},\"mode\":\"markers+lines\",\"name\":\"flavopiridol\",\"orientation\":\"v\",\"showlegend\":true,\"x\":[1.0,2.0,3.0,4.0,5.0,6.0,7.0,8.0,9.0,10.0],\"xaxis\":\"x\",\"y\":[1.0,1.0,1.0,1.0,1.0,1.0,1.0,1.0,1.0,1.0],\"yaxis\":\"y\",\"type\":\"scatter\"}],                        {\"template\":{\"data\":{\"barpolar\":[{\"marker\":{\"line\":{\"color\":\"rgb(237,237,237)\",\"width\":0.5},\"pattern\":{\"fillmode\":\"overlay\",\"size\":10,\"solidity\":0.2}},\"type\":\"barpolar\"}],\"bar\":[{\"error_x\":{\"color\":\"rgb(51,51,51)\"},\"error_y\":{\"color\":\"rgb(51,51,51)\"},\"marker\":{\"line\":{\"color\":\"rgb(237,237,237)\",\"width\":0.5},\"pattern\":{\"fillmode\":\"overlay\",\"size\":10,\"solidity\":0.2}},\"type\":\"bar\"}],\"carpet\":[{\"aaxis\":{\"endlinecolor\":\"rgb(51,51,51)\",\"gridcolor\":\"white\",\"linecolor\":\"white\",\"minorgridcolor\":\"white\",\"startlinecolor\":\"rgb(51,51,51)\"},\"baxis\":{\"endlinecolor\":\"rgb(51,51,51)\",\"gridcolor\":\"white\",\"linecolor\":\"white\",\"minorgridcolor\":\"white\",\"startlinecolor\":\"rgb(51,51,51)\"},\"type\":\"carpet\"}],\"choropleth\":[{\"colorbar\":{\"outlinewidth\":0,\"tickcolor\":\"rgb(237,237,237)\",\"ticklen\":6,\"ticks\":\"inside\"},\"type\":\"choropleth\"}],\"contourcarpet\":[{\"colorbar\":{\"outlinewidth\":0,\"tickcolor\":\"rgb(237,237,237)\",\"ticklen\":6,\"ticks\":\"inside\"},\"type\":\"contourcarpet\"}],\"contour\":[{\"colorbar\":{\"outlinewidth\":0,\"tickcolor\":\"rgb(237,237,237)\",\"ticklen\":6,\"ticks\":\"inside\"},\"colorscale\":[[0,\"rgb(20,44,66)\"],[1,\"rgb(90,179,244)\"]],\"type\":\"contour\"}],\"heatmapgl\":[{\"colorbar\":{\"outlinewidth\":0,\"tickcolor\":\"rgb(237,237,237)\",\"ticklen\":6,\"ticks\":\"inside\"},\"colorscale\":[[0,\"rgb(20,44,66)\"],[1,\"rgb(90,179,244)\"]],\"type\":\"heatmapgl\"}],\"heatmap\":[{\"colorbar\":{\"outlinewidth\":0,\"tickcolor\":\"rgb(237,237,237)\",\"ticklen\":6,\"ticks\":\"inside\"},\"colorscale\":[[0,\"rgb(20,44,66)\"],[1,\"rgb(90,179,244)\"]],\"type\":\"heatmap\"}],\"histogram2dcontour\":[{\"colorbar\":{\"outlinewidth\":0,\"tickcolor\":\"rgb(237,237,237)\",\"ticklen\":6,\"ticks\":\"inside\"},\"colorscale\":[[0,\"rgb(20,44,66)\"],[1,\"rgb(90,179,244)\"]],\"type\":\"histogram2dcontour\"}],\"histogram2d\":[{\"colorbar\":{\"outlinewidth\":0,\"tickcolor\":\"rgb(237,237,237)\",\"ticklen\":6,\"ticks\":\"inside\"},\"colorscale\":[[0,\"rgb(20,44,66)\"],[1,\"rgb(90,179,244)\"]],\"type\":\"histogram2d\"}],\"histogram\":[{\"marker\":{\"pattern\":{\"fillmode\":\"overlay\",\"size\":10,\"solidity\":0.2}},\"type\":\"histogram\"}],\"mesh3d\":[{\"colorbar\":{\"outlinewidth\":0,\"tickcolor\":\"rgb(237,237,237)\",\"ticklen\":6,\"ticks\":\"inside\"},\"type\":\"mesh3d\"}],\"parcoords\":[{\"line\":{\"colorbar\":{\"outlinewidth\":0,\"tickcolor\":\"rgb(237,237,237)\",\"ticklen\":6,\"ticks\":\"inside\"}},\"type\":\"parcoords\"}],\"pie\":[{\"automargin\":true,\"type\":\"pie\"}],\"scatter3d\":[{\"line\":{\"colorbar\":{\"outlinewidth\":0,\"tickcolor\":\"rgb(237,237,237)\",\"ticklen\":6,\"ticks\":\"inside\"}},\"marker\":{\"colorbar\":{\"outlinewidth\":0,\"tickcolor\":\"rgb(237,237,237)\",\"ticklen\":6,\"ticks\":\"inside\"}},\"type\":\"scatter3d\"}],\"scattercarpet\":[{\"marker\":{\"colorbar\":{\"outlinewidth\":0,\"tickcolor\":\"rgb(237,237,237)\",\"ticklen\":6,\"ticks\":\"inside\"}},\"type\":\"scattercarpet\"}],\"scattergeo\":[{\"marker\":{\"colorbar\":{\"outlinewidth\":0,\"tickcolor\":\"rgb(237,237,237)\",\"ticklen\":6,\"ticks\":\"inside\"}},\"type\":\"scattergeo\"}],\"scattergl\":[{\"marker\":{\"colorbar\":{\"outlinewidth\":0,\"tickcolor\":\"rgb(237,237,237)\",\"ticklen\":6,\"ticks\":\"inside\"}},\"type\":\"scattergl\"}],\"scattermapbox\":[{\"marker\":{\"colorbar\":{\"outlinewidth\":0,\"tickcolor\":\"rgb(237,237,237)\",\"ticklen\":6,\"ticks\":\"inside\"}},\"type\":\"scattermapbox\"}],\"scatterpolargl\":[{\"marker\":{\"colorbar\":{\"outlinewidth\":0,\"tickcolor\":\"rgb(237,237,237)\",\"ticklen\":6,\"ticks\":\"inside\"}},\"type\":\"scatterpolargl\"}],\"scatterpolar\":[{\"marker\":{\"colorbar\":{\"outlinewidth\":0,\"tickcolor\":\"rgb(237,237,237)\",\"ticklen\":6,\"ticks\":\"inside\"}},\"type\":\"scatterpolar\"}],\"scatter\":[{\"fillpattern\":{\"fillmode\":\"overlay\",\"size\":10,\"solidity\":0.2},\"type\":\"scatter\"}],\"scatterternary\":[{\"marker\":{\"colorbar\":{\"outlinewidth\":0,\"tickcolor\":\"rgb(237,237,237)\",\"ticklen\":6,\"ticks\":\"inside\"}},\"type\":\"scatterternary\"}],\"surface\":[{\"colorbar\":{\"outlinewidth\":0,\"tickcolor\":\"rgb(237,237,237)\",\"ticklen\":6,\"ticks\":\"inside\"},\"colorscale\":[[0,\"rgb(20,44,66)\"],[1,\"rgb(90,179,244)\"]],\"type\":\"surface\"}],\"table\":[{\"cells\":{\"fill\":{\"color\":\"rgb(237,237,237)\"},\"line\":{\"color\":\"white\"}},\"header\":{\"fill\":{\"color\":\"rgb(217,217,217)\"},\"line\":{\"color\":\"white\"}},\"type\":\"table\"}]},\"layout\":{\"annotationdefaults\":{\"arrowhead\":0,\"arrowwidth\":1},\"autotypenumbers\":\"strict\",\"coloraxis\":{\"colorbar\":{\"outlinewidth\":0,\"tickcolor\":\"rgb(237,237,237)\",\"ticklen\":6,\"ticks\":\"inside\"}},\"colorscale\":{\"sequential\":[[0,\"rgb(20,44,66)\"],[1,\"rgb(90,179,244)\"]],\"sequentialminus\":[[0,\"rgb(20,44,66)\"],[1,\"rgb(90,179,244)\"]]},\"colorway\":[\"#F8766D\",\"#A3A500\",\"#00BF7D\",\"#00B0F6\",\"#E76BF3\"],\"font\":{\"color\":\"rgb(51,51,51)\"},\"geo\":{\"bgcolor\":\"white\",\"lakecolor\":\"white\",\"landcolor\":\"rgb(237,237,237)\",\"showlakes\":true,\"showland\":true,\"subunitcolor\":\"white\"},\"hoverlabel\":{\"align\":\"left\"},\"hovermode\":\"closest\",\"paper_bgcolor\":\"white\",\"plot_bgcolor\":\"rgb(237,237,237)\",\"polar\":{\"angularaxis\":{\"gridcolor\":\"white\",\"linecolor\":\"white\",\"showgrid\":true,\"tickcolor\":\"rgb(51,51,51)\",\"ticks\":\"outside\"},\"bgcolor\":\"rgb(237,237,237)\",\"radialaxis\":{\"gridcolor\":\"white\",\"linecolor\":\"white\",\"showgrid\":true,\"tickcolor\":\"rgb(51,51,51)\",\"ticks\":\"outside\"}},\"scene\":{\"xaxis\":{\"backgroundcolor\":\"rgb(237,237,237)\",\"gridcolor\":\"white\",\"gridwidth\":2,\"linecolor\":\"white\",\"showbackground\":true,\"showgrid\":true,\"tickcolor\":\"rgb(51,51,51)\",\"ticks\":\"outside\",\"zerolinecolor\":\"white\"},\"yaxis\":{\"backgroundcolor\":\"rgb(237,237,237)\",\"gridcolor\":\"white\",\"gridwidth\":2,\"linecolor\":\"white\",\"showbackground\":true,\"showgrid\":true,\"tickcolor\":\"rgb(51,51,51)\",\"ticks\":\"outside\",\"zerolinecolor\":\"white\"},\"zaxis\":{\"backgroundcolor\":\"rgb(237,237,237)\",\"gridcolor\":\"white\",\"gridwidth\":2,\"linecolor\":\"white\",\"showbackground\":true,\"showgrid\":true,\"tickcolor\":\"rgb(51,51,51)\",\"ticks\":\"outside\",\"zerolinecolor\":\"white\"}},\"shapedefaults\":{\"fillcolor\":\"black\",\"line\":{\"width\":0},\"opacity\":0.3},\"ternary\":{\"aaxis\":{\"gridcolor\":\"white\",\"linecolor\":\"white\",\"showgrid\":true,\"tickcolor\":\"rgb(51,51,51)\",\"ticks\":\"outside\"},\"baxis\":{\"gridcolor\":\"white\",\"linecolor\":\"white\",\"showgrid\":true,\"tickcolor\":\"rgb(51,51,51)\",\"ticks\":\"outside\"},\"bgcolor\":\"rgb(237,237,237)\",\"caxis\":{\"gridcolor\":\"white\",\"linecolor\":\"white\",\"showgrid\":true,\"tickcolor\":\"rgb(51,51,51)\",\"ticks\":\"outside\"}},\"xaxis\":{\"automargin\":true,\"gridcolor\":\"white\",\"linecolor\":\"white\",\"showgrid\":true,\"tickcolor\":\"rgb(51,51,51)\",\"ticks\":\"outside\",\"title\":{\"standoff\":15},\"zerolinecolor\":\"white\"},\"yaxis\":{\"automargin\":true,\"gridcolor\":\"white\",\"linecolor\":\"white\",\"showgrid\":true,\"tickcolor\":\"rgb(51,51,51)\",\"ticks\":\"outside\",\"title\":{\"standoff\":15},\"zerolinecolor\":\"white\"}}},\"xaxis\":{\"anchor\":\"y\",\"domain\":[0.0,1.0],\"title\":{\"text\":\"Ensemble size\"}},\"yaxis\":{\"anchor\":\"x\",\"domain\":[0.0,1.0],\"title\":{\"text\":\"% of ensembles with poses \\u003c2 \\u00c5\"}},\"legend\":{\"title\":{\"text\":\"ligand\"},\"tracegroupgap\":0},\"margin\":{\"t\":60},\"height\":500,\"width\":600},                        {\"responsive\": true}                    ).then(function(){\n",
       "                            \n",
       "var gd = document.getElementById('0f52bfa9-bd5c-47d8-8ffe-d0f04f164f7d');\n",
       "var x = new MutationObserver(function (mutations, observer) {{\n",
       "        var display = window.getComputedStyle(gd).display;\n",
       "        if (!display || display === 'none') {{\n",
       "            console.log([gd, 'removed!']);\n",
       "            Plotly.purge(gd);\n",
       "            observer.disconnect();\n",
       "        }}\n",
       "}});\n",
       "\n",
       "// Listen for the removal of the full notebook cells\n",
       "var notebookContainer = gd.closest('#notebook-container');\n",
       "if (notebookContainer) {{\n",
       "    x.observe(notebookContainer, {childList: true});\n",
       "}}\n",
       "\n",
       "// Listen for the clearing of the current output cell\n",
       "var outputEl = gd.closest('.output');\n",
       "if (outputEl) {{\n",
       "    x.observe(outputEl, {childList: true});\n",
       "}}\n",
       "\n",
       "                        })                };                });            </script>        </div>"
      ]
     },
     "metadata": {},
     "output_type": "display_data"
    }
   ],
   "source": [
    "import plotly.express as px\n",
    "fig = px.line(res_df, x=\"ensemble_size\", y=\"correctly_docked\", \n",
    "        color=\"ligand\", template=\"ggplot2\", width = 600, height=500, \n",
    "        color_discrete_sequence=px.colors.sequential.Plasma[1::1],\n",
    "        markers=True,)\n",
    "fig.update_layout(\n",
    "    yaxis_title=\"% of ensembles with poses <2 Å\",\n",
    "    xaxis_title=\"Ensemble size\"\n",
    ")"
   ]
  },
  {
   "cell_type": "code",
   "execution_count": 66,
   "id": "c2d4f0bf",
   "metadata": {},
   "outputs": [
    {
     "data": {
      "text/html": [
       "<div>\n",
       "<style scoped>\n",
       "    .dataframe tbody tr th:only-of-type {\n",
       "        vertical-align: middle;\n",
       "    }\n",
       "\n",
       "    .dataframe tbody tr th {\n",
       "        vertical-align: top;\n",
       "    }\n",
       "\n",
       "    .dataframe thead th {\n",
       "        text-align: right;\n",
       "    }\n",
       "</style>\n",
       "<table border=\"1\" class=\"dataframe\">\n",
       "  <thead>\n",
       "    <tr style=\"text-align: right;\">\n",
       "      <th></th>\n",
       "      <th>ligand</th>\n",
       "      <th>ensemble_size</th>\n",
       "      <th>correctly_docked</th>\n",
       "    </tr>\n",
       "  </thead>\n",
       "  <tbody>\n",
       "    <tr>\n",
       "      <th>0</th>\n",
       "      <td>5A14</td>\n",
       "      <td>1.0</td>\n",
       "      <td>0.0</td>\n",
       "    </tr>\n",
       "    <tr>\n",
       "      <th>0</th>\n",
       "      <td>5A14</td>\n",
       "      <td>2.0</td>\n",
       "      <td>0.0</td>\n",
       "    </tr>\n",
       "    <tr>\n",
       "      <th>0</th>\n",
       "      <td>5A14</td>\n",
       "      <td>3.0</td>\n",
       "      <td>0.0</td>\n",
       "    </tr>\n",
       "    <tr>\n",
       "      <th>0</th>\n",
       "      <td>5A14</td>\n",
       "      <td>4.0</td>\n",
       "      <td>0.0</td>\n",
       "    </tr>\n",
       "    <tr>\n",
       "      <th>0</th>\n",
       "      <td>5A14</td>\n",
       "      <td>5.0</td>\n",
       "      <td>0.0</td>\n",
       "    </tr>\n",
       "    <tr>\n",
       "      <th>...</th>\n",
       "      <td>...</td>\n",
       "      <td>...</td>\n",
       "      <td>...</td>\n",
       "    </tr>\n",
       "    <tr>\n",
       "      <th>0</th>\n",
       "      <td>6GUB</td>\n",
       "      <td>5.0</td>\n",
       "      <td>1.0</td>\n",
       "    </tr>\n",
       "    <tr>\n",
       "      <th>0</th>\n",
       "      <td>6GUB</td>\n",
       "      <td>6.0</td>\n",
       "      <td>1.0</td>\n",
       "    </tr>\n",
       "    <tr>\n",
       "      <th>0</th>\n",
       "      <td>6GUB</td>\n",
       "      <td>7.0</td>\n",
       "      <td>1.0</td>\n",
       "    </tr>\n",
       "    <tr>\n",
       "      <th>0</th>\n",
       "      <td>6GUB</td>\n",
       "      <td>8.0</td>\n",
       "      <td>1.0</td>\n",
       "    </tr>\n",
       "    <tr>\n",
       "      <th>0</th>\n",
       "      <td>6GUB</td>\n",
       "      <td>9.0</td>\n",
       "      <td>1.0</td>\n",
       "    </tr>\n",
       "  </tbody>\n",
       "</table>\n",
       "<p>90 rows × 3 columns</p>\n",
       "</div>"
      ],
      "text/plain": [
       "   ligand  ensemble_size  correctly_docked\n",
       "0    5A14            1.0               0.0\n",
       "0    5A14            2.0               0.0\n",
       "0    5A14            3.0               0.0\n",
       "0    5A14            4.0               0.0\n",
       "0    5A14            5.0               0.0\n",
       "..    ...            ...               ...\n",
       "0    6GUB            5.0               1.0\n",
       "0    6GUB            6.0               1.0\n",
       "0    6GUB            7.0               1.0\n",
       "0    6GUB            8.0               1.0\n",
       "0    6GUB            9.0               1.0\n",
       "\n",
       "[90 rows x 3 columns]"
      ]
     },
     "execution_count": 66,
     "metadata": {},
     "output_type": "execute_result"
    }
   ],
   "source": [
    "res_df"
   ]
  },
  {
   "cell_type": "code",
   "execution_count": 28,
   "id": "81ecc512",
   "metadata": {},
   "outputs": [
    {
     "data": {
      "text/html": [
       "<div>\n",
       "<style scoped>\n",
       "    .dataframe tbody tr th:only-of-type {\n",
       "        vertical-align: middle;\n",
       "    }\n",
       "\n",
       "    .dataframe tbody tr th {\n",
       "        vertical-align: top;\n",
       "    }\n",
       "\n",
       "    .dataframe thead th {\n",
       "        text-align: right;\n",
       "    }\n",
       "</style>\n",
       "<table border=\"1\" class=\"dataframe\">\n",
       "  <thead>\n",
       "    <tr style=\"text-align: right;\">\n",
       "      <th></th>\n",
       "      <th>level_0</th>\n",
       "      <th>Unnamed: 0.2</th>\n",
       "      <th>index</th>\n",
       "      <th>Unnamed: 0.1</th>\n",
       "      <th>energies</th>\n",
       "      <th>rmsds</th>\n",
       "      <th>model_id</th>\n",
       "      <th>replica_id</th>\n",
       "      <th>receptor_id</th>\n",
       "      <th>fragment_id</th>\n",
       "      <th>thread_id</th>\n",
       "      <th>Unnamed: 0</th>\n",
       "      <th>clust_energy_rank</th>\n",
       "      <th>clust_size_rank</th>\n",
       "      <th>job_id</th>\n",
       "      <th>pdb_id</th>\n",
       "    </tr>\n",
       "  </thead>\n",
       "  <tbody>\n",
       "    <tr>\n",
       "      <th>0</th>\n",
       "      <td>1</td>\n",
       "      <td>1</td>\n",
       "      <td>4</td>\n",
       "      <td>0</td>\n",
       "      <td>-9.269</td>\n",
       "      <td>1.758240</td>\n",
       "      <td>0.0</td>\n",
       "      <td>2.0</td>\n",
       "      <td>6guh_receptor_aligned</td>\n",
       "      <td>2.0</td>\n",
       "      <td>2.0</td>\n",
       "      <td>0.0</td>\n",
       "      <td>1</td>\n",
       "      <td>1</td>\n",
       "      <td>job_6guh_receptor_aligned_3ddq_ligand</td>\n",
       "      <td>3DDQ</td>\n",
       "    </tr>\n",
       "    <tr>\n",
       "      <th>1</th>\n",
       "      <td>2</td>\n",
       "      <td>2</td>\n",
       "      <td>8</td>\n",
       "      <td>0</td>\n",
       "      <td>-9.260</td>\n",
       "      <td>7.550465</td>\n",
       "      <td>0.0</td>\n",
       "      <td>1.0</td>\n",
       "      <td>5a14_receptor_aligned</td>\n",
       "      <td>2.0</td>\n",
       "      <td>1.0</td>\n",
       "      <td>0.0</td>\n",
       "      <td>1</td>\n",
       "      <td>8</td>\n",
       "      <td>job_5a14_receptor_aligned_3ddq_ligand</td>\n",
       "      <td>3DDQ</td>\n",
       "    </tr>\n",
       "    <tr>\n",
       "      <th>2</th>\n",
       "      <td>5</td>\n",
       "      <td>5</td>\n",
       "      <td>20</td>\n",
       "      <td>1</td>\n",
       "      <td>-9.222</td>\n",
       "      <td>1.605867</td>\n",
       "      <td>1.0</td>\n",
       "      <td>1.0</td>\n",
       "      <td>5a14_receptor_aligned</td>\n",
       "      <td>2.0</td>\n",
       "      <td>1.0</td>\n",
       "      <td>1.0</td>\n",
       "      <td>1</td>\n",
       "      <td>3</td>\n",
       "      <td>job_5a14_receptor_aligned_3ddq_ligand</td>\n",
       "      <td>3DDQ</td>\n",
       "    </tr>\n",
       "    <tr>\n",
       "      <th>3</th>\n",
       "      <td>6</td>\n",
       "      <td>6</td>\n",
       "      <td>24</td>\n",
       "      <td>0</td>\n",
       "      <td>-9.197</td>\n",
       "      <td>7.496868</td>\n",
       "      <td>0.0</td>\n",
       "      <td>0.0</td>\n",
       "      <td>3pj8_receptor_aligned</td>\n",
       "      <td>2.0</td>\n",
       "      <td>0.0</td>\n",
       "      <td>0.0</td>\n",
       "      <td>1</td>\n",
       "      <td>1</td>\n",
       "      <td>job_3pj8_receptor_aligned_3ddq_ligand</td>\n",
       "      <td>3DDQ</td>\n",
       "    </tr>\n",
       "    <tr>\n",
       "      <th>4</th>\n",
       "      <td>7</td>\n",
       "      <td>7</td>\n",
       "      <td>28</td>\n",
       "      <td>1</td>\n",
       "      <td>-9.178</td>\n",
       "      <td>4.413904</td>\n",
       "      <td>0.0</td>\n",
       "      <td>0.0</td>\n",
       "      <td>6guh_receptor_aligned</td>\n",
       "      <td>2.0</td>\n",
       "      <td>0.0</td>\n",
       "      <td>0.0</td>\n",
       "      <td>1</td>\n",
       "      <td>3</td>\n",
       "      <td>job_6guh_receptor_aligned_3ddq_ligand</td>\n",
       "      <td>3DDQ</td>\n",
       "    </tr>\n",
       "    <tr>\n",
       "      <th>5</th>\n",
       "      <td>9</td>\n",
       "      <td>9</td>\n",
       "      <td>36</td>\n",
       "      <td>2</td>\n",
       "      <td>-9.128</td>\n",
       "      <td>6.593075</td>\n",
       "      <td>1.0</td>\n",
       "      <td>2.0</td>\n",
       "      <td>6guh_receptor_aligned</td>\n",
       "      <td>2.0</td>\n",
       "      <td>2.0</td>\n",
       "      <td>1.0</td>\n",
       "      <td>1</td>\n",
       "      <td>5</td>\n",
       "      <td>job_6guh_receptor_aligned_3ddq_ligand</td>\n",
       "      <td>3DDQ</td>\n",
       "    </tr>\n",
       "    <tr>\n",
       "      <th>6</th>\n",
       "      <td>10</td>\n",
       "      <td>10</td>\n",
       "      <td>40</td>\n",
       "      <td>2</td>\n",
       "      <td>-9.128</td>\n",
       "      <td>7.198771</td>\n",
       "      <td>2.0</td>\n",
       "      <td>1.0</td>\n",
       "      <td>5a14_receptor_aligned</td>\n",
       "      <td>2.0</td>\n",
       "      <td>1.0</td>\n",
       "      <td>2.0</td>\n",
       "      <td>2</td>\n",
       "      <td>8</td>\n",
       "      <td>job_5a14_receptor_aligned_3ddq_ligand</td>\n",
       "      <td>3DDQ</td>\n",
       "    </tr>\n",
       "    <tr>\n",
       "      <th>7</th>\n",
       "      <td>11</td>\n",
       "      <td>11</td>\n",
       "      <td>44</td>\n",
       "      <td>3</td>\n",
       "      <td>-9.123</td>\n",
       "      <td>6.254670</td>\n",
       "      <td>2.0</td>\n",
       "      <td>2.0</td>\n",
       "      <td>6guh_receptor_aligned</td>\n",
       "      <td>2.0</td>\n",
       "      <td>2.0</td>\n",
       "      <td>2.0</td>\n",
       "      <td>1</td>\n",
       "      <td>6</td>\n",
       "      <td>job_6guh_receptor_aligned_3ddq_ligand</td>\n",
       "      <td>3DDQ</td>\n",
       "    </tr>\n",
       "    <tr>\n",
       "      <th>8</th>\n",
       "      <td>12</td>\n",
       "      <td>12</td>\n",
       "      <td>48</td>\n",
       "      <td>3</td>\n",
       "      <td>-9.084</td>\n",
       "      <td>7.544315</td>\n",
       "      <td>3.0</td>\n",
       "      <td>1.0</td>\n",
       "      <td>5a14_receptor_aligned</td>\n",
       "      <td>2.0</td>\n",
       "      <td>1.0</td>\n",
       "      <td>3.0</td>\n",
       "      <td>1</td>\n",
       "      <td>9</td>\n",
       "      <td>job_5a14_receptor_aligned_3ddq_ligand</td>\n",
       "      <td>3DDQ</td>\n",
       "    </tr>\n",
       "    <tr>\n",
       "      <th>9</th>\n",
       "      <td>13</td>\n",
       "      <td>13</td>\n",
       "      <td>52</td>\n",
       "      <td>4</td>\n",
       "      <td>-9.082</td>\n",
       "      <td>6.607444</td>\n",
       "      <td>4.0</td>\n",
       "      <td>1.0</td>\n",
       "      <td>5a14_receptor_aligned</td>\n",
       "      <td>2.0</td>\n",
       "      <td>1.0</td>\n",
       "      <td>4.0</td>\n",
       "      <td>1</td>\n",
       "      <td>1</td>\n",
       "      <td>job_5a14_receptor_aligned_3ddq_ligand</td>\n",
       "      <td>3DDQ</td>\n",
       "    </tr>\n",
       "    <tr>\n",
       "      <th>10</th>\n",
       "      <td>16</td>\n",
       "      <td>16</td>\n",
       "      <td>64</td>\n",
       "      <td>4</td>\n",
       "      <td>-9.030</td>\n",
       "      <td>7.325980</td>\n",
       "      <td>1.0</td>\n",
       "      <td>0.0</td>\n",
       "      <td>6guh_receptor_aligned</td>\n",
       "      <td>2.0</td>\n",
       "      <td>0.0</td>\n",
       "      <td>1.0</td>\n",
       "      <td>1</td>\n",
       "      <td>7</td>\n",
       "      <td>job_6guh_receptor_aligned_3ddq_ligand</td>\n",
       "      <td>3DDQ</td>\n",
       "    </tr>\n",
       "    <tr>\n",
       "      <th>11</th>\n",
       "      <td>17</td>\n",
       "      <td>17</td>\n",
       "      <td>68</td>\n",
       "      <td>0</td>\n",
       "      <td>-9.020</td>\n",
       "      <td>7.489985</td>\n",
       "      <td>0.0</td>\n",
       "      <td>0.0</td>\n",
       "      <td>6gub_receptor_aligned</td>\n",
       "      <td>2.0</td>\n",
       "      <td>0.0</td>\n",
       "      <td>0.0</td>\n",
       "      <td>1</td>\n",
       "      <td>3</td>\n",
       "      <td>job_6gub_receptor_aligned_3ddq_ligand</td>\n",
       "      <td>3DDQ</td>\n",
       "    </tr>\n",
       "    <tr>\n",
       "      <th>13</th>\n",
       "      <td>19</td>\n",
       "      <td>19</td>\n",
       "      <td>76</td>\n",
       "      <td>0</td>\n",
       "      <td>-8.986</td>\n",
       "      <td>7.604515</td>\n",
       "      <td>0.0</td>\n",
       "      <td>0.0</td>\n",
       "      <td>5l2w_receptor_aligned</td>\n",
       "      <td>2.0</td>\n",
       "      <td>0.0</td>\n",
       "      <td>0.0</td>\n",
       "      <td>1</td>\n",
       "      <td>1</td>\n",
       "      <td>job_5l2w_receptor_aligned_3ddq_ligand</td>\n",
       "      <td>3DDQ</td>\n",
       "    </tr>\n",
       "    <tr>\n",
       "      <th>14</th>\n",
       "      <td>21</td>\n",
       "      <td>21</td>\n",
       "      <td>84</td>\n",
       "      <td>0</td>\n",
       "      <td>-8.964</td>\n",
       "      <td>6.625891</td>\n",
       "      <td>0.0</td>\n",
       "      <td>2.0</td>\n",
       "      <td>6guf_receptor_aligned</td>\n",
       "      <td>2.0</td>\n",
       "      <td>2.0</td>\n",
       "      <td>0.0</td>\n",
       "      <td>1</td>\n",
       "      <td>10</td>\n",
       "      <td>job_6guf_receptor_aligned_3ddq_ligand</td>\n",
       "      <td>3DDQ</td>\n",
       "    </tr>\n",
       "    <tr>\n",
       "      <th>15</th>\n",
       "      <td>23</td>\n",
       "      <td>23</td>\n",
       "      <td>92</td>\n",
       "      <td>1</td>\n",
       "      <td>-8.919</td>\n",
       "      <td>7.397601</td>\n",
       "      <td>0.0</td>\n",
       "      <td>1.0</td>\n",
       "      <td>6guf_receptor_aligned</td>\n",
       "      <td>2.0</td>\n",
       "      <td>1.0</td>\n",
       "      <td>0.0</td>\n",
       "      <td>1</td>\n",
       "      <td>1</td>\n",
       "      <td>job_6guf_receptor_aligned_3ddq_ligand</td>\n",
       "      <td>3DDQ</td>\n",
       "    </tr>\n",
       "    <tr>\n",
       "      <th>16</th>\n",
       "      <td>24</td>\n",
       "      <td>24</td>\n",
       "      <td>96</td>\n",
       "      <td>1</td>\n",
       "      <td>-8.915</td>\n",
       "      <td>7.655725</td>\n",
       "      <td>0.0</td>\n",
       "      <td>2.0</td>\n",
       "      <td>5l2w_receptor_aligned</td>\n",
       "      <td>2.0</td>\n",
       "      <td>2.0</td>\n",
       "      <td>0.0</td>\n",
       "      <td>1</td>\n",
       "      <td>12</td>\n",
       "      <td>job_5l2w_receptor_aligned_3ddq_ligand</td>\n",
       "      <td>3DDQ</td>\n",
       "    </tr>\n",
       "    <tr>\n",
       "      <th>18</th>\n",
       "      <td>26</td>\n",
       "      <td>26</td>\n",
       "      <td>104</td>\n",
       "      <td>0</td>\n",
       "      <td>-8.899</td>\n",
       "      <td>7.572387</td>\n",
       "      <td>0.0</td>\n",
       "      <td>1.0</td>\n",
       "      <td>6guk_receptor_aligned</td>\n",
       "      <td>2.0</td>\n",
       "      <td>1.0</td>\n",
       "      <td>0.0</td>\n",
       "      <td>1</td>\n",
       "      <td>3</td>\n",
       "      <td>job_6guk_receptor_aligned_3ddq_ligand</td>\n",
       "      <td>3DDQ</td>\n",
       "    </tr>\n",
       "    <tr>\n",
       "      <th>22</th>\n",
       "      <td>32</td>\n",
       "      <td>32</td>\n",
       "      <td>128</td>\n",
       "      <td>1</td>\n",
       "      <td>-8.821</td>\n",
       "      <td>7.560097</td>\n",
       "      <td>0.0</td>\n",
       "      <td>2.0</td>\n",
       "      <td>6gub_receptor_aligned</td>\n",
       "      <td>2.0</td>\n",
       "      <td>2.0</td>\n",
       "      <td>0.0</td>\n",
       "      <td>2</td>\n",
       "      <td>3</td>\n",
       "      <td>job_6gub_receptor_aligned_3ddq_ligand</td>\n",
       "      <td>3DDQ</td>\n",
       "    </tr>\n",
       "    <tr>\n",
       "      <th>25</th>\n",
       "      <td>36</td>\n",
       "      <td>36</td>\n",
       "      <td>144</td>\n",
       "      <td>0</td>\n",
       "      <td>-8.780</td>\n",
       "      <td>7.367174</td>\n",
       "      <td>0.0</td>\n",
       "      <td>2.0</td>\n",
       "      <td>4kd1_receptor_aligned</td>\n",
       "      <td>2.0</td>\n",
       "      <td>2.0</td>\n",
       "      <td>0.0</td>\n",
       "      <td>1</td>\n",
       "      <td>3</td>\n",
       "      <td>job_4kd1_receptor_aligned_3ddq_ligand</td>\n",
       "      <td>3DDQ</td>\n",
       "    </tr>\n",
       "    <tr>\n",
       "      <th>28</th>\n",
       "      <td>43</td>\n",
       "      <td>43</td>\n",
       "      <td>172</td>\n",
       "      <td>2</td>\n",
       "      <td>-8.734</td>\n",
       "      <td>6.758336</td>\n",
       "      <td>0.0</td>\n",
       "      <td>3.0</td>\n",
       "      <td>6guf_receptor_aligned</td>\n",
       "      <td>2.0</td>\n",
       "      <td>3.0</td>\n",
       "      <td>0.0</td>\n",
       "      <td>1</td>\n",
       "      <td>3</td>\n",
       "      <td>job_6guf_receptor_aligned_3ddq_ligand</td>\n",
       "      <td>3DDQ</td>\n",
       "    </tr>\n",
       "    <tr>\n",
       "      <th>29</th>\n",
       "      <td>46</td>\n",
       "      <td>46</td>\n",
       "      <td>184</td>\n",
       "      <td>2</td>\n",
       "      <td>-8.716</td>\n",
       "      <td>6.350584</td>\n",
       "      <td>1.0</td>\n",
       "      <td>2.0</td>\n",
       "      <td>6gub_receptor_aligned</td>\n",
       "      <td>2.0</td>\n",
       "      <td>2.0</td>\n",
       "      <td>1.0</td>\n",
       "      <td>1</td>\n",
       "      <td>14</td>\n",
       "      <td>job_6gub_receptor_aligned_3ddq_ligand</td>\n",
       "      <td>3DDQ</td>\n",
       "    </tr>\n",
       "    <tr>\n",
       "      <th>31</th>\n",
       "      <td>51</td>\n",
       "      <td>51</td>\n",
       "      <td>204</td>\n",
       "      <td>1</td>\n",
       "      <td>-8.664</td>\n",
       "      <td>7.520171</td>\n",
       "      <td>0.0</td>\n",
       "      <td>2.0</td>\n",
       "      <td>6guk_receptor_aligned</td>\n",
       "      <td>2.0</td>\n",
       "      <td>2.0</td>\n",
       "      <td>0.0</td>\n",
       "      <td>1</td>\n",
       "      <td>9</td>\n",
       "      <td>job_6guk_receptor_aligned_3ddq_ligand</td>\n",
       "      <td>3DDQ</td>\n",
       "    </tr>\n",
       "    <tr>\n",
       "      <th>34</th>\n",
       "      <td>55</td>\n",
       "      <td>55</td>\n",
       "      <td>220</td>\n",
       "      <td>2</td>\n",
       "      <td>-8.623</td>\n",
       "      <td>2.082457</td>\n",
       "      <td>0.0</td>\n",
       "      <td>1.0</td>\n",
       "      <td>5l2w_receptor_aligned</td>\n",
       "      <td>2.0</td>\n",
       "      <td>1.0</td>\n",
       "      <td>0.0</td>\n",
       "      <td>1</td>\n",
       "      <td>4</td>\n",
       "      <td>job_5l2w_receptor_aligned_3ddq_ligand</td>\n",
       "      <td>3DDQ</td>\n",
       "    </tr>\n",
       "    <tr>\n",
       "      <th>35</th>\n",
       "      <td>58</td>\n",
       "      <td>58</td>\n",
       "      <td>232</td>\n",
       "      <td>1</td>\n",
       "      <td>-8.595</td>\n",
       "      <td>6.844716</td>\n",
       "      <td>0.0</td>\n",
       "      <td>2.0</td>\n",
       "      <td>3pj8_receptor_aligned</td>\n",
       "      <td>2.0</td>\n",
       "      <td>2.0</td>\n",
       "      <td>0.0</td>\n",
       "      <td>1</td>\n",
       "      <td>9</td>\n",
       "      <td>job_3pj8_receptor_aligned_3ddq_ligand</td>\n",
       "      <td>3DDQ</td>\n",
       "    </tr>\n",
       "    <tr>\n",
       "      <th>36</th>\n",
       "      <td>59</td>\n",
       "      <td>59</td>\n",
       "      <td>236</td>\n",
       "      <td>3</td>\n",
       "      <td>-8.592</td>\n",
       "      <td>7.478768</td>\n",
       "      <td>0.0</td>\n",
       "      <td>3.0</td>\n",
       "      <td>6gub_receptor_aligned</td>\n",
       "      <td>2.0</td>\n",
       "      <td>3.0</td>\n",
       "      <td>0.0</td>\n",
       "      <td>1</td>\n",
       "      <td>4</td>\n",
       "      <td>job_6gub_receptor_aligned_3ddq_ligand</td>\n",
       "      <td>3DDQ</td>\n",
       "    </tr>\n",
       "    <tr>\n",
       "      <th>37</th>\n",
       "      <td>60</td>\n",
       "      <td>60</td>\n",
       "      <td>240</td>\n",
       "      <td>2</td>\n",
       "      <td>-8.564</td>\n",
       "      <td>7.802845</td>\n",
       "      <td>1.0</td>\n",
       "      <td>1.0</td>\n",
       "      <td>6guk_receptor_aligned</td>\n",
       "      <td>2.0</td>\n",
       "      <td>1.0</td>\n",
       "      <td>1.0</td>\n",
       "      <td>2</td>\n",
       "      <td>3</td>\n",
       "      <td>job_6guk_receptor_aligned_3ddq_ligand</td>\n",
       "      <td>3DDQ</td>\n",
       "    </tr>\n",
       "    <tr>\n",
       "      <th>42</th>\n",
       "      <td>67</td>\n",
       "      <td>67</td>\n",
       "      <td>268</td>\n",
       "      <td>2</td>\n",
       "      <td>-8.507</td>\n",
       "      <td>6.687664</td>\n",
       "      <td>1.0</td>\n",
       "      <td>0.0</td>\n",
       "      <td>3pj8_receptor_aligned</td>\n",
       "      <td>2.0</td>\n",
       "      <td>0.0</td>\n",
       "      <td>1.0</td>\n",
       "      <td>1</td>\n",
       "      <td>2</td>\n",
       "      <td>job_3pj8_receptor_aligned_3ddq_ligand</td>\n",
       "      <td>3DDQ</td>\n",
       "    </tr>\n",
       "    <tr>\n",
       "      <th>44</th>\n",
       "      <td>70</td>\n",
       "      <td>70</td>\n",
       "      <td>280</td>\n",
       "      <td>4</td>\n",
       "      <td>-8.491</td>\n",
       "      <td>6.695264</td>\n",
       "      <td>2.0</td>\n",
       "      <td>2.0</td>\n",
       "      <td>6gub_receptor_aligned</td>\n",
       "      <td>2.0</td>\n",
       "      <td>2.0</td>\n",
       "      <td>2.0</td>\n",
       "      <td>1</td>\n",
       "      <td>1</td>\n",
       "      <td>job_6gub_receptor_aligned_3ddq_ligand</td>\n",
       "      <td>3DDQ</td>\n",
       "    </tr>\n",
       "    <tr>\n",
       "      <th>45</th>\n",
       "      <td>71</td>\n",
       "      <td>71</td>\n",
       "      <td>284</td>\n",
       "      <td>3</td>\n",
       "      <td>-8.471</td>\n",
       "      <td>6.899323</td>\n",
       "      <td>0.0</td>\n",
       "      <td>3.0</td>\n",
       "      <td>6guk_receptor_aligned</td>\n",
       "      <td>2.0</td>\n",
       "      <td>3.0</td>\n",
       "      <td>0.0</td>\n",
       "      <td>1</td>\n",
       "      <td>18</td>\n",
       "      <td>job_6guk_receptor_aligned_3ddq_ligand</td>\n",
       "      <td>3DDQ</td>\n",
       "    </tr>\n",
       "    <tr>\n",
       "      <th>46</th>\n",
       "      <td>72</td>\n",
       "      <td>72</td>\n",
       "      <td>288</td>\n",
       "      <td>4</td>\n",
       "      <td>-8.463</td>\n",
       "      <td>5.748437</td>\n",
       "      <td>1.0</td>\n",
       "      <td>2.0</td>\n",
       "      <td>3pj8_receptor_aligned</td>\n",
       "      <td>2.0</td>\n",
       "      <td>2.0</td>\n",
       "      <td>1.0</td>\n",
       "      <td>1</td>\n",
       "      <td>10</td>\n",
       "      <td>job_3pj8_receptor_aligned_3ddq_ligand</td>\n",
       "      <td>3DDQ</td>\n",
       "    </tr>\n",
       "    <tr>\n",
       "      <th>47</th>\n",
       "      <td>73</td>\n",
       "      <td>73</td>\n",
       "      <td>292</td>\n",
       "      <td>1</td>\n",
       "      <td>-8.463</td>\n",
       "      <td>6.575458</td>\n",
       "      <td>1.0</td>\n",
       "      <td>2.0</td>\n",
       "      <td>4kd1_receptor_aligned</td>\n",
       "      <td>2.0</td>\n",
       "      <td>2.0</td>\n",
       "      <td>1.0</td>\n",
       "      <td>1</td>\n",
       "      <td>4</td>\n",
       "      <td>job_4kd1_receptor_aligned_3ddq_ligand</td>\n",
       "      <td>3DDQ</td>\n",
       "    </tr>\n",
       "    <tr>\n",
       "      <th>48</th>\n",
       "      <td>74</td>\n",
       "      <td>74</td>\n",
       "      <td>296</td>\n",
       "      <td>3</td>\n",
       "      <td>-8.463</td>\n",
       "      <td>7.162527</td>\n",
       "      <td>2.0</td>\n",
       "      <td>0.0</td>\n",
       "      <td>3pj8_receptor_aligned</td>\n",
       "      <td>2.0</td>\n",
       "      <td>0.0</td>\n",
       "      <td>2.0</td>\n",
       "      <td>2</td>\n",
       "      <td>1</td>\n",
       "      <td>job_3pj8_receptor_aligned_3ddq_ligand</td>\n",
       "      <td>3DDQ</td>\n",
       "    </tr>\n",
       "    <tr>\n",
       "      <th>51</th>\n",
       "      <td>80</td>\n",
       "      <td>80</td>\n",
       "      <td>320</td>\n",
       "      <td>3</td>\n",
       "      <td>-8.431</td>\n",
       "      <td>6.932072</td>\n",
       "      <td>0.0</td>\n",
       "      <td>3.0</td>\n",
       "      <td>5l2w_receptor_aligned</td>\n",
       "      <td>2.0</td>\n",
       "      <td>3.0</td>\n",
       "      <td>0.0</td>\n",
       "      <td>1</td>\n",
       "      <td>5</td>\n",
       "      <td>job_5l2w_receptor_aligned_3ddq_ligand</td>\n",
       "      <td>3DDQ</td>\n",
       "    </tr>\n",
       "    <tr>\n",
       "      <th>54</th>\n",
       "      <td>83</td>\n",
       "      <td>83</td>\n",
       "      <td>332</td>\n",
       "      <td>4</td>\n",
       "      <td>-8.402</td>\n",
       "      <td>2.170693</td>\n",
       "      <td>1.0</td>\n",
       "      <td>3.0</td>\n",
       "      <td>5l2w_receptor_aligned</td>\n",
       "      <td>2.0</td>\n",
       "      <td>3.0</td>\n",
       "      <td>1.0</td>\n",
       "      <td>1</td>\n",
       "      <td>2</td>\n",
       "      <td>job_5l2w_receptor_aligned_3ddq_ligand</td>\n",
       "      <td>3DDQ</td>\n",
       "    </tr>\n",
       "    <tr>\n",
       "      <th>57</th>\n",
       "      <td>86</td>\n",
       "      <td>86</td>\n",
       "      <td>344</td>\n",
       "      <td>4</td>\n",
       "      <td>-8.377</td>\n",
       "      <td>1.896783</td>\n",
       "      <td>0.0</td>\n",
       "      <td>0.0</td>\n",
       "      <td>6guk_receptor_aligned</td>\n",
       "      <td>2.0</td>\n",
       "      <td>0.0</td>\n",
       "      <td>0.0</td>\n",
       "      <td>1</td>\n",
       "      <td>1</td>\n",
       "      <td>job_6guk_receptor_aligned_3ddq_ligand</td>\n",
       "      <td>3DDQ</td>\n",
       "    </tr>\n",
       "    <tr>\n",
       "      <th>61</th>\n",
       "      <td>90</td>\n",
       "      <td>90</td>\n",
       "      <td>360</td>\n",
       "      <td>3</td>\n",
       "      <td>-8.361</td>\n",
       "      <td>7.475939</td>\n",
       "      <td>1.0</td>\n",
       "      <td>3.0</td>\n",
       "      <td>6guf_receptor_aligned</td>\n",
       "      <td>2.0</td>\n",
       "      <td>3.0</td>\n",
       "      <td>1.0</td>\n",
       "      <td>2</td>\n",
       "      <td>3</td>\n",
       "      <td>job_6guf_receptor_aligned_3ddq_ligand</td>\n",
       "      <td>3DDQ</td>\n",
       "    </tr>\n",
       "    <tr>\n",
       "      <th>68</th>\n",
       "      <td>100</td>\n",
       "      <td>100</td>\n",
       "      <td>400</td>\n",
       "      <td>4</td>\n",
       "      <td>-8.324</td>\n",
       "      <td>5.436270</td>\n",
       "      <td>0.0</td>\n",
       "      <td>0.0</td>\n",
       "      <td>6guf_receptor_aligned</td>\n",
       "      <td>2.0</td>\n",
       "      <td>0.0</td>\n",
       "      <td>0.0</td>\n",
       "      <td>1</td>\n",
       "      <td>11</td>\n",
       "      <td>job_6guf_receptor_aligned_3ddq_ligand</td>\n",
       "      <td>3DDQ</td>\n",
       "    </tr>\n",
       "    <tr>\n",
       "      <th>87</th>\n",
       "      <td>123</td>\n",
       "      <td>123</td>\n",
       "      <td>492</td>\n",
       "      <td>2</td>\n",
       "      <td>-8.208</td>\n",
       "      <td>7.388137</td>\n",
       "      <td>0.0</td>\n",
       "      <td>1.0</td>\n",
       "      <td>4kd1_receptor_aligned</td>\n",
       "      <td>2.0</td>\n",
       "      <td>1.0</td>\n",
       "      <td>0.0</td>\n",
       "      <td>1</td>\n",
       "      <td>11</td>\n",
       "      <td>job_4kd1_receptor_aligned_3ddq_ligand</td>\n",
       "      <td>3DDQ</td>\n",
       "    </tr>\n",
       "    <tr>\n",
       "      <th>107</th>\n",
       "      <td>149</td>\n",
       "      <td>149</td>\n",
       "      <td>596</td>\n",
       "      <td>3</td>\n",
       "      <td>-8.084</td>\n",
       "      <td>7.683575</td>\n",
       "      <td>1.0</td>\n",
       "      <td>1.0</td>\n",
       "      <td>4kd1_receptor_aligned</td>\n",
       "      <td>2.0</td>\n",
       "      <td>1.0</td>\n",
       "      <td>1.0</td>\n",
       "      <td>1</td>\n",
       "      <td>5</td>\n",
       "      <td>job_4kd1_receptor_aligned_3ddq_ligand</td>\n",
       "      <td>3DDQ</td>\n",
       "    </tr>\n",
       "    <tr>\n",
       "      <th>109</th>\n",
       "      <td>151</td>\n",
       "      <td>151</td>\n",
       "      <td>604</td>\n",
       "      <td>4</td>\n",
       "      <td>-8.060</td>\n",
       "      <td>1.786314</td>\n",
       "      <td>2.0</td>\n",
       "      <td>1.0</td>\n",
       "      <td>4kd1_receptor_aligned</td>\n",
       "      <td>2.0</td>\n",
       "      <td>1.0</td>\n",
       "      <td>2.0</td>\n",
       "      <td>1</td>\n",
       "      <td>12</td>\n",
       "      <td>job_4kd1_receptor_aligned_3ddq_ligand</td>\n",
       "      <td>3DDQ</td>\n",
       "    </tr>\n",
       "  </tbody>\n",
       "</table>\n",
       "</div>"
      ],
      "text/plain": [
       "     level_0  Unnamed: 0.2  index  Unnamed: 0.1  energies     rmsds  model_id  \\\n",
       "0          1             1      4             0    -9.269  1.758240       0.0   \n",
       "1          2             2      8             0    -9.260  7.550465       0.0   \n",
       "2          5             5     20             1    -9.222  1.605867       1.0   \n",
       "3          6             6     24             0    -9.197  7.496868       0.0   \n",
       "4          7             7     28             1    -9.178  4.413904       0.0   \n",
       "5          9             9     36             2    -9.128  6.593075       1.0   \n",
       "6         10            10     40             2    -9.128  7.198771       2.0   \n",
       "7         11            11     44             3    -9.123  6.254670       2.0   \n",
       "8         12            12     48             3    -9.084  7.544315       3.0   \n",
       "9         13            13     52             4    -9.082  6.607444       4.0   \n",
       "10        16            16     64             4    -9.030  7.325980       1.0   \n",
       "11        17            17     68             0    -9.020  7.489985       0.0   \n",
       "13        19            19     76             0    -8.986  7.604515       0.0   \n",
       "14        21            21     84             0    -8.964  6.625891       0.0   \n",
       "15        23            23     92             1    -8.919  7.397601       0.0   \n",
       "16        24            24     96             1    -8.915  7.655725       0.0   \n",
       "18        26            26    104             0    -8.899  7.572387       0.0   \n",
       "22        32            32    128             1    -8.821  7.560097       0.0   \n",
       "25        36            36    144             0    -8.780  7.367174       0.0   \n",
       "28        43            43    172             2    -8.734  6.758336       0.0   \n",
       "29        46            46    184             2    -8.716  6.350584       1.0   \n",
       "31        51            51    204             1    -8.664  7.520171       0.0   \n",
       "34        55            55    220             2    -8.623  2.082457       0.0   \n",
       "35        58            58    232             1    -8.595  6.844716       0.0   \n",
       "36        59            59    236             3    -8.592  7.478768       0.0   \n",
       "37        60            60    240             2    -8.564  7.802845       1.0   \n",
       "42        67            67    268             2    -8.507  6.687664       1.0   \n",
       "44        70            70    280             4    -8.491  6.695264       2.0   \n",
       "45        71            71    284             3    -8.471  6.899323       0.0   \n",
       "46        72            72    288             4    -8.463  5.748437       1.0   \n",
       "47        73            73    292             1    -8.463  6.575458       1.0   \n",
       "48        74            74    296             3    -8.463  7.162527       2.0   \n",
       "51        80            80    320             3    -8.431  6.932072       0.0   \n",
       "54        83            83    332             4    -8.402  2.170693       1.0   \n",
       "57        86            86    344             4    -8.377  1.896783       0.0   \n",
       "61        90            90    360             3    -8.361  7.475939       1.0   \n",
       "68       100           100    400             4    -8.324  5.436270       0.0   \n",
       "87       123           123    492             2    -8.208  7.388137       0.0   \n",
       "107      149           149    596             3    -8.084  7.683575       1.0   \n",
       "109      151           151    604             4    -8.060  1.786314       2.0   \n",
       "\n",
       "     replica_id            receptor_id  fragment_id  thread_id  Unnamed: 0  \\\n",
       "0           2.0  6guh_receptor_aligned          2.0        2.0         0.0   \n",
       "1           1.0  5a14_receptor_aligned          2.0        1.0         0.0   \n",
       "2           1.0  5a14_receptor_aligned          2.0        1.0         1.0   \n",
       "3           0.0  3pj8_receptor_aligned          2.0        0.0         0.0   \n",
       "4           0.0  6guh_receptor_aligned          2.0        0.0         0.0   \n",
       "5           2.0  6guh_receptor_aligned          2.0        2.0         1.0   \n",
       "6           1.0  5a14_receptor_aligned          2.0        1.0         2.0   \n",
       "7           2.0  6guh_receptor_aligned          2.0        2.0         2.0   \n",
       "8           1.0  5a14_receptor_aligned          2.0        1.0         3.0   \n",
       "9           1.0  5a14_receptor_aligned          2.0        1.0         4.0   \n",
       "10          0.0  6guh_receptor_aligned          2.0        0.0         1.0   \n",
       "11          0.0  6gub_receptor_aligned          2.0        0.0         0.0   \n",
       "13          0.0  5l2w_receptor_aligned          2.0        0.0         0.0   \n",
       "14          2.0  6guf_receptor_aligned          2.0        2.0         0.0   \n",
       "15          1.0  6guf_receptor_aligned          2.0        1.0         0.0   \n",
       "16          2.0  5l2w_receptor_aligned          2.0        2.0         0.0   \n",
       "18          1.0  6guk_receptor_aligned          2.0        1.0         0.0   \n",
       "22          2.0  6gub_receptor_aligned          2.0        2.0         0.0   \n",
       "25          2.0  4kd1_receptor_aligned          2.0        2.0         0.0   \n",
       "28          3.0  6guf_receptor_aligned          2.0        3.0         0.0   \n",
       "29          2.0  6gub_receptor_aligned          2.0        2.0         1.0   \n",
       "31          2.0  6guk_receptor_aligned          2.0        2.0         0.0   \n",
       "34          1.0  5l2w_receptor_aligned          2.0        1.0         0.0   \n",
       "35          2.0  3pj8_receptor_aligned          2.0        2.0         0.0   \n",
       "36          3.0  6gub_receptor_aligned          2.0        3.0         0.0   \n",
       "37          1.0  6guk_receptor_aligned          2.0        1.0         1.0   \n",
       "42          0.0  3pj8_receptor_aligned          2.0        0.0         1.0   \n",
       "44          2.0  6gub_receptor_aligned          2.0        2.0         2.0   \n",
       "45          3.0  6guk_receptor_aligned          2.0        3.0         0.0   \n",
       "46          2.0  3pj8_receptor_aligned          2.0        2.0         1.0   \n",
       "47          2.0  4kd1_receptor_aligned          2.0        2.0         1.0   \n",
       "48          0.0  3pj8_receptor_aligned          2.0        0.0         2.0   \n",
       "51          3.0  5l2w_receptor_aligned          2.0        3.0         0.0   \n",
       "54          3.0  5l2w_receptor_aligned          2.0        3.0         1.0   \n",
       "57          0.0  6guk_receptor_aligned          2.0        0.0         0.0   \n",
       "61          3.0  6guf_receptor_aligned          2.0        3.0         1.0   \n",
       "68          0.0  6guf_receptor_aligned          2.0        0.0         0.0   \n",
       "87          1.0  4kd1_receptor_aligned          2.0        1.0         0.0   \n",
       "107         1.0  4kd1_receptor_aligned          2.0        1.0         1.0   \n",
       "109         1.0  4kd1_receptor_aligned          2.0        1.0         2.0   \n",
       "\n",
       "     clust_energy_rank  clust_size_rank  \\\n",
       "0                    1                1   \n",
       "1                    1                8   \n",
       "2                    1                3   \n",
       "3                    1                1   \n",
       "4                    1                3   \n",
       "5                    1                5   \n",
       "6                    2                8   \n",
       "7                    1                6   \n",
       "8                    1                9   \n",
       "9                    1                1   \n",
       "10                   1                7   \n",
       "11                   1                3   \n",
       "13                   1                1   \n",
       "14                   1               10   \n",
       "15                   1                1   \n",
       "16                   1               12   \n",
       "18                   1                3   \n",
       "22                   2                3   \n",
       "25                   1                3   \n",
       "28                   1                3   \n",
       "29                   1               14   \n",
       "31                   1                9   \n",
       "34                   1                4   \n",
       "35                   1                9   \n",
       "36                   1                4   \n",
       "37                   2                3   \n",
       "42                   1                2   \n",
       "44                   1                1   \n",
       "45                   1               18   \n",
       "46                   1               10   \n",
       "47                   1                4   \n",
       "48                   2                1   \n",
       "51                   1                5   \n",
       "54                   1                2   \n",
       "57                   1                1   \n",
       "61                   2                3   \n",
       "68                   1               11   \n",
       "87                   1               11   \n",
       "107                  1                5   \n",
       "109                  1               12   \n",
       "\n",
       "                                    job_id pdb_id  \n",
       "0    job_6guh_receptor_aligned_3ddq_ligand   3DDQ  \n",
       "1    job_5a14_receptor_aligned_3ddq_ligand   3DDQ  \n",
       "2    job_5a14_receptor_aligned_3ddq_ligand   3DDQ  \n",
       "3    job_3pj8_receptor_aligned_3ddq_ligand   3DDQ  \n",
       "4    job_6guh_receptor_aligned_3ddq_ligand   3DDQ  \n",
       "5    job_6guh_receptor_aligned_3ddq_ligand   3DDQ  \n",
       "6    job_5a14_receptor_aligned_3ddq_ligand   3DDQ  \n",
       "7    job_6guh_receptor_aligned_3ddq_ligand   3DDQ  \n",
       "8    job_5a14_receptor_aligned_3ddq_ligand   3DDQ  \n",
       "9    job_5a14_receptor_aligned_3ddq_ligand   3DDQ  \n",
       "10   job_6guh_receptor_aligned_3ddq_ligand   3DDQ  \n",
       "11   job_6gub_receptor_aligned_3ddq_ligand   3DDQ  \n",
       "13   job_5l2w_receptor_aligned_3ddq_ligand   3DDQ  \n",
       "14   job_6guf_receptor_aligned_3ddq_ligand   3DDQ  \n",
       "15   job_6guf_receptor_aligned_3ddq_ligand   3DDQ  \n",
       "16   job_5l2w_receptor_aligned_3ddq_ligand   3DDQ  \n",
       "18   job_6guk_receptor_aligned_3ddq_ligand   3DDQ  \n",
       "22   job_6gub_receptor_aligned_3ddq_ligand   3DDQ  \n",
       "25   job_4kd1_receptor_aligned_3ddq_ligand   3DDQ  \n",
       "28   job_6guf_receptor_aligned_3ddq_ligand   3DDQ  \n",
       "29   job_6gub_receptor_aligned_3ddq_ligand   3DDQ  \n",
       "31   job_6guk_receptor_aligned_3ddq_ligand   3DDQ  \n",
       "34   job_5l2w_receptor_aligned_3ddq_ligand   3DDQ  \n",
       "35   job_3pj8_receptor_aligned_3ddq_ligand   3DDQ  \n",
       "36   job_6gub_receptor_aligned_3ddq_ligand   3DDQ  \n",
       "37   job_6guk_receptor_aligned_3ddq_ligand   3DDQ  \n",
       "42   job_3pj8_receptor_aligned_3ddq_ligand   3DDQ  \n",
       "44   job_6gub_receptor_aligned_3ddq_ligand   3DDQ  \n",
       "45   job_6guk_receptor_aligned_3ddq_ligand   3DDQ  \n",
       "46   job_3pj8_receptor_aligned_3ddq_ligand   3DDQ  \n",
       "47   job_4kd1_receptor_aligned_3ddq_ligand   3DDQ  \n",
       "48   job_3pj8_receptor_aligned_3ddq_ligand   3DDQ  \n",
       "51   job_5l2w_receptor_aligned_3ddq_ligand   3DDQ  \n",
       "54   job_5l2w_receptor_aligned_3ddq_ligand   3DDQ  \n",
       "57   job_6guk_receptor_aligned_3ddq_ligand   3DDQ  \n",
       "61   job_6guf_receptor_aligned_3ddq_ligand   3DDQ  \n",
       "68   job_6guf_receptor_aligned_3ddq_ligand   3DDQ  \n",
       "87   job_4kd1_receptor_aligned_3ddq_ligand   3DDQ  \n",
       "107  job_4kd1_receptor_aligned_3ddq_ligand   3DDQ  \n",
       "109  job_4kd1_receptor_aligned_3ddq_ligand   3DDQ  "
      ]
     },
     "execution_count": 28,
     "metadata": {},
     "output_type": "execute_result"
    }
   ],
   "source": [
    "cd_results_top_5"
   ]
  },
  {
   "cell_type": "code",
   "execution_count": 19,
   "id": "a1731e0f",
   "metadata": {},
   "outputs": [],
   "source": [
    "full_dataset[\"ligand_category\"] = full_dataset[\"comment\"].apply(lambda x: ligand_categories[x])"
   ]
  },
  {
   "cell_type": "code",
   "execution_count": 20,
   "id": "0b2c8a46",
   "metadata": {},
   "outputs": [
    {
     "data": {
      "text/html": [
       "<div>\n",
       "<style scoped>\n",
       "    .dataframe tbody tr th:only-of-type {\n",
       "        vertical-align: middle;\n",
       "    }\n",
       "\n",
       "    .dataframe tbody tr th {\n",
       "        vertical-align: top;\n",
       "    }\n",
       "\n",
       "    .dataframe thead th {\n",
       "        text-align: right;\n",
       "    }\n",
       "</style>\n",
       "<table border=\"1\" class=\"dataframe\">\n",
       "  <thead>\n",
       "    <tr style=\"text-align: right;\">\n",
       "      <th></th>\n",
       "      <th>pdb_id</th>\n",
       "      <th>ligands</th>\n",
       "      <th>rot_bonds</th>\n",
       "      <th>n_atoms</th>\n",
       "      <th>comment</th>\n",
       "      <th>ligand_category</th>\n",
       "    </tr>\n",
       "  </thead>\n",
       "  <tbody>\n",
       "    <tr>\n",
       "      <th>0</th>\n",
       "      <td>2G9X</td>\n",
       "      <td>NU5</td>\n",
       "      <td>12</td>\n",
       "      <td>34</td>\n",
       "      <td>A-loop in, with cyclin</td>\n",
       "      <td>0</td>\n",
       "    </tr>\n",
       "    <tr>\n",
       "      <th>1</th>\n",
       "      <td>3ROY</td>\n",
       "      <td>22Z</td>\n",
       "      <td>11</td>\n",
       "      <td>27</td>\n",
       "      <td>A-loop in, no cyclin</td>\n",
       "      <td>0</td>\n",
       "    </tr>\n",
       "    <tr>\n",
       "      <th>2</th>\n",
       "      <td>3R71</td>\n",
       "      <td>X86</td>\n",
       "      <td>10</td>\n",
       "      <td>26</td>\n",
       "      <td>A-loop in, no cyclin</td>\n",
       "      <td>0</td>\n",
       "    </tr>\n",
       "    <tr>\n",
       "      <th>3</th>\n",
       "      <td>1H07</td>\n",
       "      <td>MFQ</td>\n",
       "      <td>10</td>\n",
       "      <td>33</td>\n",
       "      <td>A-loop in, no cyclin</td>\n",
       "      <td>0</td>\n",
       "    </tr>\n",
       "    <tr>\n",
       "      <th>4</th>\n",
       "      <td>6RIJ</td>\n",
       "      <td>K4W</td>\n",
       "      <td>10</td>\n",
       "      <td>27</td>\n",
       "      <td>A-loop in, with cyclin</td>\n",
       "      <td>0</td>\n",
       "    </tr>\n",
       "    <tr>\n",
       "      <th>5</th>\n",
       "      <td>2IW6</td>\n",
       "      <td>QQ2</td>\n",
       "      <td>10</td>\n",
       "      <td>33</td>\n",
       "      <td>A-loop out, with cyclin</td>\n",
       "      <td>1</td>\n",
       "    </tr>\n",
       "    <tr>\n",
       "      <th>6</th>\n",
       "      <td>6INL</td>\n",
       "      <td>AJR</td>\n",
       "      <td>10</td>\n",
       "      <td>29</td>\n",
       "      <td>A-loop flex, no cyclin</td>\n",
       "      <td>1</td>\n",
       "    </tr>\n",
       "    <tr>\n",
       "      <th>7</th>\n",
       "      <td>3RAI</td>\n",
       "      <td>X85</td>\n",
       "      <td>10</td>\n",
       "      <td>30</td>\n",
       "      <td>A-loop in, no cyclin</td>\n",
       "      <td>0</td>\n",
       "    </tr>\n",
       "    <tr>\n",
       "      <th>8</th>\n",
       "      <td>3RPO</td>\n",
       "      <td>24Z</td>\n",
       "      <td>10</td>\n",
       "      <td>27</td>\n",
       "      <td>A-loop in, no cyclin</td>\n",
       "      <td>0</td>\n",
       "    </tr>\n",
       "    <tr>\n",
       "      <th>9</th>\n",
       "      <td>1H07</td>\n",
       "      <td>MFP</td>\n",
       "      <td>10</td>\n",
       "      <td>33</td>\n",
       "      <td>A-loop in, no cyclin</td>\n",
       "      <td>0</td>\n",
       "    </tr>\n",
       "    <tr>\n",
       "      <th>10</th>\n",
       "      <td>3EID</td>\n",
       "      <td>PO5</td>\n",
       "      <td>9</td>\n",
       "      <td>36</td>\n",
       "      <td>A-loop out, with cyclin</td>\n",
       "      <td>1</td>\n",
       "    </tr>\n",
       "    <tr>\n",
       "      <th>11</th>\n",
       "      <td>3DDP</td>\n",
       "      <td>RC8</td>\n",
       "      <td>9</td>\n",
       "      <td>32</td>\n",
       "      <td>A-loop out, with cyclin</td>\n",
       "      <td>1</td>\n",
       "    </tr>\n",
       "    <tr>\n",
       "      <th>12</th>\n",
       "      <td>1H08</td>\n",
       "      <td>BYP</td>\n",
       "      <td>9</td>\n",
       "      <td>29</td>\n",
       "      <td>A-loop in, no cyclin</td>\n",
       "      <td>0</td>\n",
       "    </tr>\n",
       "    <tr>\n",
       "      <th>13</th>\n",
       "      <td>1H00</td>\n",
       "      <td>FCP</td>\n",
       "      <td>9</td>\n",
       "      <td>30</td>\n",
       "      <td>A-loop flex, no cyclin</td>\n",
       "      <td>1</td>\n",
       "    </tr>\n",
       "    <tr>\n",
       "      <th>14</th>\n",
       "      <td>1H00</td>\n",
       "      <td>FAP</td>\n",
       "      <td>9</td>\n",
       "      <td>30</td>\n",
       "      <td>A-loop flex, no cyclin</td>\n",
       "      <td>1</td>\n",
       "    </tr>\n",
       "    <tr>\n",
       "      <th>15</th>\n",
       "      <td>3R73</td>\n",
       "      <td>X87</td>\n",
       "      <td>9</td>\n",
       "      <td>25</td>\n",
       "      <td>A-loop in, no cyclin</td>\n",
       "      <td>0</td>\n",
       "    </tr>\n",
       "    <tr>\n",
       "      <th>16</th>\n",
       "      <td>1H01</td>\n",
       "      <td>FAL</td>\n",
       "      <td>9</td>\n",
       "      <td>30</td>\n",
       "      <td>A-loop in, no cyclin</td>\n",
       "      <td>0</td>\n",
       "    </tr>\n",
       "    <tr>\n",
       "      <th>17</th>\n",
       "      <td>1H01</td>\n",
       "      <td>FBL</td>\n",
       "      <td>9</td>\n",
       "      <td>30</td>\n",
       "      <td>A-loop in, no cyclin</td>\n",
       "      <td>0</td>\n",
       "    </tr>\n",
       "    <tr>\n",
       "      <th>18</th>\n",
       "      <td>3ULI</td>\n",
       "      <td>1N3</td>\n",
       "      <td>9</td>\n",
       "      <td>30</td>\n",
       "      <td>A-loop in, no cyclin</td>\n",
       "      <td>0</td>\n",
       "    </tr>\n",
       "    <tr>\n",
       "      <th>19</th>\n",
       "      <td>3NS9</td>\n",
       "      <td>NS9</td>\n",
       "      <td>9</td>\n",
       "      <td>28</td>\n",
       "      <td>A-loop in, no cyclin</td>\n",
       "      <td>0</td>\n",
       "    </tr>\n",
       "    <tr>\n",
       "      <th>20</th>\n",
       "      <td>2W05</td>\n",
       "      <td>FRT</td>\n",
       "      <td>9</td>\n",
       "      <td>30</td>\n",
       "      <td>A-loop flex, no cyclin</td>\n",
       "      <td>1</td>\n",
       "    </tr>\n",
       "    <tr>\n",
       "      <th>21</th>\n",
       "      <td>1V1K</td>\n",
       "      <td>3FP</td>\n",
       "      <td>9</td>\n",
       "      <td>33</td>\n",
       "      <td>A-loop flex, no cyclin</td>\n",
       "      <td>1</td>\n",
       "    </tr>\n",
       "    <tr>\n",
       "      <th>22</th>\n",
       "      <td>1URW</td>\n",
       "      <td>I1P</td>\n",
       "      <td>9</td>\n",
       "      <td>32</td>\n",
       "      <td>A-loop flex, no cyclin</td>\n",
       "      <td>1</td>\n",
       "    </tr>\n",
       "  </tbody>\n",
       "</table>\n",
       "</div>"
      ],
      "text/plain": [
       "   pdb_id ligands  rot_bonds  n_atoms                  comment  \\\n",
       "0    2G9X     NU5         12       34   A-loop in, with cyclin   \n",
       "1    3ROY     22Z         11       27     A-loop in, no cyclin   \n",
       "2    3R71     X86         10       26     A-loop in, no cyclin   \n",
       "3    1H07     MFQ         10       33     A-loop in, no cyclin   \n",
       "4    6RIJ     K4W         10       27   A-loop in, with cyclin   \n",
       "5    2IW6     QQ2         10       33  A-loop out, with cyclin   \n",
       "6    6INL     AJR         10       29   A-loop flex, no cyclin   \n",
       "7    3RAI     X85         10       30     A-loop in, no cyclin   \n",
       "8    3RPO     24Z         10       27     A-loop in, no cyclin   \n",
       "9    1H07     MFP         10       33     A-loop in, no cyclin   \n",
       "10   3EID     PO5          9       36  A-loop out, with cyclin   \n",
       "11   3DDP     RC8          9       32  A-loop out, with cyclin   \n",
       "12   1H08     BYP          9       29     A-loop in, no cyclin   \n",
       "13   1H00     FCP          9       30   A-loop flex, no cyclin   \n",
       "14   1H00     FAP          9       30   A-loop flex, no cyclin   \n",
       "15   3R73     X87          9       25     A-loop in, no cyclin   \n",
       "16   1H01     FAL          9       30     A-loop in, no cyclin   \n",
       "17   1H01     FBL          9       30     A-loop in, no cyclin   \n",
       "18   3ULI     1N3          9       30     A-loop in, no cyclin   \n",
       "19   3NS9     NS9          9       28     A-loop in, no cyclin   \n",
       "20   2W05     FRT          9       30   A-loop flex, no cyclin   \n",
       "21   1V1K     3FP          9       33   A-loop flex, no cyclin   \n",
       "22   1URW     I1P          9       32   A-loop flex, no cyclin   \n",
       "\n",
       "    ligand_category  \n",
       "0                 0  \n",
       "1                 0  \n",
       "2                 0  \n",
       "3                 0  \n",
       "4                 0  \n",
       "5                 1  \n",
       "6                 1  \n",
       "7                 0  \n",
       "8                 0  \n",
       "9                 0  \n",
       "10                1  \n",
       "11                1  \n",
       "12                0  \n",
       "13                1  \n",
       "14                1  \n",
       "15                0  \n",
       "16                0  \n",
       "17                0  \n",
       "18                0  \n",
       "19                0  \n",
       "20                1  \n",
       "21                1  \n",
       "22                1  "
      ]
     },
     "execution_count": 20,
     "metadata": {},
     "output_type": "execute_result"
    }
   ],
   "source": [
    "full_dataset = full_dataset[[\"pdb_id\", \"ligands\", \"rot_bonds\", \"n_atoms\", \"comment\", \"ligand_category\"]]\n",
    "full_dataset"
   ]
  },
  {
   "cell_type": "code",
   "execution_count": 21,
   "id": "f9271ae6",
   "metadata": {},
   "outputs": [
    {
     "name": "stdout",
     "output_type": "stream",
     "text": [
      "21\n"
     ]
    }
   ],
   "source": [
    "import glob \n",
    "# find the ligands for which we have results\n",
    "ens_res_list = []\n",
    "resuls_pd = None\n",
    "for i, row in full_dataset.iterrows():\n",
    "    pdb_id = row[\"pdb_id\"]\n",
    "    pdb_id_l = pdb_id.lower()\n",
    "    data_dir = Path(\"./CDK2/ligands/{}\".format(pdb_id_l))\n",
    "    if data_dir.exists():\n",
    "        ligands_in_dir = glob.glob(str(data_dir / \"{}_ligand*.mol2\".format(pdb_id_l)))\n",
    "        for ligand in ligands_in_dir:\n",
    "            lig_name = Path(ligand).stem\n",
    "            output_dir = \"../../benchmark-ens-results/{}/\".format(lig_name)\n",
    "            results_file = Path(output_dir) / \"analysis/results.csv\"\n",
    "            if results_file.exists():\n",
    "                ens_res_list.append(lig_name) \n",
    "                if resuls_pd is None:\n",
    "                    resuls_pd = pd.read_csv(results_file)\n",
    "                    resuls_pd[\"ligand_name\"] = [lig_name for i in range(resuls_pd.shape[0])]\n",
    "                else:\n",
    "                    tmp = pd.read_csv(results_file)\n",
    "                    tmp[\"ligand_name\"] = [lig_name for i in range(tmp.shape[0])]\n",
    "                    resuls_pd = pd.concat([resuls_pd, tmp])\n",
    "print(len(ens_res_list))\n"
   ]
  },
  {
   "cell_type": "code",
   "execution_count": 22,
   "id": "b3bf2d7f",
   "metadata": {},
   "outputs": [
    {
     "data": {
      "text/html": [
       "<div>\n",
       "<style scoped>\n",
       "    .dataframe tbody tr th:only-of-type {\n",
       "        vertical-align: middle;\n",
       "    }\n",
       "\n",
       "    .dataframe tbody tr th {\n",
       "        vertical-align: top;\n",
       "    }\n",
       "\n",
       "    .dataframe thead th {\n",
       "        text-align: right;\n",
       "    }\n",
       "</style>\n",
       "<table border=\"1\" class=\"dataframe\">\n",
       "  <thead>\n",
       "    <tr style=\"text-align: right;\">\n",
       "      <th></th>\n",
       "      <th>Unnamed: 0.2</th>\n",
       "      <th>Unnamed: 0.1</th>\n",
       "      <th>energies</th>\n",
       "      <th>rmsds</th>\n",
       "      <th>model_id</th>\n",
       "      <th>replica_id</th>\n",
       "      <th>receptor_id</th>\n",
       "      <th>fragment_id</th>\n",
       "      <th>thread_id</th>\n",
       "      <th>Unnamed: 0</th>\n",
       "      <th>job_id</th>\n",
       "      <th>ligand_name</th>\n",
       "    </tr>\n",
       "  </thead>\n",
       "  <tbody>\n",
       "    <tr>\n",
       "      <th>46</th>\n",
       "      <td>46</td>\n",
       "      <td>2</td>\n",
       "      <td>-8.984</td>\n",
       "      <td>1.571993</td>\n",
       "      <td>0.0</td>\n",
       "      <td>3.0</td>\n",
       "      <td>8fp5_receptor_aligned</td>\n",
       "      <td>2.0</td>\n",
       "      <td>3.0</td>\n",
       "      <td>0.0</td>\n",
       "      <td>job_8fp5_receptor_aligned_6inl_ligand</td>\n",
       "      <td>6inl_ligand</td>\n",
       "    </tr>\n",
       "    <tr>\n",
       "      <th>45</th>\n",
       "      <td>45</td>\n",
       "      <td>2</td>\n",
       "      <td>-8.984</td>\n",
       "      <td>1.571993</td>\n",
       "      <td>0.0</td>\n",
       "      <td>3.0</td>\n",
       "      <td>8fp5_receptor_aligned</td>\n",
       "      <td>2.0</td>\n",
       "      <td>3.0</td>\n",
       "      <td>0.0</td>\n",
       "      <td>job_8fp5_receptor_aligned_6inl_ligand</td>\n",
       "      <td>6inl_ligand</td>\n",
       "    </tr>\n",
       "    <tr>\n",
       "      <th>44</th>\n",
       "      <td>44</td>\n",
       "      <td>2</td>\n",
       "      <td>-8.984</td>\n",
       "      <td>1.571993</td>\n",
       "      <td>0.0</td>\n",
       "      <td>3.0</td>\n",
       "      <td>8fp5_receptor_aligned</td>\n",
       "      <td>2.0</td>\n",
       "      <td>3.0</td>\n",
       "      <td>0.0</td>\n",
       "      <td>job_8fp5_receptor_aligned_6inl_ligand</td>\n",
       "      <td>6inl_ligand</td>\n",
       "    </tr>\n",
       "    <tr>\n",
       "      <th>47</th>\n",
       "      <td>47</td>\n",
       "      <td>2</td>\n",
       "      <td>-8.984</td>\n",
       "      <td>1.571993</td>\n",
       "      <td>0.0</td>\n",
       "      <td>3.0</td>\n",
       "      <td>8fp5_receptor_aligned</td>\n",
       "      <td>2.0</td>\n",
       "      <td>3.0</td>\n",
       "      <td>0.0</td>\n",
       "      <td>job_8fp5_receptor_aligned_6inl_ligand</td>\n",
       "      <td>6inl_ligand</td>\n",
       "    </tr>\n",
       "    <tr>\n",
       "      <th>63</th>\n",
       "      <td>63</td>\n",
       "      <td>3</td>\n",
       "      <td>-8.979</td>\n",
       "      <td>1.575625</td>\n",
       "      <td>0.0</td>\n",
       "      <td>2.0</td>\n",
       "      <td>8fp5_receptor_aligned</td>\n",
       "      <td>2.0</td>\n",
       "      <td>2.0</td>\n",
       "      <td>0.0</td>\n",
       "      <td>job_8fp5_receptor_aligned_6inl_ligand</td>\n",
       "      <td>6inl_ligand</td>\n",
       "    </tr>\n",
       "    <tr>\n",
       "      <th>...</th>\n",
       "      <td>...</td>\n",
       "      <td>...</td>\n",
       "      <td>...</td>\n",
       "      <td>...</td>\n",
       "      <td>...</td>\n",
       "      <td>...</td>\n",
       "      <td>...</td>\n",
       "      <td>...</td>\n",
       "      <td>...</td>\n",
       "      <td>...</td>\n",
       "      <td>...</td>\n",
       "      <td>...</td>\n",
       "    </tr>\n",
       "    <tr>\n",
       "      <th>481</th>\n",
       "      <td>481</td>\n",
       "      <td>22</td>\n",
       "      <td>-6.684</td>\n",
       "      <td>10.796423</td>\n",
       "      <td>6.0</td>\n",
       "      <td>2.0</td>\n",
       "      <td>3bhv_receptor_aligned</td>\n",
       "      <td>2.0</td>\n",
       "      <td>2.0</td>\n",
       "      <td>6.0</td>\n",
       "      <td>job_3bhv_receptor_aligned_6inl_ligand</td>\n",
       "      <td>6inl_ligand</td>\n",
       "    </tr>\n",
       "    <tr>\n",
       "      <th>417</th>\n",
       "      <td>417</td>\n",
       "      <td>22</td>\n",
       "      <td>-6.800</td>\n",
       "      <td>10.835908</td>\n",
       "      <td>6.0</td>\n",
       "      <td>3.0</td>\n",
       "      <td>2r3k_receptor_aligned</td>\n",
       "      <td>2.0</td>\n",
       "      <td>3.0</td>\n",
       "      <td>6.0</td>\n",
       "      <td>job_2r3k_receptor_aligned_6inl_ligand</td>\n",
       "      <td>6inl_ligand</td>\n",
       "    </tr>\n",
       "    <tr>\n",
       "      <th>418</th>\n",
       "      <td>418</td>\n",
       "      <td>22</td>\n",
       "      <td>-6.800</td>\n",
       "      <td>10.835908</td>\n",
       "      <td>6.0</td>\n",
       "      <td>3.0</td>\n",
       "      <td>2r3k_receptor_aligned</td>\n",
       "      <td>2.0</td>\n",
       "      <td>3.0</td>\n",
       "      <td>6.0</td>\n",
       "      <td>job_2r3k_receptor_aligned_6inl_ligand</td>\n",
       "      <td>6inl_ligand</td>\n",
       "    </tr>\n",
       "    <tr>\n",
       "      <th>419</th>\n",
       "      <td>419</td>\n",
       "      <td>22</td>\n",
       "      <td>-6.800</td>\n",
       "      <td>10.835908</td>\n",
       "      <td>6.0</td>\n",
       "      <td>3.0</td>\n",
       "      <td>2r3k_receptor_aligned</td>\n",
       "      <td>2.0</td>\n",
       "      <td>3.0</td>\n",
       "      <td>6.0</td>\n",
       "      <td>job_2r3k_receptor_aligned_6inl_ligand</td>\n",
       "      <td>6inl_ligand</td>\n",
       "    </tr>\n",
       "    <tr>\n",
       "      <th>416</th>\n",
       "      <td>416</td>\n",
       "      <td>22</td>\n",
       "      <td>-6.800</td>\n",
       "      <td>10.835908</td>\n",
       "      <td>6.0</td>\n",
       "      <td>3.0</td>\n",
       "      <td>2r3k_receptor_aligned</td>\n",
       "      <td>2.0</td>\n",
       "      <td>3.0</td>\n",
       "      <td>6.0</td>\n",
       "      <td>job_2r3k_receptor_aligned_6inl_ligand</td>\n",
       "      <td>6inl_ligand</td>\n",
       "    </tr>\n",
       "  </tbody>\n",
       "</table>\n",
       "<p>696 rows × 12 columns</p>\n",
       "</div>"
      ],
      "text/plain": [
       "     Unnamed: 0.2  Unnamed: 0.1  energies      rmsds  model_id  replica_id  \\\n",
       "46             46             2    -8.984   1.571993       0.0         3.0   \n",
       "45             45             2    -8.984   1.571993       0.0         3.0   \n",
       "44             44             2    -8.984   1.571993       0.0         3.0   \n",
       "47             47             2    -8.984   1.571993       0.0         3.0   \n",
       "63             63             3    -8.979   1.575625       0.0         2.0   \n",
       "..            ...           ...       ...        ...       ...         ...   \n",
       "481           481            22    -6.684  10.796423       6.0         2.0   \n",
       "417           417            22    -6.800  10.835908       6.0         3.0   \n",
       "418           418            22    -6.800  10.835908       6.0         3.0   \n",
       "419           419            22    -6.800  10.835908       6.0         3.0   \n",
       "416           416            22    -6.800  10.835908       6.0         3.0   \n",
       "\n",
       "               receptor_id  fragment_id  thread_id  Unnamed: 0  \\\n",
       "46   8fp5_receptor_aligned          2.0        3.0         0.0   \n",
       "45   8fp5_receptor_aligned          2.0        3.0         0.0   \n",
       "44   8fp5_receptor_aligned          2.0        3.0         0.0   \n",
       "47   8fp5_receptor_aligned          2.0        3.0         0.0   \n",
       "63   8fp5_receptor_aligned          2.0        2.0         0.0   \n",
       "..                     ...          ...        ...         ...   \n",
       "481  3bhv_receptor_aligned          2.0        2.0         6.0   \n",
       "417  2r3k_receptor_aligned          2.0        3.0         6.0   \n",
       "418  2r3k_receptor_aligned          2.0        3.0         6.0   \n",
       "419  2r3k_receptor_aligned          2.0        3.0         6.0   \n",
       "416  2r3k_receptor_aligned          2.0        3.0         6.0   \n",
       "\n",
       "                                    job_id  ligand_name  \n",
       "46   job_8fp5_receptor_aligned_6inl_ligand  6inl_ligand  \n",
       "45   job_8fp5_receptor_aligned_6inl_ligand  6inl_ligand  \n",
       "44   job_8fp5_receptor_aligned_6inl_ligand  6inl_ligand  \n",
       "47   job_8fp5_receptor_aligned_6inl_ligand  6inl_ligand  \n",
       "63   job_8fp5_receptor_aligned_6inl_ligand  6inl_ligand  \n",
       "..                                     ...          ...  \n",
       "481  job_3bhv_receptor_aligned_6inl_ligand  6inl_ligand  \n",
       "417  job_2r3k_receptor_aligned_6inl_ligand  6inl_ligand  \n",
       "418  job_2r3k_receptor_aligned_6inl_ligand  6inl_ligand  \n",
       "419  job_2r3k_receptor_aligned_6inl_ligand  6inl_ligand  \n",
       "416  job_2r3k_receptor_aligned_6inl_ligand  6inl_ligand  \n",
       "\n",
       "[696 rows x 12 columns]"
      ]
     },
     "execution_count": 22,
     "metadata": {},
     "output_type": "execute_result"
    }
   ],
   "source": [
    "resuls_pd[resuls_pd[\"ligand_name\"]==\"6inl_ligand\"].sort_values(by=\"energies\").sort_values(by=\"rmsds\")"
   ]
  },
  {
   "cell_type": "code",
   "execution_count": 23,
   "id": "e16aa035",
   "metadata": {},
   "outputs": [],
   "source": [
    "resuls_pd[\"ligand_categories\"] = resuls_pd[\"ligand_name\"].apply(lambda x: full_dataset[full_dataset[\"pdb_id\"]==x.split(\"_\")[0].upper()].iloc[0][\"ligand_category\"])"
   ]
  },
  {
   "cell_type": "code",
   "execution_count": 24,
   "id": "0c0e7e96",
   "metadata": {},
   "outputs": [],
   "source": [
    "resuls_pd[\"receptor_categories\"] = resuls_pd[\"receptor_id\"].apply(lambda x: receptor_categories[x])"
   ]
  },
  {
   "cell_type": "code",
   "execution_count": 51,
   "id": "d39d41fa",
   "metadata": {},
   "outputs": [],
   "source": [
    "results_summary = resuls_pd.sort_values(\"energies\", ascending=True).groupby(\"ligand_name\").head(10).groupby(\"ligand_name\")[\"rmsds\"].min().reset_index()\n",
    "results_summary.columns = [\"ligand_name\", \"best_rmsds_top5\"]\n",
    "results_summary [\"best_rmsds\"] = resuls_pd.sort_values(\"energies\", ascending=True).groupby(\"ligand_name\")[\"rmsds\"].min().reset_index()[\"rmsds\"]\n",
    "#results_summary [\"selected_rec\"] = resuls_pd.sort_values(\"energies\", ascending=True).groupby(\"ligand_name\")[\"rmsds\"].min().reset_index()[\"receptor_id\"]\n",
    "results_summary [\"best_rmsds_top1\"] = resuls_pd.sort_values(\"energies\", ascending=True).groupby(\"ligand_name\").head(1).groupby(\"ligand_name\")[\"rmsds\"].min().reset_index()[\"rmsds\"]\n",
    "results_summary[\"mean_rmsds_top5\"] = resuls_pd.sort_values(\"energies\", ascending=True).groupby(\"ligand_name\").head(5).groupby(\"ligand_name\")[\"rmsds\"].mean().reset_index()[\"rmsds\"]\n",
    "results_summary[\"std_rmsds_top5\"] = resuls_pd.sort_values(\"energies\", ascending=True).groupby(\"ligand_name\").head(5).groupby(\"ligand_name\")[\"rmsds\"].std().reset_index()[\"rmsds\"]"
   ]
  },
  {
   "cell_type": "code",
   "execution_count": 52,
   "id": "6286b787",
   "metadata": {},
   "outputs": [
    {
     "data": {
      "text/html": [
       "<div>\n",
       "<style scoped>\n",
       "    .dataframe tbody tr th:only-of-type {\n",
       "        vertical-align: middle;\n",
       "    }\n",
       "\n",
       "    .dataframe tbody tr th {\n",
       "        vertical-align: top;\n",
       "    }\n",
       "\n",
       "    .dataframe thead th {\n",
       "        text-align: right;\n",
       "    }\n",
       "</style>\n",
       "<table border=\"1\" class=\"dataframe\">\n",
       "  <thead>\n",
       "    <tr style=\"text-align: right;\">\n",
       "      <th></th>\n",
       "      <th>ligand_name</th>\n",
       "      <th>best_rmsds_top5</th>\n",
       "      <th>best_rmsds</th>\n",
       "      <th>best_rmsds_top1</th>\n",
       "      <th>mean_rmsds_top5</th>\n",
       "      <th>std_rmsds_top5</th>\n",
       "    </tr>\n",
       "  </thead>\n",
       "  <tbody>\n",
       "    <tr>\n",
       "      <th>0</th>\n",
       "      <td>3ns9_ligand</td>\n",
       "      <td>6.888610</td>\n",
       "      <td>1.349567</td>\n",
       "      <td>6.895128</td>\n",
       "      <td>6.893824</td>\n",
       "      <td>0.002915</td>\n",
       "    </tr>\n",
       "    <tr>\n",
       "      <th>1</th>\n",
       "      <td>3r71_ligand</td>\n",
       "      <td>1.844475</td>\n",
       "      <td>1.467957</td>\n",
       "      <td>5.904052</td>\n",
       "      <td>5.899827</td>\n",
       "      <td>0.009446</td>\n",
       "    </tr>\n",
       "    <tr>\n",
       "      <th>2</th>\n",
       "      <td>6inl_ligand</td>\n",
       "      <td>1.587441</td>\n",
       "      <td>1.571993</td>\n",
       "      <td>1.587556</td>\n",
       "      <td>1.587533</td>\n",
       "      <td>0.000051</td>\n",
       "    </tr>\n",
       "    <tr>\n",
       "      <th>3</th>\n",
       "      <td>3rai_ligand</td>\n",
       "      <td>9.939425</td>\n",
       "      <td>1.606133</td>\n",
       "      <td>9.946488</td>\n",
       "      <td>9.948854</td>\n",
       "      <td>0.005290</td>\n",
       "    </tr>\n",
       "    <tr>\n",
       "      <th>4</th>\n",
       "      <td>3r73_ligand</td>\n",
       "      <td>5.750467</td>\n",
       "      <td>1.711741</td>\n",
       "      <td>5.754142</td>\n",
       "      <td>5.754216</td>\n",
       "      <td>0.000166</td>\n",
       "    </tr>\n",
       "    <tr>\n",
       "      <th>5</th>\n",
       "      <td>3ddp_ligand</td>\n",
       "      <td>4.492268</td>\n",
       "      <td>2.089100</td>\n",
       "      <td>4.502001</td>\n",
       "      <td>4.500054</td>\n",
       "      <td>0.004353</td>\n",
       "    </tr>\n",
       "    <tr>\n",
       "      <th>6</th>\n",
       "      <td>1h00_ligand_fcp</td>\n",
       "      <td>3.524417</td>\n",
       "      <td>3.005377</td>\n",
       "      <td>3.524417</td>\n",
       "      <td>3.524417</td>\n",
       "      <td>0.000000</td>\n",
       "    </tr>\n",
       "    <tr>\n",
       "      <th>7</th>\n",
       "      <td>1h00_ligand_fap</td>\n",
       "      <td>4.667915</td>\n",
       "      <td>3.262525</td>\n",
       "      <td>4.667915</td>\n",
       "      <td>4.667915</td>\n",
       "      <td>0.000000</td>\n",
       "    </tr>\n",
       "    <tr>\n",
       "      <th>8</th>\n",
       "      <td>3eid_ligand</td>\n",
       "      <td>5.173122</td>\n",
       "      <td>3.668447</td>\n",
       "      <td>5.173122</td>\n",
       "      <td>5.176745</td>\n",
       "      <td>0.008102</td>\n",
       "    </tr>\n",
       "    <tr>\n",
       "      <th>9</th>\n",
       "      <td>1h08_ligand</td>\n",
       "      <td>5.590708</td>\n",
       "      <td>3.734912</td>\n",
       "      <td>5.623077</td>\n",
       "      <td>5.618975</td>\n",
       "      <td>0.009173</td>\n",
       "    </tr>\n",
       "    <tr>\n",
       "      <th>10</th>\n",
       "      <td>1h01_ligand_fal</td>\n",
       "      <td>10.192454</td>\n",
       "      <td>3.990045</td>\n",
       "      <td>10.192454</td>\n",
       "      <td>10.192454</td>\n",
       "      <td>0.000000</td>\n",
       "    </tr>\n",
       "    <tr>\n",
       "      <th>11</th>\n",
       "      <td>2w05_ligand</td>\n",
       "      <td>6.340192</td>\n",
       "      <td>4.220749</td>\n",
       "      <td>7.944266</td>\n",
       "      <td>7.623451</td>\n",
       "      <td>0.717364</td>\n",
       "    </tr>\n",
       "    <tr>\n",
       "      <th>12</th>\n",
       "      <td>1h07_ligand_mfp</td>\n",
       "      <td>11.553438</td>\n",
       "      <td>4.284412</td>\n",
       "      <td>11.553438</td>\n",
       "      <td>11.553438</td>\n",
       "      <td>0.000000</td>\n",
       "    </tr>\n",
       "    <tr>\n",
       "      <th>13</th>\n",
       "      <td>1h07_ligand_mfq</td>\n",
       "      <td>10.675497</td>\n",
       "      <td>4.424194</td>\n",
       "      <td>10.675497</td>\n",
       "      <td>10.675497</td>\n",
       "      <td>0.000000</td>\n",
       "    </tr>\n",
       "    <tr>\n",
       "      <th>14</th>\n",
       "      <td>1h01_ligand_fbl</td>\n",
       "      <td>9.894905</td>\n",
       "      <td>4.536806</td>\n",
       "      <td>9.942716</td>\n",
       "      <td>9.942716</td>\n",
       "      <td>0.000000</td>\n",
       "    </tr>\n",
       "  </tbody>\n",
       "</table>\n",
       "</div>"
      ],
      "text/plain": [
       "        ligand_name  best_rmsds_top5  best_rmsds  best_rmsds_top1  \\\n",
       "0       3ns9_ligand         6.888610    1.349567         6.895128   \n",
       "1       3r71_ligand         1.844475    1.467957         5.904052   \n",
       "2       6inl_ligand         1.587441    1.571993         1.587556   \n",
       "3       3rai_ligand         9.939425    1.606133         9.946488   \n",
       "4       3r73_ligand         5.750467    1.711741         5.754142   \n",
       "5       3ddp_ligand         4.492268    2.089100         4.502001   \n",
       "6   1h00_ligand_fcp         3.524417    3.005377         3.524417   \n",
       "7   1h00_ligand_fap         4.667915    3.262525         4.667915   \n",
       "8       3eid_ligand         5.173122    3.668447         5.173122   \n",
       "9       1h08_ligand         5.590708    3.734912         5.623077   \n",
       "10  1h01_ligand_fal        10.192454    3.990045        10.192454   \n",
       "11      2w05_ligand         6.340192    4.220749         7.944266   \n",
       "12  1h07_ligand_mfp        11.553438    4.284412        11.553438   \n",
       "13  1h07_ligand_mfq        10.675497    4.424194        10.675497   \n",
       "14  1h01_ligand_fbl         9.894905    4.536806         9.942716   \n",
       "\n",
       "    mean_rmsds_top5  std_rmsds_top5  \n",
       "0          6.893824        0.002915  \n",
       "1          5.899827        0.009446  \n",
       "2          1.587533        0.000051  \n",
       "3          9.948854        0.005290  \n",
       "4          5.754216        0.000166  \n",
       "5          4.500054        0.004353  \n",
       "6          3.524417        0.000000  \n",
       "7          4.667915        0.000000  \n",
       "8          5.176745        0.008102  \n",
       "9          5.618975        0.009173  \n",
       "10        10.192454        0.000000  \n",
       "11         7.623451        0.717364  \n",
       "12        11.553438        0.000000  \n",
       "13        10.675497        0.000000  \n",
       "14         9.942716        0.000000  "
      ]
     },
     "execution_count": 52,
     "metadata": {},
     "output_type": "execute_result"
    }
   ],
   "source": [
    "results_summary = results_summary.sort_values(\"best_rmsds\").reset_index(drop=True)\n",
    "results_summary"
   ]
  },
  {
   "cell_type": "code",
   "execution_count": 27,
   "id": "2fca14df",
   "metadata": {},
   "outputs": [
    {
     "data": {
      "text/plain": [
       "['3ns9_ligand',\n",
       " '3r71_ligand',\n",
       " '6inl_ligand',\n",
       " '3rai_ligand',\n",
       " '3r73_ligand',\n",
       " '3ddp_ligand']"
      ]
     },
     "execution_count": 27,
     "metadata": {},
     "output_type": "execute_result"
    }
   ],
   "source": [
    "selected_ligands = list(results_summary[:6][\"ligand_name\"])\n",
    "selected_ligands"
   ]
  },
  {
   "cell_type": "code",
   "execution_count": null,
   "id": "491a6cee",
   "metadata": {},
   "outputs": [],
   "source": []
  },
  {
   "cell_type": "code",
   "execution_count": 62,
   "id": "1770553c",
   "metadata": {},
   "outputs": [
    {
     "data": {
      "application/vnd.plotly.v1+json": {
       "config": {
        "plotlyServerURL": "https://plot.ly"
       },
       "data": [
        {
         "alignmentgroup": "True",
         "boxpoints": "all",
         "hovertemplate": "Receptor Conformation Type=A-loop IN<br>Ligand Type=%{x}<br>Best in Top 10 RMSD=%{y}<extra></extra>",
         "legendgroup": "A-loop IN",
         "marker": {
          "color": "#FF6C90",
          "size": 10
         },
         "name": "A-loop IN",
         "notched": false,
         "offsetgroup": "A-loop IN",
         "orientation": "v",
         "showlegend": true,
         "type": "box",
         "x": [
          "A-loop IN",
          "A-loop OUT",
          "A-loop OUT",
          "A-loop IN",
          "A-loop IN",
          "A-loop IN",
          "A-loop IN"
         ],
         "x0": " ",
         "xaxis": "x",
         "y": [
          1.8444754078776728,
          3.524417482243753,
          5.173122122151178,
          5.590707582601473,
          6.888610222135857,
          10.675496967121989,
          11.553437789680256
         ],
         "y0": " ",
         "yaxis": "y"
        },
        {
         "alignmentgroup": "True",
         "boxpoints": "all",
         "hovertemplate": "Receptor Conformation Type=A-loop OUT<br>Ligand Type=%{x}<br>Best in Top 10 RMSD=%{y}<extra></extra>",
         "legendgroup": "A-loop OUT",
         "marker": {
          "color": "#00B0F6",
          "size": 10
         },
         "name": "A-loop OUT",
         "notched": false,
         "offsetgroup": "A-loop OUT",
         "orientation": "v",
         "showlegend": true,
         "type": "box",
         "x": [
          "A-loop OUT",
          "A-loop OUT",
          "A-loop OUT",
          "A-loop IN",
          "A-loop OUT",
          "A-loop IN",
          "A-loop IN",
          "A-loop IN"
         ],
         "x0": " ",
         "xaxis": "x",
         "y": [
          1.587441212254172,
          4.492267980539257,
          4.667914787074487,
          5.750466927164656,
          6.340192152528258,
          9.894904962936076,
          9.93942535081895,
          10.192454421641289
         ],
         "y0": " ",
         "yaxis": "y"
        }
       ],
       "layout": {
        "boxmode": "group",
        "legend": {
         "title": {
          "text": "Receptor Conformation Type"
         },
         "tracegroupgap": 0
        },
        "margin": {
         "t": 60
        },
        "template": {
         "data": {
          "bar": [
           {
            "error_x": {
             "color": "rgb(51,51,51)"
            },
            "error_y": {
             "color": "rgb(51,51,51)"
            },
            "marker": {
             "line": {
              "color": "rgb(237,237,237)",
              "width": 0.5
             },
             "pattern": {
              "fillmode": "overlay",
              "size": 10,
              "solidity": 0.2
             }
            },
            "type": "bar"
           }
          ],
          "barpolar": [
           {
            "marker": {
             "line": {
              "color": "rgb(237,237,237)",
              "width": 0.5
             },
             "pattern": {
              "fillmode": "overlay",
              "size": 10,
              "solidity": 0.2
             }
            },
            "type": "barpolar"
           }
          ],
          "carpet": [
           {
            "aaxis": {
             "endlinecolor": "rgb(51,51,51)",
             "gridcolor": "white",
             "linecolor": "white",
             "minorgridcolor": "white",
             "startlinecolor": "rgb(51,51,51)"
            },
            "baxis": {
             "endlinecolor": "rgb(51,51,51)",
             "gridcolor": "white",
             "linecolor": "white",
             "minorgridcolor": "white",
             "startlinecolor": "rgb(51,51,51)"
            },
            "type": "carpet"
           }
          ],
          "choropleth": [
           {
            "colorbar": {
             "outlinewidth": 0,
             "tickcolor": "rgb(237,237,237)",
             "ticklen": 6,
             "ticks": "inside"
            },
            "type": "choropleth"
           }
          ],
          "contour": [
           {
            "colorbar": {
             "outlinewidth": 0,
             "tickcolor": "rgb(237,237,237)",
             "ticklen": 6,
             "ticks": "inside"
            },
            "colorscale": [
             [
              0,
              "rgb(20,44,66)"
             ],
             [
              1,
              "rgb(90,179,244)"
             ]
            ],
            "type": "contour"
           }
          ],
          "contourcarpet": [
           {
            "colorbar": {
             "outlinewidth": 0,
             "tickcolor": "rgb(237,237,237)",
             "ticklen": 6,
             "ticks": "inside"
            },
            "type": "contourcarpet"
           }
          ],
          "heatmap": [
           {
            "colorbar": {
             "outlinewidth": 0,
             "tickcolor": "rgb(237,237,237)",
             "ticklen": 6,
             "ticks": "inside"
            },
            "colorscale": [
             [
              0,
              "rgb(20,44,66)"
             ],
             [
              1,
              "rgb(90,179,244)"
             ]
            ],
            "type": "heatmap"
           }
          ],
          "heatmapgl": [
           {
            "colorbar": {
             "outlinewidth": 0,
             "tickcolor": "rgb(237,237,237)",
             "ticklen": 6,
             "ticks": "inside"
            },
            "colorscale": [
             [
              0,
              "rgb(20,44,66)"
             ],
             [
              1,
              "rgb(90,179,244)"
             ]
            ],
            "type": "heatmapgl"
           }
          ],
          "histogram": [
           {
            "marker": {
             "pattern": {
              "fillmode": "overlay",
              "size": 10,
              "solidity": 0.2
             }
            },
            "type": "histogram"
           }
          ],
          "histogram2d": [
           {
            "colorbar": {
             "outlinewidth": 0,
             "tickcolor": "rgb(237,237,237)",
             "ticklen": 6,
             "ticks": "inside"
            },
            "colorscale": [
             [
              0,
              "rgb(20,44,66)"
             ],
             [
              1,
              "rgb(90,179,244)"
             ]
            ],
            "type": "histogram2d"
           }
          ],
          "histogram2dcontour": [
           {
            "colorbar": {
             "outlinewidth": 0,
             "tickcolor": "rgb(237,237,237)",
             "ticklen": 6,
             "ticks": "inside"
            },
            "colorscale": [
             [
              0,
              "rgb(20,44,66)"
             ],
             [
              1,
              "rgb(90,179,244)"
             ]
            ],
            "type": "histogram2dcontour"
           }
          ],
          "mesh3d": [
           {
            "colorbar": {
             "outlinewidth": 0,
             "tickcolor": "rgb(237,237,237)",
             "ticklen": 6,
             "ticks": "inside"
            },
            "type": "mesh3d"
           }
          ],
          "parcoords": [
           {
            "line": {
             "colorbar": {
              "outlinewidth": 0,
              "tickcolor": "rgb(237,237,237)",
              "ticklen": 6,
              "ticks": "inside"
             }
            },
            "type": "parcoords"
           }
          ],
          "pie": [
           {
            "automargin": true,
            "type": "pie"
           }
          ],
          "scatter": [
           {
            "fillpattern": {
             "fillmode": "overlay",
             "size": 10,
             "solidity": 0.2
            },
            "type": "scatter"
           }
          ],
          "scatter3d": [
           {
            "line": {
             "colorbar": {
              "outlinewidth": 0,
              "tickcolor": "rgb(237,237,237)",
              "ticklen": 6,
              "ticks": "inside"
             }
            },
            "marker": {
             "colorbar": {
              "outlinewidth": 0,
              "tickcolor": "rgb(237,237,237)",
              "ticklen": 6,
              "ticks": "inside"
             }
            },
            "type": "scatter3d"
           }
          ],
          "scattercarpet": [
           {
            "marker": {
             "colorbar": {
              "outlinewidth": 0,
              "tickcolor": "rgb(237,237,237)",
              "ticklen": 6,
              "ticks": "inside"
             }
            },
            "type": "scattercarpet"
           }
          ],
          "scattergeo": [
           {
            "marker": {
             "colorbar": {
              "outlinewidth": 0,
              "tickcolor": "rgb(237,237,237)",
              "ticklen": 6,
              "ticks": "inside"
             }
            },
            "type": "scattergeo"
           }
          ],
          "scattergl": [
           {
            "marker": {
             "colorbar": {
              "outlinewidth": 0,
              "tickcolor": "rgb(237,237,237)",
              "ticklen": 6,
              "ticks": "inside"
             }
            },
            "type": "scattergl"
           }
          ],
          "scattermapbox": [
           {
            "marker": {
             "colorbar": {
              "outlinewidth": 0,
              "tickcolor": "rgb(237,237,237)",
              "ticklen": 6,
              "ticks": "inside"
             }
            },
            "type": "scattermapbox"
           }
          ],
          "scatterpolar": [
           {
            "marker": {
             "colorbar": {
              "outlinewidth": 0,
              "tickcolor": "rgb(237,237,237)",
              "ticklen": 6,
              "ticks": "inside"
             }
            },
            "type": "scatterpolar"
           }
          ],
          "scatterpolargl": [
           {
            "marker": {
             "colorbar": {
              "outlinewidth": 0,
              "tickcolor": "rgb(237,237,237)",
              "ticklen": 6,
              "ticks": "inside"
             }
            },
            "type": "scatterpolargl"
           }
          ],
          "scatterternary": [
           {
            "marker": {
             "colorbar": {
              "outlinewidth": 0,
              "tickcolor": "rgb(237,237,237)",
              "ticklen": 6,
              "ticks": "inside"
             }
            },
            "type": "scatterternary"
           }
          ],
          "surface": [
           {
            "colorbar": {
             "outlinewidth": 0,
             "tickcolor": "rgb(237,237,237)",
             "ticklen": 6,
             "ticks": "inside"
            },
            "colorscale": [
             [
              0,
              "rgb(20,44,66)"
             ],
             [
              1,
              "rgb(90,179,244)"
             ]
            ],
            "type": "surface"
           }
          ],
          "table": [
           {
            "cells": {
             "fill": {
              "color": "rgb(237,237,237)"
             },
             "line": {
              "color": "white"
             }
            },
            "header": {
             "fill": {
              "color": "rgb(217,217,217)"
             },
             "line": {
              "color": "white"
             }
            },
            "type": "table"
           }
          ]
         },
         "layout": {
          "annotationdefaults": {
           "arrowhead": 0,
           "arrowwidth": 1
          },
          "autotypenumbers": "strict",
          "coloraxis": {
           "colorbar": {
            "outlinewidth": 0,
            "tickcolor": "rgb(237,237,237)",
            "ticklen": 6,
            "ticks": "inside"
           }
          },
          "colorscale": {
           "sequential": [
            [
             0,
             "rgb(20,44,66)"
            ],
            [
             1,
             "rgb(90,179,244)"
            ]
           ],
           "sequentialminus": [
            [
             0,
             "rgb(20,44,66)"
            ],
            [
             1,
             "rgb(90,179,244)"
            ]
           ]
          },
          "colorway": [
           "#F8766D",
           "#A3A500",
           "#00BF7D",
           "#00B0F6",
           "#E76BF3"
          ],
          "font": {
           "color": "rgb(51,51,51)"
          },
          "geo": {
           "bgcolor": "white",
           "lakecolor": "white",
           "landcolor": "rgb(237,237,237)",
           "showlakes": true,
           "showland": true,
           "subunitcolor": "white"
          },
          "hoverlabel": {
           "align": "left"
          },
          "hovermode": "closest",
          "paper_bgcolor": "white",
          "plot_bgcolor": "rgb(237,237,237)",
          "polar": {
           "angularaxis": {
            "gridcolor": "white",
            "linecolor": "white",
            "showgrid": true,
            "tickcolor": "rgb(51,51,51)",
            "ticks": "outside"
           },
           "bgcolor": "rgb(237,237,237)",
           "radialaxis": {
            "gridcolor": "white",
            "linecolor": "white",
            "showgrid": true,
            "tickcolor": "rgb(51,51,51)",
            "ticks": "outside"
           }
          },
          "scene": {
           "xaxis": {
            "backgroundcolor": "rgb(237,237,237)",
            "gridcolor": "white",
            "gridwidth": 2,
            "linecolor": "white",
            "showbackground": true,
            "showgrid": true,
            "tickcolor": "rgb(51,51,51)",
            "ticks": "outside",
            "zerolinecolor": "white"
           },
           "yaxis": {
            "backgroundcolor": "rgb(237,237,237)",
            "gridcolor": "white",
            "gridwidth": 2,
            "linecolor": "white",
            "showbackground": true,
            "showgrid": true,
            "tickcolor": "rgb(51,51,51)",
            "ticks": "outside",
            "zerolinecolor": "white"
           },
           "zaxis": {
            "backgroundcolor": "rgb(237,237,237)",
            "gridcolor": "white",
            "gridwidth": 2,
            "linecolor": "white",
            "showbackground": true,
            "showgrid": true,
            "tickcolor": "rgb(51,51,51)",
            "ticks": "outside",
            "zerolinecolor": "white"
           }
          },
          "shapedefaults": {
           "fillcolor": "black",
           "line": {
            "width": 0
           },
           "opacity": 0.3
          },
          "ternary": {
           "aaxis": {
            "gridcolor": "white",
            "linecolor": "white",
            "showgrid": true,
            "tickcolor": "rgb(51,51,51)",
            "ticks": "outside"
           },
           "baxis": {
            "gridcolor": "white",
            "linecolor": "white",
            "showgrid": true,
            "tickcolor": "rgb(51,51,51)",
            "ticks": "outside"
           },
           "bgcolor": "rgb(237,237,237)",
           "caxis": {
            "gridcolor": "white",
            "linecolor": "white",
            "showgrid": true,
            "tickcolor": "rgb(51,51,51)",
            "ticks": "outside"
           }
          },
          "xaxis": {
           "automargin": true,
           "gridcolor": "white",
           "linecolor": "white",
           "showgrid": true,
           "tickcolor": "rgb(51,51,51)",
           "ticks": "outside",
           "title": {
            "standoff": 15
           },
           "zerolinecolor": "white"
          },
          "yaxis": {
           "automargin": true,
           "gridcolor": "white",
           "linecolor": "white",
           "showgrid": true,
           "tickcolor": "rgb(51,51,51)",
           "ticks": "outside",
           "title": {
            "standoff": 15
           },
           "zerolinecolor": "white"
          }
         }
        },
        "xaxis": {
         "anchor": "y",
         "domain": [
          0,
          1
         ],
         "title": {
          "text": "Ligand Type"
         }
        },
        "yaxis": {
         "anchor": "x",
         "domain": [
          0,
          1
         ],
         "title": {
          "text": "Best in Top 10 RMSD"
         }
        }
       }
      },
      "text/html": [
       "<div>                            <div id=\"eae90b9a-f913-4f13-b527-0db71164364e\" class=\"plotly-graph-div\" style=\"height:525px; width:100%;\"></div>            <script type=\"text/javascript\">                require([\"plotly\"], function(Plotly) {                    window.PLOTLYENV=window.PLOTLYENV || {};                                    if (document.getElementById(\"eae90b9a-f913-4f13-b527-0db71164364e\")) {                    Plotly.newPlot(                        \"eae90b9a-f913-4f13-b527-0db71164364e\",                        [{\"alignmentgroup\":\"True\",\"boxpoints\":\"all\",\"hovertemplate\":\"Receptor Conformation Type=A-loop IN\\u003cbr\\u003eLigand Type=%{x}\\u003cbr\\u003eBest in Top 10 RMSD=%{y}\\u003cextra\\u003e\\u003c\\u002fextra\\u003e\",\"legendgroup\":\"A-loop IN\",\"marker\":{\"color\":\"#FF6C90\",\"size\":10},\"name\":\"A-loop IN\",\"notched\":false,\"offsetgroup\":\"A-loop IN\",\"orientation\":\"v\",\"showlegend\":true,\"x\":[\"A-loop IN\",\"A-loop OUT\",\"A-loop OUT\",\"A-loop IN\",\"A-loop IN\",\"A-loop IN\",\"A-loop IN\"],\"x0\":\" \",\"xaxis\":\"x\",\"y\":[1.8444754078776728,3.524417482243753,5.173122122151178,5.590707582601473,6.888610222135857,10.675496967121989,11.553437789680256],\"y0\":\" \",\"yaxis\":\"y\",\"type\":\"box\"},{\"alignmentgroup\":\"True\",\"boxpoints\":\"all\",\"hovertemplate\":\"Receptor Conformation Type=A-loop OUT\\u003cbr\\u003eLigand Type=%{x}\\u003cbr\\u003eBest in Top 10 RMSD=%{y}\\u003cextra\\u003e\\u003c\\u002fextra\\u003e\",\"legendgroup\":\"A-loop OUT\",\"marker\":{\"color\":\"#00B0F6\",\"size\":10},\"name\":\"A-loop OUT\",\"notched\":false,\"offsetgroup\":\"A-loop OUT\",\"orientation\":\"v\",\"showlegend\":true,\"x\":[\"A-loop OUT\",\"A-loop OUT\",\"A-loop OUT\",\"A-loop IN\",\"A-loop OUT\",\"A-loop IN\",\"A-loop IN\",\"A-loop IN\"],\"x0\":\" \",\"xaxis\":\"x\",\"y\":[1.587441212254172,4.492267980539257,4.667914787074487,5.750466927164656,6.340192152528258,9.894904962936076,9.93942535081895,10.192454421641289],\"y0\":\" \",\"yaxis\":\"y\",\"type\":\"box\"}],                        {\"template\":{\"data\":{\"barpolar\":[{\"marker\":{\"line\":{\"color\":\"rgb(237,237,237)\",\"width\":0.5},\"pattern\":{\"fillmode\":\"overlay\",\"size\":10,\"solidity\":0.2}},\"type\":\"barpolar\"}],\"bar\":[{\"error_x\":{\"color\":\"rgb(51,51,51)\"},\"error_y\":{\"color\":\"rgb(51,51,51)\"},\"marker\":{\"line\":{\"color\":\"rgb(237,237,237)\",\"width\":0.5},\"pattern\":{\"fillmode\":\"overlay\",\"size\":10,\"solidity\":0.2}},\"type\":\"bar\"}],\"carpet\":[{\"aaxis\":{\"endlinecolor\":\"rgb(51,51,51)\",\"gridcolor\":\"white\",\"linecolor\":\"white\",\"minorgridcolor\":\"white\",\"startlinecolor\":\"rgb(51,51,51)\"},\"baxis\":{\"endlinecolor\":\"rgb(51,51,51)\",\"gridcolor\":\"white\",\"linecolor\":\"white\",\"minorgridcolor\":\"white\",\"startlinecolor\":\"rgb(51,51,51)\"},\"type\":\"carpet\"}],\"choropleth\":[{\"colorbar\":{\"outlinewidth\":0,\"tickcolor\":\"rgb(237,237,237)\",\"ticklen\":6,\"ticks\":\"inside\"},\"type\":\"choropleth\"}],\"contourcarpet\":[{\"colorbar\":{\"outlinewidth\":0,\"tickcolor\":\"rgb(237,237,237)\",\"ticklen\":6,\"ticks\":\"inside\"},\"type\":\"contourcarpet\"}],\"contour\":[{\"colorbar\":{\"outlinewidth\":0,\"tickcolor\":\"rgb(237,237,237)\",\"ticklen\":6,\"ticks\":\"inside\"},\"colorscale\":[[0,\"rgb(20,44,66)\"],[1,\"rgb(90,179,244)\"]],\"type\":\"contour\"}],\"heatmapgl\":[{\"colorbar\":{\"outlinewidth\":0,\"tickcolor\":\"rgb(237,237,237)\",\"ticklen\":6,\"ticks\":\"inside\"},\"colorscale\":[[0,\"rgb(20,44,66)\"],[1,\"rgb(90,179,244)\"]],\"type\":\"heatmapgl\"}],\"heatmap\":[{\"colorbar\":{\"outlinewidth\":0,\"tickcolor\":\"rgb(237,237,237)\",\"ticklen\":6,\"ticks\":\"inside\"},\"colorscale\":[[0,\"rgb(20,44,66)\"],[1,\"rgb(90,179,244)\"]],\"type\":\"heatmap\"}],\"histogram2dcontour\":[{\"colorbar\":{\"outlinewidth\":0,\"tickcolor\":\"rgb(237,237,237)\",\"ticklen\":6,\"ticks\":\"inside\"},\"colorscale\":[[0,\"rgb(20,44,66)\"],[1,\"rgb(90,179,244)\"]],\"type\":\"histogram2dcontour\"}],\"histogram2d\":[{\"colorbar\":{\"outlinewidth\":0,\"tickcolor\":\"rgb(237,237,237)\",\"ticklen\":6,\"ticks\":\"inside\"},\"colorscale\":[[0,\"rgb(20,44,66)\"],[1,\"rgb(90,179,244)\"]],\"type\":\"histogram2d\"}],\"histogram\":[{\"marker\":{\"pattern\":{\"fillmode\":\"overlay\",\"size\":10,\"solidity\":0.2}},\"type\":\"histogram\"}],\"mesh3d\":[{\"colorbar\":{\"outlinewidth\":0,\"tickcolor\":\"rgb(237,237,237)\",\"ticklen\":6,\"ticks\":\"inside\"},\"type\":\"mesh3d\"}],\"parcoords\":[{\"line\":{\"colorbar\":{\"outlinewidth\":0,\"tickcolor\":\"rgb(237,237,237)\",\"ticklen\":6,\"ticks\":\"inside\"}},\"type\":\"parcoords\"}],\"pie\":[{\"automargin\":true,\"type\":\"pie\"}],\"scatter3d\":[{\"line\":{\"colorbar\":{\"outlinewidth\":0,\"tickcolor\":\"rgb(237,237,237)\",\"ticklen\":6,\"ticks\":\"inside\"}},\"marker\":{\"colorbar\":{\"outlinewidth\":0,\"tickcolor\":\"rgb(237,237,237)\",\"ticklen\":6,\"ticks\":\"inside\"}},\"type\":\"scatter3d\"}],\"scattercarpet\":[{\"marker\":{\"colorbar\":{\"outlinewidth\":0,\"tickcolor\":\"rgb(237,237,237)\",\"ticklen\":6,\"ticks\":\"inside\"}},\"type\":\"scattercarpet\"}],\"scattergeo\":[{\"marker\":{\"colorbar\":{\"outlinewidth\":0,\"tickcolor\":\"rgb(237,237,237)\",\"ticklen\":6,\"ticks\":\"inside\"}},\"type\":\"scattergeo\"}],\"scattergl\":[{\"marker\":{\"colorbar\":{\"outlinewidth\":0,\"tickcolor\":\"rgb(237,237,237)\",\"ticklen\":6,\"ticks\":\"inside\"}},\"type\":\"scattergl\"}],\"scattermapbox\":[{\"marker\":{\"colorbar\":{\"outlinewidth\":0,\"tickcolor\":\"rgb(237,237,237)\",\"ticklen\":6,\"ticks\":\"inside\"}},\"type\":\"scattermapbox\"}],\"scatterpolargl\":[{\"marker\":{\"colorbar\":{\"outlinewidth\":0,\"tickcolor\":\"rgb(237,237,237)\",\"ticklen\":6,\"ticks\":\"inside\"}},\"type\":\"scatterpolargl\"}],\"scatterpolar\":[{\"marker\":{\"colorbar\":{\"outlinewidth\":0,\"tickcolor\":\"rgb(237,237,237)\",\"ticklen\":6,\"ticks\":\"inside\"}},\"type\":\"scatterpolar\"}],\"scatter\":[{\"fillpattern\":{\"fillmode\":\"overlay\",\"size\":10,\"solidity\":0.2},\"type\":\"scatter\"}],\"scatterternary\":[{\"marker\":{\"colorbar\":{\"outlinewidth\":0,\"tickcolor\":\"rgb(237,237,237)\",\"ticklen\":6,\"ticks\":\"inside\"}},\"type\":\"scatterternary\"}],\"surface\":[{\"colorbar\":{\"outlinewidth\":0,\"tickcolor\":\"rgb(237,237,237)\",\"ticklen\":6,\"ticks\":\"inside\"},\"colorscale\":[[0,\"rgb(20,44,66)\"],[1,\"rgb(90,179,244)\"]],\"type\":\"surface\"}],\"table\":[{\"cells\":{\"fill\":{\"color\":\"rgb(237,237,237)\"},\"line\":{\"color\":\"white\"}},\"header\":{\"fill\":{\"color\":\"rgb(217,217,217)\"},\"line\":{\"color\":\"white\"}},\"type\":\"table\"}]},\"layout\":{\"annotationdefaults\":{\"arrowhead\":0,\"arrowwidth\":1},\"autotypenumbers\":\"strict\",\"coloraxis\":{\"colorbar\":{\"outlinewidth\":0,\"tickcolor\":\"rgb(237,237,237)\",\"ticklen\":6,\"ticks\":\"inside\"}},\"colorscale\":{\"sequential\":[[0,\"rgb(20,44,66)\"],[1,\"rgb(90,179,244)\"]],\"sequentialminus\":[[0,\"rgb(20,44,66)\"],[1,\"rgb(90,179,244)\"]]},\"colorway\":[\"#F8766D\",\"#A3A500\",\"#00BF7D\",\"#00B0F6\",\"#E76BF3\"],\"font\":{\"color\":\"rgb(51,51,51)\"},\"geo\":{\"bgcolor\":\"white\",\"lakecolor\":\"white\",\"landcolor\":\"rgb(237,237,237)\",\"showlakes\":true,\"showland\":true,\"subunitcolor\":\"white\"},\"hoverlabel\":{\"align\":\"left\"},\"hovermode\":\"closest\",\"paper_bgcolor\":\"white\",\"plot_bgcolor\":\"rgb(237,237,237)\",\"polar\":{\"angularaxis\":{\"gridcolor\":\"white\",\"linecolor\":\"white\",\"showgrid\":true,\"tickcolor\":\"rgb(51,51,51)\",\"ticks\":\"outside\"},\"bgcolor\":\"rgb(237,237,237)\",\"radialaxis\":{\"gridcolor\":\"white\",\"linecolor\":\"white\",\"showgrid\":true,\"tickcolor\":\"rgb(51,51,51)\",\"ticks\":\"outside\"}},\"scene\":{\"xaxis\":{\"backgroundcolor\":\"rgb(237,237,237)\",\"gridcolor\":\"white\",\"gridwidth\":2,\"linecolor\":\"white\",\"showbackground\":true,\"showgrid\":true,\"tickcolor\":\"rgb(51,51,51)\",\"ticks\":\"outside\",\"zerolinecolor\":\"white\"},\"yaxis\":{\"backgroundcolor\":\"rgb(237,237,237)\",\"gridcolor\":\"white\",\"gridwidth\":2,\"linecolor\":\"white\",\"showbackground\":true,\"showgrid\":true,\"tickcolor\":\"rgb(51,51,51)\",\"ticks\":\"outside\",\"zerolinecolor\":\"white\"},\"zaxis\":{\"backgroundcolor\":\"rgb(237,237,237)\",\"gridcolor\":\"white\",\"gridwidth\":2,\"linecolor\":\"white\",\"showbackground\":true,\"showgrid\":true,\"tickcolor\":\"rgb(51,51,51)\",\"ticks\":\"outside\",\"zerolinecolor\":\"white\"}},\"shapedefaults\":{\"fillcolor\":\"black\",\"line\":{\"width\":0},\"opacity\":0.3},\"ternary\":{\"aaxis\":{\"gridcolor\":\"white\",\"linecolor\":\"white\",\"showgrid\":true,\"tickcolor\":\"rgb(51,51,51)\",\"ticks\":\"outside\"},\"baxis\":{\"gridcolor\":\"white\",\"linecolor\":\"white\",\"showgrid\":true,\"tickcolor\":\"rgb(51,51,51)\",\"ticks\":\"outside\"},\"bgcolor\":\"rgb(237,237,237)\",\"caxis\":{\"gridcolor\":\"white\",\"linecolor\":\"white\",\"showgrid\":true,\"tickcolor\":\"rgb(51,51,51)\",\"ticks\":\"outside\"}},\"xaxis\":{\"automargin\":true,\"gridcolor\":\"white\",\"linecolor\":\"white\",\"showgrid\":true,\"tickcolor\":\"rgb(51,51,51)\",\"ticks\":\"outside\",\"title\":{\"standoff\":15},\"zerolinecolor\":\"white\"},\"yaxis\":{\"automargin\":true,\"gridcolor\":\"white\",\"linecolor\":\"white\",\"showgrid\":true,\"tickcolor\":\"rgb(51,51,51)\",\"ticks\":\"outside\",\"title\":{\"standoff\":15},\"zerolinecolor\":\"white\"}}},\"xaxis\":{\"anchor\":\"y\",\"domain\":[0.0,1.0],\"title\":{\"text\":\"Ligand Type\"}},\"yaxis\":{\"anchor\":\"x\",\"domain\":[0.0,1.0],\"title\":{\"text\":\"Best in Top 10 RMSD\"}},\"legend\":{\"title\":{\"text\":\"Receptor Conformation Type\"},\"tracegroupgap\":0},\"margin\":{\"t\":60},\"boxmode\":\"group\"},                        {\"responsive\": true}                    ).then(function(){\n",
       "                            \n",
       "var gd = document.getElementById('eae90b9a-f913-4f13-b527-0db71164364e');\n",
       "var x = new MutationObserver(function (mutations, observer) {{\n",
       "        var display = window.getComputedStyle(gd).display;\n",
       "        if (!display || display === 'none') {{\n",
       "            console.log([gd, 'removed!']);\n",
       "            Plotly.purge(gd);\n",
       "            observer.disconnect();\n",
       "        }}\n",
       "}});\n",
       "\n",
       "// Listen for the removal of the full notebook cells\n",
       "var notebookContainer = gd.closest('#notebook-container');\n",
       "if (notebookContainer) {{\n",
       "    x.observe(notebookContainer, {childList: true});\n",
       "}}\n",
       "\n",
       "// Listen for the clearing of the current output cell\n",
       "var outputEl = gd.closest('.output');\n",
       "if (outputEl) {{\n",
       "    x.observe(outputEl, {childList: true});\n",
       "}}\n",
       "\n",
       "                        })                };                });            </script>        </div>"
      ]
     },
     "metadata": {},
     "output_type": "display_data"
    }
   ],
   "source": [
    "import plotly.express as px\n",
    "ligand_titles = {0: \"A-loop IN\", 1: \"A-loop OUT\"}\n",
    "receptor_titles = {0: \"A-loop IN\", 1: \"A-loop OUT\"}\n",
    "tmp_res = resuls_pd.sort_values(\"energies\").groupby(\"ligand_name\").head(10).reset_index()\n",
    "tmp_res = tmp_res.sort_values(\"rmsds\").groupby(\"ligand_name\").head(1).reset_index()\n",
    "tmp_res = tmp_res[[\"energies\", \"rmsds\",\"receptor_categories\", \"ligand_categories\"]]\n",
    "tmp_res[\"receptor_categories\"] = tmp_res[\"receptor_categories\"].apply(lambda x: receptor_titles[x])\n",
    "tmp_res[\"ligand_categories\"] = tmp_res[\"ligand_categories\"].apply(lambda x:ligand_titles[x])\n",
    "tmp_res.columns = [\"Best in Top 10 Energy (kcal/mol)\", \"Best in Top 10 RMSD\", \"Receptor Conformation Type\", \"Ligand Type\"]\n",
    "\n",
    "fig = px.box(tmp_res.sort_values(\"Receptor Conformation Type\"), \n",
    "             x='Ligand Type', y='Best in Top 10 RMSD', \n",
    "             color='Receptor Conformation Type', points=\"all\", \n",
    "             color_discrete_sequence = [\"#FF6C90\", \"#00B0F6\"],\n",
    "             template=\"ggplot2\")\n",
    "'''\n",
    "fig = px.scatter(tmp_res.sort_values(\"Receptor Conformation Type\"), \n",
    "             x='Ligand Type', y='Best in Top 10 RMSD', \n",
    "             color='Receptor Conformation Type',\n",
    "             color_discrete_sequence = [\"#FF6C90\", \"#00B0F6\"],\n",
    "             template=\"ggplot2\")\n",
    "'''\n",
    "fig.update_traces(marker_size=10)\n",
    "fig.show()\n",
    "fig.write_image(\"CDK2_results.svg\")"
   ]
  },
  {
   "cell_type": "code",
   "execution_count": 63,
   "id": "8d1c7dec",
   "metadata": {},
   "outputs": [],
   "source": [
    "fig._data_objs[0].pointpos = 0\n",
    "\n",
    "fig._data_objs[0].jitter = 1\n",
    "fig._data_objs[0].line = dict(color = 'rgba(0,0,0,0)')\n",
    "fig._data_objs[0].fillcolor = 'rgba(0,0,0,0)'\n",
    "fig._data_objs[1].pointpos = 0\n",
    "fig._data_objs[1].line = dict(color = 'rgba(0,0,0,0)')\n",
    "fig._data_objs[1].fillcolor = 'rgba(0,0,0,0)'\n"
   ]
  },
  {
   "cell_type": "code",
   "execution_count": 64,
   "id": "a5cd4261",
   "metadata": {},
   "outputs": [
    {
     "data": {
      "application/vnd.plotly.v1+json": {
       "config": {
        "plotlyServerURL": "https://plot.ly"
       },
       "data": [
        {
         "alignmentgroup": "True",
         "boxpoints": "all",
         "fillcolor": "rgba(0,0,0,0)",
         "hovertemplate": "Receptor Conformation Type=A-loop IN<br>Ligand Type=%{x}<br>Best in Top 10 RMSD=%{y}<extra></extra>",
         "jitter": 1,
         "legendgroup": "A-loop IN",
         "line": {
          "color": "rgba(0,0,0,0)"
         },
         "marker": {
          "color": "#FF6C90",
          "size": 10
         },
         "name": "A-loop IN",
         "notched": false,
         "offsetgroup": "A-loop IN",
         "orientation": "v",
         "pointpos": 0,
         "showlegend": true,
         "type": "box",
         "x": [
          "A-loop IN",
          "A-loop OUT",
          "A-loop OUT",
          "A-loop IN",
          "A-loop IN",
          "A-loop IN",
          "A-loop IN"
         ],
         "x0": " ",
         "xaxis": "x",
         "y": [
          1.8444754078776728,
          3.524417482243753,
          5.173122122151178,
          5.590707582601473,
          6.888610222135857,
          10.675496967121989,
          11.553437789680256
         ],
         "y0": " ",
         "yaxis": "y"
        },
        {
         "alignmentgroup": "True",
         "boxpoints": "all",
         "fillcolor": "rgba(0,0,0,0)",
         "hovertemplate": "Receptor Conformation Type=A-loop OUT<br>Ligand Type=%{x}<br>Best in Top 10 RMSD=%{y}<extra></extra>",
         "legendgroup": "A-loop OUT",
         "line": {
          "color": "rgba(0,0,0,0)"
         },
         "marker": {
          "color": "#00B0F6",
          "size": 10
         },
         "name": "A-loop OUT",
         "notched": false,
         "offsetgroup": "A-loop OUT",
         "orientation": "v",
         "pointpos": 0,
         "showlegend": true,
         "type": "box",
         "x": [
          "A-loop OUT",
          "A-loop OUT",
          "A-loop OUT",
          "A-loop IN",
          "A-loop OUT",
          "A-loop IN",
          "A-loop IN",
          "A-loop IN"
         ],
         "x0": " ",
         "xaxis": "x",
         "y": [
          1.587441212254172,
          4.492267980539257,
          4.667914787074487,
          5.750466927164656,
          6.340192152528258,
          9.894904962936076,
          9.93942535081895,
          10.192454421641289
         ],
         "y0": " ",
         "yaxis": "y"
        }
       ],
       "layout": {
        "boxmode": "group",
        "legend": {
         "title": {
          "text": "Receptor Conformation Type"
         },
         "tracegroupgap": 0
        },
        "margin": {
         "t": 60
        },
        "template": {
         "data": {
          "bar": [
           {
            "error_x": {
             "color": "rgb(51,51,51)"
            },
            "error_y": {
             "color": "rgb(51,51,51)"
            },
            "marker": {
             "line": {
              "color": "rgb(237,237,237)",
              "width": 0.5
             },
             "pattern": {
              "fillmode": "overlay",
              "size": 10,
              "solidity": 0.2
             }
            },
            "type": "bar"
           }
          ],
          "barpolar": [
           {
            "marker": {
             "line": {
              "color": "rgb(237,237,237)",
              "width": 0.5
             },
             "pattern": {
              "fillmode": "overlay",
              "size": 10,
              "solidity": 0.2
             }
            },
            "type": "barpolar"
           }
          ],
          "carpet": [
           {
            "aaxis": {
             "endlinecolor": "rgb(51,51,51)",
             "gridcolor": "white",
             "linecolor": "white",
             "minorgridcolor": "white",
             "startlinecolor": "rgb(51,51,51)"
            },
            "baxis": {
             "endlinecolor": "rgb(51,51,51)",
             "gridcolor": "white",
             "linecolor": "white",
             "minorgridcolor": "white",
             "startlinecolor": "rgb(51,51,51)"
            },
            "type": "carpet"
           }
          ],
          "choropleth": [
           {
            "colorbar": {
             "outlinewidth": 0,
             "tickcolor": "rgb(237,237,237)",
             "ticklen": 6,
             "ticks": "inside"
            },
            "type": "choropleth"
           }
          ],
          "contour": [
           {
            "colorbar": {
             "outlinewidth": 0,
             "tickcolor": "rgb(237,237,237)",
             "ticklen": 6,
             "ticks": "inside"
            },
            "colorscale": [
             [
              0,
              "rgb(20,44,66)"
             ],
             [
              1,
              "rgb(90,179,244)"
             ]
            ],
            "type": "contour"
           }
          ],
          "contourcarpet": [
           {
            "colorbar": {
             "outlinewidth": 0,
             "tickcolor": "rgb(237,237,237)",
             "ticklen": 6,
             "ticks": "inside"
            },
            "type": "contourcarpet"
           }
          ],
          "heatmap": [
           {
            "colorbar": {
             "outlinewidth": 0,
             "tickcolor": "rgb(237,237,237)",
             "ticklen": 6,
             "ticks": "inside"
            },
            "colorscale": [
             [
              0,
              "rgb(20,44,66)"
             ],
             [
              1,
              "rgb(90,179,244)"
             ]
            ],
            "type": "heatmap"
           }
          ],
          "heatmapgl": [
           {
            "colorbar": {
             "outlinewidth": 0,
             "tickcolor": "rgb(237,237,237)",
             "ticklen": 6,
             "ticks": "inside"
            },
            "colorscale": [
             [
              0,
              "rgb(20,44,66)"
             ],
             [
              1,
              "rgb(90,179,244)"
             ]
            ],
            "type": "heatmapgl"
           }
          ],
          "histogram": [
           {
            "marker": {
             "pattern": {
              "fillmode": "overlay",
              "size": 10,
              "solidity": 0.2
             }
            },
            "type": "histogram"
           }
          ],
          "histogram2d": [
           {
            "colorbar": {
             "outlinewidth": 0,
             "tickcolor": "rgb(237,237,237)",
             "ticklen": 6,
             "ticks": "inside"
            },
            "colorscale": [
             [
              0,
              "rgb(20,44,66)"
             ],
             [
              1,
              "rgb(90,179,244)"
             ]
            ],
            "type": "histogram2d"
           }
          ],
          "histogram2dcontour": [
           {
            "colorbar": {
             "outlinewidth": 0,
             "tickcolor": "rgb(237,237,237)",
             "ticklen": 6,
             "ticks": "inside"
            },
            "colorscale": [
             [
              0,
              "rgb(20,44,66)"
             ],
             [
              1,
              "rgb(90,179,244)"
             ]
            ],
            "type": "histogram2dcontour"
           }
          ],
          "mesh3d": [
           {
            "colorbar": {
             "outlinewidth": 0,
             "tickcolor": "rgb(237,237,237)",
             "ticklen": 6,
             "ticks": "inside"
            },
            "type": "mesh3d"
           }
          ],
          "parcoords": [
           {
            "line": {
             "colorbar": {
              "outlinewidth": 0,
              "tickcolor": "rgb(237,237,237)",
              "ticklen": 6,
              "ticks": "inside"
             }
            },
            "type": "parcoords"
           }
          ],
          "pie": [
           {
            "automargin": true,
            "type": "pie"
           }
          ],
          "scatter": [
           {
            "fillpattern": {
             "fillmode": "overlay",
             "size": 10,
             "solidity": 0.2
            },
            "type": "scatter"
           }
          ],
          "scatter3d": [
           {
            "line": {
             "colorbar": {
              "outlinewidth": 0,
              "tickcolor": "rgb(237,237,237)",
              "ticklen": 6,
              "ticks": "inside"
             }
            },
            "marker": {
             "colorbar": {
              "outlinewidth": 0,
              "tickcolor": "rgb(237,237,237)",
              "ticklen": 6,
              "ticks": "inside"
             }
            },
            "type": "scatter3d"
           }
          ],
          "scattercarpet": [
           {
            "marker": {
             "colorbar": {
              "outlinewidth": 0,
              "tickcolor": "rgb(237,237,237)",
              "ticklen": 6,
              "ticks": "inside"
             }
            },
            "type": "scattercarpet"
           }
          ],
          "scattergeo": [
           {
            "marker": {
             "colorbar": {
              "outlinewidth": 0,
              "tickcolor": "rgb(237,237,237)",
              "ticklen": 6,
              "ticks": "inside"
             }
            },
            "type": "scattergeo"
           }
          ],
          "scattergl": [
           {
            "marker": {
             "colorbar": {
              "outlinewidth": 0,
              "tickcolor": "rgb(237,237,237)",
              "ticklen": 6,
              "ticks": "inside"
             }
            },
            "type": "scattergl"
           }
          ],
          "scattermapbox": [
           {
            "marker": {
             "colorbar": {
              "outlinewidth": 0,
              "tickcolor": "rgb(237,237,237)",
              "ticklen": 6,
              "ticks": "inside"
             }
            },
            "type": "scattermapbox"
           }
          ],
          "scatterpolar": [
           {
            "marker": {
             "colorbar": {
              "outlinewidth": 0,
              "tickcolor": "rgb(237,237,237)",
              "ticklen": 6,
              "ticks": "inside"
             }
            },
            "type": "scatterpolar"
           }
          ],
          "scatterpolargl": [
           {
            "marker": {
             "colorbar": {
              "outlinewidth": 0,
              "tickcolor": "rgb(237,237,237)",
              "ticklen": 6,
              "ticks": "inside"
             }
            },
            "type": "scatterpolargl"
           }
          ],
          "scatterternary": [
           {
            "marker": {
             "colorbar": {
              "outlinewidth": 0,
              "tickcolor": "rgb(237,237,237)",
              "ticklen": 6,
              "ticks": "inside"
             }
            },
            "type": "scatterternary"
           }
          ],
          "surface": [
           {
            "colorbar": {
             "outlinewidth": 0,
             "tickcolor": "rgb(237,237,237)",
             "ticklen": 6,
             "ticks": "inside"
            },
            "colorscale": [
             [
              0,
              "rgb(20,44,66)"
             ],
             [
              1,
              "rgb(90,179,244)"
             ]
            ],
            "type": "surface"
           }
          ],
          "table": [
           {
            "cells": {
             "fill": {
              "color": "rgb(237,237,237)"
             },
             "line": {
              "color": "white"
             }
            },
            "header": {
             "fill": {
              "color": "rgb(217,217,217)"
             },
             "line": {
              "color": "white"
             }
            },
            "type": "table"
           }
          ]
         },
         "layout": {
          "annotationdefaults": {
           "arrowhead": 0,
           "arrowwidth": 1
          },
          "autotypenumbers": "strict",
          "coloraxis": {
           "colorbar": {
            "outlinewidth": 0,
            "tickcolor": "rgb(237,237,237)",
            "ticklen": 6,
            "ticks": "inside"
           }
          },
          "colorscale": {
           "sequential": [
            [
             0,
             "rgb(20,44,66)"
            ],
            [
             1,
             "rgb(90,179,244)"
            ]
           ],
           "sequentialminus": [
            [
             0,
             "rgb(20,44,66)"
            ],
            [
             1,
             "rgb(90,179,244)"
            ]
           ]
          },
          "colorway": [
           "#F8766D",
           "#A3A500",
           "#00BF7D",
           "#00B0F6",
           "#E76BF3"
          ],
          "font": {
           "color": "rgb(51,51,51)"
          },
          "geo": {
           "bgcolor": "white",
           "lakecolor": "white",
           "landcolor": "rgb(237,237,237)",
           "showlakes": true,
           "showland": true,
           "subunitcolor": "white"
          },
          "hoverlabel": {
           "align": "left"
          },
          "hovermode": "closest",
          "paper_bgcolor": "white",
          "plot_bgcolor": "rgb(237,237,237)",
          "polar": {
           "angularaxis": {
            "gridcolor": "white",
            "linecolor": "white",
            "showgrid": true,
            "tickcolor": "rgb(51,51,51)",
            "ticks": "outside"
           },
           "bgcolor": "rgb(237,237,237)",
           "radialaxis": {
            "gridcolor": "white",
            "linecolor": "white",
            "showgrid": true,
            "tickcolor": "rgb(51,51,51)",
            "ticks": "outside"
           }
          },
          "scene": {
           "xaxis": {
            "backgroundcolor": "rgb(237,237,237)",
            "gridcolor": "white",
            "gridwidth": 2,
            "linecolor": "white",
            "showbackground": true,
            "showgrid": true,
            "tickcolor": "rgb(51,51,51)",
            "ticks": "outside",
            "zerolinecolor": "white"
           },
           "yaxis": {
            "backgroundcolor": "rgb(237,237,237)",
            "gridcolor": "white",
            "gridwidth": 2,
            "linecolor": "white",
            "showbackground": true,
            "showgrid": true,
            "tickcolor": "rgb(51,51,51)",
            "ticks": "outside",
            "zerolinecolor": "white"
           },
           "zaxis": {
            "backgroundcolor": "rgb(237,237,237)",
            "gridcolor": "white",
            "gridwidth": 2,
            "linecolor": "white",
            "showbackground": true,
            "showgrid": true,
            "tickcolor": "rgb(51,51,51)",
            "ticks": "outside",
            "zerolinecolor": "white"
           }
          },
          "shapedefaults": {
           "fillcolor": "black",
           "line": {
            "width": 0
           },
           "opacity": 0.3
          },
          "ternary": {
           "aaxis": {
            "gridcolor": "white",
            "linecolor": "white",
            "showgrid": true,
            "tickcolor": "rgb(51,51,51)",
            "ticks": "outside"
           },
           "baxis": {
            "gridcolor": "white",
            "linecolor": "white",
            "showgrid": true,
            "tickcolor": "rgb(51,51,51)",
            "ticks": "outside"
           },
           "bgcolor": "rgb(237,237,237)",
           "caxis": {
            "gridcolor": "white",
            "linecolor": "white",
            "showgrid": true,
            "tickcolor": "rgb(51,51,51)",
            "ticks": "outside"
           }
          },
          "xaxis": {
           "automargin": true,
           "gridcolor": "white",
           "linecolor": "white",
           "showgrid": true,
           "tickcolor": "rgb(51,51,51)",
           "ticks": "outside",
           "title": {
            "standoff": 15
           },
           "zerolinecolor": "white"
          },
          "yaxis": {
           "automargin": true,
           "gridcolor": "white",
           "linecolor": "white",
           "showgrid": true,
           "tickcolor": "rgb(51,51,51)",
           "ticks": "outside",
           "title": {
            "standoff": 15
           },
           "zerolinecolor": "white"
          }
         }
        },
        "xaxis": {
         "anchor": "y",
         "domain": [
          0,
          1
         ],
         "title": {
          "text": "Ligand Type"
         }
        },
        "yaxis": {
         "anchor": "x",
         "domain": [
          0,
          1
         ],
         "title": {
          "text": "Best in Top 10 RMSD"
         }
        }
       }
      },
      "text/html": [
       "<div>                            <div id=\"9eb24a19-1460-4054-a0e7-cca69f10b9f6\" class=\"plotly-graph-div\" style=\"height:525px; width:100%;\"></div>            <script type=\"text/javascript\">                require([\"plotly\"], function(Plotly) {                    window.PLOTLYENV=window.PLOTLYENV || {};                                    if (document.getElementById(\"9eb24a19-1460-4054-a0e7-cca69f10b9f6\")) {                    Plotly.newPlot(                        \"9eb24a19-1460-4054-a0e7-cca69f10b9f6\",                        [{\"alignmentgroup\":\"True\",\"boxpoints\":\"all\",\"hovertemplate\":\"Receptor Conformation Type=A-loop IN\\u003cbr\\u003eLigand Type=%{x}\\u003cbr\\u003eBest in Top 10 RMSD=%{y}\\u003cextra\\u003e\\u003c\\u002fextra\\u003e\",\"legendgroup\":\"A-loop IN\",\"marker\":{\"color\":\"#FF6C90\",\"size\":10},\"name\":\"A-loop IN\",\"notched\":false,\"offsetgroup\":\"A-loop IN\",\"orientation\":\"v\",\"showlegend\":true,\"x\":[\"A-loop IN\",\"A-loop OUT\",\"A-loop OUT\",\"A-loop IN\",\"A-loop IN\",\"A-loop IN\",\"A-loop IN\"],\"x0\":\" \",\"xaxis\":\"x\",\"y\":[1.8444754078776728,3.524417482243753,5.173122122151178,5.590707582601473,6.888610222135857,10.675496967121989,11.553437789680256],\"y0\":\" \",\"yaxis\":\"y\",\"type\":\"box\",\"pointpos\":0,\"jitter\":1,\"line\":{\"color\":\"rgba(0,0,0,0)\"},\"fillcolor\":\"rgba(0,0,0,0)\"},{\"alignmentgroup\":\"True\",\"boxpoints\":\"all\",\"hovertemplate\":\"Receptor Conformation Type=A-loop OUT\\u003cbr\\u003eLigand Type=%{x}\\u003cbr\\u003eBest in Top 10 RMSD=%{y}\\u003cextra\\u003e\\u003c\\u002fextra\\u003e\",\"legendgroup\":\"A-loop OUT\",\"marker\":{\"color\":\"#00B0F6\",\"size\":10},\"name\":\"A-loop OUT\",\"notched\":false,\"offsetgroup\":\"A-loop OUT\",\"orientation\":\"v\",\"showlegend\":true,\"x\":[\"A-loop OUT\",\"A-loop OUT\",\"A-loop OUT\",\"A-loop IN\",\"A-loop OUT\",\"A-loop IN\",\"A-loop IN\",\"A-loop IN\"],\"x0\":\" \",\"xaxis\":\"x\",\"y\":[1.587441212254172,4.492267980539257,4.667914787074487,5.750466927164656,6.340192152528258,9.894904962936076,9.93942535081895,10.192454421641289],\"y0\":\" \",\"yaxis\":\"y\",\"type\":\"box\",\"pointpos\":0,\"line\":{\"color\":\"rgba(0,0,0,0)\"},\"fillcolor\":\"rgba(0,0,0,0)\"}],                        {\"template\":{\"data\":{\"barpolar\":[{\"marker\":{\"line\":{\"color\":\"rgb(237,237,237)\",\"width\":0.5},\"pattern\":{\"fillmode\":\"overlay\",\"size\":10,\"solidity\":0.2}},\"type\":\"barpolar\"}],\"bar\":[{\"error_x\":{\"color\":\"rgb(51,51,51)\"},\"error_y\":{\"color\":\"rgb(51,51,51)\"},\"marker\":{\"line\":{\"color\":\"rgb(237,237,237)\",\"width\":0.5},\"pattern\":{\"fillmode\":\"overlay\",\"size\":10,\"solidity\":0.2}},\"type\":\"bar\"}],\"carpet\":[{\"aaxis\":{\"endlinecolor\":\"rgb(51,51,51)\",\"gridcolor\":\"white\",\"linecolor\":\"white\",\"minorgridcolor\":\"white\",\"startlinecolor\":\"rgb(51,51,51)\"},\"baxis\":{\"endlinecolor\":\"rgb(51,51,51)\",\"gridcolor\":\"white\",\"linecolor\":\"white\",\"minorgridcolor\":\"white\",\"startlinecolor\":\"rgb(51,51,51)\"},\"type\":\"carpet\"}],\"choropleth\":[{\"colorbar\":{\"outlinewidth\":0,\"tickcolor\":\"rgb(237,237,237)\",\"ticklen\":6,\"ticks\":\"inside\"},\"type\":\"choropleth\"}],\"contourcarpet\":[{\"colorbar\":{\"outlinewidth\":0,\"tickcolor\":\"rgb(237,237,237)\",\"ticklen\":6,\"ticks\":\"inside\"},\"type\":\"contourcarpet\"}],\"contour\":[{\"colorbar\":{\"outlinewidth\":0,\"tickcolor\":\"rgb(237,237,237)\",\"ticklen\":6,\"ticks\":\"inside\"},\"colorscale\":[[0,\"rgb(20,44,66)\"],[1,\"rgb(90,179,244)\"]],\"type\":\"contour\"}],\"heatmapgl\":[{\"colorbar\":{\"outlinewidth\":0,\"tickcolor\":\"rgb(237,237,237)\",\"ticklen\":6,\"ticks\":\"inside\"},\"colorscale\":[[0,\"rgb(20,44,66)\"],[1,\"rgb(90,179,244)\"]],\"type\":\"heatmapgl\"}],\"heatmap\":[{\"colorbar\":{\"outlinewidth\":0,\"tickcolor\":\"rgb(237,237,237)\",\"ticklen\":6,\"ticks\":\"inside\"},\"colorscale\":[[0,\"rgb(20,44,66)\"],[1,\"rgb(90,179,244)\"]],\"type\":\"heatmap\"}],\"histogram2dcontour\":[{\"colorbar\":{\"outlinewidth\":0,\"tickcolor\":\"rgb(237,237,237)\",\"ticklen\":6,\"ticks\":\"inside\"},\"colorscale\":[[0,\"rgb(20,44,66)\"],[1,\"rgb(90,179,244)\"]],\"type\":\"histogram2dcontour\"}],\"histogram2d\":[{\"colorbar\":{\"outlinewidth\":0,\"tickcolor\":\"rgb(237,237,237)\",\"ticklen\":6,\"ticks\":\"inside\"},\"colorscale\":[[0,\"rgb(20,44,66)\"],[1,\"rgb(90,179,244)\"]],\"type\":\"histogram2d\"}],\"histogram\":[{\"marker\":{\"pattern\":{\"fillmode\":\"overlay\",\"size\":10,\"solidity\":0.2}},\"type\":\"histogram\"}],\"mesh3d\":[{\"colorbar\":{\"outlinewidth\":0,\"tickcolor\":\"rgb(237,237,237)\",\"ticklen\":6,\"ticks\":\"inside\"},\"type\":\"mesh3d\"}],\"parcoords\":[{\"line\":{\"colorbar\":{\"outlinewidth\":0,\"tickcolor\":\"rgb(237,237,237)\",\"ticklen\":6,\"ticks\":\"inside\"}},\"type\":\"parcoords\"}],\"pie\":[{\"automargin\":true,\"type\":\"pie\"}],\"scatter3d\":[{\"line\":{\"colorbar\":{\"outlinewidth\":0,\"tickcolor\":\"rgb(237,237,237)\",\"ticklen\":6,\"ticks\":\"inside\"}},\"marker\":{\"colorbar\":{\"outlinewidth\":0,\"tickcolor\":\"rgb(237,237,237)\",\"ticklen\":6,\"ticks\":\"inside\"}},\"type\":\"scatter3d\"}],\"scattercarpet\":[{\"marker\":{\"colorbar\":{\"outlinewidth\":0,\"tickcolor\":\"rgb(237,237,237)\",\"ticklen\":6,\"ticks\":\"inside\"}},\"type\":\"scattercarpet\"}],\"scattergeo\":[{\"marker\":{\"colorbar\":{\"outlinewidth\":0,\"tickcolor\":\"rgb(237,237,237)\",\"ticklen\":6,\"ticks\":\"inside\"}},\"type\":\"scattergeo\"}],\"scattergl\":[{\"marker\":{\"colorbar\":{\"outlinewidth\":0,\"tickcolor\":\"rgb(237,237,237)\",\"ticklen\":6,\"ticks\":\"inside\"}},\"type\":\"scattergl\"}],\"scattermapbox\":[{\"marker\":{\"colorbar\":{\"outlinewidth\":0,\"tickcolor\":\"rgb(237,237,237)\",\"ticklen\":6,\"ticks\":\"inside\"}},\"type\":\"scattermapbox\"}],\"scatterpolargl\":[{\"marker\":{\"colorbar\":{\"outlinewidth\":0,\"tickcolor\":\"rgb(237,237,237)\",\"ticklen\":6,\"ticks\":\"inside\"}},\"type\":\"scatterpolargl\"}],\"scatterpolar\":[{\"marker\":{\"colorbar\":{\"outlinewidth\":0,\"tickcolor\":\"rgb(237,237,237)\",\"ticklen\":6,\"ticks\":\"inside\"}},\"type\":\"scatterpolar\"}],\"scatter\":[{\"fillpattern\":{\"fillmode\":\"overlay\",\"size\":10,\"solidity\":0.2},\"type\":\"scatter\"}],\"scatterternary\":[{\"marker\":{\"colorbar\":{\"outlinewidth\":0,\"tickcolor\":\"rgb(237,237,237)\",\"ticklen\":6,\"ticks\":\"inside\"}},\"type\":\"scatterternary\"}],\"surface\":[{\"colorbar\":{\"outlinewidth\":0,\"tickcolor\":\"rgb(237,237,237)\",\"ticklen\":6,\"ticks\":\"inside\"},\"colorscale\":[[0,\"rgb(20,44,66)\"],[1,\"rgb(90,179,244)\"]],\"type\":\"surface\"}],\"table\":[{\"cells\":{\"fill\":{\"color\":\"rgb(237,237,237)\"},\"line\":{\"color\":\"white\"}},\"header\":{\"fill\":{\"color\":\"rgb(217,217,217)\"},\"line\":{\"color\":\"white\"}},\"type\":\"table\"}]},\"layout\":{\"annotationdefaults\":{\"arrowhead\":0,\"arrowwidth\":1},\"autotypenumbers\":\"strict\",\"coloraxis\":{\"colorbar\":{\"outlinewidth\":0,\"tickcolor\":\"rgb(237,237,237)\",\"ticklen\":6,\"ticks\":\"inside\"}},\"colorscale\":{\"sequential\":[[0,\"rgb(20,44,66)\"],[1,\"rgb(90,179,244)\"]],\"sequentialminus\":[[0,\"rgb(20,44,66)\"],[1,\"rgb(90,179,244)\"]]},\"colorway\":[\"#F8766D\",\"#A3A500\",\"#00BF7D\",\"#00B0F6\",\"#E76BF3\"],\"font\":{\"color\":\"rgb(51,51,51)\"},\"geo\":{\"bgcolor\":\"white\",\"lakecolor\":\"white\",\"landcolor\":\"rgb(237,237,237)\",\"showlakes\":true,\"showland\":true,\"subunitcolor\":\"white\"},\"hoverlabel\":{\"align\":\"left\"},\"hovermode\":\"closest\",\"paper_bgcolor\":\"white\",\"plot_bgcolor\":\"rgb(237,237,237)\",\"polar\":{\"angularaxis\":{\"gridcolor\":\"white\",\"linecolor\":\"white\",\"showgrid\":true,\"tickcolor\":\"rgb(51,51,51)\",\"ticks\":\"outside\"},\"bgcolor\":\"rgb(237,237,237)\",\"radialaxis\":{\"gridcolor\":\"white\",\"linecolor\":\"white\",\"showgrid\":true,\"tickcolor\":\"rgb(51,51,51)\",\"ticks\":\"outside\"}},\"scene\":{\"xaxis\":{\"backgroundcolor\":\"rgb(237,237,237)\",\"gridcolor\":\"white\",\"gridwidth\":2,\"linecolor\":\"white\",\"showbackground\":true,\"showgrid\":true,\"tickcolor\":\"rgb(51,51,51)\",\"ticks\":\"outside\",\"zerolinecolor\":\"white\"},\"yaxis\":{\"backgroundcolor\":\"rgb(237,237,237)\",\"gridcolor\":\"white\",\"gridwidth\":2,\"linecolor\":\"white\",\"showbackground\":true,\"showgrid\":true,\"tickcolor\":\"rgb(51,51,51)\",\"ticks\":\"outside\",\"zerolinecolor\":\"white\"},\"zaxis\":{\"backgroundcolor\":\"rgb(237,237,237)\",\"gridcolor\":\"white\",\"gridwidth\":2,\"linecolor\":\"white\",\"showbackground\":true,\"showgrid\":true,\"tickcolor\":\"rgb(51,51,51)\",\"ticks\":\"outside\",\"zerolinecolor\":\"white\"}},\"shapedefaults\":{\"fillcolor\":\"black\",\"line\":{\"width\":0},\"opacity\":0.3},\"ternary\":{\"aaxis\":{\"gridcolor\":\"white\",\"linecolor\":\"white\",\"showgrid\":true,\"tickcolor\":\"rgb(51,51,51)\",\"ticks\":\"outside\"},\"baxis\":{\"gridcolor\":\"white\",\"linecolor\":\"white\",\"showgrid\":true,\"tickcolor\":\"rgb(51,51,51)\",\"ticks\":\"outside\"},\"bgcolor\":\"rgb(237,237,237)\",\"caxis\":{\"gridcolor\":\"white\",\"linecolor\":\"white\",\"showgrid\":true,\"tickcolor\":\"rgb(51,51,51)\",\"ticks\":\"outside\"}},\"xaxis\":{\"automargin\":true,\"gridcolor\":\"white\",\"linecolor\":\"white\",\"showgrid\":true,\"tickcolor\":\"rgb(51,51,51)\",\"ticks\":\"outside\",\"title\":{\"standoff\":15},\"zerolinecolor\":\"white\"},\"yaxis\":{\"automargin\":true,\"gridcolor\":\"white\",\"linecolor\":\"white\",\"showgrid\":true,\"tickcolor\":\"rgb(51,51,51)\",\"ticks\":\"outside\",\"title\":{\"standoff\":15},\"zerolinecolor\":\"white\"}}},\"xaxis\":{\"anchor\":\"y\",\"domain\":[0.0,1.0],\"title\":{\"text\":\"Ligand Type\"}},\"yaxis\":{\"anchor\":\"x\",\"domain\":[0.0,1.0],\"title\":{\"text\":\"Best in Top 10 RMSD\"}},\"legend\":{\"title\":{\"text\":\"Receptor Conformation Type\"},\"tracegroupgap\":0},\"margin\":{\"t\":60},\"boxmode\":\"group\"},                        {\"responsive\": true}                    ).then(function(){\n",
       "                            \n",
       "var gd = document.getElementById('9eb24a19-1460-4054-a0e7-cca69f10b9f6');\n",
       "var x = new MutationObserver(function (mutations, observer) {{\n",
       "        var display = window.getComputedStyle(gd).display;\n",
       "        if (!display || display === 'none') {{\n",
       "            console.log([gd, 'removed!']);\n",
       "            Plotly.purge(gd);\n",
       "            observer.disconnect();\n",
       "        }}\n",
       "}});\n",
       "\n",
       "// Listen for the removal of the full notebook cells\n",
       "var notebookContainer = gd.closest('#notebook-container');\n",
       "if (notebookContainer) {{\n",
       "    x.observe(notebookContainer, {childList: true});\n",
       "}}\n",
       "\n",
       "// Listen for the clearing of the current output cell\n",
       "var outputEl = gd.closest('.output');\n",
       "if (outputEl) {{\n",
       "    x.observe(outputEl, {childList: true});\n",
       "}}\n",
       "\n",
       "                        })                };                });            </script>        </div>"
      ]
     },
     "metadata": {},
     "output_type": "display_data"
    }
   ],
   "source": [
    "fig.show()"
   ]
  },
  {
   "cell_type": "code",
   "execution_count": 1,
   "id": "abe357ba",
   "metadata": {},
   "outputs": [],
   "source": [
    "import plotly.io as pio\n",
    "templ = pio.templates[\"ggplot2\"]"
   ]
  },
  {
   "cell_type": "code",
   "execution_count": 13,
   "id": "ec0ce41d",
   "metadata": {},
   "outputs": [
    {
     "data": {
      "text/plain": [
       "[[0, 'rgb(20,44,66)'], [1, 'rgb(90,179,244)']]"
      ]
     },
     "execution_count": 13,
     "metadata": {},
     "output_type": "execute_result"
    }
   ],
   "source": [
    "templ._orphan_props[\"layout\"][\"colorscale\"][\"sequential\"]"
   ]
  }
 ],
 "metadata": {
  "kernelspec": {
   "display_name": "Python 3 (ipykernel)",
   "language": "python",
   "name": "python3"
  },
  "language_info": {
   "codemirror_mode": {
    "name": "ipython",
    "version": 3
   },
   "file_extension": ".py",
   "mimetype": "text/x-python",
   "name": "python",
   "nbconvert_exporter": "python",
   "pygments_lexer": "ipython3",
   "version": "3.11.4"
  }
 },
 "nbformat": 4,
 "nbformat_minor": 5
}
